{
 "cells": [
  {
   "cell_type": "code",
   "execution_count": 1,
   "metadata": {
    "collapsed": true
   },
   "outputs": [],
   "source": [
    "model_name = \"previous_apps\""
   ]
  },
  {
   "cell_type": "code",
   "execution_count": 2,
   "metadata": {
    "collapsed": true
   },
   "outputs": [],
   "source": [
    "import numpy as np\n",
    "import pandas as pd\n",
    "import gc\n",
    "from time import time\n",
    "from contextlib import contextmanager\n",
    "from lightgbm import LGBMClassifier\n",
    "from sklearn.metrics import roc_auc_score, roc_curve\n",
    "from sklearn.model_selection import KFold, StratifiedKFold\n",
    "import matplotlib.pyplot as plt\n",
    "import seaborn as sns\n",
    "import warnings\n",
    "from sklearn.preprocessing import LabelEncoder,OneHotEncoder"
   ]
  },
  {
   "cell_type": "code",
   "execution_count": 3,
   "metadata": {
    "collapsed": true
   },
   "outputs": [],
   "source": [
    "timesheet = [time()]\n",
    "def timer(statement):\n",
    "    global timesheet\n",
    "    timesheet.append(time())\n",
    "    print statement+\" :\", (timesheet[-1]-timesheet[-2]),\"seconds\""
   ]
  },
  {
   "cell_type": "markdown",
   "metadata": {},
   "source": [
    "# Loading Data"
   ]
  },
  {
   "cell_type": "code",
   "execution_count": 4,
   "metadata": {
    "collapsed": true
   },
   "outputs": [],
   "source": [
    "previous_apps = pd.read_csv(\"../extractor/csv/previous_application_features_V1.csv\").dropna(axis=1, how=\"all\")\n",
    "\n",
    "train_id = pd.read_csv(\"../data/application_train.csv\", usecols = [\"SK_ID_CURR\",\"TARGET\"])\n",
    "test_id = pd.read_csv(\"../data/application_test.csv\", usecols = [\"SK_ID_CURR\"])\n",
    "\n",
    "previous_apps = previous_apps.merge(train_id, how = \"left\", on = \"SK_ID_CURR\")\n",
    "\n",
    "train = previous_apps.loc[previous_apps.TARGET.notnull()].reset_index(drop=True)\n",
    "test = previous_apps.loc[previous_apps.TARGET.isnull()].reset_index(drop=True)\n",
    "\n",
    "partial_train_id = train[[\"SK_ID_CURR\"]]\n",
    "partial_test_id = test[[\"SK_ID_CURR\"]]\n",
    "target =train.TARGET\n",
    "\n",
    "train.drop([\"SK_ID_CURR\", \"TARGET\"], axis=1, inplace=True)\n",
    "test.drop([\"SK_ID_CURR\"], axis=1, inplace = True)"
   ]
  },
  {
   "cell_type": "markdown",
   "metadata": {},
   "source": [
    "# Defining Model"
   ]
  },
  {
   "cell_type": "code",
   "execution_count": 5,
   "metadata": {
    "collapsed": true
   },
   "outputs": [],
   "source": [
    "import lightgbm as lgb\n",
    "def model_tree(x_train, x_test, y_train, y_test, test, meta_train, meta_test,train_index, test_index,fold_id):\n",
    "    dtrain = lgb.Dataset(x_train, label=y_train)\n",
    "    dval = lgb.Dataset(x_test, label=y_test)\n",
    "    params = {\n",
    "        'num_leaves': 32, #32\n",
    "        'reg_alpha': 0.04, \n",
    "        'n_jobs': -1, \n",
    "        'colsample_bytree': 0.9497036, \n",
    "        'silent': -1, \n",
    "        'subsample_for_bin': 200000, \n",
    "        'subsample_freq': 1, \n",
    "        'learning_rate': 0.02, # 0.02\n",
    "        'boosting_type': 'gbdt', \n",
    "        'nthread': 8, \n",
    "        'min_child_weight': 40, \n",
    "        'min_split_gain': 0.0222415, \n",
    "        'n_estimators': 10000, \n",
    "        'subsample': 0.8715623, \n",
    "        'reg_lambda': 10, \n",
    "        'objective': \"binary\", \n",
    "        'verbose': -1, \n",
    "        'min_child_samples': 20, \n",
    "        'max_depth': 8, #8\n",
    "        'class_weight': None,\n",
    "        \"bagging_seed\" : 3143,\n",
    "        \"seed\":1343,\n",
    "        \"metric\":\"auc\"\n",
    "    }\n",
    "    model = lgb.train(params, dtrain, num_boost_round=5000,valid_sets=[dtrain, dval], early_stopping_rounds=200, verbose_eval=100)\n",
    "    meta_train[test_index] = model.predict(x_test, num_iteration=model.best_iteration or 5000)\n",
    "    meta_test.append(model.predict(test, num_iteration=model.best_iteration or 5000))\n",
    "\n",
    "    # Calculate Feature Importance\n",
    "    global feature_importance\n",
    "    gain = model.feature_importance('gain')\n",
    "    fold_feature_importance = pd.DataFrame({'feature':model.feature_name(), 'split':model.feature_importance('split'), 'gain':100 * gain / gain.sum()})\n",
    "    feature_importance = feature_importance.append(fold_feature_importance, ignore_index=True) "
   ]
  },
  {
   "cell_type": "markdown",
   "metadata": {},
   "source": [
    "# Training Model"
   ]
  },
  {
   "cell_type": "code",
   "execution_count": 6,
   "metadata": {},
   "outputs": [
    {
     "name": "stderr",
     "output_type": "stream",
     "text": [
      "/home/sakhtar0092/anaconda2/lib/python2.7/site-packages/lightgbm/engine.py:99: UserWarning: Found `n_estimators` in params. Will use it instead of argument\n",
      "  warnings.warn(\"Found `{}` in params. Will use it instead of argument\".format(alias))\n",
      "/home/sakhtar0092/anaconda2/lib/python2.7/site-packages/lightgbm/basic.py:657: UserWarning: silent keyword has been found in `params` and will be ignored. Please use silent argument of the Dataset constructor to pass this parameter.\n",
      "  'Please use {0} argument of the Dataset constructor to pass this parameter.'.format(key))\n"
     ]
    },
    {
     "name": "stdout",
     "output_type": "stream",
     "text": [
      "Training until validation scores don't improve for 200 rounds.\n",
      "[100]\ttraining's auc: 0.667327\tvalid_1's auc: 0.648883\n",
      "[200]\ttraining's auc: 0.688627\tvalid_1's auc: 0.662541\n",
      "[300]\ttraining's auc: 0.704263\tvalid_1's auc: 0.668875\n",
      "[400]\ttraining's auc: 0.716136\tvalid_1's auc: 0.67151\n",
      "[500]\ttraining's auc: 0.725774\tvalid_1's auc: 0.672609\n",
      "[600]\ttraining's auc: 0.734082\tvalid_1's auc: 0.672795\n",
      "[700]\ttraining's auc: 0.741729\tvalid_1's auc: 0.672627\n",
      "[800]\ttraining's auc: 0.74879\tvalid_1's auc: 0.672451\n",
      "Early stopping, best iteration is:\n",
      "[640]\ttraining's auc: 0.737161\tvalid_1's auc: 0.673012\n",
      "Training until validation scores don't improve for 200 rounds.\n",
      "[100]\ttraining's auc: 0.667473\tvalid_1's auc: 0.648391\n",
      "[200]\ttraining's auc: 0.68856\tvalid_1's auc: 0.66064\n",
      "[300]\ttraining's auc: 0.703963\tvalid_1's auc: 0.666348\n",
      "[400]\ttraining's auc: 0.715844\tvalid_1's auc: 0.66856\n",
      "[500]\ttraining's auc: 0.725438\tvalid_1's auc: 0.669878\n",
      "[600]\ttraining's auc: 0.733782\tvalid_1's auc: 0.670025\n",
      "[700]\ttraining's auc: 0.741103\tvalid_1's auc: 0.670063\n",
      "[800]\ttraining's auc: 0.748326\tvalid_1's auc: 0.669856\n",
      "Early stopping, best iteration is:\n",
      "[679]\ttraining's auc: 0.739691\tvalid_1's auc: 0.670238\n",
      "Training until validation scores don't improve for 200 rounds.\n",
      "[100]\ttraining's auc: 0.667547\tvalid_1's auc: 0.644869\n",
      "[200]\ttraining's auc: 0.688732\tvalid_1's auc: 0.658646\n",
      "[300]\ttraining's auc: 0.704421\tvalid_1's auc: 0.665855\n",
      "[400]\ttraining's auc: 0.716135\tvalid_1's auc: 0.6688\n",
      "[500]\ttraining's auc: 0.725691\tvalid_1's auc: 0.670075\n",
      "[600]\ttraining's auc: 0.734061\tvalid_1's auc: 0.67123\n",
      "[700]\ttraining's auc: 0.741479\tvalid_1's auc: 0.67155\n",
      "[800]\ttraining's auc: 0.748682\tvalid_1's auc: 0.67188\n",
      "[900]\ttraining's auc: 0.75554\tvalid_1's auc: 0.67229\n",
      "[1000]\ttraining's auc: 0.762337\tvalid_1's auc: 0.672413\n",
      "[1100]\ttraining's auc: 0.768308\tvalid_1's auc: 0.672111\n",
      "Early stopping, best iteration is:\n",
      "[916]\ttraining's auc: 0.756693\tvalid_1's auc: 0.672477\n",
      "Training until validation scores don't improve for 200 rounds.\n",
      "[100]\ttraining's auc: 0.666961\tvalid_1's auc: 0.662458\n",
      "[200]\ttraining's auc: 0.688103\tvalid_1's auc: 0.671726\n",
      "[300]\ttraining's auc: 0.703734\tvalid_1's auc: 0.675913\n",
      "[400]\ttraining's auc: 0.716093\tvalid_1's auc: 0.677615\n",
      "[500]\ttraining's auc: 0.725949\tvalid_1's auc: 0.678104\n",
      "[600]\ttraining's auc: 0.734512\tvalid_1's auc: 0.678303\n",
      "[700]\ttraining's auc: 0.742148\tvalid_1's auc: 0.677967\n",
      "[800]\ttraining's auc: 0.74929\tvalid_1's auc: 0.677809\n",
      "Early stopping, best iteration is:\n",
      "[614]\ttraining's auc: 0.735675\tvalid_1's auc: 0.678385\n",
      "Training until validation scores don't improve for 200 rounds.\n",
      "[100]\ttraining's auc: 0.66655\tvalid_1's auc: 0.65262\n",
      "[200]\ttraining's auc: 0.68804\tvalid_1's auc: 0.666551\n",
      "[300]\ttraining's auc: 0.703334\tvalid_1's auc: 0.672466\n",
      "[400]\ttraining's auc: 0.715331\tvalid_1's auc: 0.675305\n",
      "[500]\ttraining's auc: 0.724837\tvalid_1's auc: 0.676294\n",
      "[600]\ttraining's auc: 0.733436\tvalid_1's auc: 0.676646\n",
      "[700]\ttraining's auc: 0.741439\tvalid_1's auc: 0.67666\n",
      "Early stopping, best iteration is:\n",
      "[574]\ttraining's auc: 0.731439\tvalid_1's auc: 0.676837\n",
      "Training until validation scores don't improve for 200 rounds.\n",
      "[100]\ttraining's auc: 0.667459\tvalid_1's auc: 0.657924\n",
      "[200]\ttraining's auc: 0.687743\tvalid_1's auc: 0.667572\n",
      "[300]\ttraining's auc: 0.703235\tvalid_1's auc: 0.673705\n",
      "[400]\ttraining's auc: 0.715219\tvalid_1's auc: 0.676894\n",
      "[500]\ttraining's auc: 0.724867\tvalid_1's auc: 0.678596\n",
      "[600]\ttraining's auc: 0.733266\tvalid_1's auc: 0.679537\n",
      "[700]\ttraining's auc: 0.740663\tvalid_1's auc: 0.680167\n",
      "[800]\ttraining's auc: 0.747722\tvalid_1's auc: 0.680317\n",
      "[900]\ttraining's auc: 0.754353\tvalid_1's auc: 0.680679\n",
      "[1000]\ttraining's auc: 0.760838\tvalid_1's auc: 0.680752\n",
      "[1100]\ttraining's auc: 0.767137\tvalid_1's auc: 0.680762\n",
      "[1200]\ttraining's auc: 0.77316\tvalid_1's auc: 0.680807\n",
      "[1300]\ttraining's auc: 0.779404\tvalid_1's auc: 0.680358\n",
      "Early stopping, best iteration is:\n",
      "[1163]\ttraining's auc: 0.770813\tvalid_1's auc: 0.681091\n",
      "Training until validation scores don't improve for 200 rounds.\n",
      "[100]\ttraining's auc: 0.666642\tvalid_1's auc: 0.652951\n",
      "[200]\ttraining's auc: 0.687001\tvalid_1's auc: 0.668127\n",
      "[300]\ttraining's auc: 0.702422\tvalid_1's auc: 0.675962\n",
      "[400]\ttraining's auc: 0.714827\tvalid_1's auc: 0.679632\n",
      "[500]\ttraining's auc: 0.724615\tvalid_1's auc: 0.681062\n",
      "[600]\ttraining's auc: 0.733191\tvalid_1's auc: 0.681523\n",
      "[700]\ttraining's auc: 0.741191\tvalid_1's auc: 0.682336\n",
      "[800]\ttraining's auc: 0.748204\tvalid_1's auc: 0.682592\n",
      "[900]\ttraining's auc: 0.75498\tvalid_1's auc: 0.682712\n",
      "[1000]\ttraining's auc: 0.761059\tvalid_1's auc: 0.682583\n",
      "[1100]\ttraining's auc: 0.7672\tvalid_1's auc: 0.682741\n",
      "Early stopping, best iteration is:\n",
      "[912]\ttraining's auc: 0.755568\tvalid_1's auc: 0.682881\n",
      "Training until validation scores don't improve for 200 rounds.\n",
      "[100]\ttraining's auc: 0.668101\tvalid_1's auc: 0.64349\n",
      "[200]\ttraining's auc: 0.689189\tvalid_1's auc: 0.65515\n",
      "[300]\ttraining's auc: 0.704782\tvalid_1's auc: 0.660746\n",
      "[400]\ttraining's auc: 0.716639\tvalid_1's auc: 0.66238\n",
      "[500]\ttraining's auc: 0.726355\tvalid_1's auc: 0.6634\n",
      "[600]\ttraining's auc: 0.734919\tvalid_1's auc: 0.664132\n",
      "[700]\ttraining's auc: 0.74255\tvalid_1's auc: 0.663971\n",
      "[800]\ttraining's auc: 0.749617\tvalid_1's auc: 0.66392\n",
      "Early stopping, best iteration is:\n",
      "[645]\ttraining's auc: 0.73848\tvalid_1's auc: 0.664196\n",
      "Training until validation scores don't improve for 200 rounds.\n",
      "[100]\ttraining's auc: 0.667432\tvalid_1's auc: 0.654736\n",
      "[200]\ttraining's auc: 0.688175\tvalid_1's auc: 0.666281\n",
      "[300]\ttraining's auc: 0.70381\tvalid_1's auc: 0.6721\n",
      "[400]\ttraining's auc: 0.71583\tvalid_1's auc: 0.675139\n",
      "[500]\ttraining's auc: 0.725323\tvalid_1's auc: 0.676504\n",
      "[600]\ttraining's auc: 0.733648\tvalid_1's auc: 0.677017\n",
      "[700]\ttraining's auc: 0.741244\tvalid_1's auc: 0.67735\n",
      "[800]\ttraining's auc: 0.748667\tvalid_1's auc: 0.677175\n",
      "[900]\ttraining's auc: 0.75547\tvalid_1's auc: 0.676853\n",
      "Early stopping, best iteration is:\n",
      "[758]\ttraining's auc: 0.745551\tvalid_1's auc: 0.677494\n",
      "Training until validation scores don't improve for 200 rounds.\n",
      "[100]\ttraining's auc: 0.665908\tvalid_1's auc: 0.659691\n",
      "[200]\ttraining's auc: 0.687402\tvalid_1's auc: 0.67189\n",
      "[300]\ttraining's auc: 0.703157\tvalid_1's auc: 0.67816\n",
      "[400]\ttraining's auc: 0.715032\tvalid_1's auc: 0.680793\n",
      "[500]\ttraining's auc: 0.724919\tvalid_1's auc: 0.682422\n",
      "[600]\ttraining's auc: 0.733037\tvalid_1's auc: 0.683022\n",
      "[700]\ttraining's auc: 0.740644\tvalid_1's auc: 0.683436\n",
      "[800]\ttraining's auc: 0.747544\tvalid_1's auc: 0.683604\n",
      "[900]\ttraining's auc: 0.754211\tvalid_1's auc: 0.683572\n",
      "[1000]\ttraining's auc: 0.760775\tvalid_1's auc: 0.68327\n",
      "[1100]\ttraining's auc: 0.766931\tvalid_1's auc: 0.683383\n",
      "Early stopping, best iteration is:\n",
      "[914]\ttraining's auc: 0.755157\tvalid_1's auc: 0.683709\n"
     ]
    },
    {
     "name": "stderr",
     "output_type": "stream",
     "text": [
      "/home/sakhtar0092/anaconda2/lib/python2.7/site-packages/ipykernel_launcher.py:12: SettingWithCopyWarning: \n",
      "A value is trying to be set on a copy of a slice from a DataFrame.\n",
      "Try using .loc[row_indexer,col_indexer] = value instead\n",
      "\n",
      "See the caveats in the documentation: http://pandas.pydata.org/pandas-docs/stable/indexing.html#indexing-view-versus-copy\n",
      "  if sys.path[0] == '':\n",
      "/home/sakhtar0092/anaconda2/lib/python2.7/site-packages/ipykernel_launcher.py:13: SettingWithCopyWarning: \n",
      "A value is trying to be set on a copy of a slice from a DataFrame.\n",
      "Try using .loc[row_indexer,col_indexer] = value instead\n",
      "\n",
      "See the caveats in the documentation: http://pandas.pydata.org/pandas-docs/stable/indexing.html#indexing-view-versus-copy\n",
      "  del sys.path[0]\n"
     ]
    }
   ],
   "source": [
    "meta_train = np.zeros(train.shape[0])\n",
    "meta_test = []\n",
    "feature_importance = pd.DataFrame(columns = [\"feature\",\"split\",\"gain\"])\n",
    "\n",
    "kf = StratifiedKFold(n_splits= 10, shuffle=True, random_state=47)\n",
    "for fold_id, (train_index, test_index) in enumerate(kf.split(train, target)):\n",
    "    x_train, x_test = train.iloc[train_index], train.iloc[test_index]\n",
    "    y_train, y_test = target[train_index], target[test_index]\n",
    "\n",
    "    model_tree(x_train, x_test, y_train, y_test, test, meta_train, meta_test,train_index, test_index,fold_id)\n",
    "\n",
    "partial_test_id[\"TARGET\"] = np.array(meta_test).T.mean(axis=1)\n",
    "partial_train_id[\"TARGET\"] = meta_train"
   ]
  },
  {
   "cell_type": "code",
   "execution_count": 7,
   "metadata": {
    "collapsed": true
   },
   "outputs": [],
   "source": [
    "train_id = train_id[[\"SK_ID_CURR\"]].merge(partial_train_id, how=\"left\", on=\"SK_ID_CURR\")\n",
    "test_id = test_id[[\"SK_ID_CURR\"]].merge(partial_test_id, how=\"left\", on=\"SK_ID_CURR\")\n",
    "\n",
    "train_id.to_csv(\"csv/{}_train.csv\".format(model_name), index=False)\n",
    "test_id.to_csv(\"csv/{}_test.csv\".format(model_name), index=False)"
   ]
  },
  {
   "cell_type": "markdown",
   "metadata": {},
   "source": [
    "# Get Feature Importance"
   ]
  },
  {
   "cell_type": "code",
   "execution_count": 8,
   "metadata": {
    "collapsed": true
   },
   "outputs": [],
   "source": [
    "# Print Feature Importance\n",
    "feature_importance.to_csv(\"csv/{}_all_fi.csv\".format(model_name), index = False)\n",
    "feature_importance = feature_importance.groupby(\"feature\")[[\"gain\",\"split\"]].mean().sort_values('gain', ascending=False).reset_index()\n",
    "\n",
    "plt.figure()\n",
    "feature_importance[['feature','gain']].head(60).plot(kind='barh', x='feature', y='gain', legend=False, figsize=(30, 100))\n",
    "plt.gcf().savefig('csv/{}.png'.format(model_name))\n"
   ]
  },
  {
   "cell_type": "code",
   "execution_count": null,
   "metadata": {
    "collapsed": true
   },
   "outputs": [],
   "source": []
  },
  {
   "cell_type": "code",
   "execution_count": null,
   "metadata": {
    "collapsed": true
   },
   "outputs": [],
   "source": []
  },
  {
   "cell_type": "code",
   "execution_count": null,
   "metadata": {
    "collapsed": true
   },
   "outputs": [],
   "source": []
  },
  {
   "cell_type": "code",
   "execution_count": null,
   "metadata": {
    "collapsed": true
   },
   "outputs": [],
   "source": []
  },
  {
   "cell_type": "code",
   "execution_count": null,
   "metadata": {
    "collapsed": true
   },
   "outputs": [],
   "source": []
  },
  {
   "cell_type": "code",
   "execution_count": null,
   "metadata": {
    "collapsed": true
   },
   "outputs": [],
   "source": []
  },
  {
   "cell_type": "code",
   "execution_count": null,
   "metadata": {
    "collapsed": true
   },
   "outputs": [],
   "source": []
  }
 ],
 "metadata": {
  "kernelspec": {
   "display_name": "Python 2",
   "language": "python",
   "name": "python2"
  },
  "language_info": {
   "codemirror_mode": {
    "name": "ipython",
    "version": 2
   },
   "file_extension": ".py",
   "mimetype": "text/x-python",
   "name": "python",
   "nbconvert_exporter": "python",
   "pygments_lexer": "ipython2",
   "version": "2.7.14"
  }
 },
 "nbformat": 4,
 "nbformat_minor": 2
}
