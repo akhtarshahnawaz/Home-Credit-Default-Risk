{
 "cells": [
  {
   "cell_type": "code",
   "execution_count": 1,
   "metadata": {
    "collapsed": true
   },
   "outputs": [],
   "source": [
    "model_name = \"pos_cash_balance\""
   ]
  },
  {
   "cell_type": "code",
   "execution_count": 2,
   "metadata": {
    "collapsed": true
   },
   "outputs": [],
   "source": [
    "import numpy as np\n",
    "import pandas as pd\n",
    "import gc\n",
    "from time import time\n",
    "from contextlib import contextmanager\n",
    "from lightgbm import LGBMClassifier\n",
    "from sklearn.metrics import roc_auc_score, roc_curve\n",
    "from sklearn.model_selection import KFold, StratifiedKFold\n",
    "import matplotlib.pyplot as plt\n",
    "import seaborn as sns\n",
    "import warnings\n",
    "from sklearn.preprocessing import LabelEncoder,OneHotEncoder"
   ]
  },
  {
   "cell_type": "code",
   "execution_count": 3,
   "metadata": {
    "collapsed": true
   },
   "outputs": [],
   "source": [
    "timesheet = [time()]\n",
    "def timer(statement):\n",
    "    global timesheet\n",
    "    timesheet.append(time())\n",
    "    print statement+\" :\", (timesheet[-1]-timesheet[-2]),\"seconds\""
   ]
  },
  {
   "cell_type": "markdown",
   "metadata": {},
   "source": [
    "# Loading Data"
   ]
  },
  {
   "cell_type": "code",
   "execution_count": 4,
   "metadata": {
    "collapsed": true
   },
   "outputs": [],
   "source": [
    "pos_cash_balance = pd.read_csv(\"../extractor/csv/pos_cash_features_V1.csv\").dropna(axis=1, how=\"all\")\n",
    "\n",
    "train_id = pd.read_csv(\"../data/application_train.csv\", usecols = [\"SK_ID_CURR\",\"TARGET\"])\n",
    "test_id = pd.read_csv(\"../data/application_test.csv\", usecols = [\"SK_ID_CURR\"])\n",
    "\n",
    "pos_cash_balance = pos_cash_balance.merge(train_id, how = \"left\", on = \"SK_ID_CURR\")\n",
    "\n",
    "train = pos_cash_balance.loc[pos_cash_balance.TARGET.notnull()].reset_index(drop=True)\n",
    "test = pos_cash_balance.loc[pos_cash_balance.TARGET.isnull()].reset_index(drop=True)\n",
    "\n",
    "partial_train_id = train[[\"SK_ID_CURR\"]]\n",
    "partial_test_id = test[[\"SK_ID_CURR\"]]\n",
    "target =train.TARGET\n",
    "\n",
    "train.drop([\"SK_ID_CURR\", \"TARGET\"], axis=1, inplace=True)\n",
    "test.drop([\"SK_ID_CURR\"], axis=1, inplace = True)"
   ]
  },
  {
   "cell_type": "markdown",
   "metadata": {},
   "source": [
    "# Defining Model"
   ]
  },
  {
   "cell_type": "code",
   "execution_count": 5,
   "metadata": {
    "collapsed": true
   },
   "outputs": [],
   "source": [
    "import lightgbm as lgb\n",
    "def model_tree(x_train, x_test, y_train, y_test, test, meta_train, meta_test,train_index, test_index,fold_id):\n",
    "    dtrain = lgb.Dataset(x_train, label=y_train)\n",
    "    dval = lgb.Dataset(x_test, label=y_test)\n",
    "    params = {\n",
    "        'num_leaves': 32, #32\n",
    "        'reg_alpha': 0.04, \n",
    "        'n_jobs': -1, \n",
    "        'colsample_bytree': 0.9497036, \n",
    "        'silent': -1, \n",
    "        'subsample_for_bin': 200000, \n",
    "        'subsample_freq': 1, \n",
    "        'learning_rate': 0.02, # 0.02\n",
    "        'boosting_type': 'gbdt', \n",
    "        'nthread': 8, \n",
    "        'min_child_weight': 40, \n",
    "        'min_split_gain': 0.0222415, \n",
    "        'n_estimators': 10000, \n",
    "        'subsample': 0.8715623, \n",
    "        'reg_lambda': 10, \n",
    "        'objective': \"binary\", \n",
    "        'verbose': -1, \n",
    "        'min_child_samples': 20, \n",
    "        'max_depth': 8, #8\n",
    "        'class_weight': None,\n",
    "        \"bagging_seed\" : 3143,\n",
    "        \"seed\":1343,\n",
    "        \"metric\":\"auc\"\n",
    "    }\n",
    "    model = lgb.train(params, dtrain, num_boost_round=5000,valid_sets=[dtrain, dval], early_stopping_rounds=200, verbose_eval=100)\n",
    "    meta_train[test_index] = model.predict(x_test, num_iteration=model.best_iteration or 5000)\n",
    "    meta_test.append(model.predict(test, num_iteration=model.best_iteration or 5000))\n",
    "\n",
    "    # Calculate Feature Importance\n",
    "    global feature_importance\n",
    "    gain = model.feature_importance('gain')\n",
    "    fold_feature_importance = pd.DataFrame({'feature':model.feature_name(), 'split':model.feature_importance('split'), 'gain':100 * gain / gain.sum()})\n",
    "    feature_importance = feature_importance.append(fold_feature_importance, ignore_index=True) "
   ]
  },
  {
   "cell_type": "markdown",
   "metadata": {},
   "source": [
    "# Training Model"
   ]
  },
  {
   "cell_type": "code",
   "execution_count": 6,
   "metadata": {},
   "outputs": [
    {
     "name": "stderr",
     "output_type": "stream",
     "text": [
      "/home/sakhtar0092/anaconda2/lib/python2.7/site-packages/lightgbm/engine.py:99: UserWarning: Found `n_estimators` in params. Will use it instead of argument\n",
      "  warnings.warn(\"Found `{}` in params. Will use it instead of argument\".format(alias))\n",
      "/home/sakhtar0092/anaconda2/lib/python2.7/site-packages/lightgbm/basic.py:657: UserWarning: silent keyword has been found in `params` and will be ignored. Please use silent argument of the Dataset constructor to pass this parameter.\n",
      "  'Please use {0} argument of the Dataset constructor to pass this parameter.'.format(key))\n"
     ]
    },
    {
     "name": "stdout",
     "output_type": "stream",
     "text": [
      "Training until validation scores don't improve for 200 rounds.\n",
      "[100]\ttraining's auc: 0.618761\tvalid_1's auc: 0.603436\n",
      "[200]\ttraining's auc: 0.635554\tvalid_1's auc: 0.606548\n",
      "[300]\ttraining's auc: 0.650244\tvalid_1's auc: 0.608588\n",
      "[400]\ttraining's auc: 0.661045\tvalid_1's auc: 0.609037\n",
      "[500]\ttraining's auc: 0.671146\tvalid_1's auc: 0.608497\n",
      "[600]\ttraining's auc: 0.679975\tvalid_1's auc: 0.608077\n",
      "Early stopping, best iteration is:\n",
      "[400]\ttraining's auc: 0.661045\tvalid_1's auc: 0.609037\n",
      "Training until validation scores don't improve for 200 rounds.\n",
      "[100]\ttraining's auc: 0.619534\tvalid_1's auc: 0.597403\n",
      "[200]\ttraining's auc: 0.635883\tvalid_1's auc: 0.599905\n",
      "[300]\ttraining's auc: 0.650882\tvalid_1's auc: 0.601608\n",
      "[400]\ttraining's auc: 0.662248\tvalid_1's auc: 0.601391\n",
      "[500]\ttraining's auc: 0.672437\tvalid_1's auc: 0.601322\n",
      "Early stopping, best iteration is:\n",
      "[338]\ttraining's auc: 0.655366\tvalid_1's auc: 0.60179\n",
      "Training until validation scores don't improve for 200 rounds.\n",
      "[100]\ttraining's auc: 0.617233\tvalid_1's auc: 0.607775\n",
      "[200]\ttraining's auc: 0.634342\tvalid_1's auc: 0.612493\n",
      "[300]\ttraining's auc: 0.64959\tvalid_1's auc: 0.613531\n",
      "[400]\ttraining's auc: 0.66119\tvalid_1's auc: 0.612757\n",
      "[500]\ttraining's auc: 0.671699\tvalid_1's auc: 0.612908\n",
      "Early stopping, best iteration is:\n",
      "[327]\ttraining's auc: 0.652886\tvalid_1's auc: 0.613599\n",
      "Training until validation scores don't improve for 200 rounds.\n",
      "[100]\ttraining's auc: 0.618744\tvalid_1's auc: 0.592853\n",
      "[200]\ttraining's auc: 0.636098\tvalid_1's auc: 0.597014\n",
      "[300]\ttraining's auc: 0.650971\tvalid_1's auc: 0.599264\n",
      "[400]\ttraining's auc: 0.662262\tvalid_1's auc: 0.599675\n",
      "[500]\ttraining's auc: 0.672904\tvalid_1's auc: 0.600206\n",
      "[600]\ttraining's auc: 0.681928\tvalid_1's auc: 0.600146\n",
      "Early stopping, best iteration is:\n",
      "[491]\ttraining's auc: 0.671889\tvalid_1's auc: 0.600438\n",
      "Training until validation scores don't improve for 200 rounds.\n",
      "[100]\ttraining's auc: 0.61824\tvalid_1's auc: 0.608879\n",
      "[200]\ttraining's auc: 0.63444\tvalid_1's auc: 0.611751\n",
      "[300]\ttraining's auc: 0.649413\tvalid_1's auc: 0.613029\n",
      "[400]\ttraining's auc: 0.661392\tvalid_1's auc: 0.612859\n",
      "[500]\ttraining's auc: 0.672032\tvalid_1's auc: 0.612232\n",
      "Early stopping, best iteration is:\n",
      "[331]\ttraining's auc: 0.653513\tvalid_1's auc: 0.613328\n",
      "Training until validation scores don't improve for 200 rounds.\n",
      "[100]\ttraining's auc: 0.618238\tvalid_1's auc: 0.607509\n",
      "[200]\ttraining's auc: 0.634813\tvalid_1's auc: 0.610867\n",
      "[300]\ttraining's auc: 0.64963\tvalid_1's auc: 0.611379\n",
      "[400]\ttraining's auc: 0.661349\tvalid_1's auc: 0.61114\n",
      "Early stopping, best iteration is:\n",
      "[235]\ttraining's auc: 0.640409\tvalid_1's auc: 0.611587\n",
      "Training until validation scores don't improve for 200 rounds.\n",
      "[100]\ttraining's auc: 0.617667\tvalid_1's auc: 0.605683\n",
      "[200]\ttraining's auc: 0.634934\tvalid_1's auc: 0.609338\n",
      "[300]\ttraining's auc: 0.650005\tvalid_1's auc: 0.609731\n",
      "[400]\ttraining's auc: 0.66213\tvalid_1's auc: 0.609952\n",
      "[500]\ttraining's auc: 0.672879\tvalid_1's auc: 0.609622\n",
      "[600]\ttraining's auc: 0.68193\tvalid_1's auc: 0.609294\n",
      "Early stopping, best iteration is:\n",
      "[416]\ttraining's auc: 0.663788\tvalid_1's auc: 0.610151\n",
      "Training until validation scores don't improve for 200 rounds.\n",
      "[100]\ttraining's auc: 0.61902\tvalid_1's auc: 0.59271\n",
      "[200]\ttraining's auc: 0.636055\tvalid_1's auc: 0.597111\n",
      "[300]\ttraining's auc: 0.650892\tvalid_1's auc: 0.598872\n",
      "[400]\ttraining's auc: 0.661767\tvalid_1's auc: 0.599351\n",
      "[500]\ttraining's auc: 0.672565\tvalid_1's auc: 0.599223\n",
      "[600]\ttraining's auc: 0.681528\tvalid_1's auc: 0.599601\n",
      "[700]\ttraining's auc: 0.690677\tvalid_1's auc: 0.599443\n",
      "[800]\ttraining's auc: 0.699432\tvalid_1's auc: 0.5991\n",
      "Early stopping, best iteration is:\n",
      "[655]\ttraining's auc: 0.686805\tvalid_1's auc: 0.599787\n",
      "Training until validation scores don't improve for 200 rounds.\n",
      "[100]\ttraining's auc: 0.618386\tvalid_1's auc: 0.604721\n",
      "[200]\ttraining's auc: 0.635564\tvalid_1's auc: 0.608921\n",
      "[300]\ttraining's auc: 0.649862\tvalid_1's auc: 0.610445\n",
      "[400]\ttraining's auc: 0.660867\tvalid_1's auc: 0.610929\n",
      "[500]\ttraining's auc: 0.670959\tvalid_1's auc: 0.610533\n",
      "[600]\ttraining's auc: 0.68035\tvalid_1's auc: 0.610085\n",
      "Early stopping, best iteration is:\n",
      "[426]\ttraining's auc: 0.663577\tvalid_1's auc: 0.611227\n",
      "Training until validation scores don't improve for 200 rounds.\n",
      "[100]\ttraining's auc: 0.618156\tvalid_1's auc: 0.605773\n",
      "[200]\ttraining's auc: 0.635203\tvalid_1's auc: 0.610435\n",
      "[300]\ttraining's auc: 0.649874\tvalid_1's auc: 0.612399\n",
      "[400]\ttraining's auc: 0.661907\tvalid_1's auc: 0.612275\n",
      "Early stopping, best iteration is:\n",
      "[269]\ttraining's auc: 0.645635\tvalid_1's auc: 0.612595\n"
     ]
    },
    {
     "name": "stderr",
     "output_type": "stream",
     "text": [
      "/home/sakhtar0092/anaconda2/lib/python2.7/site-packages/ipykernel_launcher.py:12: SettingWithCopyWarning: \n",
      "A value is trying to be set on a copy of a slice from a DataFrame.\n",
      "Try using .loc[row_indexer,col_indexer] = value instead\n",
      "\n",
      "See the caveats in the documentation: http://pandas.pydata.org/pandas-docs/stable/indexing.html#indexing-view-versus-copy\n",
      "  if sys.path[0] == '':\n",
      "/home/sakhtar0092/anaconda2/lib/python2.7/site-packages/ipykernel_launcher.py:13: SettingWithCopyWarning: \n",
      "A value is trying to be set on a copy of a slice from a DataFrame.\n",
      "Try using .loc[row_indexer,col_indexer] = value instead\n",
      "\n",
      "See the caveats in the documentation: http://pandas.pydata.org/pandas-docs/stable/indexing.html#indexing-view-versus-copy\n",
      "  del sys.path[0]\n"
     ]
    }
   ],
   "source": [
    "meta_train = np.zeros(train.shape[0])\n",
    "meta_test = []\n",
    "feature_importance = pd.DataFrame(columns = [\"feature\",\"split\",\"gain\"])\n",
    "\n",
    "kf = StratifiedKFold(n_splits= 10, shuffle=True, random_state=47)\n",
    "for fold_id, (train_index, test_index) in enumerate(kf.split(train, target)):\n",
    "    x_train, x_test = train.iloc[train_index], train.iloc[test_index]\n",
    "    y_train, y_test = target[train_index], target[test_index]\n",
    "\n",
    "    model_tree(x_train, x_test, y_train, y_test, test, meta_train, meta_test,train_index, test_index,fold_id)\n",
    "\n",
    "partial_test_id[\"TARGET\"] = np.array(meta_test).T.mean(axis=1)\n",
    "partial_train_id[\"TARGET\"] = meta_train"
   ]
  },
  {
   "cell_type": "code",
   "execution_count": 7,
   "metadata": {
    "collapsed": true
   },
   "outputs": [],
   "source": [
    "train_id = train_id[[\"SK_ID_CURR\"]].merge(partial_train_id, how=\"left\", on=\"SK_ID_CURR\")\n",
    "test_id = test_id[[\"SK_ID_CURR\"]].merge(partial_test_id, how=\"left\", on=\"SK_ID_CURR\")\n",
    "\n",
    "train_id.to_csv(\"csv/{}_train.csv\".format(model_name), index=False)\n",
    "test_id.to_csv(\"csv/{}_test.csv\".format(model_name), index=False)"
   ]
  },
  {
   "cell_type": "markdown",
   "metadata": {},
   "source": [
    "# Get Feature Importance"
   ]
  },
  {
   "cell_type": "code",
   "execution_count": 8,
   "metadata": {
    "collapsed": true
   },
   "outputs": [],
   "source": [
    "# Print Feature Importance\n",
    "feature_importance.to_csv(\"csv/{}_all_fi.csv\".format(model_name), index = False)\n",
    "feature_importance = feature_importance.groupby(\"feature\")[[\"gain\",\"split\"]].mean().sort_values('gain', ascending=False).reset_index()\n",
    "\n",
    "plt.figure()\n",
    "feature_importance[['feature','gain']].head(60).plot(kind='barh', x='feature', y='gain', legend=False, figsize=(30, 100))\n",
    "plt.gcf().savefig('csv/{}.png'.format(model_name))\n"
   ]
  },
  {
   "cell_type": "code",
   "execution_count": null,
   "metadata": {
    "collapsed": true
   },
   "outputs": [],
   "source": []
  },
  {
   "cell_type": "code",
   "execution_count": null,
   "metadata": {
    "collapsed": true
   },
   "outputs": [],
   "source": []
  },
  {
   "cell_type": "code",
   "execution_count": null,
   "metadata": {
    "collapsed": true
   },
   "outputs": [],
   "source": []
  },
  {
   "cell_type": "code",
   "execution_count": null,
   "metadata": {
    "collapsed": true
   },
   "outputs": [],
   "source": []
  },
  {
   "cell_type": "code",
   "execution_count": null,
   "metadata": {
    "collapsed": true
   },
   "outputs": [],
   "source": []
  },
  {
   "cell_type": "code",
   "execution_count": null,
   "metadata": {
    "collapsed": true
   },
   "outputs": [],
   "source": []
  },
  {
   "cell_type": "code",
   "execution_count": null,
   "metadata": {
    "collapsed": true
   },
   "outputs": [],
   "source": []
  }
 ],
 "metadata": {
  "kernelspec": {
   "display_name": "Python 2",
   "language": "python",
   "name": "python2"
  },
  "language_info": {
   "codemirror_mode": {
    "name": "ipython",
    "version": 2
   },
   "file_extension": ".py",
   "mimetype": "text/x-python",
   "name": "python",
   "nbconvert_exporter": "python",
   "pygments_lexer": "ipython2",
   "version": "2.7.14"
  }
 },
 "nbformat": 4,
 "nbformat_minor": 2
}
