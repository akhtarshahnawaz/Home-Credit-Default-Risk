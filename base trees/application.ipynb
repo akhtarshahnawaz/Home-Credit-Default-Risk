{
 "cells": [
  {
   "cell_type": "code",
   "execution_count": 1,
   "metadata": {
    "collapsed": true
   },
   "outputs": [],
   "source": [
    "model_name = \"application\""
   ]
  },
  {
   "cell_type": "code",
   "execution_count": 2,
   "metadata": {
    "collapsed": true
   },
   "outputs": [],
   "source": [
    "import numpy as np\n",
    "import pandas as pd\n",
    "import gc\n",
    "from time import time\n",
    "from contextlib import contextmanager\n",
    "from lightgbm import LGBMClassifier\n",
    "from sklearn.metrics import roc_auc_score, roc_curve\n",
    "from sklearn.model_selection import KFold, StratifiedKFold\n",
    "import matplotlib.pyplot as plt\n",
    "import seaborn as sns\n",
    "import warnings\n",
    "from sklearn.preprocessing import LabelEncoder,OneHotEncoder"
   ]
  },
  {
   "cell_type": "code",
   "execution_count": 3,
   "metadata": {
    "collapsed": true
   },
   "outputs": [],
   "source": [
    "timesheet = [time()]\n",
    "def timer(statement):\n",
    "    global timesheet\n",
    "    timesheet.append(time())\n",
    "    print statement+\" :\", (timesheet[-1]-timesheet[-2]),\"seconds\""
   ]
  },
  {
   "cell_type": "markdown",
   "metadata": {},
   "source": [
    "# Loading Data"
   ]
  },
  {
   "cell_type": "code",
   "execution_count": 4,
   "metadata": {
    "collapsed": true
   },
   "outputs": [],
   "source": [
    "applications = pd.read_csv(\"../extractor/csv/application_features_V1.csv\").dropna(axis=1, how=\"all\").drop([\"TARGET\"], axis=1)\n",
    "\n",
    "train_id = pd.read_csv(\"../data/application_train.csv\", usecols = [\"SK_ID_CURR\",\"TARGET\"])\n",
    "test_id = pd.read_csv(\"../data/application_test.csv\", usecols = [\"SK_ID_CURR\"])\n",
    "\n",
    "applications = applications.merge(train_id, how = \"left\", on = \"SK_ID_CURR\")\n",
    "\n",
    "train = applications.loc[applications.TARGET.notnull()].reset_index(drop=True)\n",
    "test = applications.loc[applications.TARGET.isnull()].reset_index(drop=True)\n",
    "\n",
    "partial_train_id = train[[\"SK_ID_CURR\"]]\n",
    "partial_test_id = test[[\"SK_ID_CURR\"]]\n",
    "target =train.TARGET\n",
    "\n",
    "train.drop([\"SK_ID_CURR\", \"TARGET\"], axis=1, inplace=True)\n",
    "test.drop([\"SK_ID_CURR\"], axis=1, inplace = True)"
   ]
  },
  {
   "cell_type": "markdown",
   "metadata": {},
   "source": [
    "# Defining Model"
   ]
  },
  {
   "cell_type": "code",
   "execution_count": 5,
   "metadata": {
    "collapsed": true
   },
   "outputs": [],
   "source": [
    "import lightgbm as lgb\n",
    "def model_tree(x_train, x_test, y_train, y_test, test, meta_train, meta_test,train_index, test_index,fold_id):\n",
    "    dtrain = lgb.Dataset(x_train, label=y_train)\n",
    "    dval = lgb.Dataset(x_test, label=y_test)\n",
    "    params = {\n",
    "        'num_leaves': 32, #32\n",
    "        'reg_alpha': 0.04, \n",
    "        'n_jobs': -1, \n",
    "        'colsample_bytree': 0.9497036, \n",
    "        'silent': -1, \n",
    "        'subsample_for_bin': 200000, \n",
    "        'subsample_freq': 1, \n",
    "        'learning_rate': 0.02, # 0.02\n",
    "        'boosting_type': 'gbdt', \n",
    "        'nthread': 8, \n",
    "        'min_child_weight': 40, \n",
    "        'min_split_gain': 0.0222415, \n",
    "        'n_estimators': 10000, \n",
    "        'subsample': 0.8715623, \n",
    "        'reg_lambda': 10, \n",
    "        'objective': \"binary\", \n",
    "        'verbose': -1, \n",
    "        'min_child_samples': 20, \n",
    "        'max_depth': 8, #8\n",
    "        'class_weight': None,\n",
    "        \"bagging_seed\" : 3143,\n",
    "        \"seed\":1343,\n",
    "        \"metric\":\"auc\"\n",
    "    }\n",
    "    model = lgb.train(params, dtrain, num_boost_round=5000,valid_sets=[dtrain, dval], early_stopping_rounds=200, verbose_eval=100)\n",
    "    meta_train[test_index] = model.predict(x_test, num_iteration=model.best_iteration or 5000)\n",
    "    meta_test.append(model.predict(test, num_iteration=model.best_iteration or 5000))\n",
    "\n",
    "    # Calculate Feature Importance\n",
    "    global feature_importance\n",
    "    gain = model.feature_importance('gain')\n",
    "    fold_feature_importance = pd.DataFrame({'feature':model.feature_name(), 'split':model.feature_importance('split'), 'gain':100 * gain / gain.sum()})\n",
    "    feature_importance = feature_importance.append(fold_feature_importance, ignore_index=True) "
   ]
  },
  {
   "cell_type": "markdown",
   "metadata": {},
   "source": [
    "# Training Model"
   ]
  },
  {
   "cell_type": "code",
   "execution_count": 6,
   "metadata": {},
   "outputs": [
    {
     "name": "stderr",
     "output_type": "stream",
     "text": [
      "/home/sakhtar0092/anaconda2/lib/python2.7/site-packages/lightgbm/engine.py:99: UserWarning: Found `n_estimators` in params. Will use it instead of argument\n",
      "  warnings.warn(\"Found `{}` in params. Will use it instead of argument\".format(alias))\n",
      "/home/sakhtar0092/anaconda2/lib/python2.7/site-packages/lightgbm/basic.py:657: UserWarning: silent keyword has been found in `params` and will be ignored. Please use silent argument of the Dataset constructor to pass this parameter.\n",
      "  'Please use {0} argument of the Dataset constructor to pass this parameter.'.format(key))\n"
     ]
    },
    {
     "name": "stdout",
     "output_type": "stream",
     "text": [
      "Training until validation scores don't improve for 200 rounds.\n",
      "[100]\ttraining's auc: 0.745846\tvalid_1's auc: 0.731993\n",
      "[200]\ttraining's auc: 0.763468\tvalid_1's auc: 0.743486\n",
      "[300]\ttraining's auc: 0.776466\tvalid_1's auc: 0.750482\n",
      "[400]\ttraining's auc: 0.785717\tvalid_1's auc: 0.754042\n",
      "[500]\ttraining's auc: 0.793194\tvalid_1's auc: 0.75627\n",
      "[600]\ttraining's auc: 0.799616\tvalid_1's auc: 0.757453\n",
      "[700]\ttraining's auc: 0.805382\tvalid_1's auc: 0.758589\n",
      "[800]\ttraining's auc: 0.810787\tvalid_1's auc: 0.759052\n",
      "[900]\ttraining's auc: 0.815511\tvalid_1's auc: 0.759252\n",
      "[1000]\ttraining's auc: 0.820109\tvalid_1's auc: 0.759118\n",
      "[1100]\ttraining's auc: 0.824549\tvalid_1's auc: 0.759201\n",
      "Early stopping, best iteration is:\n",
      "[916]\ttraining's auc: 0.816231\tvalid_1's auc: 0.759388\n",
      "Training until validation scores don't improve for 200 rounds.\n",
      "[100]\ttraining's auc: 0.74418\tvalid_1's auc: 0.745794\n",
      "[200]\ttraining's auc: 0.761744\tvalid_1's auc: 0.759834\n",
      "[300]\ttraining's auc: 0.774843\tvalid_1's auc: 0.767878\n",
      "[400]\ttraining's auc: 0.783972\tvalid_1's auc: 0.772175\n",
      "[500]\ttraining's auc: 0.791624\tvalid_1's auc: 0.774651\n",
      "[600]\ttraining's auc: 0.798022\tvalid_1's auc: 0.776575\n",
      "[700]\ttraining's auc: 0.803781\tvalid_1's auc: 0.777622\n",
      "[800]\ttraining's auc: 0.809154\tvalid_1's auc: 0.778228\n",
      "[900]\ttraining's auc: 0.814163\tvalid_1's auc: 0.778601\n",
      "[1000]\ttraining's auc: 0.818797\tvalid_1's auc: 0.778989\n",
      "[1100]\ttraining's auc: 0.8231\tvalid_1's auc: 0.779067\n",
      "[1200]\ttraining's auc: 0.827462\tvalid_1's auc: 0.77936\n",
      "[1300]\ttraining's auc: 0.831429\tvalid_1's auc: 0.779358\n",
      "[1400]\ttraining's auc: 0.835256\tvalid_1's auc: 0.779482\n",
      "[1500]\ttraining's auc: 0.838994\tvalid_1's auc: 0.779485\n",
      "[1600]\ttraining's auc: 0.842625\tvalid_1's auc: 0.779417\n",
      "Early stopping, best iteration is:\n",
      "[1446]\ttraining's auc: 0.837021\tvalid_1's auc: 0.77961\n",
      "Training until validation scores don't improve for 200 rounds.\n",
      "[100]\ttraining's auc: 0.745419\tvalid_1's auc: 0.739898\n",
      "[200]\ttraining's auc: 0.762889\tvalid_1's auc: 0.751314\n",
      "[300]\ttraining's auc: 0.77585\tvalid_1's auc: 0.759295\n",
      "[400]\ttraining's auc: 0.784888\tvalid_1's auc: 0.763391\n",
      "[500]\ttraining's auc: 0.792426\tvalid_1's auc: 0.765946\n",
      "[600]\ttraining's auc: 0.798937\tvalid_1's auc: 0.76747\n",
      "[700]\ttraining's auc: 0.804714\tvalid_1's auc: 0.768181\n",
      "[800]\ttraining's auc: 0.810079\tvalid_1's auc: 0.768574\n",
      "[900]\ttraining's auc: 0.815072\tvalid_1's auc: 0.768907\n",
      "[1000]\ttraining's auc: 0.819542\tvalid_1's auc: 0.768979\n",
      "[1100]\ttraining's auc: 0.824127\tvalid_1's auc: 0.769119\n",
      "[1200]\ttraining's auc: 0.828426\tvalid_1's auc: 0.769241\n",
      "[1300]\ttraining's auc: 0.832508\tvalid_1's auc: 0.769239\n",
      "[1400]\ttraining's auc: 0.836429\tvalid_1's auc: 0.769237\n",
      "Early stopping, best iteration is:\n",
      "[1289]\ttraining's auc: 0.832127\tvalid_1's auc: 0.769362\n",
      "Training until validation scores don't improve for 200 rounds.\n",
      "[100]\ttraining's auc: 0.743967\tvalid_1's auc: 0.749986\n",
      "[200]\ttraining's auc: 0.761775\tvalid_1's auc: 0.762642\n",
      "[300]\ttraining's auc: 0.774977\tvalid_1's auc: 0.769422\n",
      "[400]\ttraining's auc: 0.784209\tvalid_1's auc: 0.772849\n",
      "[500]\ttraining's auc: 0.791338\tvalid_1's auc: 0.774533\n",
      "[600]\ttraining's auc: 0.797849\tvalid_1's auc: 0.775805\n",
      "[700]\ttraining's auc: 0.803509\tvalid_1's auc: 0.776421\n",
      "[800]\ttraining's auc: 0.808667\tvalid_1's auc: 0.777009\n",
      "[900]\ttraining's auc: 0.813809\tvalid_1's auc: 0.777516\n",
      "[1000]\ttraining's auc: 0.818409\tvalid_1's auc: 0.777918\n",
      "[1100]\ttraining's auc: 0.822995\tvalid_1's auc: 0.778098\n",
      "[1200]\ttraining's auc: 0.82714\tvalid_1's auc: 0.778157\n",
      "[1300]\ttraining's auc: 0.831093\tvalid_1's auc: 0.778155\n",
      "Early stopping, best iteration is:\n",
      "[1127]\ttraining's auc: 0.824133\tvalid_1's auc: 0.778226\n",
      "Training until validation scores don't improve for 200 rounds.\n",
      "[100]\ttraining's auc: 0.744825\tvalid_1's auc: 0.73795\n",
      "[200]\ttraining's auc: 0.762061\tvalid_1's auc: 0.752528\n",
      "[300]\ttraining's auc: 0.775322\tvalid_1's auc: 0.761522\n",
      "[400]\ttraining's auc: 0.784418\tvalid_1's auc: 0.765821\n",
      "[500]\ttraining's auc: 0.791663\tvalid_1's auc: 0.767935\n",
      "[600]\ttraining's auc: 0.798329\tvalid_1's auc: 0.769415\n",
      "[700]\ttraining's auc: 0.804148\tvalid_1's auc: 0.770356\n",
      "[800]\ttraining's auc: 0.809326\tvalid_1's auc: 0.770811\n",
      "[900]\ttraining's auc: 0.814342\tvalid_1's auc: 0.771183\n",
      "[1000]\ttraining's auc: 0.81875\tvalid_1's auc: 0.771481\n",
      "[1100]\ttraining's auc: 0.823335\tvalid_1's auc: 0.771432\n",
      "[1200]\ttraining's auc: 0.827623\tvalid_1's auc: 0.771702\n",
      "[1300]\ttraining's auc: 0.831477\tvalid_1's auc: 0.771736\n",
      "[1400]\ttraining's auc: 0.835409\tvalid_1's auc: 0.771597\n",
      "Early stopping, best iteration is:\n",
      "[1285]\ttraining's auc: 0.830881\tvalid_1's auc: 0.771876\n",
      "Training until validation scores don't improve for 200 rounds.\n",
      "[100]\ttraining's auc: 0.745975\tvalid_1's auc: 0.730384\n",
      "[200]\ttraining's auc: 0.763537\tvalid_1's auc: 0.743425\n",
      "[300]\ttraining's auc: 0.776637\tvalid_1's auc: 0.751357\n",
      "[400]\ttraining's auc: 0.785656\tvalid_1's auc: 0.755307\n",
      "[500]\ttraining's auc: 0.792888\tvalid_1's auc: 0.75757\n",
      "[600]\ttraining's auc: 0.799123\tvalid_1's auc: 0.759017\n",
      "[700]\ttraining's auc: 0.804834\tvalid_1's auc: 0.760049\n",
      "[800]\ttraining's auc: 0.810179\tvalid_1's auc: 0.760595\n",
      "[900]\ttraining's auc: 0.814926\tvalid_1's auc: 0.761187\n",
      "[1000]\ttraining's auc: 0.819664\tvalid_1's auc: 0.761495\n",
      "[1100]\ttraining's auc: 0.823937\tvalid_1's auc: 0.761939\n",
      "[1200]\ttraining's auc: 0.828188\tvalid_1's auc: 0.762009\n",
      "[1300]\ttraining's auc: 0.832413\tvalid_1's auc: 0.762186\n",
      "[1400]\ttraining's auc: 0.836292\tvalid_1's auc: 0.762258\n",
      "[1500]\ttraining's auc: 0.840106\tvalid_1's auc: 0.762189\n",
      "Early stopping, best iteration is:\n",
      "[1393]\ttraining's auc: 0.83602\tvalid_1's auc: 0.762334\n",
      "Training until validation scores don't improve for 200 rounds.\n",
      "[100]\ttraining's auc: 0.744668\tvalid_1's auc: 0.740048\n",
      "[200]\ttraining's auc: 0.761695\tvalid_1's auc: 0.754802\n",
      "[300]\ttraining's auc: 0.775253\tvalid_1's auc: 0.764514\n",
      "[400]\ttraining's auc: 0.784523\tvalid_1's auc: 0.769291\n",
      "[500]\ttraining's auc: 0.79179\tvalid_1's auc: 0.772434\n",
      "[600]\ttraining's auc: 0.798131\tvalid_1's auc: 0.774233\n",
      "[700]\ttraining's auc: 0.803924\tvalid_1's auc: 0.77501\n",
      "[800]\ttraining's auc: 0.809293\tvalid_1's auc: 0.775714\n",
      "[900]\ttraining's auc: 0.814214\tvalid_1's auc: 0.77624\n",
      "[1000]\ttraining's auc: 0.818913\tvalid_1's auc: 0.776572\n",
      "[1100]\ttraining's auc: 0.823237\tvalid_1's auc: 0.776772\n",
      "[1200]\ttraining's auc: 0.827361\tvalid_1's auc: 0.77701\n",
      "[1300]\ttraining's auc: 0.831571\tvalid_1's auc: 0.777273\n",
      "[1400]\ttraining's auc: 0.835336\tvalid_1's auc: 0.777369\n",
      "[1500]\ttraining's auc: 0.839078\tvalid_1's auc: 0.777469\n",
      "[1600]\ttraining's auc: 0.842694\tvalid_1's auc: 0.777264\n",
      "Early stopping, best iteration is:\n",
      "[1468]\ttraining's auc: 0.837972\tvalid_1's auc: 0.777515\n",
      "Training until validation scores don't improve for 200 rounds.\n",
      "[100]\ttraining's auc: 0.745145\tvalid_1's auc: 0.736615\n",
      "[200]\ttraining's auc: 0.762523\tvalid_1's auc: 0.750734\n",
      "[300]\ttraining's auc: 0.77574\tvalid_1's auc: 0.758921\n",
      "[400]\ttraining's auc: 0.784936\tvalid_1's auc: 0.763041\n",
      "[500]\ttraining's auc: 0.792167\tvalid_1's auc: 0.765344\n",
      "[600]\ttraining's auc: 0.798433\tvalid_1's auc: 0.766809\n",
      "[700]\ttraining's auc: 0.803981\tvalid_1's auc: 0.767688\n",
      "[800]\ttraining's auc: 0.809261\tvalid_1's auc: 0.768411\n",
      "[900]\ttraining's auc: 0.814223\tvalid_1's auc: 0.768687\n",
      "[1000]\ttraining's auc: 0.818862\tvalid_1's auc: 0.76886\n",
      "[1100]\ttraining's auc: 0.823195\tvalid_1's auc: 0.769179\n",
      "[1200]\ttraining's auc: 0.82753\tvalid_1's auc: 0.769161\n",
      "[1300]\ttraining's auc: 0.831558\tvalid_1's auc: 0.769101\n",
      "[1400]\ttraining's auc: 0.835502\tvalid_1's auc: 0.769155\n",
      "Early stopping, best iteration is:\n",
      "[1219]\ttraining's auc: 0.828346\tvalid_1's auc: 0.769233\n",
      "Training until validation scores don't improve for 200 rounds.\n",
      "[100]\ttraining's auc: 0.744699\tvalid_1's auc: 0.739858\n",
      "[200]\ttraining's auc: 0.762473\tvalid_1's auc: 0.751926\n",
      "[300]\ttraining's auc: 0.775752\tvalid_1's auc: 0.758887\n",
      "[400]\ttraining's auc: 0.785067\tvalid_1's auc: 0.762495\n",
      "[500]\ttraining's auc: 0.792358\tvalid_1's auc: 0.764835\n",
      "[600]\ttraining's auc: 0.798664\tvalid_1's auc: 0.766193\n",
      "[700]\ttraining's auc: 0.804374\tvalid_1's auc: 0.767162\n",
      "[800]\ttraining's auc: 0.809592\tvalid_1's auc: 0.767838\n",
      "[900]\ttraining's auc: 0.814401\tvalid_1's auc: 0.768225\n",
      "[1000]\ttraining's auc: 0.818949\tvalid_1's auc: 0.768563\n",
      "[1100]\ttraining's auc: 0.823413\tvalid_1's auc: 0.768719\n",
      "[1200]\ttraining's auc: 0.827738\tvalid_1's auc: 0.768985\n"
     ]
    },
    {
     "name": "stdout",
     "output_type": "stream",
     "text": [
      "[1300]\ttraining's auc: 0.83195\tvalid_1's auc: 0.769091\n",
      "[1400]\ttraining's auc: 0.835914\tvalid_1's auc: 0.769271\n",
      "[1500]\ttraining's auc: 0.839608\tvalid_1's auc: 0.769249\n",
      "[1600]\ttraining's auc: 0.84328\tvalid_1's auc: 0.769519\n",
      "[1700]\ttraining's auc: 0.846952\tvalid_1's auc: 0.769458\n",
      "[1800]\ttraining's auc: 0.850383\tvalid_1's auc: 0.7694\n",
      "Early stopping, best iteration is:\n",
      "[1614]\ttraining's auc: 0.843783\tvalid_1's auc: 0.769577\n",
      "Training until validation scores don't improve for 200 rounds.\n",
      "[100]\ttraining's auc: 0.7452\tvalid_1's auc: 0.735521\n",
      "[200]\ttraining's auc: 0.762514\tvalid_1's auc: 0.750776\n",
      "[300]\ttraining's auc: 0.775595\tvalid_1's auc: 0.7603\n",
      "[400]\ttraining's auc: 0.784786\tvalid_1's auc: 0.764773\n",
      "[500]\ttraining's auc: 0.792262\tvalid_1's auc: 0.767336\n",
      "[600]\ttraining's auc: 0.798893\tvalid_1's auc: 0.769232\n",
      "[700]\ttraining's auc: 0.804484\tvalid_1's auc: 0.769851\n",
      "[800]\ttraining's auc: 0.809449\tvalid_1's auc: 0.770244\n",
      "[900]\ttraining's auc: 0.814638\tvalid_1's auc: 0.770528\n",
      "[1000]\ttraining's auc: 0.819188\tvalid_1's auc: 0.770982\n",
      "[1100]\ttraining's auc: 0.823557\tvalid_1's auc: 0.771114\n",
      "[1200]\ttraining's auc: 0.827865\tvalid_1's auc: 0.77136\n",
      "[1300]\ttraining's auc: 0.831952\tvalid_1's auc: 0.771481\n",
      "[1400]\ttraining's auc: 0.836037\tvalid_1's auc: 0.771406\n",
      "[1500]\ttraining's auc: 0.839773\tvalid_1's auc: 0.77144\n",
      "Early stopping, best iteration is:\n",
      "[1314]\ttraining's auc: 0.83257\tvalid_1's auc: 0.771514\n"
     ]
    },
    {
     "name": "stderr",
     "output_type": "stream",
     "text": [
      "/home/sakhtar0092/anaconda2/lib/python2.7/site-packages/ipykernel_launcher.py:12: SettingWithCopyWarning: \n",
      "A value is trying to be set on a copy of a slice from a DataFrame.\n",
      "Try using .loc[row_indexer,col_indexer] = value instead\n",
      "\n",
      "See the caveats in the documentation: http://pandas.pydata.org/pandas-docs/stable/indexing.html#indexing-view-versus-copy\n",
      "  if sys.path[0] == '':\n",
      "/home/sakhtar0092/anaconda2/lib/python2.7/site-packages/ipykernel_launcher.py:13: SettingWithCopyWarning: \n",
      "A value is trying to be set on a copy of a slice from a DataFrame.\n",
      "Try using .loc[row_indexer,col_indexer] = value instead\n",
      "\n",
      "See the caveats in the documentation: http://pandas.pydata.org/pandas-docs/stable/indexing.html#indexing-view-versus-copy\n",
      "  del sys.path[0]\n"
     ]
    }
   ],
   "source": [
    "meta_train = np.zeros(train.shape[0])\n",
    "meta_test = []\n",
    "feature_importance = pd.DataFrame(columns = [\"feature\",\"split\",\"gain\"])\n",
    "\n",
    "kf = StratifiedKFold(n_splits= 10, shuffle=True, random_state=47)\n",
    "for fold_id, (train_index, test_index) in enumerate(kf.split(train, target)):\n",
    "    x_train, x_test = train.iloc[train_index], train.iloc[test_index]\n",
    "    y_train, y_test = target[train_index], target[test_index]\n",
    "\n",
    "    model_tree(x_train, x_test, y_train, y_test, test, meta_train, meta_test,train_index, test_index,fold_id)\n",
    "\n",
    "partial_test_id[\"TARGET\"] = np.array(meta_test).T.mean(axis=1)\n",
    "partial_train_id[\"TARGET\"] = meta_train"
   ]
  },
  {
   "cell_type": "code",
   "execution_count": 7,
   "metadata": {
    "collapsed": true
   },
   "outputs": [],
   "source": [
    "train_id = train_id[[\"SK_ID_CURR\"]].merge(partial_train_id, how=\"left\", on=\"SK_ID_CURR\")\n",
    "test_id = test_id[[\"SK_ID_CURR\"]].merge(partial_test_id, how=\"left\", on=\"SK_ID_CURR\")\n",
    "\n",
    "train_id.to_csv(\"csv/{}_train.csv\".format(model_name), index=False)\n",
    "test_id.to_csv(\"csv/{}_test.csv\".format(model_name), index=False)"
   ]
  },
  {
   "cell_type": "markdown",
   "metadata": {},
   "source": [
    "# Get Feature Importance"
   ]
  },
  {
   "cell_type": "code",
   "execution_count": 8,
   "metadata": {
    "collapsed": true
   },
   "outputs": [],
   "source": [
    "# Print Feature Importance\n",
    "feature_importance.to_csv(\"csv/{}_all_fi.csv\".format(model_name), index = False)\n",
    "feature_importance = feature_importance.groupby(\"feature\")[[\"gain\",\"split\"]].mean().sort_values('gain', ascending=False).reset_index()\n",
    "\n",
    "plt.figure()\n",
    "feature_importance[['feature','gain']].head(60).plot(kind='barh', x='feature', y='gain', legend=False, figsize=(30, 100))\n",
    "plt.gcf().savefig('csv/{}.png'.format(model_name))\n"
   ]
  },
  {
   "cell_type": "code",
   "execution_count": null,
   "metadata": {
    "collapsed": true
   },
   "outputs": [],
   "source": []
  },
  {
   "cell_type": "code",
   "execution_count": null,
   "metadata": {
    "collapsed": true
   },
   "outputs": [],
   "source": []
  },
  {
   "cell_type": "code",
   "execution_count": null,
   "metadata": {
    "collapsed": true
   },
   "outputs": [],
   "source": []
  },
  {
   "cell_type": "code",
   "execution_count": null,
   "metadata": {
    "collapsed": true
   },
   "outputs": [],
   "source": []
  },
  {
   "cell_type": "code",
   "execution_count": null,
   "metadata": {
    "collapsed": true
   },
   "outputs": [],
   "source": []
  },
  {
   "cell_type": "code",
   "execution_count": null,
   "metadata": {
    "collapsed": true
   },
   "outputs": [],
   "source": []
  },
  {
   "cell_type": "code",
   "execution_count": null,
   "metadata": {
    "collapsed": true
   },
   "outputs": [],
   "source": []
  }
 ],
 "metadata": {
  "kernelspec": {
   "display_name": "Python 2",
   "language": "python",
   "name": "python2"
  },
  "language_info": {
   "codemirror_mode": {
    "name": "ipython",
    "version": 2
   },
   "file_extension": ".py",
   "mimetype": "text/x-python",
   "name": "python",
   "nbconvert_exporter": "python",
   "pygments_lexer": "ipython2",
   "version": "2.7.14"
  }
 },
 "nbformat": 4,
 "nbformat_minor": 2
}
