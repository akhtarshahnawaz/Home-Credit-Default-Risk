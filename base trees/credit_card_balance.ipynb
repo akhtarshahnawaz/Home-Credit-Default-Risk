{
 "cells": [
  {
   "cell_type": "code",
   "execution_count": 5,
   "metadata": {
    "collapsed": true
   },
   "outputs": [],
   "source": [
    "model_name = \"credit_card_balance\""
   ]
  },
  {
   "cell_type": "code",
   "execution_count": 6,
   "metadata": {
    "collapsed": true
   },
   "outputs": [],
   "source": [
    "import numpy as np\n",
    "import pandas as pd\n",
    "import gc\n",
    "from time import time\n",
    "from contextlib import contextmanager\n",
    "from lightgbm import LGBMClassifier\n",
    "from sklearn.metrics import roc_auc_score, roc_curve\n",
    "from sklearn.model_selection import KFold, StratifiedKFold\n",
    "import matplotlib.pyplot as plt\n",
    "import seaborn as sns\n",
    "import warnings\n",
    "from sklearn.preprocessing import LabelEncoder,OneHotEncoder"
   ]
  },
  {
   "cell_type": "code",
   "execution_count": 7,
   "metadata": {
    "collapsed": true
   },
   "outputs": [],
   "source": [
    "timesheet = [time()]\n",
    "def timer(statement):\n",
    "    global timesheet\n",
    "    timesheet.append(time())\n",
    "    print statement+\" :\", (timesheet[-1]-timesheet[-2]),\"seconds\""
   ]
  },
  {
   "cell_type": "markdown",
   "metadata": {},
   "source": [
    "# Loading Data"
   ]
  },
  {
   "cell_type": "code",
   "execution_count": 8,
   "metadata": {
    "collapsed": true
   },
   "outputs": [],
   "source": [
    "credit_card_balance = pd.read_csv(\"../extractor/csv/credit_card_features_V1.csv\").dropna(axis=1, how=\"all\")\n",
    "\n",
    "train_id = pd.read_csv(\"../data/application_train.csv\", usecols = [\"SK_ID_CURR\",\"TARGET\"])\n",
    "test_id = pd.read_csv(\"../data/application_test.csv\", usecols = [\"SK_ID_CURR\"])\n",
    "\n",
    "credit_card_balance = credit_card_balance.merge(train_id, how = \"left\", on = \"SK_ID_CURR\")\n",
    "\n",
    "train = credit_card_balance.loc[credit_card_balance.TARGET.notnull()].reset_index(drop=True)\n",
    "test = credit_card_balance.loc[credit_card_balance.TARGET.isnull()].reset_index(drop=True)\n",
    "\n",
    "partial_train_id = train[[\"SK_ID_CURR\"]]\n",
    "partial_test_id = test[[\"SK_ID_CURR\"]]\n",
    "target =train.TARGET\n",
    "\n",
    "train.drop([\"SK_ID_CURR\", \"TARGET\"], axis=1, inplace=True)\n",
    "test.drop([\"SK_ID_CURR\"], axis=1, inplace = True)"
   ]
  },
  {
   "cell_type": "markdown",
   "metadata": {},
   "source": [
    "# Defining Model"
   ]
  },
  {
   "cell_type": "code",
   "execution_count": 9,
   "metadata": {
    "collapsed": true
   },
   "outputs": [],
   "source": [
    "import lightgbm as lgb\n",
    "def model_tree(x_train, x_test, y_train, y_test, test, meta_train, meta_test,train_index, test_index,fold_id):\n",
    "    dtrain = lgb.Dataset(x_train, label=y_train)\n",
    "    dval = lgb.Dataset(x_test, label=y_test)\n",
    "    params = {\n",
    "        'num_leaves': 32, #32\n",
    "        'reg_alpha': 0.04, \n",
    "        'n_jobs': -1, \n",
    "        'colsample_bytree': 0.9497036, \n",
    "        'silent': -1, \n",
    "        'subsample_for_bin': 200000, \n",
    "        'subsample_freq': 1, \n",
    "        'learning_rate': 0.02, # 0.02\n",
    "        'boosting_type': 'gbdt', \n",
    "        'nthread': 8, \n",
    "        'min_child_weight': 40, \n",
    "        'min_split_gain': 0.0222415, \n",
    "        'n_estimators': 10000, \n",
    "        'subsample': 0.8715623, \n",
    "        'reg_lambda': 10, \n",
    "        'objective': \"binary\", \n",
    "        'verbose': -1, \n",
    "        'min_child_samples': 20, \n",
    "        'max_depth': 8, #8\n",
    "        'class_weight': None,\n",
    "        \"bagging_seed\" : 3143,\n",
    "        \"seed\":1343,\n",
    "        \"metric\":\"auc\"\n",
    "    }\n",
    "    model = lgb.train(params, dtrain, num_boost_round=5000,valid_sets=[dtrain, dval], early_stopping_rounds=200, verbose_eval=100)\n",
    "    meta_train[test_index] = model.predict(x_test, num_iteration=model.best_iteration or 5000)\n",
    "    meta_test.append(model.predict(test, num_iteration=model.best_iteration or 5000))\n",
    "\n",
    "    # Calculate Feature Importance\n",
    "    global feature_importance\n",
    "    gain = model.feature_importance('gain')\n",
    "    fold_feature_importance = pd.DataFrame({'feature':model.feature_name(), 'split':model.feature_importance('split'), 'gain':100 * gain / gain.sum()})\n",
    "    feature_importance = feature_importance.append(fold_feature_importance, ignore_index=True) "
   ]
  },
  {
   "cell_type": "markdown",
   "metadata": {},
   "source": [
    "# Training Model"
   ]
  },
  {
   "cell_type": "code",
   "execution_count": 10,
   "metadata": {},
   "outputs": [
    {
     "name": "stderr",
     "output_type": "stream",
     "text": [
      "/home/sakhtar0092/anaconda2/lib/python2.7/site-packages/lightgbm/engine.py:99: UserWarning: Found `n_estimators` in params. Will use it instead of argument\n",
      "  warnings.warn(\"Found `{}` in params. Will use it instead of argument\".format(alias))\n",
      "/home/sakhtar0092/anaconda2/lib/python2.7/site-packages/lightgbm/basic.py:657: UserWarning: silent keyword has been found in `params` and will be ignored. Please use silent argument of the Dataset constructor to pass this parameter.\n",
      "  'Please use {0} argument of the Dataset constructor to pass this parameter.'.format(key))\n"
     ]
    },
    {
     "name": "stdout",
     "output_type": "stream",
     "text": [
      "Training until validation scores don't improve for 200 rounds.\n",
      "[100]\ttraining's auc: 0.688703\tvalid_1's auc: 0.651749\n",
      "[200]\ttraining's auc: 0.717622\tvalid_1's auc: 0.651349\n",
      "[300]\ttraining's auc: 0.739126\tvalid_1's auc: 0.651038\n",
      "[400]\ttraining's auc: 0.754067\tvalid_1's auc: 0.648527\n",
      "Early stopping, best iteration is:\n",
      "[256]\ttraining's auc: 0.73069\tvalid_1's auc: 0.656468\n",
      "Training until validation scores don't improve for 200 rounds.\n",
      "[100]\ttraining's auc: 0.684377\tvalid_1's auc: 0.676483\n",
      "[200]\ttraining's auc: 0.716729\tvalid_1's auc: 0.682925\n",
      "[300]\ttraining's auc: 0.737446\tvalid_1's auc: 0.681032\n",
      "[400]\ttraining's auc: 0.753473\tvalid_1's auc: 0.679428\n",
      "Early stopping, best iteration is:\n",
      "[203]\ttraining's auc: 0.717375\tvalid_1's auc: 0.683651\n",
      "Training until validation scores don't improve for 200 rounds.\n",
      "[100]\ttraining's auc: 0.683825\tvalid_1's auc: 0.679375\n",
      "[200]\ttraining's auc: 0.715132\tvalid_1's auc: 0.688834\n",
      "[300]\ttraining's auc: 0.735475\tvalid_1's auc: 0.688352\n",
      "[400]\ttraining's auc: 0.751\tvalid_1's auc: 0.684843\n",
      "Early stopping, best iteration is:\n",
      "[239]\ttraining's auc: 0.725113\tvalid_1's auc: 0.692037\n",
      "Training until validation scores don't improve for 200 rounds.\n",
      "[100]\ttraining's auc: 0.68736\tvalid_1's auc: 0.646487\n",
      "[200]\ttraining's auc: 0.718561\tvalid_1's auc: 0.647432\n",
      "[300]\ttraining's auc: 0.738439\tvalid_1's auc: 0.65115\n",
      "[400]\ttraining's auc: 0.754511\tvalid_1's auc: 0.652469\n",
      "[500]\ttraining's auc: 0.767706\tvalid_1's auc: 0.652266\n",
      "Early stopping, best iteration is:\n",
      "[376]\ttraining's auc: 0.751452\tvalid_1's auc: 0.653186\n",
      "Training until validation scores don't improve for 200 rounds.\n",
      "[100]\ttraining's auc: 0.688008\tvalid_1's auc: 0.653094\n",
      "[200]\ttraining's auc: 0.716879\tvalid_1's auc: 0.660087\n",
      "[300]\ttraining's auc: 0.738148\tvalid_1's auc: 0.658299\n",
      "[400]\ttraining's auc: 0.755051\tvalid_1's auc: 0.656878\n",
      "Early stopping, best iteration is:\n",
      "[219]\ttraining's auc: 0.721534\tvalid_1's auc: 0.661377\n",
      "Training until validation scores don't improve for 200 rounds.\n",
      "[100]\ttraining's auc: 0.684076\tvalid_1's auc: 0.660414\n",
      "[200]\ttraining's auc: 0.716829\tvalid_1's auc: 0.669872\n",
      "[300]\ttraining's auc: 0.737019\tvalid_1's auc: 0.670364\n",
      "[400]\ttraining's auc: 0.753396\tvalid_1's auc: 0.670406\n",
      "[500]\ttraining's auc: 0.767373\tvalid_1's auc: 0.671322\n",
      "[600]\ttraining's auc: 0.779255\tvalid_1's auc: 0.66705\n",
      "Early stopping, best iteration is:\n",
      "[460]\ttraining's auc: 0.762026\tvalid_1's auc: 0.671982\n",
      "Training until validation scores don't improve for 200 rounds.\n",
      "[100]\ttraining's auc: 0.685383\tvalid_1's auc: 0.649687\n",
      "[200]\ttraining's auc: 0.718069\tvalid_1's auc: 0.659841\n",
      "[300]\ttraining's auc: 0.740132\tvalid_1's auc: 0.658987\n",
      "[400]\ttraining's auc: 0.754204\tvalid_1's auc: 0.65665\n",
      "Early stopping, best iteration is:\n",
      "[228]\ttraining's auc: 0.72527\tvalid_1's auc: 0.661675\n",
      "Training until validation scores don't improve for 200 rounds.\n",
      "[100]\ttraining's auc: 0.686362\tvalid_1's auc: 0.663766\n",
      "[200]\ttraining's auc: 0.717246\tvalid_1's auc: 0.668869\n",
      "[300]\ttraining's auc: 0.737729\tvalid_1's auc: 0.669875\n",
      "[400]\ttraining's auc: 0.752261\tvalid_1's auc: 0.669546\n",
      "[500]\ttraining's auc: 0.765729\tvalid_1's auc: 0.670156\n",
      "Early stopping, best iteration is:\n",
      "[311]\ttraining's auc: 0.739847\tvalid_1's auc: 0.671238\n",
      "Training until validation scores don't improve for 200 rounds.\n",
      "[100]\ttraining's auc: 0.68443\tvalid_1's auc: 0.672027\n",
      "[200]\ttraining's auc: 0.716603\tvalid_1's auc: 0.679592\n",
      "[300]\ttraining's auc: 0.735602\tvalid_1's auc: 0.680439\n",
      "[400]\ttraining's auc: 0.753389\tvalid_1's auc: 0.681497\n",
      "[500]\ttraining's auc: 0.766233\tvalid_1's auc: 0.681486\n",
      "[600]\ttraining's auc: 0.778366\tvalid_1's auc: 0.681146\n",
      "Early stopping, best iteration is:\n",
      "[435]\ttraining's auc: 0.758405\tvalid_1's auc: 0.682498\n",
      "Training until validation scores don't improve for 200 rounds.\n",
      "[100]\ttraining's auc: 0.683716\tvalid_1's auc: 0.684916\n",
      "[200]\ttraining's auc: 0.71595\tvalid_1's auc: 0.687196\n",
      "[300]\ttraining's auc: 0.737669\tvalid_1's auc: 0.685327\n",
      "[400]\ttraining's auc: 0.752982\tvalid_1's auc: 0.68219\n",
      "Early stopping, best iteration is:\n",
      "[206]\ttraining's auc: 0.717953\tvalid_1's auc: 0.689071\n"
     ]
    },
    {
     "name": "stderr",
     "output_type": "stream",
     "text": [
      "/home/sakhtar0092/anaconda2/lib/python2.7/site-packages/ipykernel_launcher.py:12: SettingWithCopyWarning: \n",
      "A value is trying to be set on a copy of a slice from a DataFrame.\n",
      "Try using .loc[row_indexer,col_indexer] = value instead\n",
      "\n",
      "See the caveats in the documentation: http://pandas.pydata.org/pandas-docs/stable/indexing.html#indexing-view-versus-copy\n",
      "  if sys.path[0] == '':\n",
      "/home/sakhtar0092/anaconda2/lib/python2.7/site-packages/ipykernel_launcher.py:13: SettingWithCopyWarning: \n",
      "A value is trying to be set on a copy of a slice from a DataFrame.\n",
      "Try using .loc[row_indexer,col_indexer] = value instead\n",
      "\n",
      "See the caveats in the documentation: http://pandas.pydata.org/pandas-docs/stable/indexing.html#indexing-view-versus-copy\n",
      "  del sys.path[0]\n"
     ]
    }
   ],
   "source": [
    "meta_train = np.zeros(train.shape[0])\n",
    "meta_test = []\n",
    "feature_importance = pd.DataFrame(columns = [\"feature\",\"split\",\"gain\"])\n",
    "\n",
    "kf = StratifiedKFold(n_splits= 10, shuffle=True, random_state=47)\n",
    "for fold_id, (train_index, test_index) in enumerate(kf.split(train, target)):\n",
    "    x_train, x_test = train.iloc[train_index], train.iloc[test_index]\n",
    "    y_train, y_test = target[train_index], target[test_index]\n",
    "\n",
    "    model_tree(x_train, x_test, y_train, y_test, test, meta_train, meta_test,train_index, test_index,fold_id)\n",
    "\n",
    "partial_test_id[\"TARGET\"] = np.array(meta_test).T.mean(axis=1)\n",
    "partial_train_id[\"TARGET\"] = meta_train"
   ]
  },
  {
   "cell_type": "code",
   "execution_count": 11,
   "metadata": {
    "collapsed": true
   },
   "outputs": [],
   "source": [
    "train_id = train_id[[\"SK_ID_CURR\"]].merge(partial_train_id, how=\"left\", on=\"SK_ID_CURR\")\n",
    "test_id = test_id[[\"SK_ID_CURR\"]].merge(partial_test_id, how=\"left\", on=\"SK_ID_CURR\")\n",
    "\n",
    "train_id.to_csv(\"csv/{}_train.csv\".format(model_name), index=False)\n",
    "test_id.to_csv(\"csv/{}_test.csv\".format(model_name), index=False)"
   ]
  },
  {
   "cell_type": "markdown",
   "metadata": {},
   "source": [
    "# Get Feature Importance"
   ]
  },
  {
   "cell_type": "code",
   "execution_count": 12,
   "metadata": {
    "collapsed": true
   },
   "outputs": [],
   "source": [
    "# Print Feature Importance\n",
    "feature_importance.to_csv(\"csv/{}_all_fi.csv\".format(model_name), index = False)\n",
    "feature_importance = feature_importance.groupby(\"feature\")[[\"gain\",\"split\"]].mean().sort_values('gain', ascending=False).reset_index()\n",
    "\n",
    "plt.figure()\n",
    "feature_importance[['feature','gain']].head(60).plot(kind='barh', x='feature', y='gain', legend=False, figsize=(30, 100))\n",
    "plt.gcf().savefig('csv/{}.png'.format(model_name))\n"
   ]
  },
  {
   "cell_type": "code",
   "execution_count": null,
   "metadata": {
    "collapsed": true
   },
   "outputs": [],
   "source": []
  },
  {
   "cell_type": "code",
   "execution_count": null,
   "metadata": {
    "collapsed": true
   },
   "outputs": [],
   "source": []
  },
  {
   "cell_type": "code",
   "execution_count": null,
   "metadata": {
    "collapsed": true
   },
   "outputs": [],
   "source": []
  },
  {
   "cell_type": "code",
   "execution_count": null,
   "metadata": {
    "collapsed": true
   },
   "outputs": [],
   "source": []
  },
  {
   "cell_type": "code",
   "execution_count": null,
   "metadata": {
    "collapsed": true
   },
   "outputs": [],
   "source": []
  },
  {
   "cell_type": "code",
   "execution_count": null,
   "metadata": {
    "collapsed": true
   },
   "outputs": [],
   "source": []
  },
  {
   "cell_type": "code",
   "execution_count": null,
   "metadata": {
    "collapsed": true
   },
   "outputs": [],
   "source": []
  }
 ],
 "metadata": {
  "kernelspec": {
   "display_name": "Python 2",
   "language": "python",
   "name": "python2"
  },
  "language_info": {
   "codemirror_mode": {
    "name": "ipython",
    "version": 2
   },
   "file_extension": ".py",
   "mimetype": "text/x-python",
   "name": "python",
   "nbconvert_exporter": "python",
   "pygments_lexer": "ipython2",
   "version": "2.7.14"
  }
 },
 "nbformat": 4,
 "nbformat_minor": 2
}
