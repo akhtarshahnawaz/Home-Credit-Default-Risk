{
 "cells": [
  {
   "cell_type": "code",
   "execution_count": 15,
   "metadata": {
    "collapsed": true
   },
   "outputs": [],
   "source": [
    "model_name = \"testing_consistency\""
   ]
  },
  {
   "cell_type": "code",
   "execution_count": 16,
   "metadata": {
    "collapsed": true
   },
   "outputs": [],
   "source": [
    "import numpy as np\n",
    "import pandas as pd\n",
    "import gc\n",
    "from time import time\n",
    "from contextlib import contextmanager\n",
    "from lightgbm import LGBMClassifier\n",
    "from sklearn.metrics import roc_auc_score, roc_curve\n",
    "from sklearn.model_selection import KFold, StratifiedKFold\n",
    "import matplotlib.pyplot as plt\n",
    "import seaborn as sns\n",
    "import warnings\n",
    "from sklearn.preprocessing import LabelEncoder,OneHotEncoder\n",
    "from sklearn.preprocessing import MinMaxScaler"
   ]
  },
  {
   "cell_type": "code",
   "execution_count": 17,
   "metadata": {
    "collapsed": true
   },
   "outputs": [],
   "source": [
    "timesheet = [time()]\n",
    "def timer(statement):\n",
    "    global timesheet\n",
    "    timesheet.append(time())\n",
    "    print statement+\" :\", (timesheet[-1]-timesheet[-2]),\"seconds\"\n",
    "\n",
    "def one_hot_encoder(df, nan_as_category = True):\n",
    "    original_columns = list(df.columns)\n",
    "    categorical_columns = [col for col in df.columns if df[col].dtype == 'object']\n",
    "    df = pd.get_dummies(df, columns= categorical_columns, dummy_na= nan_as_category)\n",
    "    new_columns = [c for c in df.columns if c not in original_columns]\n",
    "    return df, new_columns\n",
    "\n",
    "def load_meta(directory, prefix, modeltype):\n",
    "    m_tr = pd.read_csv(directory+prefix+\"_train.csv\")\n",
    "    m_te = pd.read_csv(directory+prefix+\"_test.csv\")\n",
    "    data = pd.concat([m_tr, m_te], axis=0).reset_index(drop=True)\n",
    "    data.columns = [\"{}_{}_{}\".format(c, prefix, modeltype) if c!=\"SK_ID_CURR\" else c for c in data.columns]\n",
    "    return data\n",
    "\n",
    "def join_features(data, features):\n",
    "    for item in features:\n",
    "        data = data.merge(item, how = \"left\", on = \"SK_ID_CURR\")\n",
    "    return data\n",
    "\n",
    "def postprocess(df):\n",
    "    cols = [c for c in df.columns if c not in [\"SK_ID_CURR\",\"SK_ID_PREV\",\"TARGET\"]]\n",
    "    df = df.replace([np.inf, -np.inf], np.nan)\n",
    "    return df\n",
    "\n",
    "def load_neptune(directory, modelname):\n",
    "    m_tr = pd.read_csv(directory+\"lightGBM_out_of_fold_train_predictions.csv\", usecols = [\"SK_ID_CURR\",\"lightGBM_prediction\"])\n",
    "    m_te = pd.read_csv(directory+\"lightGBM_out_of_fold_test_predictions.csv\", usecols = [\"SK_ID_CURR\",\"lightGBM_prediction\"])\n",
    "    m_te = m_te.groupby(\"SK_ID_CURR\")[\"lightGBM_prediction\"].mean().reset_index()\n",
    "    \n",
    "    data = pd.concat([m_tr, m_te], axis=0).reset_index(drop=True)\n",
    "    data.columns = [\"SK_ID_CURR\", \"neptune_{}\".format(modelname)]\n",
    "    return data"
   ]
  },
  {
   "cell_type": "markdown",
   "metadata": {},
   "source": [
    "# Loading Meta Files"
   ]
  },
  {
   "cell_type": "code",
   "execution_count": 60,
   "metadata": {
    "collapsed": true
   },
   "outputs": [],
   "source": [
    "l1_features = [\n",
    "    load_meta(\"../l1/csv/\", \"l1_gnb\", \"l1\"),\n",
    "    load_meta(\"../l1/csv/\", \"l1_lr\", \"l1\"),\n",
    "    load_meta(\"../l1/csv/\", \"l1_tree_with_flags\", \"l1\"),\n",
    "    load_meta(\"../l1/csv/\", \"l1_tree_without_flags\", \"l1\"),\n",
    "    load_meta(\"../l1/csv/\", \"tree_with_flags_without_meta\", \"l1\"),\n",
    "    load_meta(\"../l1/csv/\", \"tree_without_flags_without_meta\", \"l1\"),\n",
    "    load_meta(\"../l1/csv/\", \"tree_on_core_features_with_meta\", \"l1\"),\n",
    "]\n",
    "\n",
    "neptune_features = [\n",
    "    load_neptune(\"../base neptune/m1/csv/\", \"m1\"),\n",
    "    load_neptune(\"../base neptune/m2/csv/\", \"m2\"),\n",
    "    load_neptune(\"../base neptune/m3/csv/\", \"m3\"),\n",
    "    load_neptune(\"../base neptune/m4/csv/\", \"m4\"),\n",
    "]\n",
    "\n",
    "extra_models = [\n",
    "    load_meta(\"../base mixtures/csv/\", \"knn_on_selected_pca\", \"extras\"),\n",
    "    load_meta(\"../base mixtures/csv/\", \"lgbm_on_core_features\", \"extras\"),\n",
    "    load_meta(\"../base mixtures/csv/\", \"lgbm_on_gp_features\", \"extras\"),\n",
    "    load_meta(\"../base mixtures/csv/\", \"lr_on_core_features\", \"extras\"),\n",
    "    load_meta(\"../base mixtures/csv/\", \"nn\", \"extras\"),\n",
    "    load_meta(\"../base mixtures/csv/\", \"using_lags_bureau_data\", \"extras\"),\n",
    "\n",
    "]"
   ]
  },
  {
   "cell_type": "code",
   "execution_count": 61,
   "metadata": {
    "collapsed": true
   },
   "outputs": [],
   "source": [
    "def application_train_test(num_rows = None, nan_as_category = False):\n",
    "    # Read data and merge\n",
    "    df = pd.read_csv('../data/application_train.csv', nrows= num_rows, usecols=[\"TARGET\",\"SK_ID_CURR\"])\n",
    "    test_df = pd.read_csv('../data/application_test.csv', nrows= num_rows, usecols=[\"SK_ID_CURR\"])\n",
    "\n",
    "    print(\"Train samples: {}, test samples: {}\".format(len(df), len(test_df)))\n",
    "    df = df.append(test_df).reset_index()\n",
    "#     # Optional: Remove 4 applications with XNA CODE_GENDER (train set)\n",
    "#     df = df[df['CODE_GENDER'] != 'XNA']\n",
    "\n",
    "#     docs = [_f for _f in df.columns if 'FLAG_DOC' in _f]\n",
    "#     live = [_f for _f in df.columns if ('FLAG_' in _f) & ('FLAG_DOC' not in _f) & ('_FLAG_' not in _f)]\n",
    "\n",
    "#     # NaN values for DAYS_EMPLOYED: 365.243 -> nan\n",
    "#     df['DAYS_EMPLOYED'].replace(365243, np.nan, inplace= True)\n",
    "\n",
    "#     inc_by_org = df[['AMT_INCOME_TOTAL', 'ORGANIZATION_TYPE']].groupby('ORGANIZATION_TYPE').median()['AMT_INCOME_TOTAL']\n",
    "\n",
    "#     df['NEW_CREDIT_TO_ANNUITY_RATIO'] = df['AMT_CREDIT'] / df['AMT_ANNUITY'].astype(\"float32\")\n",
    "#     df['NEW_CREDIT_TO_GOODS_RATIO'] = df['AMT_CREDIT'] / df['AMT_GOODS_PRICE'].astype(\"float32\")\n",
    "#     df['NEW_DOC_IND_KURT'] = df[docs].kurtosis(axis=1)\n",
    "#     df['NEW_LIVE_IND_SUM'] = df[live].sum(axis=1)\n",
    "#     df['NEW_INC_PER_CHLD'] = df['AMT_INCOME_TOTAL'] / (1 + df['CNT_CHILDREN']).astype(\"float32\")\n",
    "#     df['NEW_INC_BY_ORG'] = df['ORGANIZATION_TYPE'].map(inc_by_org)\n",
    "#     df['NEW_EMPLOY_TO_BIRTH_RATIO'] = df['DAYS_EMPLOYED'] / df['DAYS_BIRTH'].astype(\"float32\")\n",
    "#     df['NEW_ANNUITY_TO_INCOME_RATIO'] = df['AMT_ANNUITY'] / (1 + df['AMT_INCOME_TOTAL']).astype(\"float32\")\n",
    "#     df['NEW_SOURCES_PROD'] = df['EXT_SOURCE_1'] * df['EXT_SOURCE_2'] * df['EXT_SOURCE_3']\n",
    "#     df['NEW_EXT_SOURCES_MEAN'] = df[['EXT_SOURCE_1', 'EXT_SOURCE_2', 'EXT_SOURCE_3']].mean(axis=1)\n",
    "#     df['NEW_SCORES_STD'] = df[['EXT_SOURCE_1', 'EXT_SOURCE_2', 'EXT_SOURCE_3']].std(axis=1)\n",
    "#     df['NEW_SCORES_STD'] = df['NEW_SCORES_STD'].fillna(df['NEW_SCORES_STD'].mean())\n",
    "#     df['NEW_CAR_TO_BIRTH_RATIO'] = df['OWN_CAR_AGE'] / df['DAYS_BIRTH'].astype(\"float32\")\n",
    "#     df['NEW_CAR_TO_EMPLOY_RATIO'] = df['OWN_CAR_AGE'] / df['DAYS_EMPLOYED'].astype(\"float32\")\n",
    "#     df['NEW_PHONE_TO_BIRTH_RATIO'] = df['DAYS_LAST_PHONE_CHANGE'] / df['DAYS_BIRTH'].astype(\"float32\")\n",
    "#     df['NEW_PHONE_TO_BIRTH_RATIO_EMPLOYER'] = df['DAYS_LAST_PHONE_CHANGE'] / df['DAYS_EMPLOYED'].astype(\"float32\")\n",
    "#     df['NEW_CREDIT_TO_INCOME_RATIO'] = df['AMT_CREDIT'] / df['AMT_INCOME_TOTAL'].astype(\"float32\")\n",
    "\n",
    "#     # Categorical features with Binary encode (0 or 1; two categories)\n",
    "#     for bin_feature in ['CODE_GENDER', 'FLAG_OWN_CAR', 'FLAG_OWN_REALTY']:\n",
    "#         df[bin_feature], uniques = pd.factorize(df[bin_feature])\n",
    "#     # Categorical features with One-Hot encode\n",
    "#     df, cat_cols = one_hot_encoder(df, nan_as_category)\n",
    "#     dropcolum=['FLAG_DOCUMENT_2','FLAG_DOCUMENT_4',\n",
    "#     'FLAG_DOCUMENT_5','FLAG_DOCUMENT_6','FLAG_DOCUMENT_7',\n",
    "#     'FLAG_DOCUMENT_8','FLAG_DOCUMENT_9','FLAG_DOCUMENT_10', \n",
    "#     'FLAG_DOCUMENT_11','FLAG_DOCUMENT_12','FLAG_DOCUMENT_13',\n",
    "#     'FLAG_DOCUMENT_14','FLAG_DOCUMENT_15','FLAG_DOCUMENT_16',\n",
    "#     'FLAG_DOCUMENT_17','FLAG_DOCUMENT_18','FLAG_DOCUMENT_19',\n",
    "#     'FLAG_DOCUMENT_20','FLAG_DOCUMENT_21']\n",
    "#     df= df.drop(dropcolum,axis=1)\n",
    "#     del test_df\n",
    "#     gc.collect()\n",
    "    return df"
   ]
  },
  {
   "cell_type": "markdown",
   "metadata": {},
   "source": [
    "# Generate Data For Training"
   ]
  },
  {
   "cell_type": "code",
   "execution_count": 62,
   "metadata": {},
   "outputs": [
    {
     "name": "stdout",
     "output_type": "stream",
     "text": [
      "Init..  : 577.667269945 seconds\n",
      "Train samples: 307511, test samples: 48744\n",
      "Done with Application Train and Test : 2.33161091805 seconds\n",
      "Done with Meta Features : 0.841617107391 seconds\n"
     ]
    }
   ],
   "source": [
    "num_rows = None\n",
    "timer(\"Init.. \")\n",
    "\n",
    "data = application_train_test(num_rows)\n",
    "timer(\"Done with Application Train and Test\")\n",
    "\n",
    "data = postprocess(data)\n",
    "\n",
    "data = join_features(data, l1_features)\n",
    "data = join_features(data, neptune_features)\n",
    "data = join_features(data, extra_models)\n",
    "timer(\"Done with Meta Features\")\n",
    "\n",
    "train = data[data['TARGET'].notnull()]\n",
    "test = data[data['TARGET'].isnull()]\n",
    "\n",
    "target = train.TARGET\n",
    "train_id = train[[\"SK_ID_CURR\"]]\n",
    "test_id = test[[\"SK_ID_CURR\"]]\n",
    "\n",
    "train = train.drop(['TARGET','SK_ID_CURR','index'], axis=1)\n",
    "test = test.drop(['TARGET','SK_ID_CURR','index'], axis=1)"
   ]
  },
  {
   "cell_type": "markdown",
   "metadata": {},
   "source": [
    "# Defining Model"
   ]
  },
  {
   "cell_type": "code",
   "execution_count": 63,
   "metadata": {
    "collapsed": true
   },
   "outputs": [],
   "source": [
    "import lightgbm as lgb\n",
    "def model_tree(x_train, x_test, y_train, y_test, test, meta_train, meta_test,train_index, test_index,fold_id):\n",
    "    dtrain = lgb.Dataset(x_train, label=y_train)\n",
    "    dval = lgb.Dataset(x_test, label=y_test)\n",
    "    params = {\n",
    "        'num_leaves': 8, \n",
    "        'reg_alpha': 0.6, \n",
    "        'n_jobs': -1, \n",
    "        'colsample_bytree': 0.6, \n",
    "        'silent': -1, \n",
    "        'subsample_for_bin': 200000, \n",
    "        'subsample_freq': 1, \n",
    "        'learning_rate': 0.02, \n",
    "        'boosting_type': 'gbdt', \n",
    "        'nthread': 8, \n",
    "        'min_child_weight': 20, \n",
    "        'min_split_gain': 0.0222415, \n",
    "        'n_estimators': 10000, \n",
    "        'subsample': 0.6, \n",
    "        'reg_lambda': 0.2, \n",
    "        'objective': \"binary\",\n",
    "        'verbose': -1, \n",
    "        'min_child_samples': 20, \n",
    "        'max_depth': 3, \n",
    "        'class_weight': None,\n",
    "        \"bagging_seed\" : 3143,\n",
    "        \"seed\":1343,\n",
    "        \"metric\":\"auc\"\n",
    "    }\n",
    "    model = lgb.train(params, dtrain, num_boost_round=5000,valid_sets=[dtrain, dval], early_stopping_rounds=200, verbose_eval=100)\n",
    "    \n",
    "    p_train = model.predict(x_test, num_iteration=model.best_iteration or 5000)\n",
    "    p_test = model.predict(test, num_iteration=model.best_iteration or 5000)\n",
    "    meta_train[test_index] = pd.Series(p_train).rank(pct  =True)\n",
    "    meta_test.append(pd.Series(p_test).rank(pct  =True))\n",
    "    \n",
    "    global roc_scores\n",
    "    roc_scores.append(roc_auc_score(y_test,meta_train[test_index]))\n",
    "    # Calculate Feature Importance\n",
    "    global feature_importance\n",
    "    gain = model.feature_importance('gain')\n",
    "    fold_feature_importance = pd.DataFrame({'feature':model.feature_name(), 'split':model.feature_importance('split'), 'gain':100 * gain / gain.sum()})\n",
    "    feature_importance = feature_importance.append(fold_feature_importance, ignore_index=True) "
   ]
  },
  {
   "cell_type": "markdown",
   "metadata": {},
   "source": [
    "# Training Classifier"
   ]
  },
  {
   "cell_type": "code",
   "execution_count": 64,
   "metadata": {
    "scrolled": true
   },
   "outputs": [
    {
     "name": "stdout",
     "output_type": "stream",
     "text": [
      "Training until validation scores don't improve for 200 rounds.\n",
      "[100]\ttraining's auc: 0.797609\tvalid_1's auc: 0.790266\n",
      "[200]\ttraining's auc: 0.79774\tvalid_1's auc: 0.790294\n",
      "Early stopping, best iteration is:\n",
      "[77]\ttraining's auc: 0.797436\tvalid_1's auc: 0.790454\n",
      "Training until validation scores don't improve for 200 rounds.\n",
      "[100]\ttraining's auc: 0.79639\tvalid_1's auc: 0.800933\n",
      "[200]\ttraining's auc: 0.796583\tvalid_1's auc: 0.801004\n",
      "[300]\ttraining's auc: 0.796822\tvalid_1's auc: 0.801032\n",
      "[400]\ttraining's auc: 0.797107\tvalid_1's auc: 0.801089\n",
      "[500]\ttraining's auc: 0.797379\tvalid_1's auc: 0.801107\n",
      "[600]\ttraining's auc: 0.797631\tvalid_1's auc: 0.801121\n",
      "[700]\ttraining's auc: 0.79787\tvalid_1's auc: 0.80111\n",
      "Early stopping, best iteration is:\n",
      "[555]\ttraining's auc: 0.797511\tvalid_1's auc: 0.801155\n",
      "Training until validation scores don't improve for 200 rounds.\n",
      "[100]\ttraining's auc: 0.796417\tvalid_1's auc: 0.800361\n",
      "[200]\ttraining's auc: 0.796603\tvalid_1's auc: 0.800512\n",
      "[300]\ttraining's auc: 0.796874\tvalid_1's auc: 0.800505\n",
      "Early stopping, best iteration is:\n",
      "[147]\ttraining's auc: 0.796564\tvalid_1's auc: 0.800554\n",
      "Training until validation scores don't improve for 200 rounds.\n",
      "[100]\ttraining's auc: 0.79625\tvalid_1's auc: 0.802339\n",
      "[200]\ttraining's auc: 0.796384\tvalid_1's auc: 0.802598\n",
      "[300]\ttraining's auc: 0.796653\tvalid_1's auc: 0.802509\n",
      "Early stopping, best iteration is:\n",
      "[134]\ttraining's auc: 0.796354\tvalid_1's auc: 0.802618\n",
      "Training until validation scores don't improve for 200 rounds.\n",
      "[100]\ttraining's auc: 0.797178\tvalid_1's auc: 0.79415\n",
      "[200]\ttraining's auc: 0.797319\tvalid_1's auc: 0.794171\n",
      "[300]\ttraining's auc: 0.797573\tvalid_1's auc: 0.794195\n",
      "Early stopping, best iteration is:\n",
      "[161]\ttraining's auc: 0.797279\tvalid_1's auc: 0.794257\n",
      "Training until validation scores don't improve for 200 rounds.\n",
      "[100]\ttraining's auc: 0.798013\tvalid_1's auc: 0.786584\n",
      "[200]\ttraining's auc: 0.79816\tvalid_1's auc: 0.786858\n",
      "[300]\ttraining's auc: 0.798426\tvalid_1's auc: 0.786832\n",
      "Early stopping, best iteration is:\n",
      "[165]\ttraining's auc: 0.798126\tvalid_1's auc: 0.786879\n",
      "Training until validation scores don't improve for 200 rounds.\n",
      "[100]\ttraining's auc: 0.795983\tvalid_1's auc: 0.804864\n",
      "[200]\ttraining's auc: 0.796131\tvalid_1's auc: 0.805002\n",
      "[300]\ttraining's auc: 0.796396\tvalid_1's auc: 0.804974\n",
      "Early stopping, best iteration is:\n",
      "[169]\ttraining's auc: 0.79609\tvalid_1's auc: 0.805044\n",
      "Training until validation scores don't improve for 200 rounds.\n",
      "[100]\ttraining's auc: 0.797668\tvalid_1's auc: 0.789871\n",
      "[200]\ttraining's auc: 0.797781\tvalid_1's auc: 0.789989\n",
      "Early stopping, best iteration is:\n",
      "[60]\ttraining's auc: 0.797496\tvalid_1's auc: 0.790007\n",
      "Training until validation scores don't improve for 200 rounds.\n",
      "[100]\ttraining's auc: 0.797156\tvalid_1's auc: 0.793898\n",
      "[200]\ttraining's auc: 0.79734\tvalid_1's auc: 0.793911\n",
      "[300]\ttraining's auc: 0.797577\tvalid_1's auc: 0.793968\n",
      "Early stopping, best iteration is:\n",
      "[115]\ttraining's auc: 0.797195\tvalid_1's auc: 0.794003\n",
      "Training until validation scores don't improve for 200 rounds.\n",
      "[100]\ttraining's auc: 0.79663\tvalid_1's auc: 0.798828\n",
      "[200]\ttraining's auc: 0.796809\tvalid_1's auc: 0.798894\n",
      "[300]\ttraining's auc: 0.79707\tvalid_1's auc: 0.79895\n",
      "[400]\ttraining's auc: 0.797342\tvalid_1's auc: 0.798923\n",
      "[500]\ttraining's auc: 0.797634\tvalid_1's auc: 0.798963\n",
      "[600]\ttraining's auc: 0.797875\tvalid_1's auc: 0.798914\n",
      "[700]\ttraining's auc: 0.798082\tvalid_1's auc: 0.798897\n",
      "Early stopping, best iteration is:\n",
      "[502]\ttraining's auc: 0.797638\tvalid_1's auc: 0.798964\n"
     ]
    }
   ],
   "source": [
    "meta_train = np.zeros(train.shape[0])\n",
    "meta_test = []\n",
    "feature_importance = pd.DataFrame(columns = [\"feature\",\"split\",\"gain\"])\n",
    "roc_scores = []\n",
    "kf = StratifiedKFold(n_splits= 10, shuffle=True, random_state=47)\n",
    "for fold_id, (train_index, test_index) in enumerate(kf.split(train, target)):\n",
    "    x_train, x_test = train.iloc[train_index], train.iloc[test_index]\n",
    "    y_train, y_test = target[train_index], target[test_index]\n",
    "\n",
    "    model_tree(x_train, x_test, y_train, y_test, test, meta_train, meta_test,train_index, test_index,fold_id)\n",
    "\n",
    "test_id[\"TARGET\"] = np.array(meta_test).T.mean(axis=1)\n",
    "train_id[\"TARGET\"] = meta_train"
   ]
  },
  {
   "cell_type": "code",
   "execution_count": 65,
   "metadata": {},
   "outputs": [
    {
     "name": "stdout",
     "output_type": "stream",
     "text": [
      "0.7964162223585018 0.7963935960078921 0.005805475029734116\n"
     ]
    }
   ],
   "source": [
    "print roc_auc_score(target, meta_train), np.mean(roc_scores), np.std(roc_scores)"
   ]
  },
  {
   "cell_type": "code",
   "execution_count": 66,
   "metadata": {
    "collapsed": true
   },
   "outputs": [],
   "source": [
    "# All 0.7994254463684968 0.7993540322311966 0.005739664094703111\n",
    "# Removing GNB 0.7994209223662303 0.7994101785078225 0.005698645371701253\n",
    "# Removing NN 0.7995554382613302 0.7995178641615923 0.005721003196940527\n",
    "# Removing GNB and NN 0.7995550394828136 0.7995350363356779 0.005760394888299419\n",
    "# Removing LR and NN 0.7995640485856014 0.7995391210455766 0.005786565411124571\n",
    "# Removing KNN, GP Feats and Nn 0.7992251925082449 0.7991880177095584 0.005715337388051275\n",
    "# Using Only Neptune Feats 0.7964162223585018 0.7963935960078921 0.005805475029734116"
   ]
  },
  {
   "cell_type": "code",
   "execution_count": null,
   "metadata": {
    "collapsed": true
   },
   "outputs": [],
   "source": []
  },
  {
   "cell_type": "code",
   "execution_count": null,
   "metadata": {
    "collapsed": true
   },
   "outputs": [],
   "source": []
  }
 ],
 "metadata": {
  "kernelspec": {
   "display_name": "Python 2",
   "language": "python",
   "name": "python2"
  },
  "language_info": {
   "codemirror_mode": {
    "name": "ipython",
    "version": 2
   },
   "file_extension": ".py",
   "mimetype": "text/x-python",
   "name": "python",
   "nbconvert_exporter": "python",
   "pygments_lexer": "ipython2",
   "version": "2.7.14"
  }
 },
 "nbformat": 4,
 "nbformat_minor": 2
}
