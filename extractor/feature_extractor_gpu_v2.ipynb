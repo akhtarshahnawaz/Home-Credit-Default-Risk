{
 "cells": [
  {
   "cell_type": "code",
   "execution_count": 1,
   "metadata": {
    "collapsed": true
   },
   "outputs": [],
   "source": [
    "version = \"2\""
   ]
  },
  {
   "cell_type": "code",
   "execution_count": 2,
   "metadata": {
    "collapsed": true
   },
   "outputs": [],
   "source": [
    "import numpy as np\n",
    "import pandas as pd\n",
    "import gc\n",
    "from time import time\n",
    "from contextlib import contextmanager\n",
    "from lightgbm import LGBMClassifier\n",
    "from sklearn.metrics import roc_auc_score, roc_curve\n",
    "from sklearn.model_selection import KFold, StratifiedKFold\n",
    "import matplotlib.pyplot as plt\n",
    "import seaborn as sns\n",
    "import warnings\n",
    "from sklearn.preprocessing import LabelEncoder,OneHotEncoder, Normalizer\n",
    "%matplotlib inline"
   ]
  },
  {
   "cell_type": "code",
   "execution_count": 3,
   "metadata": {
    "collapsed": true
   },
   "outputs": [],
   "source": [
    "timesheet = [time()]\n",
    "def timer(statement):\n",
    "    global timesheet\n",
    "    timesheet.append(time())\n",
    "    print statement+\" :\", (timesheet[-1]-timesheet[-2]),\"seconds\""
   ]
  },
  {
   "cell_type": "markdown",
   "metadata": {},
   "source": [
    "# Feature Generators"
   ]
  },
  {
   "cell_type": "code",
   "execution_count": 4,
   "metadata": {
    "collapsed": true
   },
   "outputs": [],
   "source": [
    "from numba import njit, prange,jit\n",
    "@jit(nopython=True, parallel=True)\n",
    "def get_regression_coefficient(ys, xs, counts):\n",
    "    output = np.zeros(counts.shape[0]-1)\n",
    "    for i in prange(counts.shape[0]-1):\n",
    "        x = xs[counts[i] : counts[i+1]]\n",
    "        y = ys[counts[i] : counts[i+1]]\n",
    "\n",
    "        output[i] = np.nan\n",
    "        length = y.shape[0]\n",
    "        sx = np.sum(x)\n",
    "        denominator = ((length*np.dot(x, x)) - (sx*sx))\n",
    "        \n",
    "        if length >0 and denominator != 0:\n",
    "            numerator = ((length*np.dot(x, y)) - (sx*np.sum(y)))\n",
    "            output[i] = numerator/denominator\n",
    "    return output"
   ]
  },
  {
   "cell_type": "code",
   "execution_count": 5,
   "metadata": {
    "collapsed": true
   },
   "outputs": [],
   "source": [
    "def get_trend_values(data):\n",
    "        y = data.apply(lambda x: x.dropna().values)\n",
    "        trends = pd.Series(index =  y.index)\n",
    "        \n",
    "        counts = np.insert(y.apply(lambda x: x.shape[0]).values, 0, 0)\n",
    "        x = np.concatenate(np.array([np.arange(c) for c in counts])).ravel().astype(np.float64)\n",
    "        y = np.concatenate(y.values).ravel().astype(np.float64)\n",
    "        counts = np.cumsum(counts)\n",
    "        \n",
    "        trends.iloc[:] = get_regression_coefficient(y, x, counts)\n",
    "        return trends"
   ]
  },
  {
   "cell_type": "code",
   "execution_count": 6,
   "metadata": {
    "collapsed": true
   },
   "outputs": [],
   "source": [
    "def generate_features(prefix, dataGroups, num_lags, colname, get_trend = False, get_kurtosis = True, to_calculate = [\"sum\", \"count\",\"nunique\",\"mean\",\"median\",\"max\",\"min\",\"std\",\"skew\"]):\n",
    "    global output\n",
    "    if len(to_calculate)> 0 :\n",
    "        print \"Getting Aggregates for column: {}, {}\".format(colname, num_lags)\n",
    "        aggregates = dataGroups[colname].agg(to_calculate)\n",
    "        aggregates.columns = [\"{}_{}_{}_{}\".format(prefix,colname, c, num_lags) for c in aggregates.columns]\n",
    "        output = output.merge(aggregates, how = \"left\", left_on = \"SK_ID_CURR\", right_index=True)\n",
    "        timer(\"Done Aggregating Column {}\".format(colname))\n",
    "    if get_kurtosis:\n",
    "        print \"Getting Kurtosis for Column: {}, {}\".format(colname, num_lags)\n",
    "        output[\"{}_{}_kurtosis_{}\".format(prefix,colname,num_lags)] = output[\"SK_ID_CURR\"].map(dataGroups[colname].apply(lambda x: x.kurt()))\n",
    "        timer(\"Done Getting Kurtosis for Column {}\".format(colname))\n",
    "\n",
    "    if get_trend:\n",
    "        print \"Getting Trend for column: {}, {}\".format(colname, num_lags)\n",
    "        output[\"{}_{}_trend_{}\".format(prefix, colname, num_lags)] = output[\"SK_ID_CURR\"].map(get_trend_values(dataGroups[colname]))\n",
    "        timer(\"Done Getting Trend for Column {}\".format(colname))\n"
   ]
  },
  {
   "cell_type": "markdown",
   "metadata": {},
   "source": [
    "# Feature Preprocessors"
   ]
  },
  {
   "cell_type": "code",
   "execution_count": 7,
   "metadata": {
    "collapsed": true
   },
   "outputs": [],
   "source": [
    "def one_hot_encoder(data, nan_as_category = True):\n",
    "    categorical_columns = [col for col in data.columns if data[col].dtype == 'object']\n",
    "    data = pd.get_dummies(data, columns= categorical_columns, dummy_na= nan_as_category)\n",
    "    return data\n",
    "\n",
    "def normalize_features(data, not_to_normalize):\n",
    "    columns_to_normalize = data.columns.drop(not_to_normalize)\n",
    "    data = data.replace([np.inf, -np.inf], np.nan)\n",
    "    print data.shape, \"Before dropping Na's\"\n",
    "    data = data.dropna(axis=1, how = \"all\")\n",
    "    print data.shape, \"After dropping Na's\"\n",
    "    for col in data.columns.drop(not_to_normalize):\n",
    "        data[col] = data[col].fillna(data[col].mean()).fillna(0)\n",
    "        data[col]= Normalizer().fit_transform(data[col].values.reshape(-1,1))\n",
    "    return data"
   ]
  },
  {
   "cell_type": "markdown",
   "metadata": {},
   "source": [
    "# Get Application Features"
   ]
  },
  {
   "cell_type": "code",
   "execution_count": 8,
   "metadata": {
    "collapsed": true
   },
   "outputs": [],
   "source": [
    "def GetApplicationFeatures(get_ohe = False, normalize = False, get_flags = False, train_path = \"../data/application_train.csv\", test_path = \"../data/application_test.csv\"):\n",
    "    # Loading Data\n",
    "    train = pd.read_csv(train_path)\n",
    "    test = pd.read_csv(test_path)\n",
    "    data = pd.concat([train, test], axis=0)\n",
    "    \n",
    "    # Cleaning {To be improved later}\n",
    "    data['CODE_GENDER'].replace('XNA', np.nan, inplace=True)\n",
    "    data['DAYS_EMPLOYED'].replace(365243, np.nan, inplace=True)\n",
    "    data['DAYS_LAST_PHONE_CHANGE'].replace(0, np.nan, inplace=True)\n",
    "    data['NAME_FAMILY_STATUS'].replace('Unknown', np.nan, inplace=True)\n",
    "    data['ORGANIZATION_TYPE'].replace('XNA', np.nan, inplace=True)\n",
    "    \n",
    "    # Feature Engineering on groupby\n",
    "    inc_by_org = data[['AMT_INCOME_TOTAL', 'ORGANIZATION_TYPE']].groupby('ORGANIZATION_TYPE').median()['AMT_INCOME_TOTAL']\n",
    "    data['new_inc_by_org'] = data['ORGANIZATION_TYPE'].map(inc_by_org)\n",
    "    \n",
    "    # Feature Engineering on Flag Columns\n",
    "    docs = [c for c in data.columns if 'FLAG_DOC' in c]\n",
    "    live = [c for c in data.columns if ('FLAG_' in c) & ('FLAG_DOC' not in c) & ('_FLAG_' not in c)]\n",
    "    data['new_doc_ind_kurt'] = data[docs].kurtosis(axis=1)\n",
    "    data['new_live_ind_sum'] = data[live].sum(axis=1)\n",
    "    \n",
    "    # Feature Engineering on feature interations\n",
    "    data['annuity_income_percentage'] = data['AMT_ANNUITY'] / data['AMT_INCOME_TOTAL'].astype(\"float32\")\n",
    "    data['car_to_birth_ratio'] = data['OWN_CAR_AGE'] / data['DAYS_BIRTH'].astype(\"float32\")\n",
    "    data['car_to_employ_ratio'] = data['OWN_CAR_AGE'] / data['DAYS_EMPLOYED'].astype(\"float32\")\n",
    "    data['children_ratio'] = data['CNT_CHILDREN'] / data['CNT_FAM_MEMBERS'].astype(\"float32\")\n",
    "    data['credit_to_annuity_ratio'] = data['AMT_CREDIT'] / data['AMT_ANNUITY'].astype(\"float32\")\n",
    "    data['credit_to_goods_ratio'] = data['AMT_CREDIT'] / data['AMT_GOODS_PRICE'].astype(\"float32\")\n",
    "    data['credit_to_income_ratio'] = data['AMT_CREDIT'] / data['AMT_INCOME_TOTAL'].astype(\"float32\")\n",
    "    data['days_employed_percentage'] = data['DAYS_EMPLOYED'] / data['DAYS_BIRTH'].astype(\"float32\")\n",
    "    data['income_credit_percentage'] = data['AMT_INCOME_TOTAL'] / data['AMT_CREDIT'].astype(\"float32\")\n",
    "    data['income_per_child'] = data['AMT_INCOME_TOTAL'] / (1 + data['CNT_CHILDREN']).astype(\"float32\")\n",
    "    data['income_per_person'] = data['AMT_INCOME_TOTAL'] / data['CNT_FAM_MEMBERS'].astype(\"float32\")\n",
    "    data['payment_rate'] = data['AMT_ANNUITY'] / data['AMT_CREDIT'].astype(\"float32\")\n",
    "    data['phone_to_birth_ratio'] = data['DAYS_LAST_PHONE_CHANGE'] / data['DAYS_BIRTH'].astype(\"float32\")\n",
    "    data['phone_to_employ_ratio'] = data['DAYS_LAST_PHONE_CHANGE'] / data['DAYS_EMPLOYED'].astype(\"float32\")\n",
    "    data['external_sources_weighted'] = data.EXT_SOURCE_1 * 2 + data.EXT_SOURCE_2 * 3 + data.EXT_SOURCE_3 * 4\n",
    "    data['external_sources_product'] = data.EXT_SOURCE_1 * data.EXT_SOURCE_2 *  data.EXT_SOURCE_3\n",
    "    data['cnt_non_child'] = data['CNT_FAM_MEMBERS'] - data['CNT_CHILDREN']\n",
    "    data['child_to_non_child_ratio'] = data['CNT_CHILDREN'] / data['cnt_non_child'].astype(\"float32\")\n",
    "    data['income_per_non_child'] = data['AMT_INCOME_TOTAL'] / data['cnt_non_child'].astype(\"float32\")\n",
    "    data['credit_per_person'] = data['AMT_CREDIT'] / data['CNT_FAM_MEMBERS'].astype(\"float32\")\n",
    "    data['credit_per_child'] = data['AMT_CREDIT'] / (1 + data['CNT_CHILDREN']).astype(\"float32\")\n",
    "    data['credit_per_non_child'] = data['AMT_CREDIT'] / data['cnt_non_child'].astype(\"float32\")\n",
    "    for function_name in ['min', 'max', 'sum', 'mean', 'nanmedian',\"std\"]:\n",
    "        data['external_sources_{}'.format(function_name)] = eval('np.{}'.format(function_name))(data[['EXT_SOURCE_1', 'EXT_SOURCE_2', 'EXT_SOURCE_3']], axis=1)\n",
    "\n",
    "    # Generating Binary Indicator Variables for Certain Columns\n",
    "    data['short_employment'] = (data['DAYS_EMPLOYED'] < -2000).astype(int)\n",
    "    data['young_age'] = (data['DAYS_BIRTH'] < -14000).astype(int)\n",
    "\n",
    "    # Handling Categorical Data\n",
    "    categorical_columns = [c for c in data.columns if data[c].dtype == \"object\"]\n",
    "\n",
    "    for bin_feature in ['CODE_GENDER', 'FLAG_OWN_CAR', 'FLAG_OWN_REALTY']:\n",
    "        data[bin_feature], uniques = pd.factorize(data[bin_feature])\n",
    "        \n",
    "    if get_ohe:\n",
    "        data = one_hot_encoder(data, True)\n",
    "    else:\n",
    "        for col in categorical_columns:\n",
    "            data[col] = LabelEncoder().fit_transform(data[col])\n",
    "    \n",
    "    # Normalizing Features\n",
    "    if normalize:\n",
    "        if get_ohe:\n",
    "            data = normalize_features(data,[\"SK_ID_CURR\",\"TARGET\"])\n",
    "        else:\n",
    "            data = normalize_features(data,[\"SK_ID_CURR\",\"TARGET\"]+categorical_columns)\n",
    "    \n",
    "    # Handling Flag Columns {Work some more on it}\n",
    "    flag_columns = ['FLAG_DOCUMENT_2','FLAG_DOCUMENT_4','FLAG_DOCUMENT_5','FLAG_DOCUMENT_6','FLAG_DOCUMENT_7','FLAG_DOCUMENT_8','FLAG_DOCUMENT_9','FLAG_DOCUMENT_10','FLAG_DOCUMENT_11','FLAG_DOCUMENT_12','FLAG_DOCUMENT_13','FLAG_DOCUMENT_14','FLAG_DOCUMENT_15','FLAG_DOCUMENT_16','FLAG_DOCUMENT_17','FLAG_DOCUMENT_18','FLAG_DOCUMENT_19','FLAG_DOCUMENT_20','FLAG_DOCUMENT_21']\n",
    "\n",
    "    if get_flags:\n",
    "        return data\n",
    "    else:\n",
    "        return data.drop(flag_columns, axis=1)"
   ]
  },
  {
   "cell_type": "code",
   "execution_count": 9,
   "metadata": {},
   "outputs": [
    {
     "name": "stderr",
     "output_type": "stream",
     "text": [
      "/home/sakhtar0092/anaconda2/lib/python2.7/site-packages/numpy/lib/function_base.py:4033: RuntimeWarning: All-NaN slice encountered\n",
      "  r = func(a, **kwargs)\n"
     ]
    },
    {
     "name": "stdout",
     "output_type": "stream",
     "text": [
      "(356255, 286) Before dropping Na's\n",
      "(356255, 286) After dropping Na's\n"
     ]
    }
   ],
   "source": [
    "get_normalized = True\n",
    "get_unnormalized = True\n",
    "\n",
    "if get_normalized:\n",
    "    output = GetApplicationFeatures(get_ohe = True, normalize = True, get_flags = True, train_path = \"../data/application_train.csv\", test_path = \"../data/application_test.csv\")\n",
    "    output.to_csv(\"csv/application_features_normalized_V{}.csv\".format(version), index=False)\n",
    "if get_unnormalized:\n",
    "    output = GetApplicationFeatures(get_ohe = False, normalize = False, get_flags = True, train_path = \"../data/application_train.csv\", test_path = \"../data/application_test.csv\")\n",
    "    output.to_csv(\"csv/application_features_V{}.csv\".format(version), index=False)"
   ]
  }
 ],
 "metadata": {
  "kernelspec": {
   "display_name": "Python 2",
   "language": "python",
   "name": "python2"
  },
  "language_info": {
   "codemirror_mode": {
    "name": "ipython",
    "version": 2
   },
   "file_extension": ".py",
   "mimetype": "text/x-python",
   "name": "python",
   "nbconvert_exporter": "python",
   "pygments_lexer": "ipython2",
   "version": "2.7.14"
  }
 },
 "nbformat": 4,
 "nbformat_minor": 2
}
