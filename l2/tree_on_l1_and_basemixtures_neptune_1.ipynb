{
 "cells": [
  {
   "cell_type": "code",
   "execution_count": 5,
   "metadata": {
    "collapsed": true
   },
   "outputs": [],
   "source": [
    "model_name = \"tree_on_l1_and_basemixtures_neptune_1\""
   ]
  },
  {
   "cell_type": "code",
   "execution_count": 6,
   "metadata": {
    "collapsed": true
   },
   "outputs": [],
   "source": [
    "import numpy as np\n",
    "import pandas as pd\n",
    "import gc\n",
    "from time import time\n",
    "from contextlib import contextmanager\n",
    "from lightgbm import LGBMClassifier\n",
    "from sklearn.metrics import roc_auc_score, roc_curve\n",
    "from sklearn.model_selection import KFold, StratifiedKFold\n",
    "import matplotlib.pyplot as plt\n",
    "import seaborn as sns\n",
    "import warnings\n",
    "from sklearn.preprocessing import LabelEncoder,OneHotEncoder\n",
    "from sklearn.preprocessing import MinMaxScaler"
   ]
  },
  {
   "cell_type": "code",
   "execution_count": 7,
   "metadata": {
    "collapsed": true
   },
   "outputs": [],
   "source": [
    "timesheet = [time()]\n",
    "def timer(statement):\n",
    "    global timesheet\n",
    "    timesheet.append(time())\n",
    "    print statement+\" :\", (timesheet[-1]-timesheet[-2]),\"seconds\"\n",
    "\n",
    "def one_hot_encoder(df, nan_as_category = True):\n",
    "    original_columns = list(df.columns)\n",
    "    categorical_columns = [col for col in df.columns if df[col].dtype == 'object']\n",
    "    df = pd.get_dummies(df, columns= categorical_columns, dummy_na= nan_as_category)\n",
    "    new_columns = [c for c in df.columns if c not in original_columns]\n",
    "    return df, new_columns\n",
    "\n",
    "def load_meta(directory, prefix, modeltype):\n",
    "    m_tr = pd.read_csv(directory+prefix+\"_train.csv\")\n",
    "    m_te = pd.read_csv(directory+prefix+\"_test.csv\")\n",
    "    data = pd.concat([m_tr, m_te], axis=0).reset_index(drop=True)\n",
    "    data.columns = [\"{}_{}_{}\".format(c, prefix, modeltype) if c!=\"SK_ID_CURR\" else c for c in data.columns]\n",
    "    return data\n",
    "\n",
    "def join_features(data, features):\n",
    "    for item in features:\n",
    "        data = data.merge(item, how = \"left\", on = \"SK_ID_CURR\")\n",
    "    return data\n",
    "\n",
    "def postprocess(df):\n",
    "    cols = [c for c in df.columns if c not in [\"SK_ID_CURR\",\"SK_ID_PREV\",\"TARGET\"]]\n",
    "    df = df.replace([np.inf, -np.inf], np.nan)\n",
    "    return df\n",
    "\n",
    "def load_neptune(directory, modelname):\n",
    "    m_tr = pd.read_csv(directory+\"lightGBM_out_of_fold_train_predictions.csv\", usecols = [\"SK_ID_CURR\",\"lightGBM_prediction\"])\n",
    "    m_te = pd.read_csv(directory+\"lightGBM_out_of_fold_test_predictions.csv\", usecols = [\"SK_ID_CURR\",\"lightGBM_prediction\"])\n",
    "    m_te = m_te.groupby(\"SK_ID_CURR\")[\"lightGBM_prediction\"].mean().reset_index()\n",
    "    \n",
    "    data = pd.concat([m_tr, m_te], axis=0).reset_index(drop=True)\n",
    "    data.columns = [\"SK_ID_CURR\", \"neptune_{}\".format(modelname)]\n",
    "    return data"
   ]
  },
  {
   "cell_type": "markdown",
   "metadata": {},
   "source": [
    "# Loading Meta Files"
   ]
  },
  {
   "cell_type": "code",
   "execution_count": 8,
   "metadata": {
    "collapsed": true
   },
   "outputs": [],
   "source": [
    "l1_features = [\n",
    "    load_meta(\"../l1/csv/\", \"l1_gnb\", \"l1\"),\n",
    "    load_meta(\"../l1/csv/\", \"l1_lr\", \"l1\"),\n",
    "    load_meta(\"../l1/csv/\", \"l1_tree_with_flags\", \"l1\"),\n",
    "    load_meta(\"../l1/csv/\", \"l1_tree_without_flags\", \"l1\"),\n",
    "    load_meta(\"../l1/csv/\", \"tree_with_flags_without_meta\", \"l1\"),\n",
    "    load_meta(\"../l1/csv/\", \"tree_without_flags_without_meta\", \"l1\"),\n",
    "    load_meta(\"../l1/csv/\", \"tree_on_core_features_with_meta\", \"l1\"),\n",
    "]\n",
    "\n",
    "neptune_features = [\n",
    "    load_neptune(\"../base neptune/m1/csv/\", \"m1\"),\n",
    "    load_neptune(\"../base neptune/m2/csv/\", \"m2\"),\n",
    "    load_neptune(\"../base neptune/m3/csv/\", \"m3\"),\n",
    "    load_neptune(\"../base neptune/m4/csv/\", \"m4\"),\n",
    "]\n",
    "\n",
    "mixture_models = [\n",
    "    load_meta(\"../base mixtures/csv/\", \"knn_on_selected_pca\", \"mixtures\"),\n",
    "    load_meta(\"../base mixtures/csv/\", \"lgbm_on_core_features\", \"mixtures\"),\n",
    "    load_meta(\"../base mixtures/csv/\", \"lgbm_on_gp_features\", \"mixtures\"),\n",
    "    load_meta(\"../base mixtures/csv/\", \"lr_on_core_features\", \"mixtures\"),\n",
    "    load_meta(\"../base mixtures/csv/\", \"nn\", \"mixtures\"),\n",
    "    load_meta(\"../base mixtures/csv/\", \"using_lags_bureau_data\", \"mixtures\"),\n",
    "\n",
    "]"
   ]
  },
  {
   "cell_type": "markdown",
   "metadata": {},
   "source": [
    "## Get Application Train/Test Data"
   ]
  },
  {
   "cell_type": "code",
   "execution_count": 9,
   "metadata": {
    "collapsed": true
   },
   "outputs": [],
   "source": [
    "def application_train_test(num_rows = None, nan_as_category = False):\n",
    "    # Read data and merge\n",
    "    df = pd.read_csv('../data/application_train.csv', nrows= num_rows)\n",
    "    test_df = pd.read_csv('../data/application_test.csv', nrows= num_rows)\n",
    "\n",
    "    print(\"Train samples: {}, test samples: {}\".format(len(df), len(test_df)))\n",
    "    df = df.append(test_df).reset_index()\n",
    "    # Optional: Remove 4 applications with XNA CODE_GENDER (train set)\n",
    "    df = df[df['CODE_GENDER'] != 'XNA']\n",
    "\n",
    "    docs = [_f for _f in df.columns if 'FLAG_DOC' in _f]\n",
    "    live = [_f for _f in df.columns if ('FLAG_' in _f) & ('FLAG_DOC' not in _f) & ('_FLAG_' not in _f)]\n",
    "\n",
    "    # NaN values for DAYS_EMPLOYED: 365.243 -> nan\n",
    "    df['DAYS_EMPLOYED'].replace(365243, np.nan, inplace= True)\n",
    "\n",
    "    inc_by_org = df[['AMT_INCOME_TOTAL', 'ORGANIZATION_TYPE']].groupby('ORGANIZATION_TYPE').median()['AMT_INCOME_TOTAL']\n",
    "\n",
    "    df['NEW_CREDIT_TO_ANNUITY_RATIO'] = df['AMT_CREDIT'] / df['AMT_ANNUITY'].astype(\"float32\")\n",
    "    df['NEW_CREDIT_TO_GOODS_RATIO'] = df['AMT_CREDIT'] / df['AMT_GOODS_PRICE'].astype(\"float32\")\n",
    "    df['NEW_DOC_IND_KURT'] = df[docs].kurtosis(axis=1)\n",
    "    df['NEW_LIVE_IND_SUM'] = df[live].sum(axis=1)\n",
    "    df['NEW_INC_PER_CHLD'] = df['AMT_INCOME_TOTAL'] / (1 + df['CNT_CHILDREN']).astype(\"float32\")\n",
    "    df['NEW_INC_BY_ORG'] = df['ORGANIZATION_TYPE'].map(inc_by_org)\n",
    "    df['NEW_EMPLOY_TO_BIRTH_RATIO'] = df['DAYS_EMPLOYED'] / df['DAYS_BIRTH'].astype(\"float32\")\n",
    "    df['NEW_ANNUITY_TO_INCOME_RATIO'] = df['AMT_ANNUITY'] / (1 + df['AMT_INCOME_TOTAL']).astype(\"float32\")\n",
    "    df['NEW_SOURCES_PROD'] = df['EXT_SOURCE_1'] * df['EXT_SOURCE_2'] * df['EXT_SOURCE_3']\n",
    "    df['NEW_EXT_SOURCES_MEAN'] = df[['EXT_SOURCE_1', 'EXT_SOURCE_2', 'EXT_SOURCE_3']].mean(axis=1)\n",
    "    df['NEW_SCORES_STD'] = df[['EXT_SOURCE_1', 'EXT_SOURCE_2', 'EXT_SOURCE_3']].std(axis=1)\n",
    "    df['NEW_SCORES_STD'] = df['NEW_SCORES_STD'].fillna(df['NEW_SCORES_STD'].mean())\n",
    "    df['NEW_CAR_TO_BIRTH_RATIO'] = df['OWN_CAR_AGE'] / df['DAYS_BIRTH'].astype(\"float32\")\n",
    "    df['NEW_CAR_TO_EMPLOY_RATIO'] = df['OWN_CAR_AGE'] / df['DAYS_EMPLOYED'].astype(\"float32\")\n",
    "    df['NEW_PHONE_TO_BIRTH_RATIO'] = df['DAYS_LAST_PHONE_CHANGE'] / df['DAYS_BIRTH'].astype(\"float32\")\n",
    "    df['NEW_PHONE_TO_BIRTH_RATIO_EMPLOYER'] = df['DAYS_LAST_PHONE_CHANGE'] / df['DAYS_EMPLOYED'].astype(\"float32\")\n",
    "    df['NEW_CREDIT_TO_INCOME_RATIO'] = df['AMT_CREDIT'] / df['AMT_INCOME_TOTAL'].astype(\"float32\")\n",
    "\n",
    "    # Categorical features with Binary encode (0 or 1; two categories)\n",
    "    for bin_feature in ['CODE_GENDER', 'FLAG_OWN_CAR', 'FLAG_OWN_REALTY']:\n",
    "        df[bin_feature], uniques = pd.factorize(df[bin_feature])\n",
    "    # Categorical features with One-Hot encode\n",
    "    df, cat_cols = one_hot_encoder(df, nan_as_category)\n",
    "    dropcolum=['FLAG_DOCUMENT_2','FLAG_DOCUMENT_4',\n",
    "    'FLAG_DOCUMENT_5','FLAG_DOCUMENT_6','FLAG_DOCUMENT_7',\n",
    "    'FLAG_DOCUMENT_8','FLAG_DOCUMENT_9','FLAG_DOCUMENT_10', \n",
    "    'FLAG_DOCUMENT_11','FLAG_DOCUMENT_12','FLAG_DOCUMENT_13',\n",
    "    'FLAG_DOCUMENT_14','FLAG_DOCUMENT_15','FLAG_DOCUMENT_16',\n",
    "    'FLAG_DOCUMENT_17','FLAG_DOCUMENT_18','FLAG_DOCUMENT_19',\n",
    "    'FLAG_DOCUMENT_20','FLAG_DOCUMENT_21']\n",
    "    df= df.drop(dropcolum,axis=1)\n",
    "    del test_df\n",
    "    gc.collect()\n",
    "    return df"
   ]
  },
  {
   "cell_type": "markdown",
   "metadata": {},
   "source": [
    "## Get Bureau & Bureau Balance Data"
   ]
  },
  {
   "cell_type": "code",
   "execution_count": 10,
   "metadata": {
    "collapsed": true
   },
   "outputs": [],
   "source": [
    "def bureau_and_balance(num_rows = None, nan_as_category = True):\n",
    "    bureau = pd.read_csv('../data/bureau.csv', nrows = num_rows)\n",
    "    bb = pd.read_csv('../data/bureau_balance.csv', nrows = num_rows)\n",
    "    bb, bb_cat = one_hot_encoder(bb, nan_as_category)\n",
    "    bureau, bureau_cat = one_hot_encoder(bureau, nan_as_category)\n",
    "\n",
    "    # Bureau balance: Perform aggregations and merge with bureau.csv\n",
    "    bb_aggregations = {'MONTHS_BALANCE': ['min', 'max', 'size']}\n",
    "    for col in bb_cat:\n",
    "        bb_aggregations[col] = ['mean']\n",
    "    bb_agg = bb.groupby('SK_ID_BUREAU').agg(bb_aggregations)\n",
    "    bb_agg.columns = pd.Index([e[0] + \"_\" + e[1].upper() for e in bb_agg.columns.tolist()])\n",
    "    bureau = bureau.join(bb_agg, how='left', on='SK_ID_BUREAU')\n",
    "    bureau.drop(['SK_ID_BUREAU'], axis=1, inplace= True)\n",
    "    del bb, bb_agg\n",
    "    gc.collect()\n",
    "\n",
    "    # Bureau and bureau_balance numeric features\n",
    "    num_aggregations = {\n",
    "        'DAYS_CREDIT': [ 'mean', 'var'],\n",
    "        'DAYS_CREDIT_ENDDATE': [ 'mean'],\n",
    "        'DAYS_CREDIT_UPDATE': ['mean'],\n",
    "        'CREDIT_DAY_OVERDUE': ['mean'],\n",
    "        'AMT_CREDIT_MAX_OVERDUE': ['mean'],\n",
    "        'AMT_CREDIT_SUM': [ 'mean', 'sum'],\n",
    "        'AMT_CREDIT_SUM_DEBT': [ 'mean', 'sum'],\n",
    "        'AMT_CREDIT_SUM_OVERDUE': ['mean'],\n",
    "        'AMT_CREDIT_SUM_LIMIT': ['mean', 'sum'],\n",
    "        'AMT_ANNUITY': ['max', 'mean'],\n",
    "        'CNT_CREDIT_PROLONG': ['sum'],\n",
    "        'MONTHS_BALANCE_MIN': ['min'],\n",
    "        'MONTHS_BALANCE_MAX': ['max'],\n",
    "        'MONTHS_BALANCE_SIZE': ['mean', 'sum']\n",
    "    }\n",
    "    # Bureau and bureau_balance categorical features\n",
    "    cat_aggregations = {}\n",
    "    for cat in bureau_cat: cat_aggregations[cat] = ['mean']\n",
    "    for cat in bb_cat: cat_aggregations[cat + \"_MEAN\"] = ['mean']\n",
    "\n",
    "    num_cat = num_aggregations.copy()\n",
    "    num_cat.update(cat_aggregations)\n",
    "\n",
    "    bureau_agg = bureau.groupby('SK_ID_CURR').agg(num_cat)\n",
    "    bureau_agg.columns = pd.Index(['BURO_' + e[0] + \"_\" + e[1].upper() for e in bureau_agg.columns.tolist()])\n",
    "    bureau_agg = bureau_agg.reset_index()\n",
    "    # Bureau: Active credits - using only numerical aggregations\n",
    "    active = bureau[bureau['CREDIT_ACTIVE_Active'] == 1]\n",
    "    active_agg = active.groupby('SK_ID_CURR').agg(num_aggregations)\n",
    "    active_agg.columns = pd.Index(['ACTIVE_' + e[0] + \"_\" + e[1].upper() for e in active_agg.columns.tolist()])\n",
    "    active_agg = active_agg.reset_index()\n",
    "    bureau_agg = bureau_agg.merge(active_agg, how='left', on='SK_ID_CURR')\n",
    "    del active, active_agg\n",
    "    gc.collect()\n",
    "    # Bureau: Closed credits - using only numerical aggregations\n",
    "    closed = bureau[bureau['CREDIT_ACTIVE_Closed'] == 1]\n",
    "    closed_agg = closed.groupby('SK_ID_CURR').agg(num_aggregations)\n",
    "    closed_agg.columns = pd.Index(['CLOSED_' + e[0] + \"_\" + e[1].upper() for e in closed_agg.columns.tolist()])\n",
    "    bureau_agg = bureau_agg.join(closed_agg, how='left', on='SK_ID_CURR')\n",
    "    del closed, closed_agg, bureau\n",
    "    gc.collect()\n",
    "    return bureau_agg"
   ]
  },
  {
   "cell_type": "markdown",
   "metadata": {},
   "source": [
    "## Get Previous Applications Data"
   ]
  },
  {
   "cell_type": "code",
   "execution_count": 11,
   "metadata": {
    "collapsed": true
   },
   "outputs": [],
   "source": [
    "def previous_applications(num_rows = None, nan_as_category = True):\n",
    "    prev = pd.read_csv('../data/previous_application.csv', nrows = num_rows)\n",
    "    prev, cat_cols = one_hot_encoder(prev, nan_as_category= True)\n",
    "    # Days 365.243 values -> nan\n",
    "    prev['DAYS_FIRST_DRAWING'].replace(365243, np.nan, inplace= True)\n",
    "    prev['DAYS_FIRST_DUE'].replace(365243, np.nan, inplace= True)\n",
    "    prev['DAYS_LAST_DUE_1ST_VERSION'].replace(365243, np.nan, inplace= True)\n",
    "    prev['DAYS_LAST_DUE'].replace(365243, np.nan, inplace= True)\n",
    "    prev['DAYS_TERMINATION'].replace(365243, np.nan, inplace= True)\n",
    "    # Add feature: value ask / value received percentage\n",
    "    prev['APP_CREDIT_PERC'] = prev['AMT_APPLICATION'] / prev['AMT_CREDIT']\n",
    "    # Previous applications numeric features\n",
    "    num_aggregations = {\n",
    "        'AMT_ANNUITY': [ 'max', 'mean'],\n",
    "        'AMT_APPLICATION': [ 'max','mean'],\n",
    "        'AMT_CREDIT': [ 'max', 'mean'],\n",
    "        'APP_CREDIT_PERC': [ 'max', 'mean'],\n",
    "        'AMT_DOWN_PAYMENT': [ 'max', 'mean'],\n",
    "        'AMT_GOODS_PRICE': [ 'max', 'mean'],\n",
    "        'HOUR_APPR_PROCESS_START': [ 'max', 'mean'],\n",
    "        'RATE_DOWN_PAYMENT': [ 'max', 'mean'],\n",
    "        'DAYS_DECISION': [ 'max', 'mean'],\n",
    "        'CNT_PAYMENT': ['mean', 'sum'],\n",
    "    }\n",
    "    # Previous applications categorical features\n",
    "    cat_aggregations = {}\n",
    "    for cat in cat_cols:\n",
    "        cat_aggregations[cat] = ['mean']\n",
    "\n",
    "    num_cat = num_aggregations.copy()\n",
    "    num_cat.update(cat_aggregations)\n",
    "\n",
    "    prev_agg = prev.groupby('SK_ID_CURR').agg(num_cat)\n",
    "    prev_agg.columns = pd.Index(['PREV_' + e[0] + \"_\" + e[1].upper() for e in prev_agg.columns.tolist()])\n",
    "    prev_agg = prev_agg.reset_index()\n",
    "    # Previous Applications: Approved Applications - only numerical features\n",
    "    approved = prev[prev['NAME_CONTRACT_STATUS_Approved'] == 1]\n",
    "    approved_agg = approved.groupby('SK_ID_CURR').agg(num_aggregations)\n",
    "    approved_agg.columns = pd.Index(['APPROVED_' + e[0] + \"_\" + e[1].upper() for e in approved_agg.columns.tolist()])\n",
    "    approved_agg = approved_agg.reset_index()\n",
    "    prev_agg = prev_agg.merge(approved_agg, how='left', on='SK_ID_CURR')\n",
    "    # Previous Applications: Refused Applications - only numerical features\n",
    "    refused = prev[prev['NAME_CONTRACT_STATUS_Refused'] == 1]\n",
    "    refused_agg = refused.groupby('SK_ID_CURR').agg(num_aggregations)\n",
    "    refused_agg.columns = pd.Index(['REFUSED_' + e[0] + \"_\" + e[1].upper() for e in refused_agg.columns.tolist()])\n",
    "    prev_agg = prev_agg.join(refused_agg, how='left', on='SK_ID_CURR')\n",
    "    del refused, refused_agg, approved, approved_agg, prev\n",
    "    gc.collect()\n",
    "    return prev_agg"
   ]
  },
  {
   "cell_type": "markdown",
   "metadata": {},
   "source": [
    "## Get POS Cash Data"
   ]
  },
  {
   "cell_type": "code",
   "execution_count": 12,
   "metadata": {
    "collapsed": true
   },
   "outputs": [],
   "source": [
    "def pos_cash(num_rows = None, nan_as_category = True):\n",
    "    pos = pd.read_csv('../data/POS_CASH_balance.csv', nrows = num_rows)\n",
    "    pos, cat_cols = one_hot_encoder(pos, nan_as_category= True)\n",
    "    # Features\n",
    "    aggregations = {\n",
    "        'MONTHS_BALANCE': ['max', 'mean', 'size'],\n",
    "        'SK_DPD': ['max', 'mean'],\n",
    "        'SK_DPD_DEF': ['max', 'mean']\n",
    "    }\n",
    "    for cat in cat_cols:\n",
    "        aggregations[cat] = ['mean']\n",
    "\n",
    "    pos_agg = pos.groupby('SK_ID_CURR').agg(aggregations)\n",
    "    pos_agg.columns = pd.Index(['POS_' + e[0] + \"_\" + e[1].upper() for e in pos_agg.columns.tolist()])\n",
    "    # Count pos cash accounts\n",
    "    pos_agg['POS_COUNT'] = pos.groupby('SK_ID_CURR').size()\n",
    "    del pos\n",
    "    gc.collect()\n",
    "    return pos_agg"
   ]
  },
  {
   "cell_type": "markdown",
   "metadata": {},
   "source": [
    "## Get Installments Payments Data"
   ]
  },
  {
   "cell_type": "code",
   "execution_count": 13,
   "metadata": {
    "collapsed": true
   },
   "outputs": [],
   "source": [
    "def installments_payments(num_rows = None, nan_as_category = True):\n",
    "    ins = pd.read_csv('../data/installments_payments.csv', nrows = num_rows)\n",
    "    ins, cat_cols = one_hot_encoder(ins, nan_as_category= True)\n",
    "    # Percentage and difference paid in each installment (amount paid and installment value)\n",
    "    ins['PAYMENT_PERC'] = ins['AMT_PAYMENT'] / ins['AMT_INSTALMENT']\n",
    "    ins['PAYMENT_DIFF'] = ins['AMT_INSTALMENT'] - ins['AMT_PAYMENT']\n",
    "    # Days past due and days before due (no negative values)\n",
    "    ins['DPD'] = ins['DAYS_ENTRY_PAYMENT'] - ins['DAYS_INSTALMENT']\n",
    "    ins['DBD'] = ins['DAYS_INSTALMENT'] - ins['DAYS_ENTRY_PAYMENT']\n",
    "    ins['DPD'] = ins['DPD'].apply(lambda x: x if x > 0 else 0)\n",
    "    ins['DBD'] = ins['DBD'].apply(lambda x: x if x > 0 else 0)\n",
    "    # Features: Perform aggregations\n",
    "    aggregations = {\n",
    "        'NUM_INSTALMENT_VERSION': ['nunique'],\n",
    "        'DPD': ['max', 'mean', 'sum','min','std' ],\n",
    "        'DBD': ['max', 'mean', 'sum','min','std'],\n",
    "        'PAYMENT_PERC': [ 'max','mean',  'var','min','std'],\n",
    "        'PAYMENT_DIFF': [ 'max','mean', 'var','min','std'],\n",
    "        'AMT_INSTALMENT': ['max', 'mean', 'sum','min','std'],\n",
    "        'AMT_PAYMENT': ['min', 'max', 'mean', 'sum','std'],\n",
    "        'DAYS_ENTRY_PAYMENT': ['max', 'mean', 'sum','std']\n",
    "    }\n",
    "    for cat in cat_cols:\n",
    "        aggregations[cat] = ['mean']\n",
    "    ins_agg = ins.groupby('SK_ID_CURR').agg(aggregations)\n",
    "    ins_agg.columns = pd.Index(['INSTAL_' + e[0] + \"_\" + e[1].upper() for e in ins_agg.columns.tolist()])\n",
    "    # Count installments accounts\n",
    "    ins_agg['INSTAL_COUNT'] = ins.groupby('SK_ID_CURR').size()\n",
    "    del ins\n",
    "    gc.collect()\n",
    "    return ins_agg"
   ]
  },
  {
   "cell_type": "markdown",
   "metadata": {},
   "source": [
    "## Get Credit Card Balance Data"
   ]
  },
  {
   "cell_type": "code",
   "execution_count": 14,
   "metadata": {
    "collapsed": true
   },
   "outputs": [],
   "source": [
    "def credit_card_balance(num_rows = None, nan_as_category = True):\n",
    "    cc = pd.read_csv('../data/credit_card_balance.csv', nrows = num_rows)\n",
    "    cc, cat_cols = one_hot_encoder(cc, nan_as_category= True)\n",
    "    # General aggregations\n",
    "    cc.drop(['SK_ID_PREV'], axis= 1, inplace = True)\n",
    "    cc_agg = cc.groupby('SK_ID_CURR').agg([ 'max', 'mean', 'sum', 'var'])\n",
    "    cc_agg.columns = pd.Index(['CC_' + e[0] + \"_\" + e[1].upper() for e in cc_agg.columns.tolist()])\n",
    "    # Count credit card lines\n",
    "    cc_agg['CC_COUNT'] = cc.groupby('SK_ID_CURR').size()\n",
    "    del cc\n",
    "    gc.collect()\n",
    "    return cc_agg"
   ]
  },
  {
   "cell_type": "markdown",
   "metadata": {},
   "source": [
    "# Generate Data For Training"
   ]
  },
  {
   "cell_type": "code",
   "execution_count": 15,
   "metadata": {},
   "outputs": [
    {
     "name": "stdout",
     "output_type": "stream",
     "text": [
      "Init..  : 6.37303996086 seconds\n",
      "Train samples: 307511, test samples: 48744\n",
      "Done with Application Train and Test : 23.4979798794 seconds\n",
      "Done with Bureau and Bureau Balance : 52.3658401966 seconds\n",
      "Done with Previous Applications : 51.275646925 seconds\n",
      "Done with POS Cash : 30.3461480141 seconds\n",
      "Done with Installment Payments : 80.5803339481 seconds\n",
      "Done with Credit Card balance : 36.5646281242 seconds\n",
      "Done with Meta Features : 68.3336939812 seconds\n"
     ]
    }
   ],
   "source": [
    "num_rows = None\n",
    "timer(\"Init.. \")\n",
    "\n",
    "data = application_train_test(num_rows)\n",
    "timer(\"Done with Application Train and Test\")\n",
    "\n",
    "data = data.merge(bureau_and_balance(num_rows),  how='left', on='SK_ID_CURR')\n",
    "timer(\"Done with Bureau and Bureau Balance\")\n",
    "\n",
    "data = data.merge(previous_applications(num_rows),  how='left', on='SK_ID_CURR')\n",
    "timer(\"Done with Previous Applications\")\n",
    "\n",
    "data = data.join(pos_cash(num_rows),  how='left', on='SK_ID_CURR')\n",
    "timer(\"Done with POS Cash\")\n",
    "\n",
    "data = data.join(installments_payments(num_rows),  how='left', on='SK_ID_CURR')\n",
    "timer(\"Done with Installment Payments\")\n",
    "\n",
    "data = data.join(credit_card_balance(num_rows),  how='left', on='SK_ID_CURR')\n",
    "timer(\"Done with Credit Card balance\")\n",
    "\n",
    "data = postprocess(data)\n",
    "\n",
    "data = join_features(data, l1_features)\n",
    "data = join_features(data, neptune_features)\n",
    "data = join_features(data, mixture_models)\n",
    "timer(\"Done with Meta Features\")\n",
    "\n",
    "train = data[data['TARGET'].notnull()]\n",
    "test = data[data['TARGET'].isnull()]\n",
    "\n",
    "target = train.TARGET\n",
    "train_id = train[[\"SK_ID_CURR\"]]\n",
    "test_id = test[[\"SK_ID_CURR\"]]\n",
    "test_id_rank = test[[\"SK_ID_CURR\"]]\n",
    "\n",
    "train = train.drop(['TARGET','SK_ID_CURR','index'], axis=1)\n",
    "test = test.drop(['TARGET','SK_ID_CURR','index'], axis=1)"
   ]
  },
  {
   "cell_type": "markdown",
   "metadata": {},
   "source": [
    "# Defining Model"
   ]
  },
  {
   "cell_type": "code",
   "execution_count": 16,
   "metadata": {
    "collapsed": true
   },
   "outputs": [],
   "source": [
    "import lightgbm as lgb\n",
    "def model_tree(x_train, x_test, y_train, y_test, test, meta_train, meta_test,train_index, test_index,fold_id):\n",
    "    dtrain = lgb.Dataset(x_train, label=y_train)\n",
    "    dval = lgb.Dataset(x_test, label=y_test)\n",
    "    params = {\n",
    "        'num_leaves': 14, \n",
    "        'reg_alpha': 0.6, \n",
    "        'n_jobs': -1, \n",
    "        'colsample_bytree': 0.6, \n",
    "        'silent': -1, \n",
    "        'subsample_for_bin': 200000, \n",
    "        'subsample_freq': 1, \n",
    "        'learning_rate': 0.02, \n",
    "        'boosting_type': 'gbdt', \n",
    "        'nthread': 8, \n",
    "        'min_child_weight': 20, \n",
    "        'min_split_gain': 0.0222415, \n",
    "        'n_estimators': 10000, \n",
    "        'subsample': 0.6, \n",
    "        'reg_lambda': 0.2, \n",
    "        'objective': \"binary\",\n",
    "        'verbose': -1, \n",
    "        'min_child_samples': 20, \n",
    "        'max_depth': 3, \n",
    "        'class_weight': None,\n",
    "        \"bagging_seed\" : 3143,\n",
    "        \"seed\":1343,\n",
    "        \"metric\":\"auc\"\n",
    "    }\n",
    "    model = lgb.train(params, dtrain, num_boost_round=5000,valid_sets=[dtrain, dval], early_stopping_rounds=200, verbose_eval=100)\n",
    "    \n",
    "    meta_train[test_index] = model.predict(x_test, num_iteration=model.best_iteration or 5000)\n",
    "    meta_test.append(model.predict(test, num_iteration=model.best_iteration or 5000))\n",
    "        \n",
    "    global fold_roc\n",
    "    fold_roc.append(roc_auc_score(y_test, meta_train[test_index]))\n",
    "    # Calculate Feature Importance\n",
    "    global feature_importance\n",
    "    gain = model.feature_importance('gain')\n",
    "    fold_feature_importance = pd.DataFrame({'feature':model.feature_name(), 'split':model.feature_importance('split'), 'gain':100 * gain / gain.sum()})\n",
    "    feature_importance = feature_importance.append(fold_feature_importance, ignore_index=True) "
   ]
  },
  {
   "cell_type": "markdown",
   "metadata": {},
   "source": [
    "# Training Classifier"
   ]
  },
  {
   "cell_type": "code",
   "execution_count": 17,
   "metadata": {
    "scrolled": true
   },
   "outputs": [
    {
     "name": "stderr",
     "output_type": "stream",
     "text": [
      "/home/sakhtar0092/anaconda2/lib/python2.7/site-packages/lightgbm/engine.py:99: UserWarning: Found `n_estimators` in params. Will use it instead of argument\n",
      "  warnings.warn(\"Found `{}` in params. Will use it instead of argument\".format(alias))\n",
      "/home/sakhtar0092/anaconda2/lib/python2.7/site-packages/lightgbm/basic.py:657: UserWarning: silent keyword has been found in `params` and will be ignored. Please use silent argument of the Dataset constructor to pass this parameter.\n",
      "  'Please use {0} argument of the Dataset constructor to pass this parameter.'.format(key))\n"
     ]
    },
    {
     "name": "stdout",
     "output_type": "stream",
     "text": [
      "Training until validation scores don't improve for 200 rounds.\n",
      "[100]\ttraining's auc: 0.800498\tvalid_1's auc: 0.796414\n",
      "[200]\ttraining's auc: 0.80149\tvalid_1's auc: 0.796895\n",
      "[300]\ttraining's auc: 0.803008\tvalid_1's auc: 0.797323\n",
      "[400]\ttraining's auc: 0.804386\tvalid_1's auc: 0.797558\n",
      "[500]\ttraining's auc: 0.805606\tvalid_1's auc: 0.797541\n",
      "[600]\ttraining's auc: 0.80679\tvalid_1's auc: 0.79747\n",
      "Early stopping, best iteration is:\n",
      "[426]\ttraining's auc: 0.804709\tvalid_1's auc: 0.797598\n",
      "Training until validation scores don't improve for 200 rounds.\n",
      "[100]\ttraining's auc: 0.799462\tvalid_1's auc: 0.805085\n",
      "[200]\ttraining's auc: 0.800534\tvalid_1's auc: 0.805469\n",
      "[300]\ttraining's auc: 0.802119\tvalid_1's auc: 0.805708\n",
      "[400]\ttraining's auc: 0.803602\tvalid_1's auc: 0.80559\n",
      "[500]\ttraining's auc: 0.804854\tvalid_1's auc: 0.805398\n",
      "Early stopping, best iteration is:\n",
      "[334]\ttraining's auc: 0.802651\tvalid_1's auc: 0.805733\n",
      "Training until validation scores don't improve for 200 rounds.\n",
      "[100]\ttraining's auc: 0.800088\tvalid_1's auc: 0.799946\n",
      "[200]\ttraining's auc: 0.801175\tvalid_1's auc: 0.800637\n",
      "[300]\ttraining's auc: 0.802669\tvalid_1's auc: 0.801086\n",
      "[400]\ttraining's auc: 0.804061\tvalid_1's auc: 0.800987\n",
      "[500]\ttraining's auc: 0.80527\tvalid_1's auc: 0.800929\n",
      "Early stopping, best iteration is:\n",
      "[329]\ttraining's auc: 0.803113\tvalid_1's auc: 0.801133\n",
      "Training until validation scores don't improve for 200 rounds.\n",
      "[100]\ttraining's auc: 0.799487\tvalid_1's auc: 0.805509\n",
      "[200]\ttraining's auc: 0.800629\tvalid_1's auc: 0.805809\n",
      "[300]\ttraining's auc: 0.80227\tvalid_1's auc: 0.805362\n",
      "[400]\ttraining's auc: 0.803749\tvalid_1's auc: 0.804893\n",
      "Early stopping, best iteration is:\n",
      "[220]\ttraining's auc: 0.800982\tvalid_1's auc: 0.80595\n",
      "Training until validation scores don't improve for 200 rounds.\n",
      "[100]\ttraining's auc: 0.800328\tvalid_1's auc: 0.797425\n",
      "[200]\ttraining's auc: 0.801629\tvalid_1's auc: 0.793128\n",
      "Early stopping, best iteration is:\n",
      "[90]\ttraining's auc: 0.800313\tvalid_1's auc: 0.797524\n",
      "Training until validation scores don't improve for 200 rounds.\n",
      "[100]\ttraining's auc: 0.801321\tvalid_1's auc: 0.788819\n",
      "[200]\ttraining's auc: 0.802427\tvalid_1's auc: 0.789569\n",
      "[300]\ttraining's auc: 0.803948\tvalid_1's auc: 0.790179\n",
      "[400]\ttraining's auc: 0.805348\tvalid_1's auc: 0.790275\n",
      "[500]\ttraining's auc: 0.806589\tvalid_1's auc: 0.790339\n",
      "[600]\ttraining's auc: 0.807763\tvalid_1's auc: 0.790297\n",
      "[700]\ttraining's auc: 0.808798\tvalid_1's auc: 0.790193\n",
      "Early stopping, best iteration is:\n",
      "[511]\ttraining's auc: 0.806729\tvalid_1's auc: 0.790355\n",
      "Training until validation scores don't improve for 200 rounds.\n",
      "[100]\ttraining's auc: 0.799438\tvalid_1's auc: 0.805854\n",
      "[200]\ttraining's auc: 0.800547\tvalid_1's auc: 0.806215\n",
      "[300]\ttraining's auc: 0.802094\tvalid_1's auc: 0.806505\n",
      "[400]\ttraining's auc: 0.803548\tvalid_1's auc: 0.806668\n",
      "[500]\ttraining's auc: 0.80468\tvalid_1's auc: 0.80669\n",
      "[600]\ttraining's auc: 0.805808\tvalid_1's auc: 0.806571\n",
      "Early stopping, best iteration is:\n",
      "[460]\ttraining's auc: 0.804257\tvalid_1's auc: 0.806745\n",
      "Training until validation scores don't improve for 200 rounds.\n",
      "[100]\ttraining's auc: 0.800712\tvalid_1's auc: 0.79473\n",
      "[200]\ttraining's auc: 0.801767\tvalid_1's auc: 0.795274\n",
      "[300]\ttraining's auc: 0.803243\tvalid_1's auc: 0.79572\n",
      "[400]\ttraining's auc: 0.804655\tvalid_1's auc: 0.795878\n",
      "[500]\ttraining's auc: 0.805799\tvalid_1's auc: 0.795889\n",
      "[600]\ttraining's auc: 0.806926\tvalid_1's auc: 0.795705\n",
      "Early stopping, best iteration is:\n",
      "[441]\ttraining's auc: 0.805132\tvalid_1's auc: 0.795982\n",
      "Training until validation scores don't improve for 200 rounds.\n",
      "[100]\ttraining's auc: 0.800488\tvalid_1's auc: 0.795992\n",
      "[200]\ttraining's auc: 0.801536\tvalid_1's auc: 0.796768\n",
      "[300]\ttraining's auc: 0.803024\tvalid_1's auc: 0.797351\n",
      "[400]\ttraining's auc: 0.804494\tvalid_1's auc: 0.797511\n",
      "[500]\ttraining's auc: 0.80572\tvalid_1's auc: 0.797472\n",
      "[600]\ttraining's auc: 0.806814\tvalid_1's auc: 0.797498\n",
      "[700]\ttraining's auc: 0.807981\tvalid_1's auc: 0.797442\n",
      "[800]\ttraining's auc: 0.80906\tvalid_1's auc: 0.797352\n",
      "Early stopping, best iteration is:\n",
      "[639]\ttraining's auc: 0.807286\tvalid_1's auc: 0.797523\n",
      "Training until validation scores don't improve for 200 rounds.\n",
      "[100]\ttraining's auc: 0.800303\tvalid_1's auc: 0.79838\n",
      "[200]\ttraining's auc: 0.801345\tvalid_1's auc: 0.798681\n",
      "[300]\ttraining's auc: 0.802843\tvalid_1's auc: 0.799295\n",
      "[400]\ttraining's auc: 0.804251\tvalid_1's auc: 0.799596\n",
      "[500]\ttraining's auc: 0.805486\tvalid_1's auc: 0.799578\n",
      "[600]\ttraining's auc: 0.806544\tvalid_1's auc: 0.799547\n",
      "Early stopping, best iteration is:\n",
      "[462]\ttraining's auc: 0.805\tvalid_1's auc: 0.79966\n",
      "Overall ROC: 0.788932582699,  Mean ROC: 0.79982029095, STD AUC: 0.00491979990024\n"
     ]
    }
   ],
   "source": [
    "meta_train = np.zeros(train.shape[0])\n",
    "meta_test = []\n",
    "feature_importance = pd.DataFrame(columns = [\"feature\",\"split\",\"gain\"])\n",
    "fold_roc = []\n",
    "\n",
    "kf = StratifiedKFold(n_splits= 10, shuffle=True, random_state=47)\n",
    "for fold_id, (train_index, test_index) in enumerate(kf.split(train, target)):\n",
    "    x_train, x_test = train.iloc[train_index], train.iloc[test_index]\n",
    "    y_train, y_test = target[train_index], target[test_index]\n",
    "\n",
    "    model_tree(x_train, x_test, y_train, y_test, test, meta_train, meta_test,train_index, test_index,fold_id)\n",
    "\n",
    "test_id[\"TARGET\"] = np.array(meta_test).T.mean(axis=1)\n",
    "test_id_rank[\"TARGET\"] = pd.DataFrame(np.array(meta_test).T).rank(pct = True).mean(axis=1)\n",
    "train_id[\"TARGET\"] = meta_train\n",
    "\n",
    "print \"Overall ROC: {},  Mean ROC: {}, STD AUC: {}\".format(roc_auc_score(target, meta_train), np.mean(fold_roc), np.std(fold_roc))"
   ]
  },
  {
   "cell_type": "code",
   "execution_count": 18,
   "metadata": {
    "collapsed": true
   },
   "outputs": [],
   "source": [
    "train_id.to_csv(\"csv/{}_train.csv\".format(model_name), index=False)\n",
    "test_id.to_csv(\"csv/{}_test.csv\".format(model_name), index=False)\n",
    "test_id_rank.to_csv(\"csv/{}_rank_test.csv\".format(model_name), index=False)"
   ]
  },
  {
   "cell_type": "code",
   "execution_count": 19,
   "metadata": {},
   "outputs": [
    {
     "data": {
      "text/plain": [
       "[0.7975982195217407,\n",
       " 0.805733442821708,\n",
       " 0.8011333584577192,\n",
       " 0.8059497664634584,\n",
       " 0.7975238911993661,\n",
       " 0.7903552386294095,\n",
       " 0.8067447444153445,\n",
       " 0.7959817264180407,\n",
       " 0.7975229919179234,\n",
       " 0.7996595296521256]"
      ]
     },
     "execution_count": 19,
     "metadata": {},
     "output_type": "execute_result"
    }
   ],
   "source": [
    "fold_roc"
   ]
  },
  {
   "cell_type": "code",
   "execution_count": null,
   "metadata": {
    "collapsed": true
   },
   "outputs": [],
   "source": []
  }
 ],
 "metadata": {
  "kernelspec": {
   "display_name": "Python 2",
   "language": "python",
   "name": "python2"
  },
  "language_info": {
   "codemirror_mode": {
    "name": "ipython",
    "version": 2
   },
   "file_extension": ".py",
   "mimetype": "text/x-python",
   "name": "python",
   "nbconvert_exporter": "python",
   "pygments_lexer": "ipython2",
   "version": "2.7.14"
  }
 },
 "nbformat": 4,
 "nbformat_minor": 2
}
