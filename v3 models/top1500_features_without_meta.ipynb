{
 "cells": [
  {
   "cell_type": "code",
   "execution_count": 1,
   "metadata": {
    "collapsed": true
   },
   "outputs": [],
   "source": [
    "model_name = \"top1500_features_without_meta\""
   ]
  },
  {
   "cell_type": "code",
   "execution_count": 2,
   "metadata": {
    "collapsed": true
   },
   "outputs": [],
   "source": [
    "import numpy as np\n",
    "import pandas as pd\n",
    "import gc\n",
    "from time import time\n",
    "from contextlib import contextmanager\n",
    "from lightgbm import LGBMClassifier\n",
    "from sklearn.metrics import roc_auc_score, roc_curve\n",
    "from sklearn.model_selection import KFold, StratifiedKFold\n",
    "import matplotlib.pyplot as plt\n",
    "import seaborn as sns\n",
    "import warnings\n",
    "from sklearn.preprocessing import LabelEncoder,OneHotEncoder"
   ]
  },
  {
   "cell_type": "code",
   "execution_count": 3,
   "metadata": {},
   "outputs": [
    {
     "name": "stdout",
     "output_type": "stream",
     "text": [
      "Init... : 0.000191926956177 seconds\n"
     ]
    }
   ],
   "source": [
    "timesheet = [time()]\n",
    "def timer(statement):\n",
    "    global timesheet\n",
    "    timesheet.append(time())\n",
    "    print statement+\" :\", (timesheet[-1]-timesheet[-2]),\"seconds\"\n",
    "timer(\"Init...\")"
   ]
  },
  {
   "cell_type": "code",
   "execution_count": 4,
   "metadata": {
    "collapsed": true
   },
   "outputs": [],
   "source": [
    "def load_meta(directory, prefix, modeltype):\n",
    "    m_tr = pd.read_csv(directory+prefix+\"_train.csv\")\n",
    "    m_te = pd.read_csv(directory+prefix+\"_test.csv\")\n",
    "    data = pd.concat([m_tr, m_te], axis=0).reset_index(drop=True)\n",
    "    data.columns = [\"{}_{}_{}\".format(c, prefix, modeltype) if c!=\"SK_ID_CURR\" else c for c in data.columns]\n",
    "    return data\n",
    "\n",
    "def join_features(data, features):\n",
    "    for item in features:\n",
    "        data = data.merge(item, how = \"left\", on = \"SK_ID_CURR\")\n",
    "    return data\n",
    "\n",
    "def load_data(datafile):\n",
    "    global important_columns\n",
    "    colnames = [c.replace(\" \",\"_\") for c in pd.read_csv(datafile, nrows= 1).columns]\n",
    "    intersection = list(set(colnames).intersection(set(important_columns)))+[\"SK_ID_CURR\"]\n",
    "\n",
    "    df =  pd.read_csv(datafile, names = colnames, usecols = intersection, skiprows=1).dropna(axis=1, how=\"all\")\n",
    "    timer(\"Loaded {} with shape {} in \".format(datafile.split(\"/\")[-1], df.shape))\n",
    "    return df"
   ]
  },
  {
   "cell_type": "markdown",
   "metadata": {},
   "source": [
    "## Getting Feature Importance File"
   ]
  },
  {
   "cell_type": "code",
   "execution_count": 5,
   "metadata": {
    "collapsed": true
   },
   "outputs": [],
   "source": [
    "important_columns = pd.read_csv(\"../feature selector/importance/shap_importances.csv\")\n",
    "important_columns[\"feature\"] = important_columns[\"feature\"].apply(lambda x: x.replace(\" \",\"_\"))\n",
    "important_columns = important_columns.loc[important_columns.shapely_mean > 0.0].reset_index(drop=True)\n",
    "important_columns = important_columns.sort_values(by = \"shapely_mean\", ascending = False).reset_index(drop=True)\n",
    "important_columns = important_columns.loc[0:1500].feature.values.tolist()"
   ]
  },
  {
   "cell_type": "markdown",
   "metadata": {},
   "source": [
    "## Loading Features"
   ]
  },
  {
   "cell_type": "code",
   "execution_count": 6,
   "metadata": {},
   "outputs": [
    {
     "name": "stdout",
     "output_type": "stream",
     "text": [
      "Loaded application_features_V2.csv with shape (356255, 104) in  : 9.57812595367 seconds\n",
      "Loaded bureau_features_V1.csv with shape (305811, 163) in  : 14.7658469677 seconds\n",
      "Loaded credit_card_features_V1.csv with shape (103558, 76) in  : 11.7307209969 seconds\n",
      "Loaded installment_features_V1.csv with shape (339587, 284) in  : 49.9753510952 seconds\n",
      "Loaded pos_cash_features_V1.csv with shape (337252, 174) in  : 30.8176910877 seconds\n",
      "Loaded previous_application_features_V1.csv with shape (338857, 201) in  : 29.7651889324 seconds\n",
      "Loaded credit_card_features_V3.csv with shape (103558, 68) in  : 18.7398118973 seconds\n",
      "Loaded installment_features_V3.csv with shape (339587, 295) in  : 48.0920190811 seconds\n",
      "Loaded pos_cash_features_V3.csv with shape (337252, 71) in  : 11.2180640697 seconds\n",
      "Loaded previous_application_features_V3.csv with shape (338857, 75) in  : 12.7307009697 seconds\n"
     ]
    }
   ],
   "source": [
    "applications = load_data(\"../extractor/csv/application_features_V2.csv\")\n",
    "bureau_balance_bb = load_data(\"../extractor/csv/bureau_features_V1.csv\")\n",
    "credit_card_balance = load_data(\"../extractor/csv/credit_card_features_V1.csv\")\n",
    "installment_features = load_data(\"../extractor/csv/installment_features_V1.csv\")\n",
    "pos_cash_balance = load_data(\"../extractor/csv/pos_cash_features_V1.csv\")\n",
    "previous_apps = load_data(\"../extractor/csv/previous_application_features_V1.csv\")\n",
    "\n",
    "credit_card_balance_v3 = load_data(\"../extractor/csv/credit_card_features_V3.csv\")\n",
    "installment_features_v3 = load_data(\"../extractor/csv/installment_features_V3.csv\")\n",
    "pos_cash_balance_v3 = load_data(\"../extractor/csv/pos_cash_features_V3.csv\")\n",
    "previous_apps_v3 = load_data(\"../extractor/csv/previous_application_features_V3.csv\")\n",
    "\n",
    "base_features = [applications, bureau_balance_bb, credit_card_balance, installment_features, pos_cash_balance,previous_apps, credit_card_balance_v3,installment_features_v3,pos_cash_balance_v3, previous_apps_v3]"
   ]
  },
  {
   "cell_type": "markdown",
   "metadata": {},
   "source": [
    "## Joining All Files"
   ]
  },
  {
   "cell_type": "code",
   "execution_count": 7,
   "metadata": {
    "collapsed": true
   },
   "outputs": [],
   "source": [
    "train = pd.read_csv(\"../data/application_train.csv\", usecols = [\"SK_ID_CURR\",\"TARGET\"])\n",
    "test = pd.read_csv(\"../data/application_test.csv\", usecols = [\"SK_ID_CURR\"])\n",
    "\n",
    "data = pd.concat([train, test], axis=0).reset_index(drop=True)\n",
    "data = join_features(data, base_features)\n",
    "del base_features,applications, bureau_balance_bb, credit_card_balance, installment_features, pos_cash_balance,previous_apps, credit_card_balance_v3,installment_features_v3,pos_cash_balance_v3, previous_apps_v3\n",
    "gc.collect()\n",
    "\n",
    "train = data.loc[data.TARGET.notnull()].reset_index(drop=True)\n",
    "test = data.loc[data.TARGET.isnull()].reset_index(drop=True)\n",
    "\n",
    "train_id = train[[\"SK_ID_CURR\"]]\n",
    "test_id = test[[\"SK_ID_CURR\"]]\n",
    "test_id_rank = test[[\"SK_ID_CURR\"]]\n",
    "target =train.TARGET\n",
    "\n",
    "train.drop([\"SK_ID_CURR\", \"TARGET\"], axis=1, inplace=True)\n",
    "test.drop([\"SK_ID_CURR\",\"TARGET\"], axis=1, inplace = True)"
   ]
  },
  {
   "cell_type": "markdown",
   "metadata": {},
   "source": [
    "# Defining Model"
   ]
  },
  {
   "cell_type": "code",
   "execution_count": null,
   "metadata": {
    "collapsed": true
   },
   "outputs": [],
   "source": [
    "import lightgbm as lgb\n",
    "def model_tree(x_train, x_test, y_train, y_test, test, meta_train, meta_test,train_index, test_index,fold_id):\n",
    "    dtrain = lgb.Dataset(x_train, label=y_train)\n",
    "    dval = lgb.Dataset(x_test, label=y_test)\n",
    "    params = {\n",
    "        'num_leaves': 32, #32\n",
    "        'reg_alpha': 0.04, \n",
    "        'n_jobs': -1, \n",
    "        'colsample_bytree': 0.9497036, \n",
    "        'silent': -1, \n",
    "        'subsample_for_bin': 200000, \n",
    "        'subsample_freq': 1, \n",
    "        'learning_rate': 0.02, # 0.02\n",
    "        'boosting_type': 'gbdt', \n",
    "        'nthread': 8, \n",
    "        'min_child_weight': 40, \n",
    "        'min_split_gain': 0.0222415, \n",
    "        'n_estimators': 10000, \n",
    "        'subsample': 0.8715623, \n",
    "        'reg_lambda': 10, \n",
    "        'objective': \"binary\", \n",
    "        'verbose': -1, \n",
    "        'min_child_samples': 20, \n",
    "        'max_depth': 8, #8\n",
    "        'class_weight': None,\n",
    "        \"bagging_seed\" : 3143,\n",
    "        \"seed\":1343,\n",
    "        \"metric\":\"auc\"\n",
    "    }\n",
    "    model = lgb.train(params, dtrain, num_boost_round=5000,valid_sets=[dtrain, dval], early_stopping_rounds=200, verbose_eval=100)\n",
    "    meta_train[test_index] = model.predict(x_test, num_iteration=model.best_iteration or 5000)\n",
    "    meta_test.append(model.predict(test, num_iteration=model.best_iteration or 5000))\n",
    "    \n",
    "    global fold_roc\n",
    "    fold_roc.append(roc_auc_score(y_test, meta_train[test_index]))\n",
    "    # Calculate Feature Importance\n",
    "    global feature_importance\n",
    "    gain = model.feature_importance('gain')\n",
    "    fold_feature_importance = pd.DataFrame({'feature':model.feature_name(), 'split':model.feature_importance('split'), 'gain':100 * gain / gain.sum()})\n",
    "    feature_importance = feature_importance.append(fold_feature_importance, ignore_index=True) "
   ]
  },
  {
   "cell_type": "markdown",
   "metadata": {},
   "source": [
    "# Training Model"
   ]
  },
  {
   "cell_type": "code",
   "execution_count": null,
   "metadata": {
    "scrolled": true
   },
   "outputs": [
    {
     "name": "stderr",
     "output_type": "stream",
     "text": [
      "/home/sakhtar0092/anaconda2/lib/python2.7/site-packages/lightgbm/engine.py:99: UserWarning: Found `n_estimators` in params. Will use it instead of argument\n",
      "  warnings.warn(\"Found `{}` in params. Will use it instead of argument\".format(alias))\n",
      "/home/sakhtar0092/anaconda2/lib/python2.7/site-packages/lightgbm/basic.py:657: UserWarning: silent keyword has been found in `params` and will be ignored. Please use silent argument of the Dataset constructor to pass this parameter.\n",
      "  'Please use {0} argument of the Dataset constructor to pass this parameter.'.format(key))\n"
     ]
    },
    {
     "name": "stdout",
     "output_type": "stream",
     "text": [
      "Training until validation scores don't improve for 200 rounds.\n",
      "[100]\ttraining's auc: 0.760156\tvalid_1's auc: 0.754527\n",
      "[200]\ttraining's auc: 0.784469\tvalid_1's auc: 0.769805\n",
      "[300]\ttraining's auc: 0.80348\tvalid_1's auc: 0.780164\n",
      "[400]\ttraining's auc: 0.816561\tvalid_1's auc: 0.78529\n",
      "[500]\ttraining's auc: 0.826813\tvalid_1's auc: 0.787992\n",
      "[600]\ttraining's auc: 0.836112\tvalid_1's auc: 0.79009\n",
      "[700]\ttraining's auc: 0.84408\tvalid_1's auc: 0.79114\n",
      "[800]\ttraining's auc: 0.851422\tvalid_1's auc: 0.791831\n",
      "[900]\ttraining's auc: 0.858193\tvalid_1's auc: 0.792251\n",
      "[1000]\ttraining's auc: 0.864691\tvalid_1's auc: 0.792719\n",
      "[1100]\ttraining's auc: 0.870849\tvalid_1's auc: 0.793152\n",
      "[1200]\ttraining's auc: 0.876363\tvalid_1's auc: 0.793438\n",
      "[1300]\ttraining's auc: 0.881788\tvalid_1's auc: 0.793408\n",
      "[1400]\ttraining's auc: 0.887072\tvalid_1's auc: 0.793505\n",
      "[1500]\ttraining's auc: 0.891848\tvalid_1's auc: 0.793598\n",
      "[1600]\ttraining's auc: 0.896506\tvalid_1's auc: 0.793665\n",
      "[1700]\ttraining's auc: 0.900957\tvalid_1's auc: 0.7938\n",
      "[1800]\ttraining's auc: 0.905444\tvalid_1's auc: 0.793849\n",
      "[1900]\ttraining's auc: 0.90955\tvalid_1's auc: 0.793875\n",
      "[2000]\ttraining's auc: 0.913548\tvalid_1's auc: 0.793951\n",
      "[2100]\ttraining's auc: 0.917501\tvalid_1's auc: 0.793943\n",
      "[2200]\ttraining's auc: 0.921253\tvalid_1's auc: 0.793852\n",
      "Early stopping, best iteration is:\n",
      "[2018]\ttraining's auc: 0.91428\tvalid_1's auc: 0.79403\n",
      "Training until validation scores don't improve for 200 rounds.\n",
      "[100]\ttraining's auc: 0.761568\tvalid_1's auc: 0.745544\n",
      "[200]\ttraining's auc: 0.78559\tvalid_1's auc: 0.761751\n",
      "[300]\ttraining's auc: 0.804006\tvalid_1's auc: 0.773194\n",
      "[400]\ttraining's auc: 0.816949\tvalid_1's auc: 0.779316\n",
      "[500]\ttraining's auc: 0.827296\tvalid_1's auc: 0.782603\n",
      "[600]\ttraining's auc: 0.836373\tvalid_1's auc: 0.784856\n",
      "[700]\ttraining's auc: 0.844525\tvalid_1's auc: 0.786218\n",
      "[800]\ttraining's auc: 0.852026\tvalid_1's auc: 0.787273\n",
      "[900]\ttraining's auc: 0.859003\tvalid_1's auc: 0.788036\n",
      "[1000]\ttraining's auc: 0.865557\tvalid_1's auc: 0.788828\n",
      "[1100]\ttraining's auc: 0.871475\tvalid_1's auc: 0.78923\n",
      "[1200]\ttraining's auc: 0.877142\tvalid_1's auc: 0.789469\n",
      "[1300]\ttraining's auc: 0.882628\tvalid_1's auc: 0.789663\n",
      "[1400]\ttraining's auc: 0.887677\tvalid_1's auc: 0.789968\n",
      "[1500]\ttraining's auc: 0.892655\tvalid_1's auc: 0.790203\n",
      "[1600]\ttraining's auc: 0.897213\tvalid_1's auc: 0.790241\n",
      "[1700]\ttraining's auc: 0.901734\tvalid_1's auc: 0.790255\n",
      "[1800]\ttraining's auc: 0.906069\tvalid_1's auc: 0.790388\n",
      "[1900]\ttraining's auc: 0.910253\tvalid_1's auc: 0.790385\n",
      "[2000]\ttraining's auc: 0.914264\tvalid_1's auc: 0.79026\n",
      "Early stopping, best iteration is:\n",
      "[1891]\ttraining's auc: 0.909852\tvalid_1's auc: 0.790428\n",
      "Training until validation scores don't improve for 200 rounds.\n",
      "[100]\ttraining's auc: 0.759594\tvalid_1's auc: 0.752832\n",
      "[200]\ttraining's auc: 0.784232\tvalid_1's auc: 0.769551\n",
      "[300]\ttraining's auc: 0.803329\tvalid_1's auc: 0.77938\n",
      "[400]\ttraining's auc: 0.816533\tvalid_1's auc: 0.784265\n",
      "[500]\ttraining's auc: 0.827359\tvalid_1's auc: 0.787023\n",
      "[600]\ttraining's auc: 0.836351\tvalid_1's auc: 0.788373\n",
      "[700]\ttraining's auc: 0.844621\tvalid_1's auc: 0.789433\n",
      "[800]\ttraining's auc: 0.852052\tvalid_1's auc: 0.790049\n",
      "[900]\ttraining's auc: 0.85906\tvalid_1's auc: 0.790443\n",
      "[1000]\ttraining's auc: 0.865489\tvalid_1's auc: 0.790941\n",
      "[1100]\ttraining's auc: 0.871653\tvalid_1's auc: 0.791431\n",
      "[1200]\ttraining's auc: 0.877207\tvalid_1's auc: 0.791616\n",
      "[1300]\ttraining's auc: 0.882527\tvalid_1's auc: 0.791803\n",
      "[1400]\ttraining's auc: 0.887785\tvalid_1's auc: 0.791959\n",
      "[1500]\ttraining's auc: 0.892683\tvalid_1's auc: 0.79199\n",
      "Early stopping, best iteration is:\n",
      "[1349]\ttraining's auc: 0.885182\tvalid_1's auc: 0.792074\n",
      "Training until validation scores don't improve for 200 rounds.\n",
      "[100]\ttraining's auc: 0.76053\tvalid_1's auc: 0.747744\n",
      "[200]\ttraining's auc: 0.784047\tvalid_1's auc: 0.764842\n",
      "[300]\ttraining's auc: 0.802891\tvalid_1's auc: 0.777181\n",
      "[400]\ttraining's auc: 0.816188\tvalid_1's auc: 0.783164\n",
      "[500]\ttraining's auc: 0.826634\tvalid_1's auc: 0.786619\n",
      "[600]\ttraining's auc: 0.835548\tvalid_1's auc: 0.78893\n",
      "[700]\ttraining's auc: 0.843621\tvalid_1's auc: 0.790426\n",
      "[800]\ttraining's auc: 0.850836\tvalid_1's auc: 0.791438\n",
      "[900]\ttraining's auc: 0.857852\tvalid_1's auc: 0.792086\n",
      "[1000]\ttraining's auc: 0.864279\tvalid_1's auc: 0.792715\n",
      "[1100]\ttraining's auc: 0.870342\tvalid_1's auc: 0.793054\n",
      "[1200]\ttraining's auc: 0.875951\tvalid_1's auc: 0.793254\n",
      "[1300]\ttraining's auc: 0.881287\tvalid_1's auc: 0.793659\n"
     ]
    }
   ],
   "source": [
    "meta_train = np.zeros(train.shape[0])\n",
    "meta_test = []\n",
    "feature_importance = pd.DataFrame(columns = [\"feature\",\"split\",\"gain\"])\n",
    "fold_roc = []\n",
    "\n",
    "kf = StratifiedKFold(n_splits= 5, shuffle=True, random_state=24344)\n",
    "for fold_id, (train_index, test_index) in enumerate(kf.split(train, target)):\n",
    "    x_train, x_test = train.iloc[train_index], train.iloc[test_index]\n",
    "    y_train, y_test = target[train_index], target[test_index]\n",
    "\n",
    "    model_tree(x_train, x_test, y_train, y_test, test, meta_train, meta_test,train_index, test_index,fold_id)\n",
    "\n",
    "test_id[\"TARGET\"] = np.array(meta_test).T.mean(axis=1)\n",
    "test_id_rank[\"TARGET\"] = pd.DataFrame(np.array(meta_test).T).rank(pct = True).mean(axis=1)\n",
    "train_id[\"TARGET\"] = meta_train\n",
    "\n",
    "print \"Overall ROC: {},  Mean ROC: {}, STD AUC: {}\".format(roc_auc_score(target, meta_train), np.mean(fold_roc), np.std(fold_roc))"
   ]
  },
  {
   "cell_type": "code",
   "execution_count": null,
   "metadata": {
    "collapsed": true
   },
   "outputs": [],
   "source": [
    "train_id.to_csv(\"csv/{}_train.csv\".format(model_name), index=False)\n",
    "test_id.to_csv(\"csv/{}_test.csv\".format(model_name), index=False)\n",
    "test_id_rank.to_csv(\"csv/{}_rank_test.csv\".format(model_name), index=False)"
   ]
  },
  {
   "cell_type": "markdown",
   "metadata": {},
   "source": [
    "# Get Feature Importance"
   ]
  },
  {
   "cell_type": "code",
   "execution_count": null,
   "metadata": {
    "collapsed": true
   },
   "outputs": [],
   "source": [
    "# Print Feature Importance\n",
    "feature_importance.to_csv(\"csv/{}_all_fi.csv\".format(model_name), index = False)\n",
    "feature_importance = feature_importance.groupby(\"feature\")[[\"gain\",\"split\"]].mean().sort_values('gain', ascending=False).reset_index()\n",
    "\n",
    "plt.figure()\n",
    "feature_importance[['feature','gain']].head(60).plot(kind='barh', x='feature', y='gain', legend=False, figsize=(30, 100))\n",
    "plt.gcf().savefig('csv/{}.png'.format(model_name))\n"
   ]
  },
  {
   "cell_type": "code",
   "execution_count": null,
   "metadata": {
    "collapsed": true
   },
   "outputs": [],
   "source": []
  },
  {
   "cell_type": "code",
   "execution_count": null,
   "metadata": {
    "collapsed": true
   },
   "outputs": [],
   "source": []
  },
  {
   "cell_type": "code",
   "execution_count": null,
   "metadata": {
    "collapsed": true
   },
   "outputs": [],
   "source": []
  },
  {
   "cell_type": "code",
   "execution_count": null,
   "metadata": {
    "collapsed": true
   },
   "outputs": [],
   "source": []
  },
  {
   "cell_type": "code",
   "execution_count": null,
   "metadata": {
    "collapsed": true
   },
   "outputs": [],
   "source": []
  },
  {
   "cell_type": "code",
   "execution_count": null,
   "metadata": {
    "collapsed": true
   },
   "outputs": [],
   "source": []
  },
  {
   "cell_type": "code",
   "execution_count": null,
   "metadata": {
    "collapsed": true
   },
   "outputs": [],
   "source": []
  },
  {
   "cell_type": "code",
   "execution_count": null,
   "metadata": {
    "collapsed": true
   },
   "outputs": [],
   "source": [
    "-"
   ]
  }
 ],
 "metadata": {
  "kernelspec": {
   "display_name": "Python 2",
   "language": "python",
   "name": "python2"
  },
  "language_info": {
   "codemirror_mode": {
    "name": "ipython",
    "version": 2
   },
   "file_extension": ".py",
   "mimetype": "text/x-python",
   "name": "python",
   "nbconvert_exporter": "python",
   "pygments_lexer": "ipython2",
   "version": "2.7.14"
  }
 },
 "nbformat": 4,
 "nbformat_minor": 2
}
