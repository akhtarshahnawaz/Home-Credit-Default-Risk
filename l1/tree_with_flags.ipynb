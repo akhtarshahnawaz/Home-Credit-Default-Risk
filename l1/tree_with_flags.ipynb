{
 "cells": [
  {
   "cell_type": "code",
   "execution_count": 1,
   "metadata": {
    "collapsed": true
   },
   "outputs": [],
   "source": [
    "model_name = \"l1_tree_with_flags\""
   ]
  },
  {
   "cell_type": "code",
   "execution_count": 2,
   "metadata": {
    "collapsed": true
   },
   "outputs": [],
   "source": [
    "import numpy as np\n",
    "import pandas as pd\n",
    "import gc\n",
    "from time import time\n",
    "from contextlib import contextmanager\n",
    "from lightgbm import LGBMClassifier\n",
    "from sklearn.metrics import roc_auc_score, roc_curve\n",
    "from sklearn.model_selection import KFold, StratifiedKFold\n",
    "import matplotlib.pyplot as plt\n",
    "import seaborn as sns\n",
    "import warnings\n",
    "from sklearn.preprocessing import LabelEncoder,OneHotEncoder"
   ]
  },
  {
   "cell_type": "code",
   "execution_count": 3,
   "metadata": {
    "collapsed": true
   },
   "outputs": [],
   "source": [
    "timesheet = [time()]\n",
    "def timer(statement):\n",
    "    global timesheet\n",
    "    timesheet.append(time())\n",
    "    print statement+\" :\", (timesheet[-1]-timesheet[-2]),\"seconds\""
   ]
  },
  {
   "cell_type": "code",
   "execution_count": 4,
   "metadata": {
    "collapsed": true
   },
   "outputs": [],
   "source": [
    "def load_meta(directory, prefix, modeltype):\n",
    "    m_tr = pd.read_csv(directory+prefix+\"_train.csv\")\n",
    "    m_te = pd.read_csv(directory+prefix+\"_test.csv\")\n",
    "    data = pd.concat([m_tr, m_te], axis=0).reset_index(drop=True)\n",
    "    data.columns = [\"{}_{}_{}\".format(c, prefix, modeltype) if c!=\"SK_ID_CURR\" else c for c in data.columns]\n",
    "    return data\n",
    "\n",
    "def join_features(data, features):\n",
    "    for item in features:\n",
    "        data = data.merge(item, how = \"left\", on = \"SK_ID_CURR\")\n",
    "    return data\n",
    "\n",
    "\n",
    "def processColNames(df):\n",
    "    df.columns = [c.replace(\" \",\"_\") for c in df.columns]\n",
    "    return df\n"
   ]
  },
  {
   "cell_type": "markdown",
   "metadata": {},
   "source": [
    "## Loading Features"
   ]
  },
  {
   "cell_type": "markdown",
   "metadata": {},
   "source": [
    "Loading All Features File "
   ]
  },
  {
   "cell_type": "code",
   "execution_count": 5,
   "metadata": {
    "collapsed": true
   },
   "outputs": [],
   "source": [
    "applications = processColNames(pd.read_csv(\"../extractor/csv/application_features_V2.csv\").dropna(axis=1, how=\"all\").drop([\"TARGET\"], axis=1))\n",
    "bureau_balance_bb = processColNames(pd.read_csv(\"../extractor/csv/bureau_features_V1.csv\").dropna(axis=1, how=\"all\"))\n",
    "credit_card_balance = processColNames(pd.read_csv(\"../extractor/csv/credit_card_features_V1.csv\").dropna(axis=1, how=\"all\"))\n",
    "installment_features = processColNames(pd.read_csv(\"../extractor/csv/installment_features_V1.csv\").dropna(axis=1, how=\"all\"))\n",
    "pos_cash_balance = processColNames(pd.read_csv(\"../extractor/csv/pos_cash_features_V1.csv\").dropna(axis=1, how=\"all\"))\n",
    "previous_apps = processColNames(pd.read_csv(\"../extractor/csv/previous_application_features_V1.csv\").dropna(axis=1, how=\"all\"))\n",
    "\n",
    "base_features = [applications, bureau_balance_bb, credit_card_balance, installment_features, pos_cash_balance,previous_apps ]"
   ]
  },
  {
   "cell_type": "markdown",
   "metadata": {},
   "source": [
    "## Loading Meta Features"
   ]
  },
  {
   "cell_type": "code",
   "execution_count": 6,
   "metadata": {
    "collapsed": true
   },
   "outputs": [],
   "source": [
    "tree_meta_features = [\n",
    "    load_meta(\"../base trees/csv/\", \"application\", \"trees\"),\n",
    "    load_meta(\"../base trees/csv/\", \"bureau_balance_bb\", \"trees\"),\n",
    "    load_meta(\"../base trees/csv/\", \"credit_card_balance\", \"trees\"),\n",
    "    load_meta(\"../base trees/csv/\", \"installment\", \"trees\"),\n",
    "    load_meta(\"../base trees/csv/\", \"pos_cash_balance\", \"trees\"),\n",
    "    load_meta(\"../base trees/csv/\", \"previous_apps\", \"trees\"),\n",
    "]\n",
    "\n",
    "lr_meta_features = [\n",
    "    load_meta(\"../base lr/csv/\", \"application\", \"lr\"),\n",
    "    load_meta(\"../base lr/csv/\", \"bureau_balance_bb\", \"lr\"),\n",
    "    load_meta(\"../base lr/csv/\", \"credit_card_balance\", \"lr\"),\n",
    "    load_meta(\"../base lr/csv/\", \"installment\", \"lr\"),\n",
    "    load_meta(\"../base lr/csv/\", \"pos_cash_balance\", \"lr\"),\n",
    "    load_meta(\"../base lr/csv/\", \"previous_apps\", \"lr\"),\n",
    "]\n",
    "\n",
    "nb_meta_features = [\n",
    "    load_meta(\"../base nb/csv/\", \"application\", \"nb\"),\n",
    "    load_meta(\"../base nb/csv/\", \"bureau_balance_bb\", \"nb\"),\n",
    "    load_meta(\"../base nb/csv/\", \"credit_card_balance\", \"nb\"),\n",
    "    load_meta(\"../base nb/csv/\", \"installment\", \"nb\"),\n",
    "    load_meta(\"../base nb/csv/\", \"pos_cash_balance\", \"nb\"),\n",
    "    load_meta(\"../base nb/csv/\", \"previous_apps\", \"nb\"),\n",
    "]\n",
    "\n",
    "nn_meta_features = [\n",
    "    load_meta(\"../base nn/csv/\", \"application\", \"nb\"),\n",
    "    load_meta(\"../base nn/csv/\", \"bureau_balance_bb\", \"nb\"),\n",
    "    load_meta(\"../base nn/csv/\", \"credit_card_balance\", \"nb\"),\n",
    "    load_meta(\"../base nn/csv/\", \"installment\", \"nb\"),\n",
    "    load_meta(\"../base nn/csv/\", \"pos_cash_balance\", \"nb\"),\n",
    "    load_meta(\"../base nn/csv/\", \"previous_apps\", \"nb\"),\n",
    "]"
   ]
  },
  {
   "cell_type": "code",
   "execution_count": 7,
   "metadata": {
    "collapsed": true
   },
   "outputs": [],
   "source": [
    "train = pd.read_csv(\"../data/application_train.csv\", usecols = [\"SK_ID_CURR\",\"TARGET\"])\n",
    "test = pd.read_csv(\"../data/application_test.csv\", usecols = [\"SK_ID_CURR\"])\n",
    "\n",
    "data = pd.concat([train, test], axis=0).reset_index(drop=True)\n",
    "data = join_features(data, base_features)\n",
    "data = join_features(data, tree_meta_features)\n",
    "data = join_features(data, lr_meta_features)\n",
    "data = join_features(data, nb_meta_features)\n",
    "data = join_features(data, nn_meta_features)\n",
    "\n",
    "train = data.loc[data.TARGET.notnull()].reset_index(drop=True)\n",
    "test = data.loc[data.TARGET.isnull()].reset_index(drop=True)\n",
    "\n",
    "train_id = train[[\"SK_ID_CURR\"]]\n",
    "test_id = test[[\"SK_ID_CURR\"]]\n",
    "target =train.TARGET\n",
    "\n",
    "train.drop([\"SK_ID_CURR\", \"TARGET\"], axis=1, inplace=True)\n",
    "test.drop([\"SK_ID_CURR\",\"TARGET\"], axis=1, inplace = True)"
   ]
  },
  {
   "cell_type": "markdown",
   "metadata": {},
   "source": [
    "# Defining Model"
   ]
  },
  {
   "cell_type": "code",
   "execution_count": 8,
   "metadata": {
    "collapsed": true
   },
   "outputs": [],
   "source": [
    "import lightgbm as lgb\n",
    "def model_tree(x_train, x_test, y_train, y_test, test, meta_train, meta_test,train_index, test_index,fold_id):\n",
    "    dtrain = lgb.Dataset(x_train, label=y_train)\n",
    "    dval = lgb.Dataset(x_test, label=y_test)\n",
    "    params = {\n",
    "        'num_leaves': 32, #32\n",
    "        'reg_alpha': 0.04, \n",
    "        'n_jobs': -1, \n",
    "        'colsample_bytree': 0.9497036, \n",
    "        'silent': -1, \n",
    "        'subsample_for_bin': 200000, \n",
    "        'subsample_freq': 1, \n",
    "        'learning_rate': 0.02, # 0.02\n",
    "        'boosting_type': 'gbdt', \n",
    "        'nthread': 8, \n",
    "        'min_child_weight': 40, \n",
    "        'min_split_gain': 0.0222415, \n",
    "        'n_estimators': 10000, \n",
    "        'subsample': 0.8715623, \n",
    "        'reg_lambda': 10, \n",
    "        'objective': \"binary\", \n",
    "        'verbose': -1, \n",
    "        'min_child_samples': 20, \n",
    "        'max_depth': 8, #8\n",
    "        'class_weight': None,\n",
    "        \"bagging_seed\" : 3143,\n",
    "        \"seed\":1343,\n",
    "        \"metric\":\"auc\"\n",
    "    }\n",
    "    model = lgb.train(params, dtrain, num_boost_round=5000,valid_sets=[dtrain, dval], early_stopping_rounds=200, verbose_eval=100)\n",
    "    meta_train[test_index] = model.predict(x_test, num_iteration=model.best_iteration or 5000)\n",
    "    meta_test.append(model.predict(test, num_iteration=model.best_iteration or 5000))\n",
    "    \n",
    "    global fold_roc\n",
    "    fold_roc.append(roc_auc_score(y_test, meta_train[test_index]))\n",
    "    # Calculate Feature Importance\n",
    "    global feature_importance\n",
    "    gain = model.feature_importance('gain')\n",
    "    fold_feature_importance = pd.DataFrame({'feature':model.feature_name(), 'split':model.feature_importance('split'), 'gain':100 * gain / gain.sum()})\n",
    "    feature_importance = feature_importance.append(fold_feature_importance, ignore_index=True) "
   ]
  },
  {
   "cell_type": "markdown",
   "metadata": {},
   "source": [
    "# Training Model"
   ]
  },
  {
   "cell_type": "code",
   "execution_count": 9,
   "metadata": {},
   "outputs": [
    {
     "name": "stderr",
     "output_type": "stream",
     "text": [
      "/home/sakhtar0092/anaconda2/lib/python2.7/site-packages/lightgbm/engine.py:99: UserWarning: Found `n_estimators` in params. Will use it instead of argument\n",
      "  warnings.warn(\"Found `{}` in params. Will use it instead of argument\".format(alias))\n",
      "/home/sakhtar0092/anaconda2/lib/python2.7/site-packages/lightgbm/basic.py:657: UserWarning: silent keyword has been found in `params` and will be ignored. Please use silent argument of the Dataset constructor to pass this parameter.\n",
      "  'Please use {0} argument of the Dataset constructor to pass this parameter.'.format(key))\n"
     ]
    },
    {
     "name": "stdout",
     "output_type": "stream",
     "text": [
      "Training until validation scores don't improve for 200 rounds.\n",
      "[100]\ttraining's auc: 0.792808\tvalid_1's auc: 0.778119\n",
      "[200]\ttraining's auc: 0.803045\tvalid_1's auc: 0.783325\n",
      "[300]\ttraining's auc: 0.812501\tvalid_1's auc: 0.786519\n",
      "[400]\ttraining's auc: 0.820413\tvalid_1's auc: 0.788176\n",
      "[500]\ttraining's auc: 0.827159\tvalid_1's auc: 0.788837\n",
      "[600]\ttraining's auc: 0.833284\tvalid_1's auc: 0.78937\n",
      "[700]\ttraining's auc: 0.838915\tvalid_1's auc: 0.789456\n",
      "[800]\ttraining's auc: 0.843788\tvalid_1's auc: 0.789536\n",
      "[900]\ttraining's auc: 0.848913\tvalid_1's auc: 0.789655\n",
      "[1000]\ttraining's auc: 0.853734\tvalid_1's auc: 0.789548\n",
      "Early stopping, best iteration is:\n",
      "[851]\ttraining's auc: 0.846423\tvalid_1's auc: 0.789744\n",
      "Training until validation scores don't improve for 200 rounds.\n",
      "[100]\ttraining's auc: 0.791175\tvalid_1's auc: 0.793666\n",
      "[200]\ttraining's auc: 0.801422\tvalid_1's auc: 0.798219\n",
      "[300]\ttraining's auc: 0.810798\tvalid_1's auc: 0.800887\n",
      "[400]\ttraining's auc: 0.818733\tvalid_1's auc: 0.802101\n",
      "[500]\ttraining's auc: 0.825628\tvalid_1's auc: 0.802693\n",
      "[600]\ttraining's auc: 0.831757\tvalid_1's auc: 0.803084\n",
      "[700]\ttraining's auc: 0.837339\tvalid_1's auc: 0.803146\n",
      "[800]\ttraining's auc: 0.842811\tvalid_1's auc: 0.803032\n",
      "Early stopping, best iteration is:\n",
      "[652]\ttraining's auc: 0.834798\tvalid_1's auc: 0.803261\n",
      "Training until validation scores don't improve for 200 rounds.\n",
      "[100]\ttraining's auc: 0.791682\tvalid_1's auc: 0.785803\n",
      "[200]\ttraining's auc: 0.802261\tvalid_1's auc: 0.79054\n",
      "[300]\ttraining's auc: 0.811613\tvalid_1's auc: 0.793137\n",
      "[400]\ttraining's auc: 0.819542\tvalid_1's auc: 0.794397\n",
      "[500]\ttraining's auc: 0.82621\tvalid_1's auc: 0.79451\n",
      "[600]\ttraining's auc: 0.832415\tvalid_1's auc: 0.79461\n",
      "[700]\ttraining's auc: 0.837918\tvalid_1's auc: 0.794741\n",
      "[800]\ttraining's auc: 0.843241\tvalid_1's auc: 0.794677\n",
      "Early stopping, best iteration is:\n",
      "[681]\ttraining's auc: 0.836966\tvalid_1's auc: 0.794797\n",
      "Training until validation scores don't improve for 200 rounds.\n",
      "[100]\ttraining's auc: 0.791204\tvalid_1's auc: 0.792095\n",
      "[200]\ttraining's auc: 0.801717\tvalid_1's auc: 0.796133\n",
      "[300]\ttraining's auc: 0.811355\tvalid_1's auc: 0.79823\n",
      "[400]\ttraining's auc: 0.81949\tvalid_1's auc: 0.79921\n",
      "[500]\ttraining's auc: 0.826191\tvalid_1's auc: 0.799506\n",
      "[600]\ttraining's auc: 0.832292\tvalid_1's auc: 0.799745\n",
      "[700]\ttraining's auc: 0.837864\tvalid_1's auc: 0.799622\n",
      "Early stopping, best iteration is:\n",
      "[586]\ttraining's auc: 0.831445\tvalid_1's auc: 0.799809\n",
      "Training until validation scores don't improve for 200 rounds.\n",
      "[100]\ttraining's auc: 0.791718\tvalid_1's auc: 0.786415\n",
      "[200]\ttraining's auc: 0.802139\tvalid_1's auc: 0.790688\n",
      "[300]\ttraining's auc: 0.81174\tvalid_1's auc: 0.793067\n",
      "[400]\ttraining's auc: 0.81975\tvalid_1's auc: 0.793936\n",
      "[500]\ttraining's auc: 0.826626\tvalid_1's auc: 0.794156\n",
      "[600]\ttraining's auc: 0.832881\tvalid_1's auc: 0.794236\n",
      "[700]\ttraining's auc: 0.838608\tvalid_1's auc: 0.794161\n",
      "[800]\ttraining's auc: 0.844222\tvalid_1's auc: 0.794051\n",
      "Early stopping, best iteration is:\n",
      "[640]\ttraining's auc: 0.835239\tvalid_1's auc: 0.79441\n",
      "Training until validation scores don't improve for 200 rounds.\n",
      "[100]\ttraining's auc: 0.79267\tvalid_1's auc: 0.776403\n",
      "[200]\ttraining's auc: 0.803027\tvalid_1's auc: 0.781844\n",
      "[300]\ttraining's auc: 0.81243\tvalid_1's auc: 0.784924\n",
      "[400]\ttraining's auc: 0.820414\tvalid_1's auc: 0.786\n",
      "[500]\ttraining's auc: 0.82715\tvalid_1's auc: 0.786576\n",
      "[600]\ttraining's auc: 0.833346\tvalid_1's auc: 0.786609\n",
      "[700]\ttraining's auc: 0.83908\tvalid_1's auc: 0.786542\n",
      "Early stopping, best iteration is:\n",
      "[572]\ttraining's auc: 0.831707\tvalid_1's auc: 0.786736\n",
      "Training until validation scores don't improve for 200 rounds.\n",
      "[100]\ttraining's auc: 0.790916\tvalid_1's auc: 0.793346\n",
      "[200]\ttraining's auc: 0.801393\tvalid_1's auc: 0.798183\n",
      "[300]\ttraining's auc: 0.810864\tvalid_1's auc: 0.801239\n",
      "[400]\ttraining's auc: 0.818787\tvalid_1's auc: 0.802348\n",
      "[500]\ttraining's auc: 0.825695\tvalid_1's auc: 0.803049\n",
      "[600]\ttraining's auc: 0.831538\tvalid_1's auc: 0.803549\n",
      "[700]\ttraining's auc: 0.837343\tvalid_1's auc: 0.803741\n",
      "[800]\ttraining's auc: 0.842907\tvalid_1's auc: 0.803882\n",
      "[900]\ttraining's auc: 0.848149\tvalid_1's auc: 0.804025\n",
      "[1000]\ttraining's auc: 0.852812\tvalid_1's auc: 0.803909\n",
      "[1100]\ttraining's auc: 0.857371\tvalid_1's auc: 0.803817\n",
      "Early stopping, best iteration is:\n",
      "[941]\ttraining's auc: 0.850055\tvalid_1's auc: 0.804123\n",
      "Training until validation scores don't improve for 200 rounds.\n",
      "[100]\ttraining's auc: 0.792311\tvalid_1's auc: 0.781193\n",
      "[200]\ttraining's auc: 0.802702\tvalid_1's auc: 0.785898\n",
      "[300]\ttraining's auc: 0.812146\tvalid_1's auc: 0.787997\n",
      "[400]\ttraining's auc: 0.820108\tvalid_1's auc: 0.789244\n",
      "[500]\ttraining's auc: 0.826763\tvalid_1's auc: 0.789602\n",
      "[600]\ttraining's auc: 0.832869\tvalid_1's auc: 0.790035\n",
      "[700]\ttraining's auc: 0.838494\tvalid_1's auc: 0.790226\n",
      "[800]\ttraining's auc: 0.843717\tvalid_1's auc: 0.79027\n",
      "[900]\ttraining's auc: 0.848984\tvalid_1's auc: 0.790321\n",
      "[1000]\ttraining's auc: 0.853938\tvalid_1's auc: 0.790362\n",
      "[1100]\ttraining's auc: 0.858663\tvalid_1's auc: 0.790266\n",
      "[1200]\ttraining's auc: 0.863053\tvalid_1's auc: 0.78987\n",
      "Early stopping, best iteration is:\n",
      "[1002]\ttraining's auc: 0.854055\tvalid_1's auc: 0.790396\n",
      "Training until validation scores don't improve for 200 rounds.\n",
      "[100]\ttraining's auc: 0.79208\tvalid_1's auc: 0.783583\n",
      "[200]\ttraining's auc: 0.802551\tvalid_1's auc: 0.787308\n",
      "[300]\ttraining's auc: 0.811908\tvalid_1's auc: 0.79026\n",
      "[400]\ttraining's auc: 0.819933\tvalid_1's auc: 0.791543\n",
      "[500]\ttraining's auc: 0.826913\tvalid_1's auc: 0.791799\n",
      "[600]\ttraining's auc: 0.833077\tvalid_1's auc: 0.791748\n",
      "[700]\ttraining's auc: 0.83872\tvalid_1's auc: 0.792075\n",
      "[800]\ttraining's auc: 0.844124\tvalid_1's auc: 0.791972\n",
      "Early stopping, best iteration is:\n",
      "[685]\ttraining's auc: 0.837939\tvalid_1's auc: 0.792097\n",
      "Training until validation scores don't improve for 200 rounds.\n",
      "[100]\ttraining's auc: 0.791673\tvalid_1's auc: 0.789164\n",
      "[200]\ttraining's auc: 0.801898\tvalid_1's auc: 0.793822\n",
      "[300]\ttraining's auc: 0.8113\tvalid_1's auc: 0.796354\n",
      "[400]\ttraining's auc: 0.819151\tvalid_1's auc: 0.797819\n",
      "[500]\ttraining's auc: 0.826094\tvalid_1's auc: 0.798614\n",
      "[600]\ttraining's auc: 0.8323\tvalid_1's auc: 0.798958\n",
      "[700]\ttraining's auc: 0.837935\tvalid_1's auc: 0.799093\n",
      "[800]\ttraining's auc: 0.843139\tvalid_1's auc: 0.799047\n",
      "[900]\ttraining's auc: 0.848145\tvalid_1's auc: 0.79882\n",
      "Early stopping, best iteration is:\n",
      "[703]\ttraining's auc: 0.838122\tvalid_1's auc: 0.799106\n"
     ]
    },
    {
     "name": "stderr",
     "output_type": "stream",
     "text": [
      "/home/sakhtar0092/anaconda2/lib/python2.7/site-packages/ipykernel_launcher.py:13: SettingWithCopyWarning: \n",
      "A value is trying to be set on a copy of a slice from a DataFrame.\n",
      "Try using .loc[row_indexer,col_indexer] = value instead\n",
      "\n",
      "See the caveats in the documentation: http://pandas.pydata.org/pandas-docs/stable/indexing.html#indexing-view-versus-copy\n",
      "  del sys.path[0]\n",
      "/home/sakhtar0092/anaconda2/lib/python2.7/site-packages/ipykernel_launcher.py:14: SettingWithCopyWarning: \n",
      "A value is trying to be set on a copy of a slice from a DataFrame.\n",
      "Try using .loc[row_indexer,col_indexer] = value instead\n",
      "\n",
      "See the caveats in the documentation: http://pandas.pydata.org/pandas-docs/stable/indexing.html#indexing-view-versus-copy\n",
      "  \n"
     ]
    },
    {
     "name": "stdout",
     "output_type": "stream",
     "text": [
      "Overall ROC: 0.795423290143,  Mean ROC: 0.795447957099, STD AUC: 0.0056159079628\n"
     ]
    }
   ],
   "source": [
    "meta_train = np.zeros(train.shape[0])\n",
    "meta_test = []\n",
    "feature_importance = pd.DataFrame(columns = [\"feature\",\"split\",\"gain\"])\n",
    "fold_roc = []\n",
    "\n",
    "kf = StratifiedKFold(n_splits= 10, shuffle=True, random_state=47)\n",
    "for fold_id, (train_index, test_index) in enumerate(kf.split(train, target)):\n",
    "    x_train, x_test = train.iloc[train_index], train.iloc[test_index]\n",
    "    y_train, y_test = target[train_index], target[test_index]\n",
    "\n",
    "    model_tree(x_train, x_test, y_train, y_test, test, meta_train, meta_test,train_index, test_index,fold_id)\n",
    "\n",
    "test_id[\"TARGET\"] = np.array(meta_test).T.mean(axis=1)\n",
    "train_id[\"TARGET\"] = meta_train\n",
    "\n",
    "print \"Overall ROC: {},  Mean ROC: {}, STD AUC: {}\".format(roc_auc_score(target, meta_train), np.mean(fold_roc), np.std(fold_roc))"
   ]
  },
  {
   "cell_type": "code",
   "execution_count": 10,
   "metadata": {
    "collapsed": true
   },
   "outputs": [],
   "source": [
    "train_id.to_csv(\"csv/{}_train.csv\".format(model_name), index=False)\n",
    "test_id.to_csv(\"csv/{}_test.csv\".format(model_name), index=False)"
   ]
  },
  {
   "cell_type": "markdown",
   "metadata": {},
   "source": [
    "# Get Feature Importance"
   ]
  },
  {
   "cell_type": "code",
   "execution_count": 11,
   "metadata": {
    "collapsed": true
   },
   "outputs": [],
   "source": [
    "# Print Feature Importance\n",
    "feature_importance.to_csv(\"csv/{}_all_fi.csv\".format(model_name), index = False)\n",
    "feature_importance = feature_importance.groupby(\"feature\")[[\"gain\",\"split\"]].mean().sort_values('gain', ascending=False).reset_index()\n",
    "\n",
    "plt.figure()\n",
    "feature_importance[['feature','gain']].head(60).plot(kind='barh', x='feature', y='gain', legend=False, figsize=(30, 100))\n",
    "plt.gcf().savefig('csv/{}.png'.format(model_name))\n"
   ]
  },
  {
   "cell_type": "code",
   "execution_count": null,
   "metadata": {
    "collapsed": true
   },
   "outputs": [],
   "source": []
  },
  {
   "cell_type": "code",
   "execution_count": null,
   "metadata": {
    "collapsed": true
   },
   "outputs": [],
   "source": []
  },
  {
   "cell_type": "code",
   "execution_count": null,
   "metadata": {
    "collapsed": true
   },
   "outputs": [],
   "source": []
  },
  {
   "cell_type": "code",
   "execution_count": null,
   "metadata": {
    "collapsed": true
   },
   "outputs": [],
   "source": []
  },
  {
   "cell_type": "code",
   "execution_count": null,
   "metadata": {
    "collapsed": true
   },
   "outputs": [],
   "source": []
  },
  {
   "cell_type": "code",
   "execution_count": null,
   "metadata": {
    "collapsed": true
   },
   "outputs": [],
   "source": []
  },
  {
   "cell_type": "code",
   "execution_count": null,
   "metadata": {
    "collapsed": true
   },
   "outputs": [],
   "source": []
  },
  {
   "cell_type": "code",
   "execution_count": null,
   "metadata": {
    "collapsed": true
   },
   "outputs": [],
   "source": [
    "-"
   ]
  }
 ],
 "metadata": {
  "kernelspec": {
   "display_name": "Python 2",
   "language": "python",
   "name": "python2"
  },
  "language_info": {
   "codemirror_mode": {
    "name": "ipython",
    "version": 2
   },
   "file_extension": ".py",
   "mimetype": "text/x-python",
   "name": "python",
   "nbconvert_exporter": "python",
   "pygments_lexer": "ipython2",
   "version": "2.7.14"
  }
 },
 "nbformat": 4,
 "nbformat_minor": 2
}
