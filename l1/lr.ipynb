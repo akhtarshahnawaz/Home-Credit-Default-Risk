{
 "cells": [
  {
   "cell_type": "code",
   "execution_count": 41,
   "metadata": {
    "collapsed": true
   },
   "outputs": [],
   "source": [
    "model_name = \"l1_lr\""
   ]
  },
  {
   "cell_type": "code",
   "execution_count": 42,
   "metadata": {
    "collapsed": true
   },
   "outputs": [],
   "source": [
    "import numpy as np\n",
    "import pandas as pd\n",
    "import gc\n",
    "from time import time\n",
    "from contextlib import contextmanager\n",
    "from lightgbm import LGBMClassifier\n",
    "from sklearn.metrics import roc_auc_score, roc_curve\n",
    "from sklearn.model_selection import KFold, StratifiedKFold\n",
    "import matplotlib.pyplot as plt\n",
    "import seaborn as sns\n",
    "import warnings\n",
    "from sklearn.preprocessing import LabelEncoder,OneHotEncoder"
   ]
  },
  {
   "cell_type": "code",
   "execution_count": 43,
   "metadata": {
    "collapsed": true
   },
   "outputs": [],
   "source": [
    "timesheet = [time()]\n",
    "def timer(statement):\n",
    "    global timesheet\n",
    "    timesheet.append(time())\n",
    "    print statement+\" :\", (timesheet[-1]-timesheet[-2]),\"seconds\""
   ]
  },
  {
   "cell_type": "code",
   "execution_count": 44,
   "metadata": {
    "collapsed": true
   },
   "outputs": [],
   "source": [
    "def load_meta(directory, prefix, modeltype):\n",
    "    m_tr = pd.read_csv(directory+prefix+\"_train.csv\")\n",
    "    m_te = pd.read_csv(directory+prefix+\"_test.csv\")\n",
    "    data = pd.concat([m_tr, m_te], axis=0).reset_index(drop=True)\n",
    "    data.columns = [\"{}_{}_{}\".format(c, prefix, modeltype) if c!=\"SK_ID_CURR\" else c for c in data.columns]\n",
    "    return data\n",
    "\n",
    "def join_features(data, features):\n",
    "    for item in features:\n",
    "        data = data.merge(item, how = \"left\", on = \"SK_ID_CURR\")\n",
    "    return data\n",
    "\n",
    "def postprocess(data):\n",
    "    columns = [c for c in data.columns if c not in [\"TARGET\",\"SK_ID_CURR\"]]\n",
    "    for col in columns:\n",
    "        data[col] = data[col].fillna(data[col].mean())\n",
    "    return data\n",
    "\n",
    "def processColNames(df):\n",
    "    df.columns = [c.replace(\" \",\"_\") for c in df.columns]\n",
    "    return df\n"
   ]
  },
  {
   "cell_type": "markdown",
   "metadata": {},
   "source": [
    "## Loading Features"
   ]
  },
  {
   "cell_type": "markdown",
   "metadata": {},
   "source": [
    "Loading All Features File "
   ]
  },
  {
   "cell_type": "code",
   "execution_count": 45,
   "metadata": {},
   "outputs": [],
   "source": [
    "applications = processColNames(pd.read_csv(\"../extractor/csv/application_features_normalized_V1.csv\").dropna(axis=1, how=\"all\")).drop([\"TARGET\"], axis=1)\n",
    "bureau_balance_bb = processColNames(pd.read_csv(\"../extractor/csv/bureau_features_normalized_V1.csv\").dropna(axis=1, how=\"all\"))\n",
    "credit_card_balance = processColNames(pd.read_csv(\"../extractor/csv/credit_card_features_normalized_V1.csv\").dropna(axis=1, how=\"all\"))\n",
    "installment_features = processColNames(pd.read_csv(\"../extractor/csv/installment_features_normalized_V1.csv\").dropna(axis=1, how=\"all\"))\n",
    "pos_cash_balance = processColNames(pd.read_csv(\"../extractor/csv/pos_cash_features_normalized_V1.csv\").dropna(axis=1, how=\"all\"))\n",
    "previous_apps = processColNames(pd.read_csv(\"../extractor/csv/previous_application_features_normalized_V1.csv\").dropna(axis=1, how=\"all\"))\n",
    "\n",
    "base_features = [applications, bureau_balance_bb, credit_card_balance, installment_features, pos_cash_balance,previous_apps ]"
   ]
  },
  {
   "cell_type": "markdown",
   "metadata": {},
   "source": [
    "## Loading Meta Features"
   ]
  },
  {
   "cell_type": "code",
   "execution_count": 46,
   "metadata": {
    "collapsed": true
   },
   "outputs": [],
   "source": [
    "tree_meta_features = [\n",
    "    load_meta(\"../base trees/csv/\", \"application\", \"trees\"),\n",
    "    load_meta(\"../base trees/csv/\", \"bureau_balance_bb\", \"trees\"),\n",
    "    load_meta(\"../base trees/csv/\", \"credit_card_balance\", \"trees\"),\n",
    "    load_meta(\"../base trees/csv/\", \"installment\", \"trees\"),\n",
    "    load_meta(\"../base trees/csv/\", \"pos_cash_balance\", \"trees\"),\n",
    "    load_meta(\"../base trees/csv/\", \"previous_apps\", \"trees\"),\n",
    "]\n",
    "\n",
    "lr_meta_features = [\n",
    "    load_meta(\"../base lr/csv/\", \"application\", \"lr\"),\n",
    "    load_meta(\"../base lr/csv/\", \"bureau_balance_bb\", \"lr\"),\n",
    "    load_meta(\"../base lr/csv/\", \"credit_card_balance\", \"lr\"),\n",
    "    load_meta(\"../base lr/csv/\", \"installment\", \"lr\"),\n",
    "    load_meta(\"../base lr/csv/\", \"pos_cash_balance\", \"lr\"),\n",
    "    load_meta(\"../base lr/csv/\", \"previous_apps\", \"lr\"),\n",
    "]\n",
    "\n",
    "nb_meta_features = [\n",
    "    load_meta(\"../base nb/csv/\", \"application\", \"nb\"),\n",
    "    load_meta(\"../base nb/csv/\", \"bureau_balance_bb\", \"nb\"),\n",
    "    load_meta(\"../base nb/csv/\", \"credit_card_balance\", \"nb\"),\n",
    "    load_meta(\"../base nb/csv/\", \"installment\", \"nb\"),\n",
    "    load_meta(\"../base nb/csv/\", \"pos_cash_balance\", \"nb\"),\n",
    "    load_meta(\"../base nb/csv/\", \"previous_apps\", \"nb\"),\n",
    "]\n",
    "\n",
    "nn_meta_features = [\n",
    "    load_meta(\"../base nn/csv/\", \"application\", \"nb\"),\n",
    "    load_meta(\"../base nn/csv/\", \"bureau_balance_bb\", \"nb\"),\n",
    "    load_meta(\"../base nn/csv/\", \"credit_card_balance\", \"nb\"),\n",
    "    load_meta(\"../base nn/csv/\", \"installment\", \"nb\"),\n",
    "    load_meta(\"../base nn/csv/\", \"pos_cash_balance\", \"nb\"),\n",
    "    load_meta(\"../base nn/csv/\", \"previous_apps\", \"nb\"),\n",
    "]"
   ]
  },
  {
   "cell_type": "code",
   "execution_count": 47,
   "metadata": {
    "collapsed": true
   },
   "outputs": [],
   "source": [
    "train = pd.read_csv(\"../data/application_train.csv\", usecols = [\"SK_ID_CURR\",\"TARGET\"])\n",
    "test = pd.read_csv(\"../data/application_test.csv\", usecols = [\"SK_ID_CURR\"])\n",
    "\n",
    "data = pd.concat([train, test], axis=0).reset_index(drop=True)\n",
    "data = join_features(data, base_features)\n",
    "data = join_features(data, tree_meta_features)\n",
    "data = join_features(data, lr_meta_features)\n",
    "data = join_features(data, nb_meta_features)\n",
    "data = join_features(data, nn_meta_features)\n",
    "\n",
    "data = postprocess(data)\n",
    "train = data.loc[data.TARGET.notnull()].reset_index(drop=True)\n",
    "test = data.loc[data.TARGET.isnull()].reset_index(drop=True)\n",
    "\n",
    "train_id = train[[\"SK_ID_CURR\"]]\n",
    "test_id = test[[\"SK_ID_CURR\"]]\n",
    "target =train.TARGET\n",
    "\n",
    "train.drop([\"SK_ID_CURR\", \"TARGET\"], axis=1, inplace=True)\n",
    "test.drop([\"SK_ID_CURR\",\"TARGET\"], axis=1, inplace = True)"
   ]
  },
  {
   "cell_type": "markdown",
   "metadata": {},
   "source": [
    "# Defining Model"
   ]
  },
  {
   "cell_type": "code",
   "execution_count": 48,
   "metadata": {
    "collapsed": true
   },
   "outputs": [],
   "source": [
    "from sklearn.linear_model import LogisticRegression\n",
    "def model_lr(x_train, x_test, y_train, y_test, test, meta_train, meta_test,train_index, test_index,fold_id):\n",
    "    clf = LogisticRegression(class_weight = {1: np.mean(target), 0: (1-np.mean(target))}, random_state = 123)\n",
    "    clf.fit(x_train, y_train)\n",
    "    \n",
    "    meta_train[test_index] = clf.predict_proba(x_test)[:,1]\n",
    "    meta_test.append(clf.predict_proba(test)[:,1])\n",
    "\n",
    "    print roc_auc_score(y_test, meta_train[test_index])"
   ]
  },
  {
   "cell_type": "markdown",
   "metadata": {},
   "source": [
    "# Training Model"
   ]
  },
  {
   "cell_type": "code",
   "execution_count": 49,
   "metadata": {},
   "outputs": [
    {
     "name": "stdout",
     "output_type": "stream",
     "text": [
      "0.7631080850651101\n",
      "0.7757690567463693\n",
      "0.7679636149610197\n",
      "0.7713405275224885\n",
      "0.7699119016920565\n",
      "0.7596135024773081\n",
      "0.7791074653594747\n",
      "0.7618684441663293\n",
      "0.7670872848539483\n",
      "0.7718775409351747\n"
     ]
    },
    {
     "name": "stderr",
     "output_type": "stream",
     "text": [
      "/home/sakhtar0092/anaconda2/lib/python2.7/site-packages/ipykernel_launcher.py:11: SettingWithCopyWarning: \n",
      "A value is trying to be set on a copy of a slice from a DataFrame.\n",
      "Try using .loc[row_indexer,col_indexer] = value instead\n",
      "\n",
      "See the caveats in the documentation: http://pandas.pydata.org/pandas-docs/stable/indexing.html#indexing-view-versus-copy\n",
      "  # This is added back by InteractiveShellApp.init_path()\n",
      "/home/sakhtar0092/anaconda2/lib/python2.7/site-packages/ipykernel_launcher.py:12: SettingWithCopyWarning: \n",
      "A value is trying to be set on a copy of a slice from a DataFrame.\n",
      "Try using .loc[row_indexer,col_indexer] = value instead\n",
      "\n",
      "See the caveats in the documentation: http://pandas.pydata.org/pandas-docs/stable/indexing.html#indexing-view-versus-copy\n",
      "  if sys.path[0] == '':\n"
     ]
    },
    {
     "name": "stdout",
     "output_type": "stream",
     "text": [
      "Overall ROC AUC SCORE:  0.7687605652349535\n"
     ]
    }
   ],
   "source": [
    "meta_train = np.zeros(train.shape[0])\n",
    "meta_test = []\n",
    "\n",
    "kf = StratifiedKFold(n_splits= 10, shuffle=True, random_state=47)\n",
    "for fold_id, (train_index, test_index) in enumerate(kf.split(train, target)):\n",
    "    x_train, x_test = train.iloc[train_index].as_matrix(), train.iloc[test_index].as_matrix()\n",
    "    y_train, y_test = target[train_index], target[test_index]\n",
    "\n",
    "    model_lr(x_train, x_test, y_train, y_test, test.as_matrix(), meta_train, meta_test,train_index, test_index,fold_id)\n",
    "\n",
    "test_id[\"TARGET\"] = np.array(meta_test).T.mean(axis=1)\n",
    "train_id[\"TARGET\"] = meta_train\n",
    "print \"Overall ROC AUC SCORE: \",roc_auc_score(target,meta_train)"
   ]
  },
  {
   "cell_type": "code",
   "execution_count": 50,
   "metadata": {},
   "outputs": [],
   "source": [
    "train_id.to_csv(\"csv/{}_train.csv\".format(model_name), index=False)\n",
    "test_id.to_csv(\"csv/{}_test.csv\".format(model_name), index=False)"
   ]
  },
  {
   "cell_type": "code",
   "execution_count": null,
   "metadata": {
    "collapsed": true
   },
   "outputs": [],
   "source": []
  },
  {
   "cell_type": "code",
   "execution_count": null,
   "metadata": {
    "collapsed": true
   },
   "outputs": [],
   "source": []
  },
  {
   "cell_type": "code",
   "execution_count": null,
   "metadata": {
    "collapsed": true
   },
   "outputs": [],
   "source": []
  },
  {
   "cell_type": "code",
   "execution_count": null,
   "metadata": {
    "collapsed": true
   },
   "outputs": [],
   "source": []
  },
  {
   "cell_type": "code",
   "execution_count": null,
   "metadata": {
    "collapsed": true
   },
   "outputs": [],
   "source": []
  },
  {
   "cell_type": "code",
   "execution_count": null,
   "metadata": {
    "collapsed": true
   },
   "outputs": [],
   "source": []
  },
  {
   "cell_type": "code",
   "execution_count": null,
   "metadata": {
    "collapsed": true
   },
   "outputs": [],
   "source": []
  }
 ],
 "metadata": {
  "kernelspec": {
   "display_name": "Python 2",
   "language": "python",
   "name": "python2"
  },
  "language_info": {
   "codemirror_mode": {
    "name": "ipython",
    "version": 2
   },
   "file_extension": ".py",
   "mimetype": "text/x-python",
   "name": "python",
   "nbconvert_exporter": "python",
   "pygments_lexer": "ipython2",
   "version": "2.7.14"
  }
 },
 "nbformat": 4,
 "nbformat_minor": 2
}
