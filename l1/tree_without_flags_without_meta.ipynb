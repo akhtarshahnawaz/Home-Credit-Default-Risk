{
 "cells": [
  {
   "cell_type": "code",
   "execution_count": 1,
   "metadata": {
    "collapsed": true
   },
   "outputs": [],
   "source": [
    "model_name = \"tree_without_flags_without_meta\""
   ]
  },
  {
   "cell_type": "code",
   "execution_count": 2,
   "metadata": {
    "collapsed": true
   },
   "outputs": [],
   "source": [
    "import numpy as np\n",
    "import pandas as pd\n",
    "import gc\n",
    "from time import time\n",
    "from contextlib import contextmanager\n",
    "from lightgbm import LGBMClassifier\n",
    "from sklearn.metrics import roc_auc_score, roc_curve\n",
    "from sklearn.model_selection import KFold, StratifiedKFold\n",
    "import matplotlib.pyplot as plt\n",
    "import seaborn as sns\n",
    "import warnings\n",
    "from sklearn.preprocessing import LabelEncoder,OneHotEncoder"
   ]
  },
  {
   "cell_type": "code",
   "execution_count": 3,
   "metadata": {
    "collapsed": true
   },
   "outputs": [],
   "source": [
    "timesheet = [time()]\n",
    "def timer(statement):\n",
    "    global timesheet\n",
    "    timesheet.append(time())\n",
    "    print statement+\" :\", (timesheet[-1]-timesheet[-2]),\"seconds\""
   ]
  },
  {
   "cell_type": "code",
   "execution_count": 4,
   "metadata": {
    "collapsed": true
   },
   "outputs": [],
   "source": [
    "def load_meta(directory, prefix, modeltype):\n",
    "    m_tr = pd.read_csv(directory+prefix+\"_train.csv\")\n",
    "    m_te = pd.read_csv(directory+prefix+\"_test.csv\")\n",
    "    data = pd.concat([m_tr, m_te], axis=0).reset_index(drop=True)\n",
    "    data.columns = [\"{}_{}_{}\".format(c, prefix, modeltype) if c!=\"SK_ID_CURR\" else c for c in data.columns]\n",
    "    return data\n",
    "\n",
    "def join_features(data, features):\n",
    "    for item in features:\n",
    "        data = data.merge(item, how = \"left\", on = \"SK_ID_CURR\")\n",
    "    return data\n",
    "\n",
    "\n",
    "def processColNames(df):\n",
    "    df.columns = [c.replace(\" \",\"_\") for c in df.columns]\n",
    "    return df\n"
   ]
  },
  {
   "cell_type": "markdown",
   "metadata": {},
   "source": [
    "## Loading Features"
   ]
  },
  {
   "cell_type": "markdown",
   "metadata": {},
   "source": [
    "Loading All Features File "
   ]
  },
  {
   "cell_type": "code",
   "execution_count": 5,
   "metadata": {
    "collapsed": true
   },
   "outputs": [],
   "source": [
    "applications = processColNames(pd.read_csv(\"../extractor/csv/application_features_V1.csv\").dropna(axis=1, how=\"all\").drop([\"TARGET\"], axis=1))\n",
    "bureau_balance_bb = processColNames(pd.read_csv(\"../extractor/csv/bureau_features_V1.csv\").dropna(axis=1, how=\"all\"))\n",
    "credit_card_balance = processColNames(pd.read_csv(\"../extractor/csv/credit_card_features_V1.csv\").dropna(axis=1, how=\"all\"))\n",
    "installment_features = processColNames(pd.read_csv(\"../extractor/csv/installment_features_V1.csv\").dropna(axis=1, how=\"all\"))\n",
    "pos_cash_balance = processColNames(pd.read_csv(\"../extractor/csv/pos_cash_features_V1.csv\").dropna(axis=1, how=\"all\"))\n",
    "previous_apps = processColNames(pd.read_csv(\"../extractor/csv/previous_application_features_V1.csv\").dropna(axis=1, how=\"all\"))\n",
    "\n",
    "base_features = [applications, bureau_balance_bb, credit_card_balance, installment_features, pos_cash_balance,previous_apps ]"
   ]
  },
  {
   "cell_type": "markdown",
   "metadata": {},
   "source": [
    "## Loading Meta Features"
   ]
  },
  {
   "cell_type": "code",
   "execution_count": 6,
   "metadata": {
    "collapsed": true
   },
   "outputs": [],
   "source": [
    "train = pd.read_csv(\"../data/application_train.csv\", usecols = [\"SK_ID_CURR\",\"TARGET\"])\n",
    "test = pd.read_csv(\"../data/application_test.csv\", usecols = [\"SK_ID_CURR\"])\n",
    "\n",
    "data = pd.concat([train, test], axis=0).reset_index(drop=True)\n",
    "data = join_features(data, base_features)\n",
    "\n",
    "train = data.loc[data.TARGET.notnull()].reset_index(drop=True)\n",
    "test = data.loc[data.TARGET.isnull()].reset_index(drop=True)\n",
    "\n",
    "train_id = train[[\"SK_ID_CURR\"]]\n",
    "test_id = test[[\"SK_ID_CURR\"]]\n",
    "target =train.TARGET\n",
    "\n",
    "train.drop([\"SK_ID_CURR\", \"TARGET\"], axis=1, inplace=True)\n",
    "test.drop([\"SK_ID_CURR\",\"TARGET\"], axis=1, inplace = True)"
   ]
  },
  {
   "cell_type": "markdown",
   "metadata": {},
   "source": [
    "# Defining Model"
   ]
  },
  {
   "cell_type": "code",
   "execution_count": 7,
   "metadata": {
    "collapsed": true
   },
   "outputs": [],
   "source": [
    "import lightgbm as lgb\n",
    "def model_tree(x_train, x_test, y_train, y_test, test, meta_train, meta_test,train_index, test_index,fold_id):\n",
    "    dtrain = lgb.Dataset(x_train, label=y_train)\n",
    "    dval = lgb.Dataset(x_test, label=y_test)\n",
    "    params = {\n",
    "        'num_leaves': 32, #32\n",
    "        'reg_alpha': 0.04, \n",
    "        'n_jobs': -1, \n",
    "        'colsample_bytree': 0.9497036, \n",
    "        'silent': -1, \n",
    "        'subsample_for_bin': 200000, \n",
    "        'subsample_freq': 1, \n",
    "        'learning_rate': 0.02, # 0.02\n",
    "        'boosting_type': 'gbdt', \n",
    "        'nthread': 8, \n",
    "        'min_child_weight': 40, \n",
    "        'min_split_gain': 0.0222415, \n",
    "        'n_estimators': 10000, \n",
    "        'subsample': 0.8715623, \n",
    "        'reg_lambda': 10, \n",
    "        'objective': \"binary\", \n",
    "        'verbose': -1, \n",
    "        'min_child_samples': 20, \n",
    "        'max_depth': 8, #8\n",
    "        'class_weight': None,\n",
    "        \"bagging_seed\" : 3143,\n",
    "        \"seed\":1343,\n",
    "        \"metric\":\"auc\"\n",
    "    }\n",
    "    model = lgb.train(params, dtrain, num_boost_round=5000,valid_sets=[dtrain, dval], early_stopping_rounds=200, verbose_eval=100)\n",
    "    meta_train[test_index] = model.predict(x_test, num_iteration=model.best_iteration or 5000)\n",
    "    meta_test.append(model.predict(test, num_iteration=model.best_iteration or 5000))\n",
    "    \n",
    "    global fold_roc\n",
    "    fold_roc.append(roc_auc_score(y_test, meta_train[test_index]))\n",
    "    # Calculate Feature Importance\n",
    "    global feature_importance\n",
    "    gain = model.feature_importance('gain')\n",
    "    fold_feature_importance = pd.DataFrame({'feature':model.feature_name(), 'split':model.feature_importance('split'), 'gain':100 * gain / gain.sum()})\n",
    "    feature_importance = feature_importance.append(fold_feature_importance, ignore_index=True) "
   ]
  },
  {
   "cell_type": "markdown",
   "metadata": {},
   "source": [
    "# Training Model"
   ]
  },
  {
   "cell_type": "code",
   "execution_count": 8,
   "metadata": {},
   "outputs": [
    {
     "name": "stderr",
     "output_type": "stream",
     "text": [
      "/home/sakhtar0092/anaconda2/lib/python2.7/site-packages/lightgbm/engine.py:99: UserWarning: Found `n_estimators` in params. Will use it instead of argument\n",
      "  warnings.warn(\"Found `{}` in params. Will use it instead of argument\".format(alias))\n",
      "/home/sakhtar0092/anaconda2/lib/python2.7/site-packages/lightgbm/basic.py:657: UserWarning: silent keyword has been found in `params` and will be ignored. Please use silent argument of the Dataset constructor to pass this parameter.\n",
      "  'Please use {0} argument of the Dataset constructor to pass this parameter.'.format(key))\n"
     ]
    },
    {
     "name": "stdout",
     "output_type": "stream",
     "text": [
      "Training until validation scores don't improve for 200 rounds.\n",
      "[100]\ttraining's auc: 0.760068\tvalid_1's auc: 0.745276\n",
      "[200]\ttraining's auc: 0.783459\tvalid_1's auc: 0.76155\n",
      "[300]\ttraining's auc: 0.801637\tvalid_1's auc: 0.772806\n",
      "[400]\ttraining's auc: 0.813669\tvalid_1's auc: 0.77837\n",
      "[500]\ttraining's auc: 0.823265\tvalid_1's auc: 0.781329\n",
      "[600]\ttraining's auc: 0.831228\tvalid_1's auc: 0.783213\n",
      "[700]\ttraining's auc: 0.838738\tvalid_1's auc: 0.784663\n",
      "[800]\ttraining's auc: 0.84515\tvalid_1's auc: 0.7855\n",
      "[900]\ttraining's auc: 0.851118\tvalid_1's auc: 0.786227\n",
      "[1000]\ttraining's auc: 0.856717\tvalid_1's auc: 0.786372\n",
      "[1100]\ttraining's auc: 0.861826\tvalid_1's auc: 0.78678\n",
      "[1200]\ttraining's auc: 0.86696\tvalid_1's auc: 0.786838\n",
      "[1300]\ttraining's auc: 0.871932\tvalid_1's auc: 0.786908\n",
      "[1400]\ttraining's auc: 0.876524\tvalid_1's auc: 0.78737\n",
      "[1500]\ttraining's auc: 0.880923\tvalid_1's auc: 0.787337\n",
      "[1600]\ttraining's auc: 0.885115\tvalid_1's auc: 0.787481\n",
      "[1700]\ttraining's auc: 0.88911\tvalid_1's auc: 0.787471\n",
      "[1800]\ttraining's auc: 0.893061\tvalid_1's auc: 0.787582\n",
      "[1900]\ttraining's auc: 0.896749\tvalid_1's auc: 0.787544\n",
      "[2000]\ttraining's auc: 0.900379\tvalid_1's auc: 0.787549\n",
      "Early stopping, best iteration is:\n",
      "[1879]\ttraining's auc: 0.895961\tvalid_1's auc: 0.787697\n",
      "Training until validation scores don't improve for 200 rounds.\n",
      "[100]\ttraining's auc: 0.759098\tvalid_1's auc: 0.757394\n",
      "[200]\ttraining's auc: 0.781937\tvalid_1's auc: 0.773897\n",
      "[300]\ttraining's auc: 0.800129\tvalid_1's auc: 0.785046\n",
      "[400]\ttraining's auc: 0.812194\tvalid_1's auc: 0.790318\n",
      "[500]\ttraining's auc: 0.822077\tvalid_1's auc: 0.793619\n",
      "[600]\ttraining's auc: 0.830324\tvalid_1's auc: 0.795542\n",
      "[700]\ttraining's auc: 0.837571\tvalid_1's auc: 0.796997\n",
      "[800]\ttraining's auc: 0.84448\tvalid_1's auc: 0.79803\n",
      "[900]\ttraining's auc: 0.85062\tvalid_1's auc: 0.798747\n",
      "[1000]\ttraining's auc: 0.85634\tvalid_1's auc: 0.799322\n",
      "[1100]\ttraining's auc: 0.861653\tvalid_1's auc: 0.799765\n",
      "[1200]\ttraining's auc: 0.866758\tvalid_1's auc: 0.800248\n",
      "[1300]\ttraining's auc: 0.871534\tvalid_1's auc: 0.800638\n",
      "[1400]\ttraining's auc: 0.876215\tvalid_1's auc: 0.80081\n",
      "[1500]\ttraining's auc: 0.880619\tvalid_1's auc: 0.800919\n",
      "[1600]\ttraining's auc: 0.884857\tvalid_1's auc: 0.801108\n",
      "[1700]\ttraining's auc: 0.888951\tvalid_1's auc: 0.801442\n",
      "[1800]\ttraining's auc: 0.893012\tvalid_1's auc: 0.801466\n",
      "[1900]\ttraining's auc: 0.896789\tvalid_1's auc: 0.80152\n",
      "[2000]\ttraining's auc: 0.900201\tvalid_1's auc: 0.801683\n",
      "[2100]\ttraining's auc: 0.903779\tvalid_1's auc: 0.801688\n",
      "[2200]\ttraining's auc: 0.907231\tvalid_1's auc: 0.801653\n",
      "[2300]\ttraining's auc: 0.91043\tvalid_1's auc: 0.801508\n",
      "Early stopping, best iteration is:\n",
      "[2130]\ttraining's auc: 0.904939\tvalid_1's auc: 0.801779\n",
      "Training until validation scores don't improve for 200 rounds.\n",
      "[100]\ttraining's auc: 0.759152\tvalid_1's auc: 0.754716\n",
      "[200]\ttraining's auc: 0.782776\tvalid_1's auc: 0.76929\n",
      "[300]\ttraining's auc: 0.800513\tvalid_1's auc: 0.779629\n",
      "[400]\ttraining's auc: 0.81264\tvalid_1's auc: 0.7854\n",
      "[500]\ttraining's auc: 0.822513\tvalid_1's auc: 0.788441\n",
      "[600]\ttraining's auc: 0.830707\tvalid_1's auc: 0.790299\n",
      "[700]\ttraining's auc: 0.838269\tvalid_1's auc: 0.791596\n",
      "[800]\ttraining's auc: 0.844863\tvalid_1's auc: 0.792444\n",
      "[900]\ttraining's auc: 0.85095\tvalid_1's auc: 0.793061\n",
      "[1000]\ttraining's auc: 0.856677\tvalid_1's auc: 0.793325\n",
      "[1100]\ttraining's auc: 0.862041\tvalid_1's auc: 0.793465\n",
      "[1200]\ttraining's auc: 0.866883\tvalid_1's auc: 0.793584\n",
      "[1300]\ttraining's auc: 0.871856\tvalid_1's auc: 0.793811\n",
      "[1400]\ttraining's auc: 0.876296\tvalid_1's auc: 0.793719\n",
      "Early stopping, best iteration is:\n",
      "[1266]\ttraining's auc: 0.870171\tvalid_1's auc: 0.793877\n",
      "Training until validation scores don't improve for 200 rounds.\n",
      "[100]\ttraining's auc: 0.757988\tvalid_1's auc: 0.76194\n",
      "[200]\ttraining's auc: 0.781615\tvalid_1's auc: 0.777774\n",
      "[300]\ttraining's auc: 0.800065\tvalid_1's auc: 0.787547\n",
      "[400]\ttraining's auc: 0.812402\tvalid_1's auc: 0.79194\n",
      "[500]\ttraining's auc: 0.82218\tvalid_1's auc: 0.794448\n",
      "[600]\ttraining's auc: 0.830414\tvalid_1's auc: 0.79584\n",
      "[700]\ttraining's auc: 0.837697\tvalid_1's auc: 0.797147\n",
      "[800]\ttraining's auc: 0.844178\tvalid_1's auc: 0.797829\n",
      "[900]\ttraining's auc: 0.850441\tvalid_1's auc: 0.798305\n",
      "[1000]\ttraining's auc: 0.856188\tvalid_1's auc: 0.79848\n",
      "[1100]\ttraining's auc: 0.861489\tvalid_1's auc: 0.798622\n",
      "[1200]\ttraining's auc: 0.866419\tvalid_1's auc: 0.798686\n",
      "[1300]\ttraining's auc: 0.871303\tvalid_1's auc: 0.79868\n",
      "[1400]\ttraining's auc: 0.875958\tvalid_1's auc: 0.798862\n",
      "[1500]\ttraining's auc: 0.880205\tvalid_1's auc: 0.798965\n",
      "[1600]\ttraining's auc: 0.884413\tvalid_1's auc: 0.799137\n",
      "[1700]\ttraining's auc: 0.888733\tvalid_1's auc: 0.799099\n",
      "[1800]\ttraining's auc: 0.892766\tvalid_1's auc: 0.799237\n",
      "[1900]\ttraining's auc: 0.896383\tvalid_1's auc: 0.799148\n",
      "Early stopping, best iteration is:\n",
      "[1792]\ttraining's auc: 0.89243\tvalid_1's auc: 0.799257\n",
      "Training until validation scores don't improve for 200 rounds.\n",
      "[100]\ttraining's auc: 0.758547\tvalid_1's auc: 0.746881\n",
      "[200]\ttraining's auc: 0.782539\tvalid_1's auc: 0.765608\n",
      "[300]\ttraining's auc: 0.800578\tvalid_1's auc: 0.777945\n",
      "[400]\ttraining's auc: 0.812929\tvalid_1's auc: 0.783365\n",
      "[500]\ttraining's auc: 0.822522\tvalid_1's auc: 0.786398\n",
      "[600]\ttraining's auc: 0.830855\tvalid_1's auc: 0.788085\n",
      "[700]\ttraining's auc: 0.838297\tvalid_1's auc: 0.789332\n",
      "[800]\ttraining's auc: 0.845071\tvalid_1's auc: 0.7901\n",
      "[900]\ttraining's auc: 0.851225\tvalid_1's auc: 0.790945\n",
      "[1000]\ttraining's auc: 0.856789\tvalid_1's auc: 0.79112\n",
      "[1100]\ttraining's auc: 0.862326\tvalid_1's auc: 0.791428\n",
      "[1200]\ttraining's auc: 0.867278\tvalid_1's auc: 0.79156\n",
      "[1300]\ttraining's auc: 0.872162\tvalid_1's auc: 0.791565\n",
      "[1400]\ttraining's auc: 0.876996\tvalid_1's auc: 0.791564\n",
      "[1500]\ttraining's auc: 0.881591\tvalid_1's auc: 0.79166\n",
      "[1600]\ttraining's auc: 0.885699\tvalid_1's auc: 0.791657\n",
      "Early stopping, best iteration is:\n",
      "[1418]\ttraining's auc: 0.877784\tvalid_1's auc: 0.791716\n",
      "Training until validation scores don't improve for 200 rounds.\n",
      "[100]\ttraining's auc: 0.760182\tvalid_1's auc: 0.74153\n",
      "[200]\ttraining's auc: 0.783399\tvalid_1's auc: 0.757865\n",
      "[300]\ttraining's auc: 0.801664\tvalid_1's auc: 0.76969\n",
      "[400]\ttraining's auc: 0.813863\tvalid_1's auc: 0.774682\n",
      "[500]\ttraining's auc: 0.823537\tvalid_1's auc: 0.777291\n",
      "[600]\ttraining's auc: 0.831828\tvalid_1's auc: 0.778624\n",
      "[700]\ttraining's auc: 0.839006\tvalid_1's auc: 0.779738\n",
      "[800]\ttraining's auc: 0.845973\tvalid_1's auc: 0.780523\n",
      "[900]\ttraining's auc: 0.85207\tvalid_1's auc: 0.781241\n",
      "[1000]\ttraining's auc: 0.857822\tvalid_1's auc: 0.781684\n",
      "[1100]\ttraining's auc: 0.862866\tvalid_1's auc: 0.782165\n",
      "[1200]\ttraining's auc: 0.86811\tvalid_1's auc: 0.782297\n",
      "[1300]\ttraining's auc: 0.872865\tvalid_1's auc: 0.782446\n",
      "[1400]\ttraining's auc: 0.877419\tvalid_1's auc: 0.782563\n",
      "[1500]\ttraining's auc: 0.8819\tvalid_1's auc: 0.782335\n",
      "Early stopping, best iteration is:\n",
      "[1375]\ttraining's auc: 0.876335\tvalid_1's auc: 0.782648\n",
      "Training until validation scores don't improve for 200 rounds.\n",
      "[100]\ttraining's auc: 0.75923\tvalid_1's auc: 0.750481\n",
      "[200]\ttraining's auc: 0.781747\tvalid_1's auc: 0.769451\n",
      "[300]\ttraining's auc: 0.799964\tvalid_1's auc: 0.782956\n",
      "[400]\ttraining's auc: 0.812189\tvalid_1's auc: 0.78917\n",
      "[500]\ttraining's auc: 0.821962\tvalid_1's auc: 0.792862\n",
      "[600]\ttraining's auc: 0.830359\tvalid_1's auc: 0.795508\n",
      "[700]\ttraining's auc: 0.837731\tvalid_1's auc: 0.796805\n",
      "[800]\ttraining's auc: 0.844452\tvalid_1's auc: 0.798022\n",
      "[900]\ttraining's auc: 0.850619\tvalid_1's auc: 0.798799\n",
      "[1000]\ttraining's auc: 0.856196\tvalid_1's auc: 0.799656\n",
      "[1100]\ttraining's auc: 0.861387\tvalid_1's auc: 0.800439\n",
      "[1200]\ttraining's auc: 0.866485\tvalid_1's auc: 0.800637\n",
      "[1300]\ttraining's auc: 0.87127\tvalid_1's auc: 0.800942\n",
      "[1400]\ttraining's auc: 0.875907\tvalid_1's auc: 0.801221\n",
      "[1500]\ttraining's auc: 0.88043\tvalid_1's auc: 0.801437\n",
      "[1600]\ttraining's auc: 0.884402\tvalid_1's auc: 0.801436\n",
      "[1700]\ttraining's auc: 0.888475\tvalid_1's auc: 0.801726\n",
      "[1800]\ttraining's auc: 0.892512\tvalid_1's auc: 0.801743\n",
      "[1900]\ttraining's auc: 0.896489\tvalid_1's auc: 0.801819\n",
      "[2000]\ttraining's auc: 0.900256\tvalid_1's auc: 0.801854\n",
      "[2100]\ttraining's auc: 0.903881\tvalid_1's auc: 0.801907\n",
      "[2200]\ttraining's auc: 0.90734\tvalid_1's auc: 0.802083\n",
      "[2300]\ttraining's auc: 0.910503\tvalid_1's auc: 0.801916\n",
      "Early stopping, best iteration is:\n",
      "[2192]\ttraining's auc: 0.907047\tvalid_1's auc: 0.802125\n"
     ]
    },
    {
     "name": "stdout",
     "output_type": "stream",
     "text": [
      "Training until validation scores don't improve for 200 rounds.\n",
      "[100]\ttraining's auc: 0.760007\tvalid_1's auc: 0.741711\n",
      "[200]\ttraining's auc: 0.783028\tvalid_1's auc: 0.758917\n",
      "[300]\ttraining's auc: 0.801121\tvalid_1's auc: 0.771187\n",
      "[400]\ttraining's auc: 0.813281\tvalid_1's auc: 0.777165\n",
      "[500]\ttraining's auc: 0.822874\tvalid_1's auc: 0.780815\n",
      "[600]\ttraining's auc: 0.830932\tvalid_1's auc: 0.782837\n",
      "[700]\ttraining's auc: 0.838297\tvalid_1's auc: 0.784429\n",
      "[800]\ttraining's auc: 0.845009\tvalid_1's auc: 0.785453\n",
      "[900]\ttraining's auc: 0.851273\tvalid_1's auc: 0.786208\n",
      "[1000]\ttraining's auc: 0.856934\tvalid_1's auc: 0.786873\n",
      "[1100]\ttraining's auc: 0.862056\tvalid_1's auc: 0.787351\n",
      "[1200]\ttraining's auc: 0.867009\tvalid_1's auc: 0.787445\n",
      "[1300]\ttraining's auc: 0.871835\tvalid_1's auc: 0.787757\n",
      "[1400]\ttraining's auc: 0.876412\tvalid_1's auc: 0.78785\n",
      "[1500]\ttraining's auc: 0.880703\tvalid_1's auc: 0.788158\n",
      "[1600]\ttraining's auc: 0.884898\tvalid_1's auc: 0.788307\n",
      "[1700]\ttraining's auc: 0.888863\tvalid_1's auc: 0.788493\n",
      "[1800]\ttraining's auc: 0.892844\tvalid_1's auc: 0.788638\n",
      "[1900]\ttraining's auc: 0.896508\tvalid_1's auc: 0.788555\n",
      "[2000]\ttraining's auc: 0.900141\tvalid_1's auc: 0.788524\n",
      "Early stopping, best iteration is:\n",
      "[1837]\ttraining's auc: 0.894207\tvalid_1's auc: 0.788715\n",
      "Training until validation scores don't improve for 200 rounds.\n",
      "[100]\ttraining's auc: 0.759772\tvalid_1's auc: 0.748432\n",
      "[200]\ttraining's auc: 0.783186\tvalid_1's auc: 0.764108\n",
      "[300]\ttraining's auc: 0.801101\tvalid_1's auc: 0.775149\n",
      "[400]\ttraining's auc: 0.813148\tvalid_1's auc: 0.780741\n",
      "[500]\ttraining's auc: 0.822884\tvalid_1's auc: 0.783856\n",
      "[600]\ttraining's auc: 0.830944\tvalid_1's auc: 0.785863\n",
      "[700]\ttraining's auc: 0.838314\tvalid_1's auc: 0.78717\n",
      "[800]\ttraining's auc: 0.845042\tvalid_1's auc: 0.7884\n",
      "[900]\ttraining's auc: 0.851228\tvalid_1's auc: 0.789257\n",
      "[1000]\ttraining's auc: 0.856999\tvalid_1's auc: 0.789676\n",
      "[1100]\ttraining's auc: 0.862367\tvalid_1's auc: 0.790234\n",
      "[1200]\ttraining's auc: 0.867487\tvalid_1's auc: 0.790641\n",
      "[1300]\ttraining's auc: 0.87233\tvalid_1's auc: 0.790901\n",
      "[1400]\ttraining's auc: 0.876892\tvalid_1's auc: 0.791215\n",
      "[1500]\ttraining's auc: 0.881564\tvalid_1's auc: 0.791236\n",
      "[1600]\ttraining's auc: 0.885652\tvalid_1's auc: 0.791377\n",
      "[1700]\ttraining's auc: 0.889592\tvalid_1's auc: 0.791464\n",
      "[1800]\ttraining's auc: 0.893225\tvalid_1's auc: 0.791329\n",
      "[1900]\ttraining's auc: 0.897137\tvalid_1's auc: 0.791487\n",
      "[2000]\ttraining's auc: 0.900642\tvalid_1's auc: 0.791409\n",
      "[2100]\ttraining's auc: 0.904193\tvalid_1's auc: 0.791398\n",
      "Early stopping, best iteration is:\n",
      "[1962]\ttraining's auc: 0.899309\tvalid_1's auc: 0.79158\n",
      "Training until validation scores don't improve for 200 rounds.\n",
      "[100]\ttraining's auc: 0.759364\tvalid_1's auc: 0.74782\n",
      "[200]\ttraining's auc: 0.781938\tvalid_1's auc: 0.765306\n",
      "[300]\ttraining's auc: 0.800323\tvalid_1's auc: 0.778031\n",
      "[400]\ttraining's auc: 0.812379\tvalid_1's auc: 0.783964\n",
      "[500]\ttraining's auc: 0.822137\tvalid_1's auc: 0.787773\n",
      "[600]\ttraining's auc: 0.830657\tvalid_1's auc: 0.79041\n",
      "[700]\ttraining's auc: 0.838085\tvalid_1's auc: 0.792032\n",
      "[800]\ttraining's auc: 0.84467\tvalid_1's auc: 0.793188\n",
      "[900]\ttraining's auc: 0.850802\tvalid_1's auc: 0.793798\n",
      "[1000]\ttraining's auc: 0.856331\tvalid_1's auc: 0.794356\n",
      "[1100]\ttraining's auc: 0.861729\tvalid_1's auc: 0.794924\n",
      "[1200]\ttraining's auc: 0.866678\tvalid_1's auc: 0.795548\n",
      "[1300]\ttraining's auc: 0.871539\tvalid_1's auc: 0.795918\n",
      "[1400]\ttraining's auc: 0.876047\tvalid_1's auc: 0.796011\n",
      "[1500]\ttraining's auc: 0.880232\tvalid_1's auc: 0.796224\n",
      "[1600]\ttraining's auc: 0.884478\tvalid_1's auc: 0.796333\n",
      "[1700]\ttraining's auc: 0.88888\tvalid_1's auc: 0.796406\n",
      "[1800]\ttraining's auc: 0.892636\tvalid_1's auc: 0.796508\n",
      "[1900]\ttraining's auc: 0.896341\tvalid_1's auc: 0.796428\n",
      "[2000]\ttraining's auc: 0.899819\tvalid_1's auc: 0.796424\n",
      "Early stopping, best iteration is:\n",
      "[1819]\ttraining's auc: 0.893351\tvalid_1's auc: 0.796573\n",
      "Overall ROC: 0.793619695067,  Mean ROC: 0.793596843271, STD AUC: 0.00605624746323\n"
     ]
    },
    {
     "name": "stderr",
     "output_type": "stream",
     "text": [
      "/home/sakhtar0092/anaconda2/lib/python2.7/site-packages/ipykernel_launcher.py:13: SettingWithCopyWarning: \n",
      "A value is trying to be set on a copy of a slice from a DataFrame.\n",
      "Try using .loc[row_indexer,col_indexer] = value instead\n",
      "\n",
      "See the caveats in the documentation: http://pandas.pydata.org/pandas-docs/stable/indexing.html#indexing-view-versus-copy\n",
      "  del sys.path[0]\n",
      "/home/sakhtar0092/anaconda2/lib/python2.7/site-packages/ipykernel_launcher.py:14: SettingWithCopyWarning: \n",
      "A value is trying to be set on a copy of a slice from a DataFrame.\n",
      "Try using .loc[row_indexer,col_indexer] = value instead\n",
      "\n",
      "See the caveats in the documentation: http://pandas.pydata.org/pandas-docs/stable/indexing.html#indexing-view-versus-copy\n",
      "  \n"
     ]
    }
   ],
   "source": [
    "meta_train = np.zeros(train.shape[0])\n",
    "meta_test = []\n",
    "feature_importance = pd.DataFrame(columns = [\"feature\",\"split\",\"gain\"])\n",
    "fold_roc = []\n",
    "\n",
    "kf = StratifiedKFold(n_splits= 10, shuffle=True, random_state=47)\n",
    "for fold_id, (train_index, test_index) in enumerate(kf.split(train, target)):\n",
    "    x_train, x_test = train.iloc[train_index], train.iloc[test_index]\n",
    "    y_train, y_test = target[train_index], target[test_index]\n",
    "\n",
    "    model_tree(x_train, x_test, y_train, y_test, test, meta_train, meta_test,train_index, test_index,fold_id)\n",
    "\n",
    "test_id[\"TARGET\"] = np.array(meta_test).T.mean(axis=1)\n",
    "train_id[\"TARGET\"] = meta_train\n",
    "\n",
    "print \"Overall ROC: {},  Mean ROC: {}, STD AUC: {}\".format(roc_auc_score(target, meta_train), np.mean(fold_roc), np.std(fold_roc))"
   ]
  },
  {
   "cell_type": "code",
   "execution_count": 9,
   "metadata": {
    "collapsed": true
   },
   "outputs": [],
   "source": [
    "train_id.to_csv(\"csv/{}_train.csv\".format(model_name), index=False)\n",
    "test_id.to_csv(\"csv/{}_test.csv\".format(model_name), index=False)"
   ]
  },
  {
   "cell_type": "markdown",
   "metadata": {},
   "source": [
    "# Get Feature Importance"
   ]
  },
  {
   "cell_type": "code",
   "execution_count": 10,
   "metadata": {
    "collapsed": true
   },
   "outputs": [],
   "source": [
    "# Print Feature Importance\n",
    "feature_importance.to_csv(\"csv/{}_all_fi.csv\".format(model_name), index = False)\n",
    "feature_importance = feature_importance.groupby(\"feature\")[[\"gain\",\"split\"]].mean().sort_values('gain', ascending=False).reset_index()\n",
    "\n",
    "plt.figure()\n",
    "feature_importance[['feature','gain']].head(60).plot(kind='barh', x='feature', y='gain', legend=False, figsize=(30, 100))\n",
    "plt.gcf().savefig('csv/{}.png'.format(model_name))\n"
   ]
  },
  {
   "cell_type": "code",
   "execution_count": null,
   "metadata": {
    "collapsed": true
   },
   "outputs": [],
   "source": []
  },
  {
   "cell_type": "code",
   "execution_count": null,
   "metadata": {
    "collapsed": true
   },
   "outputs": [],
   "source": []
  },
  {
   "cell_type": "code",
   "execution_count": null,
   "metadata": {
    "collapsed": true
   },
   "outputs": [],
   "source": []
  },
  {
   "cell_type": "code",
   "execution_count": null,
   "metadata": {
    "collapsed": true
   },
   "outputs": [],
   "source": []
  },
  {
   "cell_type": "code",
   "execution_count": null,
   "metadata": {
    "collapsed": true
   },
   "outputs": [],
   "source": []
  },
  {
   "cell_type": "code",
   "execution_count": null,
   "metadata": {
    "collapsed": true
   },
   "outputs": [],
   "source": []
  },
  {
   "cell_type": "code",
   "execution_count": null,
   "metadata": {
    "collapsed": true
   },
   "outputs": [],
   "source": []
  }
 ],
 "metadata": {
  "kernelspec": {
   "display_name": "Python 2",
   "language": "python",
   "name": "python2"
  },
  "language_info": {
   "codemirror_mode": {
    "name": "ipython",
    "version": 2
   },
   "file_extension": ".py",
   "mimetype": "text/x-python",
   "name": "python",
   "nbconvert_exporter": "python",
   "pygments_lexer": "ipython2",
   "version": "2.7.14"
  }
 },
 "nbformat": 4,
 "nbformat_minor": 2
}
