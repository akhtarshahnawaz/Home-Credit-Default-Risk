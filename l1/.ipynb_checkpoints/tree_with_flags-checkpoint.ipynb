{
 "cells": [
  {
   "cell_type": "code",
   "execution_count": 1,
   "metadata": {
    "collapsed": true
   },
   "outputs": [],
   "source": [
    "model_name = \"l1_tree_with_flags\""
   ]
  },
  {
   "cell_type": "code",
   "execution_count": 2,
   "metadata": {
    "collapsed": true
   },
   "outputs": [],
   "source": [
    "import numpy as np\n",
    "import pandas as pd\n",
    "import gc\n",
    "from time import time\n",
    "from contextlib import contextmanager\n",
    "from lightgbm import LGBMClassifier\n",
    "from sklearn.metrics import roc_auc_score, roc_curve\n",
    "from sklearn.model_selection import KFold, StratifiedKFold\n",
    "import matplotlib.pyplot as plt\n",
    "import seaborn as sns\n",
    "import warnings\n",
    "from sklearn.preprocessing import LabelEncoder,OneHotEncoder"
   ]
  },
  {
   "cell_type": "code",
   "execution_count": 3,
   "metadata": {
    "collapsed": true
   },
   "outputs": [],
   "source": [
    "timesheet = [time()]\n",
    "def timer(statement):\n",
    "    global timesheet\n",
    "    timesheet.append(time())\n",
    "    print statement+\" :\", (timesheet[-1]-timesheet[-2]),\"seconds\""
   ]
  },
  {
   "cell_type": "code",
   "execution_count": 4,
   "metadata": {
    "collapsed": true
   },
   "outputs": [],
   "source": [
    "def load_meta(directory, prefix, modeltype):\n",
    "    m_tr = pd.read_csv(directory+prefix+\"_train.csv\")\n",
    "    m_te = pd.read_csv(directory+prefix+\"_test.csv\")\n",
    "    data = pd.concat([m_tr, m_te], axis=0).reset_index(drop=True)\n",
    "    data.columns = [\"{}_{}_{}\".format(c, prefix, modeltype) if c!=\"SK_ID_CURR\" else c for c in data.columns]\n",
    "    return data\n",
    "\n",
    "def join_features(data, features):\n",
    "    for item in features:\n",
    "        data = data.merge(item, how = \"left\", on = \"SK_ID_CURR\")\n",
    "    return data\n",
    "\n",
    "\n",
    "def processColNames(df):\n",
    "    df.columns = [c.replace(\" \",\"_\") for c in df.columns]\n",
    "    return df\n"
   ]
  },
  {
   "cell_type": "markdown",
   "metadata": {},
   "source": [
    "## Loading Features"
   ]
  },
  {
   "cell_type": "markdown",
   "metadata": {},
   "source": [
    "Loading All Features File "
   ]
  },
  {
   "cell_type": "code",
   "execution_count": 5,
   "metadata": {
    "collapsed": true
   },
   "outputs": [],
   "source": [
    "applications = processColNames(pd.read_csv(\"../extractor/csv/application_features_V2.csv\").dropna(axis=1, how=\"all\").drop([\"TARGET\"], axis=1))\n",
    "bureau_balance_bb = processColNames(pd.read_csv(\"../extractor/csv/bureau_features_V1.csv\").dropna(axis=1, how=\"all\"))\n",
    "credit_card_balance = processColNames(pd.read_csv(\"../extractor/csv/credit_card_features_V1.csv\").dropna(axis=1, how=\"all\"))\n",
    "installment_features = processColNames(pd.read_csv(\"../extractor/csv/installment_features_V1.csv\").dropna(axis=1, how=\"all\"))\n",
    "pos_cash_balance = processColNames(pd.read_csv(\"../extractor/csv/pos_cash_features_V1.csv\").dropna(axis=1, how=\"all\"))\n",
    "previous_apps = processColNames(pd.read_csv(\"../extractor/csv/previous_application_features_V1.csv\").dropna(axis=1, how=\"all\"))\n",
    "\n",
    "base_features = [applications, bureau_balance_bb, credit_card_balance, installment_features, pos_cash_balance,previous_apps ]"
   ]
  },
  {
   "cell_type": "markdown",
   "metadata": {},
   "source": [
    "## Loading Meta Features"
   ]
  },
  {
   "cell_type": "code",
   "execution_count": 6,
   "metadata": {
    "collapsed": true
   },
   "outputs": [],
   "source": [
    "tree_meta_features = [\n",
    "    load_meta(\"../base trees/csv/\", \"application\", \"trees\"),\n",
    "    load_meta(\"../base trees/csv/\", \"bureau_balance_bb\", \"trees\"),\n",
    "    load_meta(\"../base trees/csv/\", \"credit_card_balance\", \"trees\"),\n",
    "    load_meta(\"../base trees/csv/\", \"installment\", \"trees\"),\n",
    "    load_meta(\"../base trees/csv/\", \"pos_cash_balance\", \"trees\"),\n",
    "    load_meta(\"../base trees/csv/\", \"previous_apps\", \"trees\"),\n",
    "]\n",
    "\n",
    "lr_meta_features = [\n",
    "    load_meta(\"../base lr/csv/\", \"application\", \"lr\"),\n",
    "    load_meta(\"../base lr/csv/\", \"bureau_balance_bb\", \"lr\"),\n",
    "    load_meta(\"../base lr/csv/\", \"credit_card_balance\", \"lr\"),\n",
    "    load_meta(\"../base lr/csv/\", \"installment\", \"lr\"),\n",
    "    load_meta(\"../base lr/csv/\", \"pos_cash_balance\", \"lr\"),\n",
    "    load_meta(\"../base lr/csv/\", \"previous_apps\", \"lr\"),\n",
    "]\n",
    "\n",
    "nb_meta_features = [\n",
    "    load_meta(\"../base nb/csv/\", \"application\", \"nb\"),\n",
    "    load_meta(\"../base nb/csv/\", \"bureau_balance_bb\", \"nb\"),\n",
    "    load_meta(\"../base nb/csv/\", \"credit_card_balance\", \"nb\"),\n",
    "    load_meta(\"../base nb/csv/\", \"installment\", \"nb\"),\n",
    "    load_meta(\"../base nb/csv/\", \"pos_cash_balance\", \"nb\"),\n",
    "    load_meta(\"../base nb/csv/\", \"previous_apps\", \"nb\"),\n",
    "]\n",
    "\n",
    "nn_meta_features = [\n",
    "    load_meta(\"../base nn/csv/\", \"application\", \"nb\"),\n",
    "    load_meta(\"../base nn/csv/\", \"bureau_balance_bb\", \"nb\"),\n",
    "    load_meta(\"../base nn/csv/\", \"credit_card_balance\", \"nb\"),\n",
    "    load_meta(\"../base nn/csv/\", \"installment\", \"nb\"),\n",
    "    load_meta(\"../base nn/csv/\", \"pos_cash_balance\", \"nb\"),\n",
    "    load_meta(\"../base nn/csv/\", \"previous_apps\", \"nb\"),\n",
    "]"
   ]
  },
  {
   "cell_type": "code",
   "execution_count": 7,
   "metadata": {
    "collapsed": true
   },
   "outputs": [],
   "source": [
    "train = pd.read_csv(\"../data/application_train.csv\", usecols = [\"SK_ID_CURR\",\"TARGET\"])\n",
    "test = pd.read_csv(\"../data/application_test.csv\", usecols = [\"SK_ID_CURR\"])\n",
    "\n",
    "data = pd.concat([train, test], axis=0).reset_index(drop=True)\n",
    "data = join_features(data, base_features)\n",
    "data = join_features(data, tree_meta_features)\n",
    "data = join_features(data, lr_meta_features)\n",
    "data = join_features(data, nb_meta_features)\n",
    "data = join_features(data, nn_meta_features)\n",
    "\n",
    "train = data.loc[data.TARGET.notnull()].reset_index(drop=True)\n",
    "test = data.loc[data.TARGET.isnull()].reset_index(drop=True)\n",
    "\n",
    "train_id = train[[\"SK_ID_CURR\"]]\n",
    "test_id = test[[\"SK_ID_CURR\"]]\n",
    "target =train.TARGET\n",
    "\n",
    "train.drop([\"SK_ID_CURR\", \"TARGET\"], axis=1, inplace=True)\n",
    "test.drop([\"SK_ID_CURR\",\"TARGET\"], axis=1, inplace = True)"
   ]
  },
  {
   "cell_type": "markdown",
   "metadata": {},
   "source": [
    "# Defining Model"
   ]
  },
  {
   "cell_type": "code",
   "execution_count": 8,
   "metadata": {
    "collapsed": true
   },
   "outputs": [],
   "source": [
    "import lightgbm as lgb\n",
    "def model_tree(x_train, x_test, y_train, y_test, test, meta_train, meta_test,train_index, test_index,fold_id):\n",
    "    dtrain = lgb.Dataset(x_train, label=y_train)\n",
    "    dval = lgb.Dataset(x_test, label=y_test)\n",
    "    params = {\n",
    "        'num_leaves': 32, #32\n",
    "        'reg_alpha': 0.04, \n",
    "        'n_jobs': -1, \n",
    "        'colsample_bytree': 0.9497036, \n",
    "        'silent': -1, \n",
    "        'subsample_for_bin': 200000, \n",
    "        'subsample_freq': 1, \n",
    "        'learning_rate': 0.02, # 0.02\n",
    "        'boosting_type': 'gbdt', \n",
    "        'nthread': 8, \n",
    "        'min_child_weight': 40, \n",
    "        'min_split_gain': 0.0222415, \n",
    "        'n_estimators': 10000, \n",
    "        'subsample': 0.8715623, \n",
    "        'reg_lambda': 10, \n",
    "        'objective': \"binary\", \n",
    "        'verbose': -1, \n",
    "        'min_child_samples': 20, \n",
    "        'max_depth': 8, #8\n",
    "        'class_weight': None,\n",
    "        \"bagging_seed\" : 3143,\n",
    "        \"seed\":1343,\n",
    "        \"metric\":\"auc\"\n",
    "    }\n",
    "    model = lgb.train(params, dtrain, num_boost_round=5000,valid_sets=[dtrain, dval], early_stopping_rounds=200, verbose_eval=100)\n",
    "    meta_train[test_index] = model.predict(x_test, num_iteration=model.best_iteration or 5000)\n",
    "    meta_test.append(model.predict(test, num_iteration=model.best_iteration or 5000))\n",
    "    \n",
    "    global fold_roc\n",
    "    fold_roc.append(roc_auc_score(y_test, meta_train[test_index]))\n",
    "    # Calculate Feature Importance\n",
    "    global feature_importance\n",
    "    gain = model.feature_importance('gain')\n",
    "    fold_feature_importance = pd.DataFrame({'feature':model.feature_name(), 'split':model.feature_importance('split'), 'gain':100 * gain / gain.sum()})\n",
    "    feature_importance = feature_importance.append(fold_feature_importance, ignore_index=True) "
   ]
  },
  {
   "cell_type": "markdown",
   "metadata": {},
   "source": [
    "# Training Model"
   ]
  },
  {
   "cell_type": "code",
   "execution_count": 9,
   "metadata": {},
   "outputs": [
    {
     "name": "stderr",
     "output_type": "stream",
     "text": [
      "/home/sakhtar0092/anaconda2/lib/python2.7/site-packages/lightgbm/engine.py:99: UserWarning: Found `n_estimators` in params. Will use it instead of argument\n",
      "  warnings.warn(\"Found `{}` in params. Will use it instead of argument\".format(alias))\n",
      "/home/sakhtar0092/anaconda2/lib/python2.7/site-packages/lightgbm/basic.py:657: UserWarning: silent keyword has been found in `params` and will be ignored. Please use silent argument of the Dataset constructor to pass this parameter.\n",
      "  'Please use {0} argument of the Dataset constructor to pass this parameter.'.format(key))\n"
     ]
    },
    {
     "name": "stdout",
     "output_type": "stream",
     "text": [
      "Training until validation scores don't improve for 200 rounds.\n",
      "[100]\ttraining's auc: 0.792952\tvalid_1's auc: 0.777988\n",
      "[200]\ttraining's auc: 0.803196\tvalid_1's auc: 0.783449\n",
      "[300]\ttraining's auc: 0.812551\tvalid_1's auc: 0.786847\n",
      "[400]\ttraining's auc: 0.820502\tvalid_1's auc: 0.788139\n",
      "[500]\ttraining's auc: 0.82738\tvalid_1's auc: 0.789041\n",
      "[600]\ttraining's auc: 0.83337\tvalid_1's auc: 0.789207\n",
      "[700]\ttraining's auc: 0.838954\tvalid_1's auc: 0.789421\n",
      "[800]\ttraining's auc: 0.843989\tvalid_1's auc: 0.789419\n",
      "[900]\ttraining's auc: 0.849073\tvalid_1's auc: 0.789269\n",
      "Early stopping, best iteration is:\n",
      "[718]\ttraining's auc: 0.839855\tvalid_1's auc: 0.789477\n",
      "Training until validation scores don't improve for 200 rounds.\n",
      "[100]\ttraining's auc: 0.79122\tvalid_1's auc: 0.793727\n",
      "[200]\ttraining's auc: 0.801363\tvalid_1's auc: 0.79823\n",
      "[300]\ttraining's auc: 0.810793\tvalid_1's auc: 0.801282\n",
      "[400]\ttraining's auc: 0.818861\tvalid_1's auc: 0.802504\n",
      "[500]\ttraining's auc: 0.825712\tvalid_1's auc: 0.803134\n",
      "[600]\ttraining's auc: 0.83185\tvalid_1's auc: 0.803436\n",
      "[700]\ttraining's auc: 0.837547\tvalid_1's auc: 0.803455\n",
      "[800]\ttraining's auc: 0.843193\tvalid_1's auc: 0.803306\n",
      "Early stopping, best iteration is:\n",
      "[671]\ttraining's auc: 0.836047\tvalid_1's auc: 0.803509\n",
      "Training until validation scores don't improve for 200 rounds.\n",
      "[100]\ttraining's auc: 0.79176\tvalid_1's auc: 0.785818\n",
      "[200]\ttraining's auc: 0.802138\tvalid_1's auc: 0.79039\n",
      "[300]\ttraining's auc: 0.811445\tvalid_1's auc: 0.793222\n",
      "[400]\ttraining's auc: 0.81925\tvalid_1's auc: 0.794545\n",
      "[500]\ttraining's auc: 0.825772\tvalid_1's auc: 0.794832\n",
      "[600]\ttraining's auc: 0.831807\tvalid_1's auc: 0.794932\n",
      "[700]\ttraining's auc: 0.837339\tvalid_1's auc: 0.794979\n",
      "Early stopping, best iteration is:\n",
      "[542]\ttraining's auc: 0.828452\tvalid_1's auc: 0.795052\n",
      "Training until validation scores don't improve for 200 rounds.\n",
      "[100]\ttraining's auc: 0.791282\tvalid_1's auc: 0.792113\n",
      "[200]\ttraining's auc: 0.801649\tvalid_1's auc: 0.795994\n",
      "[300]\ttraining's auc: 0.811412\tvalid_1's auc: 0.798128\n",
      "[400]\ttraining's auc: 0.819537\tvalid_1's auc: 0.799245\n",
      "[500]\ttraining's auc: 0.826243\tvalid_1's auc: 0.799628\n",
      "[600]\ttraining's auc: 0.832388\tvalid_1's auc: 0.799759\n",
      "[700]\ttraining's auc: 0.838099\tvalid_1's auc: 0.799629\n",
      "[800]\ttraining's auc: 0.843536\tvalid_1's auc: 0.799647\n",
      "Early stopping, best iteration is:\n",
      "[640]\ttraining's auc: 0.834637\tvalid_1's auc: 0.799804\n",
      "Training until validation scores don't improve for 200 rounds.\n",
      "[100]\ttraining's auc: 0.791565\tvalid_1's auc: 0.786295\n",
      "[200]\ttraining's auc: 0.802107\tvalid_1's auc: 0.790894\n",
      "[300]\ttraining's auc: 0.811781\tvalid_1's auc: 0.793225\n",
      "[400]\ttraining's auc: 0.819673\tvalid_1's auc: 0.793975\n",
      "[500]\ttraining's auc: 0.826417\tvalid_1's auc: 0.794136\n",
      "[600]\ttraining's auc: 0.832686\tvalid_1's auc: 0.79428\n",
      "[700]\ttraining's auc: 0.83848\tvalid_1's auc: 0.794242\n",
      "[800]\ttraining's auc: 0.844116\tvalid_1's auc: 0.794302\n",
      "[900]\ttraining's auc: 0.849163\tvalid_1's auc: 0.794301\n",
      "Early stopping, best iteration is:\n",
      "[773]\ttraining's auc: 0.842574\tvalid_1's auc: 0.794379\n",
      "Training until validation scores don't improve for 200 rounds.\n",
      "[100]\ttraining's auc: 0.792668\tvalid_1's auc: 0.776456\n",
      "[200]\ttraining's auc: 0.803075\tvalid_1's auc: 0.78183\n",
      "[300]\ttraining's auc: 0.812462\tvalid_1's auc: 0.785004\n",
      "[400]\ttraining's auc: 0.820595\tvalid_1's auc: 0.786231\n",
      "[500]\ttraining's auc: 0.827412\tvalid_1's auc: 0.786718\n",
      "[600]\ttraining's auc: 0.833599\tvalid_1's auc: 0.786822\n",
      "[700]\ttraining's auc: 0.839275\tvalid_1's auc: 0.786724\n",
      "Early stopping, best iteration is:\n",
      "[547]\ttraining's auc: 0.830429\tvalid_1's auc: 0.78686\n",
      "Training until validation scores don't improve for 200 rounds.\n",
      "[100]\ttraining's auc: 0.791011\tvalid_1's auc: 0.793069\n",
      "[200]\ttraining's auc: 0.801468\tvalid_1's auc: 0.797956\n",
      "[300]\ttraining's auc: 0.810882\tvalid_1's auc: 0.80094\n",
      "[400]\ttraining's auc: 0.818798\tvalid_1's auc: 0.802293\n",
      "[500]\ttraining's auc: 0.825796\tvalid_1's auc: 0.802956\n",
      "[600]\ttraining's auc: 0.831762\tvalid_1's auc: 0.803172\n",
      "[700]\ttraining's auc: 0.837398\tvalid_1's auc: 0.803174\n",
      "[800]\ttraining's auc: 0.842881\tvalid_1's auc: 0.802998\n",
      "[900]\ttraining's auc: 0.848052\tvalid_1's auc: 0.80299\n",
      "Early stopping, best iteration is:\n",
      "[733]\ttraining's auc: 0.839146\tvalid_1's auc: 0.803239\n",
      "Training until validation scores don't improve for 200 rounds.\n",
      "[100]\ttraining's auc: 0.792436\tvalid_1's auc: 0.781131\n",
      "[200]\ttraining's auc: 0.802638\tvalid_1's auc: 0.785637\n",
      "[300]\ttraining's auc: 0.812017\tvalid_1's auc: 0.788134\n",
      "[400]\ttraining's auc: 0.819975\tvalid_1's auc: 0.789338\n",
      "[500]\ttraining's auc: 0.826495\tvalid_1's auc: 0.789758\n",
      "[600]\ttraining's auc: 0.832443\tvalid_1's auc: 0.78983\n",
      "[700]\ttraining's auc: 0.838104\tvalid_1's auc: 0.790178\n",
      "[800]\ttraining's auc: 0.843592\tvalid_1's auc: 0.790291\n",
      "[900]\ttraining's auc: 0.848694\tvalid_1's auc: 0.7902\n",
      "[1000]\ttraining's auc: 0.853697\tvalid_1's auc: 0.790292\n",
      "[1100]\ttraining's auc: 0.85816\tvalid_1's auc: 0.790133\n",
      "Early stopping, best iteration is:\n",
      "[979]\ttraining's auc: 0.852623\tvalid_1's auc: 0.790401\n",
      "Training until validation scores don't improve for 200 rounds.\n",
      "[100]\ttraining's auc: 0.792144\tvalid_1's auc: 0.783581\n",
      "[200]\ttraining's auc: 0.802428\tvalid_1's auc: 0.787013\n",
      "[300]\ttraining's auc: 0.811888\tvalid_1's auc: 0.790186\n",
      "[400]\ttraining's auc: 0.819878\tvalid_1's auc: 0.791524\n",
      "[500]\ttraining's auc: 0.826716\tvalid_1's auc: 0.791734\n",
      "[600]\ttraining's auc: 0.832929\tvalid_1's auc: 0.791771\n",
      "[700]\ttraining's auc: 0.838649\tvalid_1's auc: 0.791766\n",
      "[800]\ttraining's auc: 0.844002\tvalid_1's auc: 0.791808\n",
      "[900]\ttraining's auc: 0.849139\tvalid_1's auc: 0.791879\n",
      "[1000]\ttraining's auc: 0.854033\tvalid_1's auc: 0.791637\n",
      "Early stopping, best iteration is:\n",
      "[828]\ttraining's auc: 0.845434\tvalid_1's auc: 0.791951\n",
      "Training until validation scores don't improve for 200 rounds.\n",
      "[100]\ttraining's auc: 0.79185\tvalid_1's auc: 0.789477\n",
      "[200]\ttraining's auc: 0.801952\tvalid_1's auc: 0.793842\n",
      "[300]\ttraining's auc: 0.811409\tvalid_1's auc: 0.796506\n",
      "[400]\ttraining's auc: 0.819361\tvalid_1's auc: 0.797916\n",
      "[500]\ttraining's auc: 0.826158\tvalid_1's auc: 0.798458\n",
      "[600]\ttraining's auc: 0.832382\tvalid_1's auc: 0.798539\n",
      "[700]\ttraining's auc: 0.83803\tvalid_1's auc: 0.798545\n",
      "[800]\ttraining's auc: 0.843368\tvalid_1's auc: 0.798699\n",
      "[900]\ttraining's auc: 0.848473\tvalid_1's auc: 0.798548\n",
      "[1000]\ttraining's auc: 0.853256\tvalid_1's auc: 0.798361\n",
      "Early stopping, best iteration is:\n",
      "[803]\ttraining's auc: 0.843463\tvalid_1's auc: 0.79873\n",
      "Overall ROC: 0.795313593348,  Mean ROC: 0.795340140447, STD AUC: 0.00551112361173\n"
     ]
    },
    {
     "name": "stderr",
     "output_type": "stream",
     "text": [
      "/home/sakhtar0092/anaconda2/lib/python2.7/site-packages/ipykernel_launcher.py:13: SettingWithCopyWarning: \n",
      "A value is trying to be set on a copy of a slice from a DataFrame.\n",
      "Try using .loc[row_indexer,col_indexer] = value instead\n",
      "\n",
      "See the caveats in the documentation: http://pandas.pydata.org/pandas-docs/stable/indexing.html#indexing-view-versus-copy\n",
      "  del sys.path[0]\n",
      "/home/sakhtar0092/anaconda2/lib/python2.7/site-packages/ipykernel_launcher.py:14: SettingWithCopyWarning: \n",
      "A value is trying to be set on a copy of a slice from a DataFrame.\n",
      "Try using .loc[row_indexer,col_indexer] = value instead\n",
      "\n",
      "See the caveats in the documentation: http://pandas.pydata.org/pandas-docs/stable/indexing.html#indexing-view-versus-copy\n",
      "  \n"
     ]
    }
   ],
   "source": [
    "meta_train = np.zeros(train.shape[0])\n",
    "meta_test = []\n",
    "feature_importance = pd.DataFrame(columns = [\"feature\",\"split\",\"gain\"])\n",
    "fold_roc = []\n",
    "\n",
    "kf = StratifiedKFold(n_splits= 10, shuffle=True, random_state=47)\n",
    "for fold_id, (train_index, test_index) in enumerate(kf.split(train, target)):\n",
    "    x_train, x_test = train.iloc[train_index], train.iloc[test_index]\n",
    "    y_train, y_test = target[train_index], target[test_index]\n",
    "\n",
    "    model_tree(x_train, x_test, y_train, y_test, test, meta_train, meta_test,train_index, test_index,fold_id)\n",
    "\n",
    "test_id[\"TARGET\"] = np.array(meta_test).T.mean(axis=1)\n",
    "train_id[\"TARGET\"] = meta_train\n",
    "\n",
    "print \"Overall ROC: {},  Mean ROC: {}, STD AUC: {}\".format(roc_auc_score(target, meta_train), np.mean(fold_roc), np.std(fold_roc))"
   ]
  },
  {
   "cell_type": "code",
   "execution_count": 10,
   "metadata": {
    "collapsed": true
   },
   "outputs": [],
   "source": [
    "train_id.to_csv(\"csv/{}_train.csv\".format(model_name), index=False)\n",
    "test_id.to_csv(\"csv/{}_test.csv\".format(model_name), index=False)"
   ]
  },
  {
   "cell_type": "markdown",
   "metadata": {},
   "source": [
    "# Get Feature Importance"
   ]
  },
  {
   "cell_type": "code",
   "execution_count": 11,
   "metadata": {
    "collapsed": true
   },
   "outputs": [],
   "source": [
    "# Print Feature Importance\n",
    "feature_importance.to_csv(\"csv/{}_all_fi.csv\".format(model_name), index = False)\n",
    "feature_importance = feature_importance.groupby(\"feature\")[[\"gain\",\"split\"]].mean().sort_values('gain', ascending=False).reset_index()\n",
    "\n",
    "plt.figure()\n",
    "feature_importance[['feature','gain']].head(60).plot(kind='barh', x='feature', y='gain', legend=False, figsize=(30, 100))\n",
    "plt.gcf().savefig('csv/{}.png'.format(model_name))\n"
   ]
  },
  {
   "cell_type": "code",
   "execution_count": null,
   "metadata": {
    "collapsed": true
   },
   "outputs": [],
   "source": []
  },
  {
   "cell_type": "code",
   "execution_count": null,
   "metadata": {
    "collapsed": true
   },
   "outputs": [],
   "source": []
  },
  {
   "cell_type": "code",
   "execution_count": null,
   "metadata": {
    "collapsed": true
   },
   "outputs": [],
   "source": []
  },
  {
   "cell_type": "code",
   "execution_count": null,
   "metadata": {
    "collapsed": true
   },
   "outputs": [],
   "source": []
  },
  {
   "cell_type": "code",
   "execution_count": null,
   "metadata": {
    "collapsed": true
   },
   "outputs": [],
   "source": []
  },
  {
   "cell_type": "code",
   "execution_count": null,
   "metadata": {
    "collapsed": true
   },
   "outputs": [],
   "source": []
  },
  {
   "cell_type": "code",
   "execution_count": null,
   "metadata": {
    "collapsed": true
   },
   "outputs": [],
   "source": []
  }
 ],
 "metadata": {
  "kernelspec": {
   "display_name": "Python 2",
   "language": "python",
   "name": "python2"
  },
  "language_info": {
   "codemirror_mode": {
    "name": "ipython",
    "version": 2
   },
   "file_extension": ".py",
   "mimetype": "text/x-python",
   "name": "python",
   "nbconvert_exporter": "python",
   "pygments_lexer": "ipython2",
   "version": "2.7.14"
  }
 },
 "nbformat": 4,
 "nbformat_minor": 2
}
