{
 "cells": [
  {
   "cell_type": "code",
   "execution_count": 1,
   "metadata": {
    "collapsed": true
   },
   "outputs": [],
   "source": [
    "model_name = \"tree_with_flags_without_meta\""
   ]
  },
  {
   "cell_type": "code",
   "execution_count": 2,
   "metadata": {
    "collapsed": true
   },
   "outputs": [],
   "source": [
    "import numpy as np\n",
    "import pandas as pd\n",
    "import gc\n",
    "from time import time\n",
    "from contextlib import contextmanager\n",
    "from lightgbm import LGBMClassifier\n",
    "from sklearn.metrics import roc_auc_score, roc_curve\n",
    "from sklearn.model_selection import KFold, StratifiedKFold\n",
    "import matplotlib.pyplot as plt\n",
    "import seaborn as sns\n",
    "import warnings\n",
    "from sklearn.preprocessing import LabelEncoder,OneHotEncoder"
   ]
  },
  {
   "cell_type": "code",
   "execution_count": 3,
   "metadata": {
    "collapsed": true
   },
   "outputs": [],
   "source": [
    "timesheet = [time()]\n",
    "def timer(statement):\n",
    "    global timesheet\n",
    "    timesheet.append(time())\n",
    "    print statement+\" :\", (timesheet[-1]-timesheet[-2]),\"seconds\""
   ]
  },
  {
   "cell_type": "code",
   "execution_count": 4,
   "metadata": {
    "collapsed": true
   },
   "outputs": [],
   "source": [
    "def load_meta(directory, prefix, modeltype):\n",
    "    m_tr = pd.read_csv(directory+prefix+\"_train.csv\")\n",
    "    m_te = pd.read_csv(directory+prefix+\"_test.csv\")\n",
    "    data = pd.concat([m_tr, m_te], axis=0).reset_index(drop=True)\n",
    "    data.columns = [\"{}_{}_{}\".format(c, prefix, modeltype) if c!=\"SK_ID_CURR\" else c for c in data.columns]\n",
    "    return data\n",
    "\n",
    "def join_features(data, features):\n",
    "    for item in features:\n",
    "        data = data.merge(item, how = \"left\", on = \"SK_ID_CURR\")\n",
    "    return data\n",
    "\n",
    "\n",
    "def processColNames(df):\n",
    "    df.columns = [c.replace(\" \",\"_\") for c in df.columns]\n",
    "    return df\n"
   ]
  },
  {
   "cell_type": "markdown",
   "metadata": {},
   "source": [
    "## Loading Features"
   ]
  },
  {
   "cell_type": "markdown",
   "metadata": {},
   "source": [
    "Loading All Features File "
   ]
  },
  {
   "cell_type": "code",
   "execution_count": 5,
   "metadata": {
    "collapsed": true
   },
   "outputs": [],
   "source": [
    "applications = processColNames(pd.read_csv(\"../extractor/csv/application_features_V2.csv\").dropna(axis=1, how=\"all\").drop([\"TARGET\"], axis=1))\n",
    "bureau_balance_bb = processColNames(pd.read_csv(\"../extractor/csv/bureau_features_V1.csv\").dropna(axis=1, how=\"all\"))\n",
    "credit_card_balance = processColNames(pd.read_csv(\"../extractor/csv/credit_card_features_V1.csv\").dropna(axis=1, how=\"all\"))\n",
    "installment_features = processColNames(pd.read_csv(\"../extractor/csv/installment_features_V1.csv\").dropna(axis=1, how=\"all\"))\n",
    "pos_cash_balance = processColNames(pd.read_csv(\"../extractor/csv/pos_cash_features_V1.csv\").dropna(axis=1, how=\"all\"))\n",
    "previous_apps = processColNames(pd.read_csv(\"../extractor/csv/previous_application_features_V1.csv\").dropna(axis=1, how=\"all\"))\n",
    "\n",
    "base_features = [applications, bureau_balance_bb, credit_card_balance, installment_features, pos_cash_balance,previous_apps ]"
   ]
  },
  {
   "cell_type": "markdown",
   "metadata": {},
   "source": [
    "## Loading Meta Features"
   ]
  },
  {
   "cell_type": "code",
   "execution_count": 6,
   "metadata": {
    "collapsed": true
   },
   "outputs": [],
   "source": [
    "train = pd.read_csv(\"../data/application_train.csv\", usecols = [\"SK_ID_CURR\",\"TARGET\"])\n",
    "test = pd.read_csv(\"../data/application_test.csv\", usecols = [\"SK_ID_CURR\"])\n",
    "\n",
    "data = pd.concat([train, test], axis=0).reset_index(drop=True)\n",
    "data = join_features(data, base_features)\n",
    "\n",
    "train = data.loc[data.TARGET.notnull()].reset_index(drop=True)\n",
    "test = data.loc[data.TARGET.isnull()].reset_index(drop=True)\n",
    "\n",
    "train_id = train[[\"SK_ID_CURR\"]]\n",
    "test_id = test[[\"SK_ID_CURR\"]]\n",
    "target =train.TARGET\n",
    "\n",
    "train.drop([\"SK_ID_CURR\", \"TARGET\"], axis=1, inplace=True)\n",
    "test.drop([\"SK_ID_CURR\",\"TARGET\"], axis=1, inplace = True)"
   ]
  },
  {
   "cell_type": "markdown",
   "metadata": {},
   "source": [
    "# Defining Model"
   ]
  },
  {
   "cell_type": "code",
   "execution_count": 7,
   "metadata": {
    "collapsed": true
   },
   "outputs": [],
   "source": [
    "import lightgbm as lgb\n",
    "def model_tree(x_train, x_test, y_train, y_test, test, meta_train, meta_test,train_index, test_index,fold_id):\n",
    "    dtrain = lgb.Dataset(x_train, label=y_train)\n",
    "    dval = lgb.Dataset(x_test, label=y_test)\n",
    "    params = {\n",
    "        'num_leaves': 32, #32\n",
    "        'reg_alpha': 0.04, \n",
    "        'n_jobs': -1, \n",
    "        'colsample_bytree': 0.9497036, \n",
    "        'silent': -1, \n",
    "        'subsample_for_bin': 200000, \n",
    "        'subsample_freq': 1, \n",
    "        'learning_rate': 0.02, # 0.02\n",
    "        'boosting_type': 'gbdt', \n",
    "        'nthread': 8, \n",
    "        'min_child_weight': 40, \n",
    "        'min_split_gain': 0.0222415, \n",
    "        'n_estimators': 10000, \n",
    "        'subsample': 0.8715623, \n",
    "        'reg_lambda': 10, \n",
    "        'objective': \"binary\", \n",
    "        'verbose': -1, \n",
    "        'min_child_samples': 20, \n",
    "        'max_depth': 8, #8\n",
    "        'class_weight': None,\n",
    "        \"bagging_seed\" : 3143,\n",
    "        \"seed\":1343,\n",
    "        \"metric\":\"auc\"\n",
    "    }\n",
    "    model = lgb.train(params, dtrain, num_boost_round=5000,valid_sets=[dtrain, dval], early_stopping_rounds=200, verbose_eval=100)\n",
    "    meta_train[test_index] = model.predict(x_test, num_iteration=model.best_iteration or 5000)\n",
    "    meta_test.append(model.predict(test, num_iteration=model.best_iteration or 5000))\n",
    "    \n",
    "    global fold_roc\n",
    "    fold_roc.append(roc_auc_score(y_test, meta_train[test_index]))\n",
    "    # Calculate Feature Importance\n",
    "    global feature_importance\n",
    "    gain = model.feature_importance('gain')\n",
    "    fold_feature_importance = pd.DataFrame({'feature':model.feature_name(), 'split':model.feature_importance('split'), 'gain':100 * gain / gain.sum()})\n",
    "    feature_importance = feature_importance.append(fold_feature_importance, ignore_index=True) "
   ]
  },
  {
   "cell_type": "markdown",
   "metadata": {},
   "source": [
    "# Training Model"
   ]
  },
  {
   "cell_type": "code",
   "execution_count": 8,
   "metadata": {},
   "outputs": [
    {
     "name": "stderr",
     "output_type": "stream",
     "text": [
      "/home/sakhtar0092/anaconda2/lib/python2.7/site-packages/lightgbm/engine.py:99: UserWarning: Found `n_estimators` in params. Will use it instead of argument\n",
      "  warnings.warn(\"Found `{}` in params. Will use it instead of argument\".format(alias))\n",
      "/home/sakhtar0092/anaconda2/lib/python2.7/site-packages/lightgbm/basic.py:657: UserWarning: silent keyword has been found in `params` and will be ignored. Please use silent argument of the Dataset constructor to pass this parameter.\n",
      "  'Please use {0} argument of the Dataset constructor to pass this parameter.'.format(key))\n"
     ]
    },
    {
     "name": "stdout",
     "output_type": "stream",
     "text": [
      "Training until validation scores don't improve for 200 rounds.\n",
      "[100]\ttraining's auc: 0.759783\tvalid_1's auc: 0.744987\n",
      "[200]\ttraining's auc: 0.783302\tvalid_1's auc: 0.76155\n",
      "[300]\ttraining's auc: 0.801373\tvalid_1's auc: 0.77273\n",
      "[400]\ttraining's auc: 0.813432\tvalid_1's auc: 0.778479\n",
      "[500]\ttraining's auc: 0.823232\tvalid_1's auc: 0.78158\n",
      "[600]\ttraining's auc: 0.831363\tvalid_1's auc: 0.783462\n",
      "[700]\ttraining's auc: 0.838762\tvalid_1's auc: 0.78453\n",
      "[800]\ttraining's auc: 0.845202\tvalid_1's auc: 0.785551\n",
      "[900]\ttraining's auc: 0.851149\tvalid_1's auc: 0.786036\n",
      "[1000]\ttraining's auc: 0.856772\tvalid_1's auc: 0.786603\n",
      "[1100]\ttraining's auc: 0.86217\tvalid_1's auc: 0.786858\n",
      "[1200]\ttraining's auc: 0.86729\tvalid_1's auc: 0.78706\n",
      "[1300]\ttraining's auc: 0.872113\tvalid_1's auc: 0.787177\n",
      "[1400]\ttraining's auc: 0.876595\tvalid_1's auc: 0.787278\n",
      "[1500]\ttraining's auc: 0.880969\tvalid_1's auc: 0.787399\n",
      "[1600]\ttraining's auc: 0.885104\tvalid_1's auc: 0.787514\n",
      "[1700]\ttraining's auc: 0.889095\tvalid_1's auc: 0.787469\n",
      "[1800]\ttraining's auc: 0.893019\tvalid_1's auc: 0.78749\n",
      "[1900]\ttraining's auc: 0.896723\tvalid_1's auc: 0.787467\n",
      "Early stopping, best iteration is:\n",
      "[1734]\ttraining's auc: 0.890308\tvalid_1's auc: 0.787605\n",
      "Training until validation scores don't improve for 200 rounds.\n",
      "[100]\ttraining's auc: 0.758883\tvalid_1's auc: 0.757378\n",
      "[200]\ttraining's auc: 0.781759\tvalid_1's auc: 0.774031\n",
      "[300]\ttraining's auc: 0.799868\tvalid_1's auc: 0.78481\n",
      "[400]\ttraining's auc: 0.811971\tvalid_1's auc: 0.79018\n",
      "[500]\ttraining's auc: 0.821777\tvalid_1's auc: 0.793567\n",
      "[600]\ttraining's auc: 0.830087\tvalid_1's auc: 0.79588\n",
      "[700]\ttraining's auc: 0.837376\tvalid_1's auc: 0.79726\n",
      "[800]\ttraining's auc: 0.84414\tvalid_1's auc: 0.798163\n",
      "[900]\ttraining's auc: 0.850461\tvalid_1's auc: 0.798841\n",
      "[1000]\ttraining's auc: 0.856152\tvalid_1's auc: 0.799456\n",
      "[1100]\ttraining's auc: 0.861551\tvalid_1's auc: 0.799972\n",
      "[1200]\ttraining's auc: 0.866519\tvalid_1's auc: 0.800274\n",
      "[1300]\ttraining's auc: 0.871302\tvalid_1's auc: 0.800583\n",
      "[1400]\ttraining's auc: 0.875898\tvalid_1's auc: 0.800721\n",
      "[1500]\ttraining's auc: 0.880422\tvalid_1's auc: 0.800862\n",
      "[1600]\ttraining's auc: 0.884691\tvalid_1's auc: 0.801087\n",
      "[1700]\ttraining's auc: 0.888762\tvalid_1's auc: 0.801166\n",
      "[1800]\ttraining's auc: 0.892796\tvalid_1's auc: 0.801265\n",
      "[1900]\ttraining's auc: 0.896752\tvalid_1's auc: 0.801272\n",
      "[2000]\ttraining's auc: 0.900463\tvalid_1's auc: 0.801369\n",
      "[2100]\ttraining's auc: 0.904\tvalid_1's auc: 0.801393\n",
      "[2200]\ttraining's auc: 0.907358\tvalid_1's auc: 0.801523\n",
      "[2300]\ttraining's auc: 0.910649\tvalid_1's auc: 0.801571\n",
      "[2400]\ttraining's auc: 0.91379\tvalid_1's auc: 0.801429\n",
      "Early stopping, best iteration is:\n",
      "[2296]\ttraining's auc: 0.910492\tvalid_1's auc: 0.801597\n",
      "Training until validation scores don't improve for 200 rounds.\n",
      "[100]\ttraining's auc: 0.758957\tvalid_1's auc: 0.754931\n",
      "[200]\ttraining's auc: 0.782785\tvalid_1's auc: 0.768848\n",
      "[300]\ttraining's auc: 0.80043\tvalid_1's auc: 0.779334\n",
      "[400]\ttraining's auc: 0.812549\tvalid_1's auc: 0.785015\n",
      "[500]\ttraining's auc: 0.82238\tvalid_1's auc: 0.787974\n",
      "[600]\ttraining's auc: 0.830688\tvalid_1's auc: 0.789929\n",
      "[700]\ttraining's auc: 0.838011\tvalid_1's auc: 0.790991\n",
      "[800]\ttraining's auc: 0.844866\tvalid_1's auc: 0.792102\n",
      "[900]\ttraining's auc: 0.850735\tvalid_1's auc: 0.792498\n",
      "[1000]\ttraining's auc: 0.85625\tvalid_1's auc: 0.793142\n",
      "[1100]\ttraining's auc: 0.861617\tvalid_1's auc: 0.793584\n",
      "[1200]\ttraining's auc: 0.866808\tvalid_1's auc: 0.793891\n",
      "[1300]\ttraining's auc: 0.871561\tvalid_1's auc: 0.794173\n",
      "[1400]\ttraining's auc: 0.876067\tvalid_1's auc: 0.794187\n",
      "[1500]\ttraining's auc: 0.880549\tvalid_1's auc: 0.794315\n",
      "[1600]\ttraining's auc: 0.884891\tvalid_1's auc: 0.794243\n",
      "[1700]\ttraining's auc: 0.888978\tvalid_1's auc: 0.794171\n",
      "Early stopping, best iteration is:\n",
      "[1568]\ttraining's auc: 0.883481\tvalid_1's auc: 0.794376\n",
      "Training until validation scores don't improve for 200 rounds.\n",
      "[100]\ttraining's auc: 0.757729\tvalid_1's auc: 0.76178\n",
      "[200]\ttraining's auc: 0.781701\tvalid_1's auc: 0.777395\n",
      "[300]\ttraining's auc: 0.800213\tvalid_1's auc: 0.786802\n",
      "[400]\ttraining's auc: 0.812523\tvalid_1's auc: 0.791577\n",
      "[500]\ttraining's auc: 0.822408\tvalid_1's auc: 0.794097\n",
      "[600]\ttraining's auc: 0.830811\tvalid_1's auc: 0.79568\n",
      "[700]\ttraining's auc: 0.838067\tvalid_1's auc: 0.796671\n",
      "[800]\ttraining's auc: 0.844591\tvalid_1's auc: 0.797357\n",
      "[900]\ttraining's auc: 0.85056\tvalid_1's auc: 0.798036\n",
      "[1000]\ttraining's auc: 0.856312\tvalid_1's auc: 0.798108\n",
      "[1100]\ttraining's auc: 0.861623\tvalid_1's auc: 0.798345\n",
      "[1200]\ttraining's auc: 0.866578\tvalid_1's auc: 0.798224\n",
      "Early stopping, best iteration is:\n",
      "[1070]\ttraining's auc: 0.860086\tvalid_1's auc: 0.798431\n",
      "Training until validation scores don't improve for 200 rounds.\n",
      "[100]\ttraining's auc: 0.758593\tvalid_1's auc: 0.746632\n",
      "[200]\ttraining's auc: 0.7823\tvalid_1's auc: 0.765343\n",
      "[300]\ttraining's auc: 0.800611\tvalid_1's auc: 0.777789\n",
      "[400]\ttraining's auc: 0.813099\tvalid_1's auc: 0.783497\n",
      "[500]\ttraining's auc: 0.822567\tvalid_1's auc: 0.786598\n",
      "[600]\ttraining's auc: 0.83081\tvalid_1's auc: 0.788083\n",
      "[700]\ttraining's auc: 0.838478\tvalid_1's auc: 0.789275\n",
      "[800]\ttraining's auc: 0.845318\tvalid_1's auc: 0.789966\n",
      "[900]\ttraining's auc: 0.851373\tvalid_1's auc: 0.790489\n",
      "[1000]\ttraining's auc: 0.856975\tvalid_1's auc: 0.790873\n",
      "[1100]\ttraining's auc: 0.862469\tvalid_1's auc: 0.791076\n",
      "[1200]\ttraining's auc: 0.867393\tvalid_1's auc: 0.791417\n",
      "[1300]\ttraining's auc: 0.872251\tvalid_1's auc: 0.791495\n",
      "[1400]\ttraining's auc: 0.877047\tvalid_1's auc: 0.791441\n",
      "Early stopping, best iteration is:\n",
      "[1276]\ttraining's auc: 0.871214\tvalid_1's auc: 0.791558\n",
      "Training until validation scores don't improve for 200 rounds.\n",
      "[100]\ttraining's auc: 0.759922\tvalid_1's auc: 0.741444\n",
      "[200]\ttraining's auc: 0.783238\tvalid_1's auc: 0.758105\n",
      "[300]\ttraining's auc: 0.801477\tvalid_1's auc: 0.769845\n",
      "[400]\ttraining's auc: 0.813631\tvalid_1's auc: 0.774782\n",
      "[500]\ttraining's auc: 0.823417\tvalid_1's auc: 0.777417\n",
      "[600]\ttraining's auc: 0.831656\tvalid_1's auc: 0.77903\n",
      "[700]\ttraining's auc: 0.839057\tvalid_1's auc: 0.780074\n",
      "[800]\ttraining's auc: 0.846017\tvalid_1's auc: 0.780892\n",
      "[900]\ttraining's auc: 0.852142\tvalid_1's auc: 0.781593\n",
      "[1000]\ttraining's auc: 0.857838\tvalid_1's auc: 0.781941\n",
      "[1100]\ttraining's auc: 0.862931\tvalid_1's auc: 0.782103\n",
      "[1200]\ttraining's auc: 0.868209\tvalid_1's auc: 0.782447\n",
      "[1300]\ttraining's auc: 0.873117\tvalid_1's auc: 0.782695\n",
      "[1400]\ttraining's auc: 0.877573\tvalid_1's auc: 0.782887\n",
      "[1500]\ttraining's auc: 0.882074\tvalid_1's auc: 0.783093\n",
      "[1600]\ttraining's auc: 0.886267\tvalid_1's auc: 0.783509\n",
      "[1700]\ttraining's auc: 0.890313\tvalid_1's auc: 0.783443\n",
      "[1800]\ttraining's auc: 0.894326\tvalid_1's auc: 0.783577\n",
      "Early stopping, best iteration is:\n",
      "[1650]\ttraining's auc: 0.888293\tvalid_1's auc: 0.7836\n",
      "Training until validation scores don't improve for 200 rounds.\n",
      "[100]\ttraining's auc: 0.759082\tvalid_1's auc: 0.750154\n",
      "[200]\ttraining's auc: 0.78172\tvalid_1's auc: 0.769337\n",
      "[300]\ttraining's auc: 0.799788\tvalid_1's auc: 0.782478\n",
      "[400]\ttraining's auc: 0.812202\tvalid_1's auc: 0.789302\n",
      "[500]\ttraining's auc: 0.821857\tvalid_1's auc: 0.792978\n",
      "[600]\ttraining's auc: 0.829963\tvalid_1's auc: 0.795405\n",
      "[700]\ttraining's auc: 0.837316\tvalid_1's auc: 0.796772\n",
      "[800]\ttraining's auc: 0.844148\tvalid_1's auc: 0.797883\n",
      "[900]\ttraining's auc: 0.850336\tvalid_1's auc: 0.798542\n",
      "[1000]\ttraining's auc: 0.855973\tvalid_1's auc: 0.799285\n",
      "[1100]\ttraining's auc: 0.861244\tvalid_1's auc: 0.799749\n",
      "[1200]\ttraining's auc: 0.866398\tvalid_1's auc: 0.799975\n",
      "[1300]\ttraining's auc: 0.871163\tvalid_1's auc: 0.800318\n",
      "[1400]\ttraining's auc: 0.875839\tvalid_1's auc: 0.800641\n",
      "[1500]\ttraining's auc: 0.88033\tvalid_1's auc: 0.800891\n",
      "[1600]\ttraining's auc: 0.884366\tvalid_1's auc: 0.800847\n",
      "Early stopping, best iteration is:\n",
      "[1450]\ttraining's auc: 0.878203\tvalid_1's auc: 0.800988\n",
      "Training until validation scores don't improve for 200 rounds.\n",
      "[100]\ttraining's auc: 0.760023\tvalid_1's auc: 0.741047\n",
      "[200]\ttraining's auc: 0.78297\tvalid_1's auc: 0.758646\n",
      "[300]\ttraining's auc: 0.801103\tvalid_1's auc: 0.770974\n",
      "[400]\ttraining's auc: 0.813108\tvalid_1's auc: 0.776745\n",
      "[500]\ttraining's auc: 0.822625\tvalid_1's auc: 0.780541\n",
      "[600]\ttraining's auc: 0.830784\tvalid_1's auc: 0.782818\n",
      "[700]\ttraining's auc: 0.838284\tvalid_1's auc: 0.783989\n",
      "[800]\ttraining's auc: 0.845044\tvalid_1's auc: 0.785395\n"
     ]
    },
    {
     "name": "stdout",
     "output_type": "stream",
     "text": [
      "[900]\ttraining's auc: 0.851333\tvalid_1's auc: 0.786349\n",
      "[1000]\ttraining's auc: 0.857026\tvalid_1's auc: 0.78688\n",
      "[1100]\ttraining's auc: 0.862306\tvalid_1's auc: 0.787361\n",
      "[1200]\ttraining's auc: 0.867275\tvalid_1's auc: 0.787525\n",
      "[1300]\ttraining's auc: 0.872184\tvalid_1's auc: 0.78781\n",
      "[1400]\ttraining's auc: 0.876576\tvalid_1's auc: 0.788\n",
      "[1500]\ttraining's auc: 0.881079\tvalid_1's auc: 0.788291\n",
      "[1600]\ttraining's auc: 0.885295\tvalid_1's auc: 0.788517\n",
      "[1700]\ttraining's auc: 0.889295\tvalid_1's auc: 0.788407\n",
      "[1800]\ttraining's auc: 0.893014\tvalid_1's auc: 0.788547\n",
      "[1900]\ttraining's auc: 0.896768\tvalid_1's auc: 0.788459\n",
      "[2000]\ttraining's auc: 0.90053\tvalid_1's auc: 0.788412\n",
      "Early stopping, best iteration is:\n",
      "[1833]\ttraining's auc: 0.894265\tvalid_1's auc: 0.788627\n",
      "Training until validation scores don't improve for 200 rounds.\n",
      "[100]\ttraining's auc: 0.759562\tvalid_1's auc: 0.748254\n",
      "[200]\ttraining's auc: 0.783046\tvalid_1's auc: 0.764249\n",
      "[300]\ttraining's auc: 0.801139\tvalid_1's auc: 0.774941\n",
      "[400]\ttraining's auc: 0.813222\tvalid_1's auc: 0.780433\n",
      "[500]\ttraining's auc: 0.822944\tvalid_1's auc: 0.783533\n",
      "[600]\ttraining's auc: 0.831004\tvalid_1's auc: 0.785576\n",
      "[700]\ttraining's auc: 0.838325\tvalid_1's auc: 0.786941\n",
      "[800]\ttraining's auc: 0.84507\tvalid_1's auc: 0.78776\n",
      "[900]\ttraining's auc: 0.851177\tvalid_1's auc: 0.788461\n",
      "[1000]\ttraining's auc: 0.856942\tvalid_1's auc: 0.788907\n",
      "[1100]\ttraining's auc: 0.862304\tvalid_1's auc: 0.789529\n",
      "[1200]\ttraining's auc: 0.867442\tvalid_1's auc: 0.789611\n",
      "[1300]\ttraining's auc: 0.872389\tvalid_1's auc: 0.78974\n",
      "[1400]\ttraining's auc: 0.876985\tvalid_1's auc: 0.7899\n",
      "[1500]\ttraining's auc: 0.88156\tvalid_1's auc: 0.79008\n",
      "[1600]\ttraining's auc: 0.885747\tvalid_1's auc: 0.790252\n",
      "[1700]\ttraining's auc: 0.88977\tvalid_1's auc: 0.79014\n",
      "[1800]\ttraining's auc: 0.89364\tvalid_1's auc: 0.790298\n",
      "Early stopping, best iteration is:\n",
      "[1635]\ttraining's auc: 0.887176\tvalid_1's auc: 0.790316\n",
      "Training until validation scores don't improve for 200 rounds.\n",
      "[100]\ttraining's auc: 0.75939\tvalid_1's auc: 0.74748\n",
      "[200]\ttraining's auc: 0.782024\tvalid_1's auc: 0.765068\n",
      "[300]\ttraining's auc: 0.800369\tvalid_1's auc: 0.777775\n",
      "[400]\ttraining's auc: 0.812532\tvalid_1's auc: 0.784012\n",
      "[500]\ttraining's auc: 0.822208\tvalid_1's auc: 0.787745\n",
      "[600]\ttraining's auc: 0.8306\tvalid_1's auc: 0.790172\n",
      "[700]\ttraining's auc: 0.837984\tvalid_1's auc: 0.791963\n",
      "[800]\ttraining's auc: 0.844634\tvalid_1's auc: 0.792972\n",
      "[900]\ttraining's auc: 0.850819\tvalid_1's auc: 0.793674\n",
      "[1000]\ttraining's auc: 0.856244\tvalid_1's auc: 0.79423\n",
      "[1100]\ttraining's auc: 0.861769\tvalid_1's auc: 0.794759\n",
      "[1200]\ttraining's auc: 0.866838\tvalid_1's auc: 0.79509\n",
      "[1300]\ttraining's auc: 0.871618\tvalid_1's auc: 0.795395\n",
      "[1400]\ttraining's auc: 0.876238\tvalid_1's auc: 0.795902\n",
      "[1500]\ttraining's auc: 0.880477\tvalid_1's auc: 0.796185\n",
      "[1600]\ttraining's auc: 0.884541\tvalid_1's auc: 0.796159\n",
      "[1700]\ttraining's auc: 0.888787\tvalid_1's auc: 0.796491\n",
      "[1800]\ttraining's auc: 0.892578\tvalid_1's auc: 0.796532\n",
      "[1900]\ttraining's auc: 0.896471\tvalid_1's auc: 0.79656\n",
      "[2000]\ttraining's auc: 0.900051\tvalid_1's auc: 0.796408\n",
      "Early stopping, best iteration is:\n",
      "[1832]\ttraining's auc: 0.89386\tvalid_1's auc: 0.796651\n"
     ]
    },
    {
     "name": "stderr",
     "output_type": "stream",
     "text": [
      "/home/sakhtar0092/anaconda2/lib/python2.7/site-packages/ipykernel_launcher.py:13: SettingWithCopyWarning: \n",
      "A value is trying to be set on a copy of a slice from a DataFrame.\n",
      "Try using .loc[row_indexer,col_indexer] = value instead\n",
      "\n",
      "See the caveats in the documentation: http://pandas.pydata.org/pandas-docs/stable/indexing.html#indexing-view-versus-copy\n",
      "  del sys.path[0]\n",
      "/home/sakhtar0092/anaconda2/lib/python2.7/site-packages/ipykernel_launcher.py:14: SettingWithCopyWarning: \n",
      "A value is trying to be set on a copy of a slice from a DataFrame.\n",
      "Try using .loc[row_indexer,col_indexer] = value instead\n",
      "\n",
      "See the caveats in the documentation: http://pandas.pydata.org/pandas-docs/stable/indexing.html#indexing-view-versus-copy\n",
      "  \n"
     ]
    },
    {
     "name": "stdout",
     "output_type": "stream",
     "text": [
      "Overall ROC: 0.793348865817,  Mean ROC: 0.793374928515, STD AUC: 0.00571762567779\n"
     ]
    }
   ],
   "source": [
    "meta_train = np.zeros(train.shape[0])\n",
    "meta_test = []\n",
    "feature_importance = pd.DataFrame(columns = [\"feature\",\"split\",\"gain\"])\n",
    "fold_roc = []\n",
    "\n",
    "kf = StratifiedKFold(n_splits= 10, shuffle=True, random_state=47)\n",
    "for fold_id, (train_index, test_index) in enumerate(kf.split(train, target)):\n",
    "    x_train, x_test = train.iloc[train_index], train.iloc[test_index]\n",
    "    y_train, y_test = target[train_index], target[test_index]\n",
    "\n",
    "    model_tree(x_train, x_test, y_train, y_test, test, meta_train, meta_test,train_index, test_index,fold_id)\n",
    "\n",
    "test_id[\"TARGET\"] = np.array(meta_test).T.mean(axis=1)\n",
    "train_id[\"TARGET\"] = meta_train\n",
    "\n",
    "print \"Overall ROC: {},  Mean ROC: {}, STD AUC: {}\".format(roc_auc_score(target, meta_train), np.mean(fold_roc), np.std(fold_roc))"
   ]
  },
  {
   "cell_type": "code",
   "execution_count": 9,
   "metadata": {
    "collapsed": true
   },
   "outputs": [],
   "source": [
    "train_id.to_csv(\"csv/{}_train.csv\".format(model_name), index=False)\n",
    "test_id.to_csv(\"csv/{}_test.csv\".format(model_name), index=False)"
   ]
  },
  {
   "cell_type": "markdown",
   "metadata": {},
   "source": [
    "# Get Feature Importance"
   ]
  },
  {
   "cell_type": "code",
   "execution_count": 10,
   "metadata": {
    "collapsed": true
   },
   "outputs": [],
   "source": [
    "# Print Feature Importance\n",
    "feature_importance.to_csv(\"csv/{}_all_fi.csv\".format(model_name), index = False)\n",
    "feature_importance = feature_importance.groupby(\"feature\")[[\"gain\",\"split\"]].mean().sort_values('gain', ascending=False).reset_index()\n",
    "\n",
    "plt.figure()\n",
    "feature_importance[['feature','gain']].head(60).plot(kind='barh', x='feature', y='gain', legend=False, figsize=(30, 100))\n",
    "plt.gcf().savefig('csv/{}.png'.format(model_name))\n"
   ]
  },
  {
   "cell_type": "code",
   "execution_count": null,
   "metadata": {
    "collapsed": true
   },
   "outputs": [],
   "source": []
  },
  {
   "cell_type": "code",
   "execution_count": null,
   "metadata": {
    "collapsed": true
   },
   "outputs": [],
   "source": []
  },
  {
   "cell_type": "code",
   "execution_count": null,
   "metadata": {
    "collapsed": true
   },
   "outputs": [],
   "source": []
  },
  {
   "cell_type": "code",
   "execution_count": null,
   "metadata": {
    "collapsed": true
   },
   "outputs": [],
   "source": []
  },
  {
   "cell_type": "code",
   "execution_count": null,
   "metadata": {
    "collapsed": true
   },
   "outputs": [],
   "source": []
  },
  {
   "cell_type": "code",
   "execution_count": null,
   "metadata": {
    "collapsed": true
   },
   "outputs": [],
   "source": []
  },
  {
   "cell_type": "code",
   "execution_count": null,
   "metadata": {
    "collapsed": true
   },
   "outputs": [],
   "source": []
  },
  {
   "cell_type": "code",
   "execution_count": null,
   "metadata": {
    "collapsed": true
   },
   "outputs": [],
   "source": []
  }
 ],
 "metadata": {
  "kernelspec": {
   "display_name": "Python 2",
   "language": "python",
   "name": "python2"
  },
  "language_info": {
   "codemirror_mode": {
    "name": "ipython",
    "version": 2
   },
   "file_extension": ".py",
   "mimetype": "text/x-python",
   "name": "python",
   "nbconvert_exporter": "python",
   "pygments_lexer": "ipython2",
   "version": "2.7.14"
  }
 },
 "nbformat": 4,
 "nbformat_minor": 2
}
