{
 "cells": [
  {
   "cell_type": "code",
   "execution_count": 5,
   "metadata": {
    "collapsed": true
   },
   "outputs": [],
   "source": [
    "model_name = \"my500_neptuneselected_nometa\""
   ]
  },
  {
   "cell_type": "code",
   "execution_count": 6,
   "metadata": {
    "collapsed": true
   },
   "outputs": [],
   "source": [
    "import numpy as np\n",
    "import pandas as pd\n",
    "import gc\n",
    "from time import time\n",
    "from contextlib import contextmanager\n",
    "from lightgbm import LGBMClassifier\n",
    "from sklearn.metrics import roc_auc_score, roc_curve\n",
    "from sklearn.model_selection import KFold, StratifiedKFold\n",
    "import matplotlib.pyplot as plt\n",
    "import seaborn as sns\n",
    "import warnings\n",
    "from sklearn.preprocessing import LabelEncoder,OneHotEncoder"
   ]
  },
  {
   "cell_type": "code",
   "execution_count": 7,
   "metadata": {},
   "outputs": [
    {
     "name": "stdout",
     "output_type": "stream",
     "text": [
      "Init... : 0.000298976898193 seconds\n"
     ]
    }
   ],
   "source": [
    "timesheet = [time()]\n",
    "def timer(statement):\n",
    "    global timesheet\n",
    "    timesheet.append(time())\n",
    "    print statement+\" :\", (timesheet[-1]-timesheet[-2]),\"seconds\"\n",
    "timer(\"Init...\")"
   ]
  },
  {
   "cell_type": "code",
   "execution_count": 8,
   "metadata": {
    "collapsed": true
   },
   "outputs": [],
   "source": [
    "def load_meta(directory, prefix, modeltype):\n",
    "    m_tr = pd.read_csv(directory+prefix+\"_train.csv\")\n",
    "    m_te = pd.read_csv(directory+prefix+\"_test.csv\")\n",
    "    data = pd.concat([m_tr, m_te], axis=0).reset_index(drop=True)\n",
    "    data.columns = [\"{}_{}_{}\".format(c, prefix, modeltype) if c!=\"SK_ID_CURR\" else c for c in data.columns]\n",
    "    return data\n",
    "\n",
    "def join_features(data, features):\n",
    "    for item in features:\n",
    "        data = data.merge(item, how = \"left\", on = \"SK_ID_CURR\")\n",
    "    return data\n",
    "\n",
    "def load_data(datafile):\n",
    "    global important_columns\n",
    "    colnames = [c.replace(\" \",\"_\") for c in pd.read_csv(datafile, nrows= 1).columns]\n",
    "    intersection = list(set(colnames).intersection(set(important_columns)))+[\"SK_ID_CURR\"]\n",
    "\n",
    "    df =  pd.read_csv(datafile, names = colnames, usecols = intersection, skiprows=1).dropna(axis=1, how=\"all\")\n",
    "    timer(\"Loaded {} with shape {} in \".format(datafile.split(\"/\")[-1], df.shape))\n",
    "    return df"
   ]
  },
  {
   "cell_type": "markdown",
   "metadata": {},
   "source": [
    "## Getting Feature Importance File"
   ]
  },
  {
   "cell_type": "code",
   "execution_count": 9,
   "metadata": {
    "collapsed": true
   },
   "outputs": [],
   "source": [
    "important_columns = pd.read_csv(\"../feature selector/importance/shap_importances.csv\")\n",
    "important_columns[\"feature\"] = important_columns[\"feature\"].apply(lambda x: x.replace(\" \",\"_\"))\n",
    "important_columns = important_columns.loc[important_columns.shapely_mean > 0.0].reset_index(drop=True)\n",
    "important_columns = important_columns.sort_values(by = \"shapely_mean\", ascending = False).reset_index(drop=True)\n",
    "important_columns = important_columns.loc[0:500].feature.values.tolist()"
   ]
  },
  {
   "cell_type": "markdown",
   "metadata": {},
   "source": [
    "## Loading Features"
   ]
  },
  {
   "cell_type": "code",
   "execution_count": 10,
   "metadata": {
    "scrolled": true
   },
   "outputs": [
    {
     "name": "stdout",
     "output_type": "stream",
     "text": [
      "Loaded application_features_V2.csv with shape (356255, 75) in  : 24.7878141403 seconds\n",
      "Loaded bureau_features_V1.csv with shape (305811, 84) in  : 10.3421669006 seconds\n",
      "Loaded credit_card_features_V1.csv with shape (103558, 16) in  : 10.3835639954 seconds\n",
      "Loaded installment_features_V1.csv with shape (339587, 100) in  : 33.1001639366 seconds\n",
      "Loaded pos_cash_features_V1.csv with shape (337252, 48) in  : 21.0373461246 seconds\n",
      "Loaded previous_application_features_V1.csv with shape (338857, 93) in  : 22.048017025 seconds\n",
      "Loaded credit_card_features_V3.csv with shape (103558, 6) in  : 16.998759985 seconds\n",
      "Loaded installment_features_V3.csv with shape (339587, 69) in  : 27.6496949196 seconds\n",
      "Loaded pos_cash_features_V3.csv with shape (337252, 11) in  : 6.99699497223 seconds\n",
      "Loaded previous_application_features_V3.csv with shape (338857, 9) in  : 8.45656704903 seconds\n"
     ]
    }
   ],
   "source": [
    "applications = load_data(\"../extractor/csv/application_features_V2.csv\")\n",
    "bureau_balance_bb = load_data(\"../extractor/csv/bureau_features_V1.csv\")\n",
    "credit_card_balance = load_data(\"../extractor/csv/credit_card_features_V1.csv\")\n",
    "installment_features = load_data(\"../extractor/csv/installment_features_V1.csv\")\n",
    "pos_cash_balance = load_data(\"../extractor/csv/pos_cash_features_V1.csv\")\n",
    "previous_apps = load_data(\"../extractor/csv/previous_application_features_V1.csv\")\n",
    "\n",
    "credit_card_balance_v3 = load_data(\"../extractor/csv/credit_card_features_V3.csv\")\n",
    "installment_features_v3 = load_data(\"../extractor/csv/installment_features_V3.csv\")\n",
    "pos_cash_balance_v3 = load_data(\"../extractor/csv/pos_cash_features_V3.csv\")\n",
    "previous_apps_v3 = load_data(\"../extractor/csv/previous_application_features_V3.csv\")\n",
    "\n",
    "base_features = [applications, bureau_balance_bb, credit_card_balance, installment_features, pos_cash_balance,previous_apps, credit_card_balance_v3,installment_features_v3,pos_cash_balance_v3, previous_apps_v3]"
   ]
  },
  {
   "cell_type": "markdown",
   "metadata": {},
   "source": [
    "## Joining All Files"
   ]
  },
  {
   "cell_type": "code",
   "execution_count": 11,
   "metadata": {
    "collapsed": true
   },
   "outputs": [],
   "source": [
    "train = pd.read_csv(\"../data/application_train.csv\", usecols = [\"SK_ID_CURR\",\"TARGET\"])\n",
    "test = pd.read_csv(\"../data/application_test.csv\", usecols = [\"SK_ID_CURR\"])\n",
    "\n",
    "neptune_train = pd.read_csv(\"../neptune extractor/data/train.csv\")\n",
    "neptune_test = pd.read_csv(\"../neptune extractor/data/test.csv\")\n",
    "\n",
    "train = pd.concat([train, neptune_train], axis=1)\n",
    "test = pd.concat([test, neptune_test], axis=1)\n",
    "\n",
    "del neptune_train, neptune_test\n",
    "gc.collect()\n",
    "\n",
    "data = pd.concat([train, test], axis=0).reset_index(drop=True)\n",
    "data = join_features(data, base_features)\n",
    "del base_features,applications, bureau_balance_bb, credit_card_balance, installment_features, pos_cash_balance,previous_apps, credit_card_balance_v3,installment_features_v3,pos_cash_balance_v3, previous_apps_v3\n",
    "gc.collect()\n",
    "\n",
    "train = data.loc[data.TARGET.notnull()].reset_index(drop=True)\n",
    "test = data.loc[data.TARGET.isnull()].reset_index(drop=True)\n",
    "\n",
    "train_id = train[[\"SK_ID_CURR\"]]\n",
    "test_id = test[[\"SK_ID_CURR\"]]\n",
    "test_id_rank = test[[\"SK_ID_CURR\"]]\n",
    "target =train.TARGET\n",
    "\n",
    "train.drop([\"SK_ID_CURR\", \"TARGET\"], axis=1, inplace=True)\n",
    "test.drop([\"SK_ID_CURR\",\"TARGET\"], axis=1, inplace = True)"
   ]
  },
  {
   "cell_type": "markdown",
   "metadata": {},
   "source": [
    "# Defining Model"
   ]
  },
  {
   "cell_type": "code",
   "execution_count": 15,
   "metadata": {
    "collapsed": true
   },
   "outputs": [],
   "source": [
    "import lightgbm as lgb\n",
    "def model_tree(x_train, x_test, y_train, y_test, test, meta_train, meta_test,train_index, test_index,fold_id):\n",
    "    dtrain = lgb.Dataset(x_train, label=y_train)\n",
    "    dval = lgb.Dataset(x_test, label=y_test)\n",
    "    params = {\n",
    "        'num_leaves': 33, #32\n",
    "        'reg_alpha': 0.0, \n",
    "        'colsample_bytree': 0.05, \n",
    "        'subsample_freq': 1, \n",
    "        'learning_rate': 0.02, # 0.02\n",
    "        'boosting_type': 'gbdt', \n",
    "        'nthread': 8, \n",
    "        'min_split_gain': 0.5, \n",
    "        'n_estimators': 10000, \n",
    "        'subsample': 1, \n",
    "        'reg_lambda': 100, \n",
    "        'objective': \"binary\", \n",
    "        'min_child_samples': 70, \n",
    "        'max_depth': -1,\n",
    "        'class_weight': None,\n",
    "        \"bagging_seed\" : 3143,\n",
    "        \"seed\":1343,\n",
    "        \"metric\":\"auc\",\n",
    "        \"is_unbalance\": False,\n",
    "        \"scale_pos_weight\": 1,\n",
    "        \"max_bin\":300\n",
    "    }\n",
    "    model = lgb.train(params, dtrain, num_boost_round=5000,valid_sets=[dtrain, dval], early_stopping_rounds=200, verbose_eval=100)\n",
    "    meta_train[test_index] = model.predict(x_test, num_iteration=model.best_iteration or 5000)\n",
    "    meta_test.append(model.predict(test, num_iteration=model.best_iteration or 5000))\n",
    "    \n",
    "    global fold_roc\n",
    "    fold_roc.append(roc_auc_score(y_test, meta_train[test_index]))\n",
    "    # Calculate Feature Importance\n",
    "    global feature_importance\n",
    "    gain = model.feature_importance('gain')\n",
    "    fold_feature_importance = pd.DataFrame({'feature':model.feature_name(), 'split':model.feature_importance('split'), 'gain':100 * gain / gain.sum()})\n",
    "    feature_importance = feature_importance.append(fold_feature_importance, ignore_index=True) "
   ]
  },
  {
   "cell_type": "markdown",
   "metadata": {},
   "source": [
    "# Training Model"
   ]
  },
  {
   "cell_type": "code",
   "execution_count": 16,
   "metadata": {
    "scrolled": true
   },
   "outputs": [
    {
     "name": "stdout",
     "output_type": "stream",
     "text": [
      "Training until validation scores don't improve for 200 rounds.\n",
      "[100]\ttraining's auc: 0.759236\tvalid_1's auc: 0.744977\n",
      "[200]\ttraining's auc: 0.779809\tvalid_1's auc: 0.761227\n",
      "[300]\ttraining's auc: 0.794556\tvalid_1's auc: 0.771992\n",
      "[400]\ttraining's auc: 0.805002\tvalid_1's auc: 0.778171\n",
      "[500]\ttraining's auc: 0.813239\tvalid_1's auc: 0.781614\n",
      "[600]\ttraining's auc: 0.819921\tvalid_1's auc: 0.783981\n",
      "[700]\ttraining's auc: 0.825991\tvalid_1's auc: 0.785991\n",
      "[800]\ttraining's auc: 0.831621\tvalid_1's auc: 0.787487\n",
      "[900]\ttraining's auc: 0.836706\tvalid_1's auc: 0.788569\n",
      "[1000]\ttraining's auc: 0.841483\tvalid_1's auc: 0.78945\n",
      "[1100]\ttraining's auc: 0.845933\tvalid_1's auc: 0.790148\n",
      "[1200]\ttraining's auc: 0.850201\tvalid_1's auc: 0.790694\n",
      "[1300]\ttraining's auc: 0.854155\tvalid_1's auc: 0.791304\n",
      "[1400]\ttraining's auc: 0.857947\tvalid_1's auc: 0.791584\n",
      "[1500]\ttraining's auc: 0.8615\tvalid_1's auc: 0.79188\n",
      "[1600]\ttraining's auc: 0.864859\tvalid_1's auc: 0.792145\n",
      "[1700]\ttraining's auc: 0.868189\tvalid_1's auc: 0.792301\n",
      "[1800]\ttraining's auc: 0.871337\tvalid_1's auc: 0.792636\n",
      "[1900]\ttraining's auc: 0.874398\tvalid_1's auc: 0.792621\n",
      "[2000]\ttraining's auc: 0.877334\tvalid_1's auc: 0.792836\n",
      "[2100]\ttraining's auc: 0.880089\tvalid_1's auc: 0.792827\n",
      "[2200]\ttraining's auc: 0.882869\tvalid_1's auc: 0.793003\n",
      "[2300]\ttraining's auc: 0.885502\tvalid_1's auc: 0.793157\n",
      "[2400]\ttraining's auc: 0.888097\tvalid_1's auc: 0.793315\n",
      "[2500]\ttraining's auc: 0.890603\tvalid_1's auc: 0.793378\n",
      "[2600]\ttraining's auc: 0.892983\tvalid_1's auc: 0.793392\n",
      "[2700]\ttraining's auc: 0.895252\tvalid_1's auc: 0.793421\n",
      "[2800]\ttraining's auc: 0.897558\tvalid_1's auc: 0.793582\n",
      "[2900]\ttraining's auc: 0.899673\tvalid_1's auc: 0.793605\n",
      "[3000]\ttraining's auc: 0.901934\tvalid_1's auc: 0.793699\n",
      "[3100]\ttraining's auc: 0.904076\tvalid_1's auc: 0.793729\n",
      "[3200]\ttraining's auc: 0.906148\tvalid_1's auc: 0.793686\n",
      "[3300]\ttraining's auc: 0.908186\tvalid_1's auc: 0.793805\n",
      "[3400]\ttraining's auc: 0.910085\tvalid_1's auc: 0.793714\n",
      "[3500]\ttraining's auc: 0.911988\tvalid_1's auc: 0.793668\n",
      "Early stopping, best iteration is:\n",
      "[3312]\ttraining's auc: 0.908405\tvalid_1's auc: 0.793822\n",
      "Training until validation scores don't improve for 200 rounds.\n",
      "[100]\ttraining's auc: 0.75773\tvalid_1's auc: 0.757155\n",
      "[200]\ttraining's auc: 0.778638\tvalid_1's auc: 0.773004\n",
      "[300]\ttraining's auc: 0.793383\tvalid_1's auc: 0.782825\n",
      "[400]\ttraining's auc: 0.803809\tvalid_1's auc: 0.788767\n",
      "[500]\ttraining's auc: 0.812043\tvalid_1's auc: 0.792673\n",
      "[600]\ttraining's auc: 0.818786\tvalid_1's auc: 0.795174\n",
      "[700]\ttraining's auc: 0.824856\tvalid_1's auc: 0.797077\n",
      "[800]\ttraining's auc: 0.830406\tvalid_1's auc: 0.798337\n",
      "[900]\ttraining's auc: 0.83551\tvalid_1's auc: 0.799336\n",
      "[1000]\ttraining's auc: 0.840374\tvalid_1's auc: 0.800235\n",
      "[1100]\ttraining's auc: 0.844829\tvalid_1's auc: 0.800824\n",
      "[1200]\ttraining's auc: 0.849111\tvalid_1's auc: 0.801537\n",
      "[1300]\ttraining's auc: 0.853136\tvalid_1's auc: 0.802117\n",
      "[1400]\ttraining's auc: 0.856884\tvalid_1's auc: 0.802536\n",
      "[1500]\ttraining's auc: 0.860499\tvalid_1's auc: 0.802862\n",
      "[1600]\ttraining's auc: 0.863905\tvalid_1's auc: 0.80316\n",
      "[1700]\ttraining's auc: 0.867268\tvalid_1's auc: 0.803438\n",
      "[1800]\ttraining's auc: 0.870412\tvalid_1's auc: 0.803626\n",
      "[1900]\ttraining's auc: 0.87356\tvalid_1's auc: 0.803765\n",
      "[2000]\ttraining's auc: 0.87649\tvalid_1's auc: 0.803948\n",
      "[2100]\ttraining's auc: 0.879391\tvalid_1's auc: 0.804186\n",
      "[2200]\ttraining's auc: 0.882175\tvalid_1's auc: 0.804273\n",
      "[2300]\ttraining's auc: 0.884805\tvalid_1's auc: 0.804355\n",
      "[2400]\ttraining's auc: 0.887346\tvalid_1's auc: 0.804319\n",
      "[2500]\ttraining's auc: 0.889841\tvalid_1's auc: 0.804368\n",
      "[2600]\ttraining's auc: 0.892252\tvalid_1's auc: 0.804247\n",
      "Early stopping, best iteration is:\n",
      "[2474]\ttraining's auc: 0.889161\tvalid_1's auc: 0.804388\n",
      "Training until validation scores don't improve for 200 rounds.\n",
      "[100]\ttraining's auc: 0.758087\tvalid_1's auc: 0.756078\n",
      "[200]\ttraining's auc: 0.779061\tvalid_1's auc: 0.771576\n",
      "[300]\ttraining's auc: 0.793725\tvalid_1's auc: 0.780535\n",
      "[400]\ttraining's auc: 0.80411\tvalid_1's auc: 0.786354\n",
      "[500]\ttraining's auc: 0.812251\tvalid_1's auc: 0.790427\n",
      "[600]\ttraining's auc: 0.819139\tvalid_1's auc: 0.792769\n",
      "[700]\ttraining's auc: 0.825202\tvalid_1's auc: 0.794579\n",
      "[800]\ttraining's auc: 0.830834\tvalid_1's auc: 0.796101\n",
      "[900]\ttraining's auc: 0.835909\tvalid_1's auc: 0.796927\n",
      "[1000]\ttraining's auc: 0.840766\tvalid_1's auc: 0.797686\n",
      "[1100]\ttraining's auc: 0.845219\tvalid_1's auc: 0.798043\n",
      "[1200]\ttraining's auc: 0.84953\tvalid_1's auc: 0.798515\n",
      "[1300]\ttraining's auc: 0.853589\tvalid_1's auc: 0.798939\n",
      "[1400]\ttraining's auc: 0.857428\tvalid_1's auc: 0.799257\n",
      "[1500]\ttraining's auc: 0.860964\tvalid_1's auc: 0.799537\n",
      "[1600]\ttraining's auc: 0.864341\tvalid_1's auc: 0.799736\n",
      "[1700]\ttraining's auc: 0.867693\tvalid_1's auc: 0.799964\n",
      "[1800]\ttraining's auc: 0.87094\tvalid_1's auc: 0.800016\n",
      "[1900]\ttraining's auc: 0.873919\tvalid_1's auc: 0.80029\n",
      "[2000]\ttraining's auc: 0.876887\tvalid_1's auc: 0.800448\n",
      "[2100]\ttraining's auc: 0.879697\tvalid_1's auc: 0.80053\n",
      "[2200]\ttraining's auc: 0.882398\tvalid_1's auc: 0.800736\n",
      "[2300]\ttraining's auc: 0.88501\tvalid_1's auc: 0.800853\n",
      "[2400]\ttraining's auc: 0.887561\tvalid_1's auc: 0.80084\n",
      "[2500]\ttraining's auc: 0.890092\tvalid_1's auc: 0.80089\n",
      "[2600]\ttraining's auc: 0.8925\tvalid_1's auc: 0.800969\n",
      "[2700]\ttraining's auc: 0.894854\tvalid_1's auc: 0.800999\n",
      "[2800]\ttraining's auc: 0.897105\tvalid_1's auc: 0.801055\n",
      "[2900]\ttraining's auc: 0.89939\tvalid_1's auc: 0.801058\n",
      "[3000]\ttraining's auc: 0.901594\tvalid_1's auc: 0.801059\n",
      "[3100]\ttraining's auc: 0.90371\tvalid_1's auc: 0.801112\n",
      "[3200]\ttraining's auc: 0.90572\tvalid_1's auc: 0.801169\n",
      "[3300]\ttraining's auc: 0.907729\tvalid_1's auc: 0.801229\n",
      "[3400]\ttraining's auc: 0.909701\tvalid_1's auc: 0.801393\n",
      "[3500]\ttraining's auc: 0.911573\tvalid_1's auc: 0.801428\n",
      "[3600]\ttraining's auc: 0.913429\tvalid_1's auc: 0.801405\n",
      "Early stopping, best iteration is:\n",
      "[3421]\ttraining's auc: 0.910104\tvalid_1's auc: 0.801456\n",
      "Training until validation scores don't improve for 200 rounds.\n",
      "[100]\ttraining's auc: 0.757393\tvalid_1's auc: 0.763592\n",
      "[200]\ttraining's auc: 0.778677\tvalid_1's auc: 0.777417\n",
      "[300]\ttraining's auc: 0.793286\tvalid_1's auc: 0.785898\n",
      "[400]\ttraining's auc: 0.80375\tvalid_1's auc: 0.790775\n",
      "[500]\ttraining's auc: 0.812026\tvalid_1's auc: 0.794071\n",
      "[600]\ttraining's auc: 0.818876\tvalid_1's auc: 0.79622\n",
      "[700]\ttraining's auc: 0.824952\tvalid_1's auc: 0.7978\n",
      "[800]\ttraining's auc: 0.830574\tvalid_1's auc: 0.799078\n",
      "[900]\ttraining's auc: 0.835733\tvalid_1's auc: 0.799909\n",
      "[1000]\ttraining's auc: 0.840576\tvalid_1's auc: 0.800554\n",
      "[1100]\ttraining's auc: 0.84499\tvalid_1's auc: 0.801179\n",
      "[1200]\ttraining's auc: 0.849286\tvalid_1's auc: 0.801869\n",
      "[1300]\ttraining's auc: 0.853361\tvalid_1's auc: 0.802228\n",
      "[1400]\ttraining's auc: 0.857149\tvalid_1's auc: 0.802641\n",
      "[1500]\ttraining's auc: 0.860825\tvalid_1's auc: 0.802723\n",
      "[1600]\ttraining's auc: 0.864237\tvalid_1's auc: 0.802899\n",
      "[1700]\ttraining's auc: 0.867601\tvalid_1's auc: 0.803065\n",
      "[1800]\ttraining's auc: 0.870767\tvalid_1's auc: 0.803346\n",
      "[1900]\ttraining's auc: 0.873765\tvalid_1's auc: 0.803533\n",
      "[2000]\ttraining's auc: 0.876782\tvalid_1's auc: 0.803633\n",
      "[2100]\ttraining's auc: 0.879605\tvalid_1's auc: 0.803748\n",
      "[2200]\ttraining's auc: 0.882324\tvalid_1's auc: 0.803781\n",
      "[2300]\ttraining's auc: 0.885025\tvalid_1's auc: 0.803901\n",
      "[2400]\ttraining's auc: 0.887577\tvalid_1's auc: 0.803949\n",
      "[2500]\ttraining's auc: 0.890032\tvalid_1's auc: 0.804005\n",
      "[2600]\ttraining's auc: 0.892412\tvalid_1's auc: 0.804004\n",
      "[2700]\ttraining's auc: 0.894724\tvalid_1's auc: 0.80408\n",
      "[2800]\ttraining's auc: 0.897054\tvalid_1's auc: 0.80404\n",
      "[2900]\ttraining's auc: 0.899335\tvalid_1's auc: 0.804025\n",
      "Early stopping, best iteration is:\n",
      "[2709]\ttraining's auc: 0.894943\tvalid_1's auc: 0.804098\n",
      "Training until validation scores don't improve for 200 rounds.\n",
      "[100]\ttraining's auc: 0.758459\tvalid_1's auc: 0.747464\n",
      "[200]\ttraining's auc: 0.779107\tvalid_1's auc: 0.765186\n",
      "[300]\ttraining's auc: 0.794121\tvalid_1's auc: 0.775836\n",
      "[400]\ttraining's auc: 0.804473\tvalid_1's auc: 0.782101\n",
      "[500]\ttraining's auc: 0.812723\tvalid_1's auc: 0.785504\n",
      "[600]\ttraining's auc: 0.819511\tvalid_1's auc: 0.787982\n",
      "[700]\ttraining's auc: 0.825646\tvalid_1's auc: 0.789819\n",
      "[800]\ttraining's auc: 0.831281\tvalid_1's auc: 0.791213\n",
      "[900]\ttraining's auc: 0.836359\tvalid_1's auc: 0.792279\n",
      "[1000]\ttraining's auc: 0.841187\tvalid_1's auc: 0.79299\n"
     ]
    },
    {
     "name": "stdout",
     "output_type": "stream",
     "text": [
      "[1100]\ttraining's auc: 0.845624\tvalid_1's auc: 0.79367\n",
      "[1200]\ttraining's auc: 0.849909\tvalid_1's auc: 0.794083\n",
      "[1300]\ttraining's auc: 0.85386\tvalid_1's auc: 0.794527\n",
      "[1400]\ttraining's auc: 0.857671\tvalid_1's auc: 0.794839\n",
      "[1500]\ttraining's auc: 0.861163\tvalid_1's auc: 0.795005\n",
      "[1600]\ttraining's auc: 0.864585\tvalid_1's auc: 0.795212\n",
      "[1700]\ttraining's auc: 0.867843\tvalid_1's auc: 0.795465\n",
      "[1800]\ttraining's auc: 0.871015\tvalid_1's auc: 0.795487\n",
      "[1900]\ttraining's auc: 0.874094\tvalid_1's auc: 0.795598\n",
      "[2000]\ttraining's auc: 0.876974\tvalid_1's auc: 0.795717\n",
      "[2100]\ttraining's auc: 0.879781\tvalid_1's auc: 0.79581\n",
      "[2200]\ttraining's auc: 0.882497\tvalid_1's auc: 0.795865\n",
      "[2300]\ttraining's auc: 0.88517\tvalid_1's auc: 0.79579\n",
      "Early stopping, best iteration is:\n",
      "[2175]\ttraining's auc: 0.881838\tvalid_1's auc: 0.795885\n",
      "Training until validation scores don't improve for 200 rounds.\n",
      "[100]\ttraining's auc: 0.759237\tvalid_1's auc: 0.743786\n",
      "[200]\ttraining's auc: 0.779861\tvalid_1's auc: 0.759433\n",
      "[300]\ttraining's auc: 0.794731\tvalid_1's auc: 0.770046\n",
      "[400]\ttraining's auc: 0.805096\tvalid_1's auc: 0.775704\n",
      "[500]\ttraining's auc: 0.813231\tvalid_1's auc: 0.77919\n",
      "[600]\ttraining's auc: 0.820081\tvalid_1's auc: 0.781494\n",
      "[700]\ttraining's auc: 0.826189\tvalid_1's auc: 0.782897\n",
      "[800]\ttraining's auc: 0.831751\tvalid_1's auc: 0.784161\n",
      "[900]\ttraining's auc: 0.836774\tvalid_1's auc: 0.785149\n",
      "[1000]\ttraining's auc: 0.841549\tvalid_1's auc: 0.785848\n",
      "[1100]\ttraining's auc: 0.845951\tvalid_1's auc: 0.786262\n",
      "[1200]\ttraining's auc: 0.850256\tvalid_1's auc: 0.786694\n",
      "[1300]\ttraining's auc: 0.854259\tvalid_1's auc: 0.787036\n",
      "[1400]\ttraining's auc: 0.858051\tvalid_1's auc: 0.787544\n",
      "[1500]\ttraining's auc: 0.861597\tvalid_1's auc: 0.787824\n",
      "[1600]\ttraining's auc: 0.86507\tvalid_1's auc: 0.788186\n",
      "[1700]\ttraining's auc: 0.868258\tvalid_1's auc: 0.788428\n",
      "[1800]\ttraining's auc: 0.871395\tvalid_1's auc: 0.788604\n",
      "[1900]\ttraining's auc: 0.874503\tvalid_1's auc: 0.788777\n",
      "[2000]\ttraining's auc: 0.877533\tvalid_1's auc: 0.788857\n",
      "[2100]\ttraining's auc: 0.880406\tvalid_1's auc: 0.789018\n",
      "[2200]\ttraining's auc: 0.88316\tvalid_1's auc: 0.78906\n",
      "[2300]\ttraining's auc: 0.885741\tvalid_1's auc: 0.789266\n",
      "[2400]\ttraining's auc: 0.888264\tvalid_1's auc: 0.789337\n",
      "[2500]\ttraining's auc: 0.890781\tvalid_1's auc: 0.789342\n",
      "[2600]\ttraining's auc: 0.893123\tvalid_1's auc: 0.789389\n",
      "[2700]\ttraining's auc: 0.895443\tvalid_1's auc: 0.789485\n",
      "[2800]\ttraining's auc: 0.897774\tvalid_1's auc: 0.789448\n",
      "[2900]\ttraining's auc: 0.900071\tvalid_1's auc: 0.789342\n",
      "Early stopping, best iteration is:\n",
      "[2716]\ttraining's auc: 0.895835\tvalid_1's auc: 0.78952\n",
      "Training until validation scores don't improve for 200 rounds.\n",
      "[100]\ttraining's auc: 0.758165\tvalid_1's auc: 0.75253\n",
      "[200]\ttraining's auc: 0.778768\tvalid_1's auc: 0.770467\n",
      "[300]\ttraining's auc: 0.793341\tvalid_1's auc: 0.780861\n",
      "[400]\ttraining's auc: 0.803502\tvalid_1's auc: 0.787644\n",
      "[500]\ttraining's auc: 0.811764\tvalid_1's auc: 0.792154\n",
      "[600]\ttraining's auc: 0.818513\tvalid_1's auc: 0.794932\n",
      "[700]\ttraining's auc: 0.824538\tvalid_1's auc: 0.79687\n",
      "[800]\ttraining's auc: 0.83016\tvalid_1's auc: 0.798419\n",
      "[900]\ttraining's auc: 0.835221\tvalid_1's auc: 0.799552\n",
      "[1000]\ttraining's auc: 0.840008\tvalid_1's auc: 0.800563\n",
      "[1100]\ttraining's auc: 0.844541\tvalid_1's auc: 0.801123\n",
      "[1200]\ttraining's auc: 0.848782\tvalid_1's auc: 0.801813\n",
      "[1300]\ttraining's auc: 0.852783\tvalid_1's auc: 0.802358\n",
      "[1400]\ttraining's auc: 0.856692\tvalid_1's auc: 0.802758\n",
      "[1500]\ttraining's auc: 0.86028\tvalid_1's auc: 0.80312\n",
      "[1600]\ttraining's auc: 0.863709\tvalid_1's auc: 0.803515\n",
      "[1700]\ttraining's auc: 0.867021\tvalid_1's auc: 0.803816\n",
      "[1800]\ttraining's auc: 0.870214\tvalid_1's auc: 0.803967\n",
      "[1900]\ttraining's auc: 0.873225\tvalid_1's auc: 0.804193\n",
      "[2000]\ttraining's auc: 0.876202\tvalid_1's auc: 0.804499\n",
      "[2100]\ttraining's auc: 0.879014\tvalid_1's auc: 0.804666\n",
      "[2200]\ttraining's auc: 0.881766\tvalid_1's auc: 0.804925\n",
      "[2300]\ttraining's auc: 0.884418\tvalid_1's auc: 0.805044\n",
      "[2400]\ttraining's auc: 0.887047\tvalid_1's auc: 0.805284\n",
      "[2500]\ttraining's auc: 0.889495\tvalid_1's auc: 0.805344\n",
      "[2600]\ttraining's auc: 0.891826\tvalid_1's auc: 0.805408\n",
      "[2700]\ttraining's auc: 0.89426\tvalid_1's auc: 0.805571\n",
      "[2800]\ttraining's auc: 0.896539\tvalid_1's auc: 0.8056\n",
      "[2900]\ttraining's auc: 0.898804\tvalid_1's auc: 0.805479\n",
      "[3000]\ttraining's auc: 0.900951\tvalid_1's auc: 0.805559\n",
      "Early stopping, best iteration is:\n",
      "[2808]\ttraining's auc: 0.896721\tvalid_1's auc: 0.805617\n",
      "Training until validation scores don't improve for 200 rounds.\n",
      "[100]\ttraining's auc: 0.759895\tvalid_1's auc: 0.742315\n",
      "[200]\ttraining's auc: 0.780201\tvalid_1's auc: 0.758694\n",
      "[300]\ttraining's auc: 0.794768\tvalid_1's auc: 0.769042\n",
      "[400]\ttraining's auc: 0.804996\tvalid_1's auc: 0.77561\n",
      "[500]\ttraining's auc: 0.813105\tvalid_1's auc: 0.780177\n",
      "[600]\ttraining's auc: 0.819812\tvalid_1's auc: 0.783208\n",
      "[700]\ttraining's auc: 0.825815\tvalid_1's auc: 0.785374\n",
      "[800]\ttraining's auc: 0.83137\tvalid_1's auc: 0.787125\n",
      "[900]\ttraining's auc: 0.836415\tvalid_1's auc: 0.788332\n",
      "[1000]\ttraining's auc: 0.841225\tvalid_1's auc: 0.789445\n",
      "[1100]\ttraining's auc: 0.845619\tvalid_1's auc: 0.78994\n",
      "[1200]\ttraining's auc: 0.849931\tvalid_1's auc: 0.790578\n",
      "[1300]\ttraining's auc: 0.853847\tvalid_1's auc: 0.791133\n",
      "[1400]\ttraining's auc: 0.857584\tvalid_1's auc: 0.791502\n",
      "[1500]\ttraining's auc: 0.861254\tvalid_1's auc: 0.79173\n",
      "[1600]\ttraining's auc: 0.864666\tvalid_1's auc: 0.791971\n",
      "[1700]\ttraining's auc: 0.867914\tvalid_1's auc: 0.792142\n",
      "[1800]\ttraining's auc: 0.871133\tvalid_1's auc: 0.79236\n",
      "[1900]\ttraining's auc: 0.874189\tvalid_1's auc: 0.792344\n",
      "[2000]\ttraining's auc: 0.877167\tvalid_1's auc: 0.792361\n",
      "Early stopping, best iteration is:\n",
      "[1871]\ttraining's auc: 0.873302\tvalid_1's auc: 0.792472\n",
      "Training until validation scores don't improve for 200 rounds.\n",
      "[100]\ttraining's auc: 0.758868\tvalid_1's auc: 0.748417\n",
      "[200]\ttraining's auc: 0.779852\tvalid_1's auc: 0.763208\n",
      "[300]\ttraining's auc: 0.794519\tvalid_1's auc: 0.772888\n",
      "[400]\ttraining's auc: 0.804768\tvalid_1's auc: 0.778952\n",
      "[500]\ttraining's auc: 0.812903\tvalid_1's auc: 0.783264\n",
      "[600]\ttraining's auc: 0.81963\tvalid_1's auc: 0.785921\n",
      "[700]\ttraining's auc: 0.825731\tvalid_1's auc: 0.787928\n",
      "[800]\ttraining's auc: 0.831307\tvalid_1's auc: 0.789206\n",
      "[900]\ttraining's auc: 0.836301\tvalid_1's auc: 0.79028\n",
      "[1000]\ttraining's auc: 0.841062\tvalid_1's auc: 0.791157\n",
      "[1100]\ttraining's auc: 0.84552\tvalid_1's auc: 0.791849\n",
      "[1200]\ttraining's auc: 0.849782\tvalid_1's auc: 0.792309\n",
      "[1300]\ttraining's auc: 0.853719\tvalid_1's auc: 0.792855\n",
      "[1400]\ttraining's auc: 0.857506\tvalid_1's auc: 0.793277\n",
      "[1500]\ttraining's auc: 0.861167\tvalid_1's auc: 0.793586\n",
      "[1600]\ttraining's auc: 0.864594\tvalid_1's auc: 0.79384\n",
      "[1700]\ttraining's auc: 0.867922\tvalid_1's auc: 0.793983\n",
      "[1800]\ttraining's auc: 0.871055\tvalid_1's auc: 0.794077\n",
      "[1900]\ttraining's auc: 0.874115\tvalid_1's auc: 0.794129\n",
      "[2000]\ttraining's auc: 0.877057\tvalid_1's auc: 0.794177\n",
      "[2100]\ttraining's auc: 0.879892\tvalid_1's auc: 0.794147\n",
      "[2200]\ttraining's auc: 0.882715\tvalid_1's auc: 0.794325\n",
      "[2300]\ttraining's auc: 0.885412\tvalid_1's auc: 0.794443\n",
      "[2400]\ttraining's auc: 0.888023\tvalid_1's auc: 0.794495\n",
      "[2500]\ttraining's auc: 0.890537\tvalid_1's auc: 0.794631\n",
      "[2600]\ttraining's auc: 0.893026\tvalid_1's auc: 0.794714\n",
      "[2700]\ttraining's auc: 0.895353\tvalid_1's auc: 0.794879\n",
      "[2800]\ttraining's auc: 0.897686\tvalid_1's auc: 0.794925\n",
      "[2900]\ttraining's auc: 0.899931\tvalid_1's auc: 0.795053\n",
      "[3000]\ttraining's auc: 0.902079\tvalid_1's auc: 0.795011\n",
      "[3100]\ttraining's auc: 0.904272\tvalid_1's auc: 0.795118\n",
      "[3200]\ttraining's auc: 0.906319\tvalid_1's auc: 0.795091\n",
      "[3300]\ttraining's auc: 0.908352\tvalid_1's auc: 0.795258\n",
      "[3400]\ttraining's auc: 0.910234\tvalid_1's auc: 0.795153\n",
      "Early stopping, best iteration is:\n",
      "[3295]\ttraining's auc: 0.908257\tvalid_1's auc: 0.795267\n",
      "Training until validation scores don't improve for 200 rounds.\n",
      "[100]\ttraining's auc: 0.758718\tvalid_1's auc: 0.747788\n",
      "[200]\ttraining's auc: 0.779427\tvalid_1's auc: 0.76516\n",
      "[300]\ttraining's auc: 0.794126\tvalid_1's auc: 0.776165\n",
      "[400]\ttraining's auc: 0.804222\tvalid_1's auc: 0.782898\n",
      "[500]\ttraining's auc: 0.812386\tvalid_1's auc: 0.787538\n",
      "[600]\ttraining's auc: 0.819164\tvalid_1's auc: 0.790567\n",
      "[700]\ttraining's auc: 0.825165\tvalid_1's auc: 0.792926\n",
      "[800]\ttraining's auc: 0.830788\tvalid_1's auc: 0.794969\n"
     ]
    },
    {
     "name": "stdout",
     "output_type": "stream",
     "text": [
      "[900]\ttraining's auc: 0.835877\tvalid_1's auc: 0.796189\n",
      "[1000]\ttraining's auc: 0.840704\tvalid_1's auc: 0.797103\n",
      "[1100]\ttraining's auc: 0.845153\tvalid_1's auc: 0.797964\n",
      "[1200]\ttraining's auc: 0.849422\tvalid_1's auc: 0.798701\n",
      "[1300]\ttraining's auc: 0.853386\tvalid_1's auc: 0.799213\n",
      "[1400]\ttraining's auc: 0.857156\tvalid_1's auc: 0.799719\n",
      "[1500]\ttraining's auc: 0.860868\tvalid_1's auc: 0.799995\n",
      "[1600]\ttraining's auc: 0.864251\tvalid_1's auc: 0.800287\n",
      "[1700]\ttraining's auc: 0.867505\tvalid_1's auc: 0.800478\n",
      "[1800]\ttraining's auc: 0.87076\tvalid_1's auc: 0.80074\n",
      "[1900]\ttraining's auc: 0.873833\tvalid_1's auc: 0.800935\n",
      "[2000]\ttraining's auc: 0.876696\tvalid_1's auc: 0.801205\n",
      "[2100]\ttraining's auc: 0.879536\tvalid_1's auc: 0.801235\n",
      "[2200]\ttraining's auc: 0.882295\tvalid_1's auc: 0.80135\n",
      "[2300]\ttraining's auc: 0.884937\tvalid_1's auc: 0.801395\n",
      "[2400]\ttraining's auc: 0.887547\tvalid_1's auc: 0.801495\n",
      "[2500]\ttraining's auc: 0.890091\tvalid_1's auc: 0.801712\n",
      "[2600]\ttraining's auc: 0.892428\tvalid_1's auc: 0.801627\n",
      "[2700]\ttraining's auc: 0.894873\tvalid_1's auc: 0.801508\n",
      "Early stopping, best iteration is:\n",
      "[2537]\ttraining's auc: 0.890994\tvalid_1's auc: 0.801727\n"
     ]
    },
    {
     "name": "stderr",
     "output_type": "stream",
     "text": [
      "/home/sakhtar0092/anaconda2/lib/python2.7/site-packages/ipykernel_launcher.py:13: SettingWithCopyWarning: \n",
      "A value is trying to be set on a copy of a slice from a DataFrame.\n",
      "Try using .loc[row_indexer,col_indexer] = value instead\n",
      "\n",
      "See the caveats in the documentation: http://pandas.pydata.org/pandas-docs/stable/indexing.html#indexing-view-versus-copy\n",
      "  del sys.path[0]\n",
      "/home/sakhtar0092/anaconda2/lib/python2.7/site-packages/ipykernel_launcher.py:14: SettingWithCopyWarning: \n",
      "A value is trying to be set on a copy of a slice from a DataFrame.\n",
      "Try using .loc[row_indexer,col_indexer] = value instead\n",
      "\n",
      "See the caveats in the documentation: http://pandas.pydata.org/pandas-docs/stable/indexing.html#indexing-view-versus-copy\n",
      "  \n",
      "/home/sakhtar0092/anaconda2/lib/python2.7/site-packages/ipykernel_launcher.py:15: SettingWithCopyWarning: \n",
      "A value is trying to be set on a copy of a slice from a DataFrame.\n",
      "Try using .loc[row_indexer,col_indexer] = value instead\n",
      "\n",
      "See the caveats in the documentation: http://pandas.pydata.org/pandas-docs/stable/indexing.html#indexing-view-versus-copy\n",
      "  from ipykernel import kernelapp as app\n"
     ]
    },
    {
     "name": "stdout",
     "output_type": "stream",
     "text": [
      "Overall ROC: 0.79841785361,  Mean ROC: 0.798425216237, STD AUC: 0.00540273720633\n"
     ]
    }
   ],
   "source": [
    "meta_train = np.zeros(train.shape[0])\n",
    "meta_test = []\n",
    "feature_importance = pd.DataFrame(columns = [\"feature\",\"split\",\"gain\"])\n",
    "fold_roc = []\n",
    "\n",
    "kf = StratifiedKFold(n_splits= 10, shuffle=True, random_state=47)\n",
    "for fold_id, (train_index, test_index) in enumerate(kf.split(train, target)):\n",
    "    x_train, x_test = train.iloc[train_index], train.iloc[test_index]\n",
    "    y_train, y_test = target[train_index], target[test_index]\n",
    "\n",
    "    model_tree(x_train, x_test, y_train, y_test, test, meta_train, meta_test,train_index, test_index,fold_id)\n",
    "\n",
    "test_id[\"TARGET\"] = np.array(meta_test).T.mean(axis=1)\n",
    "test_id_rank[\"TARGET\"] = pd.DataFrame(np.array(meta_test).T).rank(pct = True).mean(axis=1)\n",
    "train_id[\"TARGET\"] = meta_train\n",
    "\n",
    "print \"Overall ROC: {},  Mean ROC: {}, STD AUC: {}\".format(roc_auc_score(target, meta_train), np.mean(fold_roc), np.std(fold_roc))"
   ]
  },
  {
   "cell_type": "code",
   "execution_count": 17,
   "metadata": {},
   "outputs": [
    {
     "data": {
      "text/plain": [
       "[0.7938222724673166,\n",
       " 0.8043878037427296,\n",
       " 0.8014559566087992,\n",
       " 0.8040982547750826,\n",
       " 0.7958851022853384,\n",
       " 0.789520138759014,\n",
       " 0.8056169269454663,\n",
       " 0.7924721643776325,\n",
       " 0.7952668296209857,\n",
       " 0.801726712790561]"
      ]
     },
     "execution_count": 17,
     "metadata": {},
     "output_type": "execute_result"
    }
   ],
   "source": [
    "fold_roc"
   ]
  },
  {
   "cell_type": "code",
   "execution_count": 18,
   "metadata": {
    "collapsed": true
   },
   "outputs": [],
   "source": [
    "train_id.to_csv(\"csv/{}_train.csv\".format(model_name), index=False)\n",
    "test_id.to_csv(\"csv/{}_test.csv\".format(model_name), index=False)\n",
    "test_id_rank.to_csv(\"csv/{}_rank_test.csv\".format(model_name), index=False)"
   ]
  },
  {
   "cell_type": "code",
   "execution_count": null,
   "metadata": {
    "collapsed": true
   },
   "outputs": [],
   "source": []
  },
  {
   "cell_type": "code",
   "execution_count": null,
   "metadata": {
    "collapsed": true
   },
   "outputs": [],
   "source": []
  },
  {
   "cell_type": "code",
   "execution_count": null,
   "metadata": {
    "collapsed": true
   },
   "outputs": [],
   "source": []
  },
  {
   "cell_type": "code",
   "execution_count": null,
   "metadata": {
    "collapsed": true
   },
   "outputs": [],
   "source": []
  },
  {
   "cell_type": "code",
   "execution_count": null,
   "metadata": {
    "collapsed": true
   },
   "outputs": [],
   "source": []
  },
  {
   "cell_type": "code",
   "execution_count": null,
   "metadata": {
    "collapsed": true
   },
   "outputs": [],
   "source": []
  },
  {
   "cell_type": "code",
   "execution_count": null,
   "metadata": {
    "collapsed": true
   },
   "outputs": [],
   "source": []
  },
  {
   "cell_type": "code",
   "execution_count": null,
   "metadata": {
    "collapsed": true
   },
   "outputs": [],
   "source": []
  }
 ],
 "metadata": {
  "kernelspec": {
   "display_name": "Python 2",
   "language": "python",
   "name": "python2"
  },
  "language_info": {
   "codemirror_mode": {
    "name": "ipython",
    "version": 2
   },
   "file_extension": ".py",
   "mimetype": "text/x-python",
   "name": "python",
   "nbconvert_exporter": "python",
   "pygments_lexer": "ipython2",
   "version": "2.7.14"
  }
 },
 "nbformat": 4,
 "nbformat_minor": 2
}
