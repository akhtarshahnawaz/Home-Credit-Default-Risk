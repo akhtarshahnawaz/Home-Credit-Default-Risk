{
 "cells": [
  {
   "cell_type": "code",
   "execution_count": 1,
   "metadata": {
    "collapsed": true
   },
   "outputs": [],
   "source": [
    "model_name = \"my500_neptuneselected_meta\""
   ]
  },
  {
   "cell_type": "code",
   "execution_count": 2,
   "metadata": {
    "collapsed": true
   },
   "outputs": [],
   "source": [
    "import numpy as np\n",
    "import pandas as pd\n",
    "import gc\n",
    "from time import time\n",
    "from contextlib import contextmanager\n",
    "from lightgbm import LGBMClassifier\n",
    "from sklearn.metrics import roc_auc_score, roc_curve\n",
    "from sklearn.model_selection import KFold, StratifiedKFold\n",
    "import matplotlib.pyplot as plt\n",
    "import seaborn as sns\n",
    "import warnings\n",
    "from sklearn.preprocessing import LabelEncoder,OneHotEncoder"
   ]
  },
  {
   "cell_type": "code",
   "execution_count": 3,
   "metadata": {},
   "outputs": [
    {
     "name": "stdout",
     "output_type": "stream",
     "text": [
      "Init... : 0.000196933746338 seconds\n"
     ]
    }
   ],
   "source": [
    "timesheet = [time()]\n",
    "def timer(statement):\n",
    "    global timesheet\n",
    "    timesheet.append(time())\n",
    "    print statement+\" :\", (timesheet[-1]-timesheet[-2]),\"seconds\"\n",
    "timer(\"Init...\")"
   ]
  },
  {
   "cell_type": "code",
   "execution_count": 4,
   "metadata": {
    "collapsed": true
   },
   "outputs": [],
   "source": [
    "def load_meta(directory, prefix, modeltype):\n",
    "    m_tr = pd.read_csv(directory+prefix+\"_train.csv\")\n",
    "    m_te = pd.read_csv(directory+prefix+\"_test.csv\")\n",
    "    data = pd.concat([m_tr, m_te], axis=0).reset_index(drop=True)\n",
    "    data.columns = [\"{}_{}_{}\".format(c, prefix, modeltype) if c!=\"SK_ID_CURR\" else c for c in data.columns]\n",
    "    return data\n",
    "\n",
    "def join_features(data, features):\n",
    "    for item in features:\n",
    "        data = data.merge(item, how = \"left\", on = \"SK_ID_CURR\")\n",
    "    return data\n",
    "\n",
    "def load_data(datafile):\n",
    "    global important_columns\n",
    "    colnames = [c.replace(\" \",\"_\") for c in pd.read_csv(datafile, nrows= 1).columns]\n",
    "    intersection = list(set(colnames).intersection(set(important_columns)))+[\"SK_ID_CURR\"]\n",
    "\n",
    "    df =  pd.read_csv(datafile, names = colnames, usecols = intersection, skiprows=1).dropna(axis=1, how=\"all\")\n",
    "    timer(\"Loaded {} with shape {} in \".format(datafile.split(\"/\")[-1], df.shape))\n",
    "    return df\n",
    "\n",
    "def load_neptune(directory, modelname):\n",
    "    m_tr = pd.read_csv(directory+\"lightGBM_out_of_fold_train_predictions.csv\", usecols = [\"SK_ID_CURR\",\"lightGBM_prediction\"])\n",
    "    m_te = pd.read_csv(directory+\"lightGBM_out_of_fold_test_predictions.csv\", usecols = [\"SK_ID_CURR\",\"lightGBM_prediction\"])\n",
    "    m_te = m_te.groupby(\"SK_ID_CURR\")[\"lightGBM_prediction\"].mean().reset_index()\n",
    "    \n",
    "    data = pd.concat([m_tr, m_te], axis=0).reset_index(drop=True)\n",
    "    data.columns = [\"SK_ID_CURR\", \"neptune_{}\".format(modelname)]\n",
    "    return data"
   ]
  },
  {
   "cell_type": "markdown",
   "metadata": {},
   "source": [
    "## Getting Feature Importance File"
   ]
  },
  {
   "cell_type": "code",
   "execution_count": 5,
   "metadata": {
    "collapsed": true
   },
   "outputs": [],
   "source": [
    "important_columns = pd.read_csv(\"../feature selector/importance/shap_importances.csv\")\n",
    "important_columns[\"feature\"] = important_columns[\"feature\"].apply(lambda x: x.replace(\" \",\"_\"))\n",
    "important_columns = important_columns.loc[important_columns.shapely_mean > 0.0].reset_index(drop=True)\n",
    "important_columns = important_columns.sort_values(by = \"shapely_mean\", ascending = False).reset_index(drop=True)\n",
    "important_columns = important_columns.loc[0:500].feature.values.tolist()"
   ]
  },
  {
   "cell_type": "markdown",
   "metadata": {},
   "source": [
    "## Loading Features"
   ]
  },
  {
   "cell_type": "code",
   "execution_count": 6,
   "metadata": {
    "scrolled": true
   },
   "outputs": [
    {
     "name": "stdout",
     "output_type": "stream",
     "text": [
      "Loaded application_features_V2.csv with shape (356255, 75) in  : 9.01802706718 seconds\n",
      "Loaded bureau_features_V1.csv with shape (305811, 84) in  : 10.341894865 seconds\n",
      "Loaded credit_card_features_V1.csv with shape (103558, 16) in  : 10.4254870415 seconds\n",
      "Loaded installment_features_V1.csv with shape (339587, 100) in  : 33.3528411388 seconds\n",
      "Loaded pos_cash_features_V1.csv with shape (337252, 48) in  : 20.9478387833 seconds\n",
      "Loaded previous_application_features_V1.csv with shape (338857, 93) in  : 22.0120661259 seconds\n",
      "Loaded credit_card_features_V3.csv with shape (103558, 6) in  : 16.8840138912 seconds\n",
      "Loaded installment_features_V3.csv with shape (339587, 69) in  : 27.695759058 seconds\n",
      "Loaded pos_cash_features_V3.csv with shape (337252, 11) in  : 6.98300004005 seconds\n",
      "Loaded previous_application_features_V3.csv with shape (338857, 9) in  : 8.40434503555 seconds\n"
     ]
    }
   ],
   "source": [
    "applications = load_data(\"../extractor/csv/application_features_V2.csv\")\n",
    "bureau_balance_bb = load_data(\"../extractor/csv/bureau_features_V1.csv\")\n",
    "credit_card_balance = load_data(\"../extractor/csv/credit_card_features_V1.csv\")\n",
    "installment_features = load_data(\"../extractor/csv/installment_features_V1.csv\")\n",
    "pos_cash_balance = load_data(\"../extractor/csv/pos_cash_features_V1.csv\")\n",
    "previous_apps = load_data(\"../extractor/csv/previous_application_features_V1.csv\")\n",
    "\n",
    "credit_card_balance_v3 = load_data(\"../extractor/csv/credit_card_features_V3.csv\")\n",
    "installment_features_v3 = load_data(\"../extractor/csv/installment_features_V3.csv\")\n",
    "pos_cash_balance_v3 = load_data(\"../extractor/csv/pos_cash_features_V3.csv\")\n",
    "previous_apps_v3 = load_data(\"../extractor/csv/previous_application_features_V3.csv\")\n",
    "\n",
    "base_features = [applications, bureau_balance_bb, credit_card_balance, installment_features, pos_cash_balance,previous_apps, credit_card_balance_v3,installment_features_v3,pos_cash_balance_v3, previous_apps_v3]"
   ]
  },
  {
   "cell_type": "code",
   "execution_count": 7,
   "metadata": {
    "collapsed": true
   },
   "outputs": [],
   "source": [
    "neptune_features = [\n",
    "    load_neptune(\"../base neptune/m1/csv/\", \"m1\"),\n",
    "    load_neptune(\"../base neptune/m2/csv/\", \"m2\"),\n",
    "    load_neptune(\"../base neptune/m3/csv/\", \"m3\"),\n",
    "    load_neptune(\"../base neptune/m4/csv/\", \"m4\"),\n",
    "]"
   ]
  },
  {
   "cell_type": "markdown",
   "metadata": {},
   "source": [
    "## Joining All Files"
   ]
  },
  {
   "cell_type": "code",
   "execution_count": 8,
   "metadata": {
    "collapsed": true
   },
   "outputs": [],
   "source": [
    "train = pd.read_csv(\"../data/application_train.csv\", usecols = [\"SK_ID_CURR\",\"TARGET\"])\n",
    "test = pd.read_csv(\"../data/application_test.csv\", usecols = [\"SK_ID_CURR\"])\n",
    "\n",
    "neptune_train = pd.read_csv(\"../neptune extractor/data/train.csv\")\n",
    "neptune_test = pd.read_csv(\"../neptune extractor/data/test.csv\")\n",
    "\n",
    "train = pd.concat([train, neptune_train], axis=1)\n",
    "test = pd.concat([test, neptune_test], axis=1)\n",
    "\n",
    "del neptune_train, neptune_test\n",
    "gc.collect()\n",
    "\n",
    "data = pd.concat([train, test], axis=0).reset_index(drop=True)\n",
    "data = join_features(data, base_features)\n",
    "data = join_features(data, neptune_features)\n",
    "del base_features,applications, bureau_balance_bb, credit_card_balance, installment_features, pos_cash_balance,previous_apps, credit_card_balance_v3,installment_features_v3,pos_cash_balance_v3, previous_apps_v3\n",
    "gc.collect()\n",
    "\n",
    "train = data.loc[data.TARGET.notnull()].reset_index(drop=True)\n",
    "test = data.loc[data.TARGET.isnull()].reset_index(drop=True)\n",
    "\n",
    "train_id = train[[\"SK_ID_CURR\"]]\n",
    "test_id = test[[\"SK_ID_CURR\"]]\n",
    "test_id_rank = test[[\"SK_ID_CURR\"]]\n",
    "target =train.TARGET\n",
    "\n",
    "train.drop([\"SK_ID_CURR\", \"TARGET\"], axis=1, inplace=True)\n",
    "test.drop([\"SK_ID_CURR\",\"TARGET\"], axis=1, inplace = True)"
   ]
  },
  {
   "cell_type": "markdown",
   "metadata": {},
   "source": [
    "# Defining Model"
   ]
  },
  {
   "cell_type": "code",
   "execution_count": 11,
   "metadata": {
    "collapsed": true
   },
   "outputs": [],
   "source": [
    "import lightgbm as lgb\n",
    "def model_tree(x_train, x_test, y_train, y_test, test, meta_train, meta_test,train_index, test_index,fold_id):\n",
    "    dtrain = lgb.Dataset(x_train, label=y_train)\n",
    "    dval = lgb.Dataset(x_test, label=y_test)\n",
    "    params = {\n",
    "        'num_leaves': 33, #32\n",
    "        'reg_alpha': 0.0, \n",
    "        'colsample_bytree': 0.05, \n",
    "        'subsample_freq': 1, \n",
    "        'learning_rate': 0.02, # 0.02\n",
    "        'boosting_type': 'gbdt', \n",
    "        'nthread': 8, \n",
    "        'min_split_gain': 0.5, \n",
    "        'n_estimators': 10000, \n",
    "        'subsample': 1, \n",
    "        'reg_lambda': 100, \n",
    "        'objective': \"binary\", \n",
    "        'min_child_samples': 70, \n",
    "        'max_depth': -1,\n",
    "        'class_weight': None,\n",
    "        \"bagging_seed\" : 3143,\n",
    "        \"seed\":1343,\n",
    "        \"metric\":\"auc\",\n",
    "        \"is_unbalance\": False,\n",
    "        \"scale_pos_weight\": 1,\n",
    "        \"max_bin\":300\n",
    "    }\n",
    "    model = lgb.train(params, dtrain, num_boost_round=5000,valid_sets=[dtrain, dval], early_stopping_rounds=200, verbose_eval=100)\n",
    "    meta_train[test_index] = model.predict(x_test, num_iteration=model.best_iteration or 5000)\n",
    "    meta_test.append(model.predict(test, num_iteration=model.best_iteration or 5000))\n",
    "    \n",
    "    global fold_roc\n",
    "    fold_roc.append(roc_auc_score(y_test, meta_train[test_index]))\n",
    "    # Calculate Feature Importance\n",
    "    global feature_importance\n",
    "    gain = model.feature_importance('gain')\n",
    "    fold_feature_importance = pd.DataFrame({'feature':model.feature_name(), 'split':model.feature_importance('split'), 'gain':100 * gain / gain.sum()})\n",
    "    feature_importance = feature_importance.append(fold_feature_importance, ignore_index=True) "
   ]
  },
  {
   "cell_type": "markdown",
   "metadata": {},
   "source": [
    "# Training Model"
   ]
  },
  {
   "cell_type": "code",
   "execution_count": 12,
   "metadata": {
    "scrolled": true
   },
   "outputs": [
    {
     "name": "stdout",
     "output_type": "stream",
     "text": [
      "Training until validation scores don't improve for 200 rounds.\n",
      "[100]\ttraining's auc: 0.777981\tvalid_1's auc: 0.765357\n",
      "[200]\ttraining's auc: 0.791706\tvalid_1's auc: 0.775022\n",
      "[300]\ttraining's auc: 0.802534\tvalid_1's auc: 0.781923\n",
      "[400]\ttraining's auc: 0.810259\tvalid_1's auc: 0.785686\n",
      "[500]\ttraining's auc: 0.81644\tvalid_1's auc: 0.787352\n",
      "[600]\ttraining's auc: 0.82189\tvalid_1's auc: 0.788664\n",
      "[700]\ttraining's auc: 0.826771\tvalid_1's auc: 0.789474\n",
      "[800]\ttraining's auc: 0.831356\tvalid_1's auc: 0.79005\n",
      "[900]\ttraining's auc: 0.835653\tvalid_1's auc: 0.790431\n",
      "[1000]\ttraining's auc: 0.839638\tvalid_1's auc: 0.790673\n",
      "[1100]\ttraining's auc: 0.843556\tvalid_1's auc: 0.790796\n",
      "[1200]\ttraining's auc: 0.847163\tvalid_1's auc: 0.790877\n",
      "[1300]\ttraining's auc: 0.850679\tvalid_1's auc: 0.790844\n",
      "[1400]\ttraining's auc: 0.853927\tvalid_1's auc: 0.790865\n",
      "[1500]\ttraining's auc: 0.857081\tvalid_1's auc: 0.790911\n",
      "[1600]\ttraining's auc: 0.860193\tvalid_1's auc: 0.790965\n",
      "[1700]\ttraining's auc: 0.863099\tvalid_1's auc: 0.790945\n",
      "[1800]\ttraining's auc: 0.865997\tvalid_1's auc: 0.790905\n",
      "Early stopping, best iteration is:\n",
      "[1645]\ttraining's auc: 0.861506\tvalid_1's auc: 0.790981\n",
      "Training until validation scores don't improve for 200 rounds.\n",
      "[100]\ttraining's auc: 0.776872\tvalid_1's auc: 0.776837\n",
      "[200]\ttraining's auc: 0.790736\tvalid_1's auc: 0.785763\n",
      "[300]\ttraining's auc: 0.801544\tvalid_1's auc: 0.792353\n",
      "[400]\ttraining's auc: 0.809332\tvalid_1's auc: 0.796028\n",
      "[500]\ttraining's auc: 0.81559\tvalid_1's auc: 0.79787\n",
      "[600]\ttraining's auc: 0.821012\tvalid_1's auc: 0.799106\n",
      "[700]\ttraining's auc: 0.825938\tvalid_1's auc: 0.799666\n",
      "[800]\ttraining's auc: 0.830574\tvalid_1's auc: 0.800148\n",
      "[900]\ttraining's auc: 0.83483\tvalid_1's auc: 0.80042\n",
      "[1000]\ttraining's auc: 0.838842\tvalid_1's auc: 0.800601\n",
      "[1100]\ttraining's auc: 0.842708\tvalid_1's auc: 0.800793\n",
      "[1200]\ttraining's auc: 0.846368\tvalid_1's auc: 0.800867\n",
      "[1300]\ttraining's auc: 0.849857\tvalid_1's auc: 0.800981\n",
      "[1400]\ttraining's auc: 0.853147\tvalid_1's auc: 0.801095\n",
      "[1500]\ttraining's auc: 0.856314\tvalid_1's auc: 0.801156\n",
      "[1600]\ttraining's auc: 0.859481\tvalid_1's auc: 0.801031\n",
      "Early stopping, best iteration is:\n",
      "[1484]\ttraining's auc: 0.855834\tvalid_1's auc: 0.801181\n",
      "Training until validation scores don't improve for 200 rounds.\n",
      "[100]\ttraining's auc: 0.776885\tvalid_1's auc: 0.77622\n",
      "[200]\ttraining's auc: 0.790932\tvalid_1's auc: 0.784625\n",
      "[300]\ttraining's auc: 0.801802\tvalid_1's auc: 0.790701\n",
      "[400]\ttraining's auc: 0.80943\tvalid_1's auc: 0.794334\n",
      "[500]\ttraining's auc: 0.815675\tvalid_1's auc: 0.795992\n",
      "[600]\ttraining's auc: 0.821234\tvalid_1's auc: 0.797178\n",
      "[700]\ttraining's auc: 0.82619\tvalid_1's auc: 0.797706\n",
      "[800]\ttraining's auc: 0.830735\tvalid_1's auc: 0.798051\n",
      "[900]\ttraining's auc: 0.835131\tvalid_1's auc: 0.798227\n",
      "[1000]\ttraining's auc: 0.83916\tvalid_1's auc: 0.798511\n",
      "[1100]\ttraining's auc: 0.843002\tvalid_1's auc: 0.798641\n",
      "[1200]\ttraining's auc: 0.846727\tvalid_1's auc: 0.798734\n",
      "[1300]\ttraining's auc: 0.850305\tvalid_1's auc: 0.79873\n",
      "[1400]\ttraining's auc: 0.853605\tvalid_1's auc: 0.798674\n",
      "Early stopping, best iteration is:\n",
      "[1270]\ttraining's auc: 0.849236\tvalid_1's auc: 0.798823\n",
      "Training until validation scores don't improve for 200 rounds.\n",
      "[100]\ttraining's auc: 0.776266\tvalid_1's auc: 0.782094\n",
      "[200]\ttraining's auc: 0.790388\tvalid_1's auc: 0.790543\n",
      "[300]\ttraining's auc: 0.801383\tvalid_1's auc: 0.795942\n",
      "[400]\ttraining's auc: 0.809141\tvalid_1's auc: 0.799072\n",
      "[500]\ttraining's auc: 0.815376\tvalid_1's auc: 0.800656\n",
      "[600]\ttraining's auc: 0.820941\tvalid_1's auc: 0.801725\n",
      "[700]\ttraining's auc: 0.825899\tvalid_1's auc: 0.802334\n",
      "[800]\ttraining's auc: 0.830503\tvalid_1's auc: 0.802685\n",
      "[900]\ttraining's auc: 0.834848\tvalid_1's auc: 0.803043\n",
      "[1000]\ttraining's auc: 0.838922\tvalid_1's auc: 0.803311\n",
      "[1100]\ttraining's auc: 0.842756\tvalid_1's auc: 0.80339\n",
      "[1200]\ttraining's auc: 0.846387\tvalid_1's auc: 0.803431\n",
      "[1300]\ttraining's auc: 0.849889\tvalid_1's auc: 0.803545\n",
      "[1400]\ttraining's auc: 0.853286\tvalid_1's auc: 0.803432\n",
      "[1500]\ttraining's auc: 0.856468\tvalid_1's auc: 0.803415\n",
      "Early stopping, best iteration is:\n",
      "[1343]\ttraining's auc: 0.851363\tvalid_1's auc: 0.803547\n",
      "Training until validation scores don't improve for 200 rounds.\n",
      "[100]\ttraining's auc: 0.777545\tvalid_1's auc: 0.768561\n",
      "[200]\ttraining's auc: 0.791358\tvalid_1's auc: 0.778823\n",
      "[300]\ttraining's auc: 0.802071\tvalid_1's auc: 0.785614\n",
      "[400]\ttraining's auc: 0.809846\tvalid_1's auc: 0.789582\n",
      "[500]\ttraining's auc: 0.816095\tvalid_1's auc: 0.791298\n",
      "[600]\ttraining's auc: 0.821586\tvalid_1's auc: 0.792366\n",
      "[700]\ttraining's auc: 0.826627\tvalid_1's auc: 0.793093\n",
      "[800]\ttraining's auc: 0.831202\tvalid_1's auc: 0.793688\n",
      "[900]\ttraining's auc: 0.835495\tvalid_1's auc: 0.793999\n",
      "[1000]\ttraining's auc: 0.839506\tvalid_1's auc: 0.794076\n",
      "[1100]\ttraining's auc: 0.843313\tvalid_1's auc: 0.794361\n",
      "[1200]\ttraining's auc: 0.846999\tvalid_1's auc: 0.794414\n",
      "[1300]\ttraining's auc: 0.850467\tvalid_1's auc: 0.794342\n",
      "Early stopping, best iteration is:\n",
      "[1166]\ttraining's auc: 0.845808\tvalid_1's auc: 0.794448\n",
      "Training until validation scores don't improve for 200 rounds.\n",
      "[100]\ttraining's auc: 0.778133\tvalid_1's auc: 0.763225\n",
      "[200]\ttraining's auc: 0.792108\tvalid_1's auc: 0.772272\n",
      "[300]\ttraining's auc: 0.802848\tvalid_1's auc: 0.779576\n",
      "[400]\ttraining's auc: 0.810573\tvalid_1's auc: 0.782905\n",
      "[500]\ttraining's auc: 0.816766\tvalid_1's auc: 0.784629\n",
      "[600]\ttraining's auc: 0.82225\tvalid_1's auc: 0.785793\n",
      "[700]\ttraining's auc: 0.827141\tvalid_1's auc: 0.786302\n",
      "[800]\ttraining's auc: 0.831697\tvalid_1's auc: 0.786764\n",
      "[900]\ttraining's auc: 0.836051\tvalid_1's auc: 0.786993\n",
      "[1000]\ttraining's auc: 0.84008\tvalid_1's auc: 0.787052\n",
      "[1100]\ttraining's auc: 0.843932\tvalid_1's auc: 0.787192\n",
      "[1200]\ttraining's auc: 0.847571\tvalid_1's auc: 0.787196\n",
      "[1300]\ttraining's auc: 0.851114\tvalid_1's auc: 0.787168\n",
      "[1400]\ttraining's auc: 0.854456\tvalid_1's auc: 0.787363\n",
      "[1500]\ttraining's auc: 0.857652\tvalid_1's auc: 0.787394\n",
      "[1600]\ttraining's auc: 0.860732\tvalid_1's auc: 0.787372\n",
      "Early stopping, best iteration is:\n",
      "[1450]\ttraining's auc: 0.856083\tvalid_1's auc: 0.787472\n",
      "Training until validation scores don't improve for 200 rounds.\n",
      "[100]\ttraining's auc: 0.776595\tvalid_1's auc: 0.776547\n",
      "[200]\ttraining's auc: 0.790357\tvalid_1's auc: 0.787609\n",
      "[300]\ttraining's auc: 0.801187\tvalid_1's auc: 0.794384\n",
      "[400]\ttraining's auc: 0.808931\tvalid_1's auc: 0.798032\n",
      "[500]\ttraining's auc: 0.815196\tvalid_1's auc: 0.79993\n",
      "[600]\ttraining's auc: 0.820771\tvalid_1's auc: 0.801319\n",
      "[700]\ttraining's auc: 0.825735\tvalid_1's auc: 0.80219\n",
      "[800]\ttraining's auc: 0.830326\tvalid_1's auc: 0.8027\n",
      "[900]\ttraining's auc: 0.834697\tvalid_1's auc: 0.802994\n",
      "[1000]\ttraining's auc: 0.838634\tvalid_1's auc: 0.80323\n",
      "[1100]\ttraining's auc: 0.842574\tvalid_1's auc: 0.803458\n",
      "[1200]\ttraining's auc: 0.846255\tvalid_1's auc: 0.803508\n",
      "[1300]\ttraining's auc: 0.849729\tvalid_1's auc: 0.803591\n",
      "[1400]\ttraining's auc: 0.853019\tvalid_1's auc: 0.803565\n",
      "[1500]\ttraining's auc: 0.856315\tvalid_1's auc: 0.803577\n",
      "[1600]\ttraining's auc: 0.859358\tvalid_1's auc: 0.803604\n",
      "[1700]\ttraining's auc: 0.862347\tvalid_1's auc: 0.803667\n",
      "[1800]\ttraining's auc: 0.865223\tvalid_1's auc: 0.803873\n",
      "[1900]\ttraining's auc: 0.868043\tvalid_1's auc: 0.803908\n",
      "[2000]\ttraining's auc: 0.870771\tvalid_1's auc: 0.803976\n",
      "[2100]\ttraining's auc: 0.87332\tvalid_1's auc: 0.80389\n",
      "Early stopping, best iteration is:\n",
      "[1947]\ttraining's auc: 0.869331\tvalid_1's auc: 0.803998\n",
      "Training until validation scores don't improve for 200 rounds.\n",
      "[100]\ttraining's auc: 0.778486\tvalid_1's auc: 0.762626\n",
      "[200]\ttraining's auc: 0.791878\tvalid_1's auc: 0.771991\n",
      "[300]\ttraining's auc: 0.80269\tvalid_1's auc: 0.779786\n",
      "[400]\ttraining's auc: 0.810303\tvalid_1's auc: 0.784305\n",
      "[500]\ttraining's auc: 0.816372\tvalid_1's auc: 0.786529\n",
      "[600]\ttraining's auc: 0.82182\tvalid_1's auc: 0.788058\n",
      "[700]\ttraining's auc: 0.826714\tvalid_1's auc: 0.788994\n",
      "[800]\ttraining's auc: 0.83117\tvalid_1's auc: 0.789533\n",
      "[900]\ttraining's auc: 0.835436\tvalid_1's auc: 0.789899\n",
      "[1000]\ttraining's auc: 0.83948\tvalid_1's auc: 0.790169\n",
      "[1100]\ttraining's auc: 0.843299\tvalid_1's auc: 0.790384\n",
      "[1200]\ttraining's auc: 0.846923\tvalid_1's auc: 0.79056\n",
      "[1300]\ttraining's auc: 0.850454\tvalid_1's auc: 0.790741\n",
      "[1400]\ttraining's auc: 0.853676\tvalid_1's auc: 0.790865\n",
      "[1500]\ttraining's auc: 0.856913\tvalid_1's auc: 0.790828\n"
     ]
    },
    {
     "name": "stdout",
     "output_type": "stream",
     "text": [
      "[1600]\ttraining's auc: 0.860008\tvalid_1's auc: 0.790772\n",
      "Early stopping, best iteration is:\n",
      "[1450]\ttraining's auc: 0.85533\tvalid_1's auc: 0.79089\n",
      "Training until validation scores don't improve for 200 rounds.\n",
      "[100]\ttraining's auc: 0.777772\tvalid_1's auc: 0.768781\n",
      "[200]\ttraining's auc: 0.791491\tvalid_1's auc: 0.777163\n",
      "[300]\ttraining's auc: 0.802287\tvalid_1's auc: 0.783896\n",
      "[400]\ttraining's auc: 0.809973\tvalid_1's auc: 0.787797\n",
      "[500]\ttraining's auc: 0.816182\tvalid_1's auc: 0.789754\n",
      "[600]\ttraining's auc: 0.821696\tvalid_1's auc: 0.790988\n",
      "[700]\ttraining's auc: 0.826583\tvalid_1's auc: 0.791722\n",
      "[800]\ttraining's auc: 0.831264\tvalid_1's auc: 0.792258\n",
      "[900]\ttraining's auc: 0.835507\tvalid_1's auc: 0.792656\n",
      "[1000]\ttraining's auc: 0.839507\tvalid_1's auc: 0.793\n",
      "[1100]\ttraining's auc: 0.843362\tvalid_1's auc: 0.793151\n",
      "[1200]\ttraining's auc: 0.846918\tvalid_1's auc: 0.793253\n",
      "[1300]\ttraining's auc: 0.850514\tvalid_1's auc: 0.793351\n",
      "[1400]\ttraining's auc: 0.853857\tvalid_1's auc: 0.793421\n",
      "[1500]\ttraining's auc: 0.857102\tvalid_1's auc: 0.793339\n",
      "Early stopping, best iteration is:\n",
      "[1388]\ttraining's auc: 0.853481\tvalid_1's auc: 0.793443\n",
      "Training until validation scores don't improve for 200 rounds.\n",
      "[100]\ttraining's auc: 0.77731\tvalid_1's auc: 0.77124\n",
      "[200]\ttraining's auc: 0.79101\tvalid_1's auc: 0.780636\n",
      "[300]\ttraining's auc: 0.801735\tvalid_1's auc: 0.787977\n",
      "[400]\ttraining's auc: 0.809399\tvalid_1's auc: 0.792281\n",
      "[500]\ttraining's auc: 0.815534\tvalid_1's auc: 0.794702\n",
      "[600]\ttraining's auc: 0.821008\tvalid_1's auc: 0.796215\n",
      "[700]\ttraining's auc: 0.826011\tvalid_1's auc: 0.797329\n",
      "[800]\ttraining's auc: 0.830664\tvalid_1's auc: 0.798023\n",
      "[900]\ttraining's auc: 0.835042\tvalid_1's auc: 0.798537\n",
      "[1000]\ttraining's auc: 0.839056\tvalid_1's auc: 0.79874\n",
      "[1100]\ttraining's auc: 0.842914\tvalid_1's auc: 0.798922\n",
      "[1200]\ttraining's auc: 0.846613\tvalid_1's auc: 0.799078\n",
      "[1300]\ttraining's auc: 0.850156\tvalid_1's auc: 0.799079\n",
      "[1400]\ttraining's auc: 0.853476\tvalid_1's auc: 0.79932\n",
      "[1500]\ttraining's auc: 0.856731\tvalid_1's auc: 0.799266\n",
      "[1600]\ttraining's auc: 0.859826\tvalid_1's auc: 0.799283\n",
      "Early stopping, best iteration is:\n",
      "[1421]\ttraining's auc: 0.854178\tvalid_1's auc: 0.799394\n"
     ]
    },
    {
     "name": "stderr",
     "output_type": "stream",
     "text": [
      "/home/sakhtar0092/anaconda2/lib/python2.7/site-packages/ipykernel_launcher.py:13: SettingWithCopyWarning: \n",
      "A value is trying to be set on a copy of a slice from a DataFrame.\n",
      "Try using .loc[row_indexer,col_indexer] = value instead\n",
      "\n",
      "See the caveats in the documentation: http://pandas.pydata.org/pandas-docs/stable/indexing.html#indexing-view-versus-copy\n",
      "  del sys.path[0]\n",
      "/home/sakhtar0092/anaconda2/lib/python2.7/site-packages/ipykernel_launcher.py:14: SettingWithCopyWarning: \n",
      "A value is trying to be set on a copy of a slice from a DataFrame.\n",
      "Try using .loc[row_indexer,col_indexer] = value instead\n",
      "\n",
      "See the caveats in the documentation: http://pandas.pydata.org/pandas-docs/stable/indexing.html#indexing-view-versus-copy\n",
      "  \n"
     ]
    },
    {
     "name": "stdout",
     "output_type": "stream",
     "text": [
      "Overall ROC: 0.79636966673,  Mean ROC: 0.796417752998, STD AUC: 0.00546344808024\n"
     ]
    },
    {
     "name": "stderr",
     "output_type": "stream",
     "text": [
      "/home/sakhtar0092/anaconda2/lib/python2.7/site-packages/ipykernel_launcher.py:15: SettingWithCopyWarning: \n",
      "A value is trying to be set on a copy of a slice from a DataFrame.\n",
      "Try using .loc[row_indexer,col_indexer] = value instead\n",
      "\n",
      "See the caveats in the documentation: http://pandas.pydata.org/pandas-docs/stable/indexing.html#indexing-view-versus-copy\n",
      "  from ipykernel import kernelapp as app\n"
     ]
    }
   ],
   "source": [
    "meta_train = np.zeros(train.shape[0])\n",
    "meta_test = []\n",
    "feature_importance = pd.DataFrame(columns = [\"feature\",\"split\",\"gain\"])\n",
    "fold_roc = []\n",
    "\n",
    "kf = StratifiedKFold(n_splits= 10, shuffle=True, random_state=47)\n",
    "for fold_id, (train_index, test_index) in enumerate(kf.split(train, target)):\n",
    "    x_train, x_test = train.iloc[train_index], train.iloc[test_index]\n",
    "    y_train, y_test = target[train_index], target[test_index]\n",
    "\n",
    "    model_tree(x_train, x_test, y_train, y_test, test, meta_train, meta_test,train_index, test_index,fold_id)\n",
    "\n",
    "test_id[\"TARGET\"] = np.array(meta_test).T.mean(axis=1)\n",
    "test_id_rank[\"TARGET\"] = pd.DataFrame(np.array(meta_test).T).rank(pct = True).mean(axis=1)\n",
    "train_id[\"TARGET\"] = meta_train\n",
    "\n",
    "print \"Overall ROC: {},  Mean ROC: {}, STD AUC: {}\".format(roc_auc_score(target, meta_train), np.mean(fold_roc), np.std(fold_roc))"
   ]
  },
  {
   "cell_type": "code",
   "execution_count": 13,
   "metadata": {},
   "outputs": [
    {
     "data": {
      "text/plain": [
       "[0.7909804784245346,\n",
       " 0.8011806970337201,\n",
       " 0.7988233461662906,\n",
       " 0.8035471800054728,\n",
       " 0.7944481279164768,\n",
       " 0.7874717991470741,\n",
       " 0.8039978121233317,\n",
       " 0.7908902353632157,\n",
       " 0.7934434280291995,\n",
       " 0.7993944257718828]"
      ]
     },
     "execution_count": 13,
     "metadata": {},
     "output_type": "execute_result"
    }
   ],
   "source": [
    "fold_roc"
   ]
  },
  {
   "cell_type": "code",
   "execution_count": 14,
   "metadata": {
    "collapsed": true
   },
   "outputs": [],
   "source": [
    "train_id.to_csv(\"csv/{}_train.csv\".format(model_name), index=False)\n",
    "test_id.to_csv(\"csv/{}_test.csv\".format(model_name), index=False)\n",
    "test_id_rank.to_csv(\"csv/{}_rank_test.csv\".format(model_name), index=False)"
   ]
  },
  {
   "cell_type": "code",
   "execution_count": null,
   "metadata": {
    "collapsed": true
   },
   "outputs": [],
   "source": []
  },
  {
   "cell_type": "code",
   "execution_count": null,
   "metadata": {
    "collapsed": true
   },
   "outputs": [],
   "source": []
  },
  {
   "cell_type": "code",
   "execution_count": null,
   "metadata": {
    "collapsed": true
   },
   "outputs": [],
   "source": []
  },
  {
   "cell_type": "code",
   "execution_count": null,
   "metadata": {
    "collapsed": true
   },
   "outputs": [],
   "source": []
  },
  {
   "cell_type": "code",
   "execution_count": null,
   "metadata": {
    "collapsed": true
   },
   "outputs": [],
   "source": []
  },
  {
   "cell_type": "code",
   "execution_count": null,
   "metadata": {
    "collapsed": true
   },
   "outputs": [],
   "source": []
  },
  {
   "cell_type": "code",
   "execution_count": null,
   "metadata": {
    "collapsed": true
   },
   "outputs": [],
   "source": []
  },
  {
   "cell_type": "code",
   "execution_count": null,
   "metadata": {
    "collapsed": true
   },
   "outputs": [],
   "source": [
    "-"
   ]
  }
 ],
 "metadata": {
  "kernelspec": {
   "display_name": "Python 2",
   "language": "python",
   "name": "python2"
  },
  "language_info": {
   "codemirror_mode": {
    "name": "ipython",
    "version": 2
   },
   "file_extension": ".py",
   "mimetype": "text/x-python",
   "name": "python",
   "nbconvert_exporter": "python",
   "pygments_lexer": "ipython2",
   "version": "2.7.14"
  }
 },
 "nbformat": 4,
 "nbformat_minor": 2
}
