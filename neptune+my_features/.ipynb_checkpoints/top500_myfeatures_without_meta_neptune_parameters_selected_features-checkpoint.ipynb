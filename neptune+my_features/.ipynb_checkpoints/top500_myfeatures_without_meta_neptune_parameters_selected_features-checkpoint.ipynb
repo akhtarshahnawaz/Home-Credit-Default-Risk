{
 "cells": [
  {
   "cell_type": "code",
   "execution_count": 1,
   "metadata": {
    "collapsed": true
   },
   "outputs": [],
   "source": [
    "model_name = \"top500_myfeatures_without_meta_neptune_parameters_selected_features\""
   ]
  },
  {
   "cell_type": "code",
   "execution_count": 2,
   "metadata": {
    "collapsed": true
   },
   "outputs": [],
   "source": [
    "import numpy as np\n",
    "import pandas as pd\n",
    "import gc\n",
    "from time import time\n",
    "from contextlib import contextmanager\n",
    "from lightgbm import LGBMClassifier\n",
    "from sklearn.metrics import roc_auc_score, roc_curve\n",
    "from sklearn.model_selection import KFold, StratifiedKFold\n",
    "import matplotlib.pyplot as plt\n",
    "import seaborn as sns\n",
    "import warnings\n",
    "from sklearn.preprocessing import LabelEncoder,OneHotEncoder"
   ]
  },
  {
   "cell_type": "code",
   "execution_count": 3,
   "metadata": {},
   "outputs": [
    {
     "name": "stdout",
     "output_type": "stream",
     "text": [
      "Init... : 0.000194072723389 seconds\n"
     ]
    }
   ],
   "source": [
    "timesheet = [time()]\n",
    "def timer(statement):\n",
    "    global timesheet\n",
    "    timesheet.append(time())\n",
    "    print statement+\" :\", (timesheet[-1]-timesheet[-2]),\"seconds\"\n",
    "timer(\"Init...\")"
   ]
  },
  {
   "cell_type": "code",
   "execution_count": 4,
   "metadata": {
    "collapsed": true
   },
   "outputs": [],
   "source": [
    "def load_meta(directory, prefix, modeltype):\n",
    "    m_tr = pd.read_csv(directory+prefix+\"_train.csv\")\n",
    "    m_te = pd.read_csv(directory+prefix+\"_test.csv\")\n",
    "    data = pd.concat([m_tr, m_te], axis=0).reset_index(drop=True)\n",
    "    data.columns = [\"{}_{}_{}\".format(c, prefix, modeltype) if c!=\"SK_ID_CURR\" else c for c in data.columns]\n",
    "    return data\n",
    "\n",
    "def join_features(data, features):\n",
    "    for item in features:\n",
    "        data = data.merge(item, how = \"left\", on = \"SK_ID_CURR\")\n",
    "    return data\n",
    "\n",
    "def load_data(datafile):\n",
    "    global important_columns\n",
    "    colnames = [c.replace(\" \",\"_\") for c in pd.read_csv(datafile, nrows= 1).columns]\n",
    "    intersection = list(set(colnames).intersection(set(important_columns)))+[\"SK_ID_CURR\"]\n",
    "\n",
    "    df =  pd.read_csv(datafile, names = colnames, usecols = intersection, skiprows=1).dropna(axis=1, how=\"all\")\n",
    "    timer(\"Loaded {} with shape {} in \".format(datafile.split(\"/\")[-1], df.shape))\n",
    "    return df"
   ]
  },
  {
   "cell_type": "markdown",
   "metadata": {},
   "source": [
    "## Getting Feature Importance File"
   ]
  },
  {
   "cell_type": "code",
   "execution_count": 5,
   "metadata": {
    "collapsed": true
   },
   "outputs": [],
   "source": [
    "important_columns = pd.read_csv(\"../feature selector/importance/shap_importances.csv\")\n",
    "important_columns[\"feature\"] = important_columns[\"feature\"].apply(lambda x: x.replace(\" \",\"_\"))\n",
    "important_columns = important_columns.loc[important_columns.shapely_mean > 0.0].reset_index(drop=True)\n",
    "important_columns = important_columns.sort_values(by = \"shapely_mean\", ascending = False).reset_index(drop=True)\n",
    "important_columns = important_columns.loc[0:500].feature.values.tolist()\n",
    "\n",
    "\n",
    "important_columns_neptune = pd.read_csv(\"../feature selector/importance/shap_importances_neptune_features.csv\")\n",
    "important_columns_neptune[\"feature\"] = important_columns_neptune[\"feature\"].apply(lambda x: x.replace(\" \",\"_\"))\n",
    "important_columns_neptune = important_columns_neptune.loc[important_columns_neptune.shapely_mean > 0.0].reset_index(drop=True)\n",
    "important_columns_neptune = important_columns_neptune.sort_values(by = \"shapely_mean\", ascending = False).reset_index(drop=True)\n",
    "important_columns_neptune = important_columns_neptune.feature.values.tolist()"
   ]
  },
  {
   "cell_type": "markdown",
   "metadata": {},
   "source": [
    "## Loading Features"
   ]
  },
  {
   "cell_type": "code",
   "execution_count": 6,
   "metadata": {
    "scrolled": true
   },
   "outputs": [
    {
     "name": "stdout",
     "output_type": "stream",
     "text": [
      "Loaded application_features_V2.csv with shape (356255, 75) in  : 8.24644303322 seconds\n",
      "Loaded bureau_features_V1.csv with shape (305811, 84) in  : 10.4484648705 seconds\n",
      "Loaded credit_card_features_V1.csv with shape (103558, 16) in  : 10.4234790802 seconds\n",
      "Loaded installment_features_V1.csv with shape (339587, 100) in  : 33.1940031052 seconds\n",
      "Loaded pos_cash_features_V1.csv with shape (337252, 48) in  : 21.1468048096 seconds\n",
      "Loaded previous_application_features_V1.csv with shape (338857, 93) in  : 22.1169970036 seconds\n",
      "Loaded credit_card_features_V3.csv with shape (103558, 6) in  : 17.1201350689 seconds\n",
      "Loaded installment_features_V3.csv with shape (339587, 69) in  : 28.0712220669 seconds\n",
      "Loaded pos_cash_features_V3.csv with shape (337252, 11) in  : 7.09369492531 seconds\n",
      "Loaded previous_application_features_V3.csv with shape (338857, 9) in  : 8.54292702675 seconds\n"
     ]
    }
   ],
   "source": [
    "applications = load_data(\"../extractor/csv/application_features_V2.csv\")\n",
    "bureau_balance_bb = load_data(\"../extractor/csv/bureau_features_V1.csv\")\n",
    "credit_card_balance = load_data(\"../extractor/csv/credit_card_features_V1.csv\")\n",
    "installment_features = load_data(\"../extractor/csv/installment_features_V1.csv\")\n",
    "pos_cash_balance = load_data(\"../extractor/csv/pos_cash_features_V1.csv\")\n",
    "previous_apps = load_data(\"../extractor/csv/previous_application_features_V1.csv\")\n",
    "\n",
    "credit_card_balance_v3 = load_data(\"../extractor/csv/credit_card_features_V3.csv\")\n",
    "installment_features_v3 = load_data(\"../extractor/csv/installment_features_V3.csv\")\n",
    "pos_cash_balance_v3 = load_data(\"../extractor/csv/pos_cash_features_V3.csv\")\n",
    "previous_apps_v3 = load_data(\"../extractor/csv/previous_application_features_V3.csv\")\n",
    "\n",
    "base_features = [applications, bureau_balance_bb, credit_card_balance, installment_features, pos_cash_balance,previous_apps, credit_card_balance_v3,installment_features_v3,pos_cash_balance_v3, previous_apps_v3]"
   ]
  },
  {
   "cell_type": "markdown",
   "metadata": {},
   "source": [
    "## Joining All Files"
   ]
  },
  {
   "cell_type": "code",
   "execution_count": 7,
   "metadata": {
    "collapsed": true
   },
   "outputs": [],
   "source": [
    "train = pd.read_csv(\"../data/application_train.csv\", usecols = [\"SK_ID_CURR\",\"TARGET\"])\n",
    "test = pd.read_csv(\"../data/application_test.csv\", usecols = [\"SK_ID_CURR\"])\n",
    "\n",
    "neptune_train = pd.read_csv(\"../neptune extractor/data/train.csv\", usecols = important_columns_neptune)\n",
    "neptune_test = pd.read_csv(\"../neptune extractor/data/test.csv\", usecols = important_columns_neptune)\n",
    "\n",
    "train = pd.concat([train, neptune_train], axis=1)\n",
    "test = pd.concat([test, neptune_test], axis=1)\n",
    "\n",
    "del neptune_train, neptune_test\n",
    "gc.collect()\n",
    "\n",
    "data = pd.concat([train, test], axis=0).reset_index(drop=True)\n",
    "data = join_features(data, base_features)\n",
    "del base_features,applications, bureau_balance_bb, credit_card_balance, installment_features, pos_cash_balance,previous_apps, credit_card_balance_v3,installment_features_v3,pos_cash_balance_v3, previous_apps_v3\n",
    "gc.collect()\n",
    "\n",
    "train = data.loc[data.TARGET.notnull()].reset_index(drop=True)\n",
    "test = data.loc[data.TARGET.isnull()].reset_index(drop=True)\n",
    "\n",
    "train_id = train[[\"SK_ID_CURR\"]]\n",
    "test_id = test[[\"SK_ID_CURR\"]]\n",
    "test_id_rank = test[[\"SK_ID_CURR\"]]\n",
    "target =train.TARGET\n",
    "\n",
    "train.drop([\"SK_ID_CURR\", \"TARGET\"], axis=1, inplace=True)\n",
    "test.drop([\"SK_ID_CURR\",\"TARGET\"], axis=1, inplace = True)"
   ]
  },
  {
   "cell_type": "markdown",
   "metadata": {},
   "source": [
    "# Defining Model"
   ]
  },
  {
   "cell_type": "code",
   "execution_count": null,
   "metadata": {
    "collapsed": true
   },
   "outputs": [],
   "source": [
    "import lightgbm as lgb\n",
    "def model_tree(x_train, x_test, y_train, y_test, test, meta_train, meta_test,train_index, test_index,fold_id):\n",
    "    dtrain = lgb.Dataset(x_train, label=y_train)\n",
    "    dval = lgb.Dataset(x_test, label=y_test)\n",
    "    params = {\n",
    "        'num_leaves': 30, #32\n",
    "        'reg_alpha': 0.0, \n",
    "        'colsample_bytree': 0.05, \n",
    "        'subsample_freq': 1, \n",
    "        'learning_rate': 0.02, # 0.02\n",
    "        'boosting_type': 'gbdt', \n",
    "        'nthread': 16, \n",
    "        'min_split_gain': 0.5, \n",
    "        'n_estimators': 10000, \n",
    "        'subsample': 1, \n",
    "        'reg_lambda': 100, \n",
    "        'objective': \"binary\", \n",
    "        'min_child_samples': 70, \n",
    "        'max_depth': -1,\n",
    "        'class_weight': None,\n",
    "        \"bagging_seed\" : 3143,\n",
    "        \"seed\":1343,\n",
    "        \"metric\":\"auc\",\n",
    "        \"is_unbalance\": False,\n",
    "        \"scale_pos_weight\": 1,\n",
    "        \"max_bin\":300\n",
    "    }\n",
    "    model = lgb.train(params, dtrain, num_boost_round=5000,valid_sets=[dtrain, dval], early_stopping_rounds=100, verbose_eval=100)\n",
    "    meta_train[test_index] = model.predict(x_test, num_iteration=model.best_iteration or 5000)\n",
    "    meta_test.append(model.predict(test, num_iteration=model.best_iteration or 5000))\n",
    "    \n",
    "    global fold_roc\n",
    "    fold_roc.append(roc_auc_score(y_test, meta_train[test_index]))\n",
    "    # Calculate Feature Importance\n",
    "    global feature_importance\n",
    "    gain = model.feature_importance('gain')\n",
    "    fold_feature_importance = pd.DataFrame({'feature':model.feature_name(), 'split':model.feature_importance('split'), 'gain':100 * gain / gain.sum()})\n",
    "    feature_importance = feature_importance.append(fold_feature_importance, ignore_index=True) "
   ]
  },
  {
   "cell_type": "markdown",
   "metadata": {},
   "source": [
    "# Training Model"
   ]
  },
  {
   "cell_type": "code",
   "execution_count": null,
   "metadata": {
    "scrolled": true
   },
   "outputs": [
    {
     "name": "stderr",
     "output_type": "stream",
     "text": [
      "/home/sakhtar0092/anaconda2/lib/python2.7/site-packages/lightgbm/engine.py:99: UserWarning: Found `n_estimators` in params. Will use it instead of argument\n",
      "  warnings.warn(\"Found `{}` in params. Will use it instead of argument\".format(alias))\n"
     ]
    },
    {
     "name": "stdout",
     "output_type": "stream",
     "text": [
      "Training until validation scores don't improve for 100 rounds.\n",
      "[100]\ttraining's auc: 0.757293\tvalid_1's auc: 0.753131\n",
      "[200]\ttraining's auc: 0.778447\tvalid_1's auc: 0.767729\n",
      "[300]\ttraining's auc: 0.793469\tvalid_1's auc: 0.777753\n",
      "[400]\ttraining's auc: 0.804097\tvalid_1's auc: 0.783811\n",
      "[500]\ttraining's auc: 0.812424\tvalid_1's auc: 0.787579\n",
      "[600]\ttraining's auc: 0.819166\tvalid_1's auc: 0.789974\n",
      "[700]\ttraining's auc: 0.825259\tvalid_1's auc: 0.791705\n",
      "[800]\ttraining's auc: 0.830823\tvalid_1's auc: 0.793086\n",
      "[900]\ttraining's auc: 0.835839\tvalid_1's auc: 0.794021\n",
      "[1000]\ttraining's auc: 0.84052\tvalid_1's auc: 0.794824\n",
      "[1100]\ttraining's auc: 0.8449\tvalid_1's auc: 0.7954\n",
      "[1200]\ttraining's auc: 0.849204\tvalid_1's auc: 0.795929\n",
      "[1300]\ttraining's auc: 0.853164\tvalid_1's auc: 0.796377\n",
      "[1400]\ttraining's auc: 0.856965\tvalid_1's auc: 0.796681\n",
      "[1500]\ttraining's auc: 0.860623\tvalid_1's auc: 0.796914\n",
      "[1600]\ttraining's auc: 0.8641\tvalid_1's auc: 0.797168\n",
      "[1700]\ttraining's auc: 0.867358\tvalid_1's auc: 0.797513\n",
      "[1800]\ttraining's auc: 0.870559\tvalid_1's auc: 0.797693\n",
      "[1900]\ttraining's auc: 0.873588\tvalid_1's auc: 0.797686\n",
      "[2000]\ttraining's auc: 0.876518\tvalid_1's auc: 0.797817\n",
      "[2100]\ttraining's auc: 0.879355\tvalid_1's auc: 0.797904\n",
      "[2200]\ttraining's auc: 0.882094\tvalid_1's auc: 0.797966\n",
      "[2300]\ttraining's auc: 0.884702\tvalid_1's auc: 0.797936\n",
      "Early stopping, best iteration is:\n",
      "[2235]\ttraining's auc: 0.882994\tvalid_1's auc: 0.797976\n",
      "Training until validation scores don't improve for 100 rounds.\n",
      "[100]\ttraining's auc: 0.758955\tvalid_1's auc: 0.74471\n",
      "[200]\ttraining's auc: 0.77966\tvalid_1's auc: 0.761154\n",
      "[300]\ttraining's auc: 0.794464\tvalid_1's auc: 0.77137\n",
      "[400]\ttraining's auc: 0.804785\tvalid_1's auc: 0.777805\n",
      "[500]\ttraining's auc: 0.812993\tvalid_1's auc: 0.781877\n",
      "[600]\ttraining's auc: 0.81976\tvalid_1's auc: 0.784545\n",
      "[700]\ttraining's auc: 0.825867\tvalid_1's auc: 0.786678\n",
      "[800]\ttraining's auc: 0.831298\tvalid_1's auc: 0.788266\n",
      "[900]\ttraining's auc: 0.836379\tvalid_1's auc: 0.789511\n",
      "[1000]\ttraining's auc: 0.841164\tvalid_1's auc: 0.790447\n",
      "[1100]\ttraining's auc: 0.845608\tvalid_1's auc: 0.791213\n",
      "[1200]\ttraining's auc: 0.849878\tvalid_1's auc: 0.791948\n",
      "[1300]\ttraining's auc: 0.853924\tvalid_1's auc: 0.792465\n"
     ]
    }
   ],
   "source": [
    "meta_train = np.zeros(train.shape[0])\n",
    "meta_test = []\n",
    "feature_importance = pd.DataFrame(columns = [\"feature\",\"split\",\"gain\"])\n",
    "fold_roc = []\n",
    "\n",
    "kf = StratifiedKFold(n_splits= 5, shuffle=True, random_state=24344)\n",
    "for fold_id, (train_index, test_index) in enumerate(kf.split(train, target)):\n",
    "    x_train, x_test = train.iloc[train_index], train.iloc[test_index]\n",
    "    y_train, y_test = target[train_index], target[test_index]\n",
    "\n",
    "    model_tree(x_train, x_test, y_train, y_test, test, meta_train, meta_test,train_index, test_index,fold_id)\n",
    "\n",
    "test_id[\"TARGET\"] = np.array(meta_test).T.mean(axis=1)\n",
    "test_id_rank[\"TARGET\"] = pd.DataFrame(np.array(meta_test).T).rank(pct = True).mean(axis=1)\n",
    "train_id[\"TARGET\"] = meta_train\n",
    "\n",
    "print \"Overall ROC: {},  Mean ROC: {}, STD AUC: {}\".format(roc_auc_score(target, meta_train), np.mean(fold_roc), np.std(fold_roc))"
   ]
  },
  {
   "cell_type": "code",
   "execution_count": null,
   "metadata": {
    "collapsed": true
   },
   "outputs": [],
   "source": [
    "# 0.797018\n",
    "# 0.7936"
   ]
  },
  {
   "cell_type": "code",
   "execution_count": null,
   "metadata": {
    "collapsed": true
   },
   "outputs": [],
   "source": [
    "train_id.to_csv(\"csv/{}_train.csv\".format(model_name), index=False)\n",
    "test_id.to_csv(\"csv/{}_test.csv\".format(model_name), index=False)\n",
    "test_id_rank.to_csv(\"csv/{}_rank_test.csv\".format(model_name), index=False)"
   ]
  },
  {
   "cell_type": "markdown",
   "metadata": {},
   "source": [
    "# Get Feature Importance"
   ]
  },
  {
   "cell_type": "code",
   "execution_count": null,
   "metadata": {
    "collapsed": true
   },
   "outputs": [],
   "source": [
    "# Print Feature Importance\n",
    "feature_importance.to_csv(\"csv/{}_all_fi.csv\".format(model_name), index = False)\n",
    "feature_importance = feature_importance.groupby(\"feature\")[[\"gain\",\"split\"]].mean().sort_values('gain', ascending=False).reset_index()\n",
    "\n",
    "plt.figure()\n",
    "feature_importance[['feature','gain']].head(60).plot(kind='barh', x='feature', y='gain', legend=False, figsize=(30, 100))\n",
    "plt.gcf().savefig('csv/{}.png'.format(model_name))\n"
   ]
  },
  {
   "cell_type": "code",
   "execution_count": null,
   "metadata": {
    "collapsed": true
   },
   "outputs": [],
   "source": []
  },
  {
   "cell_type": "code",
   "execution_count": null,
   "metadata": {
    "collapsed": true
   },
   "outputs": [],
   "source": []
  },
  {
   "cell_type": "code",
   "execution_count": null,
   "metadata": {
    "collapsed": true
   },
   "outputs": [],
   "source": []
  },
  {
   "cell_type": "code",
   "execution_count": null,
   "metadata": {
    "collapsed": true
   },
   "outputs": [],
   "source": []
  },
  {
   "cell_type": "code",
   "execution_count": null,
   "metadata": {
    "collapsed": true
   },
   "outputs": [],
   "source": []
  },
  {
   "cell_type": "code",
   "execution_count": null,
   "metadata": {
    "collapsed": true
   },
   "outputs": [],
   "source": []
  },
  {
   "cell_type": "code",
   "execution_count": null,
   "metadata": {
    "collapsed": true
   },
   "outputs": [],
   "source": []
  },
  {
   "cell_type": "code",
   "execution_count": null,
   "metadata": {
    "collapsed": true
   },
   "outputs": [],
   "source": [
    "-"
   ]
  }
 ],
 "metadata": {
  "kernelspec": {
   "display_name": "Python 2",
   "language": "python",
   "name": "python2"
  },
  "language_info": {
   "codemirror_mode": {
    "name": "ipython",
    "version": 2
   },
   "file_extension": ".py",
   "mimetype": "text/x-python",
   "name": "python",
   "nbconvert_exporter": "python",
   "pygments_lexer": "ipython2",
   "version": "2.7.14"
  }
 },
 "nbformat": 4,
 "nbformat_minor": 2
}
