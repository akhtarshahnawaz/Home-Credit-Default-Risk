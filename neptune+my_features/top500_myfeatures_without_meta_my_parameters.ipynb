{
 "cells": [
  {
   "cell_type": "code",
   "execution_count": 1,
   "metadata": {
    "collapsed": true
   },
   "outputs": [],
   "source": [
    "model_name = \"top500_myfeatures_without_meta_my_parameters\""
   ]
  },
  {
   "cell_type": "code",
   "execution_count": 2,
   "metadata": {
    "collapsed": true
   },
   "outputs": [],
   "source": [
    "import numpy as np\n",
    "import pandas as pd\n",
    "import gc\n",
    "from time import time\n",
    "from contextlib import contextmanager\n",
    "from lightgbm import LGBMClassifier\n",
    "from sklearn.metrics import roc_auc_score, roc_curve\n",
    "from sklearn.model_selection import KFold, StratifiedKFold\n",
    "import matplotlib.pyplot as plt\n",
    "import seaborn as sns\n",
    "import warnings\n",
    "from sklearn.preprocessing import LabelEncoder,OneHotEncoder"
   ]
  },
  {
   "cell_type": "code",
   "execution_count": 3,
   "metadata": {},
   "outputs": [
    {
     "name": "stdout",
     "output_type": "stream",
     "text": [
      "Init... : 0.000190019607544 seconds\n"
     ]
    }
   ],
   "source": [
    "timesheet = [time()]\n",
    "def timer(statement):\n",
    "    global timesheet\n",
    "    timesheet.append(time())\n",
    "    print statement+\" :\", (timesheet[-1]-timesheet[-2]),\"seconds\"\n",
    "timer(\"Init...\")"
   ]
  },
  {
   "cell_type": "code",
   "execution_count": 4,
   "metadata": {
    "collapsed": true
   },
   "outputs": [],
   "source": [
    "def load_meta(directory, prefix, modeltype):\n",
    "    m_tr = pd.read_csv(directory+prefix+\"_train.csv\")\n",
    "    m_te = pd.read_csv(directory+prefix+\"_test.csv\")\n",
    "    data = pd.concat([m_tr, m_te], axis=0).reset_index(drop=True)\n",
    "    data.columns = [\"{}_{}_{}\".format(c, prefix, modeltype) if c!=\"SK_ID_CURR\" else c for c in data.columns]\n",
    "    return data\n",
    "\n",
    "def join_features(data, features):\n",
    "    for item in features:\n",
    "        data = data.merge(item, how = \"left\", on = \"SK_ID_CURR\")\n",
    "    return data\n",
    "\n",
    "def load_data(datafile):\n",
    "    global important_columns\n",
    "    colnames = [c.replace(\" \",\"_\") for c in pd.read_csv(datafile, nrows= 1).columns]\n",
    "    intersection = list(set(colnames).intersection(set(important_columns)))+[\"SK_ID_CURR\"]\n",
    "\n",
    "    df =  pd.read_csv(datafile, names = colnames, usecols = intersection, skiprows=1).dropna(axis=1, how=\"all\")\n",
    "    timer(\"Loaded {} with shape {} in \".format(datafile.split(\"/\")[-1], df.shape))\n",
    "    return df"
   ]
  },
  {
   "cell_type": "markdown",
   "metadata": {},
   "source": [
    "## Getting Feature Importance File"
   ]
  },
  {
   "cell_type": "code",
   "execution_count": 5,
   "metadata": {
    "collapsed": true
   },
   "outputs": [],
   "source": [
    "important_columns = pd.read_csv(\"../feature selector/importance/shap_importances.csv\")\n",
    "important_columns[\"feature\"] = important_columns[\"feature\"].apply(lambda x: x.replace(\" \",\"_\"))\n",
    "important_columns = important_columns.loc[important_columns.shapely_mean > 0.0].reset_index(drop=True)\n",
    "important_columns = important_columns.sort_values(by = \"shapely_mean\", ascending = False).reset_index(drop=True)\n",
    "important_columns = important_columns.loc[0:500].feature.values.tolist()"
   ]
  },
  {
   "cell_type": "markdown",
   "metadata": {},
   "source": [
    "## Loading Features"
   ]
  },
  {
   "cell_type": "code",
   "execution_count": 6,
   "metadata": {
    "scrolled": true
   },
   "outputs": [
    {
     "name": "stdout",
     "output_type": "stream",
     "text": [
      "Loaded application_features_V2.csv with shape (356255, 75) in  : 8.18423008919 seconds\n",
      "Loaded bureau_features_V1.csv with shape (305811, 84) in  : 10.6233680248 seconds\n",
      "Loaded credit_card_features_V1.csv with shape (103558, 16) in  : 10.5162758827 seconds\n",
      "Loaded installment_features_V1.csv with shape (339587, 100) in  : 32.8502418995 seconds\n",
      "Loaded pos_cash_features_V1.csv with shape (337252, 48) in  : 21.1283860207 seconds\n",
      "Loaded previous_application_features_V1.csv with shape (338857, 93) in  : 22.0189881325 seconds\n",
      "Loaded credit_card_features_V3.csv with shape (103558, 6) in  : 17.0495839119 seconds\n",
      "Loaded installment_features_V3.csv with shape (339587, 69) in  : 27.752833128 seconds\n",
      "Loaded pos_cash_features_V3.csv with shape (337252, 11) in  : 7.13632583618 seconds\n",
      "Loaded previous_application_features_V3.csv with shape (338857, 9) in  : 8.56821417809 seconds\n"
     ]
    }
   ],
   "source": [
    "applications = load_data(\"../extractor/csv/application_features_V2.csv\")\n",
    "bureau_balance_bb = load_data(\"../extractor/csv/bureau_features_V1.csv\")\n",
    "credit_card_balance = load_data(\"../extractor/csv/credit_card_features_V1.csv\")\n",
    "installment_features = load_data(\"../extractor/csv/installment_features_V1.csv\")\n",
    "pos_cash_balance = load_data(\"../extractor/csv/pos_cash_features_V1.csv\")\n",
    "previous_apps = load_data(\"../extractor/csv/previous_application_features_V1.csv\")\n",
    "\n",
    "credit_card_balance_v3 = load_data(\"../extractor/csv/credit_card_features_V3.csv\")\n",
    "installment_features_v3 = load_data(\"../extractor/csv/installment_features_V3.csv\")\n",
    "pos_cash_balance_v3 = load_data(\"../extractor/csv/pos_cash_features_V3.csv\")\n",
    "previous_apps_v3 = load_data(\"../extractor/csv/previous_application_features_V3.csv\")\n",
    "\n",
    "base_features = [applications, bureau_balance_bb, credit_card_balance, installment_features, pos_cash_balance,previous_apps, credit_card_balance_v3,installment_features_v3,pos_cash_balance_v3, previous_apps_v3]"
   ]
  },
  {
   "cell_type": "markdown",
   "metadata": {},
   "source": [
    "## Joining All Files"
   ]
  },
  {
   "cell_type": "code",
   "execution_count": 7,
   "metadata": {
    "collapsed": true
   },
   "outputs": [],
   "source": [
    "train = pd.read_csv(\"../data/application_train.csv\", usecols = [\"SK_ID_CURR\",\"TARGET\"])\n",
    "test = pd.read_csv(\"../data/application_test.csv\", usecols = [\"SK_ID_CURR\"])\n",
    "\n",
    "neptune_train = pd.read_csv(\"../neptune extractor/data/train.csv\")\n",
    "neptune_test = pd.read_csv(\"../neptune extractor/data/test.csv\")\n",
    "\n",
    "train = pd.concat([train, neptune_train], axis=1)\n",
    "test = pd.concat([test, neptune_test], axis=1)\n",
    "\n",
    "del neptune_train, neptune_test\n",
    "gc.collect()\n",
    "\n",
    "data = pd.concat([train, test], axis=0).reset_index(drop=True)\n",
    "data = join_features(data, base_features)\n",
    "del base_features,applications, bureau_balance_bb, credit_card_balance, installment_features, pos_cash_balance,previous_apps, credit_card_balance_v3,installment_features_v3,pos_cash_balance_v3, previous_apps_v3\n",
    "gc.collect()\n",
    "\n",
    "train = data.loc[data.TARGET.notnull()].reset_index(drop=True)\n",
    "test = data.loc[data.TARGET.isnull()].reset_index(drop=True)\n",
    "\n",
    "train_id = train[[\"SK_ID_CURR\"]]\n",
    "test_id = test[[\"SK_ID_CURR\"]]\n",
    "test_id_rank = test[[\"SK_ID_CURR\"]]\n",
    "target =train.TARGET\n",
    "\n",
    "train.drop([\"SK_ID_CURR\", \"TARGET\"], axis=1, inplace=True)\n",
    "test.drop([\"SK_ID_CURR\",\"TARGET\"], axis=1, inplace = True)"
   ]
  },
  {
   "cell_type": "markdown",
   "metadata": {},
   "source": [
    "# Defining Model"
   ]
  },
  {
   "cell_type": "code",
   "execution_count": null,
   "metadata": {
    "collapsed": true
   },
   "outputs": [],
   "source": [
    "import lightgbm as lgb\n",
    "def model_tree(x_train, x_test, y_train, y_test, test, meta_train, meta_test,train_index, test_index,fold_id):\n",
    "    dtrain = lgb.Dataset(x_train, label=y_train)\n",
    "    dval = lgb.Dataset(x_test, label=y_test)\n",
    "    params = {\n",
    "        'num_leaves': 32, #32\n",
    "        'reg_alpha': 0.04, \n",
    "        'n_jobs': -1, \n",
    "        'colsample_bytree': 0.9497036, \n",
    "        'silent': -1, \n",
    "        'subsample_for_bin': 200000, \n",
    "        'subsample_freq': 1, \n",
    "        'learning_rate': 0.02, # 0.02\n",
    "        'boosting_type': 'gbdt', \n",
    "        'nthread': 16, \n",
    "        'min_child_weight': 40, \n",
    "        'min_split_gain': 0.0222415, \n",
    "        'n_estimators': 10000, \n",
    "        'subsample': 0.8715623, \n",
    "        'reg_lambda': 10, \n",
    "        'objective': \"binary\", \n",
    "        'verbose': -1, \n",
    "        'min_child_samples': 20, \n",
    "        'max_depth': 8, #8\n",
    "        'class_weight': None,\n",
    "        \"bagging_seed\" : 3143,\n",
    "        \"seed\":1343,\n",
    "        \"metric\":\"auc\"\n",
    "    }\n",
    "    model = lgb.train(params, dtrain, num_boost_round=5000,valid_sets=[dtrain, dval], early_stopping_rounds=200, verbose_eval=100)\n",
    "    meta_train[test_index] = model.predict(x_test, num_iteration=model.best_iteration or 5000)\n",
    "    meta_test.append(model.predict(test, num_iteration=model.best_iteration or 5000))\n",
    "    \n",
    "    global fold_roc\n",
    "    fold_roc.append(roc_auc_score(y_test, meta_train[test_index]))\n",
    "    # Calculate Feature Importance\n",
    "    global feature_importance\n",
    "    gain = model.feature_importance('gain')\n",
    "    fold_feature_importance = pd.DataFrame({'feature':model.feature_name(), 'split':model.feature_importance('split'), 'gain':100 * gain / gain.sum()})\n",
    "    feature_importance = feature_importance.append(fold_feature_importance, ignore_index=True) "
   ]
  },
  {
   "cell_type": "markdown",
   "metadata": {},
   "source": [
    "# Training Model"
   ]
  },
  {
   "cell_type": "code",
   "execution_count": null,
   "metadata": {
    "scrolled": true
   },
   "outputs": [
    {
     "name": "stderr",
     "output_type": "stream",
     "text": [
      "/home/sakhtar0092/anaconda2/lib/python2.7/site-packages/lightgbm/engine.py:99: UserWarning: Found `n_estimators` in params. Will use it instead of argument\n",
      "  warnings.warn(\"Found `{}` in params. Will use it instead of argument\".format(alias))\n",
      "/home/sakhtar0092/anaconda2/lib/python2.7/site-packages/lightgbm/basic.py:657: UserWarning: silent keyword has been found in `params` and will be ignored. Please use silent argument of the Dataset constructor to pass this parameter.\n",
      "  'Please use {0} argument of the Dataset constructor to pass this parameter.'.format(key))\n"
     ]
    },
    {
     "name": "stdout",
     "output_type": "stream",
     "text": [
      "Training until validation scores don't improve for 200 rounds.\n",
      "[100]\ttraining's auc: 0.763206\tvalid_1's auc: 0.756772\n",
      "[200]\ttraining's auc: 0.787376\tvalid_1's auc: 0.772137\n",
      "[300]\ttraining's auc: 0.806164\tvalid_1's auc: 0.782424\n",
      "[400]\ttraining's auc: 0.819122\tvalid_1's auc: 0.787723\n",
      "[500]\ttraining's auc: 0.829434\tvalid_1's auc: 0.790618\n",
      "[600]\ttraining's auc: 0.838346\tvalid_1's auc: 0.792467\n",
      "[700]\ttraining's auc: 0.846519\tvalid_1's auc: 0.793775\n",
      "[800]\ttraining's auc: 0.853886\tvalid_1's auc: 0.79471\n",
      "[900]\ttraining's auc: 0.860958\tvalid_1's auc: 0.795421\n",
      "[1000]\ttraining's auc: 0.8674\tvalid_1's auc: 0.79607\n",
      "[1100]\ttraining's auc: 0.873543\tvalid_1's auc: 0.796468\n",
      "[1200]\ttraining's auc: 0.879293\tvalid_1's auc: 0.796576\n",
      "[1300]\ttraining's auc: 0.884692\tvalid_1's auc: 0.796726\n",
      "[1400]\ttraining's auc: 0.889749\tvalid_1's auc: 0.796921\n",
      "[1500]\ttraining's auc: 0.894663\tvalid_1's auc: 0.797029\n",
      "[1600]\ttraining's auc: 0.899396\tvalid_1's auc: 0.797214\n",
      "[1700]\ttraining's auc: 0.90399\tvalid_1's auc: 0.797018\n",
      "Early stopping, best iteration is:\n",
      "[1588]\ttraining's auc: 0.898837\tvalid_1's auc: 0.797278\n",
      "Training until validation scores don't improve for 200 rounds.\n",
      "[100]\ttraining's auc: 0.764259\tvalid_1's auc: 0.746277\n",
      "[200]\ttraining's auc: 0.788185\tvalid_1's auc: 0.763482\n",
      "[300]\ttraining's auc: 0.806843\tvalid_1's auc: 0.775196\n",
      "[400]\ttraining's auc: 0.819763\tvalid_1's auc: 0.781248\n",
      "[500]\ttraining's auc: 0.830015\tvalid_1's auc: 0.784854\n",
      "[600]\ttraining's auc: 0.839168\tvalid_1's auc: 0.787451\n",
      "[700]\ttraining's auc: 0.847383\tvalid_1's auc: 0.789098\n",
      "[800]\ttraining's auc: 0.854968\tvalid_1's auc: 0.790171\n",
      "[900]\ttraining's auc: 0.861694\tvalid_1's auc: 0.790829\n",
      "[1000]\ttraining's auc: 0.868204\tvalid_1's auc: 0.791474\n",
      "[1100]\ttraining's auc: 0.874169\tvalid_1's auc: 0.791885\n",
      "[1200]\ttraining's auc: 0.879963\tvalid_1's auc: 0.792135\n",
      "[1300]\ttraining's auc: 0.885571\tvalid_1's auc: 0.792485\n",
      "[1400]\ttraining's auc: 0.89083\tvalid_1's auc: 0.792905\n",
      "[1500]\ttraining's auc: 0.895797\tvalid_1's auc: 0.79315\n",
      "[1600]\ttraining's auc: 0.900407\tvalid_1's auc: 0.793164\n",
      "[1700]\ttraining's auc: 0.904858\tvalid_1's auc: 0.793167\n",
      "[1800]\ttraining's auc: 0.909205\tvalid_1's auc: 0.793325\n",
      "[1900]\ttraining's auc: 0.913244\tvalid_1's auc: 0.793262\n",
      "[2000]\ttraining's auc: 0.917305\tvalid_1's auc: 0.79347\n",
      "[2100]\ttraining's auc: 0.921237\tvalid_1's auc: 0.793446\n",
      "[2200]\ttraining's auc: 0.924906\tvalid_1's auc: 0.793469\n",
      "[2300]\ttraining's auc: 0.928364\tvalid_1's auc: 0.793653\n",
      "[2400]\ttraining's auc: 0.93173\tvalid_1's auc: 0.793615\n",
      "Early stopping, best iteration is:\n",
      "[2297]\ttraining's auc: 0.928265\tvalid_1's auc: 0.793672\n",
      "Training until validation scores don't improve for 200 rounds.\n",
      "[100]\ttraining's auc: 0.762377\tvalid_1's auc: 0.754954\n",
      "[200]\ttraining's auc: 0.786822\tvalid_1's auc: 0.770719\n",
      "[300]\ttraining's auc: 0.806336\tvalid_1's auc: 0.780794\n",
      "[400]\ttraining's auc: 0.81978\tvalid_1's auc: 0.785726\n",
      "[500]\ttraining's auc: 0.830239\tvalid_1's auc: 0.788543\n",
      "[600]\ttraining's auc: 0.839287\tvalid_1's auc: 0.790453\n",
      "[700]\ttraining's auc: 0.847735\tvalid_1's auc: 0.791744\n",
      "[800]\ttraining's auc: 0.855237\tvalid_1's auc: 0.792431\n",
      "[900]\ttraining's auc: 0.862322\tvalid_1's auc: 0.792959\n",
      "[1000]\ttraining's auc: 0.868722\tvalid_1's auc: 0.793444\n",
      "[1100]\ttraining's auc: 0.874888\tvalid_1's auc: 0.793774\n",
      "[1200]\ttraining's auc: 0.880757\tvalid_1's auc: 0.794079\n",
      "[1300]\ttraining's auc: 0.886156\tvalid_1's auc: 0.794276\n",
      "[1400]\ttraining's auc: 0.891541\tvalid_1's auc: 0.794481\n"
     ]
    }
   ],
   "source": [
    "meta_train = np.zeros(train.shape[0])\n",
    "meta_test = []\n",
    "feature_importance = pd.DataFrame(columns = [\"feature\",\"split\",\"gain\"])\n",
    "fold_roc = []\n",
    "\n",
    "kf = StratifiedKFold(n_splits= 5, shuffle=True, random_state=24344)\n",
    "for fold_id, (train_index, test_index) in enumerate(kf.split(train, target)):\n",
    "    x_train, x_test = train.iloc[train_index], train.iloc[test_index]\n",
    "    y_train, y_test = target[train_index], target[test_index]\n",
    "\n",
    "    model_tree(x_train, x_test, y_train, y_test, test, meta_train, meta_test,train_index, test_index,fold_id)\n",
    "\n",
    "test_id[\"TARGET\"] = np.array(meta_test).T.mean(axis=1)\n",
    "test_id_rank[\"TARGET\"] = pd.DataFrame(np.array(meta_test).T).rank(pct = True).mean(axis=1)\n",
    "train_id[\"TARGET\"] = meta_train\n",
    "\n",
    "print \"Overall ROC: {},  Mean ROC: {}, STD AUC: {}\".format(roc_auc_score(target, meta_train), np.mean(fold_roc), np.std(fold_roc))"
   ]
  },
  {
   "cell_type": "code",
   "execution_count": null,
   "metadata": {
    "collapsed": true
   },
   "outputs": [],
   "source": [
    "train_id.to_csv(\"csv/{}_train.csv\".format(model_name), index=False)\n",
    "test_id.to_csv(\"csv/{}_test.csv\".format(model_name), index=False)\n",
    "test_id_rank.to_csv(\"csv/{}_rank_test.csv\".format(model_name), index=False)"
   ]
  },
  {
   "cell_type": "markdown",
   "metadata": {},
   "source": [
    "# Get Feature Importance"
   ]
  },
  {
   "cell_type": "code",
   "execution_count": null,
   "metadata": {
    "collapsed": true
   },
   "outputs": [],
   "source": [
    "# Print Feature Importance\n",
    "feature_importance.to_csv(\"csv/{}_all_fi.csv\".format(model_name), index = False)\n",
    "feature_importance = feature_importance.groupby(\"feature\")[[\"gain\",\"split\"]].mean().sort_values('gain', ascending=False).reset_index()\n",
    "\n",
    "plt.figure()\n",
    "feature_importance[['feature','gain']].head(60).plot(kind='barh', x='feature', y='gain', legend=False, figsize=(30, 100))\n",
    "plt.gcf().savefig('csv/{}.png'.format(model_name))\n"
   ]
  },
  {
   "cell_type": "code",
   "execution_count": null,
   "metadata": {
    "collapsed": true
   },
   "outputs": [],
   "source": []
  },
  {
   "cell_type": "code",
   "execution_count": null,
   "metadata": {
    "collapsed": true
   },
   "outputs": [],
   "source": []
  },
  {
   "cell_type": "code",
   "execution_count": null,
   "metadata": {
    "collapsed": true
   },
   "outputs": [],
   "source": []
  },
  {
   "cell_type": "code",
   "execution_count": null,
   "metadata": {
    "collapsed": true
   },
   "outputs": [],
   "source": []
  },
  {
   "cell_type": "code",
   "execution_count": null,
   "metadata": {
    "collapsed": true
   },
   "outputs": [],
   "source": []
  },
  {
   "cell_type": "code",
   "execution_count": null,
   "metadata": {
    "collapsed": true
   },
   "outputs": [],
   "source": []
  },
  {
   "cell_type": "code",
   "execution_count": null,
   "metadata": {
    "collapsed": true
   },
   "outputs": [],
   "source": []
  },
  {
   "cell_type": "code",
   "execution_count": null,
   "metadata": {
    "collapsed": true
   },
   "outputs": [],
   "source": [
    "-"
   ]
  }
 ],
 "metadata": {
  "kernelspec": {
   "display_name": "Python 2",
   "language": "python",
   "name": "python2"
  },
  "language_info": {
   "codemirror_mode": {
    "name": "ipython",
    "version": 2
   },
   "file_extension": ".py",
   "mimetype": "text/x-python",
   "name": "python",
   "nbconvert_exporter": "python",
   "pygments_lexer": "ipython2",
   "version": "2.7.14"
  }
 },
 "nbformat": 4,
 "nbformat_minor": 2
}
