{
 "cells": [
  {
   "cell_type": "code",
   "execution_count": 1,
   "metadata": {
    "collapsed": true
   },
   "outputs": [],
   "source": [
    "model_name = \"top500_myfeatures_without_meta_neptune_parameters_selected_features\""
   ]
  },
  {
   "cell_type": "code",
   "execution_count": 2,
   "metadata": {
    "collapsed": true
   },
   "outputs": [],
   "source": [
    "import numpy as np\n",
    "import pandas as pd\n",
    "import gc\n",
    "from time import time\n",
    "from contextlib import contextmanager\n",
    "from lightgbm import LGBMClassifier\n",
    "from sklearn.metrics import roc_auc_score, roc_curve\n",
    "from sklearn.model_selection import KFold, StratifiedKFold\n",
    "import matplotlib.pyplot as plt\n",
    "import seaborn as sns\n",
    "import warnings\n",
    "from sklearn.preprocessing import LabelEncoder,OneHotEncoder"
   ]
  },
  {
   "cell_type": "code",
   "execution_count": 3,
   "metadata": {},
   "outputs": [
    {
     "name": "stdout",
     "output_type": "stream",
     "text": [
      "Init... : 0.000194072723389 seconds\n"
     ]
    }
   ],
   "source": [
    "timesheet = [time()]\n",
    "def timer(statement):\n",
    "    global timesheet\n",
    "    timesheet.append(time())\n",
    "    print statement+\" :\", (timesheet[-1]-timesheet[-2]),\"seconds\"\n",
    "timer(\"Init...\")"
   ]
  },
  {
   "cell_type": "code",
   "execution_count": 4,
   "metadata": {
    "collapsed": true
   },
   "outputs": [],
   "source": [
    "def load_meta(directory, prefix, modeltype):\n",
    "    m_tr = pd.read_csv(directory+prefix+\"_train.csv\")\n",
    "    m_te = pd.read_csv(directory+prefix+\"_test.csv\")\n",
    "    data = pd.concat([m_tr, m_te], axis=0).reset_index(drop=True)\n",
    "    data.columns = [\"{}_{}_{}\".format(c, prefix, modeltype) if c!=\"SK_ID_CURR\" else c for c in data.columns]\n",
    "    return data\n",
    "\n",
    "def join_features(data, features):\n",
    "    for item in features:\n",
    "        data = data.merge(item, how = \"left\", on = \"SK_ID_CURR\")\n",
    "    return data\n",
    "\n",
    "def load_data(datafile):\n",
    "    global important_columns\n",
    "    colnames = [c.replace(\" \",\"_\") for c in pd.read_csv(datafile, nrows= 1).columns]\n",
    "    intersection = list(set(colnames).intersection(set(important_columns)))+[\"SK_ID_CURR\"]\n",
    "\n",
    "    df =  pd.read_csv(datafile, names = colnames, usecols = intersection, skiprows=1).dropna(axis=1, how=\"all\")\n",
    "    timer(\"Loaded {} with shape {} in \".format(datafile.split(\"/\")[-1], df.shape))\n",
    "    return df"
   ]
  },
  {
   "cell_type": "markdown",
   "metadata": {},
   "source": [
    "## Getting Feature Importance File"
   ]
  },
  {
   "cell_type": "code",
   "execution_count": 5,
   "metadata": {
    "collapsed": true
   },
   "outputs": [],
   "source": [
    "important_columns = pd.read_csv(\"../feature selector/importance/shap_importances.csv\")\n",
    "important_columns[\"feature\"] = important_columns[\"feature\"].apply(lambda x: x.replace(\" \",\"_\"))\n",
    "important_columns = important_columns.loc[important_columns.shapely_mean > 0.0].reset_index(drop=True)\n",
    "important_columns = important_columns.sort_values(by = \"shapely_mean\", ascending = False).reset_index(drop=True)\n",
    "important_columns = important_columns.loc[0:500].feature.values.tolist()\n",
    "\n",
    "\n",
    "important_columns_neptune = pd.read_csv(\"../feature selector/importance/shap_importances_neptune_features.csv\")\n",
    "important_columns_neptune[\"feature\"] = important_columns_neptune[\"feature\"].apply(lambda x: x.replace(\" \",\"_\"))\n",
    "important_columns_neptune = important_columns_neptune.loc[important_columns_neptune.shapely_mean > 0.0].reset_index(drop=True)\n",
    "important_columns_neptune = important_columns_neptune.sort_values(by = \"shapely_mean\", ascending = False).reset_index(drop=True)\n",
    "important_columns_neptune = important_columns_neptune.loc[0:500].feature.values.tolist()"
   ]
  },
  {
   "cell_type": "markdown",
   "metadata": {},
   "source": [
    "## Loading Features"
   ]
  },
  {
   "cell_type": "code",
   "execution_count": 6,
   "metadata": {
    "scrolled": true
   },
   "outputs": [
    {
     "name": "stdout",
     "output_type": "stream",
     "text": [
      "Loaded application_features_V2.csv with shape (356255, 75) in  : 13.2772829533 seconds\n",
      "Loaded bureau_features_V1.csv with shape (305811, 84) in  : 10.5549399853 seconds\n",
      "Loaded credit_card_features_V1.csv with shape (103558, 16) in  : 10.4556090832 seconds\n",
      "Loaded installment_features_V1.csv with shape (339587, 100) in  : 33.3635008335 seconds\n",
      "Loaded pos_cash_features_V1.csv with shape (337252, 48) in  : 21.2435050011 seconds\n",
      "Loaded previous_application_features_V1.csv with shape (338857, 93) in  : 22.280903101 seconds\n",
      "Loaded credit_card_features_V3.csv with shape (103558, 6) in  : 17.0347340107 seconds\n",
      "Loaded installment_features_V3.csv with shape (339587, 69) in  : 27.9260590076 seconds\n",
      "Loaded pos_cash_features_V3.csv with shape (337252, 11) in  : 7.05220890045 seconds\n",
      "Loaded previous_application_features_V3.csv with shape (338857, 9) in  : 8.48571515083 seconds\n"
     ]
    }
   ],
   "source": [
    "applications = load_data(\"../extractor/csv/application_features_V2.csv\")\n",
    "bureau_balance_bb = load_data(\"../extractor/csv/bureau_features_V1.csv\")\n",
    "credit_card_balance = load_data(\"../extractor/csv/credit_card_features_V1.csv\")\n",
    "installment_features = load_data(\"../extractor/csv/installment_features_V1.csv\")\n",
    "pos_cash_balance = load_data(\"../extractor/csv/pos_cash_features_V1.csv\")\n",
    "previous_apps = load_data(\"../extractor/csv/previous_application_features_V1.csv\")\n",
    "\n",
    "credit_card_balance_v3 = load_data(\"../extractor/csv/credit_card_features_V3.csv\")\n",
    "installment_features_v3 = load_data(\"../extractor/csv/installment_features_V3.csv\")\n",
    "pos_cash_balance_v3 = load_data(\"../extractor/csv/pos_cash_features_V3.csv\")\n",
    "previous_apps_v3 = load_data(\"../extractor/csv/previous_application_features_V3.csv\")\n",
    "\n",
    "base_features = [applications, bureau_balance_bb, credit_card_balance, installment_features, pos_cash_balance,previous_apps, credit_card_balance_v3,installment_features_v3,pos_cash_balance_v3, previous_apps_v3]"
   ]
  },
  {
   "cell_type": "markdown",
   "metadata": {},
   "source": [
    "## Joining All Files"
   ]
  },
  {
   "cell_type": "code",
   "execution_count": 7,
   "metadata": {
    "collapsed": true
   },
   "outputs": [],
   "source": [
    "train = pd.read_csv(\"../data/application_train.csv\", usecols = [\"SK_ID_CURR\",\"TARGET\"])\n",
    "test = pd.read_csv(\"../data/application_test.csv\", usecols = [\"SK_ID_CURR\"])\n",
    "\n",
    "neptune_train = pd.read_csv(\"../neptune extractor/data/train.csv\", usecols = important_columns_neptune)\n",
    "neptune_test = pd.read_csv(\"../neptune extractor/data/test.csv\", usecols = important_columns_neptune)\n",
    "\n",
    "train = pd.concat([train, neptune_train], axis=1)\n",
    "test = pd.concat([test, neptune_test], axis=1)\n",
    "\n",
    "del neptune_train, neptune_test\n",
    "gc.collect()\n",
    "\n",
    "data = pd.concat([train, test], axis=0).reset_index(drop=True)\n",
    "data = join_features(data, base_features)\n",
    "del base_features,applications, bureau_balance_bb, credit_card_balance, installment_features, pos_cash_balance,previous_apps, credit_card_balance_v3,installment_features_v3,pos_cash_balance_v3, previous_apps_v3\n",
    "gc.collect()\n",
    "\n",
    "train = data.loc[data.TARGET.notnull()].reset_index(drop=True)\n",
    "test = data.loc[data.TARGET.isnull()].reset_index(drop=True)\n",
    "\n",
    "train_id = train[[\"SK_ID_CURR\"]]\n",
    "test_id = test[[\"SK_ID_CURR\"]]\n",
    "test_id_rank = test[[\"SK_ID_CURR\"]]\n",
    "target =train.TARGET\n",
    "\n",
    "train.drop([\"SK_ID_CURR\", \"TARGET\"], axis=1, inplace=True)\n",
    "test.drop([\"SK_ID_CURR\",\"TARGET\"], axis=1, inplace = True)"
   ]
  },
  {
   "cell_type": "markdown",
   "metadata": {},
   "source": [
    "# Defining Model"
   ]
  },
  {
   "cell_type": "code",
   "execution_count": 8,
   "metadata": {
    "collapsed": true
   },
   "outputs": [],
   "source": [
    "import lightgbm as lgb\n",
    "def model_tree(x_train, x_test, y_train, y_test, test, meta_train, meta_test,train_index, test_index,fold_id):\n",
    "    dtrain = lgb.Dataset(x_train, label=y_train)\n",
    "    dval = lgb.Dataset(x_test, label=y_test)\n",
    "    params = {\n",
    "        'num_leaves': 30, #32\n",
    "        'reg_alpha': 0.0, \n",
    "        'colsample_bytree': 0.05, \n",
    "        'subsample_freq': 1, \n",
    "        'learning_rate': 0.02, # 0.02\n",
    "        'boosting_type': 'gbdt', \n",
    "        'nthread': 4, \n",
    "        'min_split_gain': 0.5, \n",
    "        'n_estimators': 10000, \n",
    "        'subsample': 1, \n",
    "        'reg_lambda': 100, \n",
    "        'objective': \"binary\", \n",
    "        'min_child_samples': 70, \n",
    "        'max_depth': -1,\n",
    "        'class_weight': None,\n",
    "        \"bagging_seed\" : 3143,\n",
    "        \"seed\":1343,\n",
    "        \"metric\":\"auc\",\n",
    "        \"is_unbalance\": False,\n",
    "        \"scale_pos_weight\": 1,\n",
    "        \"max_bin\":300\n",
    "    }\n",
    "    model = lgb.train(params, dtrain, num_boost_round=5000,valid_sets=[dtrain, dval], early_stopping_rounds=100, verbose_eval=100)\n",
    "    meta_train[test_index] = model.predict(x_test, num_iteration=model.best_iteration or 5000)\n",
    "    meta_test.append(model.predict(test, num_iteration=model.best_iteration or 5000))\n",
    "    \n",
    "    global fold_roc\n",
    "    fold_roc.append(roc_auc_score(y_test, meta_train[test_index]))\n",
    "    # Calculate Feature Importance\n",
    "    global feature_importance\n",
    "    gain = model.feature_importance('gain')\n",
    "    fold_feature_importance = pd.DataFrame({'feature':model.feature_name(), 'split':model.feature_importance('split'), 'gain':100 * gain / gain.sum()})\n",
    "    feature_importance = feature_importance.append(fold_feature_importance, ignore_index=True) "
   ]
  },
  {
   "cell_type": "markdown",
   "metadata": {},
   "source": [
    "# Training Model"
   ]
  },
  {
   "cell_type": "code",
   "execution_count": 9,
   "metadata": {
    "scrolled": true
   },
   "outputs": [
    {
     "name": "stderr",
     "output_type": "stream",
     "text": [
      "/home/sakhtar0092/anaconda2/lib/python2.7/site-packages/lightgbm/engine.py:99: UserWarning: Found `n_estimators` in params. Will use it instead of argument\n",
      "  warnings.warn(\"Found `{}` in params. Will use it instead of argument\".format(alias))\n"
     ]
    },
    {
     "name": "stdout",
     "output_type": "stream",
     "text": [
      "Training until validation scores don't improve for 100 rounds.\n",
      "[100]\ttraining's auc: 0.758755\tvalid_1's auc: 0.754392\n",
      "[200]\ttraining's auc: 0.779007\tvalid_1's auc: 0.768871\n",
      "[300]\ttraining's auc: 0.79337\tvalid_1's auc: 0.778635\n",
      "[400]\ttraining's auc: 0.803399\tvalid_1's auc: 0.783983\n",
      "[500]\ttraining's auc: 0.811247\tvalid_1's auc: 0.787524\n",
      "[600]\ttraining's auc: 0.817877\tvalid_1's auc: 0.789809\n",
      "[700]\ttraining's auc: 0.823813\tvalid_1's auc: 0.791564\n",
      "[800]\ttraining's auc: 0.829116\tvalid_1's auc: 0.792984\n",
      "[900]\ttraining's auc: 0.834128\tvalid_1's auc: 0.794044\n",
      "[1000]\ttraining's auc: 0.838742\tvalid_1's auc: 0.794776\n",
      "[1100]\ttraining's auc: 0.843046\tvalid_1's auc: 0.795401\n",
      "[1200]\ttraining's auc: 0.84727\tvalid_1's auc: 0.796049\n",
      "[1300]\ttraining's auc: 0.851236\tvalid_1's auc: 0.796466\n",
      "[1400]\ttraining's auc: 0.854974\tvalid_1's auc: 0.796933\n",
      "[1500]\ttraining's auc: 0.858511\tvalid_1's auc: 0.79735\n",
      "[1600]\ttraining's auc: 0.86192\tvalid_1's auc: 0.797743\n",
      "[1700]\ttraining's auc: 0.865234\tvalid_1's auc: 0.797976\n",
      "[1800]\ttraining's auc: 0.868392\tvalid_1's auc: 0.798176\n",
      "[1900]\ttraining's auc: 0.871375\tvalid_1's auc: 0.798449\n",
      "[2000]\ttraining's auc: 0.874267\tvalid_1's auc: 0.798645\n",
      "[2100]\ttraining's auc: 0.877032\tvalid_1's auc: 0.798807\n",
      "[2200]\ttraining's auc: 0.879748\tvalid_1's auc: 0.798891\n",
      "[2300]\ttraining's auc: 0.882397\tvalid_1's auc: 0.798977\n",
      "[2400]\ttraining's auc: 0.884916\tvalid_1's auc: 0.799043\n",
      "[2500]\ttraining's auc: 0.887427\tvalid_1's auc: 0.799124\n",
      "[2600]\ttraining's auc: 0.889784\tvalid_1's auc: 0.799194\n",
      "[2700]\ttraining's auc: 0.892152\tvalid_1's auc: 0.799268\n",
      "[2800]\ttraining's auc: 0.894396\tvalid_1's auc: 0.799399\n",
      "[2900]\ttraining's auc: 0.89663\tvalid_1's auc: 0.79952\n",
      "[3000]\ttraining's auc: 0.898754\tvalid_1's auc: 0.799588\n",
      "[3100]\ttraining's auc: 0.900863\tvalid_1's auc: 0.799625\n",
      "[3200]\ttraining's auc: 0.902884\tvalid_1's auc: 0.799592\n",
      "Early stopping, best iteration is:\n",
      "[3123]\ttraining's auc: 0.901347\tvalid_1's auc: 0.799662\n",
      "Training until validation scores don't improve for 100 rounds.\n",
      "[100]\ttraining's auc: 0.760745\tvalid_1's auc: 0.747187\n",
      "[200]\ttraining's auc: 0.780312\tvalid_1's auc: 0.762154\n",
      "[300]\ttraining's auc: 0.79438\tvalid_1's auc: 0.772147\n",
      "[400]\ttraining's auc: 0.804003\tvalid_1's auc: 0.777831\n",
      "[500]\ttraining's auc: 0.811787\tvalid_1's auc: 0.781777\n",
      "[600]\ttraining's auc: 0.818409\tvalid_1's auc: 0.784577\n",
      "[700]\ttraining's auc: 0.824383\tvalid_1's auc: 0.786646\n",
      "[800]\ttraining's auc: 0.829793\tvalid_1's auc: 0.788271\n",
      "[900]\ttraining's auc: 0.834743\tvalid_1's auc: 0.789528\n",
      "[1000]\ttraining's auc: 0.839369\tvalid_1's auc: 0.790324\n",
      "[1100]\ttraining's auc: 0.843711\tvalid_1's auc: 0.791179\n",
      "[1200]\ttraining's auc: 0.847905\tvalid_1's auc: 0.792031\n",
      "[1300]\ttraining's auc: 0.851831\tvalid_1's auc: 0.792614\n",
      "[1400]\ttraining's auc: 0.855532\tvalid_1's auc: 0.793088\n",
      "[1500]\ttraining's auc: 0.859048\tvalid_1's auc: 0.793526\n",
      "[1600]\ttraining's auc: 0.862461\tvalid_1's auc: 0.793919\n",
      "[1700]\ttraining's auc: 0.865763\tvalid_1's auc: 0.794108\n",
      "[1800]\ttraining's auc: 0.868864\tvalid_1's auc: 0.794277\n",
      "[1900]\ttraining's auc: 0.871812\tvalid_1's auc: 0.794502\n",
      "[2000]\ttraining's auc: 0.874695\tvalid_1's auc: 0.794672\n",
      "[2100]\ttraining's auc: 0.877516\tvalid_1's auc: 0.794788\n",
      "[2200]\ttraining's auc: 0.880207\tvalid_1's auc: 0.794969\n",
      "[2300]\ttraining's auc: 0.882785\tvalid_1's auc: 0.795051\n",
      "[2400]\ttraining's auc: 0.885348\tvalid_1's auc: 0.795154\n",
      "[2500]\ttraining's auc: 0.887753\tvalid_1's auc: 0.795303\n",
      "[2600]\ttraining's auc: 0.890128\tvalid_1's auc: 0.795399\n",
      "[2700]\ttraining's auc: 0.892465\tvalid_1's auc: 0.795397\n",
      "[2800]\ttraining's auc: 0.894806\tvalid_1's auc: 0.795529\n",
      "[2900]\ttraining's auc: 0.896994\tvalid_1's auc: 0.795534\n",
      "Early stopping, best iteration is:\n",
      "[2846]\ttraining's auc: 0.895829\tvalid_1's auc: 0.79559\n",
      "Training until validation scores don't improve for 100 rounds.\n",
      "[100]\ttraining's auc: 0.758002\tvalid_1's auc: 0.754638\n",
      "[200]\ttraining's auc: 0.77905\tvalid_1's auc: 0.769341\n",
      "[300]\ttraining's auc: 0.793465\tvalid_1's auc: 0.77758\n",
      "[400]\ttraining's auc: 0.803435\tvalid_1's auc: 0.782327\n",
      "[500]\ttraining's auc: 0.811311\tvalid_1's auc: 0.785629\n",
      "[600]\ttraining's auc: 0.81823\tvalid_1's auc: 0.787845\n",
      "[700]\ttraining's auc: 0.824189\tvalid_1's auc: 0.78933\n",
      "[800]\ttraining's auc: 0.829711\tvalid_1's auc: 0.790643\n",
      "[900]\ttraining's auc: 0.834761\tvalid_1's auc: 0.791674\n",
      "[1000]\ttraining's auc: 0.839482\tvalid_1's auc: 0.792425\n",
      "[1100]\ttraining's auc: 0.843845\tvalid_1's auc: 0.79305\n",
      "[1200]\ttraining's auc: 0.848086\tvalid_1's auc: 0.793384\n",
      "[1300]\ttraining's auc: 0.852101\tvalid_1's auc: 0.79375\n",
      "[1400]\ttraining's auc: 0.855856\tvalid_1's auc: 0.794093\n",
      "[1500]\ttraining's auc: 0.859369\tvalid_1's auc: 0.794404\n",
      "[1600]\ttraining's auc: 0.862799\tvalid_1's auc: 0.794525\n",
      "[1700]\ttraining's auc: 0.866097\tvalid_1's auc: 0.794718\n",
      "[1800]\ttraining's auc: 0.869294\tvalid_1's auc: 0.794926\n",
      "[1900]\ttraining's auc: 0.872314\tvalid_1's auc: 0.795117\n",
      "[2000]\ttraining's auc: 0.875167\tvalid_1's auc: 0.795273\n",
      "[2100]\ttraining's auc: 0.878049\tvalid_1's auc: 0.79538\n",
      "[2200]\ttraining's auc: 0.880792\tvalid_1's auc: 0.795432\n",
      "Early stopping, best iteration is:\n",
      "[2187]\ttraining's auc: 0.880444\tvalid_1's auc: 0.795456\n",
      "Training until validation scores don't improve for 100 rounds.\n",
      "[100]\ttraining's auc: 0.758916\tvalid_1's auc: 0.750778\n",
      "[200]\ttraining's auc: 0.77924\tvalid_1's auc: 0.76647\n",
      "[300]\ttraining's auc: 0.793406\tvalid_1's auc: 0.77659\n",
      "[400]\ttraining's auc: 0.803129\tvalid_1's auc: 0.78229\n",
      "[500]\ttraining's auc: 0.810954\tvalid_1's auc: 0.785938\n",
      "[600]\ttraining's auc: 0.817656\tvalid_1's auc: 0.788417\n",
      "[700]\ttraining's auc: 0.823645\tvalid_1's auc: 0.79038\n",
      "[800]\ttraining's auc: 0.829081\tvalid_1's auc: 0.791854\n",
      "[900]\ttraining's auc: 0.834158\tvalid_1's auc: 0.793041\n",
      "[1000]\ttraining's auc: 0.838823\tvalid_1's auc: 0.793849\n",
      "[1100]\ttraining's auc: 0.843216\tvalid_1's auc: 0.794484\n",
      "[1200]\ttraining's auc: 0.847422\tvalid_1's auc: 0.795171\n",
      "[1300]\ttraining's auc: 0.851388\tvalid_1's auc: 0.795638\n",
      "[1400]\ttraining's auc: 0.855115\tvalid_1's auc: 0.795982\n",
      "[1500]\ttraining's auc: 0.858745\tvalid_1's auc: 0.796334\n",
      "[1600]\ttraining's auc: 0.862061\tvalid_1's auc: 0.796737\n",
      "[1700]\ttraining's auc: 0.865343\tvalid_1's auc: 0.797155\n",
      "[1800]\ttraining's auc: 0.868497\tvalid_1's auc: 0.797355\n",
      "[1900]\ttraining's auc: 0.871491\tvalid_1's auc: 0.797581\n",
      "[2000]\ttraining's auc: 0.874395\tvalid_1's auc: 0.797811\n",
      "[2100]\ttraining's auc: 0.877171\tvalid_1's auc: 0.797902\n",
      "[2200]\ttraining's auc: 0.87992\tvalid_1's auc: 0.798018\n",
      "[2300]\ttraining's auc: 0.882504\tvalid_1's auc: 0.798142\n",
      "[2400]\ttraining's auc: 0.885048\tvalid_1's auc: 0.798266\n",
      "[2500]\ttraining's auc: 0.887425\tvalid_1's auc: 0.798366\n",
      "[2600]\ttraining's auc: 0.889785\tvalid_1's auc: 0.798412\n",
      "[2700]\ttraining's auc: 0.892142\tvalid_1's auc: 0.798481\n",
      "[2800]\ttraining's auc: 0.894348\tvalid_1's auc: 0.798508\n",
      "[2900]\ttraining's auc: 0.896566\tvalid_1's auc: 0.79858\n",
      "[3000]\ttraining's auc: 0.898712\tvalid_1's auc: 0.798589\n",
      "[3100]\ttraining's auc: 0.90084\tvalid_1's auc: 0.798625\n",
      "Early stopping, best iteration is:\n",
      "[3024]\ttraining's auc: 0.899234\tvalid_1's auc: 0.798653\n",
      "Training until validation scores don't improve for 100 rounds.\n",
      "[100]\ttraining's auc: 0.759474\tvalid_1's auc: 0.748725\n",
      "[200]\ttraining's auc: 0.77891\tvalid_1's auc: 0.765721\n",
      "[300]\ttraining's auc: 0.79291\tvalid_1's auc: 0.776564\n",
      "[400]\ttraining's auc: 0.802688\tvalid_1's auc: 0.782693\n",
      "[500]\ttraining's auc: 0.810674\tvalid_1's auc: 0.786722\n",
      "[600]\ttraining's auc: 0.817415\tvalid_1's auc: 0.789283\n",
      "[700]\ttraining's auc: 0.82342\tvalid_1's auc: 0.791176\n",
      "[800]\ttraining's auc: 0.828942\tvalid_1's auc: 0.792729\n",
      "[900]\ttraining's auc: 0.833991\tvalid_1's auc: 0.793781\n",
      "[1000]\ttraining's auc: 0.838719\tvalid_1's auc: 0.794821\n",
      "[1100]\ttraining's auc: 0.843145\tvalid_1's auc: 0.795558\n",
      "[1200]\ttraining's auc: 0.847348\tvalid_1's auc: 0.796261\n",
      "[1300]\ttraining's auc: 0.851363\tvalid_1's auc: 0.796818\n",
      "[1400]\ttraining's auc: 0.855123\tvalid_1's auc: 0.797199\n",
      "[1500]\ttraining's auc: 0.858695\tvalid_1's auc: 0.797594\n",
      "[1600]\ttraining's auc: 0.862104\tvalid_1's auc: 0.797956\n",
      "[1700]\ttraining's auc: 0.865402\tvalid_1's auc: 0.798214\n",
      "[1800]\ttraining's auc: 0.868628\tvalid_1's auc: 0.798572\n",
      "[1900]\ttraining's auc: 0.871606\tvalid_1's auc: 0.79875\n",
      "[2000]\ttraining's auc: 0.874531\tvalid_1's auc: 0.798923\n",
      "[2100]\ttraining's auc: 0.877349\tvalid_1's auc: 0.799067\n",
      "[2200]\ttraining's auc: 0.880087\tvalid_1's auc: 0.799184\n"
     ]
    },
    {
     "name": "stdout",
     "output_type": "stream",
     "text": [
      "[2300]\ttraining's auc: 0.882764\tvalid_1's auc: 0.799242\n",
      "[2400]\ttraining's auc: 0.885321\tvalid_1's auc: 0.799449\n",
      "[2500]\ttraining's auc: 0.887746\tvalid_1's auc: 0.799458\n",
      "Early stopping, best iteration is:\n",
      "[2463]\ttraining's auc: 0.886832\tvalid_1's auc: 0.799516\n"
     ]
    },
    {
     "name": "stderr",
     "output_type": "stream",
     "text": [
      "/home/sakhtar0092/anaconda2/lib/python2.7/site-packages/ipykernel_launcher.py:13: SettingWithCopyWarning: \n",
      "A value is trying to be set on a copy of a slice from a DataFrame.\n",
      "Try using .loc[row_indexer,col_indexer] = value instead\n",
      "\n",
      "See the caveats in the documentation: http://pandas.pydata.org/pandas-docs/stable/indexing.html#indexing-view-versus-copy\n",
      "  del sys.path[0]\n",
      "/home/sakhtar0092/anaconda2/lib/python2.7/site-packages/ipykernel_launcher.py:14: SettingWithCopyWarning: \n",
      "A value is trying to be set on a copy of a slice from a DataFrame.\n",
      "Try using .loc[row_indexer,col_indexer] = value instead\n",
      "\n",
      "See the caveats in the documentation: http://pandas.pydata.org/pandas-docs/stable/indexing.html#indexing-view-versus-copy\n",
      "  \n",
      "/home/sakhtar0092/anaconda2/lib/python2.7/site-packages/ipykernel_launcher.py:15: SettingWithCopyWarning: \n",
      "A value is trying to be set on a copy of a slice from a DataFrame.\n",
      "Try using .loc[row_indexer,col_indexer] = value instead\n",
      "\n",
      "See the caveats in the documentation: http://pandas.pydata.org/pandas-docs/stable/indexing.html#indexing-view-versus-copy\n",
      "  from ipykernel import kernelapp as app\n"
     ]
    },
    {
     "name": "stdout",
     "output_type": "stream",
     "text": [
      "Overall ROC: 0.797770276201,  Mean ROC: 0.797775425505, STD AUC: 0.00187160497243\n"
     ]
    }
   ],
   "source": [
    "meta_train = np.zeros(train.shape[0])\n",
    "meta_test = []\n",
    "feature_importance = pd.DataFrame(columns = [\"feature\",\"split\",\"gain\"])\n",
    "fold_roc = []\n",
    "\n",
    "kf = StratifiedKFold(n_splits= 5, shuffle=True, random_state=24344)\n",
    "for fold_id, (train_index, test_index) in enumerate(kf.split(train, target)):\n",
    "    x_train, x_test = train.iloc[train_index], train.iloc[test_index]\n",
    "    y_train, y_test = target[train_index], target[test_index]\n",
    "\n",
    "    model_tree(x_train, x_test, y_train, y_test, test, meta_train, meta_test,train_index, test_index,fold_id)\n",
    "\n",
    "test_id[\"TARGET\"] = np.array(meta_test).T.mean(axis=1)\n",
    "test_id_rank[\"TARGET\"] = pd.DataFrame(np.array(meta_test).T).rank(pct = True).mean(axis=1)\n",
    "train_id[\"TARGET\"] = meta_train\n",
    "\n",
    "print \"Overall ROC: {},  Mean ROC: {}, STD AUC: {}\".format(roc_auc_score(target, meta_train), np.mean(fold_roc), np.std(fold_roc))"
   ]
  },
  {
   "cell_type": "code",
   "execution_count": 10,
   "metadata": {
    "collapsed": true
   },
   "outputs": [],
   "source": [
    "# [0.797975549031412,\n",
    "#  0.7945047385040882,\n",
    "#  0.7964847267982552,\n",
    "#  0.7982136126987289,\n",
    "#  0.7989906742531752]"
   ]
  },
  {
   "cell_type": "code",
   "execution_count": 11,
   "metadata": {
    "collapsed": true
   },
   "outputs": [],
   "source": [
    "train_id.to_csv(\"csv/{}_train.csv\".format(model_name), index=False)\n",
    "test_id.to_csv(\"csv/{}_test.csv\".format(model_name), index=False)\n",
    "test_id_rank.to_csv(\"csv/{}_rank_test.csv\".format(model_name), index=False)"
   ]
  },
  {
   "cell_type": "markdown",
   "metadata": {},
   "source": [
    "# Get Feature Importance"
   ]
  },
  {
   "cell_type": "code",
   "execution_count": 12,
   "metadata": {
    "collapsed": true
   },
   "outputs": [],
   "source": [
    "# Print Feature Importance\n",
    "feature_importance.to_csv(\"csv/{}_all_fi.csv\".format(model_name), index = False)\n",
    "feature_importance = feature_importance.groupby(\"feature\")[[\"gain\",\"split\"]].mean().sort_values('gain', ascending=False).reset_index()\n",
    "\n",
    "plt.figure()\n",
    "feature_importance[['feature','gain']].head(60).plot(kind='barh', x='feature', y='gain', legend=False, figsize=(30, 100))\n",
    "plt.gcf().savefig('csv/{}.png'.format(model_name))\n"
   ]
  },
  {
   "cell_type": "code",
   "execution_count": null,
   "metadata": {
    "collapsed": true
   },
   "outputs": [],
   "source": []
  },
  {
   "cell_type": "code",
   "execution_count": null,
   "metadata": {
    "collapsed": true
   },
   "outputs": [],
   "source": []
  },
  {
   "cell_type": "code",
   "execution_count": null,
   "metadata": {
    "collapsed": true
   },
   "outputs": [],
   "source": []
  },
  {
   "cell_type": "code",
   "execution_count": null,
   "metadata": {
    "collapsed": true
   },
   "outputs": [],
   "source": []
  },
  {
   "cell_type": "code",
   "execution_count": null,
   "metadata": {
    "collapsed": true
   },
   "outputs": [],
   "source": []
  },
  {
   "cell_type": "code",
   "execution_count": null,
   "metadata": {
    "collapsed": true
   },
   "outputs": [],
   "source": []
  },
  {
   "cell_type": "code",
   "execution_count": null,
   "metadata": {
    "collapsed": true
   },
   "outputs": [],
   "source": []
  },
  {
   "cell_type": "code",
   "execution_count": null,
   "metadata": {
    "collapsed": true
   },
   "outputs": [],
   "source": [
    "-"
   ]
  }
 ],
 "metadata": {
  "kernelspec": {
   "display_name": "Python 2",
   "language": "python",
   "name": "python2"
  },
  "language_info": {
   "codemirror_mode": {
    "name": "ipython",
    "version": 2
   },
   "file_extension": ".py",
   "mimetype": "text/x-python",
   "name": "python",
   "nbconvert_exporter": "python",
   "pygments_lexer": "ipython2",
   "version": "2.7.14"
  }
 },
 "nbformat": 4,
 "nbformat_minor": 2
}
