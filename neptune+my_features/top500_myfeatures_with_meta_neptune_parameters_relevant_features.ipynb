{
 "cells": [
  {
   "cell_type": "code",
   "execution_count": 19,
   "metadata": {
    "collapsed": true
   },
   "outputs": [],
   "source": [
    "model_name = \"top500_myfeatures_with_meta_neptune_parameters_relevant_features\""
   ]
  },
  {
   "cell_type": "code",
   "execution_count": 20,
   "metadata": {
    "collapsed": true
   },
   "outputs": [],
   "source": [
    "import numpy as np\n",
    "import pandas as pd\n",
    "import gc\n",
    "from time import time\n",
    "from contextlib import contextmanager\n",
    "from lightgbm import LGBMClassifier\n",
    "from sklearn.metrics import roc_auc_score, roc_curve\n",
    "from sklearn.model_selection import KFold, StratifiedKFold\n",
    "import matplotlib.pyplot as plt\n",
    "import seaborn as sns\n",
    "import warnings\n",
    "from sklearn.preprocessing import LabelEncoder,OneHotEncoder"
   ]
  },
  {
   "cell_type": "code",
   "execution_count": 21,
   "metadata": {},
   "outputs": [
    {
     "name": "stdout",
     "output_type": "stream",
     "text": [
      "Init... : 0.000316143035889 seconds\n"
     ]
    }
   ],
   "source": [
    "timesheet = [time()]\n",
    "def timer(statement):\n",
    "    global timesheet\n",
    "    timesheet.append(time())\n",
    "    print statement+\" :\", (timesheet[-1]-timesheet[-2]),\"seconds\"\n",
    "timer(\"Init...\")"
   ]
  },
  {
   "cell_type": "code",
   "execution_count": 22,
   "metadata": {
    "collapsed": true
   },
   "outputs": [],
   "source": [
    "def load_meta(directory, prefix, modeltype):\n",
    "    m_tr = pd.read_csv(directory+prefix+\"_train.csv\")\n",
    "    m_te = pd.read_csv(directory+prefix+\"_test.csv\")\n",
    "    data = pd.concat([m_tr, m_te], axis=0).reset_index(drop=True)\n",
    "    data.columns = [\"{}_{}_{}\".format(c, prefix, modeltype) if c!=\"SK_ID_CURR\" else c for c in data.columns]\n",
    "    return data\n",
    "\n",
    "def join_features(data, features):\n",
    "    for item in features:\n",
    "        data = data.merge(item, how = \"left\", on = \"SK_ID_CURR\")\n",
    "    return data\n",
    "\n",
    "def load_data(datafile):\n",
    "    global important_columns\n",
    "    colnames = [c.replace(\" \",\"_\") for c in pd.read_csv(datafile, nrows= 1).columns]\n",
    "    intersection = list(set(colnames).intersection(set(important_columns)))+[\"SK_ID_CURR\"]\n",
    "\n",
    "    df =  pd.read_csv(datafile, names = colnames, usecols = intersection, skiprows=1).dropna(axis=1, how=\"all\")\n",
    "    timer(\"Loaded {} with shape {} in \".format(datafile.split(\"/\")[-1], df.shape))\n",
    "    return df\n",
    "\n",
    "def load_neptune(directory, modelname):\n",
    "    m_tr = pd.read_csv(directory+\"lightGBM_out_of_fold_train_predictions.csv\", usecols = [\"SK_ID_CURR\",\"lightGBM_prediction\"])\n",
    "    m_te = pd.read_csv(directory+\"lightGBM_out_of_fold_test_predictions.csv\", usecols = [\"SK_ID_CURR\",\"lightGBM_prediction\"])\n",
    "    m_te = m_te.groupby(\"SK_ID_CURR\")[\"lightGBM_prediction\"].mean().reset_index()\n",
    "    \n",
    "    data = pd.concat([m_tr, m_te], axis=0).reset_index(drop=True)\n",
    "    data.columns = [\"SK_ID_CURR\", \"neptune_{}\".format(modelname)]\n",
    "    return data"
   ]
  },
  {
   "cell_type": "markdown",
   "metadata": {},
   "source": [
    "## Getting Feature Importance File"
   ]
  },
  {
   "cell_type": "code",
   "execution_count": 23,
   "metadata": {
    "collapsed": true
   },
   "outputs": [],
   "source": [
    "important_columns = pd.read_csv(\"../feature selector/importance/shap_importances.csv\")\n",
    "important_columns[\"feature\"] = important_columns[\"feature\"].apply(lambda x: x.replace(\" \",\"_\"))\n",
    "important_columns = important_columns.loc[important_columns.shapely_mean > 0.0].reset_index(drop=True)\n",
    "important_columns = important_columns.sort_values(by = \"shapely_mean\", ascending = False).reset_index(drop=True)\n",
    "important_columns = important_columns.loc[0:500].feature.values.tolist()\n",
    "\n",
    "\n",
    "important_columns_neptune = pd.read_csv(\"../feature selector/importance/shap_importances_neptune_features.csv\")\n",
    "important_columns_neptune[\"feature\"] = important_columns_neptune[\"feature\"].apply(lambda x: x.replace(\" \",\"_\"))\n",
    "important_columns_neptune = important_columns_neptune.loc[important_columns_neptune.shapely_mean > 0.0].reset_index(drop=True)\n",
    "important_columns_neptune = important_columns_neptune.sort_values(by = \"shapely_mean\", ascending = False).reset_index(drop=True)\n",
    "important_columns_neptune = important_columns_neptune.feature.values.tolist()"
   ]
  },
  {
   "cell_type": "markdown",
   "metadata": {},
   "source": [
    "## Loading Features"
   ]
  },
  {
   "cell_type": "code",
   "execution_count": 24,
   "metadata": {
    "scrolled": true
   },
   "outputs": [
    {
     "name": "stdout",
     "output_type": "stream",
     "text": [
      "Loaded application_features_V2.csv with shape (356255, 75) in  : 32.8808329105 seconds\n",
      "Loaded bureau_features_V1.csv with shape (305811, 84) in  : 10.5154500008 seconds\n",
      "Loaded credit_card_features_V1.csv with shape (103558, 16) in  : 10.457201004 seconds\n",
      "Loaded installment_features_V1.csv with shape (339587, 100) in  : 33.572437048 seconds\n",
      "Loaded pos_cash_features_V1.csv with shape (337252, 48) in  : 21.3200819492 seconds\n",
      "Loaded previous_application_features_V1.csv with shape (338857, 93) in  : 22.2427499294 seconds\n",
      "Loaded credit_card_features_V3.csv with shape (103558, 6) in  : 17.0387401581 seconds\n",
      "Loaded installment_features_V3.csv with shape (339587, 69) in  : 27.8438420296 seconds\n",
      "Loaded pos_cash_features_V3.csv with shape (337252, 11) in  : 7.02572488785 seconds\n",
      "Loaded previous_application_features_V3.csv with shape (338857, 9) in  : 8.48745703697 seconds\n"
     ]
    }
   ],
   "source": [
    "applications = load_data(\"../extractor/csv/application_features_V2.csv\")\n",
    "bureau_balance_bb = load_data(\"../extractor/csv/bureau_features_V1.csv\")\n",
    "credit_card_balance = load_data(\"../extractor/csv/credit_card_features_V1.csv\")\n",
    "installment_features = load_data(\"../extractor/csv/installment_features_V1.csv\")\n",
    "pos_cash_balance = load_data(\"../extractor/csv/pos_cash_features_V1.csv\")\n",
    "previous_apps = load_data(\"../extractor/csv/previous_application_features_V1.csv\")\n",
    "\n",
    "credit_card_balance_v3 = load_data(\"../extractor/csv/credit_card_features_V3.csv\")\n",
    "installment_features_v3 = load_data(\"../extractor/csv/installment_features_V3.csv\")\n",
    "pos_cash_balance_v3 = load_data(\"../extractor/csv/pos_cash_features_V3.csv\")\n",
    "previous_apps_v3 = load_data(\"../extractor/csv/previous_application_features_V3.csv\")\n",
    "\n",
    "base_features = [applications, bureau_balance_bb, credit_card_balance, installment_features, pos_cash_balance,previous_apps, credit_card_balance_v3,installment_features_v3,pos_cash_balance_v3, previous_apps_v3]"
   ]
  },
  {
   "cell_type": "code",
   "execution_count": 25,
   "metadata": {
    "collapsed": true
   },
   "outputs": [],
   "source": [
    "l1_features = [\n",
    "    load_meta(\"../l1/csv/\", \"l1_gnb\", \"l1\"),\n",
    "    load_meta(\"../l1/csv/\", \"l1_lr\", \"l1\"),\n",
    "    load_meta(\"../l1/csv/\", \"l1_tree_with_flags\", \"l1\"),\n",
    "    load_meta(\"../l1/csv/\", \"l1_tree_without_flags\", \"l1\"),\n",
    "    load_meta(\"../l1/csv/\", \"tree_with_flags_without_meta\", \"l1\"),\n",
    "    load_meta(\"../l1/csv/\", \"tree_without_flags_without_meta\", \"l1\"),\n",
    "    load_meta(\"../l1/csv/\", \"tree_on_core_features_with_meta\", \"l1\"),\n",
    "]\n",
    "\n",
    "neptune_features = [\n",
    "    load_neptune(\"../base neptune/m1/csv/\", \"m1\"),\n",
    "    load_neptune(\"../base neptune/m2/csv/\", \"m2\"),\n",
    "    load_neptune(\"../base neptune/m3/csv/\", \"m3\"),\n",
    "    load_neptune(\"../base neptune/m4/csv/\", \"m4\"),\n",
    "]\n",
    "\n",
    "extra_models = [\n",
    "    load_meta(\"../some extra models/csv/\", \"knn_on_selected_pca\", \"extras\"),\n",
    "    load_meta(\"../some extra models/csv/\", \"lgbm_on_core_features\", \"extras\"),\n",
    "    load_meta(\"../some extra models/csv/\", \"lgbm_on_gp_features\", \"extras\"),\n",
    "    load_meta(\"../some extra models/csv/\", \"lr_on_core_features\", \"extras\"),\n",
    "#     load_meta(\"../some extra models/csv/\", \"nn\", \"extras\"),\n",
    "    load_meta(\"../some extra models/csv/\", \"using_lags_bureau_data\", \"extras\"),\n",
    "\n",
    "]"
   ]
  },
  {
   "cell_type": "markdown",
   "metadata": {},
   "source": [
    "## Joining All Files"
   ]
  },
  {
   "cell_type": "code",
   "execution_count": 26,
   "metadata": {
    "collapsed": true
   },
   "outputs": [],
   "source": [
    "train = pd.read_csv(\"../data/application_train.csv\", usecols = [\"SK_ID_CURR\",\"TARGET\"])\n",
    "test = pd.read_csv(\"../data/application_test.csv\", usecols = [\"SK_ID_CURR\"])\n",
    "\n",
    "neptune_train = pd.read_csv(\"../neptune extractor/data/train.csv\", usecols = important_columns_neptune)\n",
    "neptune_test = pd.read_csv(\"../neptune extractor/data/test.csv\", usecols = important_columns_neptune)\n",
    "\n",
    "train = pd.concat([train, neptune_train], axis=1)\n",
    "test = pd.concat([test, neptune_test], axis=1)\n",
    "\n",
    "del neptune_train, neptune_test\n",
    "gc.collect()\n",
    "\n",
    "data = pd.concat([train, test], axis=0).reset_index(drop=True)\n",
    "data = join_features(data, base_features)\n",
    "data = join_features(data, l1_features)\n",
    "data = join_features(data, neptune_features)\n",
    "data = join_features(data, extra_models)\n",
    "del base_features,applications, bureau_balance_bb, credit_card_balance, installment_features, pos_cash_balance,previous_apps, credit_card_balance_v3,installment_features_v3,pos_cash_balance_v3, previous_apps_v3\n",
    "gc.collect()\n",
    "\n",
    "train = data.loc[data.TARGET.notnull()].reset_index(drop=True)\n",
    "test = data.loc[data.TARGET.isnull()].reset_index(drop=True)\n",
    "\n",
    "train_id = train[[\"SK_ID_CURR\"]]\n",
    "test_id = test[[\"SK_ID_CURR\"]]\n",
    "test_id_rank = test[[\"SK_ID_CURR\"]]\n",
    "target =train.TARGET\n",
    "\n",
    "train.drop([\"SK_ID_CURR\", \"TARGET\"], axis=1, inplace=True)\n",
    "test.drop([\"SK_ID_CURR\",\"TARGET\"], axis=1, inplace = True)"
   ]
  },
  {
   "cell_type": "markdown",
   "metadata": {},
   "source": [
    "# Defining Model"
   ]
  },
  {
   "cell_type": "code",
   "execution_count": 27,
   "metadata": {
    "collapsed": true
   },
   "outputs": [],
   "source": [
    "import lightgbm as lgb\n",
    "def model_tree(x_train, x_test, y_train, y_test, test, meta_train, meta_test,train_index, test_index,fold_id):\n",
    "    dtrain = lgb.Dataset(x_train, label=y_train)\n",
    "    dval = lgb.Dataset(x_test, label=y_test)\n",
    "    params = {\n",
    "        'num_leaves': 30, #32\n",
    "        'reg_alpha': 0.0, \n",
    "        'colsample_bytree': 0.05, \n",
    "        'subsample_freq': 1, \n",
    "        'learning_rate': 0.02, # 0.02\n",
    "        'boosting_type': 'gbdt', \n",
    "        'nthread': 16, \n",
    "        'min_split_gain': 0.5, \n",
    "        'n_estimators': 10000, \n",
    "        'subsample': 1, \n",
    "        'reg_lambda': 100, \n",
    "        'objective': \"binary\", \n",
    "        'min_child_samples': 70, \n",
    "        'max_depth': 3, #-1\n",
    "        'class_weight': None,\n",
    "        \"bagging_seed\" : 3143,\n",
    "        \"seed\":1343,\n",
    "        \"metric\":\"auc\",\n",
    "        \"is_unbalance\": False,\n",
    "        \"scale_pos_weight\": 1,\n",
    "        \"max_bin\":300\n",
    "    }\n",
    "    model = lgb.train(params, dtrain, num_boost_round=5000,valid_sets=[dtrain, dval], early_stopping_rounds=100, verbose_eval=100)\n",
    "    meta_train[test_index] = model.predict(x_test, num_iteration=model.best_iteration or 5000)\n",
    "    meta_test.append(model.predict(test, num_iteration=model.best_iteration or 5000))\n",
    "    \n",
    "    global fold_roc\n",
    "    fold_roc.append(roc_auc_score(y_test, meta_train[test_index]))\n",
    "    # Calculate Feature Importance\n",
    "    global feature_importance\n",
    "    gain = model.feature_importance('gain')\n",
    "    fold_feature_importance = pd.DataFrame({'feature':model.feature_name(), 'split':model.feature_importance('split'), 'gain':100 * gain / gain.sum()})\n",
    "    feature_importance = feature_importance.append(fold_feature_importance, ignore_index=True) "
   ]
  },
  {
   "cell_type": "markdown",
   "metadata": {},
   "source": [
    "# Training Model"
   ]
  },
  {
   "cell_type": "code",
   "execution_count": 29,
   "metadata": {
    "scrolled": true
   },
   "outputs": [
    {
     "name": "stdout",
     "output_type": "stream",
     "text": [
      "Training until validation scores don't improve for 100 rounds.\n",
      "[100]\ttraining's auc: 0.790975\tvalid_1's auc: 0.780485\n",
      "[200]\ttraining's auc: 0.795982\tvalid_1's auc: 0.78533\n",
      "[300]\ttraining's auc: 0.79972\tvalid_1's auc: 0.788352\n",
      "[400]\ttraining's auc: 0.801902\tvalid_1's auc: 0.789652\n",
      "[500]\ttraining's auc: 0.80352\tvalid_1's auc: 0.790499\n",
      "[600]\ttraining's auc: 0.80485\tvalid_1's auc: 0.791022\n",
      "[700]\ttraining's auc: 0.805981\tvalid_1's auc: 0.791262\n",
      "[800]\ttraining's auc: 0.806959\tvalid_1's auc: 0.791443\n",
      "[900]\ttraining's auc: 0.808007\tvalid_1's auc: 0.791659\n",
      "[1000]\ttraining's auc: 0.80886\tvalid_1's auc: 0.791711\n",
      "[1100]\ttraining's auc: 0.809726\tvalid_1's auc: 0.791763\n",
      "[1200]\ttraining's auc: 0.810552\tvalid_1's auc: 0.791841\n",
      "[1300]\ttraining's auc: 0.811321\tvalid_1's auc: 0.791839\n",
      "[1400]\ttraining's auc: 0.812104\tvalid_1's auc: 0.791898\n",
      "[1500]\ttraining's auc: 0.812892\tvalid_1's auc: 0.791943\n",
      "[1600]\ttraining's auc: 0.813659\tvalid_1's auc: 0.791997\n",
      "[1700]\ttraining's auc: 0.81436\tvalid_1's auc: 0.791955\n",
      "Early stopping, best iteration is:\n",
      "[1609]\ttraining's auc: 0.813718\tvalid_1's auc: 0.792016\n",
      "Training until validation scores don't improve for 100 rounds.\n",
      "[100]\ttraining's auc: 0.789766\tvalid_1's auc: 0.793326\n",
      "[200]\ttraining's auc: 0.794659\tvalid_1's auc: 0.798163\n",
      "[300]\ttraining's auc: 0.798343\tvalid_1's auc: 0.801064\n",
      "[400]\ttraining's auc: 0.800511\tvalid_1's auc: 0.802358\n",
      "[500]\ttraining's auc: 0.802106\tvalid_1's auc: 0.80317\n",
      "[600]\ttraining's auc: 0.803393\tvalid_1's auc: 0.803702\n",
      "[700]\ttraining's auc: 0.804575\tvalid_1's auc: 0.803973\n",
      "[800]\ttraining's auc: 0.805537\tvalid_1's auc: 0.804164\n",
      "[900]\ttraining's auc: 0.806564\tvalid_1's auc: 0.804273\n",
      "[1000]\ttraining's auc: 0.807408\tvalid_1's auc: 0.804278\n",
      "[1100]\ttraining's auc: 0.808289\tvalid_1's auc: 0.804291\n",
      "[1200]\ttraining's auc: 0.809117\tvalid_1's auc: 0.804381\n",
      "[1300]\ttraining's auc: 0.80986\tvalid_1's auc: 0.804408\n",
      "[1400]\ttraining's auc: 0.810667\tvalid_1's auc: 0.804447\n",
      "[1500]\ttraining's auc: 0.811403\tvalid_1's auc: 0.804552\n",
      "[1600]\ttraining's auc: 0.812144\tvalid_1's auc: 0.80452\n",
      "Early stopping, best iteration is:\n",
      "[1500]\ttraining's auc: 0.811403\tvalid_1's auc: 0.804552\n",
      "Training until validation scores don't improve for 100 rounds.\n",
      "[100]\ttraining's auc: 0.790203\tvalid_1's auc: 0.789813\n",
      "[200]\ttraining's auc: 0.795056\tvalid_1's auc: 0.793863\n",
      "[300]\ttraining's auc: 0.798887\tvalid_1's auc: 0.796882\n",
      "[400]\ttraining's auc: 0.801023\tvalid_1's auc: 0.797936\n",
      "[500]\ttraining's auc: 0.80261\tvalid_1's auc: 0.798603\n",
      "[600]\ttraining's auc: 0.803928\tvalid_1's auc: 0.799033\n",
      "[700]\ttraining's auc: 0.805086\tvalid_1's auc: 0.799228\n",
      "[800]\ttraining's auc: 0.806094\tvalid_1's auc: 0.799395\n",
      "[900]\ttraining's auc: 0.807156\tvalid_1's auc: 0.799557\n",
      "[1000]\ttraining's auc: 0.80807\tvalid_1's auc: 0.799518\n",
      "Early stopping, best iteration is:\n",
      "[949]\ttraining's auc: 0.80762\tvalid_1's auc: 0.799588\n",
      "Training until validation scores don't improve for 100 rounds.\n",
      "[100]\ttraining's auc: 0.789198\tvalid_1's auc: 0.795661\n",
      "[200]\ttraining's auc: 0.79461\tvalid_1's auc: 0.799698\n",
      "[300]\ttraining's auc: 0.798437\tvalid_1's auc: 0.801618\n",
      "[400]\ttraining's auc: 0.800642\tvalid_1's auc: 0.802456\n",
      "[500]\ttraining's auc: 0.802288\tvalid_1's auc: 0.80272\n",
      "[600]\ttraining's auc: 0.80366\tvalid_1's auc: 0.802987\n",
      "[700]\ttraining's auc: 0.804875\tvalid_1's auc: 0.8031\n",
      "[800]\ttraining's auc: 0.805904\tvalid_1's auc: 0.803276\n",
      "[900]\ttraining's auc: 0.806921\tvalid_1's auc: 0.803401\n",
      "[1000]\ttraining's auc: 0.807851\tvalid_1's auc: 0.803459\n",
      "[1100]\ttraining's auc: 0.808788\tvalid_1's auc: 0.803511\n",
      "[1200]\ttraining's auc: 0.809685\tvalid_1's auc: 0.803493\n",
      "Early stopping, best iteration is:\n",
      "[1141]\ttraining's auc: 0.809158\tvalid_1's auc: 0.803563\n",
      "Training until validation scores don't improve for 100 rounds.\n",
      "[100]\ttraining's auc: 0.790098\tvalid_1's auc: 0.787305\n",
      "[200]\ttraining's auc: 0.795204\tvalid_1's auc: 0.792228\n",
      "[300]\ttraining's auc: 0.799031\tvalid_1's auc: 0.794956\n",
      "[400]\ttraining's auc: 0.80125\tvalid_1's auc: 0.796004\n",
      "[500]\ttraining's auc: 0.80289\tvalid_1's auc: 0.79669\n",
      "[600]\ttraining's auc: 0.804208\tvalid_1's auc: 0.797035\n",
      "[700]\ttraining's auc: 0.8054\tvalid_1's auc: 0.797151\n",
      "[800]\ttraining's auc: 0.806457\tvalid_1's auc: 0.79693\n",
      "Early stopping, best iteration is:\n",
      "[713]\ttraining's auc: 0.805517\tvalid_1's auc: 0.797166\n",
      "Training until validation scores don't improve for 100 rounds.\n",
      "[100]\ttraining's auc: 0.791386\tvalid_1's auc: 0.777747\n",
      "[200]\ttraining's auc: 0.796297\tvalid_1's auc: 0.782034\n",
      "[300]\ttraining's auc: 0.800066\tvalid_1's auc: 0.785076\n",
      "[400]\ttraining's auc: 0.802222\tvalid_1's auc: 0.786399\n",
      "[500]\ttraining's auc: 0.80387\tvalid_1's auc: 0.787071\n",
      "[600]\ttraining's auc: 0.805161\tvalid_1's auc: 0.787491\n",
      "[700]\ttraining's auc: 0.806326\tvalid_1's auc: 0.787761\n",
      "[800]\ttraining's auc: 0.807325\tvalid_1's auc: 0.787878\n",
      "[900]\ttraining's auc: 0.808364\tvalid_1's auc: 0.788049\n",
      "[1000]\ttraining's auc: 0.809283\tvalid_1's auc: 0.788151\n",
      "[1100]\ttraining's auc: 0.810184\tvalid_1's auc: 0.788314\n",
      "[1200]\ttraining's auc: 0.811005\tvalid_1's auc: 0.7884\n",
      "[1300]\ttraining's auc: 0.811783\tvalid_1's auc: 0.788432\n",
      "[1400]\ttraining's auc: 0.812558\tvalid_1's auc: 0.788499\n",
      "[1500]\ttraining's auc: 0.813315\tvalid_1's auc: 0.788553\n",
      "[1600]\ttraining's auc: 0.814068\tvalid_1's auc: 0.788606\n",
      "[1700]\ttraining's auc: 0.814769\tvalid_1's auc: 0.788646\n",
      "[1800]\ttraining's auc: 0.815437\tvalid_1's auc: 0.788614\n",
      "Early stopping, best iteration is:\n",
      "[1724]\ttraining's auc: 0.814924\tvalid_1's auc: 0.788669\n",
      "Training until validation scores don't improve for 100 rounds.\n",
      "[100]\ttraining's auc: 0.789555\tvalid_1's auc: 0.794637\n",
      "[200]\ttraining's auc: 0.794431\tvalid_1's auc: 0.799257\n",
      "[300]\ttraining's auc: 0.79817\tvalid_1's auc: 0.802257\n",
      "[400]\ttraining's auc: 0.800304\tvalid_1's auc: 0.803552\n",
      "[500]\ttraining's auc: 0.801958\tvalid_1's auc: 0.804328\n",
      "[600]\ttraining's auc: 0.803286\tvalid_1's auc: 0.804828\n",
      "[700]\ttraining's auc: 0.804457\tvalid_1's auc: 0.805009\n",
      "[800]\ttraining's auc: 0.805488\tvalid_1's auc: 0.805169\n",
      "[900]\ttraining's auc: 0.806491\tvalid_1's auc: 0.80532\n",
      "[1000]\ttraining's auc: 0.807361\tvalid_1's auc: 0.805393\n",
      "[1100]\ttraining's auc: 0.80824\tvalid_1's auc: 0.805414\n",
      "[1200]\ttraining's auc: 0.809102\tvalid_1's auc: 0.80542\n",
      "Early stopping, best iteration is:\n",
      "[1164]\ttraining's auc: 0.808799\tvalid_1's auc: 0.805458\n",
      "Training until validation scores don't improve for 100 rounds.\n",
      "[100]\ttraining's auc: 0.791106\tvalid_1's auc: 0.781145\n",
      "[200]\ttraining's auc: 0.795966\tvalid_1's auc: 0.78579\n",
      "[300]\ttraining's auc: 0.799693\tvalid_1's auc: 0.788644\n",
      "[400]\ttraining's auc: 0.80179\tvalid_1's auc: 0.789859\n",
      "[500]\ttraining's auc: 0.803354\tvalid_1's auc: 0.790757\n",
      "[600]\ttraining's auc: 0.804625\tvalid_1's auc: 0.79135\n",
      "[700]\ttraining's auc: 0.805782\tvalid_1's auc: 0.791753\n",
      "[800]\ttraining's auc: 0.806801\tvalid_1's auc: 0.791929\n",
      "[900]\ttraining's auc: 0.807816\tvalid_1's auc: 0.792183\n",
      "[1000]\ttraining's auc: 0.808723\tvalid_1's auc: 0.792238\n",
      "[1100]\ttraining's auc: 0.809657\tvalid_1's auc: 0.792322\n",
      "[1200]\ttraining's auc: 0.810504\tvalid_1's auc: 0.792405\n",
      "[1300]\ttraining's auc: 0.811313\tvalid_1's auc: 0.79243\n",
      "[1400]\ttraining's auc: 0.81209\tvalid_1's auc: 0.792427\n",
      "Early stopping, best iteration is:\n",
      "[1310]\ttraining's auc: 0.811387\tvalid_1's auc: 0.79244\n",
      "Training until validation scores don't improve for 100 rounds.\n",
      "[100]\ttraining's auc: 0.789492\tvalid_1's auc: 0.793802\n",
      "Early stopping, best iteration is:\n",
      "[25]\ttraining's auc: 0.780242\tvalid_1's auc: 0.800942\n",
      "Training until validation scores don't improve for 100 rounds.\n",
      "[100]\ttraining's auc: 0.790261\tvalid_1's auc: 0.786761\n",
      "[200]\ttraining's auc: 0.795155\tvalid_1's auc: 0.792064\n",
      "[300]\ttraining's auc: 0.79886\tvalid_1's auc: 0.795711\n",
      "[400]\ttraining's auc: 0.801004\tvalid_1's auc: 0.79737\n",
      "[500]\ttraining's auc: 0.80263\tvalid_1's auc: 0.798304\n",
      "[600]\ttraining's auc: 0.803923\tvalid_1's auc: 0.799044\n",
      "[700]\ttraining's auc: 0.805064\tvalid_1's auc: 0.799373\n",
      "[800]\ttraining's auc: 0.806042\tvalid_1's auc: 0.799568\n",
      "[900]\ttraining's auc: 0.807059\tvalid_1's auc: 0.79972\n",
      "[1000]\ttraining's auc: 0.807912\tvalid_1's auc: 0.799769\n",
      "[1100]\ttraining's auc: 0.808789\tvalid_1's auc: 0.799909\n",
      "[1200]\ttraining's auc: 0.809597\tvalid_1's auc: 0.799992\n",
      "[1300]\ttraining's auc: 0.810359\tvalid_1's auc: 0.800074\n",
      "[1400]\ttraining's auc: 0.811146\tvalid_1's auc: 0.800077\n",
      "Early stopping, best iteration is:\n",
      "[1323]\ttraining's auc: 0.810533\tvalid_1's auc: 0.8001\n"
     ]
    },
    {
     "name": "stderr",
     "output_type": "stream",
     "text": [
      "/home/sakhtar0092/anaconda2/lib/python2.7/site-packages/ipykernel_launcher.py:13: SettingWithCopyWarning: \n",
      "A value is trying to be set on a copy of a slice from a DataFrame.\n",
      "Try using .loc[row_indexer,col_indexer] = value instead\n",
      "\n",
      "See the caveats in the documentation: http://pandas.pydata.org/pandas-docs/stable/indexing.html#indexing-view-versus-copy\n",
      "  del sys.path[0]\n",
      "/home/sakhtar0092/anaconda2/lib/python2.7/site-packages/ipykernel_launcher.py:14: SettingWithCopyWarning: \n",
      "A value is trying to be set on a copy of a slice from a DataFrame.\n",
      "Try using .loc[row_indexer,col_indexer] = value instead\n",
      "\n",
      "See the caveats in the documentation: http://pandas.pydata.org/pandas-docs/stable/indexing.html#indexing-view-versus-copy\n",
      "  \n"
     ]
    },
    {
     "name": "stdout",
     "output_type": "stream",
     "text": [
      "Overall ROC: 0.759046430295,  Mean ROC: 0.798449379328, STD AUC: 0.0054548874113\n"
     ]
    },
    {
     "name": "stderr",
     "output_type": "stream",
     "text": [
      "/home/sakhtar0092/anaconda2/lib/python2.7/site-packages/ipykernel_launcher.py:15: SettingWithCopyWarning: \n",
      "A value is trying to be set on a copy of a slice from a DataFrame.\n",
      "Try using .loc[row_indexer,col_indexer] = value instead\n",
      "\n",
      "See the caveats in the documentation: http://pandas.pydata.org/pandas-docs/stable/indexing.html#indexing-view-versus-copy\n",
      "  from ipykernel import kernelapp as app\n"
     ]
    }
   ],
   "source": [
    "meta_train = np.zeros(train.shape[0])\n",
    "meta_test = []\n",
    "feature_importance = pd.DataFrame(columns = [\"feature\",\"split\",\"gain\"])\n",
    "fold_roc = []\n",
    "\n",
    "kf = StratifiedKFold(n_splits= 10, shuffle=True, random_state=47)\n",
    "for fold_id, (train_index, test_index) in enumerate(kf.split(train, target)):\n",
    "    x_train, x_test = train.iloc[train_index], train.iloc[test_index]\n",
    "    y_train, y_test = target[train_index], target[test_index]\n",
    "\n",
    "    model_tree(x_train, x_test, y_train, y_test, test, meta_train, meta_test,train_index, test_index,fold_id)\n",
    "\n",
    "test_id[\"TARGET\"] = np.array(meta_test).T.mean(axis=1)\n",
    "test_id_rank[\"TARGET\"] = pd.DataFrame(np.array(meta_test).T).rank(pct = True).mean(axis=1)\n",
    "train_id[\"TARGET\"] = meta_train\n",
    "\n",
    "print \"Overall ROC: {},  Mean ROC: {}, STD AUC: {}\".format(roc_auc_score(target, meta_train), np.mean(fold_roc), np.std(fold_roc))"
   ]
  },
  {
   "cell_type": "code",
   "execution_count": 30,
   "metadata": {},
   "outputs": [],
   "source": [
    "# [0.7920392753998619,\n",
    "#  0.805254456114305,\n",
    "#  0.8008227783801973,\n",
    "#  0.8041775089035524,\n",
    "#  0.7886149143618753,\n",
    "#  0.7890053280859445,\n",
    "#  0.8052696693681416,\n",
    "#  0.7933513828217474,\n",
    "#  0.8278584369794485,\n",
    "#  0.8007763438856839]"
   ]
  },
  {
   "cell_type": "code",
   "execution_count": 31,
   "metadata": {
    "collapsed": true
   },
   "outputs": [],
   "source": [
    "train_id.to_csv(\"csv/{}_train.csv\".format(model_name), index=False)\n",
    "test_id.to_csv(\"csv/{}_test.csv\".format(model_name), index=False)\n",
    "test_id_rank.to_csv(\"csv/{}_rank_test.csv\".format(model_name), index=False)"
   ]
  },
  {
   "cell_type": "markdown",
   "metadata": {},
   "source": [
    "# Get Feature Importance"
   ]
  },
  {
   "cell_type": "code",
   "execution_count": 32,
   "metadata": {
    "collapsed": true
   },
   "outputs": [],
   "source": [
    "# Print Feature Importance\n",
    "feature_importance.to_csv(\"csv/{}_all_fi.csv\".format(model_name), index = False)\n",
    "feature_importance = feature_importance.groupby(\"feature\")[[\"gain\",\"split\"]].mean().sort_values('gain', ascending=False).reset_index()\n",
    "\n",
    "plt.figure()\n",
    "feature_importance[['feature','gain']].head(60).plot(kind='barh', x='feature', y='gain', legend=False, figsize=(30, 100))\n",
    "plt.gcf().savefig('csv/{}.png'.format(model_name))\n"
   ]
  },
  {
   "cell_type": "code",
   "execution_count": null,
   "metadata": {
    "collapsed": true
   },
   "outputs": [],
   "source": []
  },
  {
   "cell_type": "code",
   "execution_count": null,
   "metadata": {
    "collapsed": true
   },
   "outputs": [],
   "source": []
  },
  {
   "cell_type": "code",
   "execution_count": null,
   "metadata": {
    "collapsed": true
   },
   "outputs": [],
   "source": []
  },
  {
   "cell_type": "code",
   "execution_count": null,
   "metadata": {
    "collapsed": true
   },
   "outputs": [],
   "source": []
  },
  {
   "cell_type": "code",
   "execution_count": null,
   "metadata": {
    "collapsed": true
   },
   "outputs": [],
   "source": []
  },
  {
   "cell_type": "code",
   "execution_count": null,
   "metadata": {
    "collapsed": true
   },
   "outputs": [],
   "source": []
  },
  {
   "cell_type": "code",
   "execution_count": null,
   "metadata": {
    "collapsed": true
   },
   "outputs": [],
   "source": []
  },
  {
   "cell_type": "code",
   "execution_count": null,
   "metadata": {
    "collapsed": true
   },
   "outputs": [],
   "source": [
    "-"
   ]
  }
 ],
 "metadata": {
  "kernelspec": {
   "display_name": "Python 2",
   "language": "python",
   "name": "python2"
  },
  "language_info": {
   "codemirror_mode": {
    "name": "ipython",
    "version": 2
   },
   "file_extension": ".py",
   "mimetype": "text/x-python",
   "name": "python",
   "nbconvert_exporter": "python",
   "pygments_lexer": "ipython2",
   "version": "2.7.14"
  }
 },
 "nbformat": 4,
 "nbformat_minor": 2
}
