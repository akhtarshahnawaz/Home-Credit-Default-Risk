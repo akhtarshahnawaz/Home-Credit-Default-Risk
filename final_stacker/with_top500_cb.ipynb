{
 "cells": [
  {
   "cell_type": "code",
   "execution_count": 1,
   "metadata": {
    "collapsed": true
   },
   "outputs": [],
   "source": [
    "model_name = \"with_top500_cb\""
   ]
  },
  {
   "cell_type": "code",
   "execution_count": 2,
   "metadata": {
    "collapsed": true
   },
   "outputs": [],
   "source": [
    "import numpy as np\n",
    "import pandas as pd\n",
    "import gc\n",
    "from time import time\n",
    "from contextlib import contextmanager\n",
    "from lightgbm import LGBMClassifier\n",
    "from sklearn.metrics import roc_auc_score, roc_curve\n",
    "from sklearn.model_selection import KFold, StratifiedKFold\n",
    "import matplotlib.pyplot as plt\n",
    "import seaborn as sns\n",
    "import warnings\n",
    "from sklearn.preprocessing import LabelEncoder,OneHotEncoder"
   ]
  },
  {
   "cell_type": "code",
   "execution_count": 3,
   "metadata": {},
   "outputs": [
    {
     "name": "stdout",
     "output_type": "stream",
     "text": [
      "Init... : 0.000195980072021 seconds\n"
     ]
    }
   ],
   "source": [
    "timesheet = [time()]\n",
    "def timer(statement):\n",
    "    global timesheet\n",
    "    timesheet.append(time())\n",
    "    print statement+\" :\", (timesheet[-1]-timesheet[-2]),\"seconds\"\n",
    "timer(\"Init...\")"
   ]
  },
  {
   "cell_type": "code",
   "execution_count": 4,
   "metadata": {
    "collapsed": true
   },
   "outputs": [],
   "source": [
    "def load_meta(directory, prefix, modeltype):\n",
    "    m_tr = pd.read_csv(directory+prefix+\"_train.csv\")\n",
    "    m_te = pd.read_csv(directory+prefix+\"_test.csv\")\n",
    "    data = pd.concat([m_tr, m_te], axis=0).reset_index(drop=True)\n",
    "    data.columns = [\"{}_{}_{}\".format(c, prefix, modeltype) if c!=\"SK_ID_CURR\" else c for c in data.columns]\n",
    "    return data\n",
    "\n",
    "def load_neptune(directory, modelname):\n",
    "    m_tr = pd.read_csv(directory+\"lightGBM_out_of_fold_train_predictions.csv\", usecols = [\"SK_ID_CURR\",\"lightGBM_prediction\"])\n",
    "    m_te = pd.read_csv(directory+\"lightGBM_out_of_fold_test_predictions.csv\", usecols = [\"SK_ID_CURR\",\"lightGBM_prediction\"])\n",
    "    m_te = m_te.groupby(\"SK_ID_CURR\")[\"lightGBM_prediction\"].mean().reset_index()\n",
    "    \n",
    "    data = pd.concat([m_tr, m_te], axis=0).reset_index(drop=True)\n",
    "    data.columns = [\"SK_ID_CURR\", \"neptune_{}\".format(modelname)]\n",
    "    return data\n",
    "\n",
    "def join_features(data, features):\n",
    "    for item in features:\n",
    "        data = data.merge(item, how = \"left\", on = \"SK_ID_CURR\")\n",
    "    return data\n",
    "\n",
    "def load_data(datafile):\n",
    "    global important_columns\n",
    "    colnames = [c.replace(\" \",\"_\") for c in pd.read_csv(datafile, nrows= 1).columns]\n",
    "    intersection = list(set(colnames).intersection(set(important_columns)))+[\"SK_ID_CURR\"]\n",
    "\n",
    "    df =  pd.read_csv(datafile, names = colnames, usecols = intersection, skiprows=1).dropna(axis=1, how=\"all\")\n",
    "    timer(\"Loaded {} with shape {} in \".format(datafile.split(\"/\")[-1], df.shape))\n",
    "    return df"
   ]
  },
  {
   "cell_type": "markdown",
   "metadata": {},
   "source": [
    "## Getting Feature Importance File"
   ]
  },
  {
   "cell_type": "code",
   "execution_count": 5,
   "metadata": {
    "collapsed": true
   },
   "outputs": [],
   "source": [
    "important_columns = pd.read_csv(\"../feature selector/importance/shap_importances.csv\")\n",
    "important_columns[\"feature\"] = important_columns[\"feature\"].apply(lambda x: x.replace(\" \",\"_\"))\n",
    "important_columns = important_columns.loc[important_columns.shapely_mean > 0.0].reset_index(drop=True)\n",
    "important_columns = important_columns.sort_values(by = \"shapely_mean\", ascending = False).reset_index(drop=True)\n",
    "important_columns = important_columns.loc[0:500].feature.values.tolist()"
   ]
  },
  {
   "cell_type": "markdown",
   "metadata": {},
   "source": [
    "## Loading Features"
   ]
  },
  {
   "cell_type": "code",
   "execution_count": 6,
   "metadata": {},
   "outputs": [
    {
     "name": "stdout",
     "output_type": "stream",
     "text": [
      "Loaded application_features_V2.csv with shape (356255, 75) in  : 8.23818087578 seconds\n",
      "Loaded bureau_features_V1.csv with shape (305811, 84) in  : 10.6044631004 seconds\n",
      "Loaded credit_card_features_V1.csv with shape (103558, 16) in  : 10.5364840031 seconds\n",
      "Loaded installment_features_V1.csv with shape (339587, 100) in  : 35.133409977 seconds\n",
      "Loaded pos_cash_features_V1.csv with shape (337252, 48) in  : 22.2995700836 seconds\n",
      "Loaded previous_application_features_V1.csv with shape (338857, 93) in  : 23.3880398273 seconds\n",
      "Loaded credit_card_features_V3.csv with shape (103558, 6) in  : 16.9183940887 seconds\n",
      "Loaded installment_features_V3.csv with shape (339587, 69) in  : 27.5584549904 seconds\n",
      "Loaded pos_cash_features_V3.csv with shape (337252, 11) in  : 7.18610405922 seconds\n",
      "Loaded previous_application_features_V3.csv with shape (338857, 9) in  : 8.6912009716 seconds\n"
     ]
    }
   ],
   "source": [
    "applications = load_data(\"../extractor/csv/application_features_V2.csv\")\n",
    "bureau_balance_bb = load_data(\"../extractor/csv/bureau_features_V1.csv\")\n",
    "credit_card_balance = load_data(\"../extractor/csv/credit_card_features_V1.csv\")\n",
    "installment_features = load_data(\"../extractor/csv/installment_features_V1.csv\")\n",
    "pos_cash_balance = load_data(\"../extractor/csv/pos_cash_features_V1.csv\")\n",
    "previous_apps = load_data(\"../extractor/csv/previous_application_features_V1.csv\")\n",
    "\n",
    "credit_card_balance_v3 = load_data(\"../extractor/csv/credit_card_features_V3.csv\")\n",
    "installment_features_v3 = load_data(\"../extractor/csv/installment_features_V3.csv\")\n",
    "pos_cash_balance_v3 = load_data(\"../extractor/csv/pos_cash_features_V3.csv\")\n",
    "previous_apps_v3 = load_data(\"../extractor/csv/previous_application_features_V3.csv\")\n",
    "\n",
    "base_features = [applications, bureau_balance_bb, credit_card_balance, installment_features, pos_cash_balance,previous_apps, credit_card_balance_v3,installment_features_v3,pos_cash_balance_v3, previous_apps_v3]"
   ]
  },
  {
   "cell_type": "code",
   "execution_count": 7,
   "metadata": {
    "collapsed": true
   },
   "outputs": [],
   "source": [
    "tree_meta_features = [\n",
    "    load_meta(\"../base trees/csv/\", \"application\", \"trees\"),\n",
    "    load_meta(\"../base trees/csv/\", \"bureau_balance_bb\", \"trees\"),\n",
    "    load_meta(\"../base trees/csv/\", \"credit_card_balance\", \"trees\"),\n",
    "    load_meta(\"../base trees/csv/\", \"installment\", \"trees\"),\n",
    "    load_meta(\"../base trees/csv/\", \"pos_cash_balance\", \"trees\"),\n",
    "    load_meta(\"../base trees/csv/\", \"previous_apps\", \"trees\"),\n",
    "]\n",
    "\n",
    "lr_meta_features = [\n",
    "    load_meta(\"../base lr/csv/\", \"application\", \"lr\"),\n",
    "    load_meta(\"../base lr/csv/\", \"bureau_balance_bb\", \"lr\"),\n",
    "    load_meta(\"../base lr/csv/\", \"credit_card_balance\", \"lr\"),\n",
    "    load_meta(\"../base lr/csv/\", \"installment\", \"lr\"),\n",
    "    load_meta(\"../base lr/csv/\", \"pos_cash_balance\", \"lr\"),\n",
    "    load_meta(\"../base lr/csv/\", \"previous_apps\", \"lr\"),\n",
    "]\n",
    "\n",
    "nb_meta_features = [\n",
    "    load_meta(\"../base nb/csv/\", \"application\", \"nb\"),\n",
    "    load_meta(\"../base nb/csv/\", \"bureau_balance_bb\", \"nb\"),\n",
    "    load_meta(\"../base nb/csv/\", \"credit_card_balance\", \"nb\"),\n",
    "    load_meta(\"../base nb/csv/\", \"installment\", \"nb\"),\n",
    "    load_meta(\"../base nb/csv/\", \"pos_cash_balance\", \"nb\"),\n",
    "    load_meta(\"../base nb/csv/\", \"previous_apps\", \"nb\"),\n",
    "]\n",
    "\n",
    "neptune_features = [\n",
    "    load_neptune(\"../base neptune/m1/csv/\", \"m1\"),\n",
    "    load_neptune(\"../base neptune/m2/csv/\", \"m2\"),\n",
    "    load_neptune(\"../base neptune/m3/csv/\", \"m3\"),\n",
    "    load_neptune(\"../base neptune/m4/csv/\", \"m4\"),\n",
    "]\n",
    "\n",
    "mixture_models = [\n",
    "    load_meta(\"../base mixtures/csv/\", \"knn_on_selected_pca\", \"mixtures\"),\n",
    "    load_meta(\"../base mixtures/csv/\", \"lgbm_on_core_features\", \"mixtures\"),\n",
    "    load_meta(\"../base mixtures/csv/\", \"lgbm_on_gp_features\", \"mixtures\"),\n",
    "    load_meta(\"../base mixtures/csv/\", \"lr_on_core_features\", \"mixtures\"),\n",
    "    load_meta(\"../base mixtures/csv/\", \"nn\", \"mixtures\"),\n",
    "    load_meta(\"../base mixtures/csv/\", \"using_lags_bureau_data\", \"mixtures\"),\n",
    "\n",
    "]\n",
    "\n",
    "l1_features = [\n",
    "    load_meta(\"../l1/csv/\", \"l1_gnb\", \"l1\"),\n",
    "    load_meta(\"../l1/csv/\", \"l1_lr\", \"l1\"),\n",
    "    load_meta(\"../l1/csv/\", \"l1_tree_with_flags\", \"l1\"),\n",
    "    load_meta(\"../l1/csv/\", \"l1_tree_without_flags\", \"l1\"),\n",
    "    load_meta(\"../l1/csv/\", \"tree_with_flags_without_meta\", \"l1\"),\n",
    "    load_meta(\"../l1/csv/\", \"tree_without_flags_without_meta\", \"l1\"),\n",
    "    load_meta(\"../l1/csv/\", \"tree_on_core_features_with_meta\", \"l1\"),\n",
    "]\n",
    "\n",
    "l2_features = [\n",
    "    load_meta(\"../l2/csv/\", \"tree_on_l1_and_basemixtures_neptune_1\", \"l2\"),\n",
    "    load_meta(\"../l2/csv/\", \"tree_on_l1_and_basemixtures_neptune_2\", \"l2\"),\n",
    "]\n",
    "\n",
    "final_models = [\n",
    "    load_meta(\"../final_models/csv/\", \"my500_neptuneselected_meta\", \"final_models\"),\n",
    "    load_meta(\"../final_models/csv/\", \"my500_neptuneselected_nometa\", \"final_models\"),\n",
    "]"
   ]
  },
  {
   "cell_type": "markdown",
   "metadata": {},
   "source": [
    "## Joining All Files"
   ]
  },
  {
   "cell_type": "code",
   "execution_count": 8,
   "metadata": {
    "collapsed": true
   },
   "outputs": [],
   "source": [
    "train = pd.read_csv(\"../data/application_train.csv\", usecols = [\"SK_ID_CURR\",\"TARGET\"])\n",
    "test = pd.read_csv(\"../data/application_test.csv\", usecols = [\"SK_ID_CURR\"])\n",
    "\n",
    "data = pd.concat([train, test], axis=0).reset_index(drop=True)\n",
    "data = join_features(data, base_features)\n",
    "data = join_features(data, tree_meta_features)\n",
    "data = join_features(data, lr_meta_features)\n",
    "data = join_features(data, nb_meta_features)\n",
    "data = join_features(data, neptune_features)\n",
    "data = join_features(data, mixture_models)\n",
    "data = join_features(data, l1_features)\n",
    "data = join_features(data, l2_features)\n",
    "data = join_features(data, final_models)\n",
    "\n",
    "del base_features,applications, bureau_balance_bb, credit_card_balance, installment_features, pos_cash_balance,previous_apps, credit_card_balance_v3,installment_features_v3,pos_cash_balance_v3, previous_apps_v3\n",
    "gc.collect()\n",
    "\n",
    "train = data.loc[data.TARGET.notnull()].reset_index(drop=True)\n",
    "test = data.loc[data.TARGET.isnull()].reset_index(drop=True)\n",
    "\n",
    "train_id = train[[\"SK_ID_CURR\"]]\n",
    "test_id = test[[\"SK_ID_CURR\"]]\n",
    "test_id_rank = test[[\"SK_ID_CURR\"]]\n",
    "target =train.TARGET\n",
    "\n",
    "train.drop([\"SK_ID_CURR\", \"TARGET\"], axis=1, inplace=True)\n",
    "test.drop([\"SK_ID_CURR\",\"TARGET\"], axis=1, inplace = True)"
   ]
  },
  {
   "cell_type": "markdown",
   "metadata": {},
   "source": [
    "# Defining Model"
   ]
  },
  {
   "cell_type": "code",
   "execution_count": 9,
   "metadata": {
    "collapsed": true
   },
   "outputs": [],
   "source": [
    "from catboost import CatBoostClassifier\n",
    "def model_tree(x_train, x_test, y_train, y_test, test, meta_train, meta_test,train_index, test_index,fold_id):\n",
    "    model = CatBoostClassifier(thread_count = 16,iterations=1000,learning_rate=0.05,depth=5,l2_leaf_reg=40,bootstrap_type='Bernoulli',subsample=0.7,scale_pos_weight=5,eval_metric='AUC',metric_period=50,od_type='Iter',od_wait=45, random_seed=17, allow_writing_files=False)\n",
    "    model.fit(x_train, y_train, eval_set=(x_test, y_test),use_best_model=True,verbose=True)\n",
    "    \n",
    "    meta_train[test_index] = model.predict_proba(x_test)[:,1]\n",
    "    meta_test.append(model.predict_proba(test)[:,1])\n",
    "        \n",
    "    global fold_roc\n",
    "    fold_roc.append(roc_auc_score(y_test, meta_train[test_index]))\n",
    " "
   ]
  },
  {
   "cell_type": "markdown",
   "metadata": {},
   "source": [
    "# Training Model"
   ]
  },
  {
   "cell_type": "code",
   "execution_count": 10,
   "metadata": {
    "scrolled": true
   },
   "outputs": [
    {
     "name": "stdout",
     "output_type": "stream",
     "text": [
      "Warning: Parameter 'use_best_model' is true, thus evaluation metric iscalculated on every iteration. 'metric_period' is ignored for evaluation metric.\n",
      "0:\ttest: 0.7869647\tbest: 0.7869647 (0)\ttotal: 280ms\tremaining: 4m 40s\n",
      "50:\ttest: 0.7991724\tbest: 0.7991724 (50)\ttotal: 9.2s\tremaining: 2m 51s\n",
      "100:\ttest: 0.7998890\tbest: 0.7998890 (100)\ttotal: 18.2s\tremaining: 2m 41s\n",
      "Stopped by overfitting detector  (45 iterations wait)\n",
      "\n",
      "bestTest = 0.7998890385\n",
      "bestIteration = 100\n",
      "\n",
      "Shrink model to first 101 iterations.\n",
      "Warning: Parameter 'use_best_model' is true, thus evaluation metric iscalculated on every iteration. 'metric_period' is ignored for evaluation metric.\n",
      "0:\ttest: 0.7777556\tbest: 0.7777556 (0)\ttotal: 188ms\tremaining: 3m 8s\n",
      "50:\ttest: 0.7949836\tbest: 0.7949836 (50)\ttotal: 9.16s\tremaining: 2m 50s\n",
      "100:\ttest: 0.7952467\tbest: 0.7952467 (100)\ttotal: 18.2s\tremaining: 2m 41s\n",
      "Stopped by overfitting detector  (45 iterations wait)\n",
      "\n",
      "bestTest = 0.795246667\n",
      "bestIteration = 100\n",
      "\n",
      "Shrink model to first 101 iterations.\n",
      "Warning: Parameter 'use_best_model' is true, thus evaluation metric iscalculated on every iteration. 'metric_period' is ignored for evaluation metric.\n",
      "0:\ttest: 0.7900682\tbest: 0.7900682 (0)\ttotal: 186ms\tremaining: 3m 5s\n",
      "50:\ttest: 0.8073187\tbest: 0.8073187 (50)\ttotal: 9.62s\tremaining: 2m 58s\n",
      "100:\ttest: 0.8077781\tbest: 0.8077781 (100)\ttotal: 19.4s\tremaining: 2m 53s\n",
      "150:\ttest: 0.8079731\tbest: 0.8079731 (150)\ttotal: 28.9s\tremaining: 2m 42s\n",
      "200:\ttest: 0.8078604\tbest: 0.8079731 (150)\ttotal: 38.1s\tremaining: 2m 31s\n",
      "Stopped by overfitting detector  (45 iterations wait)\n",
      "\n",
      "bestTest = 0.8079731448\n",
      "bestIteration = 150\n",
      "\n",
      "Shrink model to first 151 iterations.\n",
      "Warning: Parameter 'use_best_model' is true, thus evaluation metric iscalculated on every iteration. 'metric_period' is ignored for evaluation metric.\n",
      "0:\ttest: 0.7751118\tbest: 0.7751118 (0)\ttotal: 177ms\tremaining: 2m 56s\n",
      "50:\ttest: 0.7923706\tbest: 0.7923706 (50)\ttotal: 9.07s\tremaining: 2m 48s\n",
      "100:\ttest: 0.7925316\tbest: 0.7925316 (100)\ttotal: 18.1s\tremaining: 2m 41s\n",
      "150:\ttest: 0.7925609\tbest: 0.7925609 (150)\ttotal: 27.4s\tremaining: 2m 34s\n",
      "Stopped by overfitting detector  (45 iterations wait)\n",
      "\n",
      "bestTest = 0.7925608881\n",
      "bestIteration = 150\n",
      "\n",
      "Shrink model to first 151 iterations.\n",
      "Warning: Parameter 'use_best_model' is true, thus evaluation metric iscalculated on every iteration. 'metric_period' is ignored for evaluation metric.\n",
      "0:\ttest: 0.7880298\tbest: 0.7880298 (0)\ttotal: 195ms\tremaining: 3m 14s\n",
      "50:\ttest: 0.8068759\tbest: 0.8068759 (50)\ttotal: 9.63s\tremaining: 2m 59s\n",
      "100:\ttest: 0.8070202\tbest: 0.8070202 (100)\ttotal: 18.7s\tremaining: 2m 46s\n",
      "Stopped by overfitting detector  (45 iterations wait)\n",
      "\n",
      "bestTest = 0.807020172\n",
      "bestIteration = 100\n",
      "\n",
      "Shrink model to first 101 iterations.\n",
      "Warning: Parameter 'use_best_model' is true, thus evaluation metric iscalculated on every iteration. 'metric_period' is ignored for evaluation metric.\n",
      "0:\ttest: 0.7827944\tbest: 0.7827944 (0)\ttotal: 190ms\tremaining: 3m 9s\n",
      "50:\ttest: 0.7978090\tbest: 0.7978090 (50)\ttotal: 9.82s\tremaining: 3m 2s\n",
      "100:\ttest: 0.7981267\tbest: 0.7981267 (100)\ttotal: 19.4s\tremaining: 2m 52s\n",
      "150:\ttest: 0.7984520\tbest: 0.7984520 (150)\ttotal: 29.1s\tremaining: 2m 43s\n",
      "Stopped by overfitting detector  (45 iterations wait)\n",
      "\n",
      "bestTest = 0.7984520419\n",
      "bestIteration = 150\n",
      "\n",
      "Shrink model to first 151 iterations.\n",
      "Warning: Parameter 'use_best_model' is true, thus evaluation metric iscalculated on every iteration. 'metric_period' is ignored for evaluation metric.\n",
      "0:\ttest: 0.7898755\tbest: 0.7898755 (0)\ttotal: 355ms\tremaining: 5m 54s\n",
      "50:\ttest: 0.8061109\tbest: 0.8061109 (50)\ttotal: 18.4s\tremaining: 5m 42s\n",
      "100:\ttest: 0.8061146\tbest: 0.8061146 (100)\ttotal: 32.8s\tremaining: 4m 52s\n",
      "Stopped by overfitting detector  (45 iterations wait)\n",
      "\n",
      "bestTest = 0.8061145953\n",
      "bestIteration = 100\n",
      "\n",
      "Shrink model to first 101 iterations.\n",
      "Warning: Parameter 'use_best_model' is true, thus evaluation metric iscalculated on every iteration. 'metric_period' is ignored for evaluation metric.\n",
      "0:\ttest: 0.7887107\tbest: 0.7887107 (0)\ttotal: 201ms\tremaining: 3m 20s\n",
      "50:\ttest: 0.8030015\tbest: 0.8030015 (50)\ttotal: 12.1s\tremaining: 3m 45s\n",
      "100:\ttest: 0.8034567\tbest: 0.8034567 (100)\ttotal: 29.7s\tremaining: 4m 24s\n",
      "150:\ttest: 0.8034719\tbest: 0.8034719 (150)\ttotal: 47.6s\tremaining: 4m 27s\n",
      "Stopped by overfitting detector  (45 iterations wait)\n",
      "\n",
      "bestTest = 0.8034719372\n",
      "bestIteration = 150\n",
      "\n",
      "Shrink model to first 151 iterations.\n",
      "Warning: Parameter 'use_best_model' is true, thus evaluation metric iscalculated on every iteration. 'metric_period' is ignored for evaluation metric.\n",
      "0:\ttest: 0.7828656\tbest: 0.7828656 (0)\ttotal: 230ms\tremaining: 3m 49s\n",
      "50:\ttest: 0.7995028\tbest: 0.7995028 (50)\ttotal: 9.81s\tremaining: 3m 2s\n",
      "100:\ttest: 0.8000003\tbest: 0.8000003 (100)\ttotal: 19.4s\tremaining: 2m 52s\n",
      "150:\ttest: 0.8001847\tbest: 0.8001847 (150)\ttotal: 29s\tremaining: 2m 42s\n",
      "Stopped by overfitting detector  (45 iterations wait)\n",
      "\n",
      "bestTest = 0.8001846776\n",
      "bestIteration = 150\n",
      "\n",
      "Shrink model to first 151 iterations.\n",
      "Warning: Parameter 'use_best_model' is true, thus evaluation metric iscalculated on every iteration. 'metric_period' is ignored for evaluation metric.\n",
      "0:\ttest: 0.7842436\tbest: 0.7842436 (0)\ttotal: 398ms\tremaining: 6m 37s\n",
      "50:\ttest: 0.8009625\tbest: 0.8009625 (50)\ttotal: 19.1s\tremaining: 5m 55s\n",
      "100:\ttest: 0.8014919\tbest: 0.8014919 (100)\ttotal: 37.7s\tremaining: 5m 35s\n",
      "150:\ttest: 0.8018902\tbest: 0.8018902 (150)\ttotal: 49.3s\tremaining: 4m 37s\n",
      "200:\ttest: 0.8017660\tbest: 0.8018902 (150)\ttotal: 1m\tremaining: 3m 59s\n",
      "Stopped by overfitting detector  (45 iterations wait)\n",
      "\n",
      "bestTest = 0.801890222\n",
      "bestIteration = 150\n",
      "\n",
      "Shrink model to first 151 iterations.\n"
     ]
    },
    {
     "name": "stderr",
     "output_type": "stream",
     "text": [
      "/home/sakhtar0092/anaconda2/lib/python2.7/site-packages/ipykernel_launcher.py:13: SettingWithCopyWarning: \n",
      "A value is trying to be set on a copy of a slice from a DataFrame.\n",
      "Try using .loc[row_indexer,col_indexer] = value instead\n",
      "\n",
      "See the caveats in the documentation: http://pandas.pydata.org/pandas-docs/stable/indexing.html#indexing-view-versus-copy\n",
      "  del sys.path[0]\n",
      "/home/sakhtar0092/anaconda2/lib/python2.7/site-packages/ipykernel_launcher.py:14: SettingWithCopyWarning: \n",
      "A value is trying to be set on a copy of a slice from a DataFrame.\n",
      "Try using .loc[row_indexer,col_indexer] = value instead\n",
      "\n",
      "See the caveats in the documentation: http://pandas.pydata.org/pandas-docs/stable/indexing.html#indexing-view-versus-copy\n",
      "  \n",
      "/home/sakhtar0092/anaconda2/lib/python2.7/site-packages/ipykernel_launcher.py:15: SettingWithCopyWarning: \n",
      "A value is trying to be set on a copy of a slice from a DataFrame.\n",
      "Try using .loc[row_indexer,col_indexer] = value instead\n",
      "\n",
      "See the caveats in the documentation: http://pandas.pydata.org/pandas-docs/stable/indexing.html#indexing-view-versus-copy\n",
      "  from ipykernel import kernelapp as app\n"
     ]
    },
    {
     "name": "stdout",
     "output_type": "stream",
     "text": [
      "Overall ROC: 0.801186962936,  Mean ROC: 0.801280338466, STD AUC: 0.00479430812299\n"
     ]
    }
   ],
   "source": [
    "meta_train = np.zeros(train.shape[0])\n",
    "meta_test = []\n",
    "feature_importance = pd.DataFrame(columns = [\"feature\",\"split\",\"gain\"])\n",
    "fold_roc = []\n",
    "\n",
    "kf = StratifiedKFold(n_splits= 10, shuffle=True, random_state=12323)\n",
    "for fold_id, (train_index, test_index) in enumerate(kf.split(train, target)):\n",
    "    x_train, x_test = train.iloc[train_index], train.iloc[test_index]\n",
    "    y_train, y_test = target[train_index], target[test_index]\n",
    "\n",
    "    model_tree(x_train, x_test, y_train, y_test, test, meta_train, meta_test,train_index, test_index,fold_id)\n",
    "\n",
    "test_id[\"TARGET\"] = np.array(meta_test).T.mean(axis=1)\n",
    "test_id_rank[\"TARGET\"] = pd.DataFrame(np.array(meta_test).T).rank(pct = True).mean(axis=1)\n",
    "train_id[\"TARGET\"] = meta_train\n",
    "\n",
    "print \"Overall ROC: {},  Mean ROC: {}, STD AUC: {}\".format(roc_auc_score(target, meta_train), np.mean(fold_roc), np.std(fold_roc))"
   ]
  },
  {
   "cell_type": "code",
   "execution_count": 13,
   "metadata": {
    "collapsed": true
   },
   "outputs": [],
   "source": [
    "train_id.to_csv(\"csv/{}_train.csv\".format(model_name), index=False)\n",
    "test_id.to_csv(\"csv/{}_test.csv\".format(model_name), index=False)\n",
    "test_id_rank.to_csv(\"csv/{}_rank_test.csv\".format(model_name), index=False)"
   ]
  },
  {
   "cell_type": "code",
   "execution_count": 14,
   "metadata": {},
   "outputs": [
    {
     "data": {
      "text/plain": [
       "[0.7998890385214812,\n",
       " 0.7952466670419235,\n",
       " 0.8079731448318836,\n",
       " 0.7925608880918742,\n",
       " 0.8070201719921438,\n",
       " 0.7984520419388623,\n",
       " 0.8061145953425867,\n",
       " 0.8034719372434692,\n",
       " 0.8001846776342517,\n",
       " 0.8018902220225043]"
      ]
     },
     "execution_count": 14,
     "metadata": {},
     "output_type": "execute_result"
    }
   ],
   "source": [
    "fold_roc"
   ]
  },
  {
   "cell_type": "code",
   "execution_count": null,
   "metadata": {
    "collapsed": true
   },
   "outputs": [],
   "source": []
  },
  {
   "cell_type": "code",
   "execution_count": null,
   "metadata": {
    "collapsed": true
   },
   "outputs": [],
   "source": []
  },
  {
   "cell_type": "code",
   "execution_count": null,
   "metadata": {
    "collapsed": true
   },
   "outputs": [],
   "source": []
  },
  {
   "cell_type": "code",
   "execution_count": null,
   "metadata": {
    "collapsed": true
   },
   "outputs": [],
   "source": []
  },
  {
   "cell_type": "code",
   "execution_count": null,
   "metadata": {
    "collapsed": true
   },
   "outputs": [],
   "source": []
  },
  {
   "cell_type": "code",
   "execution_count": null,
   "metadata": {
    "collapsed": true
   },
   "outputs": [],
   "source": [
    "-"
   ]
  }
 ],
 "metadata": {
  "kernelspec": {
   "display_name": "Python 2",
   "language": "python",
   "name": "python2"
  },
  "language_info": {
   "codemirror_mode": {
    "name": "ipython",
    "version": 2
   },
   "file_extension": ".py",
   "mimetype": "text/x-python",
   "name": "python",
   "nbconvert_exporter": "python",
   "pygments_lexer": "ipython2",
   "version": "2.7.14"
  }
 },
 "nbformat": 4,
 "nbformat_minor": 2
}
