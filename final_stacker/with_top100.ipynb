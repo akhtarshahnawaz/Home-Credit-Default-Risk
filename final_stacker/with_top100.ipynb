{
 "cells": [
  {
   "cell_type": "code",
   "execution_count": 1,
   "metadata": {
    "collapsed": true
   },
   "outputs": [],
   "source": [
    "model_name = \"with_top100\""
   ]
  },
  {
   "cell_type": "code",
   "execution_count": 2,
   "metadata": {
    "collapsed": true
   },
   "outputs": [],
   "source": [
    "import numpy as np\n",
    "import pandas as pd\n",
    "import gc\n",
    "from time import time\n",
    "from contextlib import contextmanager\n",
    "from lightgbm import LGBMClassifier\n",
    "from sklearn.metrics import roc_auc_score, roc_curve\n",
    "from sklearn.model_selection import KFold, StratifiedKFold\n",
    "import matplotlib.pyplot as plt\n",
    "import seaborn as sns\n",
    "import warnings\n",
    "from sklearn.preprocessing import LabelEncoder,OneHotEncoder"
   ]
  },
  {
   "cell_type": "code",
   "execution_count": 3,
   "metadata": {},
   "outputs": [
    {
     "name": "stdout",
     "output_type": "stream",
     "text": [
      "Init... : 0.000191211700439 seconds\n"
     ]
    }
   ],
   "source": [
    "timesheet = [time()]\n",
    "def timer(statement):\n",
    "    global timesheet\n",
    "    timesheet.append(time())\n",
    "    print statement+\" :\", (timesheet[-1]-timesheet[-2]),\"seconds\"\n",
    "timer(\"Init...\")"
   ]
  },
  {
   "cell_type": "code",
   "execution_count": 4,
   "metadata": {
    "collapsed": true
   },
   "outputs": [],
   "source": [
    "def load_meta(directory, prefix, modeltype):\n",
    "    m_tr = pd.read_csv(directory+prefix+\"_train.csv\")\n",
    "    m_te = pd.read_csv(directory+prefix+\"_test.csv\")\n",
    "    data = pd.concat([m_tr, m_te], axis=0).reset_index(drop=True)\n",
    "    data.columns = [\"{}_{}_{}\".format(c, prefix, modeltype) if c!=\"SK_ID_CURR\" else c for c in data.columns]\n",
    "    return data\n",
    "\n",
    "def load_neptune(directory, modelname):\n",
    "    m_tr = pd.read_csv(directory+\"lightGBM_out_of_fold_train_predictions.csv\", usecols = [\"SK_ID_CURR\",\"lightGBM_prediction\"])\n",
    "    m_te = pd.read_csv(directory+\"lightGBM_out_of_fold_test_predictions.csv\", usecols = [\"SK_ID_CURR\",\"lightGBM_prediction\"])\n",
    "    m_te = m_te.groupby(\"SK_ID_CURR\")[\"lightGBM_prediction\"].mean().reset_index()\n",
    "    \n",
    "    data = pd.concat([m_tr, m_te], axis=0).reset_index(drop=True)\n",
    "    data.columns = [\"SK_ID_CURR\", \"neptune_{}\".format(modelname)]\n",
    "    return data\n",
    "\n",
    "def join_features(data, features):\n",
    "    for item in features:\n",
    "        data = data.merge(item, how = \"left\", on = \"SK_ID_CURR\")\n",
    "    return data\n",
    "\n",
    "def load_data(datafile):\n",
    "    global important_columns\n",
    "    colnames = [c.replace(\" \",\"_\") for c in pd.read_csv(datafile, nrows= 1).columns]\n",
    "    intersection = list(set(colnames).intersection(set(important_columns)))+[\"SK_ID_CURR\"]\n",
    "\n",
    "    df =  pd.read_csv(datafile, names = colnames, usecols = intersection, skiprows=1).dropna(axis=1, how=\"all\")\n",
    "    timer(\"Loaded {} with shape {} in \".format(datafile.split(\"/\")[-1], df.shape))\n",
    "    return df"
   ]
  },
  {
   "cell_type": "markdown",
   "metadata": {},
   "source": [
    "## Getting Feature Importance File"
   ]
  },
  {
   "cell_type": "code",
   "execution_count": 5,
   "metadata": {
    "collapsed": true
   },
   "outputs": [],
   "source": [
    "important_columns = pd.read_csv(\"../feature selector/importance/shap_importances.csv\")\n",
    "important_columns[\"feature\"] = important_columns[\"feature\"].apply(lambda x: x.replace(\" \",\"_\"))\n",
    "important_columns = important_columns.loc[important_columns.shapely_mean > 0.0].reset_index(drop=True)\n",
    "important_columns = important_columns.sort_values(by = \"shapely_mean\", ascending = False).reset_index(drop=True)\n",
    "important_columns = important_columns.loc[0:100].feature.values.tolist()"
   ]
  },
  {
   "cell_type": "markdown",
   "metadata": {},
   "source": [
    "## Loading Features"
   ]
  },
  {
   "cell_type": "code",
   "execution_count": 6,
   "metadata": {},
   "outputs": [
    {
     "name": "stdout",
     "output_type": "stream",
     "text": [
      "Loaded application_features_V2.csv with shape (356255, 45) in  : 6.28603887558 seconds\n",
      "Loaded bureau_features_V1.csv with shape (305811, 15) in  : 6.21527099609 seconds\n",
      "Loaded credit_card_features_V1.csv with shape (103558, 2) in  : 10.0741679668 seconds\n",
      "Loaded installment_features_V1.csv with shape (339587, 18) in  : 26.2414031029 seconds\n",
      "Loaded pos_cash_features_V1.csv with shape (337252, 6) in  : 17.9381699562 seconds\n",
      "Loaded previous_application_features_V1.csv with shape (338857, 16) in  : 16.8216629028 seconds\n",
      "Loaded credit_card_features_V3.csv with shape (103558, 1) in  : 16.73822999 seconds\n",
      "Loaded installment_features_V3.csv with shape (339587, 6) in  : 22.2984850407 seconds\n",
      "Loaded pos_cash_features_V3.csv with shape (337252, 1) in  : 6.25207805634 seconds\n",
      "Loaded previous_application_features_V3.csv with shape (338857, 1) in  : 7.97556900978 seconds\n"
     ]
    }
   ],
   "source": [
    "applications = load_data(\"../extractor/csv/application_features_V2.csv\")\n",
    "bureau_balance_bb = load_data(\"../extractor/csv/bureau_features_V1.csv\")\n",
    "credit_card_balance = load_data(\"../extractor/csv/credit_card_features_V1.csv\")\n",
    "installment_features = load_data(\"../extractor/csv/installment_features_V1.csv\")\n",
    "pos_cash_balance = load_data(\"../extractor/csv/pos_cash_features_V1.csv\")\n",
    "previous_apps = load_data(\"../extractor/csv/previous_application_features_V1.csv\")\n",
    "\n",
    "credit_card_balance_v3 = load_data(\"../extractor/csv/credit_card_features_V3.csv\")\n",
    "installment_features_v3 = load_data(\"../extractor/csv/installment_features_V3.csv\")\n",
    "pos_cash_balance_v3 = load_data(\"../extractor/csv/pos_cash_features_V3.csv\")\n",
    "previous_apps_v3 = load_data(\"../extractor/csv/previous_application_features_V3.csv\")\n",
    "\n",
    "base_features = [applications, bureau_balance_bb, credit_card_balance, installment_features, pos_cash_balance,previous_apps, credit_card_balance_v3,installment_features_v3,pos_cash_balance_v3, previous_apps_v3]"
   ]
  },
  {
   "cell_type": "code",
   "execution_count": 7,
   "metadata": {
    "collapsed": true
   },
   "outputs": [],
   "source": [
    "tree_meta_features = [\n",
    "    load_meta(\"../base trees/csv/\", \"application\", \"trees\"),\n",
    "    load_meta(\"../base trees/csv/\", \"bureau_balance_bb\", \"trees\"),\n",
    "    load_meta(\"../base trees/csv/\", \"credit_card_balance\", \"trees\"),\n",
    "    load_meta(\"../base trees/csv/\", \"installment\", \"trees\"),\n",
    "    load_meta(\"../base trees/csv/\", \"pos_cash_balance\", \"trees\"),\n",
    "    load_meta(\"../base trees/csv/\", \"previous_apps\", \"trees\"),\n",
    "]\n",
    "\n",
    "lr_meta_features = [\n",
    "    load_meta(\"../base lr/csv/\", \"application\", \"lr\"),\n",
    "    load_meta(\"../base lr/csv/\", \"bureau_balance_bb\", \"lr\"),\n",
    "    load_meta(\"../base lr/csv/\", \"credit_card_balance\", \"lr\"),\n",
    "    load_meta(\"../base lr/csv/\", \"installment\", \"lr\"),\n",
    "    load_meta(\"../base lr/csv/\", \"pos_cash_balance\", \"lr\"),\n",
    "    load_meta(\"../base lr/csv/\", \"previous_apps\", \"lr\"),\n",
    "]\n",
    "\n",
    "nb_meta_features = [\n",
    "    load_meta(\"../base nb/csv/\", \"application\", \"nb\"),\n",
    "    load_meta(\"../base nb/csv/\", \"bureau_balance_bb\", \"nb\"),\n",
    "    load_meta(\"../base nb/csv/\", \"credit_card_balance\", \"nb\"),\n",
    "    load_meta(\"../base nb/csv/\", \"installment\", \"nb\"),\n",
    "    load_meta(\"../base nb/csv/\", \"pos_cash_balance\", \"nb\"),\n",
    "    load_meta(\"../base nb/csv/\", \"previous_apps\", \"nb\"),\n",
    "]\n",
    "\n",
    "neptune_features = [\n",
    "    load_neptune(\"../base neptune/m1/csv/\", \"m1\"),\n",
    "    load_neptune(\"../base neptune/m2/csv/\", \"m2\"),\n",
    "    load_neptune(\"../base neptune/m3/csv/\", \"m3\"),\n",
    "    load_neptune(\"../base neptune/m4/csv/\", \"m4\"),\n",
    "]\n",
    "\n",
    "mixture_models = [\n",
    "    load_meta(\"../base mixtures/csv/\", \"knn_on_selected_pca\", \"mixtures\"),\n",
    "    load_meta(\"../base mixtures/csv/\", \"lgbm_on_core_features\", \"mixtures\"),\n",
    "    load_meta(\"../base mixtures/csv/\", \"lgbm_on_gp_features\", \"mixtures\"),\n",
    "    load_meta(\"../base mixtures/csv/\", \"lr_on_core_features\", \"mixtures\"),\n",
    "    load_meta(\"../base mixtures/csv/\", \"nn\", \"mixtures\"),\n",
    "    load_meta(\"../base mixtures/csv/\", \"using_lags_bureau_data\", \"mixtures\"),\n",
    "\n",
    "]\n",
    "\n",
    "l1_features = [\n",
    "    load_meta(\"../l1/csv/\", \"l1_gnb\", \"l1\"),\n",
    "    load_meta(\"../l1/csv/\", \"l1_lr\", \"l1\"),\n",
    "    load_meta(\"../l1/csv/\", \"l1_tree_with_flags\", \"l1\"),\n",
    "    load_meta(\"../l1/csv/\", \"l1_tree_without_flags\", \"l1\"),\n",
    "    load_meta(\"../l1/csv/\", \"tree_with_flags_without_meta\", \"l1\"),\n",
    "    load_meta(\"../l1/csv/\", \"tree_without_flags_without_meta\", \"l1\"),\n",
    "    load_meta(\"../l1/csv/\", \"tree_on_core_features_with_meta\", \"l1\"),\n",
    "]\n",
    "\n",
    "l2_features = [\n",
    "    load_meta(\"../l2/csv/\", \"tree_on_l1_and_basemixtures_neptune_1\", \"l2\"),\n",
    "    load_meta(\"../l2/csv/\", \"tree_on_l1_and_basemixtures_neptune_2\", \"l2\"),\n",
    "]\n",
    "\n",
    "final_models = [\n",
    "    load_meta(\"../final_models/csv/\", \"my500_neptuneselected_meta\", \"final_models\"),\n",
    "    load_meta(\"../final_models/csv/\", \"my500_neptuneselected_nometa\", \"final_models\"),\n",
    "]"
   ]
  },
  {
   "cell_type": "markdown",
   "metadata": {},
   "source": [
    "## Joining All Files"
   ]
  },
  {
   "cell_type": "code",
   "execution_count": 8,
   "metadata": {
    "collapsed": true
   },
   "outputs": [],
   "source": [
    "train = pd.read_csv(\"../data/application_train.csv\", usecols = [\"SK_ID_CURR\",\"TARGET\"])\n",
    "test = pd.read_csv(\"../data/application_test.csv\", usecols = [\"SK_ID_CURR\"])\n",
    "\n",
    "data = pd.concat([train, test], axis=0).reset_index(drop=True)\n",
    "data = join_features(data, base_features)\n",
    "data = join_features(data, tree_meta_features)\n",
    "data = join_features(data, lr_meta_features)\n",
    "data = join_features(data, nb_meta_features)\n",
    "data = join_features(data, neptune_features)\n",
    "data = join_features(data, mixture_models)\n",
    "data = join_features(data, l1_features)\n",
    "data = join_features(data, l2_features)\n",
    "data = join_features(data, final_models)\n",
    "\n",
    "del base_features,applications, bureau_balance_bb, credit_card_balance, installment_features, pos_cash_balance,previous_apps, credit_card_balance_v3,installment_features_v3,pos_cash_balance_v3, previous_apps_v3\n",
    "gc.collect()\n",
    "\n",
    "train = data.loc[data.TARGET.notnull()].reset_index(drop=True)\n",
    "test = data.loc[data.TARGET.isnull()].reset_index(drop=True)\n",
    "\n",
    "train_id = train[[\"SK_ID_CURR\"]]\n",
    "test_id = test[[\"SK_ID_CURR\"]]\n",
    "test_id_rank = test[[\"SK_ID_CURR\"]]\n",
    "target =train.TARGET\n",
    "\n",
    "train.drop([\"SK_ID_CURR\", \"TARGET\"], axis=1, inplace=True)\n",
    "test.drop([\"SK_ID_CURR\",\"TARGET\"], axis=1, inplace = True)"
   ]
  },
  {
   "cell_type": "markdown",
   "metadata": {},
   "source": [
    "# Defining Model"
   ]
  },
  {
   "cell_type": "code",
   "execution_count": 9,
   "metadata": {
    "collapsed": true
   },
   "outputs": [],
   "source": [
    "import lightgbm as lgb\n",
    "def model_tree(x_train, x_test, y_train, y_test, test, meta_train, meta_test,train_index, test_index,fold_id):\n",
    "    dtrain = lgb.Dataset(x_train, label=y_train)\n",
    "    dval = lgb.Dataset(x_test, label=y_test)\n",
    "    params = {\n",
    "        'num_leaves': 14, #32\n",
    "        'reg_alpha': 0.04, \n",
    "        'n_jobs': -1, \n",
    "        'colsample_bytree': 0.7, \n",
    "        'silent': -1, \n",
    "        'subsample_for_bin': 200000, \n",
    "        'subsample_freq': 1, \n",
    "        'learning_rate': 0.02, # 0.02\n",
    "        'boosting_type': 'gbdt', \n",
    "        'nthread': 6, \n",
    "        'min_child_weight': 40, \n",
    "        'min_split_gain': 0.0222415, \n",
    "        'n_estimators': 10000, \n",
    "        'subsample': 1, \n",
    "        'reg_lambda': 10, \n",
    "        'objective': \"binary\", \n",
    "        'verbose': -1, \n",
    "        'min_child_samples': 20, \n",
    "        'max_depth': 3, #8\n",
    "        'class_weight': None,\n",
    "        \"bagging_seed\" : 3143,\n",
    "        \"seed\":1343,\n",
    "        \"metric\":\"auc\"\n",
    "    }\n",
    "    model = lgb.train(params, dtrain, num_boost_round=5000,valid_sets=[dtrain, dval], early_stopping_rounds=200, verbose_eval=100)\n",
    "    meta_train[test_index] = model.predict(x_test, num_iteration=model.best_iteration or 5000)\n",
    "    meta_test.append(model.predict(test, num_iteration=model.best_iteration or 5000))\n",
    "    \n",
    "    global fold_roc\n",
    "    fold_roc.append(roc_auc_score(y_test, meta_train[test_index]))\n",
    "    # Calculate Feature Importance\n",
    "    global feature_importance\n",
    "    gain = model.feature_importance('gain')\n",
    "    fold_feature_importance = pd.DataFrame({'feature':model.feature_name(), 'split':model.feature_importance('split'), 'gain':100 * gain / gain.sum()})\n",
    "    feature_importance = feature_importance.append(fold_feature_importance, ignore_index=True) "
   ]
  },
  {
   "cell_type": "markdown",
   "metadata": {},
   "source": [
    "# Training Model"
   ]
  },
  {
   "cell_type": "code",
   "execution_count": 10,
   "metadata": {
    "scrolled": true
   },
   "outputs": [
    {
     "name": "stderr",
     "output_type": "stream",
     "text": [
      "/home/sakhtar0092/anaconda2/lib/python2.7/site-packages/lightgbm/engine.py:99: UserWarning: Found `n_estimators` in params. Will use it instead of argument\n",
      "  warnings.warn(\"Found `{}` in params. Will use it instead of argument\".format(alias))\n",
      "/home/sakhtar0092/anaconda2/lib/python2.7/site-packages/lightgbm/basic.py:657: UserWarning: silent keyword has been found in `params` and will be ignored. Please use silent argument of the Dataset constructor to pass this parameter.\n",
      "  'Please use {0} argument of the Dataset constructor to pass this parameter.'.format(key))\n"
     ]
    },
    {
     "name": "stdout",
     "output_type": "stream",
     "text": [
      "Training until validation scores don't improve for 200 rounds.\n",
      "[100]\ttraining's auc: 0.800974\tvalid_1's auc: 0.797338\n",
      "[200]\ttraining's auc: 0.802016\tvalid_1's auc: 0.798122\n",
      "[300]\ttraining's auc: 0.803152\tvalid_1's auc: 0.798855\n",
      "[400]\ttraining's auc: 0.804179\tvalid_1's auc: 0.799095\n",
      "[500]\ttraining's auc: 0.80497\tvalid_1's auc: 0.799071\n",
      "[600]\ttraining's auc: 0.805685\tvalid_1's auc: 0.799003\n",
      "Early stopping, best iteration is:\n",
      "[412]\ttraining's auc: 0.804271\tvalid_1's auc: 0.799119\n",
      "Training until validation scores don't improve for 200 rounds.\n",
      "[100]\ttraining's auc: 0.801515\tvalid_1's auc: 0.794363\n",
      "[200]\ttraining's auc: 0.8025\tvalid_1's auc: 0.794858\n",
      "[300]\ttraining's auc: 0.803789\tvalid_1's auc: 0.795074\n",
      "[400]\ttraining's auc: 0.804812\tvalid_1's auc: 0.795345\n",
      "[500]\ttraining's auc: 0.805679\tvalid_1's auc: 0.795435\n",
      "[600]\ttraining's auc: 0.806438\tvalid_1's auc: 0.795357\n",
      "[700]\ttraining's auc: 0.807288\tvalid_1's auc: 0.795409\n",
      "Early stopping, best iteration is:\n",
      "[501]\ttraining's auc: 0.805683\tvalid_1's auc: 0.795437\n",
      "Training until validation scores don't improve for 200 rounds.\n",
      "[100]\ttraining's auc: 0.800079\tvalid_1's auc: 0.805672\n",
      "[200]\ttraining's auc: 0.801153\tvalid_1's auc: 0.806228\n",
      "[300]\ttraining's auc: 0.802366\tvalid_1's auc: 0.806665\n",
      "[400]\ttraining's auc: 0.803354\tvalid_1's auc: 0.806944\n",
      "[500]\ttraining's auc: 0.804265\tvalid_1's auc: 0.806943\n",
      "[600]\ttraining's auc: 0.805072\tvalid_1's auc: 0.806896\n",
      "[700]\ttraining's auc: 0.805862\tvalid_1's auc: 0.806891\n",
      "Early stopping, best iteration is:\n",
      "[503]\ttraining's auc: 0.804286\tvalid_1's auc: 0.80695\n",
      "Training until validation scores don't improve for 200 rounds.\n",
      "[100]\ttraining's auc: 0.801825\tvalid_1's auc: 0.791339\n",
      "[200]\ttraining's auc: 0.802804\tvalid_1's auc: 0.791613\n",
      "[300]\ttraining's auc: 0.804091\tvalid_1's auc: 0.791726\n",
      "[400]\ttraining's auc: 0.805081\tvalid_1's auc: 0.791819\n",
      "[500]\ttraining's auc: 0.805911\tvalid_1's auc: 0.791783\n",
      "[600]\ttraining's auc: 0.80694\tvalid_1's auc: 0.791919\n",
      "[700]\ttraining's auc: 0.807982\tvalid_1's auc: 0.792151\n",
      "[800]\ttraining's auc: 0.808905\tvalid_1's auc: 0.792334\n",
      "[900]\ttraining's auc: 0.809742\tvalid_1's auc: 0.792435\n",
      "[1000]\ttraining's auc: 0.81061\tvalid_1's auc: 0.792484\n",
      "[1100]\ttraining's auc: 0.811458\tvalid_1's auc: 0.792565\n",
      "[1200]\ttraining's auc: 0.812199\tvalid_1's auc: 0.792518\n",
      "[1300]\ttraining's auc: 0.812963\tvalid_1's auc: 0.792429\n",
      "Early stopping, best iteration is:\n",
      "[1118]\ttraining's auc: 0.811568\tvalid_1's auc: 0.79257\n",
      "Training until validation scores don't improve for 200 rounds.\n",
      "[100]\ttraining's auc: 0.800327\tvalid_1's auc: 0.805554\n",
      "[200]\ttraining's auc: 0.801204\tvalid_1's auc: 0.806059\n",
      "[300]\ttraining's auc: 0.80253\tvalid_1's auc: 0.806502\n",
      "[400]\ttraining's auc: 0.803597\tvalid_1's auc: 0.806777\n",
      "[500]\ttraining's auc: 0.804445\tvalid_1's auc: 0.806867\n",
      "[600]\ttraining's auc: 0.805369\tvalid_1's auc: 0.806968\n",
      "[700]\ttraining's auc: 0.806344\tvalid_1's auc: 0.807128\n",
      "[800]\ttraining's auc: 0.807228\tvalid_1's auc: 0.807134\n",
      "[900]\ttraining's auc: 0.80817\tvalid_1's auc: 0.807308\n",
      "[1000]\ttraining's auc: 0.809059\tvalid_1's auc: 0.807377\n",
      "[1100]\ttraining's auc: 0.809945\tvalid_1's auc: 0.807426\n",
      "[1200]\ttraining's auc: 0.810733\tvalid_1's auc: 0.80742\n",
      "[1300]\ttraining's auc: 0.811501\tvalid_1's auc: 0.807445\n",
      "[1400]\ttraining's auc: 0.812214\tvalid_1's auc: 0.807394\n",
      "[1500]\ttraining's auc: 0.812992\tvalid_1's auc: 0.807376\n",
      "Early stopping, best iteration is:\n",
      "[1326]\ttraining's auc: 0.811711\tvalid_1's auc: 0.807465\n",
      "Training until validation scores don't improve for 200 rounds.\n",
      "[100]\ttraining's auc: 0.801204\tvalid_1's auc: 0.796872\n",
      "[200]\ttraining's auc: 0.802171\tvalid_1's auc: 0.797462\n",
      "[300]\ttraining's auc: 0.80342\tvalid_1's auc: 0.797773\n",
      "[400]\ttraining's auc: 0.804495\tvalid_1's auc: 0.797854\n",
      "[500]\ttraining's auc: 0.805328\tvalid_1's auc: 0.797744\n",
      "Early stopping, best iteration is:\n",
      "[360]\ttraining's auc: 0.804073\tvalid_1's auc: 0.797885\n",
      "Training until validation scores don't improve for 200 rounds.\n",
      "[100]\ttraining's auc: 0.800292\tvalid_1's auc: 0.804626\n",
      "[200]\ttraining's auc: 0.801261\tvalid_1's auc: 0.805173\n",
      "[300]\ttraining's auc: 0.802561\tvalid_1's auc: 0.805327\n",
      "[400]\ttraining's auc: 0.803636\tvalid_1's auc: 0.805251\n",
      "Early stopping, best iteration is:\n",
      "[238]\ttraining's auc: 0.801762\tvalid_1's auc: 0.805387\n",
      "Training until validation scores don't improve for 200 rounds.\n",
      "[100]\ttraining's auc: 0.8007\tvalid_1's auc: 0.802038\n",
      "[200]\ttraining's auc: 0.801655\tvalid_1's auc: 0.802534\n",
      "[300]\ttraining's auc: 0.802945\tvalid_1's auc: 0.802606\n",
      "[400]\ttraining's auc: 0.803954\tvalid_1's auc: 0.802746\n",
      "[500]\ttraining's auc: 0.804749\tvalid_1's auc: 0.802769\n",
      "[600]\ttraining's auc: 0.805733\tvalid_1's auc: 0.802811\n",
      "[700]\ttraining's auc: 0.806587\tvalid_1's auc: 0.802858\n",
      "[800]\ttraining's auc: 0.807541\tvalid_1's auc: 0.803003\n",
      "[900]\ttraining's auc: 0.808581\tvalid_1's auc: 0.803298\n",
      "[1000]\ttraining's auc: 0.809429\tvalid_1's auc: 0.803351\n",
      "[1100]\ttraining's auc: 0.810198\tvalid_1's auc: 0.80334\n",
      "[1200]\ttraining's auc: 0.81107\tvalid_1's auc: 0.803443\n",
      "[1300]\ttraining's auc: 0.811912\tvalid_1's auc: 0.80361\n",
      "[1400]\ttraining's auc: 0.812753\tvalid_1's auc: 0.803635\n",
      "[1500]\ttraining's auc: 0.813602\tvalid_1's auc: 0.803682\n",
      "[1600]\ttraining's auc: 0.814414\tvalid_1's auc: 0.803659\n",
      "[1700]\ttraining's auc: 0.81521\tvalid_1's auc: 0.803653\n",
      "Early stopping, best iteration is:\n",
      "[1527]\ttraining's auc: 0.813859\tvalid_1's auc: 0.803755\n",
      "Training until validation scores don't improve for 200 rounds.\n",
      "[100]\ttraining's auc: 0.800874\tvalid_1's auc: 0.798281\n",
      "[200]\ttraining's auc: 0.802059\tvalid_1's auc: 0.798897\n",
      "[300]\ttraining's auc: 0.803264\tvalid_1's auc: 0.799325\n",
      "[400]\ttraining's auc: 0.804136\tvalid_1's auc: 0.799594\n",
      "[500]\ttraining's auc: 0.805155\tvalid_1's auc: 0.799882\n",
      "[600]\ttraining's auc: 0.806183\tvalid_1's auc: 0.800141\n",
      "[700]\ttraining's auc: 0.807178\tvalid_1's auc: 0.800296\n",
      "[800]\ttraining's auc: 0.808125\tvalid_1's auc: 0.800549\n",
      "[900]\ttraining's auc: 0.808925\tvalid_1's auc: 0.800623\n",
      "[1000]\ttraining's auc: 0.809815\tvalid_1's auc: 0.800831\n",
      "[1100]\ttraining's auc: 0.810534\tvalid_1's auc: 0.800852\n",
      "[1200]\ttraining's auc: 0.811288\tvalid_1's auc: 0.800928\n",
      "[1300]\ttraining's auc: 0.812106\tvalid_1's auc: 0.801047\n",
      "[1400]\ttraining's auc: 0.812733\tvalid_1's auc: 0.801098\n",
      "[1500]\ttraining's auc: 0.813471\tvalid_1's auc: 0.80111\n",
      "[1600]\ttraining's auc: 0.814188\tvalid_1's auc: 0.801184\n",
      "[1700]\ttraining's auc: 0.814837\tvalid_1's auc: 0.801201\n",
      "[1800]\ttraining's auc: 0.815494\tvalid_1's auc: 0.801269\n",
      "[1900]\ttraining's auc: 0.816197\tvalid_1's auc: 0.801291\n",
      "[2000]\ttraining's auc: 0.816903\tvalid_1's auc: 0.801336\n",
      "[2100]\ttraining's auc: 0.817604\tvalid_1's auc: 0.801246\n",
      "[2200]\ttraining's auc: 0.818315\tvalid_1's auc: 0.801272\n",
      "Early stopping, best iteration is:\n",
      "[2007]\ttraining's auc: 0.816936\tvalid_1's auc: 0.801348\n",
      "Training until validation scores don't improve for 200 rounds.\n",
      "[100]\ttraining's auc: 0.800796\tvalid_1's auc: 0.7989\n",
      "[200]\ttraining's auc: 0.801891\tvalid_1's auc: 0.800118\n",
      "[300]\ttraining's auc: 0.803094\tvalid_1's auc: 0.80058\n",
      "[400]\ttraining's auc: 0.804034\tvalid_1's auc: 0.800778\n",
      "[500]\ttraining's auc: 0.804813\tvalid_1's auc: 0.800793\n",
      "[600]\ttraining's auc: 0.80555\tvalid_1's auc: 0.80078\n",
      "[700]\ttraining's auc: 0.806418\tvalid_1's auc: 0.800858\n",
      "[800]\ttraining's auc: 0.807306\tvalid_1's auc: 0.800977\n",
      "[900]\ttraining's auc: 0.808155\tvalid_1's auc: 0.800996\n",
      "[1000]\ttraining's auc: 0.808969\tvalid_1's auc: 0.801105\n",
      "[1100]\ttraining's auc: 0.809949\tvalid_1's auc: 0.801244\n",
      "[1200]\ttraining's auc: 0.810682\tvalid_1's auc: 0.801231\n",
      "[1300]\ttraining's auc: 0.811516\tvalid_1's auc: 0.801267\n",
      "[1400]\ttraining's auc: 0.812397\tvalid_1's auc: 0.801346\n",
      "[1500]\ttraining's auc: 0.813238\tvalid_1's auc: 0.801449\n",
      "[1600]\ttraining's auc: 0.814154\tvalid_1's auc: 0.80159\n",
      "[1700]\ttraining's auc: 0.814883\tvalid_1's auc: 0.801519\n",
      "Early stopping, best iteration is:\n",
      "[1597]\ttraining's auc: 0.814132\tvalid_1's auc: 0.8016\n"
     ]
    },
    {
     "name": "stderr",
     "output_type": "stream",
     "text": [
      "/home/sakhtar0092/anaconda2/lib/python2.7/site-packages/ipykernel_launcher.py:13: SettingWithCopyWarning: \n",
      "A value is trying to be set on a copy of a slice from a DataFrame.\n",
      "Try using .loc[row_indexer,col_indexer] = value instead\n",
      "\n",
      "See the caveats in the documentation: http://pandas.pydata.org/pandas-docs/stable/indexing.html#indexing-view-versus-copy\n",
      "  del sys.path[0]\n",
      "/home/sakhtar0092/anaconda2/lib/python2.7/site-packages/ipykernel_launcher.py:14: SettingWithCopyWarning: \n",
      "A value is trying to be set on a copy of a slice from a DataFrame.\n",
      "Try using .loc[row_indexer,col_indexer] = value instead\n",
      "\n",
      "See the caveats in the documentation: http://pandas.pydata.org/pandas-docs/stable/indexing.html#indexing-view-versus-copy\n",
      "  \n"
     ]
    },
    {
     "name": "stdout",
     "output_type": "stream",
     "text": [
      "Overall ROC: 0.800946192124,  Mean ROC: 0.801151539668, STD AUC: 0.00468557579305\n"
     ]
    },
    {
     "name": "stderr",
     "output_type": "stream",
     "text": [
      "/home/sakhtar0092/anaconda2/lib/python2.7/site-packages/ipykernel_launcher.py:15: SettingWithCopyWarning: \n",
      "A value is trying to be set on a copy of a slice from a DataFrame.\n",
      "Try using .loc[row_indexer,col_indexer] = value instead\n",
      "\n",
      "See the caveats in the documentation: http://pandas.pydata.org/pandas-docs/stable/indexing.html#indexing-view-versus-copy\n",
      "  from ipykernel import kernelapp as app\n"
     ]
    }
   ],
   "source": [
    "meta_train = np.zeros(train.shape[0])\n",
    "meta_test = []\n",
    "feature_importance = pd.DataFrame(columns = [\"feature\",\"split\",\"gain\"])\n",
    "fold_roc = []\n",
    "\n",
    "kf = StratifiedKFold(n_splits= 10, shuffle=True, random_state=12323)\n",
    "for fold_id, (train_index, test_index) in enumerate(kf.split(train, target)):\n",
    "    x_train, x_test = train.iloc[train_index], train.iloc[test_index]\n",
    "    y_train, y_test = target[train_index], target[test_index]\n",
    "\n",
    "    model_tree(x_train, x_test, y_train, y_test, test, meta_train, meta_test,train_index, test_index,fold_id)\n",
    "\n",
    "test_id[\"TARGET\"] = np.array(meta_test).T.mean(axis=1)\n",
    "test_id_rank[\"TARGET\"] = pd.DataFrame(np.array(meta_test).T).rank(pct = True).mean(axis=1)\n",
    "train_id[\"TARGET\"] = meta_train\n",
    "\n",
    "print \"Overall ROC: {},  Mean ROC: {}, STD AUC: {}\".format(roc_auc_score(target, meta_train), np.mean(fold_roc), np.std(fold_roc))"
   ]
  },
  {
   "cell_type": "code",
   "execution_count": 11,
   "metadata": {
    "collapsed": true
   },
   "outputs": [],
   "source": [
    "train_id.to_csv(\"csv/{}_train.csv\".format(model_name), index=False)\n",
    "test_id.to_csv(\"csv/{}_test.csv\".format(model_name), index=False)\n",
    "test_id_rank.to_csv(\"csv/{}_rank_test.csv\".format(model_name), index=False)"
   ]
  },
  {
   "cell_type": "code",
   "execution_count": 12,
   "metadata": {},
   "outputs": [
    {
     "data": {
      "text/plain": [
       "[0.7991190496878651,\n",
       " 0.79543681711431,\n",
       " 0.8069500499679971,\n",
       " 0.7925697210164924,\n",
       " 0.8074649952265879,\n",
       " 0.7978852385375916,\n",
       " 0.8053871916286011,\n",
       " 0.8037550567852512,\n",
       " 0.8013475144715362,\n",
       " 0.8015997622388771]"
      ]
     },
     "execution_count": 12,
     "metadata": {},
     "output_type": "execute_result"
    }
   ],
   "source": [
    "fold_roc"
   ]
  },
  {
   "cell_type": "code",
   "execution_count": null,
   "metadata": {
    "collapsed": true
   },
   "outputs": [],
   "source": []
  },
  {
   "cell_type": "code",
   "execution_count": null,
   "metadata": {
    "collapsed": true
   },
   "outputs": [],
   "source": []
  },
  {
   "cell_type": "code",
   "execution_count": null,
   "metadata": {
    "collapsed": true
   },
   "outputs": [],
   "source": []
  },
  {
   "cell_type": "code",
   "execution_count": null,
   "metadata": {
    "collapsed": true
   },
   "outputs": [],
   "source": []
  },
  {
   "cell_type": "code",
   "execution_count": null,
   "metadata": {
    "collapsed": true
   },
   "outputs": [],
   "source": []
  },
  {
   "cell_type": "code",
   "execution_count": null,
   "metadata": {
    "collapsed": true
   },
   "outputs": [],
   "source": []
  },
  {
   "cell_type": "code",
   "execution_count": null,
   "metadata": {
    "collapsed": true
   },
   "outputs": [],
   "source": [
    "-"
   ]
  }
 ],
 "metadata": {
  "kernelspec": {
   "display_name": "Python 2",
   "language": "python",
   "name": "python2"
  },
  "language_info": {
   "codemirror_mode": {
    "name": "ipython",
    "version": 2
   },
   "file_extension": ".py",
   "mimetype": "text/x-python",
   "name": "python",
   "nbconvert_exporter": "python",
   "pygments_lexer": "ipython2",
   "version": "2.7.14"
  }
 },
 "nbformat": 4,
 "nbformat_minor": 2
}
