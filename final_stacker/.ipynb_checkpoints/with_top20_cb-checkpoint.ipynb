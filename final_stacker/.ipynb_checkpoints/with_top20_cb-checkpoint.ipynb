{
 "cells": [
  {
   "cell_type": "code",
   "execution_count": 1,
   "metadata": {
    "collapsed": true
   },
   "outputs": [],
   "source": [
    "model_name = \"with_top20_cb\""
   ]
  },
  {
   "cell_type": "code",
   "execution_count": 2,
   "metadata": {
    "collapsed": true
   },
   "outputs": [],
   "source": [
    "import numpy as np\n",
    "import pandas as pd\n",
    "import gc\n",
    "from time import time\n",
    "from contextlib import contextmanager\n",
    "from lightgbm import LGBMClassifier\n",
    "from sklearn.metrics import roc_auc_score, roc_curve\n",
    "from sklearn.model_selection import KFold, StratifiedKFold\n",
    "import matplotlib.pyplot as plt\n",
    "import seaborn as sns\n",
    "import warnings\n",
    "from sklearn.preprocessing import LabelEncoder,OneHotEncoder"
   ]
  },
  {
   "cell_type": "code",
   "execution_count": 3,
   "metadata": {},
   "outputs": [
    {
     "name": "stdout",
     "output_type": "stream",
     "text": [
      "Init... : 0.000192880630493 seconds\n"
     ]
    }
   ],
   "source": [
    "timesheet = [time()]\n",
    "def timer(statement):\n",
    "    global timesheet\n",
    "    timesheet.append(time())\n",
    "    print statement+\" :\", (timesheet[-1]-timesheet[-2]),\"seconds\"\n",
    "timer(\"Init...\")"
   ]
  },
  {
   "cell_type": "code",
   "execution_count": 4,
   "metadata": {
    "collapsed": true
   },
   "outputs": [],
   "source": [
    "def load_meta(directory, prefix, modeltype):\n",
    "    m_tr = pd.read_csv(directory+prefix+\"_train.csv\")\n",
    "    m_te = pd.read_csv(directory+prefix+\"_test.csv\")\n",
    "    data = pd.concat([m_tr, m_te], axis=0).reset_index(drop=True)\n",
    "    data.columns = [\"{}_{}_{}\".format(c, prefix, modeltype) if c!=\"SK_ID_CURR\" else c for c in data.columns]\n",
    "    return data\n",
    "\n",
    "def load_neptune(directory, modelname):\n",
    "    m_tr = pd.read_csv(directory+\"lightGBM_out_of_fold_train_predictions.csv\", usecols = [\"SK_ID_CURR\",\"lightGBM_prediction\"])\n",
    "    m_te = pd.read_csv(directory+\"lightGBM_out_of_fold_test_predictions.csv\", usecols = [\"SK_ID_CURR\",\"lightGBM_prediction\"])\n",
    "    m_te = m_te.groupby(\"SK_ID_CURR\")[\"lightGBM_prediction\"].mean().reset_index()\n",
    "    \n",
    "    data = pd.concat([m_tr, m_te], axis=0).reset_index(drop=True)\n",
    "    data.columns = [\"SK_ID_CURR\", \"neptune_{}\".format(modelname)]\n",
    "    return data\n",
    "\n",
    "def join_features(data, features):\n",
    "    for item in features:\n",
    "        data = data.merge(item, how = \"left\", on = \"SK_ID_CURR\")\n",
    "    return data\n",
    "\n",
    "def load_data(datafile):\n",
    "    global important_columns\n",
    "    colnames = [c.replace(\" \",\"_\") for c in pd.read_csv(datafile, nrows= 1).columns]\n",
    "    intersection = list(set(colnames).intersection(set(important_columns)))+[\"SK_ID_CURR\"]\n",
    "\n",
    "    df =  pd.read_csv(datafile, names = colnames, usecols = intersection, skiprows=1).dropna(axis=1, how=\"all\")\n",
    "    timer(\"Loaded {} with shape {} in \".format(datafile.split(\"/\")[-1], df.shape))\n",
    "    return df"
   ]
  },
  {
   "cell_type": "markdown",
   "metadata": {},
   "source": [
    "## Getting Feature Importance File"
   ]
  },
  {
   "cell_type": "code",
   "execution_count": 5,
   "metadata": {
    "collapsed": true
   },
   "outputs": [],
   "source": [
    "important_columns = pd.read_csv(\"../feature selector/importance/shap_importances.csv\")\n",
    "important_columns[\"feature\"] = important_columns[\"feature\"].apply(lambda x: x.replace(\" \",\"_\"))\n",
    "important_columns = important_columns.loc[important_columns.shapely_mean > 0.0].reset_index(drop=True)\n",
    "important_columns = important_columns.sort_values(by = \"shapely_mean\", ascending = False).reset_index(drop=True)\n",
    "important_columns = important_columns.loc[0:20].feature.values.tolist()"
   ]
  },
  {
   "cell_type": "markdown",
   "metadata": {},
   "source": [
    "## Loading Features"
   ]
  },
  {
   "cell_type": "code",
   "execution_count": 6,
   "metadata": {},
   "outputs": [
    {
     "name": "stdout",
     "output_type": "stream",
     "text": [
      "Loaded application_features_V2.csv with shape (356255, 19) in  : 4.74314713478 seconds\n",
      "Loaded bureau_features_V1.csv with shape (305811, 4) in  : 5.71465492249 seconds\n",
      "Loaded credit_card_features_V1.csv with shape (103558, 1) in  : 10.0770521164 seconds\n",
      "Loaded installment_features_V1.csv with shape (339587, 1) in  : 24.6360549927 seconds\n",
      "Loaded pos_cash_features_V1.csv with shape (337252, 1) in  : 17.5495769978 seconds\n",
      "Loaded previous_application_features_V1.csv with shape (338857, 1) in  : 15.5569958687 seconds\n",
      "Loaded credit_card_features_V3.csv with shape (103558, 1) in  : 16.8053219318 seconds\n",
      "Loaded installment_features_V3.csv with shape (339587, 1) in  : 21.5678520203 seconds\n",
      "Loaded pos_cash_features_V3.csv with shape (337252, 1) in  : 6.23833298683 seconds\n",
      "Loaded previous_application_features_V3.csv with shape (338857, 1) in  : 7.9107131958 seconds\n"
     ]
    }
   ],
   "source": [
    "applications = load_data(\"../extractor/csv/application_features_V2.csv\")\n",
    "bureau_balance_bb = load_data(\"../extractor/csv/bureau_features_V1.csv\")\n",
    "credit_card_balance = load_data(\"../extractor/csv/credit_card_features_V1.csv\")\n",
    "installment_features = load_data(\"../extractor/csv/installment_features_V1.csv\")\n",
    "pos_cash_balance = load_data(\"../extractor/csv/pos_cash_features_V1.csv\")\n",
    "previous_apps = load_data(\"../extractor/csv/previous_application_features_V1.csv\")\n",
    "\n",
    "credit_card_balance_v3 = load_data(\"../extractor/csv/credit_card_features_V3.csv\")\n",
    "installment_features_v3 = load_data(\"../extractor/csv/installment_features_V3.csv\")\n",
    "pos_cash_balance_v3 = load_data(\"../extractor/csv/pos_cash_features_V3.csv\")\n",
    "previous_apps_v3 = load_data(\"../extractor/csv/previous_application_features_V3.csv\")\n",
    "\n",
    "base_features = [applications, bureau_balance_bb, credit_card_balance, installment_features, pos_cash_balance,previous_apps, credit_card_balance_v3,installment_features_v3,pos_cash_balance_v3, previous_apps_v3]"
   ]
  },
  {
   "cell_type": "code",
   "execution_count": 7,
   "metadata": {
    "collapsed": true
   },
   "outputs": [],
   "source": [
    "tree_meta_features = [\n",
    "    load_meta(\"../base trees/csv/\", \"application\", \"trees\"),\n",
    "    load_meta(\"../base trees/csv/\", \"bureau_balance_bb\", \"trees\"),\n",
    "    load_meta(\"../base trees/csv/\", \"credit_card_balance\", \"trees\"),\n",
    "    load_meta(\"../base trees/csv/\", \"installment\", \"trees\"),\n",
    "    load_meta(\"../base trees/csv/\", \"pos_cash_balance\", \"trees\"),\n",
    "    load_meta(\"../base trees/csv/\", \"previous_apps\", \"trees\"),\n",
    "]\n",
    "\n",
    "lr_meta_features = [\n",
    "    load_meta(\"../base lr/csv/\", \"application\", \"lr\"),\n",
    "    load_meta(\"../base lr/csv/\", \"bureau_balance_bb\", \"lr\"),\n",
    "    load_meta(\"../base lr/csv/\", \"credit_card_balance\", \"lr\"),\n",
    "    load_meta(\"../base lr/csv/\", \"installment\", \"lr\"),\n",
    "    load_meta(\"../base lr/csv/\", \"pos_cash_balance\", \"lr\"),\n",
    "    load_meta(\"../base lr/csv/\", \"previous_apps\", \"lr\"),\n",
    "]\n",
    "\n",
    "nb_meta_features = [\n",
    "    load_meta(\"../base nb/csv/\", \"application\", \"nb\"),\n",
    "    load_meta(\"../base nb/csv/\", \"bureau_balance_bb\", \"nb\"),\n",
    "    load_meta(\"../base nb/csv/\", \"credit_card_balance\", \"nb\"),\n",
    "    load_meta(\"../base nb/csv/\", \"installment\", \"nb\"),\n",
    "    load_meta(\"../base nb/csv/\", \"pos_cash_balance\", \"nb\"),\n",
    "    load_meta(\"../base nb/csv/\", \"previous_apps\", \"nb\"),\n",
    "]\n",
    "\n",
    "neptune_features = [\n",
    "    load_neptune(\"../base neptune/m1/csv/\", \"m1\"),\n",
    "    load_neptune(\"../base neptune/m2/csv/\", \"m2\"),\n",
    "    load_neptune(\"../base neptune/m3/csv/\", \"m3\"),\n",
    "    load_neptune(\"../base neptune/m4/csv/\", \"m4\"),\n",
    "]\n",
    "\n",
    "mixture_models = [\n",
    "    load_meta(\"../base mixtures/csv/\", \"knn_on_selected_pca\", \"mixtures\"),\n",
    "    load_meta(\"../base mixtures/csv/\", \"lgbm_on_core_features\", \"mixtures\"),\n",
    "    load_meta(\"../base mixtures/csv/\", \"lgbm_on_gp_features\", \"mixtures\"),\n",
    "    load_meta(\"../base mixtures/csv/\", \"lr_on_core_features\", \"mixtures\"),\n",
    "    load_meta(\"../base mixtures/csv/\", \"nn\", \"mixtures\"),\n",
    "    load_meta(\"../base mixtures/csv/\", \"using_lags_bureau_data\", \"mixtures\"),\n",
    "\n",
    "]\n",
    "\n",
    "l1_features = [\n",
    "    load_meta(\"../l1/csv/\", \"l1_gnb\", \"l1\"),\n",
    "    load_meta(\"../l1/csv/\", \"l1_lr\", \"l1\"),\n",
    "    load_meta(\"../l1/csv/\", \"l1_tree_with_flags\", \"l1\"),\n",
    "    load_meta(\"../l1/csv/\", \"l1_tree_without_flags\", \"l1\"),\n",
    "    load_meta(\"../l1/csv/\", \"tree_with_flags_without_meta\", \"l1\"),\n",
    "    load_meta(\"../l1/csv/\", \"tree_without_flags_without_meta\", \"l1\"),\n",
    "    load_meta(\"../l1/csv/\", \"tree_on_core_features_with_meta\", \"l1\"),\n",
    "]\n",
    "\n",
    "l2_features = [\n",
    "    load_meta(\"../l2/csv/\", \"tree_on_l1_and_basemixtures_neptune_1\", \"l2\"),\n",
    "    load_meta(\"../l2/csv/\", \"tree_on_l1_and_basemixtures_neptune_2\", \"l2\"),\n",
    "]\n",
    "\n",
    "final_models = [\n",
    "    load_meta(\"../final_models/csv/\", \"my500_neptuneselected_meta\", \"final_models\"),\n",
    "    load_meta(\"../final_models/csv/\", \"my500_neptuneselected_nometa\", \"final_models\"),\n",
    "]"
   ]
  },
  {
   "cell_type": "markdown",
   "metadata": {},
   "source": [
    "## Joining All Files"
   ]
  },
  {
   "cell_type": "code",
   "execution_count": 8,
   "metadata": {
    "collapsed": true
   },
   "outputs": [],
   "source": [
    "train = pd.read_csv(\"../data/application_train.csv\", usecols = [\"SK_ID_CURR\",\"TARGET\"])\n",
    "test = pd.read_csv(\"../data/application_test.csv\", usecols = [\"SK_ID_CURR\"])\n",
    "\n",
    "data = pd.concat([train, test], axis=0).reset_index(drop=True)\n",
    "data = join_features(data, base_features)\n",
    "data = join_features(data, tree_meta_features)\n",
    "data = join_features(data, lr_meta_features)\n",
    "data = join_features(data, nb_meta_features)\n",
    "data = join_features(data, neptune_features)\n",
    "data = join_features(data, mixture_models)\n",
    "data = join_features(data, l1_features)\n",
    "data = join_features(data, l2_features)\n",
    "data = join_features(data, final_models)\n",
    "\n",
    "del base_features,applications, bureau_balance_bb, credit_card_balance, installment_features, pos_cash_balance,previous_apps, credit_card_balance_v3,installment_features_v3,pos_cash_balance_v3, previous_apps_v3\n",
    "gc.collect()\n",
    "\n",
    "train = data.loc[data.TARGET.notnull()].reset_index(drop=True)\n",
    "test = data.loc[data.TARGET.isnull()].reset_index(drop=True)\n",
    "\n",
    "train_id = train[[\"SK_ID_CURR\"]]\n",
    "test_id = test[[\"SK_ID_CURR\"]]\n",
    "test_id_rank = test[[\"SK_ID_CURR\"]]\n",
    "target =train.TARGET\n",
    "\n",
    "train.drop([\"SK_ID_CURR\", \"TARGET\"], axis=1, inplace=True)\n",
    "test.drop([\"SK_ID_CURR\",\"TARGET\"], axis=1, inplace = True)"
   ]
  },
  {
   "cell_type": "markdown",
   "metadata": {},
   "source": [
    "# Defining Model"
   ]
  },
  {
   "cell_type": "code",
   "execution_count": 9,
   "metadata": {
    "collapsed": true
   },
   "outputs": [],
   "source": [
    "from catboost import CatBoostClassifier\n",
    "def model_tree(x_train, x_test, y_train, y_test, test, meta_train, meta_test,train_index, test_index,fold_id):\n",
    "    model = CatBoostClassifier(thread_count = 16,iterations=1000,learning_rate=0.05,depth=5,l2_leaf_reg=40,bootstrap_type='Bernoulli',subsample=0.7,scale_pos_weight=5,eval_metric='AUC',metric_period=50,od_type='Iter',od_wait=45, random_seed=17, allow_writing_files=False)\n",
    "    model.fit(x_train, y_train, eval_set=(x_test, y_test),use_best_model=True,verbose=True)\n",
    "    \n",
    "    meta_train[test_index] = model.predict_proba(x_test)[:,1]\n",
    "    meta_test.append(model.predict_proba(test)[:,1])\n",
    "        \n",
    "    global fold_roc\n",
    "    fold_roc.append(roc_auc_score(y_test, meta_train[test_index]))\n",
    " "
   ]
  },
  {
   "cell_type": "markdown",
   "metadata": {},
   "source": [
    "# Training Model"
   ]
  },
  {
   "cell_type": "code",
   "execution_count": 10,
   "metadata": {
    "scrolled": true
   },
   "outputs": [
    {
     "name": "stdout",
     "output_type": "stream",
     "text": [
      "Warning: Parameter 'use_best_model' is true, thus evaluation metric iscalculated on every iteration. 'metric_period' is ignored for evaluation metric.\n",
      "0:\ttest: 0.7869829\tbest: 0.7869829 (0)\ttotal: 229ms\tremaining: 3m 48s\n",
      "50:\ttest: 0.7988735\tbest: 0.7988735 (50)\ttotal: 7.67s\tremaining: 2m 22s\n",
      "100:\ttest: 0.8003380\tbest: 0.8003380 (100)\ttotal: 14.8s\tremaining: 2m 11s\n",
      "150:\ttest: 0.8009306\tbest: 0.8009306 (150)\ttotal: 21.9s\tremaining: 2m 3s\n",
      "200:\ttest: 0.8014139\tbest: 0.8014139 (200)\ttotal: 29.3s\tremaining: 1m 56s\n",
      "250:\ttest: 0.8020335\tbest: 0.8020335 (250)\ttotal: 36.5s\tremaining: 1m 49s\n",
      "300:\ttest: 0.8023563\tbest: 0.8023563 (300)\ttotal: 43.8s\tremaining: 1m 41s\n",
      "350:\ttest: 0.8025158\tbest: 0.8025158 (350)\ttotal: 50.9s\tremaining: 1m 34s\n",
      "400:\ttest: 0.8026920\tbest: 0.8026920 (400)\ttotal: 58.3s\tremaining: 1m 27s\n",
      "450:\ttest: 0.8029093\tbest: 0.8029093 (450)\ttotal: 1m 5s\tremaining: 1m 19s\n",
      "500:\ttest: 0.8029258\tbest: 0.8029258 (500)\ttotal: 1m 12s\tremaining: 1m 12s\n",
      "Stopped by overfitting detector  (45 iterations wait)\n",
      "\n",
      "bestTest = 0.8029257695\n",
      "bestIteration = 500\n",
      "\n",
      "Shrink model to first 501 iterations.\n",
      "Warning: Parameter 'use_best_model' is true, thus evaluation metric iscalculated on every iteration. 'metric_period' is ignored for evaluation metric.\n",
      "0:\ttest: 0.7835098\tbest: 0.7835098 (0)\ttotal: 160ms\tremaining: 2m 39s\n",
      "50:\ttest: 0.7949814\tbest: 0.7949814 (50)\ttotal: 7.43s\tremaining: 2m 18s\n",
      "100:\ttest: 0.7954096\tbest: 0.7954096 (100)\ttotal: 14.8s\tremaining: 2m 11s\n",
      "150:\ttest: 0.7964619\tbest: 0.7964619 (150)\ttotal: 22.3s\tremaining: 2m 5s\n",
      "200:\ttest: 0.7967379\tbest: 0.7967379 (200)\ttotal: 29.8s\tremaining: 1m 58s\n",
      "250:\ttest: 0.7980594\tbest: 0.7980594 (250)\ttotal: 37s\tremaining: 1m 50s\n",
      "300:\ttest: 0.7987731\tbest: 0.7987731 (300)\ttotal: 42.8s\tremaining: 1m 39s\n",
      "350:\ttest: 0.7987626\tbest: 0.7987731 (300)\ttotal: 46.6s\tremaining: 1m 26s\n",
      "Stopped by overfitting detector  (45 iterations wait)\n",
      "\n",
      "bestTest = 0.7987730697\n",
      "bestIteration = 300\n",
      "\n",
      "Shrink model to first 301 iterations.\n",
      "Warning: Parameter 'use_best_model' is true, thus evaluation metric iscalculated on every iteration. 'metric_period' is ignored for evaluation metric.\n",
      "0:\ttest: 0.7921206\tbest: 0.7921206 (0)\ttotal: 73.7ms\tremaining: 1m 13s\n",
      "50:\ttest: 0.8068360\tbest: 0.8068360 (50)\ttotal: 3.91s\tremaining: 1m 12s\n",
      "100:\ttest: 0.8074830\tbest: 0.8074830 (100)\ttotal: 7.72s\tremaining: 1m 8s\n",
      "150:\ttest: 0.8092038\tbest: 0.8092038 (150)\ttotal: 11.4s\tremaining: 1m 4s\n",
      "200:\ttest: 0.8099677\tbest: 0.8099677 (200)\ttotal: 15s\tremaining: 59.8s\n",
      "250:\ttest: 0.8106283\tbest: 0.8106283 (250)\ttotal: 18.6s\tremaining: 55.6s\n",
      "300:\ttest: 0.8113124\tbest: 0.8113124 (300)\ttotal: 22.2s\tremaining: 51.5s\n",
      "350:\ttest: 0.8116749\tbest: 0.8116749 (350)\ttotal: 25.8s\tremaining: 47.8s\n",
      "400:\ttest: 0.8119544\tbest: 0.8119544 (400)\ttotal: 29.5s\tremaining: 44.1s\n",
      "450:\ttest: 0.8122342\tbest: 0.8122342 (450)\ttotal: 33.2s\tremaining: 40.4s\n",
      "500:\ttest: 0.8125886\tbest: 0.8125886 (500)\ttotal: 36.9s\tremaining: 36.8s\n",
      "550:\ttest: 0.8127822\tbest: 0.8127822 (550)\ttotal: 40.5s\tremaining: 33s\n",
      "600:\ttest: 0.8130449\tbest: 0.8130449 (600)\ttotal: 44.1s\tremaining: 29.3s\n",
      "650:\ttest: 0.8131488\tbest: 0.8131488 (650)\ttotal: 48.9s\tremaining: 26.2s\n",
      "700:\ttest: 0.8133142\tbest: 0.8133142 (700)\ttotal: 52.4s\tremaining: 22.4s\n",
      "Stopped by overfitting detector  (45 iterations wait)\n",
      "\n",
      "bestTest = 0.8133142434\n",
      "bestIteration = 700\n",
      "\n",
      "Shrink model to first 701 iterations.\n",
      "Warning: Parameter 'use_best_model' is true, thus evaluation metric iscalculated on every iteration. 'metric_period' is ignored for evaluation metric.\n",
      "0:\ttest: 0.7758569\tbest: 0.7758569 (0)\ttotal: 131ms\tremaining: 2m 10s\n",
      "50:\ttest: 0.7920428\tbest: 0.7920428 (50)\ttotal: 7.03s\tremaining: 2m 10s\n",
      "100:\ttest: 0.7925837\tbest: 0.7925837 (100)\ttotal: 14.1s\tremaining: 2m 5s\n",
      "150:\ttest: 0.7926330\tbest: 0.7926330 (150)\ttotal: 21s\tremaining: 1m 58s\n",
      "Stopped by overfitting detector  (45 iterations wait)\n",
      "\n",
      "bestTest = 0.7926330189\n",
      "bestIteration = 150\n",
      "\n",
      "Shrink model to first 151 iterations.\n",
      "Warning: Parameter 'use_best_model' is true, thus evaluation metric iscalculated on every iteration. 'metric_period' is ignored for evaluation metric.\n",
      "0:\ttest: 0.7881953\tbest: 0.7881953 (0)\ttotal: 141ms\tremaining: 2m 21s\n",
      "50:\ttest: 0.8070408\tbest: 0.8070408 (50)\ttotal: 7.03s\tremaining: 2m 10s\n",
      "100:\ttest: 0.8078541\tbest: 0.8078541 (100)\ttotal: 13.8s\tremaining: 2m 2s\n",
      "150:\ttest: 0.8095075\tbest: 0.8095075 (150)\ttotal: 20.7s\tremaining: 1m 56s\n",
      "200:\ttest: 0.8099722\tbest: 0.8099722 (200)\ttotal: 24.8s\tremaining: 1m 38s\n",
      "250:\ttest: 0.8106148\tbest: 0.8106148 (250)\ttotal: 28.6s\tremaining: 1m 25s\n",
      "300:\ttest: 0.8108418\tbest: 0.8108418 (300)\ttotal: 32.4s\tremaining: 1m 15s\n",
      "350:\ttest: 0.8110102\tbest: 0.8110102 (350)\ttotal: 36.2s\tremaining: 1m 6s\n",
      "400:\ttest: 0.8112087\tbest: 0.8112087 (400)\ttotal: 40.1s\tremaining: 59.9s\n",
      "450:\ttest: 0.8114321\tbest: 0.8114321 (450)\ttotal: 43.9s\tremaining: 53.4s\n",
      "500:\ttest: 0.8116439\tbest: 0.8116439 (500)\ttotal: 47.5s\tremaining: 47.3s\n",
      "550:\ttest: 0.8117802\tbest: 0.8117802 (550)\ttotal: 51.1s\tremaining: 41.6s\n",
      "Stopped by overfitting detector  (45 iterations wait)\n",
      "\n",
      "bestTest = 0.8117801923\n",
      "bestIteration = 550\n",
      "\n",
      "Shrink model to first 551 iterations.\n",
      "Warning: Parameter 'use_best_model' is true, thus evaluation metric iscalculated on every iteration. 'metric_period' is ignored for evaluation metric.\n",
      "0:\ttest: 0.7841644\tbest: 0.7841644 (0)\ttotal: 71.8ms\tremaining: 1m 11s\n",
      "50:\ttest: 0.7980388\tbest: 0.7980388 (50)\ttotal: 3.72s\tremaining: 1m 9s\n",
      "100:\ttest: 0.7989829\tbest: 0.7989829 (100)\ttotal: 7.36s\tremaining: 1m 5s\n",
      "150:\ttest: 0.7998380\tbest: 0.7998380 (150)\ttotal: 10.9s\tremaining: 1m 1s\n",
      "200:\ttest: 0.8002602\tbest: 0.8002602 (200)\ttotal: 15.6s\tremaining: 1m 2s\n",
      "250:\ttest: 0.8008462\tbest: 0.8008462 (250)\ttotal: 19.2s\tremaining: 57.3s\n",
      "300:\ttest: 0.8013283\tbest: 0.8013283 (300)\ttotal: 23.7s\tremaining: 55s\n",
      "350:\ttest: 0.8019282\tbest: 0.8019282 (350)\ttotal: 30.3s\tremaining: 56s\n",
      "400:\ttest: 0.8021867\tbest: 0.8021867 (400)\ttotal: 37s\tremaining: 55.3s\n",
      "450:\ttest: 0.8023192\tbest: 0.8023192 (450)\ttotal: 43.7s\tremaining: 53.2s\n",
      "Stopped by overfitting detector  (45 iterations wait)\n",
      "\n",
      "bestTest = 0.8023191721\n",
      "bestIteration = 450\n",
      "\n",
      "Shrink model to first 451 iterations.\n",
      "Warning: Parameter 'use_best_model' is true, thus evaluation metric iscalculated on every iteration. 'metric_period' is ignored for evaluation metric.\n",
      "0:\ttest: 0.7887880\tbest: 0.7887880 (0)\ttotal: 161ms\tremaining: 2m 40s\n",
      "50:\ttest: 0.8061506\tbest: 0.8061506 (50)\ttotal: 6.99s\tremaining: 2m 10s\n",
      "100:\ttest: 0.8063631\tbest: 0.8063631 (100)\ttotal: 13.8s\tremaining: 2m 2s\n",
      "150:\ttest: 0.8066773\tbest: 0.8066773 (150)\ttotal: 20.2s\tremaining: 1m 53s\n",
      "200:\ttest: 0.8071932\tbest: 0.8071932 (200)\ttotal: 26.9s\tremaining: 1m 46s\n",
      "250:\ttest: 0.8075134\tbest: 0.8075134 (250)\ttotal: 33.8s\tremaining: 1m 40s\n",
      "300:\ttest: 0.8079938\tbest: 0.8079938 (300)\ttotal: 38.9s\tremaining: 1m 30s\n",
      "350:\ttest: 0.8080950\tbest: 0.8080950 (350)\ttotal: 42.8s\tremaining: 1m 19s\n",
      "400:\ttest: 0.8085417\tbest: 0.8085417 (400)\ttotal: 46.7s\tremaining: 1m 9s\n",
      "450:\ttest: 0.8087227\tbest: 0.8087227 (450)\ttotal: 50.6s\tremaining: 1m 1s\n",
      "500:\ttest: 0.8087558\tbest: 0.8087558 (500)\ttotal: 54.4s\tremaining: 54.2s\n",
      "550:\ttest: 0.8088128\tbest: 0.8088128 (550)\ttotal: 58.2s\tremaining: 47.5s\n",
      "600:\ttest: 0.8088109\tbest: 0.8088128 (550)\ttotal: 1m 2s\tremaining: 41.3s\n",
      "Stopped by overfitting detector  (45 iterations wait)\n",
      "\n",
      "bestTest = 0.808812797\n",
      "bestIteration = 550\n",
      "\n",
      "Shrink model to first 551 iterations.\n",
      "Warning: Parameter 'use_best_model' is true, thus evaluation metric iscalculated on every iteration. 'metric_period' is ignored for evaluation metric.\n",
      "0:\ttest: 0.7886818\tbest: 0.7886818 (0)\ttotal: 81.4ms\tremaining: 1m 21s\n",
      "50:\ttest: 0.8025100\tbest: 0.8025100 (50)\ttotal: 3.95s\tremaining: 1m 13s\n",
      "100:\ttest: 0.8043041\tbest: 0.8043041 (100)\ttotal: 7.86s\tremaining: 1m 9s\n",
      "150:\ttest: 0.8049021\tbest: 0.8049021 (150)\ttotal: 11.4s\tremaining: 1m 4s\n",
      "200:\ttest: 0.8055989\tbest: 0.8055989 (200)\ttotal: 16s\tremaining: 1m 3s\n",
      "250:\ttest: 0.8064181\tbest: 0.8064181 (250)\ttotal: 19.6s\tremaining: 58.4s\n",
      "300:\ttest: 0.8066376\tbest: 0.8066376 (300)\ttotal: 23.6s\tremaining: 54.8s\n",
      "350:\ttest: 0.8071352\tbest: 0.8071352 (350)\ttotal: 29.8s\tremaining: 55.1s\n",
      "400:\ttest: 0.8072057\tbest: 0.8072057 (400)\ttotal: 36.4s\tremaining: 54.3s\n",
      "450:\ttest: 0.8073594\tbest: 0.8073594 (450)\ttotal: 43s\tremaining: 52.4s\n"
     ]
    },
    {
     "name": "stdout",
     "output_type": "stream",
     "text": [
      "500:\ttest: 0.8076950\tbest: 0.8076950 (500)\ttotal: 49.8s\tremaining: 49.6s\n",
      "550:\ttest: 0.8078092\tbest: 0.8078092 (550)\ttotal: 56.6s\tremaining: 46.1s\n",
      "Stopped by overfitting detector  (45 iterations wait)\n",
      "\n",
      "bestTest = 0.807809222\n",
      "bestIteration = 550\n",
      "\n",
      "Shrink model to first 551 iterations.\n",
      "Warning: Parameter 'use_best_model' is true, thus evaluation metric iscalculated on every iteration. 'metric_period' is ignored for evaluation metric.\n",
      "0:\ttest: 0.7838585\tbest: 0.7838585 (0)\ttotal: 140ms\tremaining: 2m 19s\n",
      "50:\ttest: 0.7987932\tbest: 0.7987932 (50)\ttotal: 7.02s\tremaining: 2m 10s\n",
      "100:\ttest: 0.8007892\tbest: 0.8007892 (100)\ttotal: 14s\tremaining: 2m 4s\n",
      "150:\ttest: 0.8024196\tbest: 0.8024196 (150)\ttotal: 20.9s\tremaining: 1m 57s\n",
      "200:\ttest: 0.8026640\tbest: 0.8026640 (200)\ttotal: 25.8s\tremaining: 1m 42s\n",
      "250:\ttest: 0.8032349\tbest: 0.8032349 (250)\ttotal: 29.6s\tremaining: 1m 28s\n",
      "300:\ttest: 0.8036161\tbest: 0.8036161 (300)\ttotal: 33.4s\tremaining: 1m 17s\n",
      "350:\ttest: 0.8037022\tbest: 0.8037022 (350)\ttotal: 37.3s\tremaining: 1m 8s\n",
      "400:\ttest: 0.8039560\tbest: 0.8039560 (400)\ttotal: 41.1s\tremaining: 1m 1s\n",
      "450:\ttest: 0.8039957\tbest: 0.8039957 (450)\ttotal: 44.7s\tremaining: 54.5s\n",
      "Stopped by overfitting detector  (45 iterations wait)\n",
      "\n",
      "bestTest = 0.8039957455\n",
      "bestIteration = 450\n",
      "\n",
      "Shrink model to first 451 iterations.\n",
      "Warning: Parameter 'use_best_model' is true, thus evaluation metric iscalculated on every iteration. 'metric_period' is ignored for evaluation metric.\n",
      "0:\ttest: 0.7836526\tbest: 0.7836526 (0)\ttotal: 76.1ms\tremaining: 1m 16s\n",
      "50:\ttest: 0.8009234\tbest: 0.8009234 (50)\ttotal: 3.92s\tremaining: 1m 12s\n",
      "100:\ttest: 0.8020256\tbest: 0.8020256 (100)\ttotal: 7.83s\tremaining: 1m 9s\n",
      "150:\ttest: 0.8035200\tbest: 0.8035200 (150)\ttotal: 11.5s\tremaining: 1m 4s\n",
      "200:\ttest: 0.8043224\tbest: 0.8043224 (200)\ttotal: 15.2s\tremaining: 1m\n",
      "250:\ttest: 0.8047882\tbest: 0.8047882 (250)\ttotal: 18.9s\tremaining: 56.3s\n",
      "300:\ttest: 0.8053639\tbest: 0.8053639 (300)\ttotal: 22.5s\tremaining: 52.2s\n",
      "350:\ttest: 0.8055002\tbest: 0.8055002 (350)\ttotal: 26.2s\tremaining: 48.5s\n",
      "400:\ttest: 0.8055267\tbest: 0.8055267 (400)\ttotal: 31.3s\tremaining: 46.8s\n",
      "Stopped by overfitting detector  (45 iterations wait)\n",
      "\n",
      "bestTest = 0.8055267489\n",
      "bestIteration = 400\n",
      "\n",
      "Shrink model to first 401 iterations.\n"
     ]
    },
    {
     "name": "stderr",
     "output_type": "stream",
     "text": [
      "/home/sakhtar0092/anaconda2/lib/python2.7/site-packages/ipykernel_launcher.py:13: SettingWithCopyWarning: \n",
      "A value is trying to be set on a copy of a slice from a DataFrame.\n",
      "Try using .loc[row_indexer,col_indexer] = value instead\n",
      "\n",
      "See the caveats in the documentation: http://pandas.pydata.org/pandas-docs/stable/indexing.html#indexing-view-versus-copy\n",
      "  del sys.path[0]\n",
      "/home/sakhtar0092/anaconda2/lib/python2.7/site-packages/ipykernel_launcher.py:14: SettingWithCopyWarning: \n",
      "A value is trying to be set on a copy of a slice from a DataFrame.\n",
      "Try using .loc[row_indexer,col_indexer] = value instead\n",
      "\n",
      "See the caveats in the documentation: http://pandas.pydata.org/pandas-docs/stable/indexing.html#indexing-view-versus-copy\n",
      "  \n",
      "/home/sakhtar0092/anaconda2/lib/python2.7/site-packages/ipykernel_launcher.py:15: SettingWithCopyWarning: \n",
      "A value is trying to be set on a copy of a slice from a DataFrame.\n",
      "Try using .loc[row_indexer,col_indexer] = value instead\n",
      "\n",
      "See the caveats in the documentation: http://pandas.pydata.org/pandas-docs/stable/indexing.html#indexing-view-versus-copy\n",
      "  from ipykernel import kernelapp as app\n"
     ]
    },
    {
     "name": "stdout",
     "output_type": "stream",
     "text": [
      "Overall ROC: 0.804755329003,  Mean ROC: 0.804788997929, STD AUC: 0.00584443090102\n"
     ]
    }
   ],
   "source": [
    "meta_train = np.zeros(train.shape[0])\n",
    "meta_test = []\n",
    "feature_importance = pd.DataFrame(columns = [\"feature\",\"split\",\"gain\"])\n",
    "fold_roc = []\n",
    "\n",
    "kf = StratifiedKFold(n_splits= 10, shuffle=True, random_state=12323)\n",
    "for fold_id, (train_index, test_index) in enumerate(kf.split(train, target)):\n",
    "    x_train, x_test = train.iloc[train_index], train.iloc[test_index]\n",
    "    y_train, y_test = target[train_index], target[test_index]\n",
    "\n",
    "    model_tree(x_train, x_test, y_train, y_test, test, meta_train, meta_test,train_index, test_index,fold_id)\n",
    "\n",
    "test_id[\"TARGET\"] = np.array(meta_test).T.mean(axis=1)\n",
    "test_id_rank[\"TARGET\"] = pd.DataFrame(np.array(meta_test).T).rank(pct = True).mean(axis=1)\n",
    "train_id[\"TARGET\"] = meta_train\n",
    "\n",
    "print \"Overall ROC: {},  Mean ROC: {}, STD AUC: {}\".format(roc_auc_score(target, meta_train), np.mean(fold_roc), np.std(fold_roc))"
   ]
  },
  {
   "cell_type": "code",
   "execution_count": 11,
   "metadata": {
    "collapsed": true
   },
   "outputs": [],
   "source": [
    "train_id.to_csv(\"csv/{}_train.csv\".format(model_name), index=False)\n",
    "test_id.to_csv(\"csv/{}_test.csv\".format(model_name), index=False)\n",
    "test_id_rank.to_csv(\"csv/{}_rank_test.csv\".format(model_name), index=False)"
   ]
  },
  {
   "cell_type": "code",
   "execution_count": 12,
   "metadata": {},
   "outputs": [
    {
     "data": {
      "text/plain": [
       "[0.802925769511927,\n",
       " 0.7987730697292298,\n",
       " 0.813314243388702,\n",
       " 0.7926330188940389,\n",
       " 0.8117801923289555,\n",
       " 0.8023191721275422,\n",
       " 0.8088127969804839,\n",
       " 0.8078092220119002,\n",
       " 0.8039957454532974,\n",
       " 0.8055267488674934]"
      ]
     },
     "execution_count": 12,
     "metadata": {},
     "output_type": "execute_result"
    }
   ],
   "source": [
    "fold_roc"
   ]
  },
  {
   "cell_type": "code",
   "execution_count": null,
   "metadata": {
    "collapsed": true
   },
   "outputs": [],
   "source": []
  },
  {
   "cell_type": "code",
   "execution_count": null,
   "metadata": {
    "collapsed": true
   },
   "outputs": [],
   "source": []
  },
  {
   "cell_type": "code",
   "execution_count": null,
   "metadata": {
    "collapsed": true
   },
   "outputs": [],
   "source": []
  },
  {
   "cell_type": "code",
   "execution_count": null,
   "metadata": {
    "collapsed": true
   },
   "outputs": [],
   "source": []
  },
  {
   "cell_type": "code",
   "execution_count": null,
   "metadata": {
    "collapsed": true
   },
   "outputs": [],
   "source": []
  },
  {
   "cell_type": "code",
   "execution_count": null,
   "metadata": {
    "collapsed": true
   },
   "outputs": [],
   "source": [
    "-"
   ]
  }
 ],
 "metadata": {
  "kernelspec": {
   "display_name": "Python 2",
   "language": "python",
   "name": "python2"
  },
  "language_info": {
   "codemirror_mode": {
    "name": "ipython",
    "version": 2
   },
   "file_extension": ".py",
   "mimetype": "text/x-python",
   "name": "python",
   "nbconvert_exporter": "python",
   "pygments_lexer": "ipython2",
   "version": "2.7.14"
  }
 },
 "nbformat": 4,
 "nbformat_minor": 2
}
