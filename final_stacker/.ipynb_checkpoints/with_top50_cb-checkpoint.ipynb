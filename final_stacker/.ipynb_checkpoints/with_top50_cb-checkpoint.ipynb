{
 "cells": [
  {
   "cell_type": "code",
   "execution_count": 1,
   "metadata": {
    "collapsed": true
   },
   "outputs": [],
   "source": [
    "model_name = \"with_top50_cb\""
   ]
  },
  {
   "cell_type": "code",
   "execution_count": 2,
   "metadata": {
    "collapsed": true
   },
   "outputs": [],
   "source": [
    "import numpy as np\n",
    "import pandas as pd\n",
    "import gc\n",
    "from time import time\n",
    "from contextlib import contextmanager\n",
    "from lightgbm import LGBMClassifier\n",
    "from sklearn.metrics import roc_auc_score, roc_curve\n",
    "from sklearn.model_selection import KFold, StratifiedKFold\n",
    "import matplotlib.pyplot as plt\n",
    "import seaborn as sns\n",
    "import warnings\n",
    "from sklearn.preprocessing import LabelEncoder,OneHotEncoder"
   ]
  },
  {
   "cell_type": "code",
   "execution_count": 3,
   "metadata": {},
   "outputs": [
    {
     "name": "stdout",
     "output_type": "stream",
     "text": [
      "Init... : 0.000189065933228 seconds\n"
     ]
    }
   ],
   "source": [
    "timesheet = [time()]\n",
    "def timer(statement):\n",
    "    global timesheet\n",
    "    timesheet.append(time())\n",
    "    print statement+\" :\", (timesheet[-1]-timesheet[-2]),\"seconds\"\n",
    "timer(\"Init...\")"
   ]
  },
  {
   "cell_type": "code",
   "execution_count": 4,
   "metadata": {
    "collapsed": true
   },
   "outputs": [],
   "source": [
    "def load_meta(directory, prefix, modeltype):\n",
    "    m_tr = pd.read_csv(directory+prefix+\"_train.csv\")\n",
    "    m_te = pd.read_csv(directory+prefix+\"_test.csv\")\n",
    "    data = pd.concat([m_tr, m_te], axis=0).reset_index(drop=True)\n",
    "    data.columns = [\"{}_{}_{}\".format(c, prefix, modeltype) if c!=\"SK_ID_CURR\" else c for c in data.columns]\n",
    "    return data\n",
    "\n",
    "def load_neptune(directory, modelname):\n",
    "    m_tr = pd.read_csv(directory+\"lightGBM_out_of_fold_train_predictions.csv\", usecols = [\"SK_ID_CURR\",\"lightGBM_prediction\"])\n",
    "    m_te = pd.read_csv(directory+\"lightGBM_out_of_fold_test_predictions.csv\", usecols = [\"SK_ID_CURR\",\"lightGBM_prediction\"])\n",
    "    m_te = m_te.groupby(\"SK_ID_CURR\")[\"lightGBM_prediction\"].mean().reset_index()\n",
    "    \n",
    "    data = pd.concat([m_tr, m_te], axis=0).reset_index(drop=True)\n",
    "    data.columns = [\"SK_ID_CURR\", \"neptune_{}\".format(modelname)]\n",
    "    return data\n",
    "\n",
    "def join_features(data, features):\n",
    "    for item in features:\n",
    "        data = data.merge(item, how = \"left\", on = \"SK_ID_CURR\")\n",
    "    return data\n",
    "\n",
    "def load_data(datafile):\n",
    "    global important_columns\n",
    "    colnames = [c.replace(\" \",\"_\") for c in pd.read_csv(datafile, nrows= 1).columns]\n",
    "    intersection = list(set(colnames).intersection(set(important_columns)))+[\"SK_ID_CURR\"]\n",
    "\n",
    "    df =  pd.read_csv(datafile, names = colnames, usecols = intersection, skiprows=1).dropna(axis=1, how=\"all\")\n",
    "    timer(\"Loaded {} with shape {} in \".format(datafile.split(\"/\")[-1], df.shape))\n",
    "    return df"
   ]
  },
  {
   "cell_type": "markdown",
   "metadata": {},
   "source": [
    "## Getting Feature Importance File"
   ]
  },
  {
   "cell_type": "code",
   "execution_count": 5,
   "metadata": {
    "collapsed": true
   },
   "outputs": [],
   "source": [
    "important_columns = pd.read_csv(\"../feature selector/importance/shap_importances.csv\")\n",
    "important_columns[\"feature\"] = important_columns[\"feature\"].apply(lambda x: x.replace(\" \",\"_\"))\n",
    "important_columns = important_columns.loc[important_columns.shapely_mean > 0.0].reset_index(drop=True)\n",
    "important_columns = important_columns.sort_values(by = \"shapely_mean\", ascending = False).reset_index(drop=True)\n",
    "important_columns = important_columns.loc[0:50].feature.values.tolist()"
   ]
  },
  {
   "cell_type": "markdown",
   "metadata": {},
   "source": [
    "## Loading Features"
   ]
  },
  {
   "cell_type": "code",
   "execution_count": 6,
   "metadata": {},
   "outputs": [
    {
     "name": "stdout",
     "output_type": "stream",
     "text": [
      "Loaded application_features_V2.csv with shape (356255, 37) in  : 5.84861302376 seconds\n",
      "Loaded bureau_features_V1.csv with shape (305811, 8) in  : 5.84922790527 seconds\n",
      "Loaded credit_card_features_V1.csv with shape (103558, 2) in  : 9.99523997307 seconds\n",
      "Loaded installment_features_V1.csv with shape (339587, 5) in  : 24.5539989471 seconds\n",
      "Loaded pos_cash_features_V1.csv with shape (337252, 1) in  : 17.225618124 seconds\n",
      "Loaded previous_application_features_V1.csv with shape (338857, 4) in  : 15.4891149998 seconds\n",
      "Loaded credit_card_features_V3.csv with shape (103558, 1) in  : 16.6666920185 seconds\n",
      "Loaded installment_features_V3.csv with shape (339587, 1) in  : 21.4547388554 seconds\n",
      "Loaded pos_cash_features_V3.csv with shape (337252, 1) in  : 6.22142004967 seconds\n",
      "Loaded previous_application_features_V3.csv with shape (338857, 1) in  : 7.88281106949 seconds\n"
     ]
    }
   ],
   "source": [
    "applications = load_data(\"../extractor/csv/application_features_V2.csv\")\n",
    "bureau_balance_bb = load_data(\"../extractor/csv/bureau_features_V1.csv\")\n",
    "credit_card_balance = load_data(\"../extractor/csv/credit_card_features_V1.csv\")\n",
    "installment_features = load_data(\"../extractor/csv/installment_features_V1.csv\")\n",
    "pos_cash_balance = load_data(\"../extractor/csv/pos_cash_features_V1.csv\")\n",
    "previous_apps = load_data(\"../extractor/csv/previous_application_features_V1.csv\")\n",
    "\n",
    "credit_card_balance_v3 = load_data(\"../extractor/csv/credit_card_features_V3.csv\")\n",
    "installment_features_v3 = load_data(\"../extractor/csv/installment_features_V3.csv\")\n",
    "pos_cash_balance_v3 = load_data(\"../extractor/csv/pos_cash_features_V3.csv\")\n",
    "previous_apps_v3 = load_data(\"../extractor/csv/previous_application_features_V3.csv\")\n",
    "\n",
    "base_features = [applications, bureau_balance_bb, credit_card_balance, installment_features, pos_cash_balance,previous_apps, credit_card_balance_v3,installment_features_v3,pos_cash_balance_v3, previous_apps_v3]"
   ]
  },
  {
   "cell_type": "code",
   "execution_count": 7,
   "metadata": {
    "collapsed": true
   },
   "outputs": [],
   "source": [
    "tree_meta_features = [\n",
    "    load_meta(\"../base trees/csv/\", \"application\", \"trees\"),\n",
    "    load_meta(\"../base trees/csv/\", \"bureau_balance_bb\", \"trees\"),\n",
    "    load_meta(\"../base trees/csv/\", \"credit_card_balance\", \"trees\"),\n",
    "    load_meta(\"../base trees/csv/\", \"installment\", \"trees\"),\n",
    "    load_meta(\"../base trees/csv/\", \"pos_cash_balance\", \"trees\"),\n",
    "    load_meta(\"../base trees/csv/\", \"previous_apps\", \"trees\"),\n",
    "]\n",
    "\n",
    "lr_meta_features = [\n",
    "    load_meta(\"../base lr/csv/\", \"application\", \"lr\"),\n",
    "    load_meta(\"../base lr/csv/\", \"bureau_balance_bb\", \"lr\"),\n",
    "    load_meta(\"../base lr/csv/\", \"credit_card_balance\", \"lr\"),\n",
    "    load_meta(\"../base lr/csv/\", \"installment\", \"lr\"),\n",
    "    load_meta(\"../base lr/csv/\", \"pos_cash_balance\", \"lr\"),\n",
    "    load_meta(\"../base lr/csv/\", \"previous_apps\", \"lr\"),\n",
    "]\n",
    "\n",
    "nb_meta_features = [\n",
    "    load_meta(\"../base nb/csv/\", \"application\", \"nb\"),\n",
    "    load_meta(\"../base nb/csv/\", \"bureau_balance_bb\", \"nb\"),\n",
    "    load_meta(\"../base nb/csv/\", \"credit_card_balance\", \"nb\"),\n",
    "    load_meta(\"../base nb/csv/\", \"installment\", \"nb\"),\n",
    "    load_meta(\"../base nb/csv/\", \"pos_cash_balance\", \"nb\"),\n",
    "    load_meta(\"../base nb/csv/\", \"previous_apps\", \"nb\"),\n",
    "]\n",
    "\n",
    "neptune_features = [\n",
    "    load_neptune(\"../base neptune/m1/csv/\", \"m1\"),\n",
    "    load_neptune(\"../base neptune/m2/csv/\", \"m2\"),\n",
    "    load_neptune(\"../base neptune/m3/csv/\", \"m3\"),\n",
    "    load_neptune(\"../base neptune/m4/csv/\", \"m4\"),\n",
    "]\n",
    "\n",
    "mixture_models = [\n",
    "    load_meta(\"../base mixtures/csv/\", \"knn_on_selected_pca\", \"mixtures\"),\n",
    "    load_meta(\"../base mixtures/csv/\", \"lgbm_on_core_features\", \"mixtures\"),\n",
    "    load_meta(\"../base mixtures/csv/\", \"lgbm_on_gp_features\", \"mixtures\"),\n",
    "    load_meta(\"../base mixtures/csv/\", \"lr_on_core_features\", \"mixtures\"),\n",
    "    load_meta(\"../base mixtures/csv/\", \"nn\", \"mixtures\"),\n",
    "    load_meta(\"../base mixtures/csv/\", \"using_lags_bureau_data\", \"mixtures\"),\n",
    "\n",
    "]\n",
    "\n",
    "l1_features = [\n",
    "    load_meta(\"../l1/csv/\", \"l1_gnb\", \"l1\"),\n",
    "    load_meta(\"../l1/csv/\", \"l1_lr\", \"l1\"),\n",
    "    load_meta(\"../l1/csv/\", \"l1_tree_with_flags\", \"l1\"),\n",
    "    load_meta(\"../l1/csv/\", \"l1_tree_without_flags\", \"l1\"),\n",
    "    load_meta(\"../l1/csv/\", \"tree_with_flags_without_meta\", \"l1\"),\n",
    "    load_meta(\"../l1/csv/\", \"tree_without_flags_without_meta\", \"l1\"),\n",
    "    load_meta(\"../l1/csv/\", \"tree_on_core_features_with_meta\", \"l1\"),\n",
    "]\n",
    "\n",
    "l2_features = [\n",
    "    load_meta(\"../l2/csv/\", \"tree_on_l1_and_basemixtures_neptune_1\", \"l2\"),\n",
    "    load_meta(\"../l2/csv/\", \"tree_on_l1_and_basemixtures_neptune_2\", \"l2\"),\n",
    "]\n",
    "\n",
    "final_models = [\n",
    "    load_meta(\"../final_models/csv/\", \"my500_neptuneselected_meta\", \"final_models\"),\n",
    "    load_meta(\"../final_models/csv/\", \"my500_neptuneselected_nometa\", \"final_models\"),\n",
    "]"
   ]
  },
  {
   "cell_type": "markdown",
   "metadata": {},
   "source": [
    "## Joining All Files"
   ]
  },
  {
   "cell_type": "code",
   "execution_count": 8,
   "metadata": {
    "collapsed": true
   },
   "outputs": [],
   "source": [
    "train = pd.read_csv(\"../data/application_train.csv\", usecols = [\"SK_ID_CURR\",\"TARGET\"])\n",
    "test = pd.read_csv(\"../data/application_test.csv\", usecols = [\"SK_ID_CURR\"])\n",
    "\n",
    "data = pd.concat([train, test], axis=0).reset_index(drop=True)\n",
    "data = join_features(data, base_features)\n",
    "data = join_features(data, tree_meta_features)\n",
    "data = join_features(data, lr_meta_features)\n",
    "data = join_features(data, nb_meta_features)\n",
    "data = join_features(data, neptune_features)\n",
    "data = join_features(data, mixture_models)\n",
    "data = join_features(data, l1_features)\n",
    "data = join_features(data, l2_features)\n",
    "data = join_features(data, final_models)\n",
    "\n",
    "del base_features,applications, bureau_balance_bb, credit_card_balance, installment_features, pos_cash_balance,previous_apps, credit_card_balance_v3,installment_features_v3,pos_cash_balance_v3, previous_apps_v3\n",
    "gc.collect()\n",
    "\n",
    "train = data.loc[data.TARGET.notnull()].reset_index(drop=True)\n",
    "test = data.loc[data.TARGET.isnull()].reset_index(drop=True)\n",
    "\n",
    "train_id = train[[\"SK_ID_CURR\"]]\n",
    "test_id = test[[\"SK_ID_CURR\"]]\n",
    "test_id_rank = test[[\"SK_ID_CURR\"]]\n",
    "target =train.TARGET\n",
    "\n",
    "train.drop([\"SK_ID_CURR\", \"TARGET\"], axis=1, inplace=True)\n",
    "test.drop([\"SK_ID_CURR\",\"TARGET\"], axis=1, inplace = True)"
   ]
  },
  {
   "cell_type": "markdown",
   "metadata": {},
   "source": [
    "# Defining Model"
   ]
  },
  {
   "cell_type": "code",
   "execution_count": 9,
   "metadata": {
    "collapsed": true
   },
   "outputs": [],
   "source": [
    "from catboost import CatBoostClassifier\n",
    "def model_tree(x_train, x_test, y_train, y_test, test, meta_train, meta_test,train_index, test_index,fold_id):\n",
    "    model = CatBoostClassifier(thread_count = 16,iterations=1000,learning_rate=0.05,depth=5,l2_leaf_reg=40,bootstrap_type='Bernoulli',subsample=0.7,scale_pos_weight=5,eval_metric='AUC',metric_period=50,od_type='Iter',od_wait=45, random_seed=17, allow_writing_files=False)\n",
    "    model.fit(x_train, y_train, eval_set=(x_test, y_test),use_best_model=True,verbose=True)\n",
    "    \n",
    "    meta_train[test_index] = model.predict_proba(x_test)[:,1]\n",
    "    meta_test.append(model.predict_proba(test)[:,1])\n",
    "        \n",
    "    global fold_roc\n",
    "    fold_roc.append(roc_auc_score(y_test, meta_train[test_index]))\n",
    " "
   ]
  },
  {
   "cell_type": "markdown",
   "metadata": {},
   "source": [
    "# Training Model"
   ]
  },
  {
   "cell_type": "code",
   "execution_count": 10,
   "metadata": {
    "scrolled": true
   },
   "outputs": [
    {
     "name": "stdout",
     "output_type": "stream",
     "text": [
      "Warning: Parameter 'use_best_model' is true, thus evaluation metric iscalculated on every iteration. 'metric_period' is ignored for evaluation metric.\n",
      "0:\ttest: 0.7828927\tbest: 0.7828927 (0)\ttotal: 128ms\tremaining: 2m 7s\n",
      "50:\ttest: 0.7987985\tbest: 0.7987985 (50)\ttotal: 4.11s\tremaining: 1m 16s\n",
      "100:\ttest: 0.7994718\tbest: 0.7994718 (100)\ttotal: 8.12s\tremaining: 1m 12s\n",
      "150:\ttest: 0.8004864\tbest: 0.8004864 (150)\ttotal: 12s\tremaining: 1m 7s\n",
      "200:\ttest: 0.8010267\tbest: 0.8010267 (200)\ttotal: 16s\tremaining: 1m 3s\n",
      "250:\ttest: 0.8014487\tbest: 0.8014487 (250)\ttotal: 20s\tremaining: 59.7s\n",
      "300:\ttest: 0.8017259\tbest: 0.8017259 (300)\ttotal: 23.9s\tremaining: 55.5s\n",
      "350:\ttest: 0.8018995\tbest: 0.8018995 (350)\ttotal: 27.8s\tremaining: 51.5s\n",
      "400:\ttest: 0.8023680\tbest: 0.8023680 (400)\ttotal: 31.8s\tremaining: 47.5s\n",
      "450:\ttest: 0.8024545\tbest: 0.8024545 (450)\ttotal: 35.7s\tremaining: 43.4s\n",
      "500:\ttest: 0.8025343\tbest: 0.8025343 (500)\ttotal: 39.6s\tremaining: 39.4s\n",
      "550:\ttest: 0.8026407\tbest: 0.8026407 (550)\ttotal: 43.5s\tremaining: 35.4s\n",
      "600:\ttest: 0.8025747\tbest: 0.8026407 (550)\ttotal: 47.4s\tremaining: 31.5s\n",
      "Stopped by overfitting detector  (45 iterations wait)\n",
      "\n",
      "bestTest = 0.8026407367\n",
      "bestIteration = 550\n",
      "\n",
      "Shrink model to first 551 iterations.\n",
      "Warning: Parameter 'use_best_model' is true, thus evaluation metric iscalculated on every iteration. 'metric_period' is ignored for evaluation metric.\n",
      "0:\ttest: 0.7816083\tbest: 0.7816083 (0)\ttotal: 81.9ms\tremaining: 1m 21s\n",
      "50:\ttest: 0.7946514\tbest: 0.7946514 (50)\ttotal: 4.03s\tremaining: 1m 14s\n",
      "100:\ttest: 0.7952992\tbest: 0.7952992 (100)\ttotal: 7.94s\tremaining: 1m 10s\n",
      "150:\ttest: 0.7962908\tbest: 0.7962908 (150)\ttotal: 11.9s\tremaining: 1m 6s\n",
      "200:\ttest: 0.7972694\tbest: 0.7972694 (200)\ttotal: 15.9s\tremaining: 1m 3s\n",
      "250:\ttest: 0.7976806\tbest: 0.7976806 (250)\ttotal: 19.9s\tremaining: 59.4s\n",
      "300:\ttest: 0.7979794\tbest: 0.7979794 (300)\ttotal: 23.9s\tremaining: 55.4s\n",
      "350:\ttest: 0.7982126\tbest: 0.7982126 (350)\ttotal: 27.9s\tremaining: 51.6s\n",
      "400:\ttest: 0.7984848\tbest: 0.7984848 (400)\ttotal: 31.8s\tremaining: 47.5s\n",
      "450:\ttest: 0.7985817\tbest: 0.7985817 (450)\ttotal: 36s\tremaining: 43.8s\n",
      "500:\ttest: 0.7987134\tbest: 0.7987134 (500)\ttotal: 39.8s\tremaining: 39.7s\n",
      "550:\ttest: 0.7987723\tbest: 0.7987723 (550)\ttotal: 43.7s\tremaining: 35.6s\n",
      "600:\ttest: 0.7989836\tbest: 0.7989836 (600)\ttotal: 47.6s\tremaining: 31.6s\n",
      "650:\ttest: 0.7991816\tbest: 0.7991816 (650)\ttotal: 51.5s\tremaining: 27.6s\n",
      "700:\ttest: 0.7992487\tbest: 0.7992487 (700)\ttotal: 55.3s\tremaining: 23.6s\n",
      "750:\ttest: 0.7993216\tbest: 0.7993216 (750)\ttotal: 59.2s\tremaining: 19.6s\n",
      "800:\ttest: 0.7993702\tbest: 0.7993702 (800)\ttotal: 1m 3s\tremaining: 15.8s\n",
      "Stopped by overfitting detector  (45 iterations wait)\n",
      "\n",
      "bestTest = 0.7993702039\n",
      "bestIteration = 800\n",
      "\n",
      "Shrink model to first 801 iterations.\n",
      "Warning: Parameter 'use_best_model' is true, thus evaluation metric iscalculated on every iteration. 'metric_period' is ignored for evaluation metric.\n",
      "0:\ttest: 0.7876042\tbest: 0.7876042 (0)\ttotal: 80ms\tremaining: 1m 19s\n",
      "50:\ttest: 0.8074536\tbest: 0.8074536 (50)\ttotal: 4.05s\tremaining: 1m 15s\n",
      "100:\ttest: 0.8081447\tbest: 0.8081447 (100)\ttotal: 7.97s\tremaining: 1m 10s\n",
      "150:\ttest: 0.8089418\tbest: 0.8089418 (150)\ttotal: 12.5s\tremaining: 1m 10s\n",
      "200:\ttest: 0.8096323\tbest: 0.8096323 (200)\ttotal: 17.3s\tremaining: 1m 8s\n",
      "250:\ttest: 0.8103796\tbest: 0.8103796 (250)\ttotal: 21.8s\tremaining: 1m 5s\n",
      "300:\ttest: 0.8104748\tbest: 0.8104748 (300)\ttotal: 25.9s\tremaining: 1m\n",
      "Stopped by overfitting detector  (45 iterations wait)\n",
      "\n",
      "bestTest = 0.8104748\n",
      "bestIteration = 300\n",
      "\n",
      "Shrink model to first 301 iterations.\n",
      "Warning: Parameter 'use_best_model' is true, thus evaluation metric iscalculated on every iteration. 'metric_period' is ignored for evaluation metric.\n",
      "0:\ttest: 0.7754567\tbest: 0.7754567 (0)\ttotal: 85.9ms\tremaining: 1m 25s\n",
      "50:\ttest: 0.7922062\tbest: 0.7922062 (50)\ttotal: 3.94s\tremaining: 1m 13s\n",
      "100:\ttest: 0.7924323\tbest: 0.7924323 (100)\ttotal: 7.83s\tremaining: 1m 9s\n",
      "150:\ttest: 0.7930291\tbest: 0.7930291 (150)\ttotal: 11.7s\tremaining: 1m 5s\n",
      "200:\ttest: 0.7931697\tbest: 0.7931697 (200)\ttotal: 15.8s\tremaining: 1m 2s\n",
      "Stopped by overfitting detector  (45 iterations wait)\n",
      "\n",
      "bestTest = 0.7931697473\n",
      "bestIteration = 200\n",
      "\n",
      "Shrink model to first 201 iterations.\n",
      "Warning: Parameter 'use_best_model' is true, thus evaluation metric iscalculated on every iteration. 'metric_period' is ignored for evaluation metric.\n",
      "0:\ttest: 0.7896030\tbest: 0.7896030 (0)\ttotal: 76.8ms\tremaining: 1m 16s\n",
      "50:\ttest: 0.8064898\tbest: 0.8064898 (50)\ttotal: 3.88s\tremaining: 1m 12s\n",
      "100:\ttest: 0.8070199\tbest: 0.8070199 (100)\ttotal: 8.13s\tremaining: 1m 12s\n",
      "150:\ttest: 0.8079902\tbest: 0.8079902 (150)\ttotal: 12.3s\tremaining: 1m 9s\n",
      "200:\ttest: 0.8088159\tbest: 0.8088159 (200)\ttotal: 16.2s\tremaining: 1m 4s\n",
      "250:\ttest: 0.8090145\tbest: 0.8090145 (250)\ttotal: 20.1s\tremaining: 1m\n",
      "300:\ttest: 0.8094704\tbest: 0.8094704 (300)\ttotal: 24.1s\tremaining: 55.9s\n",
      "350:\ttest: 0.8093994\tbest: 0.8094704 (300)\ttotal: 28s\tremaining: 51.7s\n",
      "Stopped by overfitting detector  (45 iterations wait)\n",
      "\n",
      "bestTest = 0.8094703825\n",
      "bestIteration = 300\n",
      "\n",
      "Shrink model to first 301 iterations.\n",
      "Warning: Parameter 'use_best_model' is true, thus evaluation metric iscalculated on every iteration. 'metric_period' is ignored for evaluation metric.\n",
      "0:\ttest: 0.7815741\tbest: 0.7815741 (0)\ttotal: 95.7ms\tremaining: 1m 35s\n",
      "50:\ttest: 0.7984987\tbest: 0.7984987 (50)\ttotal: 4.45s\tremaining: 1m 22s\n",
      "100:\ttest: 0.7987943\tbest: 0.7987943 (100)\ttotal: 8.49s\tremaining: 1m 15s\n",
      "150:\ttest: 0.7992104\tbest: 0.7992104 (150)\ttotal: 12.4s\tremaining: 1m 9s\n",
      "200:\ttest: 0.7996560\tbest: 0.7996560 (200)\ttotal: 16.5s\tremaining: 1m 5s\n",
      "250:\ttest: 0.8000770\tbest: 0.8000770 (250)\ttotal: 21.4s\tremaining: 1m 3s\n",
      "300:\ttest: 0.8005227\tbest: 0.8005227 (300)\ttotal: 26.4s\tremaining: 1m 1s\n",
      "350:\ttest: 0.8011312\tbest: 0.8011312 (350)\ttotal: 31.2s\tremaining: 57.7s\n",
      "400:\ttest: 0.8014588\tbest: 0.8014588 (400)\ttotal: 36s\tremaining: 53.7s\n",
      "Stopped by overfitting detector  (45 iterations wait)\n",
      "\n",
      "bestTest = 0.8014587694\n",
      "bestIteration = 400\n",
      "\n",
      "Shrink model to first 401 iterations.\n",
      "Warning: Parameter 'use_best_model' is true, thus evaluation metric iscalculated on every iteration. 'metric_period' is ignored for evaluation metric.\n",
      "0:\ttest: 0.7896699\tbest: 0.7896699 (0)\ttotal: 97.6ms\tremaining: 1m 37s\n",
      "50:\ttest: 0.8063315\tbest: 0.8063315 (50)\ttotal: 4.96s\tremaining: 1m 32s\n",
      "100:\ttest: 0.8062091\tbest: 0.8063315 (50)\ttotal: 9.83s\tremaining: 1m 27s\n",
      "Stopped by overfitting detector  (45 iterations wait)\n",
      "\n",
      "bestTest = 0.8063314674\n",
      "bestIteration = 50\n",
      "\n",
      "Shrink model to first 51 iterations.\n",
      "Warning: Parameter 'use_best_model' is true, thus evaluation metric iscalculated on every iteration. 'metric_period' is ignored for evaluation metric.\n",
      "0:\ttest: 0.7882822\tbest: 0.7882822 (0)\ttotal: 80.1ms\tremaining: 1m 20s\n",
      "50:\ttest: 0.8026401\tbest: 0.8026401 (50)\ttotal: 3.95s\tremaining: 1m 13s\n",
      "100:\ttest: 0.8040012\tbest: 0.8040012 (100)\ttotal: 7.85s\tremaining: 1m 9s\n",
      "150:\ttest: 0.8048179\tbest: 0.8048179 (150)\ttotal: 11.8s\tremaining: 1m 6s\n",
      "200:\ttest: 0.8057635\tbest: 0.8057635 (200)\ttotal: 15.8s\tremaining: 1m 2s\n",
      "250:\ttest: 0.8061387\tbest: 0.8061387 (250)\ttotal: 19.7s\tremaining: 58.9s\n",
      "300:\ttest: 0.8066882\tbest: 0.8066882 (300)\ttotal: 24s\tremaining: 55.7s\n",
      "350:\ttest: 0.8067780\tbest: 0.8067780 (350)\ttotal: 28.4s\tremaining: 52.4s\n",
      "400:\ttest: 0.8070858\tbest: 0.8070858 (400)\ttotal: 32.7s\tremaining: 48.9s\n",
      "450:\ttest: 0.8071230\tbest: 0.8071230 (450)\ttotal: 36.9s\tremaining: 44.9s\n",
      "500:\ttest: 0.8072454\tbest: 0.8072454 (500)\ttotal: 40.9s\tremaining: 40.7s\n",
      "Stopped by overfitting detector  (45 iterations wait)\n",
      "\n",
      "bestTest = 0.8072454202\n",
      "bestIteration = 500\n",
      "\n",
      "Shrink model to first 501 iterations.\n",
      "Warning: Parameter 'use_best_model' is true, thus evaluation metric iscalculated on every iteration. 'metric_period' is ignored for evaluation metric.\n",
      "0:\ttest: 0.7832642\tbest: 0.7832642 (0)\ttotal: 73.1ms\tremaining: 1m 13s\n",
      "50:\ttest: 0.7994570\tbest: 0.7994570 (50)\ttotal: 3.88s\tremaining: 1m 12s\n",
      "100:\ttest: 0.8004186\tbest: 0.8004186 (100)\ttotal: 7.67s\tremaining: 1m 8s\n",
      "150:\ttest: 0.8016713\tbest: 0.8016713 (150)\ttotal: 11.5s\tremaining: 1m 4s\n",
      "200:\ttest: 0.8024776\tbest: 0.8024776 (200)\ttotal: 15.2s\tremaining: 1m\n",
      "250:\ttest: 0.8027894\tbest: 0.8027894 (250)\ttotal: 19s\tremaining: 56.8s\n",
      "300:\ttest: 0.8032305\tbest: 0.8032305 (300)\ttotal: 22.9s\tremaining: 53.1s\n"
     ]
    },
    {
     "name": "stdout",
     "output_type": "stream",
     "text": [
      "350:\ttest: 0.8034002\tbest: 0.8034002 (350)\ttotal: 26.7s\tremaining: 49.3s\n",
      "400:\ttest: 0.8035008\tbest: 0.8035008 (400)\ttotal: 30.5s\tremaining: 45.6s\n",
      "450:\ttest: 0.8037340\tbest: 0.8037340 (450)\ttotal: 34.4s\tremaining: 41.9s\n",
      "500:\ttest: 0.8038416\tbest: 0.8038416 (500)\ttotal: 38.4s\tremaining: 38.3s\n",
      "550:\ttest: 0.8040952\tbest: 0.8040952 (550)\ttotal: 42.5s\tremaining: 34.6s\n",
      "600:\ttest: 0.8041918\tbest: 0.8041918 (600)\ttotal: 46.3s\tremaining: 30.8s\n",
      "650:\ttest: 0.8041651\tbest: 0.8041918 (600)\ttotal: 50.1s\tremaining: 26.9s\n",
      "Stopped by overfitting detector  (45 iterations wait)\n",
      "\n",
      "bestTest = 0.8041917798\n",
      "bestIteration = 600\n",
      "\n",
      "Shrink model to first 601 iterations.\n",
      "Warning: Parameter 'use_best_model' is true, thus evaluation metric iscalculated on every iteration. 'metric_period' is ignored for evaluation metric.\n",
      "0:\ttest: 0.7855620\tbest: 0.7855620 (0)\ttotal: 80.5ms\tremaining: 1m 20s\n",
      "50:\ttest: 0.8004950\tbest: 0.8004950 (50)\ttotal: 3.89s\tremaining: 1m 12s\n",
      "100:\ttest: 0.8013033\tbest: 0.8013033 (100)\ttotal: 7.86s\tremaining: 1m 9s\n",
      "150:\ttest: 0.8018592\tbest: 0.8018592 (150)\ttotal: 11.8s\tremaining: 1m 6s\n",
      "200:\ttest: 0.8029161\tbest: 0.8029161 (200)\ttotal: 15.6s\tremaining: 1m 2s\n",
      "250:\ttest: 0.8042400\tbest: 0.8042400 (250)\ttotal: 19.4s\tremaining: 58s\n",
      "300:\ttest: 0.8046595\tbest: 0.8046595 (300)\ttotal: 23.2s\tremaining: 54s\n",
      "Stopped by overfitting detector  (45 iterations wait)\n",
      "\n",
      "bestTest = 0.8046595171\n",
      "bestIteration = 300\n",
      "\n",
      "Shrink model to first 301 iterations.\n"
     ]
    },
    {
     "name": "stderr",
     "output_type": "stream",
     "text": [
      "/home/sakhtar0092/anaconda2/lib/python2.7/site-packages/ipykernel_launcher.py:13: SettingWithCopyWarning: \n",
      "A value is trying to be set on a copy of a slice from a DataFrame.\n",
      "Try using .loc[row_indexer,col_indexer] = value instead\n",
      "\n",
      "See the caveats in the documentation: http://pandas.pydata.org/pandas-docs/stable/indexing.html#indexing-view-versus-copy\n",
      "  del sys.path[0]\n",
      "/home/sakhtar0092/anaconda2/lib/python2.7/site-packages/ipykernel_launcher.py:14: SettingWithCopyWarning: \n",
      "A value is trying to be set on a copy of a slice from a DataFrame.\n",
      "Try using .loc[row_indexer,col_indexer] = value instead\n",
      "\n",
      "See the caveats in the documentation: http://pandas.pydata.org/pandas-docs/stable/indexing.html#indexing-view-versus-copy\n",
      "  \n",
      "/home/sakhtar0092/anaconda2/lib/python2.7/site-packages/ipykernel_launcher.py:15: SettingWithCopyWarning: \n",
      "A value is trying to be set on a copy of a slice from a DataFrame.\n",
      "Try using .loc[row_indexer,col_indexer] = value instead\n",
      "\n",
      "See the caveats in the documentation: http://pandas.pydata.org/pandas-docs/stable/indexing.html#indexing-view-versus-copy\n",
      "  from ipykernel import kernelapp as app\n"
     ]
    },
    {
     "name": "stdout",
     "output_type": "stream",
     "text": [
      "Overall ROC: 0.803648634475,  Mean ROC: 0.803901282447, STD AUC: 0.0048500076175\n"
     ]
    }
   ],
   "source": [
    "meta_train = np.zeros(train.shape[0])\n",
    "meta_test = []\n",
    "feature_importance = pd.DataFrame(columns = [\"feature\",\"split\",\"gain\"])\n",
    "fold_roc = []\n",
    "\n",
    "kf = StratifiedKFold(n_splits= 10, shuffle=True, random_state=12323)\n",
    "for fold_id, (train_index, test_index) in enumerate(kf.split(train, target)):\n",
    "    x_train, x_test = train.iloc[train_index], train.iloc[test_index]\n",
    "    y_train, y_test = target[train_index], target[test_index]\n",
    "\n",
    "    model_tree(x_train, x_test, y_train, y_test, test, meta_train, meta_test,train_index, test_index,fold_id)\n",
    "\n",
    "test_id[\"TARGET\"] = np.array(meta_test).T.mean(axis=1)\n",
    "test_id_rank[\"TARGET\"] = pd.DataFrame(np.array(meta_test).T).rank(pct = True).mean(axis=1)\n",
    "train_id[\"TARGET\"] = meta_train\n",
    "\n",
    "print \"Overall ROC: {},  Mean ROC: {}, STD AUC: {}\".format(roc_auc_score(target, meta_train), np.mean(fold_roc), np.std(fold_roc))"
   ]
  },
  {
   "cell_type": "code",
   "execution_count": 13,
   "metadata": {
    "collapsed": true
   },
   "outputs": [],
   "source": [
    "train_id.to_csv(\"csv/{}_train.csv\".format(model_name), index=False)\n",
    "test_id.to_csv(\"csv/{}_test.csv\".format(model_name), index=False)\n",
    "test_id_rank.to_csv(\"csv/{}_rank_test.csv\".format(model_name), index=False)"
   ]
  },
  {
   "cell_type": "code",
   "execution_count": 14,
   "metadata": {},
   "outputs": [
    {
     "data": {
      "text/plain": [
       "[0.8026407367331574,\n",
       " 0.7993702039267281,\n",
       " 0.8104748000436005,\n",
       " 0.7931697472844706,\n",
       " 0.8094703825412857,\n",
       " 0.8014587694387312,\n",
       " 0.8063314674201015,\n",
       " 0.8072454201736871,\n",
       " 0.8041917797957092,\n",
       " 0.8046595171095764]"
      ]
     },
     "execution_count": 14,
     "metadata": {},
     "output_type": "execute_result"
    }
   ],
   "source": [
    "fold_roc"
   ]
  },
  {
   "cell_type": "code",
   "execution_count": null,
   "metadata": {
    "collapsed": true
   },
   "outputs": [],
   "source": []
  },
  {
   "cell_type": "code",
   "execution_count": null,
   "metadata": {
    "collapsed": true
   },
   "outputs": [],
   "source": []
  },
  {
   "cell_type": "code",
   "execution_count": null,
   "metadata": {
    "collapsed": true
   },
   "outputs": [],
   "source": []
  },
  {
   "cell_type": "code",
   "execution_count": null,
   "metadata": {
    "collapsed": true
   },
   "outputs": [],
   "source": []
  },
  {
   "cell_type": "code",
   "execution_count": null,
   "metadata": {
    "collapsed": true
   },
   "outputs": [],
   "source": []
  },
  {
   "cell_type": "code",
   "execution_count": null,
   "metadata": {
    "collapsed": true
   },
   "outputs": [],
   "source": [
    "-"
   ]
  }
 ],
 "metadata": {
  "kernelspec": {
   "display_name": "Python 2",
   "language": "python",
   "name": "python2"
  },
  "language_info": {
   "codemirror_mode": {
    "name": "ipython",
    "version": 2
   },
   "file_extension": ".py",
   "mimetype": "text/x-python",
   "name": "python",
   "nbconvert_exporter": "python",
   "pygments_lexer": "ipython2",
   "version": "2.7.14"
  }
 },
 "nbformat": 4,
 "nbformat_minor": 2
}
