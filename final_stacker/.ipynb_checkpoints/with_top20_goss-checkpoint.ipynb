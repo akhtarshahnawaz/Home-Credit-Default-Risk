{
 "cells": [
  {
   "cell_type": "code",
   "execution_count": 1,
   "metadata": {
    "collapsed": true
   },
   "outputs": [],
   "source": [
    "model_name = \"with_top20_goss\""
   ]
  },
  {
   "cell_type": "code",
   "execution_count": 2,
   "metadata": {
    "collapsed": true
   },
   "outputs": [],
   "source": [
    "import numpy as np\n",
    "import pandas as pd\n",
    "import gc\n",
    "from time import time\n",
    "from contextlib import contextmanager\n",
    "from lightgbm import LGBMClassifier\n",
    "from sklearn.metrics import roc_auc_score, roc_curve\n",
    "from sklearn.model_selection import KFold, StratifiedKFold\n",
    "import matplotlib.pyplot as plt\n",
    "import seaborn as sns\n",
    "import warnings\n",
    "from sklearn.preprocessing import LabelEncoder,OneHotEncoder"
   ]
  },
  {
   "cell_type": "code",
   "execution_count": 3,
   "metadata": {},
   "outputs": [
    {
     "name": "stdout",
     "output_type": "stream",
     "text": [
      "Init... : 0.000196933746338 seconds\n"
     ]
    }
   ],
   "source": [
    "timesheet = [time()]\n",
    "def timer(statement):\n",
    "    global timesheet\n",
    "    timesheet.append(time())\n",
    "    print statement+\" :\", (timesheet[-1]-timesheet[-2]),\"seconds\"\n",
    "timer(\"Init...\")"
   ]
  },
  {
   "cell_type": "code",
   "execution_count": 4,
   "metadata": {
    "collapsed": true
   },
   "outputs": [],
   "source": [
    "def load_meta(directory, prefix, modeltype):\n",
    "    m_tr = pd.read_csv(directory+prefix+\"_train.csv\")\n",
    "    m_te = pd.read_csv(directory+prefix+\"_test.csv\")\n",
    "    data = pd.concat([m_tr, m_te], axis=0).reset_index(drop=True)\n",
    "    data.columns = [\"{}_{}_{}\".format(c, prefix, modeltype) if c!=\"SK_ID_CURR\" else c for c in data.columns]\n",
    "    return data\n",
    "\n",
    "def load_neptune(directory, modelname):\n",
    "    m_tr = pd.read_csv(directory+\"lightGBM_out_of_fold_train_predictions.csv\", usecols = [\"SK_ID_CURR\",\"lightGBM_prediction\"])\n",
    "    m_te = pd.read_csv(directory+\"lightGBM_out_of_fold_test_predictions.csv\", usecols = [\"SK_ID_CURR\",\"lightGBM_prediction\"])\n",
    "    m_te = m_te.groupby(\"SK_ID_CURR\")[\"lightGBM_prediction\"].mean().reset_index()\n",
    "    \n",
    "    data = pd.concat([m_tr, m_te], axis=0).reset_index(drop=True)\n",
    "    data.columns = [\"SK_ID_CURR\", \"neptune_{}\".format(modelname)]\n",
    "    return data\n",
    "\n",
    "def join_features(data, features):\n",
    "    for item in features:\n",
    "        data = data.merge(item, how = \"left\", on = \"SK_ID_CURR\")\n",
    "    return data\n",
    "\n",
    "def load_data(datafile):\n",
    "    global important_columns\n",
    "    colnames = [c.replace(\" \",\"_\") for c in pd.read_csv(datafile, nrows= 1).columns]\n",
    "    intersection = list(set(colnames).intersection(set(important_columns)))+[\"SK_ID_CURR\"]\n",
    "\n",
    "    df =  pd.read_csv(datafile, names = colnames, usecols = intersection, skiprows=1).dropna(axis=1, how=\"all\")\n",
    "    timer(\"Loaded {} with shape {} in \".format(datafile.split(\"/\")[-1], df.shape))\n",
    "    return df"
   ]
  },
  {
   "cell_type": "markdown",
   "metadata": {},
   "source": [
    "## Getting Feature Importance File"
   ]
  },
  {
   "cell_type": "code",
   "execution_count": 5,
   "metadata": {
    "collapsed": true
   },
   "outputs": [],
   "source": [
    "important_columns = pd.read_csv(\"../feature selector/importance/shap_importances.csv\")\n",
    "important_columns[\"feature\"] = important_columns[\"feature\"].apply(lambda x: x.replace(\" \",\"_\"))\n",
    "important_columns = important_columns.loc[important_columns.shapely_mean > 0.0].reset_index(drop=True)\n",
    "important_columns = important_columns.sort_values(by = \"shapely_mean\", ascending = False).reset_index(drop=True)\n",
    "important_columns = important_columns.loc[0:20].feature.values.tolist()"
   ]
  },
  {
   "cell_type": "markdown",
   "metadata": {},
   "source": [
    "## Loading Features"
   ]
  },
  {
   "cell_type": "code",
   "execution_count": 6,
   "metadata": {},
   "outputs": [
    {
     "name": "stdout",
     "output_type": "stream",
     "text": [
      "Loaded application_features_V2.csv with shape (356255, 19) in  : 4.76488018036 seconds\n",
      "Loaded bureau_features_V1.csv with shape (305811, 4) in  : 5.58726596832 seconds\n",
      "Loaded credit_card_features_V1.csv with shape (103558, 1) in  : 9.97783899307 seconds\n",
      "Loaded installment_features_V1.csv with shape (339587, 1) in  : 24.1880550385 seconds\n",
      "Loaded pos_cash_features_V1.csv with shape (337252, 1) in  : 17.2603130341 seconds\n",
      "Loaded previous_application_features_V1.csv with shape (338857, 1) in  : 15.4004118443 seconds\n",
      "Loaded credit_card_features_V3.csv with shape (103558, 1) in  : 16.7843971252 seconds\n",
      "Loaded installment_features_V3.csv with shape (339587, 1) in  : 21.6709988117 seconds\n",
      "Loaded pos_cash_features_V3.csv with shape (337252, 1) in  : 6.28423500061 seconds\n",
      "Loaded previous_application_features_V3.csv with shape (338857, 1) in  : 8.03619503975 seconds\n"
     ]
    }
   ],
   "source": [
    "applications = load_data(\"../extractor/csv/application_features_V2.csv\")\n",
    "bureau_balance_bb = load_data(\"../extractor/csv/bureau_features_V1.csv\")\n",
    "credit_card_balance = load_data(\"../extractor/csv/credit_card_features_V1.csv\")\n",
    "installment_features = load_data(\"../extractor/csv/installment_features_V1.csv\")\n",
    "pos_cash_balance = load_data(\"../extractor/csv/pos_cash_features_V1.csv\")\n",
    "previous_apps = load_data(\"../extractor/csv/previous_application_features_V1.csv\")\n",
    "\n",
    "credit_card_balance_v3 = load_data(\"../extractor/csv/credit_card_features_V3.csv\")\n",
    "installment_features_v3 = load_data(\"../extractor/csv/installment_features_V3.csv\")\n",
    "pos_cash_balance_v3 = load_data(\"../extractor/csv/pos_cash_features_V3.csv\")\n",
    "previous_apps_v3 = load_data(\"../extractor/csv/previous_application_features_V3.csv\")\n",
    "\n",
    "base_features = [applications, bureau_balance_bb, credit_card_balance, installment_features, pos_cash_balance,previous_apps, credit_card_balance_v3,installment_features_v3,pos_cash_balance_v3, previous_apps_v3]"
   ]
  },
  {
   "cell_type": "code",
   "execution_count": 7,
   "metadata": {
    "collapsed": true
   },
   "outputs": [],
   "source": [
    "tree_meta_features = [\n",
    "    load_meta(\"../base trees/csv/\", \"application\", \"trees\"),\n",
    "    load_meta(\"../base trees/csv/\", \"bureau_balance_bb\", \"trees\"),\n",
    "    load_meta(\"../base trees/csv/\", \"credit_card_balance\", \"trees\"),\n",
    "    load_meta(\"../base trees/csv/\", \"installment\", \"trees\"),\n",
    "    load_meta(\"../base trees/csv/\", \"pos_cash_balance\", \"trees\"),\n",
    "    load_meta(\"../base trees/csv/\", \"previous_apps\", \"trees\"),\n",
    "]\n",
    "\n",
    "lr_meta_features = [\n",
    "    load_meta(\"../base lr/csv/\", \"application\", \"lr\"),\n",
    "    load_meta(\"../base lr/csv/\", \"bureau_balance_bb\", \"lr\"),\n",
    "    load_meta(\"../base lr/csv/\", \"credit_card_balance\", \"lr\"),\n",
    "    load_meta(\"../base lr/csv/\", \"installment\", \"lr\"),\n",
    "    load_meta(\"../base lr/csv/\", \"pos_cash_balance\", \"lr\"),\n",
    "    load_meta(\"../base lr/csv/\", \"previous_apps\", \"lr\"),\n",
    "]\n",
    "\n",
    "nb_meta_features = [\n",
    "    load_meta(\"../base nb/csv/\", \"application\", \"nb\"),\n",
    "    load_meta(\"../base nb/csv/\", \"bureau_balance_bb\", \"nb\"),\n",
    "    load_meta(\"../base nb/csv/\", \"credit_card_balance\", \"nb\"),\n",
    "    load_meta(\"../base nb/csv/\", \"installment\", \"nb\"),\n",
    "    load_meta(\"../base nb/csv/\", \"pos_cash_balance\", \"nb\"),\n",
    "    load_meta(\"../base nb/csv/\", \"previous_apps\", \"nb\"),\n",
    "]\n",
    "\n",
    "neptune_features = [\n",
    "    load_neptune(\"../base neptune/m1/csv/\", \"m1\"),\n",
    "    load_neptune(\"../base neptune/m2/csv/\", \"m2\"),\n",
    "    load_neptune(\"../base neptune/m3/csv/\", \"m3\"),\n",
    "    load_neptune(\"../base neptune/m4/csv/\", \"m4\"),\n",
    "]\n",
    "\n",
    "mixture_models = [\n",
    "    load_meta(\"../base mixtures/csv/\", \"knn_on_selected_pca\", \"mixtures\"),\n",
    "    load_meta(\"../base mixtures/csv/\", \"lgbm_on_core_features\", \"mixtures\"),\n",
    "    load_meta(\"../base mixtures/csv/\", \"lgbm_on_gp_features\", \"mixtures\"),\n",
    "    load_meta(\"../base mixtures/csv/\", \"lr_on_core_features\", \"mixtures\"),\n",
    "    load_meta(\"../base mixtures/csv/\", \"nn\", \"mixtures\"),\n",
    "    load_meta(\"../base mixtures/csv/\", \"using_lags_bureau_data\", \"mixtures\"),\n",
    "\n",
    "]\n",
    "\n",
    "l1_features = [\n",
    "    load_meta(\"../l1/csv/\", \"l1_gnb\", \"l1\"),\n",
    "    load_meta(\"../l1/csv/\", \"l1_lr\", \"l1\"),\n",
    "    load_meta(\"../l1/csv/\", \"l1_tree_with_flags\", \"l1\"),\n",
    "    load_meta(\"../l1/csv/\", \"l1_tree_without_flags\", \"l1\"),\n",
    "    load_meta(\"../l1/csv/\", \"tree_with_flags_without_meta\", \"l1\"),\n",
    "    load_meta(\"../l1/csv/\", \"tree_without_flags_without_meta\", \"l1\"),\n",
    "    load_meta(\"../l1/csv/\", \"tree_on_core_features_with_meta\", \"l1\"),\n",
    "]\n",
    "\n",
    "l2_features = [\n",
    "    load_meta(\"../l2/csv/\", \"tree_on_l1_and_basemixtures_neptune_1\", \"l2\"),\n",
    "    load_meta(\"../l2/csv/\", \"tree_on_l1_and_basemixtures_neptune_2\", \"l2\"),\n",
    "]\n",
    "\n",
    "final_models = [\n",
    "    load_meta(\"../final_models/csv/\", \"my500_neptuneselected_meta\", \"final_models\"),\n",
    "    load_meta(\"../final_models/csv/\", \"my500_neptuneselected_nometa\", \"final_models\"),\n",
    "]"
   ]
  },
  {
   "cell_type": "markdown",
   "metadata": {},
   "source": [
    "## Joining All Files"
   ]
  },
  {
   "cell_type": "code",
   "execution_count": 8,
   "metadata": {
    "collapsed": true
   },
   "outputs": [],
   "source": [
    "train = pd.read_csv(\"../data/application_train.csv\", usecols = [\"SK_ID_CURR\",\"TARGET\"])\n",
    "test = pd.read_csv(\"../data/application_test.csv\", usecols = [\"SK_ID_CURR\"])\n",
    "\n",
    "data = pd.concat([train, test], axis=0).reset_index(drop=True)\n",
    "data = join_features(data, base_features)\n",
    "data = join_features(data, tree_meta_features)\n",
    "data = join_features(data, lr_meta_features)\n",
    "data = join_features(data, nb_meta_features)\n",
    "data = join_features(data, neptune_features)\n",
    "data = join_features(data, mixture_models)\n",
    "data = join_features(data, l1_features)\n",
    "data = join_features(data, l2_features)\n",
    "data = join_features(data, final_models)\n",
    "\n",
    "del base_features,applications, bureau_balance_bb, credit_card_balance, installment_features, pos_cash_balance,previous_apps, credit_card_balance_v3,installment_features_v3,pos_cash_balance_v3, previous_apps_v3\n",
    "gc.collect()\n",
    "\n",
    "train = data.loc[data.TARGET.notnull()].reset_index(drop=True)\n",
    "test = data.loc[data.TARGET.isnull()].reset_index(drop=True)\n",
    "\n",
    "train_id = train[[\"SK_ID_CURR\"]]\n",
    "test_id = test[[\"SK_ID_CURR\"]]\n",
    "test_id_rank = test[[\"SK_ID_CURR\"]]\n",
    "target =train.TARGET\n",
    "\n",
    "train.drop([\"SK_ID_CURR\", \"TARGET\"], axis=1, inplace=True)\n",
    "test.drop([\"SK_ID_CURR\",\"TARGET\"], axis=1, inplace = True)"
   ]
  },
  {
   "cell_type": "markdown",
   "metadata": {},
   "source": [
    "# Defining Model"
   ]
  },
  {
   "cell_type": "code",
   "execution_count": 13,
   "metadata": {
    "collapsed": true
   },
   "outputs": [],
   "source": [
    "import lightgbm as lgb\n",
    "def model_tree(x_train, x_test, y_train, y_test, test, meta_train, meta_test,train_index, test_index,fold_id):\n",
    "    dtrain = lgb.Dataset(x_train, label=y_train)\n",
    "    dval = lgb.Dataset(x_test, label=y_test)\n",
    "    params = {\n",
    "        'num_leaves': 14, #32\n",
    "        'reg_alpha': 0.04, \n",
    "        'n_jobs': -1, \n",
    "        'colsample_bytree': 0.7, \n",
    "        'silent': -1, \n",
    "        'subsample_for_bin': 200000, \n",
    "        'subsample_freq': 1, \n",
    "        'learning_rate': 0.1, # 0.02\n",
    "        'boosting_type': 'dart', \n",
    "        'nthread': 6, \n",
    "        'min_child_weight': 40, \n",
    "        'min_split_gain': 0.0222415, \n",
    "        'n_estimators': 10000, \n",
    "        'subsample': 1, \n",
    "        'reg_lambda': 10, \n",
    "        'objective': \"binary\", \n",
    "        'verbose': -1, \n",
    "        'min_child_samples': 20, \n",
    "        'max_depth': 3, #8\n",
    "        'class_weight': None,\n",
    "        \"bagging_seed\" : 3143,\n",
    "        \"seed\":1343,\n",
    "        \"metric\":\"auc\"\n",
    "    }\n",
    "    model = lgb.train(params, dtrain, num_boost_round=5000,valid_sets=[dtrain, dval], early_stopping_rounds=200, verbose_eval=100)\n",
    "    meta_train[test_index] = model.predict(x_test, num_iteration=model.best_iteration or 5000)\n",
    "    meta_test.append(model.predict(test, num_iteration=model.best_iteration or 5000))\n",
    "    \n",
    "    global fold_roc\n",
    "    fold_roc.append(roc_auc_score(y_test, meta_train[test_index]))\n",
    "    # Calculate Feature Importance\n",
    "    global feature_importance\n",
    "    gain = model.feature_importance('gain')\n",
    "    fold_feature_importance = pd.DataFrame({'feature':model.feature_name(), 'split':model.feature_importance('split'), 'gain':100 * gain / gain.sum()})\n",
    "    feature_importance = feature_importance.append(fold_feature_importance, ignore_index=True) "
   ]
  },
  {
   "cell_type": "markdown",
   "metadata": {},
   "source": [
    "# Training Model"
   ]
  },
  {
   "cell_type": "code",
   "execution_count": 14,
   "metadata": {
    "scrolled": true
   },
   "outputs": [
    {
     "name": "stdout",
     "output_type": "stream",
     "text": [
      "Training until validation scores don't improve for 200 rounds.\n",
      "[100]\ttraining's auc: 0.801747\tvalid_1's auc: 0.798062\n",
      "[200]\ttraining's auc: 0.803174\tvalid_1's auc: 0.798741\n",
      "[300]\ttraining's auc: 0.803974\tvalid_1's auc: 0.799012\n",
      "[400]\ttraining's auc: 0.805306\tvalid_1's auc: 0.799396\n",
      "[500]\ttraining's auc: 0.805874\tvalid_1's auc: 0.799524\n",
      "[600]\ttraining's auc: 0.806878\tvalid_1's auc: 0.799509\n",
      "[700]\ttraining's auc: 0.808229\tvalid_1's auc: 0.799479\n",
      "Early stopping, best iteration is:\n",
      "[554]\ttraining's auc: 0.806564\tvalid_1's auc: 0.799614\n",
      "Training until validation scores don't improve for 200 rounds.\n",
      "[100]\ttraining's auc: 0.802134\tvalid_1's auc: 0.794704\n",
      "[200]\ttraining's auc: 0.803748\tvalid_1's auc: 0.795146\n",
      "[300]\ttraining's auc: 0.804599\tvalid_1's auc: 0.795452\n",
      "[400]\ttraining's auc: 0.805923\tvalid_1's auc: 0.795559\n",
      "[500]\ttraining's auc: 0.806453\tvalid_1's auc: 0.795578\n",
      "[600]\ttraining's auc: 0.807491\tvalid_1's auc: 0.795767\n",
      "[700]\ttraining's auc: 0.808695\tvalid_1's auc: 0.795928\n",
      "[800]\ttraining's auc: 0.810282\tvalid_1's auc: 0.79576\n",
      "[900]\ttraining's auc: 0.811503\tvalid_1's auc: 0.795917\n",
      "[1000]\ttraining's auc: 0.812233\tvalid_1's auc: 0.795919\n",
      "Early stopping, best iteration is:\n",
      "[849]\ttraining's auc: 0.810782\tvalid_1's auc: 0.796004\n",
      "Training until validation scores don't improve for 200 rounds.\n",
      "[100]\ttraining's auc: 0.800836\tvalid_1's auc: 0.805991\n",
      "[200]\ttraining's auc: 0.802324\tvalid_1's auc: 0.806594\n",
      "[300]\ttraining's auc: 0.803197\tvalid_1's auc: 0.807063\n",
      "[400]\ttraining's auc: 0.804469\tvalid_1's auc: 0.807355\n",
      "[500]\ttraining's auc: 0.80497\tvalid_1's auc: 0.807254\n",
      "[600]\ttraining's auc: 0.806009\tvalid_1's auc: 0.807492\n",
      "[700]\ttraining's auc: 0.807145\tvalid_1's auc: 0.807498\n",
      "[800]\ttraining's auc: 0.808777\tvalid_1's auc: 0.80761\n",
      "[900]\ttraining's auc: 0.81004\tvalid_1's auc: 0.807508\n",
      "Early stopping, best iteration is:\n",
      "[742]\ttraining's auc: 0.807919\tvalid_1's auc: 0.807659\n",
      "Training until validation scores don't improve for 200 rounds.\n",
      "[100]\ttraining's auc: 0.802385\tvalid_1's auc: 0.791449\n",
      "[200]\ttraining's auc: 0.80405\tvalid_1's auc: 0.79173\n",
      "[300]\ttraining's auc: 0.804863\tvalid_1's auc: 0.791882\n",
      "[400]\ttraining's auc: 0.806429\tvalid_1's auc: 0.79173\n",
      "[500]\ttraining's auc: 0.806974\tvalid_1's auc: 0.791915\n",
      "[600]\ttraining's auc: 0.808013\tvalid_1's auc: 0.791718\n",
      "[700]\ttraining's auc: 0.809225\tvalid_1's auc: 0.79164\n",
      "Early stopping, best iteration is:\n",
      "[512]\ttraining's auc: 0.806984\tvalid_1's auc: 0.791981\n",
      "Training until validation scores don't improve for 200 rounds.\n",
      "[100]\ttraining's auc: 0.800812\tvalid_1's auc: 0.8057\n",
      "[200]\ttraining's auc: 0.802406\tvalid_1's auc: 0.806442\n",
      "[300]\ttraining's auc: 0.803241\tvalid_1's auc: 0.806729\n",
      "[400]\ttraining's auc: 0.804668\tvalid_1's auc: 0.806957\n",
      "[500]\ttraining's auc: 0.805169\tvalid_1's auc: 0.806902\n",
      "[600]\ttraining's auc: 0.806197\tvalid_1's auc: 0.807042\n",
      "[700]\ttraining's auc: 0.807478\tvalid_1's auc: 0.807158\n",
      "[800]\ttraining's auc: 0.80905\tvalid_1's auc: 0.807414\n",
      "[900]\ttraining's auc: 0.810411\tvalid_1's auc: 0.807316\n",
      "Early stopping, best iteration is:\n",
      "[768]\ttraining's auc: 0.808693\tvalid_1's auc: 0.807524\n",
      "Training until validation scores don't improve for 200 rounds.\n",
      "[100]\ttraining's auc: 0.801832\tvalid_1's auc: 0.797121\n",
      "[200]\ttraining's auc: 0.803424\tvalid_1's auc: 0.797908\n",
      "[300]\ttraining's auc: 0.804244\tvalid_1's auc: 0.798168\n",
      "[400]\ttraining's auc: 0.805577\tvalid_1's auc: 0.798083\n",
      "[500]\ttraining's auc: 0.806091\tvalid_1's auc: 0.798286\n",
      "[600]\ttraining's auc: 0.807072\tvalid_1's auc: 0.798335\n",
      "[700]\ttraining's auc: 0.80841\tvalid_1's auc: 0.798521\n",
      "[800]\ttraining's auc: 0.810407\tvalid_1's auc: 0.79909\n",
      "[900]\ttraining's auc: 0.811635\tvalid_1's auc: 0.799125\n",
      "[1000]\ttraining's auc: 0.812525\tvalid_1's auc: 0.799114\n",
      "Early stopping, best iteration is:\n",
      "[834]\ttraining's auc: 0.810778\tvalid_1's auc: 0.799223\n",
      "Training until validation scores don't improve for 200 rounds.\n",
      "[100]\ttraining's auc: 0.800888\tvalid_1's auc: 0.805136\n",
      "[200]\ttraining's auc: 0.80253\tvalid_1's auc: 0.805391\n",
      "[300]\ttraining's auc: 0.803344\tvalid_1's auc: 0.805622\n",
      "[400]\ttraining's auc: 0.804827\tvalid_1's auc: 0.805417\n",
      "[500]\ttraining's auc: 0.805302\tvalid_1's auc: 0.805515\n",
      "Early stopping, best iteration is:\n",
      "[360]\ttraining's auc: 0.804437\tvalid_1's auc: 0.805626\n",
      "Training until validation scores don't improve for 200 rounds.\n",
      "[100]\ttraining's auc: 0.801232\tvalid_1's auc: 0.802631\n",
      "[200]\ttraining's auc: 0.802956\tvalid_1's auc: 0.802522\n",
      "[300]\ttraining's auc: 0.80371\tvalid_1's auc: 0.802756\n",
      "[400]\ttraining's auc: 0.805081\tvalid_1's auc: 0.802761\n",
      "[500]\ttraining's auc: 0.805647\tvalid_1's auc: 0.802776\n",
      "Early stopping, best iteration is:\n",
      "[310]\ttraining's auc: 0.803753\tvalid_1's auc: 0.802878\n",
      "Training until validation scores don't improve for 200 rounds.\n",
      "[100]\ttraining's auc: 0.801699\tvalid_1's auc: 0.798502\n",
      "[200]\ttraining's auc: 0.803213\tvalid_1's auc: 0.799269\n",
      "[300]\ttraining's auc: 0.803971\tvalid_1's auc: 0.799459\n",
      "[400]\ttraining's auc: 0.805249\tvalid_1's auc: 0.799709\n",
      "[500]\ttraining's auc: 0.805826\tvalid_1's auc: 0.799935\n",
      "[600]\ttraining's auc: 0.806985\tvalid_1's auc: 0.80014\n",
      "[700]\ttraining's auc: 0.808424\tvalid_1's auc: 0.800369\n",
      "[800]\ttraining's auc: 0.810008\tvalid_1's auc: 0.800564\n",
      "[900]\ttraining's auc: 0.811189\tvalid_1's auc: 0.800483\n",
      "Early stopping, best iteration is:\n",
      "[795]\ttraining's auc: 0.809975\tvalid_1's auc: 0.800592\n",
      "Training until validation scores don't improve for 200 rounds.\n",
      "[100]\ttraining's auc: 0.801435\tvalid_1's auc: 0.799574\n",
      "[200]\ttraining's auc: 0.803016\tvalid_1's auc: 0.800734\n",
      "[300]\ttraining's auc: 0.803805\tvalid_1's auc: 0.800909\n",
      "[400]\ttraining's auc: 0.805248\tvalid_1's auc: 0.801386\n",
      "[500]\ttraining's auc: 0.80583\tvalid_1's auc: 0.801596\n",
      "[600]\ttraining's auc: 0.806901\tvalid_1's auc: 0.801777\n",
      "[700]\ttraining's auc: 0.808039\tvalid_1's auc: 0.801925\n",
      "[800]\ttraining's auc: 0.809604\tvalid_1's auc: 0.801874\n",
      "[900]\ttraining's auc: 0.810961\tvalid_1's auc: 0.801792\n",
      "Early stopping, best iteration is:\n",
      "[769]\ttraining's auc: 0.809173\tvalid_1's auc: 0.801995\n"
     ]
    },
    {
     "name": "stderr",
     "output_type": "stream",
     "text": [
      "/home/sakhtar0092/anaconda2/lib/python2.7/site-packages/ipykernel_launcher.py:13: SettingWithCopyWarning: \n",
      "A value is trying to be set on a copy of a slice from a DataFrame.\n",
      "Try using .loc[row_indexer,col_indexer] = value instead\n",
      "\n",
      "See the caveats in the documentation: http://pandas.pydata.org/pandas-docs/stable/indexing.html#indexing-view-versus-copy\n",
      "  del sys.path[0]\n",
      "/home/sakhtar0092/anaconda2/lib/python2.7/site-packages/ipykernel_launcher.py:14: SettingWithCopyWarning: \n",
      "A value is trying to be set on a copy of a slice from a DataFrame.\n",
      "Try using .loc[row_indexer,col_indexer] = value instead\n",
      "\n",
      "See the caveats in the documentation: http://pandas.pydata.org/pandas-docs/stable/indexing.html#indexing-view-versus-copy\n",
      "  \n",
      "/home/sakhtar0092/anaconda2/lib/python2.7/site-packages/ipykernel_launcher.py:15: SettingWithCopyWarning: \n",
      "A value is trying to be set on a copy of a slice from a DataFrame.\n",
      "Try using .loc[row_indexer,col_indexer] = value instead\n",
      "\n",
      "See the caveats in the documentation: http://pandas.pydata.org/pandas-docs/stable/indexing.html#indexing-view-versus-copy\n",
      "  from ipykernel import kernelapp as app\n"
     ]
    },
    {
     "name": "stdout",
     "output_type": "stream",
     "text": [
      "Overall ROC: 0.799420294808,  Mean ROC: 0.801293250904, STD AUC: 0.00472344680757\n"
     ]
    }
   ],
   "source": [
    "meta_train = np.zeros(train.shape[0])\n",
    "meta_test = []\n",
    "feature_importance = pd.DataFrame(columns = [\"feature\",\"split\",\"gain\"])\n",
    "fold_roc = []\n",
    "\n",
    "kf = StratifiedKFold(n_splits= 10, shuffle=True, random_state=12323)\n",
    "for fold_id, (train_index, test_index) in enumerate(kf.split(train, target)):\n",
    "    x_train, x_test = train.iloc[train_index], train.iloc[test_index]\n",
    "    y_train, y_test = target[train_index], target[test_index]\n",
    "\n",
    "    model_tree(x_train, x_test, y_train, y_test, test, meta_train, meta_test,train_index, test_index,fold_id)\n",
    "\n",
    "test_id[\"TARGET\"] = np.array(meta_test).T.mean(axis=1)\n",
    "test_id_rank[\"TARGET\"] = pd.DataFrame(np.array(meta_test).T).rank(pct = True).mean(axis=1)\n",
    "train_id[\"TARGET\"] = meta_train\n",
    "\n",
    "print \"Overall ROC: {},  Mean ROC: {}, STD AUC: {}\".format(roc_auc_score(target, meta_train), np.mean(fold_roc), np.std(fold_roc))"
   ]
  },
  {
   "cell_type": "code",
   "execution_count": 15,
   "metadata": {
    "collapsed": true
   },
   "outputs": [],
   "source": [
    "train_id.to_csv(\"csv/{}_train.csv\".format(model_name), index=False)\n",
    "test_id.to_csv(\"csv/{}_test.csv\".format(model_name), index=False)\n",
    "test_id_rank.to_csv(\"csv/{}_rank_test.csv\".format(model_name), index=False)"
   ]
  },
  {
   "cell_type": "code",
   "execution_count": 16,
   "metadata": {},
   "outputs": [
    {
     "data": {
      "text/plain": [
       "[0.7995210902245211,\n",
       " 0.7960479272780185,\n",
       " 0.8076607442334499,\n",
       " 0.791998059833861,\n",
       " 0.807560348072507,\n",
       " 0.7992418525271302,\n",
       " 0.805612394524288,\n",
       " 0.8028350608034277,\n",
       " 0.8005259418684773,\n",
       " 0.8019290896720431]"
      ]
     },
     "execution_count": 16,
     "metadata": {},
     "output_type": "execute_result"
    }
   ],
   "source": [
    "fold_roc"
   ]
  },
  {
   "cell_type": "code",
   "execution_count": null,
   "metadata": {
    "collapsed": true
   },
   "outputs": [],
   "source": []
  },
  {
   "cell_type": "code",
   "execution_count": null,
   "metadata": {
    "collapsed": true
   },
   "outputs": [],
   "source": []
  },
  {
   "cell_type": "code",
   "execution_count": null,
   "metadata": {
    "collapsed": true
   },
   "outputs": [],
   "source": []
  },
  {
   "cell_type": "code",
   "execution_count": null,
   "metadata": {
    "collapsed": true
   },
   "outputs": [],
   "source": []
  },
  {
   "cell_type": "code",
   "execution_count": null,
   "metadata": {
    "collapsed": true
   },
   "outputs": [],
   "source": []
  },
  {
   "cell_type": "code",
   "execution_count": null,
   "metadata": {
    "collapsed": true
   },
   "outputs": [],
   "source": []
  },
  {
   "cell_type": "code",
   "execution_count": null,
   "metadata": {
    "collapsed": true
   },
   "outputs": [],
   "source": [
    "-"
   ]
  }
 ],
 "metadata": {
  "kernelspec": {
   "display_name": "Python 2",
   "language": "python",
   "name": "python2"
  },
  "language_info": {
   "codemirror_mode": {
    "name": "ipython",
    "version": 2
   },
   "file_extension": ".py",
   "mimetype": "text/x-python",
   "name": "python",
   "nbconvert_exporter": "python",
   "pygments_lexer": "ipython2",
   "version": "2.7.14"
  }
 },
 "nbformat": 4,
 "nbformat_minor": 2
}
