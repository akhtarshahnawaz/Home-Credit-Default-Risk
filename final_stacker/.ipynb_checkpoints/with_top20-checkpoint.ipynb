{
 "cells": [
  {
   "cell_type": "code",
   "execution_count": 1,
   "metadata": {
    "collapsed": true
   },
   "outputs": [],
   "source": [
    "model_name = \"with_top20\""
   ]
  },
  {
   "cell_type": "code",
   "execution_count": 2,
   "metadata": {
    "collapsed": true
   },
   "outputs": [],
   "source": [
    "import numpy as np\n",
    "import pandas as pd\n",
    "import gc\n",
    "from time import time\n",
    "from contextlib import contextmanager\n",
    "from lightgbm import LGBMClassifier\n",
    "from sklearn.metrics import roc_auc_score, roc_curve\n",
    "from sklearn.model_selection import KFold, StratifiedKFold\n",
    "import matplotlib.pyplot as plt\n",
    "import seaborn as sns\n",
    "import warnings\n",
    "from sklearn.preprocessing import LabelEncoder,OneHotEncoder"
   ]
  },
  {
   "cell_type": "code",
   "execution_count": 3,
   "metadata": {},
   "outputs": [
    {
     "name": "stdout",
     "output_type": "stream",
     "text": [
      "Init... : 0.000194072723389 seconds\n"
     ]
    }
   ],
   "source": [
    "timesheet = [time()]\n",
    "def timer(statement):\n",
    "    global timesheet\n",
    "    timesheet.append(time())\n",
    "    print statement+\" :\", (timesheet[-1]-timesheet[-2]),\"seconds\"\n",
    "timer(\"Init...\")"
   ]
  },
  {
   "cell_type": "code",
   "execution_count": 4,
   "metadata": {
    "collapsed": true
   },
   "outputs": [],
   "source": [
    "def load_meta(directory, prefix, modeltype):\n",
    "    m_tr = pd.read_csv(directory+prefix+\"_train.csv\")\n",
    "    m_te = pd.read_csv(directory+prefix+\"_test.csv\")\n",
    "    data = pd.concat([m_tr, m_te], axis=0).reset_index(drop=True)\n",
    "    data.columns = [\"{}_{}_{}\".format(c, prefix, modeltype) if c!=\"SK_ID_CURR\" else c for c in data.columns]\n",
    "    return data\n",
    "\n",
    "def load_neptune(directory, modelname):\n",
    "    m_tr = pd.read_csv(directory+\"lightGBM_out_of_fold_train_predictions.csv\", usecols = [\"SK_ID_CURR\",\"lightGBM_prediction\"])\n",
    "    m_te = pd.read_csv(directory+\"lightGBM_out_of_fold_test_predictions.csv\", usecols = [\"SK_ID_CURR\",\"lightGBM_prediction\"])\n",
    "    m_te = m_te.groupby(\"SK_ID_CURR\")[\"lightGBM_prediction\"].mean().reset_index()\n",
    "    \n",
    "    data = pd.concat([m_tr, m_te], axis=0).reset_index(drop=True)\n",
    "    data.columns = [\"SK_ID_CURR\", \"neptune_{}\".format(modelname)]\n",
    "    return data\n",
    "\n",
    "def join_features(data, features):\n",
    "    for item in features:\n",
    "        data = data.merge(item, how = \"left\", on = \"SK_ID_CURR\")\n",
    "    return data\n",
    "\n",
    "def load_data(datafile):\n",
    "    global important_columns\n",
    "    colnames = [c.replace(\" \",\"_\") for c in pd.read_csv(datafile, nrows= 1).columns]\n",
    "    intersection = list(set(colnames).intersection(set(important_columns)))+[\"SK_ID_CURR\"]\n",
    "\n",
    "    df =  pd.read_csv(datafile, names = colnames, usecols = intersection, skiprows=1).dropna(axis=1, how=\"all\")\n",
    "    timer(\"Loaded {} with shape {} in \".format(datafile.split(\"/\")[-1], df.shape))\n",
    "    return df"
   ]
  },
  {
   "cell_type": "markdown",
   "metadata": {},
   "source": [
    "## Getting Feature Importance File"
   ]
  },
  {
   "cell_type": "code",
   "execution_count": 5,
   "metadata": {
    "collapsed": true
   },
   "outputs": [],
   "source": [
    "important_columns = pd.read_csv(\"../feature selector/importance/shap_importances.csv\")\n",
    "important_columns[\"feature\"] = important_columns[\"feature\"].apply(lambda x: x.replace(\" \",\"_\"))\n",
    "important_columns = important_columns.loc[important_columns.shapely_mean > 0.0].reset_index(drop=True)\n",
    "important_columns = important_columns.sort_values(by = \"shapely_mean\", ascending = False).reset_index(drop=True)\n",
    "important_columns = important_columns.loc[0:20].feature.values.tolist()"
   ]
  },
  {
   "cell_type": "markdown",
   "metadata": {},
   "source": [
    "## Loading Features"
   ]
  },
  {
   "cell_type": "code",
   "execution_count": 6,
   "metadata": {},
   "outputs": [
    {
     "name": "stdout",
     "output_type": "stream",
     "text": [
      "Loaded application_features_V2.csv with shape (356255, 19) in  : 4.74048089981 seconds\n",
      "Loaded bureau_features_V1.csv with shape (305811, 4) in  : 5.56318688393 seconds\n",
      "Loaded credit_card_features_V1.csv with shape (103558, 1) in  : 9.96205115318 seconds\n",
      "Loaded installment_features_V1.csv with shape (339587, 1) in  : 24.1264050007 seconds\n",
      "Loaded pos_cash_features_V1.csv with shape (337252, 1) in  : 17.1831228733 seconds\n",
      "Loaded previous_application_features_V1.csv with shape (338857, 1) in  : 15.2210621834 seconds\n",
      "Loaded credit_card_features_V3.csv with shape (103558, 1) in  : 16.6597239971 seconds\n",
      "Loaded installment_features_V3.csv with shape (339587, 1) in  : 21.5018248558 seconds\n",
      "Loaded pos_cash_features_V3.csv with shape (337252, 1) in  : 6.21316003799 seconds\n",
      "Loaded previous_application_features_V3.csv with shape (338857, 1) in  : 7.88965201378 seconds\n"
     ]
    }
   ],
   "source": [
    "applications = load_data(\"../extractor/csv/application_features_V2.csv\")\n",
    "bureau_balance_bb = load_data(\"../extractor/csv/bureau_features_V1.csv\")\n",
    "credit_card_balance = load_data(\"../extractor/csv/credit_card_features_V1.csv\")\n",
    "installment_features = load_data(\"../extractor/csv/installment_features_V1.csv\")\n",
    "pos_cash_balance = load_data(\"../extractor/csv/pos_cash_features_V1.csv\")\n",
    "previous_apps = load_data(\"../extractor/csv/previous_application_features_V1.csv\")\n",
    "\n",
    "credit_card_balance_v3 = load_data(\"../extractor/csv/credit_card_features_V3.csv\")\n",
    "installment_features_v3 = load_data(\"../extractor/csv/installment_features_V3.csv\")\n",
    "pos_cash_balance_v3 = load_data(\"../extractor/csv/pos_cash_features_V3.csv\")\n",
    "previous_apps_v3 = load_data(\"../extractor/csv/previous_application_features_V3.csv\")\n",
    "\n",
    "base_features = [applications, bureau_balance_bb, credit_card_balance, installment_features, pos_cash_balance,previous_apps, credit_card_balance_v3,installment_features_v3,pos_cash_balance_v3, previous_apps_v3]"
   ]
  },
  {
   "cell_type": "code",
   "execution_count": 7,
   "metadata": {
    "collapsed": true
   },
   "outputs": [],
   "source": [
    "tree_meta_features = [\n",
    "    load_meta(\"../base trees/csv/\", \"application\", \"trees\"),\n",
    "    load_meta(\"../base trees/csv/\", \"bureau_balance_bb\", \"trees\"),\n",
    "    load_meta(\"../base trees/csv/\", \"credit_card_balance\", \"trees\"),\n",
    "    load_meta(\"../base trees/csv/\", \"installment\", \"trees\"),\n",
    "    load_meta(\"../base trees/csv/\", \"pos_cash_balance\", \"trees\"),\n",
    "    load_meta(\"../base trees/csv/\", \"previous_apps\", \"trees\"),\n",
    "]\n",
    "\n",
    "lr_meta_features = [\n",
    "    load_meta(\"../base lr/csv/\", \"application\", \"lr\"),\n",
    "    load_meta(\"../base lr/csv/\", \"bureau_balance_bb\", \"lr\"),\n",
    "    load_meta(\"../base lr/csv/\", \"credit_card_balance\", \"lr\"),\n",
    "    load_meta(\"../base lr/csv/\", \"installment\", \"lr\"),\n",
    "    load_meta(\"../base lr/csv/\", \"pos_cash_balance\", \"lr\"),\n",
    "    load_meta(\"../base lr/csv/\", \"previous_apps\", \"lr\"),\n",
    "]\n",
    "\n",
    "nb_meta_features = [\n",
    "    load_meta(\"../base nb/csv/\", \"application\", \"nb\"),\n",
    "    load_meta(\"../base nb/csv/\", \"bureau_balance_bb\", \"nb\"),\n",
    "    load_meta(\"../base nb/csv/\", \"credit_card_balance\", \"nb\"),\n",
    "    load_meta(\"../base nb/csv/\", \"installment\", \"nb\"),\n",
    "    load_meta(\"../base nb/csv/\", \"pos_cash_balance\", \"nb\"),\n",
    "    load_meta(\"../base nb/csv/\", \"previous_apps\", \"nb\"),\n",
    "]\n",
    "\n",
    "neptune_features = [\n",
    "    load_neptune(\"../base neptune/m1/csv/\", \"m1\"),\n",
    "    load_neptune(\"../base neptune/m2/csv/\", \"m2\"),\n",
    "    load_neptune(\"../base neptune/m3/csv/\", \"m3\"),\n",
    "    load_neptune(\"../base neptune/m4/csv/\", \"m4\"),\n",
    "]\n",
    "\n",
    "mixture_models = [\n",
    "    load_meta(\"../base mixtures/csv/\", \"knn_on_selected_pca\", \"mixtures\"),\n",
    "    load_meta(\"../base mixtures/csv/\", \"lgbm_on_core_features\", \"mixtures\"),\n",
    "    load_meta(\"../base mixtures/csv/\", \"lgbm_on_gp_features\", \"mixtures\"),\n",
    "    load_meta(\"../base mixtures/csv/\", \"lr_on_core_features\", \"mixtures\"),\n",
    "    load_meta(\"../base mixtures/csv/\", \"nn\", \"mixtures\"),\n",
    "    load_meta(\"../base mixtures/csv/\", \"using_lags_bureau_data\", \"mixtures\"),\n",
    "\n",
    "]\n",
    "\n",
    "l1_features = [\n",
    "    load_meta(\"../l1/csv/\", \"l1_gnb\", \"l1\"),\n",
    "    load_meta(\"../l1/csv/\", \"l1_lr\", \"l1\"),\n",
    "    load_meta(\"../l1/csv/\", \"l1_tree_with_flags\", \"l1\"),\n",
    "    load_meta(\"../l1/csv/\", \"l1_tree_without_flags\", \"l1\"),\n",
    "    load_meta(\"../l1/csv/\", \"tree_with_flags_without_meta\", \"l1\"),\n",
    "    load_meta(\"../l1/csv/\", \"tree_without_flags_without_meta\", \"l1\"),\n",
    "    load_meta(\"../l1/csv/\", \"tree_on_core_features_with_meta\", \"l1\"),\n",
    "]\n",
    "\n",
    "l2_features = [\n",
    "    load_meta(\"../l2/csv/\", \"tree_on_l1_and_basemixtures_neptune_1\", \"l2\"),\n",
    "    load_meta(\"../l2/csv/\", \"tree_on_l1_and_basemixtures_neptune_2\", \"l2\"),\n",
    "]\n",
    "\n",
    "final_models = [\n",
    "    load_meta(\"../final_models/csv/\", \"my500_neptuneselected_meta\", \"final_models\"),\n",
    "    load_meta(\"../final_models/csv/\", \"my500_neptuneselected_nometa\", \"final_models\"),\n",
    "]"
   ]
  },
  {
   "cell_type": "markdown",
   "metadata": {},
   "source": [
    "## Joining All Files"
   ]
  },
  {
   "cell_type": "code",
   "execution_count": 8,
   "metadata": {
    "collapsed": true
   },
   "outputs": [],
   "source": [
    "train = pd.read_csv(\"../data/application_train.csv\", usecols = [\"SK_ID_CURR\",\"TARGET\"])\n",
    "test = pd.read_csv(\"../data/application_test.csv\", usecols = [\"SK_ID_CURR\"])\n",
    "\n",
    "data = pd.concat([train, test], axis=0).reset_index(drop=True)\n",
    "data = join_features(data, base_features)\n",
    "data = join_features(data, tree_meta_features)\n",
    "data = join_features(data, lr_meta_features)\n",
    "data = join_features(data, nb_meta_features)\n",
    "data = join_features(data, neptune_features)\n",
    "data = join_features(data, mixture_models)\n",
    "data = join_features(data, l1_features)\n",
    "data = join_features(data, l2_features)\n",
    "data = join_features(data, final_models)\n",
    "\n",
    "del base_features,applications, bureau_balance_bb, credit_card_balance, installment_features, pos_cash_balance,previous_apps, credit_card_balance_v3,installment_features_v3,pos_cash_balance_v3, previous_apps_v3\n",
    "gc.collect()\n",
    "\n",
    "train = data.loc[data.TARGET.notnull()].reset_index(drop=True)\n",
    "test = data.loc[data.TARGET.isnull()].reset_index(drop=True)\n",
    "\n",
    "train_id = train[[\"SK_ID_CURR\"]]\n",
    "test_id = test[[\"SK_ID_CURR\"]]\n",
    "test_id_rank = test[[\"SK_ID_CURR\"]]\n",
    "target =train.TARGET\n",
    "\n",
    "train.drop([\"SK_ID_CURR\", \"TARGET\"], axis=1, inplace=True)\n",
    "test.drop([\"SK_ID_CURR\",\"TARGET\"], axis=1, inplace = True)"
   ]
  },
  {
   "cell_type": "markdown",
   "metadata": {},
   "source": [
    "# Defining Model"
   ]
  },
  {
   "cell_type": "code",
   "execution_count": 9,
   "metadata": {
    "collapsed": true
   },
   "outputs": [],
   "source": [
    "import lightgbm as lgb\n",
    "def model_tree(x_train, x_test, y_train, y_test, test, meta_train, meta_test,train_index, test_index,fold_id):\n",
    "    dtrain = lgb.Dataset(x_train, label=y_train)\n",
    "    dval = lgb.Dataset(x_test, label=y_test)\n",
    "    params = {\n",
    "        'num_leaves': 14, #32\n",
    "        'reg_alpha': 0.04, \n",
    "        'n_jobs': -1, \n",
    "        'colsample_bytree': 0.7, \n",
    "        'silent': -1, \n",
    "        'subsample_for_bin': 200000, \n",
    "        'subsample_freq': 1, \n",
    "        'learning_rate': 0.02, # 0.02\n",
    "        'boosting_type': 'gbdt', \n",
    "        'nthread': 6, \n",
    "        'min_child_weight': 40, \n",
    "        'min_split_gain': 0.0222415, \n",
    "        'n_estimators': 10000, \n",
    "        'subsample': 1, \n",
    "        'reg_lambda': 10, \n",
    "        'objective': \"binary\", \n",
    "        'verbose': -1, \n",
    "        'min_child_samples': 20, \n",
    "        'max_depth': 3, #8\n",
    "        'class_weight': None,\n",
    "        \"bagging_seed\" : 3143,\n",
    "        \"seed\":1343,\n",
    "        \"metric\":\"auc\"\n",
    "    }\n",
    "    model = lgb.train(params, dtrain, num_boost_round=5000,valid_sets=[dtrain, dval], early_stopping_rounds=200, verbose_eval=100)\n",
    "    meta_train[test_index] = model.predict(x_test, num_iteration=model.best_iteration or 5000)\n",
    "    meta_test.append(model.predict(test, num_iteration=model.best_iteration or 5000))\n",
    "    \n",
    "    global fold_roc\n",
    "    fold_roc.append(roc_auc_score(y_test, meta_train[test_index]))\n",
    "    # Calculate Feature Importance\n",
    "    global feature_importance\n",
    "    gain = model.feature_importance('gain')\n",
    "    fold_feature_importance = pd.DataFrame({'feature':model.feature_name(), 'split':model.feature_importance('split'), 'gain':100 * gain / gain.sum()})\n",
    "    feature_importance = feature_importance.append(fold_feature_importance, ignore_index=True) "
   ]
  },
  {
   "cell_type": "markdown",
   "metadata": {},
   "source": [
    "# Training Model"
   ]
  },
  {
   "cell_type": "code",
   "execution_count": 10,
   "metadata": {
    "scrolled": true
   },
   "outputs": [
    {
     "name": "stderr",
     "output_type": "stream",
     "text": [
      "/home/sakhtar0092/anaconda2/lib/python2.7/site-packages/lightgbm/engine.py:99: UserWarning: Found `n_estimators` in params. Will use it instead of argument\n",
      "  warnings.warn(\"Found `{}` in params. Will use it instead of argument\".format(alias))\n",
      "/home/sakhtar0092/anaconda2/lib/python2.7/site-packages/lightgbm/basic.py:657: UserWarning: silent keyword has been found in `params` and will be ignored. Please use silent argument of the Dataset constructor to pass this parameter.\n",
      "  'Please use {0} argument of the Dataset constructor to pass this parameter.'.format(key))\n"
     ]
    },
    {
     "name": "stdout",
     "output_type": "stream",
     "text": [
      "Training until validation scores don't improve for 200 rounds.\n",
      "[100]\ttraining's auc: 0.801048\tvalid_1's auc: 0.797416\n",
      "[200]\ttraining's auc: 0.802003\tvalid_1's auc: 0.798061\n",
      "[300]\ttraining's auc: 0.803123\tvalid_1's auc: 0.798785\n",
      "[400]\ttraining's auc: 0.804062\tvalid_1's auc: 0.799112\n",
      "[500]\ttraining's auc: 0.804839\tvalid_1's auc: 0.799333\n",
      "[600]\ttraining's auc: 0.805842\tvalid_1's auc: 0.799724\n",
      "[700]\ttraining's auc: 0.806889\tvalid_1's auc: 0.799984\n",
      "[800]\ttraining's auc: 0.807823\tvalid_1's auc: 0.800245\n",
      "[900]\ttraining's auc: 0.808626\tvalid_1's auc: 0.800315\n",
      "[1000]\ttraining's auc: 0.809429\tvalid_1's auc: 0.800415\n",
      "[1100]\ttraining's auc: 0.810325\tvalid_1's auc: 0.80053\n",
      "[1200]\ttraining's auc: 0.811135\tvalid_1's auc: 0.800638\n",
      "[1300]\ttraining's auc: 0.811802\tvalid_1's auc: 0.800617\n",
      "[1400]\ttraining's auc: 0.812526\tvalid_1's auc: 0.800657\n",
      "[1500]\ttraining's auc: 0.813198\tvalid_1's auc: 0.800692\n",
      "[1600]\ttraining's auc: 0.813841\tvalid_1's auc: 0.800694\n",
      "[1700]\ttraining's auc: 0.814523\tvalid_1's auc: 0.800724\n",
      "[1800]\ttraining's auc: 0.81522\tvalid_1's auc: 0.80074\n",
      "[1900]\ttraining's auc: 0.81589\tvalid_1's auc: 0.800748\n",
      "[2000]\ttraining's auc: 0.816618\tvalid_1's auc: 0.800832\n",
      "[2100]\ttraining's auc: 0.817264\tvalid_1's auc: 0.800944\n",
      "[2200]\ttraining's auc: 0.817986\tvalid_1's auc: 0.801129\n",
      "[2300]\ttraining's auc: 0.818829\tvalid_1's auc: 0.801417\n",
      "[2400]\ttraining's auc: 0.819478\tvalid_1's auc: 0.801551\n",
      "[2500]\ttraining's auc: 0.820251\tvalid_1's auc: 0.801759\n",
      "[2600]\ttraining's auc: 0.820837\tvalid_1's auc: 0.801797\n",
      "[2700]\ttraining's auc: 0.821403\tvalid_1's auc: 0.801809\n",
      "[2800]\ttraining's auc: 0.821938\tvalid_1's auc: 0.801834\n",
      "[2900]\ttraining's auc: 0.822614\tvalid_1's auc: 0.801927\n",
      "[3000]\ttraining's auc: 0.823112\tvalid_1's auc: 0.801954\n",
      "[3100]\ttraining's auc: 0.823831\tvalid_1's auc: 0.801999\n",
      "[3200]\ttraining's auc: 0.824354\tvalid_1's auc: 0.801983\n",
      "[3300]\ttraining's auc: 0.825045\tvalid_1's auc: 0.802089\n",
      "[3400]\ttraining's auc: 0.825561\tvalid_1's auc: 0.802098\n",
      "[3500]\ttraining's auc: 0.826138\tvalid_1's auc: 0.802128\n",
      "[3600]\ttraining's auc: 0.826765\tvalid_1's auc: 0.802099\n",
      "[3700]\ttraining's auc: 0.827368\tvalid_1's auc: 0.802079\n",
      "[3800]\ttraining's auc: 0.827821\tvalid_1's auc: 0.802023\n",
      "Early stopping, best iteration is:\n",
      "[3616]\ttraining's auc: 0.826873\tvalid_1's auc: 0.80216\n",
      "Training until validation scores don't improve for 200 rounds.\n",
      "[100]\ttraining's auc: 0.801547\tvalid_1's auc: 0.794489\n",
      "[200]\ttraining's auc: 0.802451\tvalid_1's auc: 0.794788\n",
      "[300]\ttraining's auc: 0.803681\tvalid_1's auc: 0.795048\n",
      "[400]\ttraining's auc: 0.804619\tvalid_1's auc: 0.795267\n",
      "[500]\ttraining's auc: 0.80534\tvalid_1's auc: 0.795404\n",
      "[600]\ttraining's auc: 0.806309\tvalid_1's auc: 0.795581\n",
      "[700]\ttraining's auc: 0.807164\tvalid_1's auc: 0.795839\n",
      "[800]\ttraining's auc: 0.807951\tvalid_1's auc: 0.795974\n",
      "[900]\ttraining's auc: 0.808761\tvalid_1's auc: 0.796166\n",
      "[1000]\ttraining's auc: 0.809437\tvalid_1's auc: 0.79616\n",
      "[1100]\ttraining's auc: 0.810046\tvalid_1's auc: 0.796177\n",
      "[1200]\ttraining's auc: 0.810786\tvalid_1's auc: 0.796223\n",
      "[1300]\ttraining's auc: 0.81145\tvalid_1's auc: 0.79623\n",
      "[1400]\ttraining's auc: 0.812159\tvalid_1's auc: 0.796275\n",
      "[1500]\ttraining's auc: 0.81277\tvalid_1's auc: 0.796286\n",
      "[1600]\ttraining's auc: 0.813425\tvalid_1's auc: 0.796278\n",
      "[1700]\ttraining's auc: 0.814095\tvalid_1's auc: 0.796328\n",
      "[1800]\ttraining's auc: 0.814692\tvalid_1's auc: 0.796314\n",
      "[1900]\ttraining's auc: 0.815313\tvalid_1's auc: 0.796392\n",
      "[2000]\ttraining's auc: 0.815901\tvalid_1's auc: 0.796379\n",
      "[2100]\ttraining's auc: 0.816549\tvalid_1's auc: 0.796457\n",
      "[2200]\ttraining's auc: 0.817223\tvalid_1's auc: 0.796509\n",
      "[2300]\ttraining's auc: 0.817784\tvalid_1's auc: 0.796539\n",
      "[2400]\ttraining's auc: 0.818348\tvalid_1's auc: 0.796521\n",
      "Early stopping, best iteration is:\n",
      "[2222]\ttraining's auc: 0.817349\tvalid_1's auc: 0.796553\n",
      "Training until validation scores don't improve for 200 rounds.\n",
      "[100]\ttraining's auc: 0.80009\tvalid_1's auc: 0.805727\n",
      "[200]\ttraining's auc: 0.801156\tvalid_1's auc: 0.806205\n",
      "[300]\ttraining's auc: 0.802284\tvalid_1's auc: 0.806779\n",
      "[400]\ttraining's auc: 0.803202\tvalid_1's auc: 0.80697\n",
      "[500]\ttraining's auc: 0.803937\tvalid_1's auc: 0.806996\n",
      "[600]\ttraining's auc: 0.804816\tvalid_1's auc: 0.807154\n",
      "[700]\ttraining's auc: 0.805824\tvalid_1's auc: 0.807521\n",
      "[800]\ttraining's auc: 0.806665\tvalid_1's auc: 0.8077\n",
      "[900]\ttraining's auc: 0.80737\tvalid_1's auc: 0.807758\n",
      "[1000]\ttraining's auc: 0.808061\tvalid_1's auc: 0.807822\n",
      "[1100]\ttraining's auc: 0.808912\tvalid_1's auc: 0.807956\n",
      "[1200]\ttraining's auc: 0.809656\tvalid_1's auc: 0.808032\n",
      "[1300]\ttraining's auc: 0.810322\tvalid_1's auc: 0.808061\n",
      "[1400]\ttraining's auc: 0.811166\tvalid_1's auc: 0.808233\n",
      "[1500]\ttraining's auc: 0.811909\tvalid_1's auc: 0.8083\n",
      "[1600]\ttraining's auc: 0.812639\tvalid_1's auc: 0.808347\n",
      "[1700]\ttraining's auc: 0.813277\tvalid_1's auc: 0.808283\n",
      "Early stopping, best iteration is:\n",
      "[1588]\ttraining's auc: 0.812554\tvalid_1's auc: 0.80837\n",
      "Training until validation scores don't improve for 200 rounds.\n",
      "[100]\ttraining's auc: 0.801819\tvalid_1's auc: 0.791385\n",
      "[200]\ttraining's auc: 0.802751\tvalid_1's auc: 0.791601\n",
      "[300]\ttraining's auc: 0.803995\tvalid_1's auc: 0.791773\n",
      "[400]\ttraining's auc: 0.804961\tvalid_1's auc: 0.791775\n",
      "[500]\ttraining's auc: 0.805873\tvalid_1's auc: 0.791886\n",
      "[600]\ttraining's auc: 0.806946\tvalid_1's auc: 0.792164\n",
      "[700]\ttraining's auc: 0.808018\tvalid_1's auc: 0.792436\n",
      "[800]\ttraining's auc: 0.808842\tvalid_1's auc: 0.792482\n",
      "[900]\ttraining's auc: 0.80947\tvalid_1's auc: 0.792469\n",
      "[1000]\ttraining's auc: 0.810232\tvalid_1's auc: 0.79247\n",
      "[1100]\ttraining's auc: 0.8109\tvalid_1's auc: 0.792492\n",
      "[1200]\ttraining's auc: 0.811662\tvalid_1's auc: 0.792509\n",
      "[1300]\ttraining's auc: 0.812379\tvalid_1's auc: 0.792573\n",
      "[1400]\ttraining's auc: 0.813157\tvalid_1's auc: 0.792664\n",
      "[1500]\ttraining's auc: 0.814108\tvalid_1's auc: 0.792957\n",
      "[1600]\ttraining's auc: 0.814899\tvalid_1's auc: 0.792994\n",
      "[1700]\ttraining's auc: 0.815492\tvalid_1's auc: 0.793085\n",
      "[1800]\ttraining's auc: 0.816135\tvalid_1's auc: 0.793173\n",
      "[1900]\ttraining's auc: 0.81669\tvalid_1's auc: 0.793182\n",
      "[2000]\ttraining's auc: 0.817307\tvalid_1's auc: 0.793283\n",
      "[2100]\ttraining's auc: 0.818111\tvalid_1's auc: 0.793511\n",
      "[2200]\ttraining's auc: 0.818743\tvalid_1's auc: 0.79356\n",
      "[2300]\ttraining's auc: 0.819288\tvalid_1's auc: 0.793568\n",
      "[2400]\ttraining's auc: 0.819931\tvalid_1's auc: 0.793663\n",
      "[2500]\ttraining's auc: 0.82043\tvalid_1's auc: 0.793661\n",
      "[2600]\ttraining's auc: 0.820974\tvalid_1's auc: 0.793711\n",
      "[2700]\ttraining's auc: 0.82161\tvalid_1's auc: 0.793766\n",
      "[2800]\ttraining's auc: 0.822196\tvalid_1's auc: 0.793792\n",
      "[2900]\ttraining's auc: 0.822749\tvalid_1's auc: 0.793753\n",
      "[3000]\ttraining's auc: 0.823338\tvalid_1's auc: 0.793854\n",
      "[3100]\ttraining's auc: 0.824012\tvalid_1's auc: 0.793834\n",
      "[3200]\ttraining's auc: 0.824554\tvalid_1's auc: 0.793735\n",
      "Early stopping, best iteration is:\n",
      "[3068]\ttraining's auc: 0.823828\tvalid_1's auc: 0.793906\n",
      "Training until validation scores don't improve for 200 rounds.\n",
      "[100]\ttraining's auc: 0.800302\tvalid_1's auc: 0.805512\n",
      "[200]\ttraining's auc: 0.801181\tvalid_1's auc: 0.806128\n",
      "[300]\ttraining's auc: 0.802372\tvalid_1's auc: 0.806511\n",
      "[400]\ttraining's auc: 0.803314\tvalid_1's auc: 0.806795\n",
      "[500]\ttraining's auc: 0.80413\tvalid_1's auc: 0.807012\n",
      "[600]\ttraining's auc: 0.80529\tvalid_1's auc: 0.807433\n",
      "[700]\ttraining's auc: 0.806325\tvalid_1's auc: 0.80774\n",
      "[800]\ttraining's auc: 0.807103\tvalid_1's auc: 0.807829\n",
      "[900]\ttraining's auc: 0.807844\tvalid_1's auc: 0.807907\n",
      "[1000]\ttraining's auc: 0.808641\tvalid_1's auc: 0.808072\n",
      "[1100]\ttraining's auc: 0.809421\tvalid_1's auc: 0.8082\n",
      "[1200]\ttraining's auc: 0.810146\tvalid_1's auc: 0.808213\n",
      "[1300]\ttraining's auc: 0.810885\tvalid_1's auc: 0.808359\n",
      "[1400]\ttraining's auc: 0.811562\tvalid_1's auc: 0.808332\n",
      "[1500]\ttraining's auc: 0.812232\tvalid_1's auc: 0.808414\n",
      "[1600]\ttraining's auc: 0.81287\tvalid_1's auc: 0.808407\n",
      "[1700]\ttraining's auc: 0.813525\tvalid_1's auc: 0.80844\n",
      "[1800]\ttraining's auc: 0.814195\tvalid_1's auc: 0.808565\n",
      "[1900]\ttraining's auc: 0.814793\tvalid_1's auc: 0.808589\n",
      "[2000]\ttraining's auc: 0.815427\tvalid_1's auc: 0.808644\n",
      "[2100]\ttraining's auc: 0.816082\tvalid_1's auc: 0.808703\n",
      "[2200]\ttraining's auc: 0.816695\tvalid_1's auc: 0.808688\n",
      "[2300]\ttraining's auc: 0.817273\tvalid_1's auc: 0.808696\n",
      "[2400]\ttraining's auc: 0.817919\tvalid_1's auc: 0.808688\n",
      "[2500]\ttraining's auc: 0.818519\tvalid_1's auc: 0.808665\n"
     ]
    },
    {
     "name": "stdout",
     "output_type": "stream",
     "text": [
      "Early stopping, best iteration is:\n",
      "[2378]\ttraining's auc: 0.81775\tvalid_1's auc: 0.808714\n",
      "Training until validation scores don't improve for 200 rounds.\n",
      "[100]\ttraining's auc: 0.801285\tvalid_1's auc: 0.7969\n",
      "[200]\ttraining's auc: 0.802116\tvalid_1's auc: 0.797438\n",
      "[300]\ttraining's auc: 0.803256\tvalid_1's auc: 0.797786\n",
      "[400]\ttraining's auc: 0.804148\tvalid_1's auc: 0.797855\n",
      "[500]\ttraining's auc: 0.804885\tvalid_1's auc: 0.797819\n",
      "[600]\ttraining's auc: 0.805656\tvalid_1's auc: 0.797875\n",
      "[700]\ttraining's auc: 0.806446\tvalid_1's auc: 0.797878\n",
      "[800]\ttraining's auc: 0.807198\tvalid_1's auc: 0.798004\n",
      "[900]\ttraining's auc: 0.808059\tvalid_1's auc: 0.798111\n",
      "[1000]\ttraining's auc: 0.808853\tvalid_1's auc: 0.798255\n",
      "[1100]\ttraining's auc: 0.809708\tvalid_1's auc: 0.798482\n",
      "[1200]\ttraining's auc: 0.810438\tvalid_1's auc: 0.798612\n",
      "[1300]\ttraining's auc: 0.811154\tvalid_1's auc: 0.798711\n",
      "[1400]\ttraining's auc: 0.811895\tvalid_1's auc: 0.798735\n",
      "[1500]\ttraining's auc: 0.812605\tvalid_1's auc: 0.798874\n",
      "[1600]\ttraining's auc: 0.813325\tvalid_1's auc: 0.799058\n",
      "[1700]\ttraining's auc: 0.814239\tvalid_1's auc: 0.799357\n",
      "[1800]\ttraining's auc: 0.815019\tvalid_1's auc: 0.799423\n",
      "[1900]\ttraining's auc: 0.815873\tvalid_1's auc: 0.799643\n",
      "[2000]\ttraining's auc: 0.816474\tvalid_1's auc: 0.799694\n",
      "[2100]\ttraining's auc: 0.817143\tvalid_1's auc: 0.799797\n",
      "[2200]\ttraining's auc: 0.817722\tvalid_1's auc: 0.799822\n",
      "[2300]\ttraining's auc: 0.81837\tvalid_1's auc: 0.799808\n",
      "[2400]\ttraining's auc: 0.819044\tvalid_1's auc: 0.799973\n",
      "[2500]\ttraining's auc: 0.819639\tvalid_1's auc: 0.799945\n",
      "[2600]\ttraining's auc: 0.820215\tvalid_1's auc: 0.799925\n",
      "Early stopping, best iteration is:\n",
      "[2445]\ttraining's auc: 0.819307\tvalid_1's auc: 0.799978\n",
      "Training until validation scores don't improve for 200 rounds.\n",
      "[100]\ttraining's auc: 0.800389\tvalid_1's auc: 0.804594\n",
      "[200]\ttraining's auc: 0.801242\tvalid_1's auc: 0.805229\n",
      "[300]\ttraining's auc: 0.802516\tvalid_1's auc: 0.80536\n",
      "[400]\ttraining's auc: 0.80348\tvalid_1's auc: 0.805333\n",
      "[500]\ttraining's auc: 0.804254\tvalid_1's auc: 0.805231\n",
      "Early stopping, best iteration is:\n",
      "[304]\ttraining's auc: 0.802567\tvalid_1's auc: 0.805388\n",
      "Training until validation scores don't improve for 200 rounds.\n",
      "[100]\ttraining's auc: 0.800693\tvalid_1's auc: 0.801921\n",
      "[200]\ttraining's auc: 0.801591\tvalid_1's auc: 0.802537\n",
      "[300]\ttraining's auc: 0.802775\tvalid_1's auc: 0.802571\n",
      "[400]\ttraining's auc: 0.803771\tvalid_1's auc: 0.802712\n",
      "[500]\ttraining's auc: 0.804568\tvalid_1's auc: 0.802832\n",
      "[600]\ttraining's auc: 0.805536\tvalid_1's auc: 0.803143\n",
      "[700]\ttraining's auc: 0.806618\tvalid_1's auc: 0.803562\n",
      "[800]\ttraining's auc: 0.807412\tvalid_1's auc: 0.803666\n",
      "[900]\ttraining's auc: 0.808156\tvalid_1's auc: 0.803712\n",
      "[1000]\ttraining's auc: 0.808893\tvalid_1's auc: 0.803834\n",
      "[1100]\ttraining's auc: 0.809635\tvalid_1's auc: 0.803996\n",
      "[1200]\ttraining's auc: 0.810324\tvalid_1's auc: 0.804136\n",
      "[1300]\ttraining's auc: 0.810942\tvalid_1's auc: 0.804176\n",
      "[1400]\ttraining's auc: 0.811656\tvalid_1's auc: 0.804289\n",
      "[1500]\ttraining's auc: 0.812368\tvalid_1's auc: 0.804399\n",
      "[1600]\ttraining's auc: 0.813123\tvalid_1's auc: 0.804439\n",
      "[1700]\ttraining's auc: 0.813703\tvalid_1's auc: 0.804407\n",
      "Early stopping, best iteration is:\n",
      "[1560]\ttraining's auc: 0.812871\tvalid_1's auc: 0.804477\n",
      "Training until validation scores don't improve for 200 rounds.\n",
      "[100]\ttraining's auc: 0.800851\tvalid_1's auc: 0.798336\n",
      "[200]\ttraining's auc: 0.801994\tvalid_1's auc: 0.798726\n",
      "[300]\ttraining's auc: 0.803128\tvalid_1's auc: 0.799251\n",
      "[400]\ttraining's auc: 0.803977\tvalid_1's auc: 0.799657\n",
      "[500]\ttraining's auc: 0.805153\tvalid_1's auc: 0.800247\n",
      "[600]\ttraining's auc: 0.806249\tvalid_1's auc: 0.800586\n",
      "[700]\ttraining's auc: 0.807157\tvalid_1's auc: 0.800875\n",
      "[800]\ttraining's auc: 0.807961\tvalid_1's auc: 0.801032\n",
      "[900]\ttraining's auc: 0.808685\tvalid_1's auc: 0.801135\n",
      "[1000]\ttraining's auc: 0.809341\tvalid_1's auc: 0.801238\n",
      "[1100]\ttraining's auc: 0.810019\tvalid_1's auc: 0.801329\n",
      "[1200]\ttraining's auc: 0.810702\tvalid_1's auc: 0.80138\n",
      "[1300]\ttraining's auc: 0.811483\tvalid_1's auc: 0.801527\n",
      "[1400]\ttraining's auc: 0.812101\tvalid_1's auc: 0.8016\n",
      "[1500]\ttraining's auc: 0.812912\tvalid_1's auc: 0.801704\n",
      "[1600]\ttraining's auc: 0.813611\tvalid_1's auc: 0.801818\n",
      "[1700]\ttraining's auc: 0.81426\tvalid_1's auc: 0.80183\n",
      "[1800]\ttraining's auc: 0.81491\tvalid_1's auc: 0.801813\n",
      "[1900]\ttraining's auc: 0.815662\tvalid_1's auc: 0.801868\n",
      "[2000]\ttraining's auc: 0.81624\tvalid_1's auc: 0.801936\n",
      "[2100]\ttraining's auc: 0.816794\tvalid_1's auc: 0.801867\n",
      "[2200]\ttraining's auc: 0.817345\tvalid_1's auc: 0.801806\n",
      "Early stopping, best iteration is:\n",
      "[2003]\ttraining's auc: 0.816251\tvalid_1's auc: 0.801942\n",
      "Training until validation scores don't improve for 200 rounds.\n",
      "[100]\ttraining's auc: 0.800884\tvalid_1's auc: 0.799105\n",
      "[200]\ttraining's auc: 0.801826\tvalid_1's auc: 0.800225\n",
      "[300]\ttraining's auc: 0.802969\tvalid_1's auc: 0.800721\n",
      "[400]\ttraining's auc: 0.803848\tvalid_1's auc: 0.800902\n",
      "[500]\ttraining's auc: 0.804545\tvalid_1's auc: 0.801041\n",
      "[600]\ttraining's auc: 0.805577\tvalid_1's auc: 0.801357\n",
      "[700]\ttraining's auc: 0.80675\tvalid_1's auc: 0.801706\n",
      "[800]\ttraining's auc: 0.807678\tvalid_1's auc: 0.80182\n",
      "[900]\ttraining's auc: 0.808495\tvalid_1's auc: 0.801942\n",
      "[1000]\ttraining's auc: 0.809291\tvalid_1's auc: 0.801991\n",
      "[1100]\ttraining's auc: 0.810062\tvalid_1's auc: 0.802046\n",
      "[1200]\ttraining's auc: 0.81086\tvalid_1's auc: 0.802023\n",
      "[1300]\ttraining's auc: 0.811584\tvalid_1's auc: 0.802012\n",
      "Early stopping, best iteration is:\n",
      "[1167]\ttraining's auc: 0.810622\tvalid_1's auc: 0.802054\n"
     ]
    },
    {
     "name": "stderr",
     "output_type": "stream",
     "text": [
      "/home/sakhtar0092/anaconda2/lib/python2.7/site-packages/ipykernel_launcher.py:13: SettingWithCopyWarning: \n",
      "A value is trying to be set on a copy of a slice from a DataFrame.\n",
      "Try using .loc[row_indexer,col_indexer] = value instead\n",
      "\n",
      "See the caveats in the documentation: http://pandas.pydata.org/pandas-docs/stable/indexing.html#indexing-view-versus-copy\n",
      "  del sys.path[0]\n",
      "/home/sakhtar0092/anaconda2/lib/python2.7/site-packages/ipykernel_launcher.py:14: SettingWithCopyWarning: \n",
      "A value is trying to be set on a copy of a slice from a DataFrame.\n",
      "Try using .loc[row_indexer,col_indexer] = value instead\n",
      "\n",
      "See the caveats in the documentation: http://pandas.pydata.org/pandas-docs/stable/indexing.html#indexing-view-versus-copy\n",
      "  \n",
      "/home/sakhtar0092/anaconda2/lib/python2.7/site-packages/ipykernel_launcher.py:15: SettingWithCopyWarning: \n",
      "A value is trying to be set on a copy of a slice from a DataFrame.\n",
      "Try using .loc[row_indexer,col_indexer] = value instead\n",
      "\n",
      "See the caveats in the documentation: http://pandas.pydata.org/pandas-docs/stable/indexing.html#indexing-view-versus-copy\n",
      "  from ipykernel import kernelapp as app\n"
     ]
    },
    {
     "name": "stdout",
     "output_type": "stream",
     "text": [
      "Overall ROC: 0.802245475301,  Mean ROC: 0.802354259362, STD AUC: 0.0044868282347\n"
     ]
    }
   ],
   "source": [
    "meta_train = np.zeros(train.shape[0])\n",
    "meta_test = []\n",
    "feature_importance = pd.DataFrame(columns = [\"feature\",\"split\",\"gain\"])\n",
    "fold_roc = []\n",
    "\n",
    "kf = StratifiedKFold(n_splits= 10, shuffle=True, random_state=12323)\n",
    "for fold_id, (train_index, test_index) in enumerate(kf.split(train, target)):\n",
    "    x_train, x_test = train.iloc[train_index], train.iloc[test_index]\n",
    "    y_train, y_test = target[train_index], target[test_index]\n",
    "\n",
    "    model_tree(x_train, x_test, y_train, y_test, test, meta_train, meta_test,train_index, test_index,fold_id)\n",
    "\n",
    "test_id[\"TARGET\"] = np.array(meta_test).T.mean(axis=1)\n",
    "test_id_rank[\"TARGET\"] = pd.DataFrame(np.array(meta_test).T).rank(pct = True).mean(axis=1)\n",
    "train_id[\"TARGET\"] = meta_train\n",
    "\n",
    "print \"Overall ROC: {},  Mean ROC: {}, STD AUC: {}\".format(roc_auc_score(target, meta_train), np.mean(fold_roc), np.std(fold_roc))"
   ]
  },
  {
   "cell_type": "code",
   "execution_count": 11,
   "metadata": {
    "collapsed": true
   },
   "outputs": [],
   "source": [
    "train_id.to_csv(\"csv/{}_train.csv\".format(model_name), index=False)\n",
    "test_id.to_csv(\"csv/{}_test.csv\".format(model_name), index=False)\n",
    "test_id_rank.to_csv(\"csv/{}_rank_test.csv\".format(model_name), index=False)"
   ]
  },
  {
   "cell_type": "code",
   "execution_count": 12,
   "metadata": {},
   "outputs": [
    {
     "data": {
      "text/plain": [
       "[0.802159897960915,\n",
       " 0.7965532417994451,\n",
       " 0.8083702987666943,\n",
       " 0.7939061425112319,\n",
       " 0.8087141987140486,\n",
       " 0.7999777178094107,\n",
       " 0.8053875123187787,\n",
       " 0.8044770372720093,\n",
       " 0.8019423876247457,\n",
       " 0.8020541588413513]"
      ]
     },
     "execution_count": 12,
     "metadata": {},
     "output_type": "execute_result"
    }
   ],
   "source": [
    "fold_roc"
   ]
  },
  {
   "cell_type": "code",
   "execution_count": null,
   "metadata": {
    "collapsed": true
   },
   "outputs": [],
   "source": []
  },
  {
   "cell_type": "code",
   "execution_count": null,
   "metadata": {
    "collapsed": true
   },
   "outputs": [],
   "source": []
  },
  {
   "cell_type": "code",
   "execution_count": null,
   "metadata": {
    "collapsed": true
   },
   "outputs": [],
   "source": []
  },
  {
   "cell_type": "code",
   "execution_count": null,
   "metadata": {
    "collapsed": true
   },
   "outputs": [],
   "source": []
  },
  {
   "cell_type": "code",
   "execution_count": null,
   "metadata": {
    "collapsed": true
   },
   "outputs": [],
   "source": []
  },
  {
   "cell_type": "code",
   "execution_count": null,
   "metadata": {
    "collapsed": true
   },
   "outputs": [],
   "source": []
  },
  {
   "cell_type": "code",
   "execution_count": null,
   "metadata": {
    "collapsed": true
   },
   "outputs": [],
   "source": [
    "-"
   ]
  }
 ],
 "metadata": {
  "kernelspec": {
   "display_name": "Python 2",
   "language": "python",
   "name": "python2"
  },
  "language_info": {
   "codemirror_mode": {
    "name": "ipython",
    "version": 2
   },
   "file_extension": ".py",
   "mimetype": "text/x-python",
   "name": "python",
   "nbconvert_exporter": "python",
   "pygments_lexer": "ipython2",
   "version": "2.7.14"
  }
 },
 "nbformat": 4,
 "nbformat_minor": 2
}
