{
 "cells": [
  {
   "cell_type": "code",
   "execution_count": 1,
   "metadata": {
    "collapsed": true
   },
   "outputs": [],
   "source": [
    "model_name = \"with_top3_cb\""
   ]
  },
  {
   "cell_type": "code",
   "execution_count": 2,
   "metadata": {
    "collapsed": true
   },
   "outputs": [],
   "source": [
    "import numpy as np\n",
    "import pandas as pd\n",
    "import gc\n",
    "from time import time\n",
    "from contextlib import contextmanager\n",
    "from lightgbm import LGBMClassifier\n",
    "from sklearn.metrics import roc_auc_score, roc_curve\n",
    "from sklearn.model_selection import KFold, StratifiedKFold\n",
    "import matplotlib.pyplot as plt\n",
    "import seaborn as sns\n",
    "import warnings\n",
    "from sklearn.preprocessing import LabelEncoder,OneHotEncoder"
   ]
  },
  {
   "cell_type": "code",
   "execution_count": 3,
   "metadata": {},
   "outputs": [
    {
     "name": "stdout",
     "output_type": "stream",
     "text": [
      "Init... : 0.00019097328186 seconds\n"
     ]
    }
   ],
   "source": [
    "timesheet = [time()]\n",
    "def timer(statement):\n",
    "    global timesheet\n",
    "    timesheet.append(time())\n",
    "    print statement+\" :\", (timesheet[-1]-timesheet[-2]),\"seconds\"\n",
    "timer(\"Init...\")"
   ]
  },
  {
   "cell_type": "code",
   "execution_count": 4,
   "metadata": {
    "collapsed": true
   },
   "outputs": [],
   "source": [
    "def load_meta(directory, prefix, modeltype):\n",
    "    m_tr = pd.read_csv(directory+prefix+\"_train.csv\")\n",
    "    m_te = pd.read_csv(directory+prefix+\"_test.csv\")\n",
    "    data = pd.concat([m_tr, m_te], axis=0).reset_index(drop=True)\n",
    "    data.columns = [\"{}_{}_{}\".format(c, prefix, modeltype) if c!=\"SK_ID_CURR\" else c for c in data.columns]\n",
    "    return data\n",
    "\n",
    "def load_neptune(directory, modelname):\n",
    "    m_tr = pd.read_csv(directory+\"lightGBM_out_of_fold_train_predictions.csv\", usecols = [\"SK_ID_CURR\",\"lightGBM_prediction\"])\n",
    "    m_te = pd.read_csv(directory+\"lightGBM_out_of_fold_test_predictions.csv\", usecols = [\"SK_ID_CURR\",\"lightGBM_prediction\"])\n",
    "    m_te = m_te.groupby(\"SK_ID_CURR\")[\"lightGBM_prediction\"].mean().reset_index()\n",
    "    \n",
    "    data = pd.concat([m_tr, m_te], axis=0).reset_index(drop=True)\n",
    "    data.columns = [\"SK_ID_CURR\", \"neptune_{}\".format(modelname)]\n",
    "    return data\n",
    "\n",
    "def join_features(data, features):\n",
    "    for item in features:\n",
    "        data = data.merge(item, how = \"left\", on = \"SK_ID_CURR\")\n",
    "    return data\n",
    "\n",
    "def load_data(datafile):\n",
    "    global important_columns\n",
    "    colnames = [c.replace(\" \",\"_\") for c in pd.read_csv(datafile, nrows= 1).columns]\n",
    "    intersection = list(set(colnames).intersection(set(important_columns)))+[\"SK_ID_CURR\"]\n",
    "\n",
    "    df =  pd.read_csv(datafile, names = colnames, usecols = intersection, skiprows=1).dropna(axis=1, how=\"all\")\n",
    "    timer(\"Loaded {} with shape {} in \".format(datafile.split(\"/\")[-1], df.shape))\n",
    "    return df"
   ]
  },
  {
   "cell_type": "markdown",
   "metadata": {},
   "source": [
    "## Getting Feature Importance File"
   ]
  },
  {
   "cell_type": "code",
   "execution_count": 5,
   "metadata": {
    "collapsed": true
   },
   "outputs": [],
   "source": [
    "important_columns = pd.read_csv(\"../feature selector/importance/shap_importances.csv\")\n",
    "important_columns[\"feature\"] = important_columns[\"feature\"].apply(lambda x: x.replace(\" \",\"_\"))\n",
    "important_columns = important_columns.loc[important_columns.shapely_mean > 0.0].reset_index(drop=True)\n",
    "important_columns = important_columns.sort_values(by = \"shapely_mean\", ascending = False).reset_index(drop=True)\n",
    "important_columns = important_columns.loc[0:3].feature.values.tolist()"
   ]
  },
  {
   "cell_type": "markdown",
   "metadata": {},
   "source": [
    "## Loading Features"
   ]
  },
  {
   "cell_type": "code",
   "execution_count": 6,
   "metadata": {},
   "outputs": [
    {
     "name": "stdout",
     "output_type": "stream",
     "text": [
      "Loaded application_features_V2.csv with shape (356255, 5) in  : 5.94688200951 seconds\n",
      "Loaded bureau_features_V1.csv with shape (305811, 1) in  : 5.52722811699 seconds\n",
      "Loaded credit_card_features_V1.csv with shape (103558, 1) in  : 10.1691598892 seconds\n",
      "Loaded installment_features_V1.csv with shape (339587, 1) in  : 24.5087480545 seconds\n",
      "Loaded pos_cash_features_V1.csv with shape (337252, 1) in  : 17.2392170429 seconds\n",
      "Loaded previous_application_features_V1.csv with shape (338857, 1) in  : 15.2878460884 seconds\n",
      "Loaded credit_card_features_V3.csv with shape (103558, 1) in  : 16.7036290169 seconds\n",
      "Loaded installment_features_V3.csv with shape (339587, 1) in  : 21.8799698353 seconds\n",
      "Loaded pos_cash_features_V3.csv with shape (337252, 1) in  : 6.37836503983 seconds\n",
      "Loaded previous_application_features_V3.csv with shape (338857, 1) in  : 8.11299610138 seconds\n"
     ]
    }
   ],
   "source": [
    "applications = load_data(\"../extractor/csv/application_features_V2.csv\")\n",
    "bureau_balance_bb = load_data(\"../extractor/csv/bureau_features_V1.csv\")\n",
    "credit_card_balance = load_data(\"../extractor/csv/credit_card_features_V1.csv\")\n",
    "installment_features = load_data(\"../extractor/csv/installment_features_V1.csv\")\n",
    "pos_cash_balance = load_data(\"../extractor/csv/pos_cash_features_V1.csv\")\n",
    "previous_apps = load_data(\"../extractor/csv/previous_application_features_V1.csv\")\n",
    "\n",
    "credit_card_balance_v3 = load_data(\"../extractor/csv/credit_card_features_V3.csv\")\n",
    "installment_features_v3 = load_data(\"../extractor/csv/installment_features_V3.csv\")\n",
    "pos_cash_balance_v3 = load_data(\"../extractor/csv/pos_cash_features_V3.csv\")\n",
    "previous_apps_v3 = load_data(\"../extractor/csv/previous_application_features_V3.csv\")\n",
    "\n",
    "base_features = [applications, bureau_balance_bb, credit_card_balance, installment_features, pos_cash_balance,previous_apps, credit_card_balance_v3,installment_features_v3,pos_cash_balance_v3, previous_apps_v3]"
   ]
  },
  {
   "cell_type": "code",
   "execution_count": 7,
   "metadata": {
    "collapsed": true
   },
   "outputs": [],
   "source": [
    "tree_meta_features = [\n",
    "    load_meta(\"../base trees/csv/\", \"application\", \"trees\"),\n",
    "    load_meta(\"../base trees/csv/\", \"bureau_balance_bb\", \"trees\"),\n",
    "    load_meta(\"../base trees/csv/\", \"credit_card_balance\", \"trees\"),\n",
    "    load_meta(\"../base trees/csv/\", \"installment\", \"trees\"),\n",
    "    load_meta(\"../base trees/csv/\", \"pos_cash_balance\", \"trees\"),\n",
    "    load_meta(\"../base trees/csv/\", \"previous_apps\", \"trees\"),\n",
    "]\n",
    "\n",
    "lr_meta_features = [\n",
    "    load_meta(\"../base lr/csv/\", \"application\", \"lr\"),\n",
    "    load_meta(\"../base lr/csv/\", \"bureau_balance_bb\", \"lr\"),\n",
    "    load_meta(\"../base lr/csv/\", \"credit_card_balance\", \"lr\"),\n",
    "    load_meta(\"../base lr/csv/\", \"installment\", \"lr\"),\n",
    "    load_meta(\"../base lr/csv/\", \"pos_cash_balance\", \"lr\"),\n",
    "    load_meta(\"../base lr/csv/\", \"previous_apps\", \"lr\"),\n",
    "]\n",
    "\n",
    "nb_meta_features = [\n",
    "    load_meta(\"../base nb/csv/\", \"application\", \"nb\"),\n",
    "    load_meta(\"../base nb/csv/\", \"bureau_balance_bb\", \"nb\"),\n",
    "    load_meta(\"../base nb/csv/\", \"credit_card_balance\", \"nb\"),\n",
    "    load_meta(\"../base nb/csv/\", \"installment\", \"nb\"),\n",
    "    load_meta(\"../base nb/csv/\", \"pos_cash_balance\", \"nb\"),\n",
    "    load_meta(\"../base nb/csv/\", \"previous_apps\", \"nb\"),\n",
    "]\n",
    "\n",
    "neptune_features = [\n",
    "    load_neptune(\"../base neptune/m1/csv/\", \"m1\"),\n",
    "    load_neptune(\"../base neptune/m2/csv/\", \"m2\"),\n",
    "    load_neptune(\"../base neptune/m3/csv/\", \"m3\"),\n",
    "    load_neptune(\"../base neptune/m4/csv/\", \"m4\"),\n",
    "]\n",
    "\n",
    "mixture_models = [\n",
    "    load_meta(\"../base mixtures/csv/\", \"knn_on_selected_pca\", \"mixtures\"),\n",
    "    load_meta(\"../base mixtures/csv/\", \"lgbm_on_core_features\", \"mixtures\"),\n",
    "    load_meta(\"../base mixtures/csv/\", \"lgbm_on_gp_features\", \"mixtures\"),\n",
    "    load_meta(\"../base mixtures/csv/\", \"lr_on_core_features\", \"mixtures\"),\n",
    "    load_meta(\"../base mixtures/csv/\", \"nn\", \"mixtures\"),\n",
    "    load_meta(\"../base mixtures/csv/\", \"using_lags_bureau_data\", \"mixtures\"),\n",
    "\n",
    "]\n",
    "\n",
    "l1_features = [\n",
    "    load_meta(\"../l1/csv/\", \"l1_gnb\", \"l1\"),\n",
    "    load_meta(\"../l1/csv/\", \"l1_lr\", \"l1\"),\n",
    "    load_meta(\"../l1/csv/\", \"l1_tree_with_flags\", \"l1\"),\n",
    "    load_meta(\"../l1/csv/\", \"l1_tree_without_flags\", \"l1\"),\n",
    "    load_meta(\"../l1/csv/\", \"tree_with_flags_without_meta\", \"l1\"),\n",
    "    load_meta(\"../l1/csv/\", \"tree_without_flags_without_meta\", \"l1\"),\n",
    "    load_meta(\"../l1/csv/\", \"tree_on_core_features_with_meta\", \"l1\"),\n",
    "]\n",
    "\n",
    "l2_features = [\n",
    "    load_meta(\"../l2/csv/\", \"tree_on_l1_and_basemixtures_neptune_1\", \"l2\"),\n",
    "    load_meta(\"../l2/csv/\", \"tree_on_l1_and_basemixtures_neptune_2\", \"l2\"),\n",
    "]\n",
    "\n",
    "final_models = [\n",
    "    load_meta(\"../final_models/csv/\", \"my500_neptuneselected_meta\", \"final_models\"),\n",
    "    load_meta(\"../final_models/csv/\", \"my500_neptuneselected_nometa\", \"final_models\"),\n",
    "]"
   ]
  },
  {
   "cell_type": "markdown",
   "metadata": {},
   "source": [
    "## Joining All Files"
   ]
  },
  {
   "cell_type": "code",
   "execution_count": 8,
   "metadata": {
    "collapsed": true
   },
   "outputs": [],
   "source": [
    "train = pd.read_csv(\"../data/application_train.csv\", usecols = [\"SK_ID_CURR\",\"TARGET\"])\n",
    "test = pd.read_csv(\"../data/application_test.csv\", usecols = [\"SK_ID_CURR\"])\n",
    "\n",
    "data = pd.concat([train, test], axis=0).reset_index(drop=True)\n",
    "data = join_features(data, base_features)\n",
    "data = join_features(data, tree_meta_features)\n",
    "data = join_features(data, lr_meta_features)\n",
    "data = join_features(data, nb_meta_features)\n",
    "data = join_features(data, neptune_features)\n",
    "data = join_features(data, mixture_models)\n",
    "data = join_features(data, l1_features)\n",
    "data = join_features(data, l2_features)\n",
    "data = join_features(data, final_models)\n",
    "\n",
    "del base_features,applications, bureau_balance_bb, credit_card_balance, installment_features, pos_cash_balance,previous_apps, credit_card_balance_v3,installment_features_v3,pos_cash_balance_v3, previous_apps_v3\n",
    "gc.collect()\n",
    "\n",
    "train = data.loc[data.TARGET.notnull()].reset_index(drop=True)\n",
    "test = data.loc[data.TARGET.isnull()].reset_index(drop=True)\n",
    "\n",
    "train_id = train[[\"SK_ID_CURR\"]]\n",
    "test_id = test[[\"SK_ID_CURR\"]]\n",
    "test_id_rank = test[[\"SK_ID_CURR\"]]\n",
    "target =train.TARGET\n",
    "\n",
    "train.drop([\"SK_ID_CURR\", \"TARGET\"], axis=1, inplace=True)\n",
    "test.drop([\"SK_ID_CURR\",\"TARGET\"], axis=1, inplace = True)"
   ]
  },
  {
   "cell_type": "markdown",
   "metadata": {},
   "source": [
    "# Defining Model"
   ]
  },
  {
   "cell_type": "code",
   "execution_count": 9,
   "metadata": {
    "collapsed": true
   },
   "outputs": [],
   "source": [
    "from catboost import CatBoostClassifier\n",
    "def model_tree(x_train, x_test, y_train, y_test, test, meta_train, meta_test,train_index, test_index,fold_id):\n",
    "    model = CatBoostClassifier(thread_count = 16,iterations=1000,learning_rate=0.05,depth=5,l2_leaf_reg=40,bootstrap_type='Bernoulli',subsample=0.7,scale_pos_weight=5,eval_metric='AUC',metric_period=50,od_type='Iter',od_wait=45, random_seed=17, allow_writing_files=False)\n",
    "    model.fit(x_train, y_train, eval_set=(x_test, y_test),use_best_model=True,verbose=True)\n",
    "    \n",
    "    meta_train[test_index] = model.predict_proba(x_test)[:,1]\n",
    "    meta_test.append(model.predict_proba(test)[:,1])\n",
    "        \n",
    "    global fold_roc\n",
    "    fold_roc.append(roc_auc_score(y_test, meta_train[test_index]))\n",
    " "
   ]
  },
  {
   "cell_type": "markdown",
   "metadata": {},
   "source": [
    "# Training Model"
   ]
  },
  {
   "cell_type": "code",
   "execution_count": 10,
   "metadata": {
    "scrolled": true
   },
   "outputs": [
    {
     "name": "stdout",
     "output_type": "stream",
     "text": [
      "Warning: Parameter 'use_best_model' is true, thus evaluation metric iscalculated on every iteration. 'metric_period' is ignored for evaluation metric.\n",
      "0:\ttest: 0.7870240\tbest: 0.7870240 (0)\ttotal: 170ms\tremaining: 2m 50s\n",
      "50:\ttest: 0.7987612\tbest: 0.7987612 (50)\ttotal: 4.47s\tremaining: 1m 23s\n",
      "100:\ttest: 0.7998072\tbest: 0.7998072 (100)\ttotal: 7.83s\tremaining: 1m 9s\n",
      "150:\ttest: 0.8009001\tbest: 0.8009001 (150)\ttotal: 11.1s\tremaining: 1m 2s\n",
      "200:\ttest: 0.8016155\tbest: 0.8016155 (200)\ttotal: 14.8s\tremaining: 58.7s\n",
      "250:\ttest: 0.8021512\tbest: 0.8021512 (250)\ttotal: 18.2s\tremaining: 54.3s\n",
      "300:\ttest: 0.8024553\tbest: 0.8024553 (300)\ttotal: 21.5s\tremaining: 49.8s\n",
      "350:\ttest: 0.8027949\tbest: 0.8027949 (350)\ttotal: 24.7s\tremaining: 45.6s\n",
      "400:\ttest: 0.8031205\tbest: 0.8031205 (400)\ttotal: 28s\tremaining: 41.8s\n",
      "450:\ttest: 0.8033179\tbest: 0.8033179 (450)\ttotal: 31.3s\tremaining: 38.1s\n",
      "500:\ttest: 0.8034070\tbest: 0.8034070 (500)\ttotal: 34.7s\tremaining: 34.5s\n",
      "550:\ttest: 0.8036061\tbest: 0.8036061 (550)\ttotal: 37.9s\tremaining: 30.9s\n",
      "600:\ttest: 0.8035977\tbest: 0.8036061 (550)\ttotal: 41.4s\tremaining: 27.5s\n",
      "Stopped by overfitting detector  (45 iterations wait)\n",
      "\n",
      "bestTest = 0.8036061469\n",
      "bestIteration = 550\n",
      "\n",
      "Shrink model to first 551 iterations.\n",
      "Warning: Parameter 'use_best_model' is true, thus evaluation metric iscalculated on every iteration. 'metric_period' is ignored for evaluation metric.\n",
      "0:\ttest: 0.7795405\tbest: 0.7795405 (0)\ttotal: 69.6ms\tremaining: 1m 9s\n",
      "50:\ttest: 0.7947645\tbest: 0.7947645 (50)\ttotal: 3.54s\tremaining: 1m 5s\n",
      "100:\ttest: 0.7956421\tbest: 0.7956421 (100)\ttotal: 6.95s\tremaining: 1m 1s\n",
      "150:\ttest: 0.7969308\tbest: 0.7969308 (150)\ttotal: 10.2s\tremaining: 57.4s\n",
      "200:\ttest: 0.7981633\tbest: 0.7981633 (200)\ttotal: 14.7s\tremaining: 58.6s\n",
      "250:\ttest: 0.7984573\tbest: 0.7984573 (250)\ttotal: 18.3s\tremaining: 54.5s\n",
      "300:\ttest: 0.7989464\tbest: 0.7989464 (300)\ttotal: 21.6s\tremaining: 50.2s\n",
      "350:\ttest: 0.7991623\tbest: 0.7991623 (350)\ttotal: 27.1s\tremaining: 50s\n",
      "400:\ttest: 0.7993791\tbest: 0.7993791 (400)\ttotal: 33.7s\tremaining: 50.4s\n",
      "450:\ttest: 0.7996634\tbest: 0.7996634 (450)\ttotal: 40.2s\tremaining: 48.9s\n",
      "500:\ttest: 0.8000666\tbest: 0.8000666 (500)\ttotal: 46.4s\tremaining: 46.2s\n",
      "550:\ttest: 0.8003079\tbest: 0.8003079 (550)\ttotal: 52.8s\tremaining: 43s\n",
      "600:\ttest: 0.8002518\tbest: 0.8003079 (550)\ttotal: 59.2s\tremaining: 39.3s\n",
      "Stopped by overfitting detector  (45 iterations wait)\n",
      "\n",
      "bestTest = 0.8003078759\n",
      "bestIteration = 550\n",
      "\n",
      "Shrink model to first 551 iterations.\n",
      "Warning: Parameter 'use_best_model' is true, thus evaluation metric iscalculated on every iteration. 'metric_period' is ignored for evaluation metric.\n",
      "0:\ttest: 0.7927935\tbest: 0.7927935 (0)\ttotal: 152ms\tremaining: 2m 31s\n",
      "50:\ttest: 0.8073823\tbest: 0.8073823 (50)\ttotal: 6.71s\tremaining: 2m 4s\n",
      "100:\ttest: 0.8086561\tbest: 0.8086561 (100)\ttotal: 13.3s\tremaining: 1m 58s\n",
      "150:\ttest: 0.8096724\tbest: 0.8096724 (150)\ttotal: 19.5s\tremaining: 1m 49s\n",
      "200:\ttest: 0.8106587\tbest: 0.8106587 (200)\ttotal: 25.9s\tremaining: 1m 42s\n",
      "250:\ttest: 0.8111440\tbest: 0.8111440 (250)\ttotal: 31.8s\tremaining: 1m 34s\n",
      "300:\ttest: 0.8114795\tbest: 0.8114795 (300)\ttotal: 35.4s\tremaining: 1m 22s\n",
      "350:\ttest: 0.8117585\tbest: 0.8117585 (350)\ttotal: 39s\tremaining: 1m 12s\n",
      "400:\ttest: 0.8121218\tbest: 0.8121218 (400)\ttotal: 42.7s\tremaining: 1m 3s\n",
      "450:\ttest: 0.8124346\tbest: 0.8124346 (450)\ttotal: 46.3s\tremaining: 56.4s\n",
      "500:\ttest: 0.8126767\tbest: 0.8126767 (500)\ttotal: 49.9s\tremaining: 49.7s\n",
      "550:\ttest: 0.8128284\tbest: 0.8128284 (550)\ttotal: 53.5s\tremaining: 43.6s\n",
      "600:\ttest: 0.8131346\tbest: 0.8131346 (600)\ttotal: 57.1s\tremaining: 37.9s\n",
      "650:\ttest: 0.8132020\tbest: 0.8132020 (650)\ttotal: 1m\tremaining: 32.5s\n",
      "700:\ttest: 0.8132892\tbest: 0.8132892 (700)\ttotal: 1m 4s\tremaining: 27.3s\n",
      "750:\ttest: 0.8132977\tbest: 0.8132977 (750)\ttotal: 1m 7s\tremaining: 22.4s\n",
      "Stopped by overfitting detector  (45 iterations wait)\n",
      "\n",
      "bestTest = 0.8132977315\n",
      "bestIteration = 750\n",
      "\n",
      "Shrink model to first 751 iterations.\n",
      "Warning: Parameter 'use_best_model' is true, thus evaluation metric iscalculated on every iteration. 'metric_period' is ignored for evaluation metric.\n",
      "0:\ttest: 0.7756718\tbest: 0.7756718 (0)\ttotal: 77.3ms\tremaining: 1m 17s\n",
      "50:\ttest: 0.7924821\tbest: 0.7924821 (50)\ttotal: 3.56s\tremaining: 1m 6s\n",
      "100:\ttest: 0.7927898\tbest: 0.7927898 (100)\ttotal: 7.14s\tremaining: 1m 3s\n",
      "150:\ttest: 0.7939718\tbest: 0.7939718 (150)\ttotal: 11.8s\tremaining: 1m 6s\n",
      "200:\ttest: 0.7948965\tbest: 0.7948965 (200)\ttotal: 15.3s\tremaining: 1m\n",
      "250:\ttest: 0.7956514\tbest: 0.7956514 (250)\ttotal: 19.8s\tremaining: 59s\n",
      "300:\ttest: 0.7958227\tbest: 0.7958227 (300)\ttotal: 25.9s\tremaining: 1m\n",
      "350:\ttest: 0.7959891\tbest: 0.7959891 (350)\ttotal: 32s\tremaining: 59.2s\n",
      "400:\ttest: 0.7961969\tbest: 0.7961969 (400)\ttotal: 38.1s\tremaining: 56.9s\n",
      "450:\ttest: 0.7964399\tbest: 0.7964399 (450)\ttotal: 44.1s\tremaining: 53.7s\n",
      "500:\ttest: 0.7966040\tbest: 0.7966040 (500)\ttotal: 50.2s\tremaining: 50s\n",
      "Stopped by overfitting detector  (45 iterations wait)\n",
      "\n",
      "bestTest = 0.7966039884\n",
      "bestIteration = 500\n",
      "\n",
      "Shrink model to first 501 iterations.\n",
      "Warning: Parameter 'use_best_model' is true, thus evaluation metric iscalculated on every iteration. 'metric_period' is ignored for evaluation metric.\n",
      "0:\ttest: 0.7929165\tbest: 0.7929165 (0)\ttotal: 108ms\tremaining: 1m 47s\n",
      "50:\ttest: 0.8069083\tbest: 0.8069083 (50)\ttotal: 6.41s\tremaining: 1m 59s\n",
      "100:\ttest: 0.8081999\tbest: 0.8081999 (100)\ttotal: 12.6s\tremaining: 1m 52s\n",
      "150:\ttest: 0.8092592\tbest: 0.8092592 (150)\ttotal: 17.9s\tremaining: 1m 40s\n",
      "200:\ttest: 0.8103019\tbest: 0.8103019 (200)\ttotal: 21.5s\tremaining: 1m 25s\n",
      "250:\ttest: 0.8110308\tbest: 0.8110308 (250)\ttotal: 25.2s\tremaining: 1m 15s\n",
      "300:\ttest: 0.8114268\tbest: 0.8114268 (300)\ttotal: 28.8s\tremaining: 1m 6s\n",
      "350:\ttest: 0.8116352\tbest: 0.8116352 (350)\ttotal: 32.4s\tremaining: 60s\n",
      "400:\ttest: 0.8118328\tbest: 0.8118328 (400)\ttotal: 36.1s\tremaining: 53.9s\n",
      "450:\ttest: 0.8120880\tbest: 0.8120880 (450)\ttotal: 39.7s\tremaining: 48.3s\n",
      "500:\ttest: 0.8121894\tbest: 0.8121894 (500)\ttotal: 43.3s\tremaining: 43.1s\n",
      "550:\ttest: 0.8122918\tbest: 0.8122918 (550)\ttotal: 46.9s\tremaining: 38.2s\n",
      "600:\ttest: 0.8124707\tbest: 0.8124707 (600)\ttotal: 50.5s\tremaining: 33.5s\n",
      "650:\ttest: 0.8125805\tbest: 0.8125805 (650)\ttotal: 54s\tremaining: 29s\n",
      "Stopped by overfitting detector  (45 iterations wait)\n",
      "\n",
      "bestTest = 0.8125804695\n",
      "bestIteration = 650\n",
      "\n",
      "Shrink model to first 651 iterations.\n",
      "Warning: Parameter 'use_best_model' is true, thus evaluation metric iscalculated on every iteration. 'metric_period' is ignored for evaluation metric.\n",
      "0:\ttest: 0.7834314\tbest: 0.7834314 (0)\ttotal: 71.3ms\tremaining: 1m 11s\n",
      "50:\ttest: 0.7980213\tbest: 0.7980213 (50)\ttotal: 4.83s\tremaining: 1m 29s\n",
      "100:\ttest: 0.7988049\tbest: 0.7988049 (100)\ttotal: 8.42s\tremaining: 1m 14s\n",
      "150:\ttest: 0.7992252\tbest: 0.7992252 (150)\ttotal: 12.5s\tremaining: 1m 10s\n",
      "200:\ttest: 0.8010046\tbest: 0.8010046 (200)\ttotal: 18.6s\tremaining: 1m 14s\n",
      "250:\ttest: 0.8016900\tbest: 0.8016900 (250)\ttotal: 25s\tremaining: 1m 14s\n",
      "300:\ttest: 0.8022019\tbest: 0.8022019 (300)\ttotal: 31.6s\tremaining: 1m 13s\n",
      "350:\ttest: 0.8024477\tbest: 0.8024477 (350)\ttotal: 38.1s\tremaining: 1m 10s\n",
      "Stopped by overfitting detector  (45 iterations wait)\n",
      "\n",
      "bestTest = 0.802447686\n",
      "bestIteration = 350\n",
      "\n",
      "Shrink model to first 351 iterations.\n",
      "Warning: Parameter 'use_best_model' is true, thus evaluation metric iscalculated on every iteration. 'metric_period' is ignored for evaluation metric.\n",
      "0:\ttest: 0.7880937\tbest: 0.7880937 (0)\ttotal: 91.4ms\tremaining: 1m 31s\n",
      "50:\ttest: 0.8063682\tbest: 0.8063682 (50)\ttotal: 6.48s\tremaining: 2m\n",
      "Stopped by overfitting detector  (45 iterations wait)\n",
      "\n",
      "bestTest = 0.806368247\n",
      "bestIteration = 50\n",
      "\n",
      "Shrink model to first 51 iterations.\n",
      "Warning: Parameter 'use_best_model' is true, thus evaluation metric iscalculated on every iteration. 'metric_period' is ignored for evaluation metric.\n",
      "0:\ttest: 0.7892899\tbest: 0.7892899 (0)\ttotal: 125ms\tremaining: 2m 4s\n",
      "50:\ttest: 0.8029452\tbest: 0.8029452 (50)\ttotal: 6.64s\tremaining: 2m 3s\n",
      "100:\ttest: 0.8034851\tbest: 0.8034851 (100)\ttotal: 13.1s\tremaining: 1m 56s\n",
      "150:\ttest: 0.8053712\tbest: 0.8053712 (150)\ttotal: 19.8s\tremaining: 1m 51s\n",
      "200:\ttest: 0.8059790\tbest: 0.8059790 (200)\ttotal: 25.3s\tremaining: 1m 40s\n",
      "250:\ttest: 0.8066584\tbest: 0.8066584 (250)\ttotal: 29.1s\tremaining: 1m 26s\n",
      "300:\ttest: 0.8069961\tbest: 0.8069961 (300)\ttotal: 33.3s\tremaining: 1m 17s\n"
     ]
    },
    {
     "name": "stdout",
     "output_type": "stream",
     "text": [
      "350:\ttest: 0.8072393\tbest: 0.8072393 (350)\ttotal: 37.1s\tremaining: 1m 8s\n",
      "400:\ttest: 0.8075784\tbest: 0.8075784 (400)\ttotal: 40.7s\tremaining: 1m\n",
      "450:\ttest: 0.8078699\tbest: 0.8078699 (450)\ttotal: 44.2s\tremaining: 53.8s\n",
      "500:\ttest: 0.8080631\tbest: 0.8080631 (500)\ttotal: 47.6s\tremaining: 47.4s\n",
      "550:\ttest: 0.8081712\tbest: 0.8081712 (550)\ttotal: 51.1s\tremaining: 41.6s\n",
      "600:\ttest: 0.8084095\tbest: 0.8084095 (600)\ttotal: 54.6s\tremaining: 36.3s\n",
      "650:\ttest: 0.8086285\tbest: 0.8086285 (650)\ttotal: 58.1s\tremaining: 31.1s\n",
      "700:\ttest: 0.8088712\tbest: 0.8088712 (700)\ttotal: 1m 1s\tremaining: 26.3s\n",
      "750:\ttest: 0.8089742\tbest: 0.8089742 (750)\ttotal: 1m 5s\tremaining: 21.6s\n",
      "800:\ttest: 0.8090414\tbest: 0.8090414 (800)\ttotal: 1m 9s\tremaining: 17.3s\n",
      "850:\ttest: 0.8090484\tbest: 0.8090484 (850)\ttotal: 1m 13s\tremaining: 12.8s\n",
      "Stopped by overfitting detector  (45 iterations wait)\n",
      "\n",
      "bestTest = 0.8090484259\n",
      "bestIteration = 850\n",
      "\n",
      "Shrink model to first 851 iterations.\n",
      "Warning: Parameter 'use_best_model' is true, thus evaluation metric iscalculated on every iteration. 'metric_period' is ignored for evaluation metric.\n",
      "0:\ttest: 0.7820835\tbest: 0.7820835 (0)\ttotal: 65.5ms\tremaining: 1m 5s\n",
      "50:\ttest: 0.7992150\tbest: 0.7992150 (50)\ttotal: 3.36s\tremaining: 1m 2s\n",
      "100:\ttest: 0.8003312\tbest: 0.8003312 (100)\ttotal: 6.67s\tremaining: 59.4s\n",
      "150:\ttest: 0.8022062\tbest: 0.8022062 (150)\ttotal: 10.1s\tremaining: 56.7s\n",
      "200:\ttest: 0.8029255\tbest: 0.8029255 (200)\ttotal: 13.4s\tremaining: 53.3s\n",
      "250:\ttest: 0.8032400\tbest: 0.8032400 (250)\ttotal: 16.7s\tremaining: 49.7s\n",
      "300:\ttest: 0.8036411\tbest: 0.8036411 (300)\ttotal: 20s\tremaining: 46.4s\n",
      "350:\ttest: 0.8038946\tbest: 0.8038946 (350)\ttotal: 23.2s\tremaining: 43s\n",
      "400:\ttest: 0.8040104\tbest: 0.8040104 (400)\ttotal: 26.5s\tremaining: 39.6s\n",
      "450:\ttest: 0.8043522\tbest: 0.8043522 (450)\ttotal: 29.7s\tremaining: 36.2s\n",
      "500:\ttest: 0.8043486\tbest: 0.8043522 (450)\ttotal: 33s\tremaining: 32.8s\n",
      "550:\ttest: 0.8045334\tbest: 0.8045334 (550)\ttotal: 36.1s\tremaining: 29.5s\n",
      "600:\ttest: 0.8045759\tbest: 0.8045759 (600)\ttotal: 39.4s\tremaining: 26.1s\n",
      "650:\ttest: 0.8045562\tbest: 0.8045759 (600)\ttotal: 42.6s\tremaining: 22.8s\n",
      "Stopped by overfitting detector  (45 iterations wait)\n",
      "\n",
      "bestTest = 0.8045758811\n",
      "bestIteration = 600\n",
      "\n",
      "Shrink model to first 601 iterations.\n",
      "Warning: Parameter 'use_best_model' is true, thus evaluation metric iscalculated on every iteration. 'metric_period' is ignored for evaluation metric.\n",
      "0:\ttest: 0.7825816\tbest: 0.7825816 (0)\ttotal: 77.7ms\tremaining: 1m 17s\n",
      "50:\ttest: 0.8006424\tbest: 0.8006424 (50)\ttotal: 3.35s\tremaining: 1m 2s\n",
      "100:\ttest: 0.8021259\tbest: 0.8021259 (100)\ttotal: 6.66s\tremaining: 59.3s\n",
      "150:\ttest: 0.8032150\tbest: 0.8032150 (150)\ttotal: 9.93s\tremaining: 55.8s\n",
      "200:\ttest: 0.8042161\tbest: 0.8042161 (200)\ttotal: 13.2s\tremaining: 52.6s\n",
      "250:\ttest: 0.8051085\tbest: 0.8051085 (250)\ttotal: 16.5s\tremaining: 49.2s\n",
      "300:\ttest: 0.8056539\tbest: 0.8056539 (300)\ttotal: 19.7s\tremaining: 45.8s\n",
      "350:\ttest: 0.8056888\tbest: 0.8056888 (350)\ttotal: 22.9s\tremaining: 42.4s\n",
      "Stopped by overfitting detector  (45 iterations wait)\n",
      "\n",
      "bestTest = 0.8056888328\n",
      "bestIteration = 350\n",
      "\n",
      "Shrink model to first 351 iterations.\n"
     ]
    },
    {
     "name": "stderr",
     "output_type": "stream",
     "text": [
      "/home/sakhtar0092/anaconda2/lib/python2.7/site-packages/ipykernel_launcher.py:13: SettingWithCopyWarning: \n",
      "A value is trying to be set on a copy of a slice from a DataFrame.\n",
      "Try using .loc[row_indexer,col_indexer] = value instead\n",
      "\n",
      "See the caveats in the documentation: http://pandas.pydata.org/pandas-docs/stable/indexing.html#indexing-view-versus-copy\n",
      "  del sys.path[0]\n",
      "/home/sakhtar0092/anaconda2/lib/python2.7/site-packages/ipykernel_launcher.py:14: SettingWithCopyWarning: \n",
      "A value is trying to be set on a copy of a slice from a DataFrame.\n",
      "Try using .loc[row_indexer,col_indexer] = value instead\n",
      "\n",
      "See the caveats in the documentation: http://pandas.pydata.org/pandas-docs/stable/indexing.html#indexing-view-versus-copy\n",
      "  \n",
      "/home/sakhtar0092/anaconda2/lib/python2.7/site-packages/ipykernel_launcher.py:15: SettingWithCopyWarning: \n",
      "A value is trying to be set on a copy of a slice from a DataFrame.\n",
      "Try using .loc[row_indexer,col_indexer] = value instead\n",
      "\n",
      "See the caveats in the documentation: http://pandas.pydata.org/pandas-docs/stable/indexing.html#indexing-view-versus-copy\n",
      "  from ipykernel import kernelapp as app\n"
     ]
    },
    {
     "name": "stdout",
     "output_type": "stream",
     "text": [
      "Overall ROC: 0.805216718597,  Mean ROC: 0.805452528497, STD AUC: 0.00494115815854\n"
     ]
    }
   ],
   "source": [
    "meta_train = np.zeros(train.shape[0])\n",
    "meta_test = []\n",
    "feature_importance = pd.DataFrame(columns = [\"feature\",\"split\",\"gain\"])\n",
    "fold_roc = []\n",
    "\n",
    "kf = StratifiedKFold(n_splits= 10, shuffle=True, random_state=12323)\n",
    "for fold_id, (train_index, test_index) in enumerate(kf.split(train, target)):\n",
    "    x_train, x_test = train.iloc[train_index], train.iloc[test_index]\n",
    "    y_train, y_test = target[train_index], target[test_index]\n",
    "\n",
    "    model_tree(x_train, x_test, y_train, y_test, test, meta_train, meta_test,train_index, test_index,fold_id)\n",
    "\n",
    "test_id[\"TARGET\"] = np.array(meta_test).T.mean(axis=1)\n",
    "test_id_rank[\"TARGET\"] = pd.DataFrame(np.array(meta_test).T).rank(pct = True).mean(axis=1)\n",
    "train_id[\"TARGET\"] = meta_train\n",
    "\n",
    "print \"Overall ROC: {},  Mean ROC: {}, STD AUC: {}\".format(roc_auc_score(target, meta_train), np.mean(fold_roc), np.std(fold_roc))"
   ]
  },
  {
   "cell_type": "code",
   "execution_count": 13,
   "metadata": {
    "collapsed": true
   },
   "outputs": [],
   "source": [
    "train_id.to_csv(\"csv/{}_train.csv\".format(model_name), index=False)\n",
    "test_id.to_csv(\"csv/{}_test.csv\".format(model_name), index=False)\n",
    "test_id_rank.to_csv(\"csv/{}_rank_test.csv\".format(model_name), index=False)"
   ]
  },
  {
   "cell_type": "code",
   "execution_count": 14,
   "metadata": {},
   "outputs": [
    {
     "data": {
      "text/plain": [
       "[0.8036061469006258,\n",
       " 0.8003078758615646,\n",
       " 0.8132977315183267,\n",
       " 0.7966039883760421,\n",
       " 0.8125804695460206,\n",
       " 0.8024476859516076,\n",
       " 0.8063682470202609,\n",
       " 0.8090484258701708,\n",
       " 0.8045758811112287,\n",
       " 0.8056888328097578]"
      ]
     },
     "execution_count": 14,
     "metadata": {},
     "output_type": "execute_result"
    }
   ],
   "source": [
    "fold_roc"
   ]
  },
  {
   "cell_type": "code",
   "execution_count": null,
   "metadata": {
    "collapsed": true
   },
   "outputs": [],
   "source": []
  },
  {
   "cell_type": "code",
   "execution_count": null,
   "metadata": {
    "collapsed": true
   },
   "outputs": [],
   "source": []
  },
  {
   "cell_type": "code",
   "execution_count": null,
   "metadata": {
    "collapsed": true
   },
   "outputs": [],
   "source": []
  },
  {
   "cell_type": "code",
   "execution_count": null,
   "metadata": {
    "collapsed": true
   },
   "outputs": [],
   "source": []
  },
  {
   "cell_type": "code",
   "execution_count": null,
   "metadata": {
    "collapsed": true
   },
   "outputs": [],
   "source": []
  },
  {
   "cell_type": "code",
   "execution_count": null,
   "metadata": {
    "collapsed": true
   },
   "outputs": [],
   "source": [
    "-"
   ]
  }
 ],
 "metadata": {
  "kernelspec": {
   "display_name": "Python 2",
   "language": "python",
   "name": "python2"
  },
  "language_info": {
   "codemirror_mode": {
    "name": "ipython",
    "version": 2
   },
   "file_extension": ".py",
   "mimetype": "text/x-python",
   "name": "python",
   "nbconvert_exporter": "python",
   "pygments_lexer": "ipython2",
   "version": "2.7.14"
  }
 },
 "nbformat": 4,
 "nbformat_minor": 2
}
