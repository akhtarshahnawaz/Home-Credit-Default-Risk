{
 "cells": [
  {
   "cell_type": "code",
   "execution_count": 1,
   "metadata": {
    "collapsed": true
   },
   "outputs": [],
   "source": [
    "model_name = \"with_top0_cb\""
   ]
  },
  {
   "cell_type": "code",
   "execution_count": 2,
   "metadata": {
    "collapsed": true
   },
   "outputs": [],
   "source": [
    "import numpy as np\n",
    "import pandas as pd\n",
    "import gc\n",
    "from time import time\n",
    "from contextlib import contextmanager\n",
    "from lightgbm import LGBMClassifier\n",
    "from sklearn.metrics import roc_auc_score, roc_curve\n",
    "from sklearn.model_selection import KFold, StratifiedKFold\n",
    "import matplotlib.pyplot as plt\n",
    "import seaborn as sns\n",
    "import warnings\n",
    "from sklearn.preprocessing import LabelEncoder,OneHotEncoder"
   ]
  },
  {
   "cell_type": "code",
   "execution_count": 3,
   "metadata": {},
   "outputs": [
    {
     "name": "stdout",
     "output_type": "stream",
     "text": [
      "Init... : 0.000195026397705 seconds\n"
     ]
    }
   ],
   "source": [
    "timesheet = [time()]\n",
    "def timer(statement):\n",
    "    global timesheet\n",
    "    timesheet.append(time())\n",
    "    print statement+\" :\", (timesheet[-1]-timesheet[-2]),\"seconds\"\n",
    "timer(\"Init...\")"
   ]
  },
  {
   "cell_type": "code",
   "execution_count": 4,
   "metadata": {
    "collapsed": true
   },
   "outputs": [],
   "source": [
    "def load_meta(directory, prefix, modeltype):\n",
    "    m_tr = pd.read_csv(directory+prefix+\"_train.csv\")\n",
    "    m_te = pd.read_csv(directory+prefix+\"_test.csv\")\n",
    "    data = pd.concat([m_tr, m_te], axis=0).reset_index(drop=True)\n",
    "    data.columns = [\"{}_{}_{}\".format(c, prefix, modeltype) if c!=\"SK_ID_CURR\" else c for c in data.columns]\n",
    "    return data\n",
    "\n",
    "def load_neptune(directory, modelname):\n",
    "    m_tr = pd.read_csv(directory+\"lightGBM_out_of_fold_train_predictions.csv\", usecols = [\"SK_ID_CURR\",\"lightGBM_prediction\"])\n",
    "    m_te = pd.read_csv(directory+\"lightGBM_out_of_fold_test_predictions.csv\", usecols = [\"SK_ID_CURR\",\"lightGBM_prediction\"])\n",
    "    m_te = m_te.groupby(\"SK_ID_CURR\")[\"lightGBM_prediction\"].mean().reset_index()\n",
    "    \n",
    "    data = pd.concat([m_tr, m_te], axis=0).reset_index(drop=True)\n",
    "    data.columns = [\"SK_ID_CURR\", \"neptune_{}\".format(modelname)]\n",
    "    return data\n",
    "\n",
    "def join_features(data, features):\n",
    "    for item in features:\n",
    "        data = data.merge(item, how = \"left\", on = \"SK_ID_CURR\")\n",
    "    return data\n",
    "\n",
    "def load_data(datafile):\n",
    "    global important_columns\n",
    "    colnames = [c.replace(\" \",\"_\") for c in pd.read_csv(datafile, nrows= 1).columns]\n",
    "    intersection = list(set(colnames).intersection(set(important_columns)))+[\"SK_ID_CURR\"]\n",
    "\n",
    "    df =  pd.read_csv(datafile, names = colnames, usecols = intersection, skiprows=1).dropna(axis=1, how=\"all\")\n",
    "    timer(\"Loaded {} with shape {} in \".format(datafile.split(\"/\")[-1], df.shape))\n",
    "    return df"
   ]
  },
  {
   "cell_type": "markdown",
   "metadata": {},
   "source": [
    "## Loading Features"
   ]
  },
  {
   "cell_type": "code",
   "execution_count": 5,
   "metadata": {
    "collapsed": true
   },
   "outputs": [],
   "source": [
    "tree_meta_features = [\n",
    "    load_meta(\"../base trees/csv/\", \"application\", \"trees\"),\n",
    "    load_meta(\"../base trees/csv/\", \"bureau_balance_bb\", \"trees\"),\n",
    "    load_meta(\"../base trees/csv/\", \"credit_card_balance\", \"trees\"),\n",
    "    load_meta(\"../base trees/csv/\", \"installment\", \"trees\"),\n",
    "    load_meta(\"../base trees/csv/\", \"pos_cash_balance\", \"trees\"),\n",
    "    load_meta(\"../base trees/csv/\", \"previous_apps\", \"trees\"),\n",
    "]\n",
    "\n",
    "lr_meta_features = [\n",
    "    load_meta(\"../base lr/csv/\", \"application\", \"lr\"),\n",
    "    load_meta(\"../base lr/csv/\", \"bureau_balance_bb\", \"lr\"),\n",
    "    load_meta(\"../base lr/csv/\", \"credit_card_balance\", \"lr\"),\n",
    "    load_meta(\"../base lr/csv/\", \"installment\", \"lr\"),\n",
    "    load_meta(\"../base lr/csv/\", \"pos_cash_balance\", \"lr\"),\n",
    "    load_meta(\"../base lr/csv/\", \"previous_apps\", \"lr\"),\n",
    "]\n",
    "\n",
    "nb_meta_features = [\n",
    "    load_meta(\"../base nb/csv/\", \"application\", \"nb\"),\n",
    "    load_meta(\"../base nb/csv/\", \"bureau_balance_bb\", \"nb\"),\n",
    "    load_meta(\"../base nb/csv/\", \"credit_card_balance\", \"nb\"),\n",
    "    load_meta(\"../base nb/csv/\", \"installment\", \"nb\"),\n",
    "    load_meta(\"../base nb/csv/\", \"pos_cash_balance\", \"nb\"),\n",
    "    load_meta(\"../base nb/csv/\", \"previous_apps\", \"nb\"),\n",
    "]\n",
    "\n",
    "neptune_features = [\n",
    "    load_neptune(\"../base neptune/m1/csv/\", \"m1\"),\n",
    "    load_neptune(\"../base neptune/m2/csv/\", \"m2\"),\n",
    "    load_neptune(\"../base neptune/m3/csv/\", \"m3\"),\n",
    "    load_neptune(\"../base neptune/m4/csv/\", \"m4\"),\n",
    "]\n",
    "\n",
    "mixture_models = [\n",
    "    load_meta(\"../base mixtures/csv/\", \"knn_on_selected_pca\", \"mixtures\"),\n",
    "    load_meta(\"../base mixtures/csv/\", \"lgbm_on_core_features\", \"mixtures\"),\n",
    "    load_meta(\"../base mixtures/csv/\", \"lgbm_on_gp_features\", \"mixtures\"),\n",
    "    load_meta(\"../base mixtures/csv/\", \"lr_on_core_features\", \"mixtures\"),\n",
    "    load_meta(\"../base mixtures/csv/\", \"nn\", \"mixtures\"),\n",
    "    load_meta(\"../base mixtures/csv/\", \"using_lags_bureau_data\", \"mixtures\"),\n",
    "\n",
    "]\n",
    "\n",
    "l1_features = [\n",
    "    load_meta(\"../l1/csv/\", \"l1_gnb\", \"l1\"),\n",
    "    load_meta(\"../l1/csv/\", \"l1_lr\", \"l1\"),\n",
    "    load_meta(\"../l1/csv/\", \"l1_tree_with_flags\", \"l1\"),\n",
    "    load_meta(\"../l1/csv/\", \"l1_tree_without_flags\", \"l1\"),\n",
    "    load_meta(\"../l1/csv/\", \"tree_with_flags_without_meta\", \"l1\"),\n",
    "    load_meta(\"../l1/csv/\", \"tree_without_flags_without_meta\", \"l1\"),\n",
    "    load_meta(\"../l1/csv/\", \"tree_on_core_features_with_meta\", \"l1\"),\n",
    "]\n",
    "\n",
    "l2_features = [\n",
    "    load_meta(\"../l2/csv/\", \"tree_on_l1_and_basemixtures_neptune_1\", \"l2\"),\n",
    "    load_meta(\"../l2/csv/\", \"tree_on_l1_and_basemixtures_neptune_2\", \"l2\"),\n",
    "]\n",
    "\n",
    "final_models = [\n",
    "    load_meta(\"../final_models/csv/\", \"my500_neptuneselected_meta\", \"final_models\"),\n",
    "    load_meta(\"../final_models/csv/\", \"my500_neptuneselected_nometa\", \"final_models\"),\n",
    "]"
   ]
  },
  {
   "cell_type": "markdown",
   "metadata": {},
   "source": [
    "## Joining All Files"
   ]
  },
  {
   "cell_type": "code",
   "execution_count": 6,
   "metadata": {
    "collapsed": true
   },
   "outputs": [],
   "source": [
    "train = pd.read_csv(\"../data/application_train.csv\", usecols = [\"SK_ID_CURR\",\"TARGET\"])\n",
    "test = pd.read_csv(\"../data/application_test.csv\", usecols = [\"SK_ID_CURR\"])\n",
    "\n",
    "data = pd.concat([train, test], axis=0).reset_index(drop=True)\n",
    "data = join_features(data, tree_meta_features)\n",
    "data = join_features(data, lr_meta_features)\n",
    "data = join_features(data, nb_meta_features)\n",
    "data = join_features(data, neptune_features)\n",
    "data = join_features(data, mixture_models)\n",
    "data = join_features(data, l1_features)\n",
    "data = join_features(data, l2_features)\n",
    "data = join_features(data, final_models)\n",
    "\n",
    "\n",
    "train = data.loc[data.TARGET.notnull()].reset_index(drop=True)\n",
    "test = data.loc[data.TARGET.isnull()].reset_index(drop=True)\n",
    "\n",
    "train_id = train[[\"SK_ID_CURR\"]]\n",
    "test_id = test[[\"SK_ID_CURR\"]]\n",
    "test_id_rank = test[[\"SK_ID_CURR\"]]\n",
    "target =train.TARGET\n",
    "\n",
    "train.drop([\"SK_ID_CURR\", \"TARGET\"], axis=1, inplace=True)\n",
    "test.drop([\"SK_ID_CURR\",\"TARGET\"], axis=1, inplace = True)"
   ]
  },
  {
   "cell_type": "markdown",
   "metadata": {},
   "source": [
    "# Defining Model"
   ]
  },
  {
   "cell_type": "code",
   "execution_count": 7,
   "metadata": {
    "collapsed": true
   },
   "outputs": [],
   "source": [
    "from catboost import CatBoostClassifier\n",
    "def model_tree(x_train, x_test, y_train, y_test, test, meta_train, meta_test,train_index, test_index,fold_id):\n",
    "    model = CatBoostClassifier(thread_count = 16,iterations=1000,learning_rate=0.05,depth=5,l2_leaf_reg=40,bootstrap_type='Bernoulli',subsample=0.7,scale_pos_weight=5,eval_metric='AUC',metric_period=50,od_type='Iter',od_wait=45, random_seed=17, allow_writing_files=False)\n",
    "    model.fit(x_train, y_train, eval_set=(x_test, y_test),use_best_model=True,verbose=True)\n",
    "    \n",
    "    meta_train[test_index] = model.predict_proba(x_test)[:,1]\n",
    "    meta_test.append(model.predict_proba(test)[:,1])\n",
    "        \n",
    "    global fold_roc\n",
    "    fold_roc.append(roc_auc_score(y_test, meta_train[test_index]))\n",
    " "
   ]
  },
  {
   "cell_type": "markdown",
   "metadata": {},
   "source": [
    "# Training Model"
   ]
  },
  {
   "cell_type": "code",
   "execution_count": 8,
   "metadata": {
    "scrolled": true
   },
   "outputs": [
    {
     "name": "stdout",
     "output_type": "stream",
     "text": [
      "Warning: Parameter 'use_best_model' is true, thus evaluation metric iscalculated on every iteration. 'metric_period' is ignored for evaluation metric.\n",
      "0:\ttest: 0.7837946\tbest: 0.7837946 (0)\ttotal: 126ms\tremaining: 2m 5s\n",
      "50:\ttest: 0.7990551\tbest: 0.7990551 (50)\ttotal: 3.62s\tremaining: 1m 7s\n",
      "100:\ttest: 0.7998303\tbest: 0.7998303 (100)\ttotal: 6.98s\tremaining: 1m 2s\n",
      "150:\ttest: 0.8008820\tbest: 0.8008820 (150)\ttotal: 12.2s\tremaining: 1m 8s\n",
      "200:\ttest: 0.8016824\tbest: 0.8016824 (200)\ttotal: 18.4s\tremaining: 1m 13s\n",
      "250:\ttest: 0.8022473\tbest: 0.8022473 (250)\ttotal: 24.4s\tremaining: 1m 12s\n",
      "300:\ttest: 0.8025450\tbest: 0.8025450 (300)\ttotal: 30.4s\tremaining: 1m 10s\n",
      "350:\ttest: 0.8027284\tbest: 0.8027284 (350)\ttotal: 36.4s\tremaining: 1m 7s\n",
      "400:\ttest: 0.8028828\tbest: 0.8028828 (400)\ttotal: 42.6s\tremaining: 1m 3s\n",
      "450:\ttest: 0.8030244\tbest: 0.8030244 (450)\ttotal: 48.1s\tremaining: 58.6s\n",
      "500:\ttest: 0.8031989\tbest: 0.8031989 (500)\ttotal: 51.7s\tremaining: 51.5s\n",
      "550:\ttest: 0.8032045\tbest: 0.8032045 (550)\ttotal: 55.3s\tremaining: 45.1s\n",
      "600:\ttest: 0.8032897\tbest: 0.8032897 (600)\ttotal: 59s\tremaining: 39.2s\n",
      "650:\ttest: 0.8032782\tbest: 0.8032897 (600)\ttotal: 1m 2s\tremaining: 33.6s\n",
      "Stopped by overfitting detector  (45 iterations wait)\n",
      "\n",
      "bestTest = 0.8032896718\n",
      "bestIteration = 600\n",
      "\n",
      "Shrink model to first 601 iterations.\n",
      "Warning: Parameter 'use_best_model' is true, thus evaluation metric iscalculated on every iteration. 'metric_period' is ignored for evaluation metric.\n",
      "0:\ttest: 0.7785141\tbest: 0.7785141 (0)\ttotal: 80.2ms\tremaining: 1m 20s\n",
      "50:\ttest: 0.7948533\tbest: 0.7948533 (50)\ttotal: 3.54s\tremaining: 1m 5s\n",
      "100:\ttest: 0.7964057\tbest: 0.7964057 (100)\ttotal: 6.96s\tremaining: 1m 1s\n",
      "150:\ttest: 0.7975926\tbest: 0.7975926 (150)\ttotal: 10.4s\tremaining: 58.5s\n",
      "200:\ttest: 0.7982560\tbest: 0.7982560 (200)\ttotal: 13.9s\tremaining: 55.3s\n",
      "250:\ttest: 0.7986596\tbest: 0.7986596 (250)\ttotal: 17.3s\tremaining: 51.5s\n",
      "300:\ttest: 0.7989050\tbest: 0.7989050 (300)\ttotal: 20.9s\tremaining: 48.5s\n",
      "350:\ttest: 0.7990061\tbest: 0.7990061 (350)\ttotal: 24.2s\tremaining: 44.7s\n",
      "400:\ttest: 0.7991354\tbest: 0.7991354 (400)\ttotal: 27.7s\tremaining: 41.3s\n",
      "Stopped by overfitting detector  (45 iterations wait)\n",
      "\n",
      "bestTest = 0.7991354048\n",
      "bestIteration = 400\n",
      "\n",
      "Shrink model to first 401 iterations.\n",
      "Warning: Parameter 'use_best_model' is true, thus evaluation metric iscalculated on every iteration. 'metric_period' is ignored for evaluation metric.\n",
      "0:\ttest: 0.7925090\tbest: 0.7925090 (0)\ttotal: 75.2ms\tremaining: 1m 15s\n",
      "50:\ttest: 0.8066790\tbest: 0.8066790 (50)\ttotal: 4.1s\tremaining: 1m 16s\n",
      "100:\ttest: 0.8077347\tbest: 0.8077347 (100)\ttotal: 8.42s\tremaining: 1m 14s\n",
      "150:\ttest: 0.8092746\tbest: 0.8092746 (150)\ttotal: 12s\tremaining: 1m 7s\n",
      "200:\ttest: 0.8107636\tbest: 0.8107636 (200)\ttotal: 17.6s\tremaining: 1m 10s\n",
      "250:\ttest: 0.8114099\tbest: 0.8114099 (250)\ttotal: 23.4s\tremaining: 1m 9s\n",
      "300:\ttest: 0.8118040\tbest: 0.8118040 (300)\ttotal: 29.7s\tremaining: 1m 8s\n",
      "350:\ttest: 0.8121050\tbest: 0.8121050 (350)\ttotal: 35.6s\tremaining: 1m 5s\n",
      "400:\ttest: 0.8124142\tbest: 0.8124142 (400)\ttotal: 42s\tremaining: 1m 2s\n",
      "450:\ttest: 0.8125160\tbest: 0.8125160 (450)\ttotal: 48.3s\tremaining: 58.8s\n",
      "500:\ttest: 0.8126064\tbest: 0.8126064 (500)\ttotal: 54.5s\tremaining: 54.2s\n",
      "550:\ttest: 0.8127587\tbest: 0.8127587 (550)\ttotal: 1m\tremaining: 49.6s\n",
      "600:\ttest: 0.8128292\tbest: 0.8128292 (600)\ttotal: 1m 7s\tremaining: 44.5s\n",
      "650:\ttest: 0.8130632\tbest: 0.8130632 (650)\ttotal: 1m 13s\tremaining: 39.4s\n",
      "700:\ttest: 0.8131588\tbest: 0.8131588 (700)\ttotal: 1m 19s\tremaining: 33.9s\n",
      "Stopped by overfitting detector  (45 iterations wait)\n",
      "\n",
      "bestTest = 0.8131587839\n",
      "bestIteration = 700\n",
      "\n",
      "Shrink model to first 701 iterations.\n",
      "Warning: Parameter 'use_best_model' is true, thus evaluation metric iscalculated on every iteration. 'metric_period' is ignored for evaluation metric.\n",
      "0:\ttest: 0.7751482\tbest: 0.7751482 (0)\ttotal: 97.4ms\tremaining: 1m 37s\n",
      "50:\ttest: 0.7914429\tbest: 0.7914429 (50)\ttotal: 6.3s\tremaining: 1m 57s\n",
      "100:\ttest: 0.7921141\tbest: 0.7921141 (100)\ttotal: 12.6s\tremaining: 1m 51s\n",
      "150:\ttest: 0.7936218\tbest: 0.7936218 (150)\ttotal: 19s\tremaining: 1m 46s\n",
      "200:\ttest: 0.7947692\tbest: 0.7947692 (200)\ttotal: 25.3s\tremaining: 1m 40s\n",
      "250:\ttest: 0.7954526\tbest: 0.7954526 (250)\ttotal: 30.5s\tremaining: 1m 30s\n",
      "Stopped by overfitting detector  (45 iterations wait)\n",
      "\n",
      "bestTest = 0.7954525739\n",
      "bestIteration = 250\n",
      "\n",
      "Shrink model to first 251 iterations.\n",
      "Warning: Parameter 'use_best_model' is true, thus evaluation metric iscalculated on every iteration. 'metric_period' is ignored for evaluation metric.\n",
      "0:\ttest: 0.7885145\tbest: 0.7885145 (0)\ttotal: 71ms\tremaining: 1m 10s\n",
      "50:\ttest: 0.8068188\tbest: 0.8068188 (50)\ttotal: 3.64s\tremaining: 1m 7s\n",
      "100:\ttest: 0.8080054\tbest: 0.8080054 (100)\ttotal: 7.18s\tremaining: 1m 3s\n",
      "150:\ttest: 0.8093701\tbest: 0.8093701 (150)\ttotal: 10.6s\tremaining: 59.8s\n",
      "200:\ttest: 0.8106678\tbest: 0.8106678 (200)\ttotal: 14s\tremaining: 55.5s\n",
      "250:\ttest: 0.8111938\tbest: 0.8111938 (250)\ttotal: 17.4s\tremaining: 51.8s\n",
      "300:\ttest: 0.8118400\tbest: 0.8118400 (300)\ttotal: 20.8s\tremaining: 48.2s\n",
      "350:\ttest: 0.8120334\tbest: 0.8120334 (350)\ttotal: 24.1s\tremaining: 44.5s\n",
      "400:\ttest: 0.8121135\tbest: 0.8121135 (400)\ttotal: 27.4s\tremaining: 40.9s\n",
      "Stopped by overfitting detector  (45 iterations wait)\n",
      "\n",
      "bestTest = 0.81211345\n",
      "bestIteration = 400\n",
      "\n",
      "Shrink model to first 401 iterations.\n",
      "Warning: Parameter 'use_best_model' is true, thus evaluation metric iscalculated on every iteration. 'metric_period' is ignored for evaluation metric.\n",
      "0:\ttest: 0.7836688\tbest: 0.7836688 (0)\ttotal: 69.8ms\tremaining: 1m 9s\n",
      "50:\ttest: 0.7983344\tbest: 0.7983344 (50)\ttotal: 3.6s\tremaining: 1m 7s\n",
      "100:\ttest: 0.7993133\tbest: 0.7993133 (100)\ttotal: 7.25s\tremaining: 1m 4s\n",
      "150:\ttest: 0.8000183\tbest: 0.8000183 (150)\ttotal: 11s\tremaining: 1m 1s\n",
      "200:\ttest: 0.8008299\tbest: 0.8008299 (200)\ttotal: 15.5s\tremaining: 1m 1s\n",
      "250:\ttest: 0.8014124\tbest: 0.8014124 (250)\ttotal: 18.9s\tremaining: 56.4s\n",
      "300:\ttest: 0.8019685\tbest: 0.8019685 (300)\ttotal: 23.3s\tremaining: 54.2s\n",
      "350:\ttest: 0.8022486\tbest: 0.8022486 (350)\ttotal: 29.7s\tremaining: 54.9s\n",
      "400:\ttest: 0.8023761\tbest: 0.8023761 (400)\ttotal: 35.8s\tremaining: 53.5s\n",
      "450:\ttest: 0.8024680\tbest: 0.8024680 (450)\ttotal: 42.1s\tremaining: 51.2s\n",
      "500:\ttest: 0.8028940\tbest: 0.8028940 (500)\ttotal: 48.4s\tremaining: 48.2s\n",
      "Stopped by overfitting detector  (45 iterations wait)\n",
      "\n",
      "bestTest = 0.8028940281\n",
      "bestIteration = 500\n",
      "\n",
      "Shrink model to first 501 iterations.\n",
      "Warning: Parameter 'use_best_model' is true, thus evaluation metric iscalculated on every iteration. 'metric_period' is ignored for evaluation metric.\n",
      "0:\ttest: 0.7887944\tbest: 0.7887944 (0)\ttotal: 148ms\tremaining: 2m 28s\n",
      "50:\ttest: 0.8065897\tbest: 0.8065897 (50)\ttotal: 6.46s\tremaining: 2m\n",
      "100:\ttest: 0.8072258\tbest: 0.8072258 (100)\ttotal: 12.7s\tremaining: 1m 52s\n",
      "150:\ttest: 0.8082108\tbest: 0.8082108 (150)\ttotal: 19s\tremaining: 1m 46s\n",
      "200:\ttest: 0.8087820\tbest: 0.8087820 (200)\ttotal: 25.4s\tremaining: 1m 41s\n",
      "250:\ttest: 0.8091504\tbest: 0.8091504 (250)\ttotal: 31.7s\tremaining: 1m 34s\n",
      "300:\ttest: 0.8093545\tbest: 0.8093545 (300)\ttotal: 38s\tremaining: 1m 28s\n",
      "350:\ttest: 0.8095026\tbest: 0.8095026 (350)\ttotal: 44.4s\tremaining: 1m 22s\n",
      "400:\ttest: 0.8097933\tbest: 0.8097933 (400)\ttotal: 48.6s\tremaining: 1m 12s\n",
      "450:\ttest: 0.8101523\tbest: 0.8101523 (450)\ttotal: 52.2s\tremaining: 1m 3s\n",
      "500:\ttest: 0.8103197\tbest: 0.8103197 (500)\ttotal: 55.8s\tremaining: 55.6s\n",
      "550:\ttest: 0.8103713\tbest: 0.8103713 (550)\ttotal: 59.5s\tremaining: 48.5s\n",
      "600:\ttest: 0.8105466\tbest: 0.8105466 (600)\ttotal: 1m 3s\tremaining: 41.8s\n",
      "650:\ttest: 0.8106574\tbest: 0.8106574 (650)\ttotal: 1m 6s\tremaining: 35.7s\n",
      "700:\ttest: 0.8106138\tbest: 0.8106574 (650)\ttotal: 1m 10s\tremaining: 30s\n",
      "Stopped by overfitting detector  (45 iterations wait)\n",
      "\n",
      "bestTest = 0.8106574069\n",
      "bestIteration = 650\n",
      "\n",
      "Shrink model to first 651 iterations.\n",
      "Warning: Parameter 'use_best_model' is true, thus evaluation metric iscalculated on every iteration. 'metric_period' is ignored for evaluation metric.\n",
      "0:\ttest: 0.7910962\tbest: 0.7910962 (0)\ttotal: 70.8ms\tremaining: 1m 10s\n",
      "50:\ttest: 0.8020653\tbest: 0.8020653 (50)\ttotal: 3.62s\tremaining: 1m 7s\n",
      "100:\ttest: 0.8035860\tbest: 0.8035860 (100)\ttotal: 7.04s\tremaining: 1m 2s\n",
      "150:\ttest: 0.8048330\tbest: 0.8048330 (150)\ttotal: 10.4s\tremaining: 58.4s\n",
      "200:\ttest: 0.8058397\tbest: 0.8058397 (200)\ttotal: 13.8s\tremaining: 54.8s\n"
     ]
    },
    {
     "name": "stdout",
     "output_type": "stream",
     "text": [
      "250:\ttest: 0.8066377\tbest: 0.8066377 (250)\ttotal: 17.2s\tremaining: 51.5s\n",
      "300:\ttest: 0.8072788\tbest: 0.8072788 (300)\ttotal: 20.7s\tremaining: 48s\n",
      "350:\ttest: 0.8077174\tbest: 0.8077174 (350)\ttotal: 25.3s\tremaining: 46.7s\n",
      "400:\ttest: 0.8079381\tbest: 0.8079381 (400)\ttotal: 28.7s\tremaining: 42.8s\n",
      "450:\ttest: 0.8082769\tbest: 0.8082769 (450)\ttotal: 32.2s\tremaining: 39.2s\n",
      "500:\ttest: 0.8087018\tbest: 0.8087018 (500)\ttotal: 37.5s\tremaining: 37.3s\n",
      "550:\ttest: 0.8089064\tbest: 0.8089064 (550)\ttotal: 43.6s\tremaining: 35.5s\n",
      "600:\ttest: 0.8090983\tbest: 0.8090983 (600)\ttotal: 49.9s\tremaining: 33.1s\n",
      "650:\ttest: 0.8092089\tbest: 0.8092089 (650)\ttotal: 56s\tremaining: 30s\n",
      "700:\ttest: 0.8092761\tbest: 0.8092761 (700)\ttotal: 1m 2s\tremaining: 26.5s\n",
      "Stopped by overfitting detector  (45 iterations wait)\n",
      "\n",
      "bestTest = 0.8092761444\n",
      "bestIteration = 700\n",
      "\n",
      "Shrink model to first 701 iterations.\n",
      "Warning: Parameter 'use_best_model' is true, thus evaluation metric iscalculated on every iteration. 'metric_period' is ignored for evaluation metric.\n",
      "0:\ttest: 0.7830027\tbest: 0.7830027 (0)\ttotal: 111ms\tremaining: 1m 50s\n",
      "50:\ttest: 0.7994292\tbest: 0.7994292 (50)\ttotal: 6.17s\tremaining: 1m 54s\n",
      "100:\ttest: 0.8012125\tbest: 0.8012125 (100)\ttotal: 12.5s\tremaining: 1m 51s\n",
      "150:\ttest: 0.8025612\tbest: 0.8025612 (150)\ttotal: 18.7s\tremaining: 1m 45s\n",
      "200:\ttest: 0.8032175\tbest: 0.8032175 (200)\ttotal: 24.7s\tremaining: 1m 38s\n",
      "250:\ttest: 0.8037225\tbest: 0.8037225 (250)\ttotal: 31s\tremaining: 1m 32s\n",
      "300:\ttest: 0.8038988\tbest: 0.8038988 (300)\ttotal: 37.3s\tremaining: 1m 26s\n",
      "350:\ttest: 0.8041057\tbest: 0.8041057 (350)\ttotal: 43.4s\tremaining: 1m 20s\n",
      "400:\ttest: 0.8043686\tbest: 0.8043686 (400)\ttotal: 49.5s\tremaining: 1m 13s\n",
      "450:\ttest: 0.8046126\tbest: 0.8046126 (450)\ttotal: 55.6s\tremaining: 1m 7s\n",
      "500:\ttest: 0.8046281\tbest: 0.8046281 (500)\ttotal: 1m 1s\tremaining: 1m 1s\n",
      "Stopped by overfitting detector  (45 iterations wait)\n",
      "\n",
      "bestTest = 0.8046281037\n",
      "bestIteration = 500\n",
      "\n",
      "Shrink model to first 501 iterations.\n",
      "Warning: Parameter 'use_best_model' is true, thus evaluation metric iscalculated on every iteration. 'metric_period' is ignored for evaluation metric.\n",
      "0:\ttest: 0.7846751\tbest: 0.7846751 (0)\ttotal: 91.9ms\tremaining: 1m 31s\n",
      "50:\ttest: 0.8007014\tbest: 0.8007014 (50)\ttotal: 6.57s\tremaining: 2m 2s\n",
      "100:\ttest: 0.8017550\tbest: 0.8017550 (100)\ttotal: 11s\tremaining: 1m 37s\n",
      "150:\ttest: 0.8034222\tbest: 0.8034222 (150)\ttotal: 14.7s\tremaining: 1m 22s\n",
      "200:\ttest: 0.8046865\tbest: 0.8046865 (200)\ttotal: 18.3s\tremaining: 1m 12s\n",
      "250:\ttest: 0.8056121\tbest: 0.8056121 (250)\ttotal: 22s\tremaining: 1m 5s\n",
      "300:\ttest: 0.8058051\tbest: 0.8058051 (300)\ttotal: 25.5s\tremaining: 59.3s\n",
      "350:\ttest: 0.8060697\tbest: 0.8060697 (350)\ttotal: 29.1s\tremaining: 53.9s\n",
      "400:\ttest: 0.8063522\tbest: 0.8063522 (400)\ttotal: 32.8s\tremaining: 49s\n",
      "450:\ttest: 0.8063137\tbest: 0.8063522 (400)\ttotal: 36.4s\tremaining: 44.4s\n",
      "Stopped by overfitting detector  (45 iterations wait)\n",
      "\n",
      "bestTest = 0.8063521911\n",
      "bestIteration = 400\n",
      "\n",
      "Shrink model to first 401 iterations.\n"
     ]
    },
    {
     "name": "stderr",
     "output_type": "stream",
     "text": [
      "/home/sakhtar0092/anaconda2/lib/python2.7/site-packages/ipykernel_launcher.py:13: SettingWithCopyWarning: \n",
      "A value is trying to be set on a copy of a slice from a DataFrame.\n",
      "Try using .loc[row_indexer,col_indexer] = value instead\n",
      "\n",
      "See the caveats in the documentation: http://pandas.pydata.org/pandas-docs/stable/indexing.html#indexing-view-versus-copy\n",
      "  del sys.path[0]\n",
      "/home/sakhtar0092/anaconda2/lib/python2.7/site-packages/ipykernel_launcher.py:14: SettingWithCopyWarning: \n",
      "A value is trying to be set on a copy of a slice from a DataFrame.\n",
      "Try using .loc[row_indexer,col_indexer] = value instead\n",
      "\n",
      "See the caveats in the documentation: http://pandas.pydata.org/pandas-docs/stable/indexing.html#indexing-view-versus-copy\n",
      "  \n",
      "/home/sakhtar0092/anaconda2/lib/python2.7/site-packages/ipykernel_launcher.py:15: SettingWithCopyWarning: \n",
      "A value is trying to be set on a copy of a slice from a DataFrame.\n",
      "Try using .loc[row_indexer,col_indexer] = value instead\n",
      "\n",
      "See the caveats in the documentation: http://pandas.pydata.org/pandas-docs/stable/indexing.html#indexing-view-versus-copy\n",
      "  from ipykernel import kernelapp as app\n"
     ]
    },
    {
     "name": "stdout",
     "output_type": "stream",
     "text": [
      "Overall ROC: 0.805658312047,  Mean ROC: 0.805695775873, STD AUC: 0.00545427757203\n"
     ]
    }
   ],
   "source": [
    "meta_train = np.zeros(train.shape[0])\n",
    "meta_test = []\n",
    "feature_importance = pd.DataFrame(columns = [\"feature\",\"split\",\"gain\"])\n",
    "fold_roc = []\n",
    "\n",
    "kf = StratifiedKFold(n_splits= 10, shuffle=True, random_state=12323)\n",
    "for fold_id, (train_index, test_index) in enumerate(kf.split(train, target)):\n",
    "    x_train, x_test = train.iloc[train_index], train.iloc[test_index]\n",
    "    y_train, y_test = target[train_index], target[test_index]\n",
    "\n",
    "    model_tree(x_train, x_test, y_train, y_test, test, meta_train, meta_test,train_index, test_index,fold_id)\n",
    "\n",
    "test_id[\"TARGET\"] = np.array(meta_test).T.mean(axis=1)\n",
    "test_id_rank[\"TARGET\"] = pd.DataFrame(np.array(meta_test).T).rank(pct = True).mean(axis=1)\n",
    "train_id[\"TARGET\"] = meta_train\n",
    "\n",
    "print \"Overall ROC: {},  Mean ROC: {}, STD AUC: {}\".format(roc_auc_score(target, meta_train), np.mean(fold_roc), np.std(fold_roc))"
   ]
  },
  {
   "cell_type": "code",
   "execution_count": 11,
   "metadata": {
    "collapsed": true
   },
   "outputs": [],
   "source": [
    "train_id.to_csv(\"csv/{}_train.csv\".format(model_name), index=False)\n",
    "test_id.to_csv(\"csv/{}_test.csv\".format(model_name), index=False)\n",
    "test_id_rank.to_csv(\"csv/{}_rank_test.csv\".format(model_name), index=False)"
   ]
  },
  {
   "cell_type": "code",
   "execution_count": 12,
   "metadata": {},
   "outputs": [
    {
     "data": {
      "text/plain": [
       "[0.8032896717595458,\n",
       " 0.7991354048450614,\n",
       " 0.813158783915421,\n",
       " 0.7954525739120967,\n",
       " 0.81211345002681,\n",
       " 0.8028940281306314,\n",
       " 0.8106574068826897,\n",
       " 0.8092761444021406,\n",
       " 0.8046281037250573,\n",
       " 0.8063521911320302]"
      ]
     },
     "execution_count": 12,
     "metadata": {},
     "output_type": "execute_result"
    }
   ],
   "source": [
    "fold_roc"
   ]
  },
  {
   "cell_type": "code",
   "execution_count": null,
   "metadata": {
    "collapsed": true
   },
   "outputs": [],
   "source": []
  },
  {
   "cell_type": "code",
   "execution_count": null,
   "metadata": {
    "collapsed": true
   },
   "outputs": [],
   "source": []
  },
  {
   "cell_type": "code",
   "execution_count": null,
   "metadata": {
    "collapsed": true
   },
   "outputs": [],
   "source": []
  },
  {
   "cell_type": "code",
   "execution_count": null,
   "metadata": {
    "collapsed": true
   },
   "outputs": [],
   "source": []
  },
  {
   "cell_type": "code",
   "execution_count": null,
   "metadata": {
    "collapsed": true
   },
   "outputs": [],
   "source": []
  },
  {
   "cell_type": "code",
   "execution_count": null,
   "metadata": {
    "collapsed": true
   },
   "outputs": [],
   "source": [
    "-"
   ]
  }
 ],
 "metadata": {
  "kernelspec": {
   "display_name": "Python 2",
   "language": "python",
   "name": "python2"
  },
  "language_info": {
   "codemirror_mode": {
    "name": "ipython",
    "version": 2
   },
   "file_extension": ".py",
   "mimetype": "text/x-python",
   "name": "python",
   "nbconvert_exporter": "python",
   "pygments_lexer": "ipython2",
   "version": "2.7.14"
  }
 },
 "nbformat": 4,
 "nbformat_minor": 2
}
