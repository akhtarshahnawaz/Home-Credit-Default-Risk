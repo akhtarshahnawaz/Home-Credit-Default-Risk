{
 "cells": [
  {
   "cell_type": "code",
   "execution_count": 1,
   "metadata": {
    "collapsed": true
   },
   "outputs": [],
   "source": [
    "model_name = \"with_top50\""
   ]
  },
  {
   "cell_type": "code",
   "execution_count": 2,
   "metadata": {
    "collapsed": true
   },
   "outputs": [],
   "source": [
    "import numpy as np\n",
    "import pandas as pd\n",
    "import gc\n",
    "from time import time\n",
    "from contextlib import contextmanager\n",
    "from lightgbm import LGBMClassifier\n",
    "from sklearn.metrics import roc_auc_score, roc_curve\n",
    "from sklearn.model_selection import KFold, StratifiedKFold\n",
    "import matplotlib.pyplot as plt\n",
    "import seaborn as sns\n",
    "import warnings\n",
    "from sklearn.preprocessing import LabelEncoder,OneHotEncoder"
   ]
  },
  {
   "cell_type": "code",
   "execution_count": 3,
   "metadata": {},
   "outputs": [
    {
     "name": "stdout",
     "output_type": "stream",
     "text": [
      "Init... : 0.000195980072021 seconds\n"
     ]
    }
   ],
   "source": [
    "timesheet = [time()]\n",
    "def timer(statement):\n",
    "    global timesheet\n",
    "    timesheet.append(time())\n",
    "    print statement+\" :\", (timesheet[-1]-timesheet[-2]),\"seconds\"\n",
    "timer(\"Init...\")"
   ]
  },
  {
   "cell_type": "code",
   "execution_count": 4,
   "metadata": {
    "collapsed": true
   },
   "outputs": [],
   "source": [
    "def load_meta(directory, prefix, modeltype):\n",
    "    m_tr = pd.read_csv(directory+prefix+\"_train.csv\")\n",
    "    m_te = pd.read_csv(directory+prefix+\"_test.csv\")\n",
    "    data = pd.concat([m_tr, m_te], axis=0).reset_index(drop=True)\n",
    "    data.columns = [\"{}_{}_{}\".format(c, prefix, modeltype) if c!=\"SK_ID_CURR\" else c for c in data.columns]\n",
    "    return data\n",
    "\n",
    "def load_neptune(directory, modelname):\n",
    "    m_tr = pd.read_csv(directory+\"lightGBM_out_of_fold_train_predictions.csv\", usecols = [\"SK_ID_CURR\",\"lightGBM_prediction\"])\n",
    "    m_te = pd.read_csv(directory+\"lightGBM_out_of_fold_test_predictions.csv\", usecols = [\"SK_ID_CURR\",\"lightGBM_prediction\"])\n",
    "    m_te = m_te.groupby(\"SK_ID_CURR\")[\"lightGBM_prediction\"].mean().reset_index()\n",
    "    \n",
    "    data = pd.concat([m_tr, m_te], axis=0).reset_index(drop=True)\n",
    "    data.columns = [\"SK_ID_CURR\", \"neptune_{}\".format(modelname)]\n",
    "    return data\n",
    "\n",
    "def join_features(data, features):\n",
    "    for item in features:\n",
    "        data = data.merge(item, how = \"left\", on = \"SK_ID_CURR\")\n",
    "    return data\n",
    "\n",
    "def load_data(datafile):\n",
    "    global important_columns\n",
    "    colnames = [c.replace(\" \",\"_\") for c in pd.read_csv(datafile, nrows= 1).columns]\n",
    "    intersection = list(set(colnames).intersection(set(important_columns)))+[\"SK_ID_CURR\"]\n",
    "\n",
    "    df =  pd.read_csv(datafile, names = colnames, usecols = intersection, skiprows=1).dropna(axis=1, how=\"all\")\n",
    "    timer(\"Loaded {} with shape {} in \".format(datafile.split(\"/\")[-1], df.shape))\n",
    "    return df"
   ]
  },
  {
   "cell_type": "markdown",
   "metadata": {},
   "source": [
    "## Getting Feature Importance File"
   ]
  },
  {
   "cell_type": "code",
   "execution_count": 5,
   "metadata": {
    "collapsed": true
   },
   "outputs": [],
   "source": [
    "important_columns = pd.read_csv(\"../feature selector/importance/shap_importances.csv\")\n",
    "important_columns[\"feature\"] = important_columns[\"feature\"].apply(lambda x: x.replace(\" \",\"_\"))\n",
    "important_columns = important_columns.loc[important_columns.shapely_mean > 0.0].reset_index(drop=True)\n",
    "important_columns = important_columns.sort_values(by = \"shapely_mean\", ascending = False).reset_index(drop=True)\n",
    "important_columns = important_columns.loc[0:50].feature.values.tolist()"
   ]
  },
  {
   "cell_type": "markdown",
   "metadata": {},
   "source": [
    "## Loading Features"
   ]
  },
  {
   "cell_type": "code",
   "execution_count": 6,
   "metadata": {},
   "outputs": [
    {
     "name": "stdout",
     "output_type": "stream",
     "text": [
      "Loaded application_features_V2.csv with shape (356255, 37) in  : 5.79180407524 seconds\n",
      "Loaded bureau_features_V1.csv with shape (305811, 8) in  : 5.85304999352 seconds\n",
      "Loaded credit_card_features_V1.csv with shape (103558, 2) in  : 9.99640798569 seconds\n",
      "Loaded installment_features_V1.csv with shape (339587, 5) in  : 24.521420002 seconds\n",
      "Loaded pos_cash_features_V1.csv with shape (337252, 1) in  : 17.1849339008 seconds\n",
      "Loaded previous_application_features_V1.csv with shape (338857, 4) in  : 15.4810271263 seconds\n",
      "Loaded credit_card_features_V3.csv with shape (103558, 1) in  : 16.6939918995 seconds\n",
      "Loaded installment_features_V3.csv with shape (339587, 1) in  : 21.4848649502 seconds\n",
      "Loaded pos_cash_features_V3.csv with shape (337252, 1) in  : 6.22949814796 seconds\n",
      "Loaded previous_application_features_V3.csv with shape (338857, 1) in  : 7.89449000359 seconds\n"
     ]
    }
   ],
   "source": [
    "applications = load_data(\"../extractor/csv/application_features_V2.csv\")\n",
    "bureau_balance_bb = load_data(\"../extractor/csv/bureau_features_V1.csv\")\n",
    "credit_card_balance = load_data(\"../extractor/csv/credit_card_features_V1.csv\")\n",
    "installment_features = load_data(\"../extractor/csv/installment_features_V1.csv\")\n",
    "pos_cash_balance = load_data(\"../extractor/csv/pos_cash_features_V1.csv\")\n",
    "previous_apps = load_data(\"../extractor/csv/previous_application_features_V1.csv\")\n",
    "\n",
    "credit_card_balance_v3 = load_data(\"../extractor/csv/credit_card_features_V3.csv\")\n",
    "installment_features_v3 = load_data(\"../extractor/csv/installment_features_V3.csv\")\n",
    "pos_cash_balance_v3 = load_data(\"../extractor/csv/pos_cash_features_V3.csv\")\n",
    "previous_apps_v3 = load_data(\"../extractor/csv/previous_application_features_V3.csv\")\n",
    "\n",
    "base_features = [applications, bureau_balance_bb, credit_card_balance, installment_features, pos_cash_balance,previous_apps, credit_card_balance_v3,installment_features_v3,pos_cash_balance_v3, previous_apps_v3]"
   ]
  },
  {
   "cell_type": "code",
   "execution_count": 7,
   "metadata": {
    "collapsed": true
   },
   "outputs": [],
   "source": [
    "tree_meta_features = [\n",
    "    load_meta(\"../base trees/csv/\", \"application\", \"trees\"),\n",
    "    load_meta(\"../base trees/csv/\", \"bureau_balance_bb\", \"trees\"),\n",
    "    load_meta(\"../base trees/csv/\", \"credit_card_balance\", \"trees\"),\n",
    "    load_meta(\"../base trees/csv/\", \"installment\", \"trees\"),\n",
    "    load_meta(\"../base trees/csv/\", \"pos_cash_balance\", \"trees\"),\n",
    "    load_meta(\"../base trees/csv/\", \"previous_apps\", \"trees\"),\n",
    "]\n",
    "\n",
    "lr_meta_features = [\n",
    "    load_meta(\"../base lr/csv/\", \"application\", \"lr\"),\n",
    "    load_meta(\"../base lr/csv/\", \"bureau_balance_bb\", \"lr\"),\n",
    "    load_meta(\"../base lr/csv/\", \"credit_card_balance\", \"lr\"),\n",
    "    load_meta(\"../base lr/csv/\", \"installment\", \"lr\"),\n",
    "    load_meta(\"../base lr/csv/\", \"pos_cash_balance\", \"lr\"),\n",
    "    load_meta(\"../base lr/csv/\", \"previous_apps\", \"lr\"),\n",
    "]\n",
    "\n",
    "nb_meta_features = [\n",
    "    load_meta(\"../base nb/csv/\", \"application\", \"nb\"),\n",
    "    load_meta(\"../base nb/csv/\", \"bureau_balance_bb\", \"nb\"),\n",
    "    load_meta(\"../base nb/csv/\", \"credit_card_balance\", \"nb\"),\n",
    "    load_meta(\"../base nb/csv/\", \"installment\", \"nb\"),\n",
    "    load_meta(\"../base nb/csv/\", \"pos_cash_balance\", \"nb\"),\n",
    "    load_meta(\"../base nb/csv/\", \"previous_apps\", \"nb\"),\n",
    "]\n",
    "\n",
    "neptune_features = [\n",
    "    load_neptune(\"../base neptune/m1/csv/\", \"m1\"),\n",
    "    load_neptune(\"../base neptune/m2/csv/\", \"m2\"),\n",
    "    load_neptune(\"../base neptune/m3/csv/\", \"m3\"),\n",
    "    load_neptune(\"../base neptune/m4/csv/\", \"m4\"),\n",
    "]\n",
    "\n",
    "mixture_models = [\n",
    "    load_meta(\"../base mixtures/csv/\", \"knn_on_selected_pca\", \"mixtures\"),\n",
    "    load_meta(\"../base mixtures/csv/\", \"lgbm_on_core_features\", \"mixtures\"),\n",
    "    load_meta(\"../base mixtures/csv/\", \"lgbm_on_gp_features\", \"mixtures\"),\n",
    "    load_meta(\"../base mixtures/csv/\", \"lr_on_core_features\", \"mixtures\"),\n",
    "    load_meta(\"../base mixtures/csv/\", \"nn\", \"mixtures\"),\n",
    "    load_meta(\"../base mixtures/csv/\", \"using_lags_bureau_data\", \"mixtures\"),\n",
    "\n",
    "]\n",
    "\n",
    "l1_features = [\n",
    "    load_meta(\"../l1/csv/\", \"l1_gnb\", \"l1\"),\n",
    "    load_meta(\"../l1/csv/\", \"l1_lr\", \"l1\"),\n",
    "    load_meta(\"../l1/csv/\", \"l1_tree_with_flags\", \"l1\"),\n",
    "    load_meta(\"../l1/csv/\", \"l1_tree_without_flags\", \"l1\"),\n",
    "    load_meta(\"../l1/csv/\", \"tree_with_flags_without_meta\", \"l1\"),\n",
    "    load_meta(\"../l1/csv/\", \"tree_without_flags_without_meta\", \"l1\"),\n",
    "    load_meta(\"../l1/csv/\", \"tree_on_core_features_with_meta\", \"l1\"),\n",
    "]\n",
    "\n",
    "l2_features = [\n",
    "    load_meta(\"../l2/csv/\", \"tree_on_l1_and_basemixtures_neptune_1\", \"l2\"),\n",
    "    load_meta(\"../l2/csv/\", \"tree_on_l1_and_basemixtures_neptune_2\", \"l2\"),\n",
    "]\n",
    "\n",
    "final_models = [\n",
    "    load_meta(\"../final_models/csv/\", \"my500_neptuneselected_meta\", \"final_models\"),\n",
    "    load_meta(\"../final_models/csv/\", \"my500_neptuneselected_nometa\", \"final_models\"),\n",
    "]"
   ]
  },
  {
   "cell_type": "markdown",
   "metadata": {},
   "source": [
    "## Joining All Files"
   ]
  },
  {
   "cell_type": "code",
   "execution_count": 8,
   "metadata": {
    "collapsed": true
   },
   "outputs": [],
   "source": [
    "train = pd.read_csv(\"../data/application_train.csv\", usecols = [\"SK_ID_CURR\",\"TARGET\"])\n",
    "test = pd.read_csv(\"../data/application_test.csv\", usecols = [\"SK_ID_CURR\"])\n",
    "\n",
    "data = pd.concat([train, test], axis=0).reset_index(drop=True)\n",
    "data = join_features(data, base_features)\n",
    "data = join_features(data, tree_meta_features)\n",
    "data = join_features(data, lr_meta_features)\n",
    "data = join_features(data, nb_meta_features)\n",
    "data = join_features(data, neptune_features)\n",
    "data = join_features(data, mixture_models)\n",
    "data = join_features(data, l1_features)\n",
    "data = join_features(data, l2_features)\n",
    "data = join_features(data, final_models)\n",
    "\n",
    "del base_features,applications, bureau_balance_bb, credit_card_balance, installment_features, pos_cash_balance,previous_apps, credit_card_balance_v3,installment_features_v3,pos_cash_balance_v3, previous_apps_v3\n",
    "gc.collect()\n",
    "\n",
    "train = data.loc[data.TARGET.notnull()].reset_index(drop=True)\n",
    "test = data.loc[data.TARGET.isnull()].reset_index(drop=True)\n",
    "\n",
    "train_id = train[[\"SK_ID_CURR\"]]\n",
    "test_id = test[[\"SK_ID_CURR\"]]\n",
    "test_id_rank = test[[\"SK_ID_CURR\"]]\n",
    "target =train.TARGET\n",
    "\n",
    "train.drop([\"SK_ID_CURR\", \"TARGET\"], axis=1, inplace=True)\n",
    "test.drop([\"SK_ID_CURR\",\"TARGET\"], axis=1, inplace = True)"
   ]
  },
  {
   "cell_type": "markdown",
   "metadata": {},
   "source": [
    "# Defining Model"
   ]
  },
  {
   "cell_type": "code",
   "execution_count": 9,
   "metadata": {
    "collapsed": true
   },
   "outputs": [],
   "source": [
    "import lightgbm as lgb\n",
    "def model_tree(x_train, x_test, y_train, y_test, test, meta_train, meta_test,train_index, test_index,fold_id):\n",
    "    dtrain = lgb.Dataset(x_train, label=y_train)\n",
    "    dval = lgb.Dataset(x_test, label=y_test)\n",
    "    params = {\n",
    "        'num_leaves': 14, #32\n",
    "        'reg_alpha': 0.04, \n",
    "        'n_jobs': -1, \n",
    "        'colsample_bytree': 0.7, \n",
    "        'silent': -1, \n",
    "        'subsample_for_bin': 200000, \n",
    "        'subsample_freq': 1, \n",
    "        'learning_rate': 0.02, # 0.02\n",
    "        'boosting_type': 'gbdt', \n",
    "        'nthread': 6, \n",
    "        'min_child_weight': 40, \n",
    "        'min_split_gain': 0.0222415, \n",
    "        'n_estimators': 10000, \n",
    "        'subsample': 1, \n",
    "        'reg_lambda': 10, \n",
    "        'objective': \"binary\", \n",
    "        'verbose': -1, \n",
    "        'min_child_samples': 20, \n",
    "        'max_depth': 3, #8\n",
    "        'class_weight': None,\n",
    "        \"bagging_seed\" : 3143,\n",
    "        \"seed\":1343,\n",
    "        \"metric\":\"auc\"\n",
    "    }\n",
    "    model = lgb.train(params, dtrain, num_boost_round=5000,valid_sets=[dtrain, dval], early_stopping_rounds=200, verbose_eval=100)\n",
    "    meta_train[test_index] = model.predict(x_test, num_iteration=model.best_iteration or 5000)\n",
    "    meta_test.append(model.predict(test, num_iteration=model.best_iteration or 5000))\n",
    "    \n",
    "    global fold_roc\n",
    "    fold_roc.append(roc_auc_score(y_test, meta_train[test_index]))\n",
    "    # Calculate Feature Importance\n",
    "    global feature_importance\n",
    "    gain = model.feature_importance('gain')\n",
    "    fold_feature_importance = pd.DataFrame({'feature':model.feature_name(), 'split':model.feature_importance('split'), 'gain':100 * gain / gain.sum()})\n",
    "    feature_importance = feature_importance.append(fold_feature_importance, ignore_index=True) "
   ]
  },
  {
   "cell_type": "markdown",
   "metadata": {},
   "source": [
    "# Training Model"
   ]
  },
  {
   "cell_type": "code",
   "execution_count": 10,
   "metadata": {
    "scrolled": true
   },
   "outputs": [
    {
     "name": "stderr",
     "output_type": "stream",
     "text": [
      "/home/sakhtar0092/anaconda2/lib/python2.7/site-packages/lightgbm/engine.py:99: UserWarning: Found `n_estimators` in params. Will use it instead of argument\n",
      "  warnings.warn(\"Found `{}` in params. Will use it instead of argument\".format(alias))\n",
      "/home/sakhtar0092/anaconda2/lib/python2.7/site-packages/lightgbm/basic.py:657: UserWarning: silent keyword has been found in `params` and will be ignored. Please use silent argument of the Dataset constructor to pass this parameter.\n",
      "  'Please use {0} argument of the Dataset constructor to pass this parameter.'.format(key))\n"
     ]
    },
    {
     "name": "stdout",
     "output_type": "stream",
     "text": [
      "Training until validation scores don't improve for 200 rounds.\n",
      "[100]\ttraining's auc: 0.80102\tvalid_1's auc: 0.79743\n",
      "[200]\ttraining's auc: 0.802043\tvalid_1's auc: 0.798171\n",
      "[300]\ttraining's auc: 0.80318\tvalid_1's auc: 0.798821\n",
      "[400]\ttraining's auc: 0.804223\tvalid_1's auc: 0.799174\n",
      "[500]\ttraining's auc: 0.804886\tvalid_1's auc: 0.799259\n",
      "[600]\ttraining's auc: 0.805664\tvalid_1's auc: 0.799391\n",
      "[700]\ttraining's auc: 0.806475\tvalid_1's auc: 0.799573\n",
      "[800]\ttraining's auc: 0.807378\tvalid_1's auc: 0.799722\n",
      "[900]\ttraining's auc: 0.808172\tvalid_1's auc: 0.799865\n",
      "[1000]\ttraining's auc: 0.808932\tvalid_1's auc: 0.799878\n",
      "[1100]\ttraining's auc: 0.809858\tvalid_1's auc: 0.800041\n",
      "[1200]\ttraining's auc: 0.810825\tvalid_1's auc: 0.800172\n",
      "[1300]\ttraining's auc: 0.811686\tvalid_1's auc: 0.800277\n",
      "[1400]\ttraining's auc: 0.81248\tvalid_1's auc: 0.800345\n",
      "[1500]\ttraining's auc: 0.813229\tvalid_1's auc: 0.800314\n",
      "Early stopping, best iteration is:\n",
      "[1384]\ttraining's auc: 0.812364\tvalid_1's auc: 0.800357\n",
      "Training until validation scores don't improve for 200 rounds.\n",
      "[100]\ttraining's auc: 0.801516\tvalid_1's auc: 0.794304\n",
      "[200]\ttraining's auc: 0.802472\tvalid_1's auc: 0.794838\n",
      "[300]\ttraining's auc: 0.803704\tvalid_1's auc: 0.795084\n",
      "[400]\ttraining's auc: 0.804766\tvalid_1's auc: 0.79531\n",
      "[500]\ttraining's auc: 0.805539\tvalid_1's auc: 0.795334\n",
      "[600]\ttraining's auc: 0.806385\tvalid_1's auc: 0.795372\n",
      "[700]\ttraining's auc: 0.807348\tvalid_1's auc: 0.795582\n",
      "[800]\ttraining's auc: 0.808136\tvalid_1's auc: 0.795731\n",
      "[900]\ttraining's auc: 0.808893\tvalid_1's auc: 0.795789\n",
      "[1000]\ttraining's auc: 0.8096\tvalid_1's auc: 0.79584\n",
      "[1100]\ttraining's auc: 0.810313\tvalid_1's auc: 0.79588\n",
      "[1200]\ttraining's auc: 0.811005\tvalid_1's auc: 0.79585\n",
      "[1300]\ttraining's auc: 0.811694\tvalid_1's auc: 0.795828\n",
      "Early stopping, best iteration is:\n",
      "[1107]\ttraining's auc: 0.810398\tvalid_1's auc: 0.795934\n",
      "Training until validation scores don't improve for 200 rounds.\n",
      "[100]\ttraining's auc: 0.800082\tvalid_1's auc: 0.8056\n",
      "[200]\ttraining's auc: 0.801185\tvalid_1's auc: 0.806205\n",
      "[300]\ttraining's auc: 0.802392\tvalid_1's auc: 0.806774\n",
      "[400]\ttraining's auc: 0.803371\tvalid_1's auc: 0.807013\n",
      "[500]\ttraining's auc: 0.8041\tvalid_1's auc: 0.807042\n",
      "[600]\ttraining's auc: 0.804972\tvalid_1's auc: 0.807029\n",
      "[700]\ttraining's auc: 0.805744\tvalid_1's auc: 0.807073\n",
      "[800]\ttraining's auc: 0.806699\tvalid_1's auc: 0.807279\n",
      "[900]\ttraining's auc: 0.807588\tvalid_1's auc: 0.807422\n",
      "[1000]\ttraining's auc: 0.808342\tvalid_1's auc: 0.807494\n",
      "[1100]\ttraining's auc: 0.809083\tvalid_1's auc: 0.807504\n",
      "[1200]\ttraining's auc: 0.809839\tvalid_1's auc: 0.807528\n",
      "[1300]\ttraining's auc: 0.810641\tvalid_1's auc: 0.80764\n",
      "[1400]\ttraining's auc: 0.811355\tvalid_1's auc: 0.807685\n",
      "[1500]\ttraining's auc: 0.812048\tvalid_1's auc: 0.807658\n",
      "[1600]\ttraining's auc: 0.812848\tvalid_1's auc: 0.807717\n",
      "[1700]\ttraining's auc: 0.813605\tvalid_1's auc: 0.807744\n",
      "[1800]\ttraining's auc: 0.814332\tvalid_1's auc: 0.807766\n",
      "[1900]\ttraining's auc: 0.815003\tvalid_1's auc: 0.807765\n",
      "[2000]\ttraining's auc: 0.815777\tvalid_1's auc: 0.807785\n",
      "[2100]\ttraining's auc: 0.81648\tvalid_1's auc: 0.807789\n",
      "Early stopping, best iteration is:\n",
      "[1913]\ttraining's auc: 0.815129\tvalid_1's auc: 0.807801\n",
      "Training until validation scores don't improve for 200 rounds.\n",
      "[100]\ttraining's auc: 0.801844\tvalid_1's auc: 0.791264\n",
      "[200]\ttraining's auc: 0.802812\tvalid_1's auc: 0.791626\n",
      "[300]\ttraining's auc: 0.804066\tvalid_1's auc: 0.791709\n",
      "[400]\ttraining's auc: 0.805075\tvalid_1's auc: 0.791753\n",
      "[500]\ttraining's auc: 0.805873\tvalid_1's auc: 0.791749\n",
      "[600]\ttraining's auc: 0.806905\tvalid_1's auc: 0.792093\n",
      "[700]\ttraining's auc: 0.807798\tvalid_1's auc: 0.792262\n",
      "[800]\ttraining's auc: 0.808623\tvalid_1's auc: 0.792336\n",
      "[900]\ttraining's auc: 0.809436\tvalid_1's auc: 0.792352\n",
      "[1000]\ttraining's auc: 0.810359\tvalid_1's auc: 0.792614\n",
      "[1100]\ttraining's auc: 0.811111\tvalid_1's auc: 0.792592\n",
      "Early stopping, best iteration is:\n",
      "[987]\ttraining's auc: 0.810234\tvalid_1's auc: 0.792649\n",
      "Training until validation scores don't improve for 200 rounds.\n",
      "[100]\ttraining's auc: 0.800318\tvalid_1's auc: 0.805552\n",
      "[200]\ttraining's auc: 0.801228\tvalid_1's auc: 0.806133\n",
      "[300]\ttraining's auc: 0.802486\tvalid_1's auc: 0.806551\n",
      "[400]\ttraining's auc: 0.803513\tvalid_1's auc: 0.806834\n",
      "[500]\ttraining's auc: 0.804335\tvalid_1's auc: 0.807018\n",
      "[600]\ttraining's auc: 0.805329\tvalid_1's auc: 0.807314\n",
      "[700]\ttraining's auc: 0.806289\tvalid_1's auc: 0.807612\n",
      "[800]\ttraining's auc: 0.807161\tvalid_1's auc: 0.807804\n",
      "[900]\ttraining's auc: 0.808063\tvalid_1's auc: 0.807961\n",
      "[1000]\ttraining's auc: 0.808808\tvalid_1's auc: 0.807989\n",
      "[1100]\ttraining's auc: 0.809533\tvalid_1's auc: 0.807927\n",
      "Early stopping, best iteration is:\n",
      "[927]\ttraining's auc: 0.808302\tvalid_1's auc: 0.80803\n",
      "Training until validation scores don't improve for 200 rounds.\n",
      "[100]\ttraining's auc: 0.801234\tvalid_1's auc: 0.796862\n",
      "[200]\ttraining's auc: 0.802183\tvalid_1's auc: 0.797392\n",
      "[300]\ttraining's auc: 0.803349\tvalid_1's auc: 0.797724\n",
      "[400]\ttraining's auc: 0.804395\tvalid_1's auc: 0.797769\n",
      "[500]\ttraining's auc: 0.805137\tvalid_1's auc: 0.797702\n",
      "Early stopping, best iteration is:\n",
      "[354]\ttraining's auc: 0.80393\tvalid_1's auc: 0.797807\n",
      "Training until validation scores don't improve for 200 rounds.\n",
      "[100]\ttraining's auc: 0.80038\tvalid_1's auc: 0.80455\n",
      "[200]\ttraining's auc: 0.801277\tvalid_1's auc: 0.80515\n",
      "[300]\ttraining's auc: 0.802561\tvalid_1's auc: 0.805231\n",
      "[400]\ttraining's auc: 0.803589\tvalid_1's auc: 0.80524\n",
      "[500]\ttraining's auc: 0.804427\tvalid_1's auc: 0.805148\n",
      "Early stopping, best iteration is:\n",
      "[339]\ttraining's auc: 0.803017\tvalid_1's auc: 0.805275\n",
      "Training until validation scores don't improve for 200 rounds.\n",
      "[100]\ttraining's auc: 0.800729\tvalid_1's auc: 0.801946\n",
      "[200]\ttraining's auc: 0.801605\tvalid_1's auc: 0.802512\n",
      "[300]\ttraining's auc: 0.802862\tvalid_1's auc: 0.802525\n",
      "[400]\ttraining's auc: 0.803913\tvalid_1's auc: 0.802662\n",
      "[500]\ttraining's auc: 0.804704\tvalid_1's auc: 0.802779\n",
      "[600]\ttraining's auc: 0.805795\tvalid_1's auc: 0.803109\n",
      "[700]\ttraining's auc: 0.806871\tvalid_1's auc: 0.803428\n",
      "[800]\ttraining's auc: 0.807643\tvalid_1's auc: 0.803486\n",
      "[900]\ttraining's auc: 0.80846\tvalid_1's auc: 0.803633\n",
      "[1000]\ttraining's auc: 0.809198\tvalid_1's auc: 0.803701\n",
      "[1100]\ttraining's auc: 0.809922\tvalid_1's auc: 0.803825\n",
      "[1200]\ttraining's auc: 0.810642\tvalid_1's auc: 0.803881\n",
      "[1300]\ttraining's auc: 0.81139\tvalid_1's auc: 0.803971\n",
      "[1400]\ttraining's auc: 0.812117\tvalid_1's auc: 0.804057\n",
      "[1500]\ttraining's auc: 0.81289\tvalid_1's auc: 0.804118\n",
      "[1600]\ttraining's auc: 0.813674\tvalid_1's auc: 0.8042\n",
      "[1700]\ttraining's auc: 0.814345\tvalid_1's auc: 0.804135\n",
      "[1800]\ttraining's auc: 0.815011\tvalid_1's auc: 0.804146\n",
      "Early stopping, best iteration is:\n",
      "[1607]\ttraining's auc: 0.813741\tvalid_1's auc: 0.804217\n",
      "Training until validation scores don't improve for 200 rounds.\n",
      "[100]\ttraining's auc: 0.800869\tvalid_1's auc: 0.798345\n",
      "[200]\ttraining's auc: 0.802016\tvalid_1's auc: 0.798798\n",
      "[300]\ttraining's auc: 0.803188\tvalid_1's auc: 0.799336\n",
      "[400]\ttraining's auc: 0.804168\tvalid_1's auc: 0.799727\n",
      "[500]\ttraining's auc: 0.805273\tvalid_1's auc: 0.800177\n",
      "[600]\ttraining's auc: 0.806297\tvalid_1's auc: 0.80041\n",
      "[700]\ttraining's auc: 0.807328\tvalid_1's auc: 0.800673\n",
      "[800]\ttraining's auc: 0.808152\tvalid_1's auc: 0.800788\n",
      "[900]\ttraining's auc: 0.809014\tvalid_1's auc: 0.800953\n",
      "[1000]\ttraining's auc: 0.809707\tvalid_1's auc: 0.800991\n",
      "[1100]\ttraining's auc: 0.810286\tvalid_1's auc: 0.801058\n",
      "[1200]\ttraining's auc: 0.810929\tvalid_1's auc: 0.801071\n",
      "[1300]\ttraining's auc: 0.811561\tvalid_1's auc: 0.801081\n",
      "[1400]\ttraining's auc: 0.812234\tvalid_1's auc: 0.801106\n",
      "[1500]\ttraining's auc: 0.813004\tvalid_1's auc: 0.801148\n",
      "[1600]\ttraining's auc: 0.813801\tvalid_1's auc: 0.801168\n",
      "[1700]\ttraining's auc: 0.814459\tvalid_1's auc: 0.801185\n",
      "[1800]\ttraining's auc: 0.815134\tvalid_1's auc: 0.801191\n",
      "Early stopping, best iteration is:\n",
      "[1654]\ttraining's auc: 0.814125\tvalid_1's auc: 0.801219\n",
      "Training until validation scores don't improve for 200 rounds.\n",
      "[100]\ttraining's auc: 0.800851\tvalid_1's auc: 0.79918\n",
      "[200]\ttraining's auc: 0.801824\tvalid_1's auc: 0.800203\n",
      "[300]\ttraining's auc: 0.802974\tvalid_1's auc: 0.800776\n",
      "[400]\ttraining's auc: 0.803908\tvalid_1's auc: 0.801036\n",
      "[500]\ttraining's auc: 0.804599\tvalid_1's auc: 0.801193\n",
      "[600]\ttraining's auc: 0.805445\tvalid_1's auc: 0.8013\n"
     ]
    },
    {
     "name": "stdout",
     "output_type": "stream",
     "text": [
      "[700]\ttraining's auc: 0.806538\tvalid_1's auc: 0.801623\n",
      "[800]\ttraining's auc: 0.807433\tvalid_1's auc: 0.801731\n",
      "[900]\ttraining's auc: 0.808168\tvalid_1's auc: 0.801832\n",
      "[1000]\ttraining's auc: 0.808927\tvalid_1's auc: 0.801876\n",
      "[1100]\ttraining's auc: 0.809713\tvalid_1's auc: 0.801889\n",
      "[1200]\ttraining's auc: 0.810465\tvalid_1's auc: 0.801905\n",
      "[1300]\ttraining's auc: 0.811249\tvalid_1's auc: 0.801943\n",
      "[1400]\ttraining's auc: 0.812058\tvalid_1's auc: 0.801952\n",
      "Early stopping, best iteration is:\n",
      "[1225]\ttraining's auc: 0.810723\tvalid_1's auc: 0.801985\n"
     ]
    },
    {
     "name": "stderr",
     "output_type": "stream",
     "text": [
      "/home/sakhtar0092/anaconda2/lib/python2.7/site-packages/ipykernel_launcher.py:13: SettingWithCopyWarning: \n",
      "A value is trying to be set on a copy of a slice from a DataFrame.\n",
      "Try using .loc[row_indexer,col_indexer] = value instead\n",
      "\n",
      "See the caveats in the documentation: http://pandas.pydata.org/pandas-docs/stable/indexing.html#indexing-view-versus-copy\n",
      "  del sys.path[0]\n",
      "/home/sakhtar0092/anaconda2/lib/python2.7/site-packages/ipykernel_launcher.py:14: SettingWithCopyWarning: \n",
      "A value is trying to be set on a copy of a slice from a DataFrame.\n",
      "Try using .loc[row_indexer,col_indexer] = value instead\n",
      "\n",
      "See the caveats in the documentation: http://pandas.pydata.org/pandas-docs/stable/indexing.html#indexing-view-versus-copy\n",
      "  \n"
     ]
    },
    {
     "name": "stdout",
     "output_type": "stream",
     "text": [
      "Overall ROC: 0.801435284036,  Mean ROC: 0.801527531556, STD AUC: 0.00478079271801\n"
     ]
    },
    {
     "name": "stderr",
     "output_type": "stream",
     "text": [
      "/home/sakhtar0092/anaconda2/lib/python2.7/site-packages/ipykernel_launcher.py:15: SettingWithCopyWarning: \n",
      "A value is trying to be set on a copy of a slice from a DataFrame.\n",
      "Try using .loc[row_indexer,col_indexer] = value instead\n",
      "\n",
      "See the caveats in the documentation: http://pandas.pydata.org/pandas-docs/stable/indexing.html#indexing-view-versus-copy\n",
      "  from ipykernel import kernelapp as app\n"
     ]
    }
   ],
   "source": [
    "meta_train = np.zeros(train.shape[0])\n",
    "meta_test = []\n",
    "feature_importance = pd.DataFrame(columns = [\"feature\",\"split\",\"gain\"])\n",
    "fold_roc = []\n",
    "\n",
    "kf = StratifiedKFold(n_splits= 10, shuffle=True, random_state=12323)\n",
    "for fold_id, (train_index, test_index) in enumerate(kf.split(train, target)):\n",
    "    x_train, x_test = train.iloc[train_index], train.iloc[test_index]\n",
    "    y_train, y_test = target[train_index], target[test_index]\n",
    "\n",
    "    model_tree(x_train, x_test, y_train, y_test, test, meta_train, meta_test,train_index, test_index,fold_id)\n",
    "\n",
    "test_id[\"TARGET\"] = np.array(meta_test).T.mean(axis=1)\n",
    "test_id_rank[\"TARGET\"] = pd.DataFrame(np.array(meta_test).T).rank(pct = True).mean(axis=1)\n",
    "train_id[\"TARGET\"] = meta_train\n",
    "\n",
    "print \"Overall ROC: {},  Mean ROC: {}, STD AUC: {}\".format(roc_auc_score(target, meta_train), np.mean(fold_roc), np.std(fold_roc))"
   ]
  },
  {
   "cell_type": "code",
   "execution_count": 11,
   "metadata": {
    "collapsed": true
   },
   "outputs": [],
   "source": [
    "train_id.to_csv(\"csv/{}_train.csv\".format(model_name), index=False)\n",
    "test_id.to_csv(\"csv/{}_test.csv\".format(model_name), index=False)\n",
    "test_id_rank.to_csv(\"csv/{}_rank_test.csv\".format(model_name), index=False)"
   ]
  },
  {
   "cell_type": "code",
   "execution_count": 12,
   "metadata": {},
   "outputs": [
    {
     "data": {
      "text/plain": [
       "[0.800357254759511,\n",
       " 0.7959342389901904,\n",
       " 0.8078011877348801,\n",
       " 0.79264869021191,\n",
       " 0.8080304876086393,\n",
       " 0.7978070712903822,\n",
       " 0.8052751638598531,\n",
       " 0.8042170644346098,\n",
       " 0.801219309664935,\n",
       " 0.8019848470042749]"
      ]
     },
     "execution_count": 12,
     "metadata": {},
     "output_type": "execute_result"
    }
   ],
   "source": [
    "fold_roc"
   ]
  },
  {
   "cell_type": "code",
   "execution_count": null,
   "metadata": {
    "collapsed": true
   },
   "outputs": [],
   "source": []
  },
  {
   "cell_type": "code",
   "execution_count": null,
   "metadata": {
    "collapsed": true
   },
   "outputs": [],
   "source": []
  },
  {
   "cell_type": "code",
   "execution_count": null,
   "metadata": {
    "collapsed": true
   },
   "outputs": [],
   "source": []
  },
  {
   "cell_type": "code",
   "execution_count": null,
   "metadata": {
    "collapsed": true
   },
   "outputs": [],
   "source": []
  },
  {
   "cell_type": "code",
   "execution_count": null,
   "metadata": {
    "collapsed": true
   },
   "outputs": [],
   "source": []
  },
  {
   "cell_type": "code",
   "execution_count": null,
   "metadata": {
    "collapsed": true
   },
   "outputs": [],
   "source": []
  },
  {
   "cell_type": "code",
   "execution_count": null,
   "metadata": {
    "collapsed": true
   },
   "outputs": [],
   "source": [
    "-"
   ]
  }
 ],
 "metadata": {
  "kernelspec": {
   "display_name": "Python 2",
   "language": "python",
   "name": "python2"
  },
  "language_info": {
   "codemirror_mode": {
    "name": "ipython",
    "version": 2
   },
   "file_extension": ".py",
   "mimetype": "text/x-python",
   "name": "python",
   "nbconvert_exporter": "python",
   "pygments_lexer": "ipython2",
   "version": "2.7.14"
  }
 },
 "nbformat": 4,
 "nbformat_minor": 2
}
